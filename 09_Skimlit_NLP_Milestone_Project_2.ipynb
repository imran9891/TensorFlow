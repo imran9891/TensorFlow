{
  "nbformat": 4,
  "nbformat_minor": 0,
  "metadata": {
    "colab": {
      "name": "09_Skimlit_NLP_Milestone_Project_2.ipynb",
      "provenance": [],
      "mount_file_id": "1WI0HWtxnlgE34hLvQ0H9WZBboYKJnnnU",
      "authorship_tag": "ABX9TyMc7XTkZ9hzE3BFSC/12dg9",
      "include_colab_link": true
    },
    "kernelspec": {
      "name": "python3",
      "display_name": "Python 3"
    },
    "language_info": {
      "name": "python"
    },
    "accelerator": "GPU"
  },
  "cells": [
    {
      "cell_type": "markdown",
      "metadata": {
        "id": "view-in-github",
        "colab_type": "text"
      },
      "source": [
        "<a href=\"https://colab.research.google.com/github/imran9891/TensorFlow/blob/main/09_Skimlit_NLP_Milestone_Project_2.ipynb\" target=\"_parent\"><img src=\"https://colab.research.google.com/assets/colab-badge.svg\" alt=\"Open In Colab\"/></a>"
      ]
    },
    {
      "cell_type": "markdown",
      "metadata": {
        "id": "pyXfs9lfmFvr"
      },
      "source": [
        "# Milestone Project 2: Skimlit\n",
        "\n",
        "The purpose of this notebook is to build an NLP model to make reading medical abstracts easier.\n",
        "\n",
        "The paper we're replicating (the source of the dataset that we'll be using) is available here: https://arxiv.org/abs/1710.06071\n",
        "\n",
        "And reading through the paper above, we see that the model architecture that they use to achieve their best results is availabel here: https://arxiv.org/abs/1612.05251\n",
        "\n",
        "**Resource:** If we want to find the ground truth for this notebook (with lots of diagrams and text annotations) see the Github: https://github.com/mrdbourke/tensorflow-deep-learning/blob/main/09_SkimLit_nlp_milestone_project_2.ipynb\n"
      ]
    },
    {
      "cell_type": "markdown",
      "metadata": {
        "id": "BXtTHOIencVx"
      },
      "source": [
        "## Confirm access to GPU"
      ]
    },
    {
      "cell_type": "code",
      "metadata": {
        "colab": {
          "base_uri": "https://localhost:8080/"
        },
        "id": "a3gIn48uz3NT",
        "outputId": "7f71557e-1a9d-41da-82cd-c5b34940351b"
      },
      "source": [
        "!nvidia-smi -L"
      ],
      "execution_count": 1,
      "outputs": [
        {
          "output_type": "stream",
          "name": "stdout",
          "text": [
            "GPU 0: Tesla K80 (UUID: GPU-da384333-34d6-1bc6-eab8-9c7312d518be)\n"
          ]
        }
      ]
    },
    {
      "cell_type": "markdown",
      "metadata": {
        "id": "vX1VjLhJz-6-"
      },
      "source": [
        "## Getting the data\n",
        "\n",
        "Since we'll be replicating the paper above (PubMed 200k RCT), let's download the dataset they used.\n",
        "\n",
        "We can do so from the authords Github: https://github.com/Franck-Dernoncourt/pubmed-rct"
      ]
    },
    {
      "cell_type": "code",
      "metadata": {
        "colab": {
          "base_uri": "https://localhost:8080/"
        },
        "id": "PrCXXrEP040N",
        "outputId": "a1aa0de0-267a-4de3-8456-51f1a81baa8c"
      },
      "source": [
        "!git clone https://github.com/Franck-Dernoncourt/pubmed-rct.git"
      ],
      "execution_count": 2,
      "outputs": [
        {
          "output_type": "stream",
          "name": "stdout",
          "text": [
            "Cloning into 'pubmed-rct'...\n",
            "remote: Enumerating objects: 33, done.\u001b[K\n",
            "remote: Counting objects: 100% (3/3), done.\u001b[K\n",
            "remote: Compressing objects: 100% (3/3), done.\u001b[K\n",
            "remote: Total 33 (delta 0), reused 0 (delta 0), pack-reused 30\u001b[K\n",
            "Unpacking objects: 100% (33/33), done.\n"
          ]
        }
      ]
    },
    {
      "cell_type": "code",
      "metadata": {
        "colab": {
          "base_uri": "https://localhost:8080/"
        },
        "id": "SIEpDnTrMzat",
        "outputId": "9709ca95-ed83-4ecb-8649-853fa04476e4"
      },
      "source": [
        "!ls pubmed-rct"
      ],
      "execution_count": 3,
      "outputs": [
        {
          "output_type": "stream",
          "name": "stdout",
          "text": [
            "PubMed_200k_RCT\n",
            "PubMed_200k_RCT_numbers_replaced_with_at_sign\n",
            "PubMed_20k_RCT\n",
            "PubMed_20k_RCT_numbers_replaced_with_at_sign\n",
            "README.md\n"
          ]
        }
      ]
    },
    {
      "cell_type": "code",
      "metadata": {
        "colab": {
          "base_uri": "https://localhost:8080/"
        },
        "id": "EAL7jStZ2xi2",
        "outputId": "015878c8-bfe8-474d-8933-8f8c09f796a2"
      },
      "source": [
        "# Check what files are in the PubMed_20K dataset\n",
        "!ls pubmed-rct/PubMed_20k_RCT_numbers_replaced_with_at_sign/"
      ],
      "execution_count": 4,
      "outputs": [
        {
          "output_type": "stream",
          "name": "stdout",
          "text": [
            "dev.txt  test.txt  train.txt\n"
          ]
        }
      ]
    },
    {
      "cell_type": "markdown",
      "metadata": {
        "id": "J5SXEy0g7BOF"
      },
      "source": [
        "## Becoming one with the data"
      ]
    },
    {
      "cell_type": "code",
      "metadata": {
        "id": "5_0q4s5V3jyI"
      },
      "source": [
        "# Start our experiments using the 20k dataset with numbers replaced by the '@' sign\n",
        "data_dir = \"pubmed-rct/PubMed_20k_RCT_numbers_replaced_with_at_sign/\""
      ],
      "execution_count": 5,
      "outputs": []
    },
    {
      "cell_type": "code",
      "metadata": {
        "colab": {
          "base_uri": "https://localhost:8080/"
        },
        "id": "opDIdmpK5gca",
        "outputId": "dab0b4d3-4818-4827-c5e1-de8ffac8b77a"
      },
      "source": [
        "# Check all of the filenames in the target directory\n",
        "import os\n",
        "filenames = [data_dir + filename for filename in os.listdir(data_dir)]\n",
        "filenames"
      ],
      "execution_count": 6,
      "outputs": [
        {
          "output_type": "execute_result",
          "data": {
            "text/plain": [
              "['pubmed-rct/PubMed_20k_RCT_numbers_replaced_with_at_sign/train.txt',\n",
              " 'pubmed-rct/PubMed_20k_RCT_numbers_replaced_with_at_sign/test.txt',\n",
              " 'pubmed-rct/PubMed_20k_RCT_numbers_replaced_with_at_sign/dev.txt']"
            ]
          },
          "metadata": {},
          "execution_count": 6
        }
      ]
    },
    {
      "cell_type": "markdown",
      "metadata": {
        "id": "txB9jaNA6EC6"
      },
      "source": [
        "## Preprocess data\n",
        "\n",
        "Now we've got some text data, it's time to become one with it.\n",
        "\n",
        "So, with that in mind, let's write a function to read in all of the lines of a target text file."
      ]
    },
    {
      "cell_type": "code",
      "metadata": {
        "id": "lcx5YMT87__6"
      },
      "source": [
        "# Create function to read the lines of a document\n",
        "def get_lines(filename):\n",
        "  \"\"\"\n",
        "  Reads filename (a text filename) and returns the lines of text as a list.\n",
        "\n",
        "  Args:\n",
        "    filename: a string containing the target filepath.\n",
        "\n",
        "  Returns:\n",
        "    A list of strings with one string per line from the target filenames.\n",
        "  \"\"\"\n",
        "  with open(filename, mode=\"r\") as f:\n",
        "    return f.readlines()"
      ],
      "execution_count": 7,
      "outputs": []
    },
    {
      "cell_type": "code",
      "metadata": {
        "colab": {
          "base_uri": "https://localhost:8080/"
        },
        "id": "S3gPbqUa85-E",
        "outputId": "d322ebfb-90d3-48cb-cecb-9832a74dbfc7"
      },
      "source": [
        "# Let's read in the training lines\n",
        "train_lines= get_lines(filenames[0]) # read the lines within the training file\n",
        "train_lines[:27]"
      ],
      "execution_count": 8,
      "outputs": [
        {
          "output_type": "execute_result",
          "data": {
            "text/plain": [
              "['###24293578\\n',\n",
              " 'OBJECTIVE\\tTo investigate the efficacy of @ weeks of daily low-dose oral prednisolone in improving pain , mobility , and systemic low-grade inflammation in the short term and whether the effect would be sustained at @ weeks in older adults with moderate to severe knee osteoarthritis ( OA ) .\\n',\n",
              " 'METHODS\\tA total of @ patients with primary knee OA were randomized @:@ ; @ received @ mg/day of prednisolone and @ received placebo for @ weeks .\\n',\n",
              " 'METHODS\\tOutcome measures included pain reduction and improvement in function scores and systemic inflammation markers .\\n',\n",
              " 'METHODS\\tPain was assessed using the visual analog pain scale ( @-@ mm ) .\\n',\n",
              " 'METHODS\\tSecondary outcome measures included the Western Ontario and McMaster Universities Osteoarthritis Index scores , patient global assessment ( PGA ) of the severity of knee OA , and @-min walk distance ( @MWD ) .\\n',\n",
              " 'METHODS\\tSerum levels of interleukin @ ( IL-@ ) , IL-@ , tumor necrosis factor ( TNF ) - , and high-sensitivity C-reactive protein ( hsCRP ) were measured .\\n',\n",
              " 'RESULTS\\tThere was a clinically relevant reduction in the intervention group compared to the placebo group for knee pain , physical function , PGA , and @MWD at @ weeks .\\n',\n",
              " 'RESULTS\\tThe mean difference between treatment arms ( @ % CI ) was @ ( @-@ @ ) , p < @ ; @ ( @-@ @ ) , p < @ ; @ ( @-@ @ ) , p < @ ; and @ ( @-@ @ ) , p < @ , respectively .\\n',\n",
              " 'RESULTS\\tFurther , there was a clinically relevant reduction in the serum levels of IL-@ , IL-@ , TNF - , and hsCRP at @ weeks in the intervention group when compared to the placebo group .\\n',\n",
              " 'RESULTS\\tThese differences remained significant at @ weeks .\\n',\n",
              " 'RESULTS\\tThe Outcome Measures in Rheumatology Clinical Trials-Osteoarthritis Research Society International responder rate was @ % in the intervention group and @ % in the placebo group ( p < @ ) .\\n',\n",
              " 'CONCLUSIONS\\tLow-dose oral prednisolone had both a short-term and a longer sustained effect resulting in less knee pain , better physical function , and attenuation of systemic inflammation in older patients with knee OA ( ClinicalTrials.gov identifier NCT@ ) .\\n',\n",
              " '\\n',\n",
              " '###24854809\\n',\n",
              " 'BACKGROUND\\tEmotional eating is associated with overeating and the development of obesity .\\n',\n",
              " 'BACKGROUND\\tYet , empirical evidence for individual ( trait ) differences in emotional eating and cognitive mechanisms that contribute to eating during sad mood remain equivocal .\\n',\n",
              " 'OBJECTIVE\\tThe aim of this study was to test if attention bias for food moderates the effect of self-reported emotional eating during sad mood ( vs neutral mood ) on actual food intake .\\n',\n",
              " 'OBJECTIVE\\tIt was expected that emotional eating is predictive of elevated attention for food and higher food intake after an experimentally induced sad mood and that attentional maintenance on food predicts food intake during a sad versus a neutral mood .\\n',\n",
              " 'METHODS\\tParticipants ( N = @ ) were randomly assigned to one of the two experimental mood induction conditions ( sad/neutral ) .\\n',\n",
              " 'METHODS\\tAttentional biases for high caloric foods were measured by eye tracking during a visual probe task with pictorial food and neutral stimuli .\\n',\n",
              " 'METHODS\\tSelf-reported emotional eating was assessed with the Dutch Eating Behavior Questionnaire ( DEBQ ) and ad libitum food intake was tested by a disguised food offer .\\n',\n",
              " 'RESULTS\\tHierarchical multivariate regression modeling showed that self-reported emotional eating did not account for changes in attention allocation for food or food intake in either condition .\\n',\n",
              " 'RESULTS\\tYet , attention maintenance on food cues was significantly related to increased intake specifically in the neutral condition , but not in the sad mood condition .\\n',\n",
              " 'CONCLUSIONS\\tThe current findings show that self-reported emotional eating ( based on the DEBQ ) might not validly predict who overeats when sad , at least not in a laboratory setting with healthy women .\\n',\n",
              " 'CONCLUSIONS\\tResults further suggest that attention maintenance on food relates to eating motivation when in a neutral affective state , and might therefore be a cognitive mechanism contributing to increased food intake in general , but maybe not during sad mood .\\n',\n",
              " '\\n']"
            ]
          },
          "metadata": {},
          "execution_count": 8
        }
      ]
    },
    {
      "cell_type": "code",
      "metadata": {
        "colab": {
          "base_uri": "https://localhost:8080/"
        },
        "id": "w7ALuD0h9Go5",
        "outputId": "edd87a75-5f24-44d6-ece6-45a7b85c7b6d"
      },
      "source": [
        "len(train_lines)"
      ],
      "execution_count": 9,
      "outputs": [
        {
          "output_type": "execute_result",
          "data": {
            "text/plain": [
              "210040"
            ]
          },
          "metadata": {},
          "execution_count": 9
        }
      ]
    },
    {
      "cell_type": "markdown",
      "metadata": {
        "id": "XyuUGRuu9648"
      },
      "source": [
        "# Let's think about how we want our data to look...\n",
        "\n",
        "How I think our data would be best represented...\n",
        "\n",
        "```\n",
        "[{'line_number':0,\n",
        "   'target': 'BACKGROUND',\n",
        "   'text': \"Emotional eating is associated with overeating and the development of obesity .\\n\",\n",
        "   'total_lines': 11},\n",
        "   ...]\n",
        "```"
      ]
    },
    {
      "cell_type": "code",
      "metadata": {
        "id": "SJnmjd6--KNL"
      },
      "source": [
        "# Creating a function to convert text into dictionaries\n",
        "def preprocess_text_with_line_numbers(filename):\n",
        "  \"\"\"\n",
        "  Returns a list of dictionaries of abstract line data.\n",
        "\n",
        "  Args:\n",
        "    filename: Takes in filename, reads it contents and sorts through each line,\n",
        "    extracting things like the target label, the text of the sentence, how many\n",
        "    sentences are in the current abstract and what sentence number the target\n",
        "    line is.\n",
        "  \"\"\"\n",
        "  input_lines = get_lines(filename) # get all lines from filename\n",
        "  abstract_lines = \"\" # create an empty abstract\n",
        "  abstract_samples = [] # create an empty list of abstracts\n",
        "\n",
        "  # Loop through each line in the target file\n",
        "  for line in input_lines:\n",
        "    if line.startswith(\"###\"): # check to see if the line is an ID line\n",
        "      abstract_id = line \n",
        "      abstract_lines = \"\" # reset the abstract string if the line is an ID line\n",
        "    elif line.isspace(): # check to see if line is a new line\n",
        "      abstract_line_split = abstract_lines.splitlines() # split abstract into separate lines\n",
        "    \n",
        "      # Iterate through each line in a single abstract and count them at the same time\n",
        "      for abstract_line_number, abstract_line in enumerate(abstract_line_split):\n",
        "        line_data = {} # create an empty dictionary for each line\n",
        "        target_text_split = abstract_line.split(\"\\t\") # split target label from text\n",
        "        line_data[\"target\"] = target_text_split[0] # get target label\n",
        "        line_data[\"text\"] = target_text_split[1].lower() # get target text and lower it\n",
        "        line_data[\"line_number\"] = abstract_line_number # what number line does the line apper in the abstract\n",
        "        line_data[\"total line\"] = len(abstract_line_split)-1 # how many total lines are there in the target abstract?  (start from 0)\n",
        "        abstract_samples.append(line_data) # add line data to abstract samples list\n",
        "\n",
        "    else: # if the above conditions aren't fulfilled, the line contains a labelled sentence\n",
        "      abstract_lines += line\n",
        "\n",
        "  return abstract_samples"
      ],
      "execution_count": 10,
      "outputs": []
    },
    {
      "cell_type": "code",
      "metadata": {
        "colab": {
          "base_uri": "https://localhost:8080/"
        },
        "id": "dyQdY3PGNbbZ",
        "outputId": "8f72de77-2599-434a-8af8-9e22b2b2e12b"
      },
      "source": [
        "# Get data from file and preprocess it\n",
        "%%time\n",
        "train_samples = preprocess_text_with_line_numbers(filenames[0])\n",
        "val_samples = preprocess_text_with_line_numbers(filenames[1])\n",
        "test_samples = preprocess_text_with_line_numbers(filenames[2])\n",
        "print(len(train_samples), len(val_samples), len(test_samples))"
      ],
      "execution_count": 11,
      "outputs": [
        {
          "output_type": "stream",
          "name": "stdout",
          "text": [
            "180040 30135 30212\n",
            "CPU times: user 558 ms, sys: 98.5 ms, total: 656 ms\n",
            "Wall time: 659 ms\n"
          ]
        }
      ]
    },
    {
      "cell_type": "code",
      "metadata": {
        "colab": {
          "base_uri": "https://localhost:8080/"
        },
        "id": "CY2pW5_4iw6M",
        "outputId": "f3b3dfe9-3580-4ce2-e101-0b255cad113e"
      },
      "source": [
        "# Check the first abstract of the training data\n",
        "train_samples[:20]"
      ],
      "execution_count": 12,
      "outputs": [
        {
          "output_type": "execute_result",
          "data": {
            "text/plain": [
              "[{'line_number': 0,\n",
              "  'target': 'OBJECTIVE',\n",
              "  'text': 'to investigate the efficacy of @ weeks of daily low-dose oral prednisolone in improving pain , mobility , and systemic low-grade inflammation in the short term and whether the effect would be sustained at @ weeks in older adults with moderate to severe knee osteoarthritis ( oa ) .',\n",
              "  'total line': 11},\n",
              " {'line_number': 1,\n",
              "  'target': 'METHODS',\n",
              "  'text': 'a total of @ patients with primary knee oa were randomized @:@ ; @ received @ mg/day of prednisolone and @ received placebo for @ weeks .',\n",
              "  'total line': 11},\n",
              " {'line_number': 2,\n",
              "  'target': 'METHODS',\n",
              "  'text': 'outcome measures included pain reduction and improvement in function scores and systemic inflammation markers .',\n",
              "  'total line': 11},\n",
              " {'line_number': 3,\n",
              "  'target': 'METHODS',\n",
              "  'text': 'pain was assessed using the visual analog pain scale ( @-@ mm ) .',\n",
              "  'total line': 11},\n",
              " {'line_number': 4,\n",
              "  'target': 'METHODS',\n",
              "  'text': 'secondary outcome measures included the western ontario and mcmaster universities osteoarthritis index scores , patient global assessment ( pga ) of the severity of knee oa , and @-min walk distance ( @mwd ) .',\n",
              "  'total line': 11},\n",
              " {'line_number': 5,\n",
              "  'target': 'METHODS',\n",
              "  'text': 'serum levels of interleukin @ ( il-@ ) , il-@ , tumor necrosis factor ( tnf ) - , and high-sensitivity c-reactive protein ( hscrp ) were measured .',\n",
              "  'total line': 11},\n",
              " {'line_number': 6,\n",
              "  'target': 'RESULTS',\n",
              "  'text': 'there was a clinically relevant reduction in the intervention group compared to the placebo group for knee pain , physical function , pga , and @mwd at @ weeks .',\n",
              "  'total line': 11},\n",
              " {'line_number': 7,\n",
              "  'target': 'RESULTS',\n",
              "  'text': 'the mean difference between treatment arms ( @ % ci ) was @ ( @-@ @ ) , p < @ ; @ ( @-@ @ ) , p < @ ; @ ( @-@ @ ) , p < @ ; and @ ( @-@ @ ) , p < @ , respectively .',\n",
              "  'total line': 11},\n",
              " {'line_number': 8,\n",
              "  'target': 'RESULTS',\n",
              "  'text': 'further , there was a clinically relevant reduction in the serum levels of il-@ , il-@ , tnf - , and hscrp at @ weeks in the intervention group when compared to the placebo group .',\n",
              "  'total line': 11},\n",
              " {'line_number': 9,\n",
              "  'target': 'RESULTS',\n",
              "  'text': 'these differences remained significant at @ weeks .',\n",
              "  'total line': 11},\n",
              " {'line_number': 10,\n",
              "  'target': 'RESULTS',\n",
              "  'text': 'the outcome measures in rheumatology clinical trials-osteoarthritis research society international responder rate was @ % in the intervention group and @ % in the placebo group ( p < @ ) .',\n",
              "  'total line': 11},\n",
              " {'line_number': 11,\n",
              "  'target': 'CONCLUSIONS',\n",
              "  'text': 'low-dose oral prednisolone had both a short-term and a longer sustained effect resulting in less knee pain , better physical function , and attenuation of systemic inflammation in older patients with knee oa ( clinicaltrials.gov identifier nct@ ) .',\n",
              "  'total line': 11},\n",
              " {'line_number': 0,\n",
              "  'target': 'BACKGROUND',\n",
              "  'text': 'emotional eating is associated with overeating and the development of obesity .',\n",
              "  'total line': 10},\n",
              " {'line_number': 1,\n",
              "  'target': 'BACKGROUND',\n",
              "  'text': 'yet , empirical evidence for individual ( trait ) differences in emotional eating and cognitive mechanisms that contribute to eating during sad mood remain equivocal .',\n",
              "  'total line': 10},\n",
              " {'line_number': 2,\n",
              "  'target': 'OBJECTIVE',\n",
              "  'text': 'the aim of this study was to test if attention bias for food moderates the effect of self-reported emotional eating during sad mood ( vs neutral mood ) on actual food intake .',\n",
              "  'total line': 10},\n",
              " {'line_number': 3,\n",
              "  'target': 'OBJECTIVE',\n",
              "  'text': 'it was expected that emotional eating is predictive of elevated attention for food and higher food intake after an experimentally induced sad mood and that attentional maintenance on food predicts food intake during a sad versus a neutral mood .',\n",
              "  'total line': 10},\n",
              " {'line_number': 4,\n",
              "  'target': 'METHODS',\n",
              "  'text': 'participants ( n = @ ) were randomly assigned to one of the two experimental mood induction conditions ( sad/neutral ) .',\n",
              "  'total line': 10},\n",
              " {'line_number': 5,\n",
              "  'target': 'METHODS',\n",
              "  'text': 'attentional biases for high caloric foods were measured by eye tracking during a visual probe task with pictorial food and neutral stimuli .',\n",
              "  'total line': 10},\n",
              " {'line_number': 6,\n",
              "  'target': 'METHODS',\n",
              "  'text': 'self-reported emotional eating was assessed with the dutch eating behavior questionnaire ( debq ) and ad libitum food intake was tested by a disguised food offer .',\n",
              "  'total line': 10},\n",
              " {'line_number': 7,\n",
              "  'target': 'RESULTS',\n",
              "  'text': 'hierarchical multivariate regression modeling showed that self-reported emotional eating did not account for changes in attention allocation for food or food intake in either condition .',\n",
              "  'total line': 10}]"
            ]
          },
          "metadata": {},
          "execution_count": 12
        }
      ]
    },
    {
      "cell_type": "markdown",
      "metadata": {
        "id": "ru0kWD-oz9MQ"
      },
      "source": [
        "Now that our data is in the format of a list of dictionaries, how about we turn it into a DataFrame to further visualize it?"
      ]
    },
    {
      "cell_type": "code",
      "metadata": {
        "id": "SZu2FisEQvJq"
      },
      "source": [
        "import pandas as pd\n",
        "train_df = pd.DataFrame(train_samples)\n",
        "val_df = pd.DataFrame(val_samples)\n",
        "test_df = pd.DataFrame(test_samples)"
      ],
      "execution_count": 13,
      "outputs": []
    },
    {
      "cell_type": "code",
      "metadata": {
        "colab": {
          "base_uri": "https://localhost:8080/",
          "height": 514
        },
        "id": "j5la0wcFRDiH",
        "outputId": "dcc8439b-dbb5-4924-a986-8a874cc9c2a8"
      },
      "source": [
        "train_df.head(15)"
      ],
      "execution_count": 14,
      "outputs": [
        {
          "output_type": "execute_result",
          "data": {
            "text/html": [
              "<div>\n",
              "<style scoped>\n",
              "    .dataframe tbody tr th:only-of-type {\n",
              "        vertical-align: middle;\n",
              "    }\n",
              "\n",
              "    .dataframe tbody tr th {\n",
              "        vertical-align: top;\n",
              "    }\n",
              "\n",
              "    .dataframe thead th {\n",
              "        text-align: right;\n",
              "    }\n",
              "</style>\n",
              "<table border=\"1\" class=\"dataframe\">\n",
              "  <thead>\n",
              "    <tr style=\"text-align: right;\">\n",
              "      <th></th>\n",
              "      <th>target</th>\n",
              "      <th>text</th>\n",
              "      <th>line_number</th>\n",
              "      <th>total line</th>\n",
              "    </tr>\n",
              "  </thead>\n",
              "  <tbody>\n",
              "    <tr>\n",
              "      <th>0</th>\n",
              "      <td>OBJECTIVE</td>\n",
              "      <td>to investigate the efficacy of @ weeks of dail...</td>\n",
              "      <td>0</td>\n",
              "      <td>11</td>\n",
              "    </tr>\n",
              "    <tr>\n",
              "      <th>1</th>\n",
              "      <td>METHODS</td>\n",
              "      <td>a total of @ patients with primary knee oa wer...</td>\n",
              "      <td>1</td>\n",
              "      <td>11</td>\n",
              "    </tr>\n",
              "    <tr>\n",
              "      <th>2</th>\n",
              "      <td>METHODS</td>\n",
              "      <td>outcome measures included pain reduction and i...</td>\n",
              "      <td>2</td>\n",
              "      <td>11</td>\n",
              "    </tr>\n",
              "    <tr>\n",
              "      <th>3</th>\n",
              "      <td>METHODS</td>\n",
              "      <td>pain was assessed using the visual analog pain...</td>\n",
              "      <td>3</td>\n",
              "      <td>11</td>\n",
              "    </tr>\n",
              "    <tr>\n",
              "      <th>4</th>\n",
              "      <td>METHODS</td>\n",
              "      <td>secondary outcome measures included the wester...</td>\n",
              "      <td>4</td>\n",
              "      <td>11</td>\n",
              "    </tr>\n",
              "    <tr>\n",
              "      <th>5</th>\n",
              "      <td>METHODS</td>\n",
              "      <td>serum levels of interleukin @ ( il-@ ) , il-@ ...</td>\n",
              "      <td>5</td>\n",
              "      <td>11</td>\n",
              "    </tr>\n",
              "    <tr>\n",
              "      <th>6</th>\n",
              "      <td>RESULTS</td>\n",
              "      <td>there was a clinically relevant reduction in t...</td>\n",
              "      <td>6</td>\n",
              "      <td>11</td>\n",
              "    </tr>\n",
              "    <tr>\n",
              "      <th>7</th>\n",
              "      <td>RESULTS</td>\n",
              "      <td>the mean difference between treatment arms ( @...</td>\n",
              "      <td>7</td>\n",
              "      <td>11</td>\n",
              "    </tr>\n",
              "    <tr>\n",
              "      <th>8</th>\n",
              "      <td>RESULTS</td>\n",
              "      <td>further , there was a clinically relevant redu...</td>\n",
              "      <td>8</td>\n",
              "      <td>11</td>\n",
              "    </tr>\n",
              "    <tr>\n",
              "      <th>9</th>\n",
              "      <td>RESULTS</td>\n",
              "      <td>these differences remained significant at @ we...</td>\n",
              "      <td>9</td>\n",
              "      <td>11</td>\n",
              "    </tr>\n",
              "    <tr>\n",
              "      <th>10</th>\n",
              "      <td>RESULTS</td>\n",
              "      <td>the outcome measures in rheumatology clinical ...</td>\n",
              "      <td>10</td>\n",
              "      <td>11</td>\n",
              "    </tr>\n",
              "    <tr>\n",
              "      <th>11</th>\n",
              "      <td>CONCLUSIONS</td>\n",
              "      <td>low-dose oral prednisolone had both a short-te...</td>\n",
              "      <td>11</td>\n",
              "      <td>11</td>\n",
              "    </tr>\n",
              "    <tr>\n",
              "      <th>12</th>\n",
              "      <td>BACKGROUND</td>\n",
              "      <td>emotional eating is associated with overeating...</td>\n",
              "      <td>0</td>\n",
              "      <td>10</td>\n",
              "    </tr>\n",
              "    <tr>\n",
              "      <th>13</th>\n",
              "      <td>BACKGROUND</td>\n",
              "      <td>yet , empirical evidence for individual ( trai...</td>\n",
              "      <td>1</td>\n",
              "      <td>10</td>\n",
              "    </tr>\n",
              "    <tr>\n",
              "      <th>14</th>\n",
              "      <td>OBJECTIVE</td>\n",
              "      <td>the aim of this study was to test if attention...</td>\n",
              "      <td>2</td>\n",
              "      <td>10</td>\n",
              "    </tr>\n",
              "  </tbody>\n",
              "</table>\n",
              "</div>"
            ],
            "text/plain": [
              "         target  ... total line\n",
              "0     OBJECTIVE  ...         11\n",
              "1       METHODS  ...         11\n",
              "2       METHODS  ...         11\n",
              "3       METHODS  ...         11\n",
              "4       METHODS  ...         11\n",
              "5       METHODS  ...         11\n",
              "6       RESULTS  ...         11\n",
              "7       RESULTS  ...         11\n",
              "8       RESULTS  ...         11\n",
              "9       RESULTS  ...         11\n",
              "10      RESULTS  ...         11\n",
              "11  CONCLUSIONS  ...         11\n",
              "12   BACKGROUND  ...         10\n",
              "13   BACKGROUND  ...         10\n",
              "14    OBJECTIVE  ...         10\n",
              "\n",
              "[15 rows x 4 columns]"
            ]
          },
          "metadata": {},
          "execution_count": 14
        }
      ]
    },
    {
      "cell_type": "code",
      "metadata": {
        "colab": {
          "base_uri": "https://localhost:8080/"
        },
        "id": "Zk8fZzq_RIxm",
        "outputId": "44bb156d-94f2-491a-e1a0-e6581b70364f"
      },
      "source": [
        "# Check the distribution of labels\n",
        "train_df.target.value_counts()"
      ],
      "execution_count": 15,
      "outputs": [
        {
          "output_type": "execute_result",
          "data": {
            "text/plain": [
              "METHODS        59353\n",
              "RESULTS        57953\n",
              "CONCLUSIONS    27168\n",
              "BACKGROUND     21727\n",
              "OBJECTIVE      13839\n",
              "Name: target, dtype: int64"
            ]
          },
          "metadata": {},
          "execution_count": 15
        }
      ]
    },
    {
      "cell_type": "code",
      "metadata": {
        "colab": {
          "base_uri": "https://localhost:8080/",
          "height": 267
        },
        "id": "QJxbOWDjRz-0",
        "outputId": "5102aca8-b058-4c69-d24b-f331d56b3afa"
      },
      "source": [
        "# Check the length of different lines\n",
        "train_df[\"total line\"].plot.hist();"
      ],
      "execution_count": 16,
      "outputs": [
        {
          "output_type": "display_data",
          "data": {
            "image/png": "[encoded data removed]",
            "text/plain": [
              "<Figure size 432x288 with 1 Axes>"
            ]
          },
          "metadata": {
            "needs_background": "light"
          }
        }
      ]
    },
    {
      "cell_type": "markdown",
      "metadata": {
        "id": "YXuEnat6R55r"
      },
      "source": [
        "## Get list of sentences"
      ]
    },
    {
      "cell_type": "code",
      "metadata": {
        "colab": {
          "base_uri": "https://localhost:8080/"
        },
        "id": "7YxQhOdhTFpS",
        "outputId": "9fb8ad1d-065e-43ae-80ef-3d303c474472"
      },
      "source": [
        "# Getting a list of sentences from Dataframes\n",
        "train_sentences = train_df[\"text\"].to_list()\n",
        "val_sentences = val_df[\"text\"].to_list()\n",
        "test_sentences = test_df[\"text\"].to_list()\n",
        "len(train_sentences), len(val_sentences), len(test_sentences)"
      ],
      "execution_count": 17,
      "outputs": [
        {
          "output_type": "execute_result",
          "data": {
            "text/plain": [
              "(180040, 30135, 30212)"
            ]
          },
          "metadata": {},
          "execution_count": 17
        }
      ]
    },
    {
      "cell_type": "code",
      "metadata": {
        "id": "qE48Pt23Wy2R",
        "colab": {
          "base_uri": "https://localhost:8080/"
        },
        "outputId": "1eaf49ac-c316-406c-fa91-87588bf72d11"
      },
      "source": [
        "# View the 10 lines of training sentences\n",
        "train_sentences[:10]"
      ],
      "execution_count": 18,
      "outputs": [
        {
          "output_type": "execute_result",
          "data": {
            "text/plain": [
              "['to investigate the efficacy of @ weeks of daily low-dose oral prednisolone in improving pain , mobility , and systemic low-grade inflammation in the short term and whether the effect would be sustained at @ weeks in older adults with moderate to severe knee osteoarthritis ( oa ) .',\n",
              " 'a total of @ patients with primary knee oa were randomized @:@ ; @ received @ mg/day of prednisolone and @ received placebo for @ weeks .',\n",
              " 'outcome measures included pain reduction and improvement in function scores and systemic inflammation markers .',\n",
              " 'pain was assessed using the visual analog pain scale ( @-@ mm ) .',\n",
              " 'secondary outcome measures included the western ontario and mcmaster universities osteoarthritis index scores , patient global assessment ( pga ) of the severity of knee oa , and @-min walk distance ( @mwd ) .',\n",
              " 'serum levels of interleukin @ ( il-@ ) , il-@ , tumor necrosis factor ( tnf ) - , and high-sensitivity c-reactive protein ( hscrp ) were measured .',\n",
              " 'there was a clinically relevant reduction in the intervention group compared to the placebo group for knee pain , physical function , pga , and @mwd at @ weeks .',\n",
              " 'the mean difference between treatment arms ( @ % ci ) was @ ( @-@ @ ) , p < @ ; @ ( @-@ @ ) , p < @ ; @ ( @-@ @ ) , p < @ ; and @ ( @-@ @ ) , p < @ , respectively .',\n",
              " 'further , there was a clinically relevant reduction in the serum levels of il-@ , il-@ , tnf - , and hscrp at @ weeks in the intervention group when compared to the placebo group .',\n",
              " 'these differences remained significant at @ weeks .']"
            ]
          },
          "metadata": {},
          "execution_count": 18
        }
      ]
    },
    {
      "cell_type": "markdown",
      "metadata": {
        "id": "xloILkSjSKDd"
      },
      "source": [
        "## Make numeric labels (ML models require numeric labels)"
      ]
    },
    {
      "cell_type": "code",
      "metadata": {
        "colab": {
          "base_uri": "https://localhost:8080/"
        },
        "id": "9gK6rc9dSxEc",
        "outputId": "2bf35c0f-e0e7-4cb4-a719-1f24551606a1"
      },
      "source": [
        "# One hot encode labels for using Categorical Cross Entropy\n",
        "from sklearn.preprocessing import OneHotEncoder\n",
        "one_hot_encoder = OneHotEncoder(sparse=False)\n",
        "train_labels_one_hot = one_hot_encoder.fit_transform(X=train_df[\"target\"].to_numpy().reshape(-1,1))\n",
        "val_labels_one_hot = one_hot_encoder.transform(X=val_df[\"target\"].to_numpy().reshape(-1,1))\n",
        "test_labels_one_hot = one_hot_encoder.transform(X=test_df[\"target\"].to_numpy().reshape(-1,1))\n",
        "\n",
        "# Check what one hot encoded label look like\n",
        "train_labels_one_hot"
      ],
      "execution_count": 19,
      "outputs": [
        {
          "output_type": "execute_result",
          "data": {
            "text/plain": [
              "array([[0., 0., 0., 1., 0.],\n",
              "       [0., 0., 1., 0., 0.],\n",
              "       [0., 0., 1., 0., 0.],\n",
              "       ...,\n",
              "       [0., 0., 0., 0., 1.],\n",
              "       [0., 1., 0., 0., 0.],\n",
              "       [0., 1., 0., 0., 0.]])"
            ]
          },
          "metadata": {},
          "execution_count": 19
        }
      ]
    },
    {
      "cell_type": "code",
      "metadata": {
        "colab": {
          "base_uri": "https://localhost:8080/"
        },
        "id": "SkrTRu3rqYfc",
        "outputId": "904d5bee-6852-4e22-a321-756fdb6688e4"
      },
      "source": [
        "train_df[\"target\"].to_numpy()"
      ],
      "execution_count": 20,
      "outputs": [
        {
          "output_type": "execute_result",
          "data": {
            "text/plain": [
              "array(['OBJECTIVE', 'METHODS', 'METHODS', ..., 'RESULTS', 'CONCLUSIONS',\n",
              "       'CONCLUSIONS'], dtype=object)"
            ]
          },
          "metadata": {},
          "execution_count": 20
        }
      ]
    },
    {
      "cell_type": "code",
      "metadata": {
        "colab": {
          "base_uri": "https://localhost:8080/"
        },
        "id": "peR35qw3A1XJ",
        "outputId": "5d20dd03-1863-4023-d4c0-41622ee1e639"
      },
      "source": [
        "train_df[\"target\"].to_numpy().reshape(-1,1)"
      ],
      "execution_count": 21,
      "outputs": [
        {
          "output_type": "execute_result",
          "data": {
            "text/plain": [
              "array([['OBJECTIVE'],\n",
              "       ['METHODS'],\n",
              "       ['METHODS'],\n",
              "       ...,\n",
              "       ['RESULTS'],\n",
              "       ['CONCLUSIONS'],\n",
              "       ['CONCLUSIONS']], dtype=object)"
            ]
          },
          "metadata": {},
          "execution_count": 21
        }
      ]
    },
    {
      "cell_type": "markdown",
      "metadata": {
        "id": "9Hozp2cCXMA1"
      },
      "source": [
        "## Label encode labels"
      ]
    },
    {
      "cell_type": "code",
      "metadata": {
        "colab": {
          "base_uri": "https://localhost:8080/"
        },
        "id": "XLGR0XQMVor7",
        "outputId": "76ff2467-8632-429b-d496-944aa446a71d"
      },
      "source": [
        "# Extract labels (\"target\" columns) and encode them into integers\n",
        "from sklearn.preprocessing import LabelEncoder\n",
        "label_encoder = LabelEncoder()\n",
        "train_labels_encoded = label_encoder.fit_transform(train_df[\"target\"].to_numpy())\n",
        "val_labels_encoded = label_encoder.transform(val_df[\"target\"].to_numpy())\n",
        "test_labels_encoded = label_encoder.transform(test_df[\"target\"].to_numpy())\n",
        "\n",
        "# Check what training labels look like\n",
        "train_labels_encoded"
      ],
      "execution_count": 22,
      "outputs": [
        {
          "output_type": "execute_result",
          "data": {
            "text/plain": [
              "array([3, 2, 2, ..., 4, 1, 1])"
            ]
          },
          "metadata": {},
          "execution_count": 22
        }
      ]
    },
    {
      "cell_type": "code",
      "metadata": {
        "colab": {
          "base_uri": "https://localhost:8080/"
        },
        "id": "vWJ4JkbGXSbn",
        "outputId": "3d0193a5-dd7b-4db7-ca51-125f98986bba"
      },
      "source": [
        "# Get class names and number of classes from label encoder instance\n",
        "num_classes = len(label_encoder.classes_)\n",
        "class_names = label_encoder.classes_\n",
        "num_classes, class_names"
      ],
      "execution_count": 23,
      "outputs": [
        {
          "output_type": "execute_result",
          "data": {
            "text/plain": [
              "(5, array(['BACKGROUND', 'CONCLUSIONS', 'METHODS', 'OBJECTIVE', 'RESULTS'],\n",
              "       dtype=object))"
            ]
          },
          "metadata": {},
          "execution_count": 23
        }
      ]
    },
    {
      "cell_type": "code",
      "metadata": {
        "colab": {
          "base_uri": "https://localhost:8080/"
        },
        "id": "btNOJsprBSzw",
        "outputId": "d73fed35-9359-4579-ccec-61579701895f"
      },
      "source": [
        "# Get class names and number of classes from one hot encoder instance\n",
        "nc = len(one_hot_encoder.categories_[0])\n",
        "cn = one_hot_encoder.categories_\n",
        "nc,cn"
      ],
      "execution_count": 24,
      "outputs": [
        {
          "output_type": "execute_result",
          "data": {
            "text/plain": [
              "(5, [array(['BACKGROUND', 'CONCLUSIONS', 'METHODS', 'OBJECTIVE', 'RESULTS'],\n",
              "        dtype=object)])"
            ]
          },
          "metadata": {},
          "execution_count": 24
        }
      ]
    },
    {
      "cell_type": "code",
      "metadata": {
        "colab": {
          "base_uri": "https://localhost:8080/"
        },
        "id": "gG4yOdH3ByRV",
        "outputId": "b3283056-924e-49b6-c6f8-154c20051a45"
      },
      "source": [
        "class_names == cn"
      ],
      "execution_count": 25,
      "outputs": [
        {
          "output_type": "execute_result",
          "data": {
            "text/plain": [
              "array([[ True,  True,  True,  True,  True]])"
            ]
          },
          "metadata": {},
          "execution_count": 25
        }
      ]
    },
    {
      "cell_type": "markdown",
      "metadata": {
        "id": "slhL_4P-Yvg9"
      },
      "source": [
        "## Starting a series of modelling experiments\n",
        "\n",
        "As usual, we're going to be trying out a bunch of different models and seeing which one works best. And as always, we're going to start with a baseline (TF_IDF Multinomial Naive Bayes Classifier)\n",
        "\n",
        "1. Model_0: Naive Bayes with TF-IDF encoder (baseline)\n",
        "2. Model_1: Conv1D with token embeddings\n",
        "3. Model_2: TensorFlow Hub Pretrained Feature Extractor\n",
        "4. Model_3: Conv_1D with character embeddings\n",
        "5. Model_4: Pretrained token embeddings (same as 2) + character embeddings (same as 3)\n",
        "6. Model_5: Pretrained token embeddings + character embeddings + positional embeddings"
      ]
    },
    {
      "cell_type": "markdown",
      "metadata": {
        "id": "h6VNub2MdJEs"
      },
      "source": [
        "## Model 0: Baseline model (Term Frequency — Inverse Document Frequency)\n",
        "\n",
        "For more knowledge on TF-IDF see: https://towardsdatascience.com/tf-idf-for-document-ranking-from-scratch-in-python-on-real-world-dataset-796d339a4089"
      ]
    },
    {
      "cell_type": "code",
      "metadata": {
        "colab": {
          "base_uri": "https://localhost:8080/"
        },
        "id": "RSY6Gus7dLVO",
        "outputId": "7ed93b52-f9f0-47f7-95a1-21d3fd7f15fa"
      },
      "source": [
        "from sklearn.feature_extraction.text import TfidfVectorizer\n",
        "from sklearn.naive_bayes import MultinomialNB\n",
        "from sklearn.pipeline import Pipeline\n",
        "\n",
        "model_0 = Pipeline([\n",
        "    (\"tfidf\",TfidfVectorizer()),\n",
        "    (\"clf\",MultinomialNB())\n",
        "])\n",
        "model_0.fit(train_sentences,\n",
        "            train_labels_encoded)"
      ],
      "execution_count": 26,
      "outputs": [
        {
          "output_type": "execute_result",
          "data": {
            "text/plain": [
              "Pipeline(memory=None,\n",
              "         steps=[('tfidf',\n",
              "                 TfidfVectorizer(analyzer='word', binary=False,\n",
              "                                 decode_error='strict',\n",
              "                                 dtype=<class 'numpy.float64'>,\n",
              "                                 encoding='utf-8', input='content',\n",
              "                                 lowercase=True, max_df=1.0, max_features=None,\n",
              "                                 min_df=1, ngram_range=(1, 1), norm='l2',\n",
              "                                 preprocessor=None, smooth_idf=True,\n",
              "                                 stop_words=None, strip_accents=None,\n",
              "                                 sublinear_tf=False,\n",
              "                                 token_pattern='(?u)\\\\b\\\\w\\\\w+\\\\b',\n",
              "                                 tokenizer=None, use_idf=True,\n",
              "                                 vocabulary=None)),\n",
              "                ('clf',\n",
              "                 MultinomialNB(alpha=1.0, class_prior=None, fit_prior=True))],\n",
              "         verbose=False)"
            ]
          },
          "metadata": {},
          "execution_count": 26
        }
      ]
    },
    {
      "cell_type": "code",
      "metadata": {
        "colab": {
          "base_uri": "https://localhost:8080/"
        },
        "id": "cP0vG_lsePTq",
        "outputId": "d5d74267-f50b-415d-d977-ced3aef24179"
      },
      "source": [
        "model_0.score(val_sentences, val_labels_encoded)"
      ],
      "execution_count": 27,
      "outputs": [
        {
          "output_type": "execute_result",
          "data": {
            "text/plain": [
              "0.716674962667994"
            ]
          },
          "metadata": {},
          "execution_count": 27
        }
      ]
    },
    {
      "cell_type": "code",
      "metadata": {
        "colab": {
          "base_uri": "https://localhost:8080/"
        },
        "id": "hC_3_2fyix4m",
        "outputId": "e33f265c-def7-469e-c2e3-b55703c7799b"
      },
      "source": [
        "# Make predictions with the baseline model\n",
        "model_0_preds = model_0.predict(val_sentences)\n",
        "model_0_preds"
      ],
      "execution_count": 28,
      "outputs": [
        {
          "output_type": "execute_result",
          "data": {
            "text/plain": [
              "array([2, 2, 2, ..., 4, 4, 4])"
            ]
          },
          "metadata": {},
          "execution_count": 28
        }
      ]
    },
    {
      "cell_type": "code",
      "metadata": {
        "colab": {
          "base_uri": "https://localhost:8080/"
        },
        "id": "oFR91tp7i_Tc",
        "outputId": "729baa45-8d12-4795-fd37-5266abd5e5c8"
      },
      "source": [
        "# Check val labels\n",
        "val_labels_encoded"
      ],
      "execution_count": 29,
      "outputs": [
        {
          "output_type": "execute_result",
          "data": {
            "text/plain": [
              "array([0, 4, 4, ..., 4, 4, 1])"
            ]
          },
          "metadata": {},
          "execution_count": 29
        }
      ]
    },
    {
      "cell_type": "code",
      "metadata": {
        "id": "eGuSlTv3fCem"
      },
      "source": [
        "# Make predictions and return results using our baseline model\n",
        "from sklearn.metrics import accuracy_score, precision_recall_fscore_support\n",
        "def calculate_results(y_true,y_pred):\n",
        "  results = {}\n",
        "  acc_score = accuracy_score(y_true,y_pred)\n",
        "  model_precision, model_recall, model_f1, _ = precision_recall_fscore_support(y_true,y_pred,average=\"weighted\")\n",
        "  results[\"accuracy\"] = acc_score*100\n",
        "  results[\"precision\"] = model_precision\n",
        "  results[\"recall\"] = model_recall\n",
        "  results[\"f1-score\"] = model_f1\n",
        "  return results"
      ],
      "execution_count": 30,
      "outputs": []
    },
    {
      "cell_type": "code",
      "metadata": {
        "colab": {
          "base_uri": "https://localhost:8080/"
        },
        "id": "4adNkkuIfHfw",
        "outputId": "a9f59816-ab25-4f73-ab0d-f678c92dc396"
      },
      "source": [
        "# Check baseline results\n",
        "baseline_results = calculate_results(y_true=val_labels_encoded,\n",
        "                                     y_pred=model_0_preds)\n",
        "baseline_results"
      ],
      "execution_count": 31,
      "outputs": [
        {
          "output_type": "execute_result",
          "data": {
            "text/plain": [
              "{'accuracy': 71.6674962667994,\n",
              " 'f1-score': 0.6925101703856846,\n",
              " 'precision': 0.7124322482375202,\n",
              " 'recall': 0.716674962667994}"
            ]
          },
          "metadata": {},
          "execution_count": 31
        }
      ]
    },
    {
      "cell_type": "markdown",
      "metadata": {
        "id": "HwkeUqij03cs"
      },
      "source": [
        "## Preparing our data (the text) for deep sequence models\n",
        "\n",
        "Before we start building deeper models, we've got to create vectorization and embedding layers."
      ]
    },
    {
      "cell_type": "markdown",
      "metadata": {
        "id": "A1-OaliqmZqm"
      },
      "source": [
        "## Tokenization"
      ]
    },
    {
      "cell_type": "code",
      "metadata": {
        "colab": {
          "base_uri": "https://localhost:8080/"
        },
        "id": "F082IHz3TRNl",
        "outputId": "f7565ba3-2742-48e9-d520-81c1b431253a"
      },
      "source": [
        "train_sentences[:3]"
      ],
      "execution_count": 32,
      "outputs": [
        {
          "output_type": "execute_result",
          "data": {
            "text/plain": [
              "['to investigate the efficacy of @ weeks of daily low-dose oral prednisolone in improving pain , mobility , and systemic low-grade inflammation in the short term and whether the effect would be sustained at @ weeks in older adults with moderate to severe knee osteoarthritis ( oa ) .',\n",
              " 'a total of @ patients with primary knee oa were randomized @:@ ; @ received @ mg/day of prednisolone and @ received placebo for @ weeks .',\n",
              " 'outcome measures included pain reduction and improvement in function scores and systemic inflammation markers .']"
            ]
          },
          "metadata": {},
          "execution_count": 32
        }
      ]
    },
    {
      "cell_type": "code",
      "metadata": {
        "colab": {
          "base_uri": "https://localhost:8080/"
        },
        "id": "FOSgWlCLv61U",
        "outputId": "8f9563c1-39b4-444d-f096-63404e889823"
      },
      "source": [
        "# How long is each sentence on an average?\n",
        "import numpy as np\n",
        "sent_lens = [len(sentence.split()) for sentence in train_sentences] # counts each word in separate lines\n",
        "avg_sent_len = np.mean(sent_lens)\n",
        "avg_sent_len"
      ],
      "execution_count": 33,
      "outputs": [
        {
          "output_type": "execute_result",
          "data": {
            "text/plain": [
              "26.338269273494777"
            ]
          },
          "metadata": {},
          "execution_count": 33
        }
      ]
    },
    {
      "cell_type": "code",
      "metadata": {
        "colab": {
          "base_uri": "https://localhost:8080/",
          "height": 265
        },
        "id": "vOFcYhdM124h",
        "outputId": "cb22dccc-42af-4215-9a7f-465ea57cef74"
      },
      "source": [
        "# What's the distribution look like?\n",
        "import matplotlib.pyplot as plt\n",
        "plt.hist(sent_lens,bins=20);"
      ],
      "execution_count": 34,
      "outputs": [
        {
          "output_type": "display_data",
          "data": {
            "image/png": "[encoded data removed]",
            "text/plain": [
              "<Figure size 432x288 with 1 Axes>"
            ]
          },
          "metadata": {
            "needs_background": "light"
          }
        }
      ]
    },
    {
      "cell_type": "code",
      "metadata": {
        "colab": {
          "base_uri": "https://localhost:8080/"
        },
        "id": "m1gwCYwz2qiO",
        "outputId": "e0e439ae-65e6-4bb3-ffd2-7236f2a7f5c5"
      },
      "source": [
        "# How long of a sentence length covers 95% of examples?\n",
        "output_seq_len = int(np.percentile(sent_lens,95))\n",
        "output_seq_len # around 95% of the sentences are under 55 tokens in length"
      ],
      "execution_count": 35,
      "outputs": [
        {
          "output_type": "execute_result",
          "data": {
            "text/plain": [
              "55"
            ]
          },
          "metadata": {},
          "execution_count": 35
        }
      ]
    },
    {
      "cell_type": "code",
      "metadata": {
        "colab": {
          "base_uri": "https://localhost:8080/"
        },
        "id": "5LpFA_gI3tSK",
        "outputId": "b567a88c-1f1f-4ceb-8ce2-99e3f330ba74"
      },
      "source": [
        "# Maximum sequence length in the training set\n",
        "max(sent_lens)"
      ],
      "execution_count": 36,
      "outputs": [
        {
          "output_type": "execute_result",
          "data": {
            "text/plain": [
              "296"
            ]
          },
          "metadata": {},
          "execution_count": 36
        }
      ]
    },
    {
      "cell_type": "markdown",
      "metadata": {
        "id": "hHx0mI2V6NtB"
      },
      "source": [
        "### Create text vectorizer layer\n",
        "\n",
        "We want to make a layer which maps our texts from words to numbers."
      ]
    },
    {
      "cell_type": "code",
      "metadata": {
        "id": "WLxjPiOqvau2"
      },
      "source": [
        "from tensorflow.keras.layers.experimental.preprocessing import TextVectorization\n",
        "max_vocab_length = 68000 # taken from paper\n",
        "text_vectorizer = TextVectorization(max_tokens=max_vocab_length,\n",
        "                                    output_sequence_length=output_seq_len,\n",
        "                                    pad_to_max_tokens=True)"
      ],
      "execution_count": 37,
      "outputs": []
    },
    {
      "cell_type": "code",
      "metadata": {
        "id": "IaP-ihJfvnZZ"
      },
      "source": [
        "# Adapt text vectorizer to training sentences\n",
        "text_vectorizer.adapt(train_sentences)"
      ],
      "execution_count": 38,
      "outputs": []
    },
    {
      "cell_type": "code",
      "metadata": {
        "colab": {
          "base_uri": "https://localhost:8080/"
        },
        "id": "ugGh57S5yktT",
        "outputId": "69ac54db-efd4-48be-9d28-53197bc1bf25"
      },
      "source": [
        "# Test out text vectorizer on random sentences\n",
        "import random\n",
        "random_sentence = random.choice(train_sentences)\n",
        "print(f\"Text:\\n{random_sentence}\\n\\nLength of text: {len(random_sentence.split())} \\n\\nText Vectorizer output:\\n {text_vectorizer([random_sentence])}\")"
      ],
      "execution_count": 39,
      "outputs": [
        {
          "output_type": "stream",
          "name": "stdout",
          "text": [
            "Text:\n",
            "statistically significant reductions in all sensitivity variables were achieved by day @ and even greater reductions in dentin sensitivity scores were observed after five days .\n",
            "\n",
            "Length of text: 26 \n",
            "\n",
            "Text Vectorizer output:\n",
            " [[ 232   37  626    5   62  509  498    9  454   22  108    3  983  182\n",
            "   626    5 3631  509  119    9  148   21  487   84    0    0    0    0\n",
            "     0    0    0    0    0    0    0    0    0    0    0    0    0    0\n",
            "     0    0    0    0    0    0    0    0    0    0    0    0    0]]\n"
          ]
        }
      ]
    },
    {
      "cell_type": "code",
      "metadata": {
        "colab": {
          "base_uri": "https://localhost:8080/"
        },
        "id": "8s8thpnk-V55",
        "outputId": "5bd91efa-2c90-4e1f-9cbb-93e26df83fc1"
      },
      "source": [
        "# How many words in vocabulary, most common words, most least common words?\n",
        "words_in_vocab = text_vectorizer.get_vocabulary()\n",
        "print(f\"Total words in vocabulary: {len(words_in_vocab)}\\n10 Most common words: {words_in_vocab[:10]}\\n10 Most Least Common Words: {words_in_vocab[-10:]}\")"
      ],
      "execution_count": 40,
      "outputs": [
        {
          "output_type": "stream",
          "name": "stdout",
          "text": [
            "Total words in vocabulary: 64841\n",
            "10 Most common words: ['', '[UNK]', 'the', 'and', 'of', 'in', 'to', 'with', 'a', 'were']\n",
            "10 Most Least Common Words: ['aarm', 'aaqol', 'aaq', 'aanhui', 'aana', 'aainduced', 'aaigroup', 'aachener', 'aachen', 'aaacp']\n"
          ]
        }
      ]
    },
    {
      "cell_type": "code",
      "metadata": {
        "colab": {
          "base_uri": "https://localhost:8080/"
        },
        "id": "r9u9dn1I_tca",
        "outputId": "051c8b31-79ff-40b4-b17f-a60f548df815"
      },
      "source": [
        "# Get the config of our text vectorizer\n",
        "text_vectorizer.get_config()"
      ],
      "execution_count": 41,
      "outputs": [
        {
          "output_type": "execute_result",
          "data": {
            "text/plain": [
              "{'batch_input_shape': (None,),\n",
              " 'dtype': 'string',\n",
              " 'max_tokens': 68000,\n",
              " 'name': 'text_vectorization',\n",
              " 'ngrams': None,\n",
              " 'output_mode': 'int',\n",
              " 'output_sequence_length': 55,\n",
              " 'pad_to_max_tokens': True,\n",
              " 'split': 'whitespace',\n",
              " 'standardize': 'lower_and_strip_punctuation',\n",
              " 'trainable': True}"
            ]
          },
          "metadata": {},
          "execution_count": 41
        }
      ]
    },
    {
      "cell_type": "markdown",
      "metadata": {
        "id": "G1uH10MYBBVL"
      },
      "source": [
        "### Create custom text embedding"
      ]
    },
    {
      "cell_type": "code",
      "metadata": {
        "id": "t8h7g210zQod"
      },
      "source": [
        "# Create token embedding layer (feature-vector matrix representation)\n",
        "from tensorflow.keras import layers\n",
        "token_embed = layers.Embedding(input_dim=max_vocab_length, # length of vocabulary\n",
        "                               output_dim=128, # Note: different embedding sizes result in drastically different numbers of parameters to train\n",
        "                               mask_zero=True, # use masking to handle variable sequence length (save space)\n",
        "                               input_length=output_seq_len,\n",
        "                               name=\"token_embedding\")"
      ],
      "execution_count": 42,
      "outputs": []
    },
    {
      "cell_type": "code",
      "metadata": {
        "colab": {
          "base_uri": "https://localhost:8080/"
        },
        "id": "RlNW---MzoBi",
        "outputId": "f014ba01-c553-4c9d-e5d9-98026c454e05"
      },
      "source": [
        "# Show example embedding\n",
        "print(f\"Sentence before vectorization:\\n {random_sentence}\\n\")\n",
        "vectorized_sentence = text_vectorizer([random_sentence])\n",
        "print(f\"Sentence after vectorization (before embedding):\\n {vectorized_sentence}\\n\")\n",
        "embedding_sentence = token_embed(vectorized_sentence)\n",
        "print(f\"Sentence after embedding:\\n {embedding_sentence}\\n\")\n",
        "print(f\"Embedded sentence shape: {embedding_sentence.shape}\")"
      ],
      "execution_count": 43,
      "outputs": [
        {
          "output_type": "stream",
          "name": "stdout",
          "text": [
            "Sentence before vectorization:\n",
            " statistically significant reductions in all sensitivity variables were achieved by day @ and even greater reductions in dentin sensitivity scores were observed after five days .\n",
            "\n",
            "Sentence after vectorization (before embedding):\n",
            " [[ 232   37  626    5   62  509  498    9  454   22  108    3  983  182\n",
            "   626    5 3631  509  119    9  148   21  487   84    0    0    0    0\n",
            "     0    0    0    0    0    0    0    0    0    0    0    0    0    0\n",
            "     0    0    0    0    0    0    0    0    0    0    0    0    0]]\n",
            "\n",
            "Sentence after embedding:\n",
            " [[[-0.01042878 -0.04669868  0.01873044 ...  0.0195548   0.00187219\n",
            "   -0.03291046]\n",
            "  [ 0.0105731   0.03844078  0.0350921  ... -0.01657807 -0.02088611\n",
            "    0.03756632]\n",
            "  [-0.03076108  0.01082043 -0.03024212 ... -0.01280931  0.03256483\n",
            "    0.03028632]\n",
            "  ...\n",
            "  [ 0.04542929 -0.0389912   0.03946277 ...  0.0286091   0.03997398\n",
            "   -0.01537623]\n",
            "  [ 0.04542929 -0.0389912   0.03946277 ...  0.0286091   0.03997398\n",
            "   -0.01537623]\n",
            "  [ 0.04542929 -0.0389912   0.03946277 ...  0.0286091   0.03997398\n",
            "   -0.01537623]]]\n",
            "\n",
            "Embedded sentence shape: (1, 55, 128)\n"
          ]
        }
      ]
    },
    {
      "cell_type": "markdown",
      "metadata": {
        "id": "6k6th-l60SZr"
      },
      "source": [
        "## Creating datasets (making sure our data loads as fast as possible)\n",
        "\n",
        "We're going to setup our data to run as fast as possible with the TensorFlow tf.data API, many of the steps here are discusses at length in these two resources:\n",
        "* https://www.tensorflow.org/guide/data_performance\n",
        "* https://www.tensorflow.org/guide/data"
      ]
    },
    {
      "cell_type": "code",
      "metadata": {
        "colab": {
          "base_uri": "https://localhost:8080/"
        },
        "id": "1rolLiM0Ft78",
        "outputId": "11105da7-3201-4853-81f7-638d7a782d44"
      },
      "source": [
        "# Turn our data into TensorFlow datasets (passing one_hot_encoded labels)\n",
        "import tensorflow as tf\n",
        "train_dataset = tf.data.Dataset.from_tensor_slices((train_sentences,train_labels_one_hot))\n",
        "valid_dataset = tf.data.Dataset.from_tensor_slices((val_sentences, val_labels_one_hot))\n",
        "test_dataset = tf.data.Dataset.from_tensor_slices((test_sentences, test_labels_one_hot))\n",
        "\n",
        "train_dataset"
      ],
      "execution_count": 44,
      "outputs": [
        {
          "output_type": "execute_result",
          "data": {
            "text/plain": [
              "<TensorSliceDataset shapes: ((), (5,)), types: (tf.string, tf.float64)>"
            ]
          },
          "metadata": {},
          "execution_count": 44
        }
      ]
    },
    {
      "cell_type": "code",
      "metadata": {
        "colab": {
          "base_uri": "https://localhost:8080/"
        },
        "id": "HTCKeJ4tHipc",
        "outputId": "510363af-7fbb-463f-bfd1-703ca67baf46"
      },
      "source": [
        "# Take the TensorSlice Datasets and turn them into prefetched datasets\n",
        "train_dataset = train_dataset.batch(batch_size=32).prefetch(buffer_size=tf.data.AUTOTUNE)\n",
        "valid_dataset = valid_dataset.batch(batch_size=32).prefetch(buffer_size=tf.data.AUTOTUNE)\n",
        "test_dataset = test_dataset.batch(batch_size=32).prefetch(buffer_size=tf.data.AUTOTUNE)\n",
        "\n",
        "train_dataset"
      ],
      "execution_count": 45,
      "outputs": [
        {
          "output_type": "execute_result",
          "data": {
            "text/plain": [
              "<PrefetchDataset shapes: ((None,), (None, 5)), types: (tf.string, tf.float64)>"
            ]
          },
          "metadata": {},
          "execution_count": 45
        }
      ]
    },
    {
      "cell_type": "markdown",
      "metadata": {
        "id": "w2dT_ja-JFLe"
      },
      "source": [
        "## Model_1: Conv1D with token embeddings"
      ]
    },
    {
      "cell_type": "code",
      "metadata": {
        "id": "5zuvURtgJO_C"
      },
      "source": [
        "from tensorflow.keras import layers\n",
        "inputs = layers.Input(shape=(1,),dtype=tf.string,name='input_layer')\n",
        "x = text_vectorizer(inputs)\n",
        "x = token_embed(x)\n",
        "x = layers.Conv1D(filters=64,\n",
        "                  kernel_size=5,\n",
        "                  strides=1,\n",
        "                  padding=\"same\",\n",
        "                  activation=\"relu\") (x)\n",
        "x = layers.GlobalMaxPooling1D()(x)\n",
        "outputs = layers.Dense(5, activation=\"softmax\",name=\"output_layer\")(x)\n",
        "model_1 = tf.keras.Model(inputs,outputs,name='Conv1D')"
      ],
      "execution_count": 46,
      "outputs": []
    },
    {
      "cell_type": "code",
      "metadata": {
        "colab": {
          "base_uri": "https://localhost:8080/"
        },
        "id": "c4fSQ5reK3uW",
        "outputId": "2b723cac-1b6c-4d04-a5d8-181ee061da4a"
      },
      "source": [
        "model_1.summary()"
      ],
      "execution_count": 47,
      "outputs": [
        {
          "output_type": "stream",
          "name": "stdout",
          "text": [
            "Model: \"Conv1D\"\n",
            "_________________________________________________________________\n",
            "Layer (type)                 Output Shape              Param #   \n",
            "=================================================================\n",
            "input_layer (InputLayer)     [(None, 1)]               0         \n",
            "_________________________________________________________________\n",
            "text_vectorization (TextVect (None, 55)                0         \n",
            "_________________________________________________________________\n",
            "token_embedding (Embedding)  (None, 55, 128)           8704000   \n",
            "_________________________________________________________________\n",
            "conv1d (Conv1D)              (None, 55, 64)            41024     \n",
            "_________________________________________________________________\n",
            "global_max_pooling1d (Global (None, 64)                0         \n",
            "_________________________________________________________________\n",
            "output_layer (Dense)         (None, 5)                 325       \n",
            "=================================================================\n",
            "Total params: 8,745,349\n",
            "Trainable params: 8,745,349\n",
            "Non-trainable params: 0\n",
            "_________________________________________________________________\n"
          ]
        }
      ]
    },
    {
      "cell_type": "code",
      "metadata": {
        "id": "CbSio3K7NQB2"
      },
      "source": [
        "# Compile the model\n",
        "model_1.compile(\n",
        "    loss = \"categorical_crossentropy\",\n",
        "    optimizer = tf.keras.optimizers.Adam(),\n",
        "    metrics=[\"accuracy\"]\n",
        ")"
      ],
      "execution_count": 48,
      "outputs": []
    },
    {
      "cell_type": "code",
      "metadata": {
        "colab": {
          "base_uri": "https://localhost:8080/"
        },
        "id": "zXWLHP1eNnAR",
        "outputId": "d33edf40-5fe7-4073-e560-edc8a8a86086"
      },
      "source": [
        "# Fit the model\n",
        "history_model_1 = model_1.fit(train_dataset,\n",
        "                              epochs=3,\n",
        "                              steps_per_epoch=int(len(train_dataset)*0.1),\n",
        "                              validation_data=valid_dataset,\n",
        "                              validation_steps=int(len(valid_dataset)*0.1))"
      ],
      "execution_count": 49,
      "outputs": [
        {
          "output_type": "stream",
          "name": "stdout",
          "text": [
            "Epoch 1/3\n",
            "562/562 [==============================] - 37s 14ms/step - loss: 0.8352 - accuracy: 0.6786 - val_loss: 0.6045 - val_accuracy: 0.7766\n",
            "Epoch 2/3\n",
            "562/562 [==============================] - 8s 14ms/step - loss: 0.5791 - accuracy: 0.7871 - val_loss: 0.5491 - val_accuracy: 0.8002\n",
            "Epoch 3/3\n",
            "562/562 [==============================] - 8s 14ms/step - loss: 0.5434 - accuracy: 0.8017 - val_loss: 0.5262 - val_accuracy: 0.8009\n"
          ]
        }
      ]
    },
    {
      "cell_type": "code",
      "metadata": {
        "colab": {
          "base_uri": "https://localhost:8080/"
        },
        "id": "8A3Xi4GFO3Fw",
        "outputId": "5ccbd512-ec8e-4313-982f-6ba0b4277b87"
      },
      "source": [
        "# Evaluate on whole valid dataset\n",
        "model_1.evaluate(valid_dataset)"
      ],
      "execution_count": 50,
      "outputs": [
        {
          "output_type": "stream",
          "name": "stdout",
          "text": [
            "942/942 [==============================] - 4s 5ms/step - loss: 0.5382 - accuracy: 0.7996\n"
          ]
        },
        {
          "output_type": "execute_result",
          "data": {
            "text/plain": [
              "[0.5381796360015869, 0.7996017932891846]"
            ]
          },
          "metadata": {},
          "execution_count": 50
        }
      ]
    },
    {
      "cell_type": "code",
      "metadata": {
        "id": "To-SJzdIO4YF",
        "colab": {
          "base_uri": "https://localhost:8080/"
        },
        "outputId": "fa4a3e76-b184-4c67-a7e1-9178c495bad7"
      },
      "source": [
        "# Make predictions (our model predicts prediction probabilities for each class)\n",
        "model_1_pred_probs= model_1.predict(valid_dataset)\n",
        "model_1_pred_probs, model_1_pred_probs.shape"
      ],
      "execution_count": 51,
      "outputs": [
        {
          "output_type": "execute_result",
          "data": {
            "text/plain": [
              "(array([[2.9904675e-01, 2.4283528e-01, 1.7592077e-01, 2.2485219e-01,\n",
              "         5.7345022e-02],\n",
              "        [1.3707422e-02, 1.0982752e-02, 9.0553927e-01, 9.3870591e-03,\n",
              "         6.0383502e-02],\n",
              "        [1.6685546e-04, 9.4222609e-04, 8.6620885e-01, 6.5022221e-05,\n",
              "         1.3261700e-01],\n",
              "        ...,\n",
              "        [1.2006397e-04, 1.3441342e-02, 4.1191368e-03, 7.4740630e-05,\n",
              "         9.8224479e-01],\n",
              "        [8.8182284e-04, 6.9309529e-03, 1.5763287e-02, 2.7584549e-04,\n",
              "         9.7614813e-01],\n",
              "        [8.3423695e-03, 6.6191679e-01, 1.1334047e-01, 8.1914123e-03,\n",
              "         2.0820884e-01]], dtype=float32), (30135, 5))"
            ]
          },
          "metadata": {},
          "execution_count": 51
        }
      ]
    },
    {
      "cell_type": "code",
      "metadata": {
        "colab": {
          "base_uri": "https://localhost:8080/"
        },
        "id": "HDRugusLetJy",
        "outputId": "a8804912-e4f6-4d35-8128-e96808789297"
      },
      "source": [
        "# Convert pred probs to classes\n",
        "model_1_preds = model_1_pred_probs.argmax(axis=1)\n",
        "model_1_preds"
      ],
      "execution_count": 52,
      "outputs": [
        {
          "output_type": "execute_result",
          "data": {
            "text/plain": [
              "array([0, 2, 2, ..., 4, 4, 1])"
            ]
          },
          "metadata": {},
          "execution_count": 52
        }
      ]
    },
    {
      "cell_type": "code",
      "metadata": {
        "colab": {
          "base_uri": "https://localhost:8080/"
        },
        "id": "lZxT44hre3RW",
        "outputId": "887f831b-2757-45d3-8418-69d8243596da"
      },
      "source": [
        "# Calculate model_1 results\n",
        "model_1_results = calculate_results(y_true=val_labels_encoded,\n",
        "                                    y_pred=model_1_preds)\n",
        "model_1_results"
      ],
      "execution_count": 53,
      "outputs": [
        {
          "output_type": "execute_result",
          "data": {
            "text/plain": [
              "{'accuracy': 79.96017919362866,\n",
              " 'f1-score': 0.7979444681426064,\n",
              " 'precision': 0.7981405040221042,\n",
              " 'recall': 0.7996017919362867}"
            ]
          },
          "metadata": {},
          "execution_count": 53
        }
      ]
    },
    {
      "cell_type": "markdown",
      "metadata": {
        "id": "U7E2LwiEhnvI"
      },
      "source": [
        "## Model 2: Feature Extraction with pretrained token embeddings\n",
        "\n",
        "Now let's use pretrained word embeddings from TensorFlow Hub, more specifically the universal sentence encoder:\n",
        "https://tfhub.dev/google/universal-sentence-encoder/4\n",
        "\n",
        "The paper originally use GloVe embeddings, however, we're going to stick with the later created `USE` pretrained embeddings."
      ]
    },
    {
      "cell_type": "markdown",
      "metadata": {
        "id": "ZRLU2AC0oKh-"
      },
      "source": [
        "### Model_2: USE (Universal Sentence Encoder)"
      ]
    },
    {
      "cell_type": "code",
      "metadata": {
        "id": "cifhRkn8olGh"
      },
      "source": [
        "import tensorflow_hub as hub\n",
        "USE_URL = \"https://tfhub.dev/google/universal-sentence-encoder/4\""
      ],
      "execution_count": 54,
      "outputs": []
    },
    {
      "cell_type": "code",
      "metadata": {
        "id": "Wm5ZDZaBoreQ"
      },
      "source": [
        "# Download pretrained TensorFlow Hub USE\n",
        "hub_embedding_layer = hub.KerasLayer(USE_URL,\n",
        "                                     trainable=False,\n",
        "                                     name=\"universal_sentence_encoder\")"
      ],
      "execution_count": 55,
      "outputs": []
    },
    {
      "cell_type": "code",
      "metadata": {
        "colab": {
          "base_uri": "https://localhost:8080/"
        },
        "id": "_6R_Xjb0paBB",
        "outputId": "06753d77-6215-439c-ddd9-51dcaf34712c"
      },
      "source": [
        "# Test out the pretrained embedding on a random sentence\n",
        "random_sentence = random.choice(train_sentences)\n",
        "print(f\"Random sentence:\\n {random_sentence}\\n\")\n",
        "use_embedding_sentence = hub_embedding_layer([random_sentence])\n",
        "print(f\"Sentence after embedding:\\n {use_embedding_sentence}\\n\")\n",
        "print(f\"Shape of sentence embedding: {use_embedding_sentence.shape}\")"
      ],
      "execution_count": 56,
      "outputs": [
        {
          "output_type": "stream",
          "name": "stdout",
          "text": [
            "Random sentence:\n",
            " the total dopamine dose used was recorded at the end of surgery , and blood samples were collected at t@ and at @ h ( t@ ) and @ h ( t@ ) after the operation for determination of serum levels of ctn , ck-mb and bnp .\n",
            "\n",
            "Sentence after embedding:\n",
            " [[-0.05001812 -0.05979447  0.00633094 -0.01316445 -0.00801793 -0.00158271\n",
            "   0.00530569  0.02383522  0.01149386 -0.01181736  0.08083793  0.02282673\n",
            "  -0.04897487  0.05389332  0.01559272 -0.04011433 -0.07615978  0.05303442\n",
            "  -0.04297933  0.06118561 -0.03766623  0.04653416 -0.05951991  0.02819518\n",
            "  -0.06923614  0.05425349  0.05193557 -0.01334887 -0.02862945 -0.03770152\n",
            "   0.05913578  0.08280765  0.02415737 -0.00961736  0.02715215  0.00841906\n",
            "  -0.05559886 -0.0539947  -0.02754316  0.0072785  -0.04231916  0.04329758\n",
            "  -0.01007933 -0.04364223  0.02575274  0.05798757  0.02824965  0.05214237\n",
            "  -0.04150791  0.02294604 -0.04763351  0.03175782 -0.06814595  0.03522058\n",
            "  -0.01216986  0.0314922  -0.0620885  -0.04441432  0.03177683 -0.07670333\n",
            "   0.07000209  0.05835093  0.05385618 -0.01155128  0.03867554 -0.07165203\n",
            "   0.05020527  0.05626945  0.04073961 -0.06122394  0.03189487 -0.02905\n",
            "   0.0572746  -0.02509433 -0.01868871  0.01332943 -0.02646146 -0.00804507\n",
            "  -0.07014462  0.01909649 -0.05939092  0.01278779 -0.03351025  0.00995148\n",
            "  -0.02261421  0.07112283 -0.05181255  0.06186626 -0.03590497 -0.005781\n",
            "  -0.01929886 -0.00808257 -0.00590415 -0.05555407  0.05344239 -0.02947367\n",
            "   0.02636895 -0.06011559  0.00711116 -0.02023324 -0.07516409 -0.01332454\n",
            "   0.04920676  0.04781517  0.06209223 -0.01692671 -0.0536086   0.05645307\n",
            "   0.04723704 -0.01164774 -0.03115298  0.05021856 -0.00408185  0.06342678\n",
            "   0.02692301 -0.06295722 -0.06239704 -0.02487962 -0.04939779  0.05234443\n",
            "  -0.07040894  0.02078757 -0.03276507  0.01904602 -0.0090172  -0.04195362\n",
            "   0.03536997 -0.01981901 -0.03249199  0.00268723  0.06834441  0.08092159\n",
            "   0.00530203 -0.0340425  -0.01772998 -0.07555558  0.01542371  0.01864463\n",
            "   0.03981028  0.01469067  0.0163771   0.07542874  0.05974994 -0.05013143\n",
            "  -0.0157861  -0.01924312 -0.06348489 -0.05428529  0.01935951 -0.03241959\n",
            "   0.04854103  0.02698785 -0.03425536 -0.07138588  0.08232062  0.02837847\n",
            "   0.00549182  0.06782687  0.01288499  0.01774047  0.01178708  0.01157827\n",
            "  -0.01857254  0.03355144  0.00139256 -0.02235136 -0.01035203 -0.04348071\n",
            "   0.0426763  -0.05521612 -0.05637299  0.03027946 -0.05925108  0.05722723\n",
            "  -0.04432306  0.0447185  -0.00201895 -0.00226248  0.03954294  0.01630938\n",
            "  -0.0633316   0.0529004   0.06545491  0.06929011  0.05872215  0.04312221\n",
            "   0.04920629  0.02047765  0.04237938  0.00641697  0.02635146 -0.00261018\n",
            "   0.02865825 -0.01311813  0.00572164 -0.06493817 -0.05880236  0.00051048\n",
            "   0.01529565 -0.03195693 -0.0729245   0.02134694 -0.02989391  0.07850202\n",
            "   0.02251034  0.04429214  0.05601217 -0.04290842 -0.03760462  0.05707578\n",
            "  -0.0111455   0.01709841 -0.08175702  0.01254334 -0.05763206 -0.03937827\n",
            "  -0.0380551  -0.03731167  0.03939333 -0.00911641 -0.01417919  0.06160438\n",
            "  -0.02682581  0.01228968  0.0659705  -0.06845898 -0.04891378  0.03335533\n",
            "   0.00967656  0.03246161  0.02455037  0.0545467  -0.04229937 -0.08124427\n",
            "   0.05767665  0.02529188  0.00401928 -0.05260306  0.00518526  0.02010524\n",
            "   0.05286366 -0.06653304  0.05107275  0.02961589  0.01812673 -0.0448271\n",
            "  -0.06889897 -0.00550477  0.04616923 -0.08233207  0.03922658 -0.00047841\n",
            "   0.05606428 -0.00167195 -0.01065767  0.00639888 -0.05753521  0.07681464\n",
            "   0.00639634  0.00775733  0.03940793 -0.05871472 -0.07461205  0.02311675\n",
            "  -0.06167478 -0.06267703 -0.05026265  0.05775897 -0.01897461  0.02644712\n",
            "   0.00982859  0.05457512  0.01149676 -0.079662    0.0008965  -0.04637495\n",
            "  -0.01847786 -0.02541131  0.05651228  0.01080668 -0.03043976 -0.03096512\n",
            "  -0.02937625  0.0150163   0.07643217 -0.01093158 -0.02515122  0.0645242\n",
            "  -0.00275369 -0.02802772  0.00514121 -0.07585875  0.00982677 -0.0231167\n",
            "  -0.06960176  0.0043229  -0.03808945 -0.01035073 -0.00575561  0.02810943\n",
            "   0.03521057  0.04819329  0.06306943 -0.03393045 -0.07554048  0.05753985\n",
            "  -0.00615027 -0.03023074  0.04509761 -0.01650851 -0.05277712 -0.04917673\n",
            "  -0.03803072 -0.03899735  0.02409139  0.04514604 -0.06365193  0.03400657\n",
            "   0.00217508 -0.01008864 -0.01535894  0.01889081  0.03702739  0.002162\n",
            "  -0.03890419 -0.02101414 -0.04320993 -0.01240472 -0.04325104 -0.06332905\n",
            "  -0.02096269  0.02866872  0.05191809  0.05393143 -0.01674727 -0.02589024\n",
            "   0.04632684 -0.0706014   0.02830279  0.00189725 -0.05330468  0.0621026\n",
            "   0.08098187  0.04361375 -0.04072536 -0.06206325  0.05652268  0.06470037\n",
            "  -0.04108094 -0.0369614  -0.04033409  0.03751033  0.0198189   0.0103939\n",
            "   0.01182578  0.01534301 -0.07231078 -0.02956325 -0.01914783 -0.0761123\n",
            "   0.04834441 -0.06870287 -0.06634253 -0.07292186  0.04526031  0.06247623\n",
            "   0.06751906  0.043553   -0.02436196 -0.00012293  0.01388333  0.00245561\n",
            "   0.04915836 -0.03431684  0.04683575 -0.02381321 -0.00072608  0.00815822\n",
            "  -0.04501207 -0.06266835 -0.04987833  0.02214281 -0.04715972 -0.01388607\n",
            "  -0.00392724  0.02523239 -0.07491011 -0.0188178   0.03177888  0.0452201\n",
            "   0.0670768  -0.05458465 -0.05166319 -0.05523695 -0.07975319 -0.02336404\n",
            "   0.0128069  -0.06823739  0.03662143 -0.08083517  0.0540789  -0.05104789\n",
            "   0.07009161  0.0749092   0.05935665 -0.06820622  0.03402281  0.03655222\n",
            "   0.04987374  0.00206869 -0.06527158  0.04762428 -0.01293867  0.05695575\n",
            "   0.0711266   0.0350466   0.06707934 -0.03278413  0.01509513  0.00789606\n",
            "  -0.03032707 -0.00817004  0.02094668  0.06119817 -0.04489556 -0.07347259\n",
            "   0.06700215  0.06533987  0.03415817 -0.0664397  -0.04592983 -0.01236148\n",
            "   0.07346023  0.06631675  0.05176713 -0.0431114   0.06448096 -0.05556006\n",
            "  -0.04412829 -0.04628368 -0.06290399 -0.01462749 -0.01469751  0.01961029\n",
            "  -0.04329727  0.03553627 -0.06869434 -0.01852841 -0.0714325   0.0624754\n",
            "   0.02880939 -0.02939237 -0.03839003 -0.0020616   0.01313743 -0.07901622\n",
            "  -0.04258593 -0.01148557 -0.00275148  0.03932375  0.05595195  0.01173611\n",
            "   0.0004123  -0.04119873 -0.02067332 -0.04141864 -0.0382093  -0.05185293\n",
            "   0.01487937  0.01281806  0.00355825  0.07444509  0.0107533  -0.00652582\n",
            "   0.03792336 -0.02394993 -0.03281564 -0.06289918 -0.07592057 -0.01441466\n",
            "  -0.01604537  0.04390196  0.01178516 -0.01874942  0.06322448 -0.01542216\n",
            "  -0.03835694 -0.07201623  0.03451257  0.0155806   0.05141284  0.06734969\n",
            "   0.02118456  0.02365312  0.03911276 -0.00985805 -0.01894176 -0.06943242\n",
            "   0.0505764  -0.03557445  0.01003685 -0.03520818  0.01603303 -0.07692538\n",
            "   0.05743497 -0.08320931  0.06584978 -0.05507493  0.02905085 -0.07101176\n",
            "   0.01634524 -0.05569522]]\n",
            "\n",
            "Shape of sentence embedding: (1, 512)\n"
          ]
        }
      ]
    },
    {
      "cell_type": "markdown",
      "metadata": {
        "id": "-_tz7XsQvM50"
      },
      "source": [
        "### Building and fitting an NLP feature extraction model using pretrained embeddings from TensorFlow Hub\n"
      ]
    },
    {
      "cell_type": "code",
      "metadata": {
        "id": "fyj8TiuvvhA5"
      },
      "source": [
        "inputs = layers.Input(shape=[],dtype=tf.string,name=\"input_layer\")\n",
        "pretrained_embedding = hub_embedding_layer(inputs) # tokenize text and create embedding of each sequence (512 long vector)\n",
        "x = layers.Dense(128,activation=\"relu\")(pretrained_embedding)\n",
        "# Note: we could add more layers if we wanted to\n",
        "outputs = layers.Dense(num_classes,activation=\"softmax\")(x)\n",
        "model_2 = tf.keras.Model(inputs,outputs,name=\"model_2_USE_feature_extractor\")\n",
        "\n",
        "# Compile the model\n",
        "model_2.compile(\n",
        "    loss=\"categorical_crossentropy\",\n",
        "    optimizer=tf.keras.optimizers.Adam(),\n",
        "    metrics=[\"accuracy\"]\n",
        ")"
      ],
      "execution_count": 57,
      "outputs": []
    },
    {
      "cell_type": "code",
      "metadata": {
        "colab": {
          "base_uri": "https://localhost:8080/"
        },
        "id": "GvY12dVKw1TG",
        "outputId": "692e70b8-50a5-4cc0-eee9-e217d870bf95"
      },
      "source": [
        "# Get the summary\n",
        "model_2.summary()"
      ],
      "execution_count": 58,
      "outputs": [
        {
          "output_type": "stream",
          "name": "stdout",
          "text": [
            "Model: \"model_2_USE_feature_extractor\"\n",
            "_________________________________________________________________\n",
            "Layer (type)                 Output Shape              Param #   \n",
            "=================================================================\n",
            "input_layer (InputLayer)     [(None,)]                 0         \n",
            "_________________________________________________________________\n",
            "universal_sentence_encoder ( (None, 512)               256797824 \n",
            "_________________________________________________________________\n",
            "dense (Dense)                (None, 128)               65664     \n",
            "_________________________________________________________________\n",
            "dense_1 (Dense)              (None, 5)                 645       \n",
            "=================================================================\n",
            "Total params: 256,864,133\n",
            "Trainable params: 66,309\n",
            "Non-trainable params: 256,797,824\n",
            "_________________________________________________________________\n"
          ]
        }
      ]
    },
    {
      "cell_type": "code",
      "metadata": {
        "colab": {
          "base_uri": "https://localhost:8080/"
        },
        "id": "kJ3sJ0ckstv8",
        "outputId": "d87d4b75-2e7c-479c-e6bd-87f95dcc38f0"
      },
      "source": [
        "# Fit the model\n",
        "history_model_2 = model_2.fit(train_dataset,\n",
        "                              epochs=3,\n",
        "                              steps_per_epoch=int(0.1*len(train_dataset)),\n",
        "                              validation_data=valid_dataset,\n",
        "                              validation_steps=int(0.1*len(valid_dataset)))"
      ],
      "execution_count": 59,
      "outputs": [
        {
          "output_type": "stream",
          "name": "stdout",
          "text": [
            "Epoch 1/3\n",
            "562/562 [==============================] - 13s 19ms/step - loss: 0.9174 - accuracy: 0.6489 - val_loss: 0.8326 - val_accuracy: 0.6862\n",
            "Epoch 2/3\n",
            "562/562 [==============================] - 10s 18ms/step - loss: 0.7681 - accuracy: 0.7033 - val_loss: 0.7782 - val_accuracy: 0.6968\n",
            "Epoch 3/3\n",
            "562/562 [==============================] - 10s 18ms/step - loss: 0.7509 - accuracy: 0.7129 - val_loss: 0.7567 - val_accuracy: 0.7048\n"
          ]
        }
      ]
    },
    {
      "cell_type": "code",
      "metadata": {
        "colab": {
          "base_uri": "https://localhost:8080/"
        },
        "id": "RokndGSqxklc",
        "outputId": "54397df4-4056-43a3-a1df-6e44337d99ce"
      },
      "source": [
        "# Evaluate on the whole dataset\n",
        "model_2.evaluate(valid_dataset)"
      ],
      "execution_count": 60,
      "outputs": [
        {
          "output_type": "stream",
          "name": "stdout",
          "text": [
            "942/942 [==============================] - 15s 16ms/step - loss: 0.7545 - accuracy: 0.7081\n"
          ]
        },
        {
          "output_type": "execute_result",
          "data": {
            "text/plain": [
              "[0.7545276880264282, 0.7081134915351868]"
            ]
          },
          "metadata": {},
          "execution_count": 60
        }
      ]
    },
    {
      "cell_type": "code",
      "metadata": {
        "colab": {
          "base_uri": "https://localhost:8080/"
        },
        "id": "HohAOtgZx2Iw",
        "outputId": "6c7c38b8-7c17-4046-9e8a-16393a7fe99b"
      },
      "source": [
        "# Make predictions\n",
        "model_2_pred_probs = model_2.predict(valid_dataset)\n",
        "model_2_pred_probs, model_2_pred_probs.shape"
      ],
      "execution_count": 61,
      "outputs": [
        {
          "output_type": "execute_result",
          "data": {
            "text/plain": [
              "(array([[3.3623758e-01, 9.8644577e-02, 3.9836612e-02, 4.8981816e-01,\n",
              "         3.5463147e-02],\n",
              "        [2.5968000e-01, 4.6333916e-02, 9.1411076e-02, 5.8387905e-01,\n",
              "         1.8695960e-02],\n",
              "        [1.2296309e-03, 8.1446469e-03, 8.5394418e-01, 1.6703294e-03,\n",
              "         1.3501126e-01],\n",
              "        ...,\n",
              "        [4.5303209e-04, 2.1145929e-02, 1.6214892e-02, 1.2160276e-04,\n",
              "         9.6206450e-01],\n",
              "        [1.0922081e-02, 5.0151810e-02, 7.4847497e-02, 2.2812414e-03,\n",
              "         8.6179739e-01],\n",
              "        [1.4148994e-02, 6.4361501e-01, 1.4926991e-01, 1.3684318e-02,\n",
              "         1.7928183e-01]], dtype=float32), (30135, 5))"
            ]
          },
          "metadata": {},
          "execution_count": 61
        }
      ]
    },
    {
      "cell_type": "code",
      "metadata": {
        "colab": {
          "base_uri": "https://localhost:8080/"
        },
        "id": "KD8BjUqhyGhR",
        "outputId": "b718d4fb-c28a-45da-ac6a-276659de51a3"
      },
      "source": [
        "# Convert pred_probs to classes\n",
        "model_2_preds = model_2_pred_probs.argmax(axis=1)\n",
        "model_2_preds"
      ],
      "execution_count": 62,
      "outputs": [
        {
          "output_type": "execute_result",
          "data": {
            "text/plain": [
              "array([3, 3, 2, ..., 4, 4, 1])"
            ]
          },
          "metadata": {},
          "execution_count": 62
        }
      ]
    },
    {
      "cell_type": "code",
      "metadata": {
        "colab": {
          "base_uri": "https://localhost:8080/"
        },
        "id": "I8RjKhVAyYQ6",
        "outputId": "627912ee-ce54-40f2-8567-1e68256c419a"
      },
      "source": [
        "# Getting the model 2 results\n",
        "model_2_results = calculate_results(y_true=val_labels_encoded,\n",
        "                                    y_pred=model_2_preds)\n",
        "model_2_results"
      ],
      "execution_count": 63,
      "outputs": [
        {
          "output_type": "execute_result",
          "data": {
            "text/plain": [
              "{'accuracy': 70.81134892981584,\n",
              " 'f1-score': 0.705221474536667,\n",
              " 'precision': 0.7105268809128306,\n",
              " 'recall': 0.7081134892981583}"
            ]
          },
          "metadata": {},
          "execution_count": 63
        }
      ]
    },
    {
      "cell_type": "markdown",
      "metadata": {
        "id": "lHAyQr5MynEU"
      },
      "source": [
        "## Model 3: Conv1D with character embeddings\n",
        "\n",
        "The paper which we're replicating states they used a combination of token and character-level embeddings.\n",
        "\n",
        "Previosuly, we've token-level embeddings but we'll need to do similar steps for characters if we want to use char-level embeddings.\n",
        "\n"
      ]
    },
    {
      "cell_type": "markdown",
      "metadata": {
        "id": "kEOwbN2VGSaX"
      },
      "source": [
        "### Creating a character level tokenizer"
      ]
    },
    {
      "cell_type": "code",
      "metadata": {
        "colab": {
          "base_uri": "https://localhost:8080/"
        },
        "id": "2oXqqgn7GWHD",
        "outputId": "0d0fed7f-86aa-4e3a-9c52-1cdd40477a04"
      },
      "source": [
        "train_sentences[:3]"
      ],
      "execution_count": 64,
      "outputs": [
        {
          "output_type": "execute_result",
          "data": {
            "text/plain": [
              "['to investigate the efficacy of @ weeks of daily low-dose oral prednisolone in improving pain , mobility , and systemic low-grade inflammation in the short term and whether the effect would be sustained at @ weeks in older adults with moderate to severe knee osteoarthritis ( oa ) .',\n",
              " 'a total of @ patients with primary knee oa were randomized @:@ ; @ received @ mg/day of prednisolone and @ received placebo for @ weeks .',\n",
              " 'outcome measures included pain reduction and improvement in function scores and systemic inflammation markers .']"
            ]
          },
          "metadata": {},
          "execution_count": 64
        }
      ]
    },
    {
      "cell_type": "code",
      "metadata": {
        "colab": {
          "base_uri": "https://localhost:8080/",
          "height": 86
        },
        "id": "ViD4xx3nQSjk",
        "outputId": "87b52d63-96f8-45a6-b769-5ebb8be739cd"
      },
      "source": [
        "\" \".join(list(train_sentences[0]))"
      ],
      "execution_count": 65,
      "outputs": [
        {
          "output_type": "execute_result",
          "data": {
            "application/vnd.google.colaboratory.intrinsic+json": {
              "type": "string"
            },
            "text/plain": [
              "'t o   i n v e s t i g a t e   t h e   e f f i c a c y   o f   @   w e e k s   o f   d a i l y   l o w - d o s e   o r a l   p r e d n i s o l o n e   i n   i m p r o v i n g   p a i n   ,   m o b i l i t y   ,   a n d   s y s t e m i c   l o w - g r a d e   i n f l a m m a t i o n   i n   t h e   s h o r t   t e r m   a n d   w h e t h e r   t h e   e f f e c t   w o u l d   b e   s u s t a i n e d   a t   @   w e e k s   i n   o l d e r   a d u l t s   w i t h   m o d e r a t e   t o   s e v e r e   k n e e   o s t e o a r t h r i t i s   (   o a   )   .'"
            ]
          },
          "metadata": {},
          "execution_count": 65
        }
      ]
    },
    {
      "cell_type": "code",
      "metadata": {
        "id": "rJMeOBxWGZCI",
        "colab": {
          "base_uri": "https://localhost:8080/",
          "height": 69
        },
        "outputId": "8f9fe049-3382-4656-db2c-0668ff55bb60"
      },
      "source": [
        "# Make function to split sentences into characters\n",
        "def split_chars(text):\n",
        "  return \" \".join(list(text))\n",
        "\n",
        "# Text splitting non-character-level sequence into characters\n",
        "split_chars(random_sentence)"
      ],
      "execution_count": 66,
      "outputs": [
        {
          "output_type": "execute_result",
          "data": {
            "application/vnd.google.colaboratory.intrinsic+json": {
              "type": "string"
            },
            "text/plain": [
              "'t h e   t o t a l   d o p a m i n e   d o s e   u s e d   w a s   r e c o r d e d   a t   t h e   e n d   o f   s u r g e r y   ,   a n d   b l o o d   s a m p l e s   w e r e   c o l l e c t e d   a t   t @   a n d   a t   @   h   (   t @   )   a n d   @   h   (   t @   )   a f t e r   t h e   o p e r a t i o n   f o r   d e t e r m i n a t i o n   o f   s e r u m   l e v e l s   o f   c t n   ,   c k - m b   a n d   b n p   .'"
            ]
          },
          "metadata": {},
          "execution_count": 66
        }
      ]
    },
    {
      "cell_type": "code",
      "metadata": {
        "id": "FgSjBOGpL3Pl",
        "colab": {
          "base_uri": "https://localhost:8080/"
        },
        "outputId": "1b05f259-e4c3-4801-bdcb-ac96845c35b9"
      },
      "source": [
        "# Split sequence-level data splits into character-level data splits\n",
        "train_chars = [split_chars(sentence) for sentence in train_sentences]\n",
        "val_chars = [split_chars(sentence) for sentence in val_sentences]\n",
        "test_chars = [split_chars(sentence) for sentence in test_sentences]\n",
        "train_chars[:5]"
      ],
      "execution_count": 67,
      "outputs": [
        {
          "output_type": "execute_result",
          "data": {
            "text/plain": [
              "['t o   i n v e s t i g a t e   t h e   e f f i c a c y   o f   @   w e e k s   o f   d a i l y   l o w - d o s e   o r a l   p r e d n i s o l o n e   i n   i m p r o v i n g   p a i n   ,   m o b i l i t y   ,   a n d   s y s t e m i c   l o w - g r a d e   i n f l a m m a t i o n   i n   t h e   s h o r t   t e r m   a n d   w h e t h e r   t h e   e f f e c t   w o u l d   b e   s u s t a i n e d   a t   @   w e e k s   i n   o l d e r   a d u l t s   w i t h   m o d e r a t e   t o   s e v e r e   k n e e   o s t e o a r t h r i t i s   (   o a   )   .',\n",
              " 'a   t o t a l   o f   @   p a t i e n t s   w i t h   p r i m a r y   k n e e   o a   w e r e   r a n d o m i z e d   @ : @   ;   @   r e c e i v e d   @   m g / d a y   o f   p r e d n i s o l o n e   a n d   @   r e c e i v e d   p l a c e b o   f o r   @   w e e k s   .',\n",
              " 'o u t c o m e   m e a s u r e s   i n c l u d e d   p a i n   r e d u c t i o n   a n d   i m p r o v e m e n t   i n   f u n c t i o n   s c o r e s   a n d   s y s t e m i c   i n f l a m m a t i o n   m a r k e r s   .',\n",
              " 'p a i n   w a s   a s s e s s e d   u s i n g   t h e   v i s u a l   a n a l o g   p a i n   s c a l e   (   @ - @   m m   )   .',\n",
              " 's e c o n d a r y   o u t c o m e   m e a s u r e s   i n c l u d e d   t h e   w e s t e r n   o n t a r i o   a n d   m c m a s t e r   u n i v e r s i t i e s   o s t e o a r t h r i t i s   i n d e x   s c o r e s   ,   p a t i e n t   g l o b a l   a s s e s s m e n t   (   p g a   )   o f   t h e   s e v e r i t y   o f   k n e e   o a   ,   a n d   @ - m i n   w a l k   d i s t a n c e   (   @ m w d   )   .']"
            ]
          },
          "metadata": {},
          "execution_count": 67
        }
      ]
    },
    {
      "cell_type": "code",
      "metadata": {
        "colab": {
          "base_uri": "https://localhost:8080/"
        },
        "id": "w42pBNSiSHkI",
        "outputId": "ed0bfcbe-389a-4d70-be29-80701e947e0f"
      },
      "source": [
        "# What's the average character length?\n",
        "char_length = [len(sentence) for sentence in train_sentences] # counts lenght of all characters in a single sequence\n",
        "avg_char_length = np.mean(char_length)\n",
        "avg_char_length"
      ],
      "execution_count": 68,
      "outputs": [
        {
          "output_type": "execute_result",
          "data": {
            "text/plain": [
              "149.3662574983337"
            ]
          },
          "metadata": {},
          "execution_count": 68
        }
      ]
    },
    {
      "cell_type": "code",
      "metadata": {
        "colab": {
          "base_uri": "https://localhost:8080/",
          "height": 265
        },
        "id": "f68rqWFNXi9n",
        "outputId": "87248b1e-9ec6-4543-dc75-9204c59efa30"
      },
      "source": [
        "# Check the distribution of our sequences at a character-level\n",
        "plt.hist(char_length,bins=20);"
      ],
      "execution_count": 69,
      "outputs": [
        {
          "output_type": "display_data",
          "data": {
            "image/png": "[encoded data removed]",
            "text/plain": [
              "<Figure size 432x288 with 1 Axes>"
            ]
          },
          "metadata": {
            "needs_background": "light"
          }
        }
      ]
    },
    {
      "cell_type": "code",
      "metadata": {
        "colab": {
          "base_uri": "https://localhost:8080/"
        },
        "id": "3nWtwTnjYvhl",
        "outputId": "5698d4f6-7192-4221-a83d-d4ea4e19adf6"
      },
      "source": [
        "# What lenght of character covers 95% of sequences in character-level sequences\n",
        "output_seq_char_len = int(np.percentile(char_length,95))\n",
        "output_seq_char_len"
      ],
      "execution_count": 70,
      "outputs": [
        {
          "output_type": "execute_result",
          "data": {
            "text/plain": [
              "290"
            ]
          },
          "metadata": {},
          "execution_count": 70
        }
      ]
    },
    {
      "cell_type": "code",
      "metadata": {
        "colab": {
          "base_uri": "https://localhost:8080/",
          "height": 35
        },
        "id": "Yvf2VXsNbxNm",
        "outputId": "a14acc48-9488-4721-c480-53570ed5a0a2"
      },
      "source": [
        "# Get all keyboard characters\n",
        "import string\n",
        "aplhabet = string.ascii_lowercase + string.digits + string.punctuation\n",
        "aplhabet"
      ],
      "execution_count": 71,
      "outputs": [
        {
          "output_type": "execute_result",
          "data": {
            "application/vnd.google.colaboratory.intrinsic+json": {
              "type": "string"
            },
            "text/plain": [
              "'abcdefghijklmnopqrstuvwxyz0123456789!\"#$%&\\'()*+,-./:;<=>?@[\\\\]^_`{|}~'"
            ]
          },
          "metadata": {},
          "execution_count": 71
        }
      ]
    },
    {
      "cell_type": "code",
      "metadata": {
        "id": "iNmXo4yxdJNa"
      },
      "source": [
        "# Create char-level token vectorizer instance\n",
        "NUM_CHARS_TOKENS = len(aplhabet) + 2 # add 2 for space and <OOV> token (out of vocab ='[UNK]')\n",
        "char_vectorizer = TextVectorization(max_tokens=NUM_CHARS_TOKENS,\n",
        "                                    output_sequence_length=output_seq_char_len,\n",
        "                                    pad_to_max_tokens=True,\n",
        "                                    name=\"char_vectorizer\")"
      ],
      "execution_count": 72,
      "outputs": []
    },
    {
      "cell_type": "code",
      "metadata": {
        "id": "gfTcGSSPeY6u"
      },
      "source": [
        "# Adapt character vectorizer to training character\n",
        "char_vectorizer.adapt(train_chars)"
      ],
      "execution_count": 73,
      "outputs": []
    },
    {
      "cell_type": "code",
      "metadata": {
        "colab": {
          "base_uri": "https://localhost:8080/"
        },
        "id": "xSLLOZAFeg7-",
        "outputId": "a3258441-5d06-44ed-c120-b362453923f9"
      },
      "source": [
        "# Check character vocab stats\n",
        "char_vocab = char_vectorizer.get_vocabulary()\n",
        "print(f\"Number of different characters in character vocab: {len(char_vocab)}\")\n",
        "print(f\"5 Most Common Characters: {char_vocab[:5]}\")\n",
        "print(f\"5 Most Least Common Characters: {char_vocab[-5:]}\")"
      ],
      "execution_count": 74,
      "outputs": [
        {
          "output_type": "stream",
          "name": "stdout",
          "text": [
            "Number of different characters in character vocab: 28\n",
            "5 Most Common Characters: ['', '[UNK]', 'e', 't', 'i']\n",
            "5 Most Least Common Characters: ['k', 'x', 'z', 'q', 'j']\n"
          ]
        }
      ]
    },
    {
      "cell_type": "code",
      "metadata": {
        "colab": {
          "base_uri": "https://localhost:8080/"
        },
        "id": "0c0FbChjftkC",
        "outputId": "ed4bef91-5593-476d-b8e9-936efebe376a"
      },
      "source": [
        "# Test our character vectorizer\n",
        "random_train_chars = random.choice(train_chars)\n",
        "print(f\"Charified text:\\n {random_train_chars}\")\n",
        "print(f\"\\nLength of random_train_chars: {len(random_train_chars.split())}\")\n",
        "vectorized_chars = char_vectorizer([random_train_chars])\n",
        "print(f\"\\nVectorized text:\\n {vectorized_chars}\")\n",
        "print(f\"\\nShape of Vectorized text: {vectorized_chars.shape}\")"
      ],
      "execution_count": 75,
      "outputs": [
        {
          "output_type": "stream",
          "name": "stdout",
          "text": [
            "Charified text:\n",
            " b a s e d   o n   p a t h o l o g i c a l   ,   m a g n e t i c   r e s o n a n c e   i m a g i n g   (   m r i   )   a n d   a r t h r o s c o p y   s t u d i e s   ,   p r o g r e s s i v e   o s t e o a r t h r i t i s   i n v o l v e s   a l l   t i s s u e s   o f   t h e   j o i n t   a n d   i n c l u d e s   b o n e   m a r r o w   l e s i o n s   ,   s y n o v i a l   p r o l i f e r a t i o n   ,   f a t   p a d   i n f l a m m a t i o n   ,   a n d   h i g h   s u b c h o n d r a l   b o n e   t u r n o v e r   .\n",
            "\n",
            "Length of random_train_chars: 225\n",
            "\n",
            "Vectorized text:\n",
            " [[22  5  9  2 10  7  6 14  5  3 13  7 12  7 18  4 11  5 12 15  5 18  6  2\n",
            "   3  4 11  8  2  9  7  6  5  6 11  2  4 15  5 18  4  6 18 15  8  4  5  6\n",
            "  10  5  8  3 13  8  7  9 11  7 14 19  9  3 16 10  4  2  9 14  8  7 18  8\n",
            "   2  9  9  4 21  2  7  9  3  2  7  5  8  3 13  8  4  3  4  9  4  6 21  7\n",
            "  12 21  2  9  5 12 12  3  4  9  9 16  2  9  7 17  3 13  2 27  7  4  6  3\n",
            "   5  6 10  4  6 11 12 16 10  2  9 22  7  6  2 15  5  8  8  7 20 12  2  9\n",
            "   4  7  6  9  9 19  6  7 21  4  5 12 14  8  7 12  4 17  2  8  5  3  4  7\n",
            "   6 17  5  3 14  5 10  4  6 17 12  5 15 15  5  3  4  7  6  5  6 10 13  4\n",
            "  18 13  9 16 22 11 13  7  6 10  8  5 12 22  7  6  2  3 16  8  6  7 21  2\n",
            "   8  0  0  0  0  0  0  0  0  0  0  0  0  0  0  0  0  0  0  0  0  0  0  0\n",
            "   0  0  0  0  0  0  0  0  0  0  0  0  0  0  0  0  0  0  0  0  0  0  0  0\n",
            "   0  0  0  0  0  0  0  0  0  0  0  0  0  0  0  0  0  0  0  0  0  0  0  0\n",
            "   0  0]]\n",
            "\n",
            "Shape of Vectorized text: (1, 290)\n"
          ]
        }
      ]
    },
    {
      "cell_type": "markdown",
      "metadata": {
        "id": "qJcHY9cAgb0X"
      },
      "source": [
        "### Character level embedding"
      ]
    },
    {
      "cell_type": "code",
      "metadata": {
        "id": "nbiVqF1_khXf"
      },
      "source": [
        "from tensorflow.keras import layers\n",
        "char_embed = layers.Embedding(input_dim=len(char_vocab), # number of different characters \n",
        "                              output_dim=25, # size of the char embedding in the paper\n",
        "                              mask_zero=True,\n",
        "                              name=\"char_embedding\")"
      ],
      "execution_count": 76,
      "outputs": []
    },
    {
      "cell_type": "code",
      "metadata": {
        "colab": {
          "base_uri": "https://localhost:8080/"
        },
        "id": "DkozGTbvlTJm",
        "outputId": "8e3f64b8-73a1-4465-d2c3-a4c5e1a57ca2"
      },
      "source": [
        "# Test our character embedding layer\n",
        "print(f\"Charified text:\\n {random_train_chars}\\n\")\n",
        "char_embed_example = char_embed(char_vectorizer([random_train_chars]))\n",
        "print(f\"Embedded chars (after vectorization & embedding):\\n {char_embed_example}\\n\")\n",
        "print(f\"Character embedding shape: {char_embed_example.shape}\")"
      ],
      "execution_count": 77,
      "outputs": [
        {
          "output_type": "stream",
          "name": "stdout",
          "text": [
            "Charified text:\n",
            " b a s e d   o n   p a t h o l o g i c a l   ,   m a g n e t i c   r e s o n a n c e   i m a g i n g   (   m r i   )   a n d   a r t h r o s c o p y   s t u d i e s   ,   p r o g r e s s i v e   o s t e o a r t h r i t i s   i n v o l v e s   a l l   t i s s u e s   o f   t h e   j o i n t   a n d   i n c l u d e s   b o n e   m a r r o w   l e s i o n s   ,   s y n o v i a l   p r o l i f e r a t i o n   ,   f a t   p a d   i n f l a m m a t i o n   ,   a n d   h i g h   s u b c h o n d r a l   b o n e   t u r n o v e r   .\n",
            "\n",
            "Embedded chars (after vectorization & embedding):\n",
            " [[[ 0.0189968  -0.04344093 -0.03672215 ... -0.03619282  0.01435885\n",
            "    0.04689361]\n",
            "  [-0.01904505 -0.01742045  0.0307265  ... -0.01832183 -0.04049382\n",
            "    0.04299146]\n",
            "  [-0.00050961  0.0384462   0.0343365  ...  0.01527592  0.00039315\n",
            "    0.01684508]\n",
            "  ...\n",
            "  [ 0.02157942  0.04298513 -0.04806218 ... -0.04224681 -0.00786533\n",
            "    0.02657498]\n",
            "  [ 0.02157942  0.04298513 -0.04806218 ... -0.04224681 -0.00786533\n",
            "    0.02657498]\n",
            "  [ 0.02157942  0.04298513 -0.04806218 ... -0.04224681 -0.00786533\n",
            "    0.02657498]]]\n",
            "\n",
            "Character embedding shape: (1, 290, 25)\n"
          ]
        }
      ]
    },
    {
      "cell_type": "markdown",
      "metadata": {
        "id": "pvdqX_S1m3Up"
      },
      "source": [
        "### Building a Conv1D model to fit on character embeddings"
      ]
    },
    {
      "cell_type": "code",
      "metadata": {
        "id": "B2TQT_axwuK2"
      },
      "source": [
        "# Make Conv1D on chars only\n",
        "inputs = layers.Input(shape=[],dtype=tf.string,name=\"input_layer\")\n",
        "x = char_vectorizer(inputs)\n",
        "x = char_embed(x)\n",
        "x = layers.Conv1D(filters=64,\n",
        "                  kernel_size=5,\n",
        "                  strides=1,\n",
        "                  padding=\"same\",\n",
        "                  activation=\"relu\") (x)\n",
        "x = layers.GlobalMaxPool1D()(x)\n",
        "outputs = layers.Dense(num_classes, activation=\"softmax\")(x)\n",
        "model_3 = tf.keras.Model(inputs,outputs,name=\"model_3_conv1D_char_emnbeddings\")\n",
        "\n",
        "# Compile\n",
        "model_3.compile(\n",
        "    loss = \"categorical_crossentropy\",\n",
        "    optimizer = tf.keras.optimizers.Adam(),\n",
        "    metrics=[\"accuracy\"]\n",
        ")"
      ],
      "execution_count": 78,
      "outputs": []
    },
    {
      "cell_type": "code",
      "metadata": {
        "colab": {
          "base_uri": "https://localhost:8080/"
        },
        "id": "vpn3YcuXypqI",
        "outputId": "b9006cdc-4091-44de-ead6-7d65dffc92ce"
      },
      "source": [
        "# Get the summary\n",
        "model_3.summary()"
      ],
      "execution_count": 79,
      "outputs": [
        {
          "output_type": "stream",
          "name": "stdout",
          "text": [
            "Model: \"model_3_conv1D_char_emnbeddings\"\n",
            "_________________________________________________________________\n",
            "Layer (type)                 Output Shape              Param #   \n",
            "=================================================================\n",
            "input_layer (InputLayer)     [(None,)]                 0         \n",
            "_________________________________________________________________\n",
            "char_vectorizer (TextVectori (None, 290)               0         \n",
            "_________________________________________________________________\n",
            "char_embedding (Embedding)   (None, 290, 25)           700       \n",
            "_________________________________________________________________\n",
            "conv1d_1 (Conv1D)            (None, 290, 64)           8064      \n",
            "_________________________________________________________________\n",
            "global_max_pooling1d_1 (Glob (None, 64)                0         \n",
            "_________________________________________________________________\n",
            "dense_2 (Dense)              (None, 5)                 325       \n",
            "=================================================================\n",
            "Total params: 9,089\n",
            "Trainable params: 9,089\n",
            "Non-trainable params: 0\n",
            "_________________________________________________________________\n"
          ]
        }
      ]
    },
    {
      "cell_type": "code",
      "metadata": {
        "colab": {
          "base_uri": "https://localhost:8080/"
        },
        "id": "oNbevtvkyrs6",
        "outputId": "6f43ff69-1ca0-458c-a54f-2c3a3b16f972"
      },
      "source": [
        "# Creating the character-level dataset\n",
        "char_train_dataset = tf.data.Dataset.from_tensor_slices((train_chars,train_labels_one_hot)).batch(batch_size=32).prefetch(buffer_size=tf.data.AUTOTUNE)\n",
        "char_valid_dataset = tf.data.Dataset.from_tensor_slices((val_chars,val_labels_one_hot)).batch(batch_size=32).prefetch(buffer_size=tf.data.AUTOTUNE)\n",
        "char_test_dataset = tf.data.Dataset.from_tensor_slices((test_chars,test_labels_one_hot)).batch(batch_size=32).prefetch(buffer_size=tf.data.AUTOTUNE)\n",
        "\n",
        "char_train_dataset"
      ],
      "execution_count": 80,
      "outputs": [
        {
          "output_type": "execute_result",
          "data": {
            "text/plain": [
              "<PrefetchDataset shapes: ((None,), (None, 5)), types: (tf.string, tf.float64)>"
            ]
          },
          "metadata": {},
          "execution_count": 80
        }
      ]
    },
    {
      "cell_type": "code",
      "metadata": {
        "colab": {
          "base_uri": "https://localhost:8080/"
        },
        "id": "sj16Z98QzhVs",
        "outputId": "767a0102-3b60-4435-c3dd-bfbbb7219b64"
      },
      "source": [
        "# Fit the model\n",
        "history_model_3 = model_3.fit(char_train_dataset,\n",
        "                              epochs=3,\n",
        "                              steps_per_epoch=int(0.1*len(char_train_dataset)),\n",
        "                              validation_data=char_valid_dataset,\n",
        "                              validation_steps=int(0.1*len(char_valid_dataset)))"
      ],
      "execution_count": 81,
      "outputs": [
        {
          "output_type": "stream",
          "name": "stdout",
          "text": [
            "Epoch 1/3\n",
            "562/562 [==============================] - 6s 10ms/step - loss: 1.2775 - accuracy: 0.4791 - val_loss: 1.0485 - val_accuracy: 0.5934\n",
            "Epoch 2/3\n",
            "562/562 [==============================] - 5s 9ms/step - loss: 1.0005 - accuracy: 0.5988 - val_loss: 0.9605 - val_accuracy: 0.6213\n",
            "Epoch 3/3\n",
            "562/562 [==============================] - 5s 9ms/step - loss: 0.9252 - accuracy: 0.6346 - val_loss: 0.8876 - val_accuracy: 0.6503\n"
          ]
        }
      ]
    },
    {
      "cell_type": "code",
      "metadata": {
        "colab": {
          "base_uri": "https://localhost:8080/"
        },
        "id": "sT0ZcPA40VBH",
        "outputId": "306d07db-c3b9-42b9-d5d6-d37163e966cc"
      },
      "source": [
        "# Evaluate on the whole dataset\n",
        "model_3.evaluate(char_valid_dataset)"
      ],
      "execution_count": 82,
      "outputs": [
        {
          "output_type": "stream",
          "name": "stdout",
          "text": [
            "942/942 [==============================] - 5s 5ms/step - loss: 0.8954 - accuracy: 0.6521\n"
          ]
        },
        {
          "output_type": "execute_result",
          "data": {
            "text/plain": [
              "[0.8953855037689209, 0.6520988941192627]"
            ]
          },
          "metadata": {},
          "execution_count": 82
        }
      ]
    },
    {
      "cell_type": "code",
      "metadata": {
        "colab": {
          "base_uri": "https://localhost:8080/"
        },
        "id": "IoWe-5uN1CCc",
        "outputId": "8d033253-ad65-423c-eb73-4a32d0dc185e"
      },
      "source": [
        "# Make predictions with character model only\n",
        "model_3_pred_probs = model_3.predict(char_valid_dataset)\n",
        "model_3_pred_probs"
      ],
      "execution_count": 83,
      "outputs": [
        {
          "output_type": "execute_result",
          "data": {
            "text/plain": [
              "array([[0.26296708, 0.23888879, 0.1831215 , 0.2942689 , 0.02075378],\n",
              "       [0.06560296, 0.09555075, 0.67423505, 0.05476434, 0.10984685],\n",
              "       [0.00100033, 0.00161428, 0.7859934 , 0.00104022, 0.21035177],\n",
              "       ...,\n",
              "       [0.00340042, 0.02245114, 0.02065455, 0.00280644, 0.9506875 ],\n",
              "       [0.01536035, 0.05711909, 0.44960207, 0.01567948, 0.462239  ],\n",
              "       [0.16595316, 0.35618854, 0.15814222, 0.14543472, 0.17428139]],\n",
              "      dtype=float32)"
            ]
          },
          "metadata": {},
          "execution_count": 83
        }
      ]
    },
    {
      "cell_type": "code",
      "metadata": {
        "colab": {
          "base_uri": "https://localhost:8080/"
        },
        "id": "Tu00lRjh1M6v",
        "outputId": "6fb304a6-4b63-4ccd-c4ff-7142e6992500"
      },
      "source": [
        "# Convert prediction probs to class labels\n",
        "model_3_preds = model_3_pred_probs.argmax(axis=1)\n",
        "model_3_preds"
      ],
      "execution_count": 84,
      "outputs": [
        {
          "output_type": "execute_result",
          "data": {
            "text/plain": [
              "array([3, 2, 2, ..., 4, 4, 1])"
            ]
          },
          "metadata": {},
          "execution_count": 84
        }
      ]
    },
    {
      "cell_type": "code",
      "metadata": {
        "colab": {
          "base_uri": "https://localhost:8080/"
        },
        "id": "ICaRsCaV1Xsf",
        "outputId": "960ed2ef-4636-4e38-d74c-fb32a1506b93"
      },
      "source": [
        "# Model_3_results\n",
        "model_3_results = calculate_results(y_true=val_labels_encoded,\n",
        "                                    y_pred=model_3_preds)\n",
        "model_3_results"
      ],
      "execution_count": 85,
      "outputs": [
        {
          "output_type": "execute_result",
          "data": {
            "text/plain": [
              "{'accuracy': 65.20988883358221,\n",
              " 'f1-score': 0.6422218225994883,\n",
              " 'precision': 0.6500748551955084,\n",
              " 'recall': 0.6520988883358221}"
            ]
          },
          "metadata": {},
          "execution_count": 85
        }
      ]
    },
    {
      "cell_type": "markdown",
      "metadata": {
        "id": "596O7FFh1jrd"
      },
      "source": [
        "## Model 4: Combining pretrained token embeddings + character embeddings (hybrid embedding layer)\n",
        "\n",
        "1. Create a token-level embedding model (similar to `model_2`)\n",
        "2. Create a character-level embedding model (similar to `model_3` with a slight modification)\n",
        "3. Combine 1 & 2 with a concatenate layer (`layers.Concatenate`)\n",
        "4. Build a series of output layers on top of 3 similar to Figure 1 and section 4.2 of https://arxiv.org/pdf/1612.05251.pdf\n",
        "5. Construct a model which takes token and character-level sequences as input and produces sequence label probabilities as output"
      ]
    },
    {
      "cell_type": "code",
      "metadata": {
        "id": "qS4W7B4k4cEw"
      },
      "source": [
        "# 1. Setup token inputs/model\n",
        "token_inputs = layers.Input(shape=[], dtype=tf.string, name='token_input')\n",
        "token_embeddings = hub_embedding_layer(token_inputs)\n",
        "token_outputs = layers.Dense(128, activation=\"relu\") (token_embeddings)\n",
        "token_model = tf.keras.Model(inputs=token_inputs,\n",
        "                             outputs=token_outputs)\n",
        "\n",
        "# 2. Setup char inputs/model\n",
        "char_inputs = layers.Input(shape=[],dtype=tf.string,name=\"char_input\")\n",
        "char_vectors = char_vectorizer(char_inputs)\n",
        "char_embeddings = char_embed(char_vectors)\n",
        "char_bi_lstm = layers.Bidirectional(layer=layers.LSTM(units=24))(char_embeddings) # bi-LSTM as per paper\n",
        "char_model = tf.keras.Model(inputs=char_inputs,\n",
        "                            outputs=char_bi_lstm)\n",
        "\n",
        "# 3. Concatenate token and char inputs (create hybrid token embedding)\n",
        "token_char_concat = layers.Concatenate(name=\"token_char_hybrid\")([token_model.output,\n",
        "                                                                  char_model.output])\n",
        "\n",
        "# 4. Create output layers - adding in Dropout\n",
        "combined_dropout = layers.Dropout(rate=0.5)(token_char_concat)\n",
        "combined_dense = layers.Dense(128, activation=\"relu\")(combined_dropout)\n",
        "final_dropout = layers.Dropout(rate=0.5)(combined_dense)\n",
        "output_layer = layers.Dense(num_classes, activation=\"softmax\")(final_dropout)\n",
        "\n",
        "# 5. Construct model with char and token inputs\n",
        "model_4 = tf.keras.Model(inputs=[token_model.input,char_model.input],\n",
        "                         outputs=output_layer,\n",
        "                         name=\"model_4_token_and_char_embeddings\")"
      ],
      "execution_count": 86,
      "outputs": []
    },
    {
      "cell_type": "code",
      "metadata": {
        "colab": {
          "base_uri": "https://localhost:8080/"
        },
        "id": "1Gfsfnf7BkS6",
        "outputId": "ad90b0be-a4d3-4162-9943-54dc56f5fa28"
      },
      "source": [
        "# Get the summary\n",
        "model_4.summary()"
      ],
      "execution_count": 87,
      "outputs": [
        {
          "output_type": "stream",
          "name": "stdout",
          "text": [
            "Model: \"model_4_token_and_char_embeddings\"\n",
            "__________________________________________________________________________________________________\n",
            "Layer (type)                    Output Shape         Param #     Connected to                     \n",
            "==================================================================================================\n",
            "char_input (InputLayer)         [(None,)]            0                                            \n",
            "__________________________________________________________________________________________________\n",
            "token_input (InputLayer)        [(None,)]            0                                            \n",
            "__________________________________________________________________________________________________\n",
            "char_vectorizer (TextVectorizat (None, 290)          0           char_input[0][0]                 \n",
            "__________________________________________________________________________________________________\n",
            "universal_sentence_encoder (Ker (None, 512)          256797824   token_input[0][0]                \n",
            "__________________________________________________________________________________________________\n",
            "char_embedding (Embedding)      (None, 290, 25)      700         char_vectorizer[1][0]            \n",
            "__________________________________________________________________________________________________\n",
            "dense_3 (Dense)                 (None, 128)          65664       universal_sentence_encoder[1][0] \n",
            "__________________________________________________________________________________________________\n",
            "bidirectional (Bidirectional)   (None, 48)           9600        char_embedding[1][0]             \n",
            "__________________________________________________________________________________________________\n",
            "token_char_hybrid (Concatenate) (None, 176)          0           dense_3[0][0]                    \n",
            "                                                                 bidirectional[0][0]              \n",
            "__________________________________________________________________________________________________\n",
            "dropout (Dropout)               (None, 176)          0           token_char_hybrid[0][0]          \n",
            "__________________________________________________________________________________________________\n",
            "dense_4 (Dense)                 (None, 128)          22656       dropout[0][0]                    \n",
            "__________________________________________________________________________________________________\n",
            "dropout_1 (Dropout)             (None, 128)          0           dense_4[0][0]                    \n",
            "__________________________________________________________________________________________________\n",
            "dense_5 (Dense)                 (None, 5)            645         dropout_1[0][0]                  \n",
            "==================================================================================================\n",
            "Total params: 256,897,089\n",
            "Trainable params: 99,265\n",
            "Non-trainable params: 256,797,824\n",
            "__________________________________________________________________________________________________\n"
          ]
        }
      ]
    },
    {
      "cell_type": "code",
      "metadata": {
        "colab": {
          "base_uri": "https://localhost:8080/",
          "height": 976
        },
        "id": "psJFWRHDBpNz",
        "outputId": "8e40f585-ec73-4ca7-a59e-735e7d576695"
      },
      "source": [
        "# Plot hybrid token and character model\n",
        "from tensorflow.keras.utils import plot_model\n",
        "plot_model(model_4,show_shapes=True)"
      ],
      "execution_count": 88,
      "outputs": [
        {
          "output_type": "execute_result",
          "data": {
            "image/png": "[encoded data removed]",
            "text/plain": [
              "<IPython.core.display.Image object>"
            ]
          },
          "metadata": {},
          "execution_count": 88
        }
      ]
    },
    {
      "cell_type": "code",
      "metadata": {
        "id": "-A0c2E5_C1Jl"
      },
      "source": [
        "# Compile token char model\n",
        "model_4.compile(\n",
        "    loss=\"categorical_crossentropy\",\n",
        "    optimizer=tf.keras.optimizers.Adam(),\n",
        "    metrics=[\"accuracy\"]\n",
        ")"
      ],
      "execution_count": 89,
      "outputs": []
    },
    {
      "cell_type": "markdown",
      "metadata": {
        "id": "XiTlJxlbEwuK"
      },
      "source": [
        "### Combining token and character data into a tf.data Datset"
      ]
    },
    {
      "cell_type": "code",
      "metadata": {
        "id": "M30BpwWmFaHV"
      },
      "source": [
        "# 1. Combine chars and tokens into a Dataset for training data\n",
        "train_char_token_data = tf.data.Dataset.from_tensor_slices((train_sentences, train_chars)) # make data\n",
        "train_char_token_labels = tf.data.Dataset.from_tensor_slices(train_labels_one_hot) # make labels\n",
        "train_char_token_dataset = tf.data.Dataset.zip((train_char_token_data,train_char_token_labels)) # combine data and labels\n",
        "# Prefetch and batch train data\n",
        "train_char_token_dataset = train_char_token_dataset.batch(batch_size=32).prefetch(buffer_size=tf.data.AUTOTUNE)\n",
        "\n",
        "# 2. Combine chars and tokens into a Dataset for validation data\n",
        "val_char_token_data = tf.data.Dataset.from_tensor_slices((val_sentences, val_chars))\n",
        "val_char_token_labels = tf.data.Dataset.from_tensor_slices(val_labels_one_hot)\n",
        "val_char_token_dataset = tf.data.Dataset.zip((val_char_token_data,val_char_token_labels))\n",
        "# Prefetch and batch validation data\n",
        "val_char_token_dataset = val_char_token_dataset.batch(batch_size=32).prefetch(buffer_size=tf.data.AUTOTUNE)\n",
        "\n",
        "# 3. Combine chars and tokens into a Dataset for testing data\n",
        "test_char_token_data = tf.data.Dataset.from_tensor_slices((test_sentences,test_chars))\n",
        "test_char_token_labels = tf.data.Dataset.from_tensor_slices(test_labels_one_hot)\n",
        "test_char_token_dataset = tf.data.Dataset.zip((test_char_token_data,test_char_token_labels))\n",
        "# Prefetch and batch validation data\n",
        "test_char_token_dataset = test_char_token_dataset.batch(batch_size=32).prefetch(buffer_size=tf.data.AUTOTUNE)"
      ],
      "execution_count": 90,
      "outputs": []
    },
    {
      "cell_type": "code",
      "metadata": {
        "colab": {
          "base_uri": "https://localhost:8080/"
        },
        "id": "l576beX6Isk1",
        "outputId": "2db5b461-bba7-49d2-eae0-1873ca59a989"
      },
      "source": [
        "train_char_token_dataset, val_char_token_dataset, test_char_token_dataset"
      ],
      "execution_count": 91,
      "outputs": [
        {
          "output_type": "execute_result",
          "data": {
            "text/plain": [
              "(<PrefetchDataset shapes: (((None,), (None,)), (None, 5)), types: ((tf.string, tf.string), tf.float64)>,\n",
              " <PrefetchDataset shapes: (((None,), (None,)), (None, 5)), types: ((tf.string, tf.string), tf.float64)>,\n",
              " <PrefetchDataset shapes: (((None,), (None,)), (None, 5)), types: ((tf.string, tf.string), tf.float64)>)"
            ]
          },
          "metadata": {},
          "execution_count": 91
        }
      ]
    },
    {
      "cell_type": "markdown",
      "metadata": {
        "id": "PSbMQeLzI_nO"
      },
      "source": [
        "### Fitting a model on token and character-level sequences"
      ]
    },
    {
      "cell_type": "code",
      "metadata": {
        "colab": {
          "base_uri": "https://localhost:8080/"
        },
        "id": "HQJH1FS5ZaK4",
        "outputId": "67fb78b6-4fec-4b42-e70e-7adc2cec0dff"
      },
      "source": [
        "# Fit the model on tokens and chars\n",
        "history_model_4 = model_4.fit(train_char_token_dataset,\n",
        "                              epochs=3,\n",
        "                              steps_per_epoch=int(0.1*len(train_char_token_dataset)),\n",
        "                              validation_data=val_char_token_dataset,\n",
        "                              validation_steps=int(0.1*len(val_char_token_dataset)))"
      ],
      "execution_count": 92,
      "outputs": [
        {
          "output_type": "stream",
          "name": "stdout",
          "text": [
            "Epoch 1/3\n",
            "562/562 [==============================] - 82s 130ms/step - loss: 0.9855 - accuracy: 0.6122 - val_loss: 0.8156 - val_accuracy: 0.6918\n",
            "Epoch 2/3\n",
            "562/562 [==============================] - 70s 124ms/step - loss: 0.7994 - accuracy: 0.6920 - val_loss: 0.7417 - val_accuracy: 0.7118\n",
            "Epoch 3/3\n",
            "562/562 [==============================] - 67s 118ms/step - loss: 0.7754 - accuracy: 0.7041 - val_loss: 0.7125 - val_accuracy: 0.7241\n"
          ]
        }
      ]
    },
    {
      "cell_type": "code",
      "metadata": {
        "colab": {
          "base_uri": "https://localhost:8080/"
        },
        "id": "edN-Bko1Z9h7",
        "outputId": "f3225750-dcad-4524-eac7-11e9d6d0ec8a"
      },
      "source": [
        "# Evaluate on the whole dataset\n",
        "model_4.evaluate(val_char_token_dataset)"
      ],
      "execution_count": 93,
      "outputs": [
        {
          "output_type": "stream",
          "name": "stdout",
          "text": [
            "942/942 [==============================] - 48s 51ms/step - loss: 0.7118 - accuracy: 0.7259\n"
          ]
        },
        {
          "output_type": "execute_result",
          "data": {
            "text/plain": [
              "[0.7118285894393921, 0.7259001135826111]"
            ]
          },
          "metadata": {},
          "execution_count": 93
        }
      ]
    },
    {
      "cell_type": "code",
      "metadata": {
        "colab": {
          "base_uri": "https://localhost:8080/"
        },
        "id": "80sEi-XLbBc1",
        "outputId": "d5996953-5d0c-44e8-8e30-98b8b8adb292"
      },
      "source": [
        "# Make predictions using the token-character hybrid model\n",
        "model_4_pred_probs = model_4.predict(val_char_token_dataset)\n",
        "model_4_pred_probs"
      ],
      "execution_count": 94,
      "outputs": [
        {
          "output_type": "execute_result",
          "data": {
            "text/plain": [
              "array([[3.12052995e-01, 1.64817482e-01, 7.56114870e-02, 4.06992853e-01,\n",
              "        4.05251980e-02],\n",
              "       [2.55677283e-01, 5.56265339e-02, 1.71633750e-01, 4.99781936e-01,\n",
              "        1.72804482e-02],\n",
              "       [1.01515336e-03, 4.44093114e-03, 8.50048900e-01, 6.14062068e-04,\n",
              "        1.43880948e-01],\n",
              "       ...,\n",
              "       [4.19355347e-04, 3.14771123e-02, 2.65951883e-02, 1.07359199e-04,\n",
              "        9.41401005e-01],\n",
              "       [3.24594835e-03, 5.40936664e-02, 8.85128975e-02, 2.47070659e-03,\n",
              "        8.51676762e-01],\n",
              "       [3.05548348e-02, 6.44782364e-01, 1.06248766e-01, 1.91140175e-02,\n",
              "        1.99300021e-01]], dtype=float32)"
            ]
          },
          "metadata": {},
          "execution_count": 94
        }
      ]
    },
    {
      "cell_type": "code",
      "metadata": {
        "colab": {
          "base_uri": "https://localhost:8080/"
        },
        "id": "_yyWK4_JbUhG",
        "outputId": "16378779-e109-4e0a-be14-c6aee4244d42"
      },
      "source": [
        "# Format pred probs into pred labels\n",
        "model_4_preds = model_4_pred_probs.argmax(axis=1)\n",
        "model_4_preds"
      ],
      "execution_count": 95,
      "outputs": [
        {
          "output_type": "execute_result",
          "data": {
            "text/plain": [
              "array([3, 3, 2, ..., 4, 4, 1])"
            ]
          },
          "metadata": {},
          "execution_count": 95
        }
      ]
    },
    {
      "cell_type": "code",
      "metadata": {
        "colab": {
          "base_uri": "https://localhost:8080/"
        },
        "id": "L1pW1y8Wbije",
        "outputId": "954b7328-fa95-471c-f414-ee0ee25f327b"
      },
      "source": [
        "# Get results of token-char-hybrid model\n",
        "model_4_results = calculate_results(y_true=val_labels_encoded,\n",
        "                                    y_pred=model_4_preds)\n",
        "model_4_results"
      ],
      "execution_count": 96,
      "outputs": [
        {
          "output_type": "execute_result",
          "data": {
            "text/plain": [
              "{'accuracy': 72.59001161440186,\n",
              " 'f1-score': 0.7227367287686486,\n",
              " 'precision': 0.7260492362826476,\n",
              " 'recall': 0.7259001161440186}"
            ]
          },
          "metadata": {},
          "execution_count": 96
        }
      ]
    },
    {
      "cell_type": "markdown",
      "metadata": {
        "id": "KzQALxyCbxdA"
      },
      "source": [
        "## Model 5: Transfer Learning with pretrained token embeddings + character embeddings + positional embeddings"
      ]
    },
    {
      "cell_type": "code",
      "metadata": {
        "colab": {
          "base_uri": "https://localhost:8080/",
          "height": 204
        },
        "id": "U2B7QTOde69H",
        "outputId": "41a67ffa-a734-4e99-a638-004e67cbdd6c"
      },
      "source": [
        "train_df.head()"
      ],
      "execution_count": 97,
      "outputs": [
        {
          "output_type": "execute_result",
          "data": {
            "text/html": [
              "<div>\n",
              "<style scoped>\n",
              "    .dataframe tbody tr th:only-of-type {\n",
              "        vertical-align: middle;\n",
              "    }\n",
              "\n",
              "    .dataframe tbody tr th {\n",
              "        vertical-align: top;\n",
              "    }\n",
              "\n",
              "    .dataframe thead th {\n",
              "        text-align: right;\n",
              "    }\n",
              "</style>\n",
              "<table border=\"1\" class=\"dataframe\">\n",
              "  <thead>\n",
              "    <tr style=\"text-align: right;\">\n",
              "      <th></th>\n",
              "      <th>target</th>\n",
              "      <th>text</th>\n",
              "      <th>line_number</th>\n",
              "      <th>total line</th>\n",
              "    </tr>\n",
              "  </thead>\n",
              "  <tbody>\n",
              "    <tr>\n",
              "      <th>0</th>\n",
              "      <td>OBJECTIVE</td>\n",
              "      <td>to investigate the efficacy of @ weeks of dail...</td>\n",
              "      <td>0</td>\n",
              "      <td>11</td>\n",
              "    </tr>\n",
              "    <tr>\n",
              "      <th>1</th>\n",
              "      <td>METHODS</td>\n",
              "      <td>a total of @ patients with primary knee oa wer...</td>\n",
              "      <td>1</td>\n",
              "      <td>11</td>\n",
              "    </tr>\n",
              "    <tr>\n",
              "      <th>2</th>\n",
              "      <td>METHODS</td>\n",
              "      <td>outcome measures included pain reduction and i...</td>\n",
              "      <td>2</td>\n",
              "      <td>11</td>\n",
              "    </tr>\n",
              "    <tr>\n",
              "      <th>3</th>\n",
              "      <td>METHODS</td>\n",
              "      <td>pain was assessed using the visual analog pain...</td>\n",
              "      <td>3</td>\n",
              "      <td>11</td>\n",
              "    </tr>\n",
              "    <tr>\n",
              "      <th>4</th>\n",
              "      <td>METHODS</td>\n",
              "      <td>secondary outcome measures included the wester...</td>\n",
              "      <td>4</td>\n",
              "      <td>11</td>\n",
              "    </tr>\n",
              "  </tbody>\n",
              "</table>\n",
              "</div>"
            ],
            "text/plain": [
              "      target  ... total line\n",
              "0  OBJECTIVE  ...         11\n",
              "1    METHODS  ...         11\n",
              "2    METHODS  ...         11\n",
              "3    METHODS  ...         11\n",
              "4    METHODS  ...         11\n",
              "\n",
              "[5 rows x 4 columns]"
            ]
          },
          "metadata": {},
          "execution_count": 97
        }
      ]
    },
    {
      "cell_type": "markdown",
      "metadata": {
        "id": "ndX2IC6TfQEB"
      },
      "source": [
        "> Any engineered features used to train a model need to be availabe at test time. In our case, line numbers and total lines are available."
      ]
    },
    {
      "cell_type": "markdown",
      "metadata": {
        "id": "esbFY8o-gnvH"
      },
      "source": [
        "### Create positional embeddings"
      ]
    },
    {
      "cell_type": "code",
      "metadata": {
        "colab": {
          "base_uri": "https://localhost:8080/"
        },
        "id": "4aLBhgnbgp6u",
        "outputId": "2b1ce987-2663-4902-e5ed-437b8672a5b6"
      },
      "source": [
        "# How many different line numbers are there?\n",
        "train_df[\"line_number\"].value_counts()"
      ],
      "execution_count": 98,
      "outputs": [
        {
          "output_type": "execute_result",
          "data": {
            "text/plain": [
              "0     15000\n",
              "1     15000\n",
              "2     15000\n",
              "3     15000\n",
              "4     14992\n",
              "5     14949\n",
              "6     14758\n",
              "7     14279\n",
              "8     13346\n",
              "9     11981\n",
              "10    10041\n",
              "11     7892\n",
              "12     5853\n",
              "13     4152\n",
              "14     2835\n",
              "15     1861\n",
              "16     1188\n",
              "17      751\n",
              "18      462\n",
              "19      286\n",
              "20      162\n",
              "21      101\n",
              "22       66\n",
              "23       33\n",
              "24       22\n",
              "25       14\n",
              "26        7\n",
              "27        4\n",
              "28        3\n",
              "29        1\n",
              "30        1\n",
              "Name: line_number, dtype: int64"
            ]
          },
          "metadata": {},
          "execution_count": 98
        }
      ]
    },
    {
      "cell_type": "code",
      "metadata": {
        "colab": {
          "base_uri": "https://localhost:8080/",
          "height": 265
        },
        "id": "j6l1F9H6gyYu",
        "outputId": "2fd2fda3-2c20-4174-b19b-9163c5610d32"
      },
      "source": [
        "# Check the distribution of line_number column\n",
        "train_df.line_number.plot.hist();"
      ],
      "execution_count": 99,
      "outputs": [
        {
          "output_type": "display_data",
          "data": {
            "image/png": "[encoded data removed]",
            "text/plain": [
              "<Figure size 432x288 with 1 Axes>"
            ]
          },
          "metadata": {
            "needs_background": "light"
          }
        }
      ]
    },
    {
      "cell_type": "code",
      "metadata": {
        "colab": {
          "base_uri": "https://localhost:8080/"
        },
        "id": "2Fx2k4gnhOIP",
        "outputId": "bc07dba4-c21e-4077-8fb1-71bea9c53772"
      },
      "source": [
        "# Use tensorflow to create one_hot_encoded tensors of our line_number columns\n",
        "train_line_numbers_one_hot = tf.one_hot(train_df[\"line_number\"].to_numpy(),depth=15)\n",
        "val_line_numbers_one_hot = tf.one_hot(val_df[\"line_number\"].to_numpy(),depth=15)\n",
        "test_line_numbers_one_hot = tf.one_hot(test_df[\"line_number\"].to_numpy(),depth=15)\n",
        "train_line_numbers_one_hot[:10], train_line_numbers_one_hot.shape"
      ],
      "execution_count": 104,
      "outputs": [
        {
          "output_type": "execute_result",
          "data": {
            "text/plain": [
              "(<tf.Tensor: shape=(10, 15), dtype=float32, numpy=\n",
              " array([[1., 0., 0., 0., 0., 0., 0., 0., 0., 0., 0., 0., 0., 0., 0.],\n",
              "        [0., 1., 0., 0., 0., 0., 0., 0., 0., 0., 0., 0., 0., 0., 0.],\n",
              "        [0., 0., 1., 0., 0., 0., 0., 0., 0., 0., 0., 0., 0., 0., 0.],\n",
              "        [0., 0., 0., 1., 0., 0., 0., 0., 0., 0., 0., 0., 0., 0., 0.],\n",
              "        [0., 0., 0., 0., 1., 0., 0., 0., 0., 0., 0., 0., 0., 0., 0.],\n",
              "        [0., 0., 0., 0., 0., 1., 0., 0., 0., 0., 0., 0., 0., 0., 0.],\n",
              "        [0., 0., 0., 0., 0., 0., 1., 0., 0., 0., 0., 0., 0., 0., 0.],\n",
              "        [0., 0., 0., 0., 0., 0., 0., 1., 0., 0., 0., 0., 0., 0., 0.],\n",
              "        [0., 0., 0., 0., 0., 0., 0., 0., 1., 0., 0., 0., 0., 0., 0.],\n",
              "        [0., 0., 0., 0., 0., 0., 0., 0., 0., 1., 0., 0., 0., 0., 0.]],\n",
              "       dtype=float32)>, TensorShape([180040, 15]))"
            ]
          },
          "metadata": {},
          "execution_count": 104
        }
      ]
    },
    {
      "cell_type": "markdown",
      "metadata": {
        "id": "zven_b2VkqwT"
      },
      "source": [
        "Now we've encoded our line number feature, let's do the same for our total line features"
      ]
    },
    {
      "cell_type": "code",
      "metadata": {
        "colab": {
          "base_uri": "https://localhost:8080/"
        },
        "id": "s0RSXaUsiM2H",
        "outputId": "b7004d62-6314-4f7b-fd8d-5040a9067323"
      },
      "source": [
        "# How many different number of lines are there?\n",
        "train_df[\"total line\"].value_counts()"
      ],
      "execution_count": 107,
      "outputs": [
        {
          "output_type": "execute_result",
          "data": {
            "text/plain": [
              "11    24468\n",
              "10    23639\n",
              "12    22113\n",
              "9     19400\n",
              "13    18438\n",
              "14    14610\n",
              "8     12285\n",
              "15    10768\n",
              "7      7464\n",
              "16     7429\n",
              "17     5202\n",
              "6      3353\n",
              "18     3344\n",
              "19     2480\n",
              "20     1281\n",
              "5      1146\n",
              "21      770\n",
              "22      759\n",
              "23      264\n",
              "4       215\n",
              "24      200\n",
              "25      182\n",
              "26       81\n",
              "28       58\n",
              "3        32\n",
              "30       31\n",
              "27       28\n",
              "Name: total line, dtype: int64"
            ]
          },
          "metadata": {},
          "execution_count": 107
        }
      ]
    },
    {
      "cell_type": "code",
      "metadata": {
        "colab": {
          "base_uri": "https://localhost:8080/",
          "height": 267
        },
        "id": "gGzWd867jzOj",
        "outputId": "2e747c9f-d39b-45db-c295-7bc67ae0d76a"
      },
      "source": [
        "# Check the distribution of total line column\n",
        "train_df[\"total line\"].plot.hist();"
      ],
      "execution_count": 108,
      "outputs": [
        {
          "output_type": "display_data",
          "data": {
            "image/png": "[encoded data removed]",
            "text/plain": [
              "<Figure size 432x288 with 1 Axes>"
            ]
          },
          "metadata": {
            "needs_background": "light"
          }
        }
      ]
    },
    {
      "cell_type": "code",
      "metadata": {
        "colab": {
          "base_uri": "https://localhost:8080/"
        },
        "id": "H2_TkYFIkZwA",
        "outputId": "22997a3b-62b1-4d85-edcd-b297a7998e01"
      },
      "source": [
        "# Check the 95% coverage of a total lines?\n",
        "np.percentile(train_df[\"total line\"],95)"
      ],
      "execution_count": 110,
      "outputs": [
        {
          "output_type": "execute_result",
          "data": {
            "text/plain": [
              "18.0"
            ]
          },
          "metadata": {},
          "execution_count": 110
        }
      ]
    },
    {
      "cell_type": "code",
      "metadata": {
        "colab": {
          "base_uri": "https://localhost:8080/"
        },
        "id": "qbLsKu2UllMc",
        "outputId": "3d616b78-dd2d-42be-c01e-a2f7992ca011"
      },
      "source": [
        "# Use TensorFlow to create one hot encoded tensors of our total line feature\n",
        "train_total_lines_one_hot = tf.one_hot(train_df[\"total line\"].to_numpy(),depth=18)\n",
        "val_total_lines_one_hot = tf.one_hot(val_df[\"total line\"].to_numpy(),depth=18)\n",
        "test_total_lines_one_hot = tf.one_hot(test_df[\"total line\"].to_numpy(),depth=18)\n",
        "train_total_lines_one_hot[:14], train_total_lines_one_hot.shape"
      ],
      "execution_count": 112,
      "outputs": [
        {
          "output_type": "execute_result",
          "data": {
            "text/plain": [
              "(<tf.Tensor: shape=(14, 18), dtype=float32, numpy=\n",
              " array([[0., 0., 0., 0., 0., 0., 0., 0., 0., 0., 0., 1., 0., 0., 0., 0.,\n",
              "         0., 0.],\n",
              "        [0., 0., 0., 0., 0., 0., 0., 0., 0., 0., 0., 1., 0., 0., 0., 0.,\n",
              "         0., 0.],\n",
              "        [0., 0., 0., 0., 0., 0., 0., 0., 0., 0., 0., 1., 0., 0., 0., 0.,\n",
              "         0., 0.],\n",
              "        [0., 0., 0., 0., 0., 0., 0., 0., 0., 0., 0., 1., 0., 0., 0., 0.,\n",
              "         0., 0.],\n",
              "        [0., 0., 0., 0., 0., 0., 0., 0., 0., 0., 0., 1., 0., 0., 0., 0.,\n",
              "         0., 0.],\n",
              "        [0., 0., 0., 0., 0., 0., 0., 0., 0., 0., 0., 1., 0., 0., 0., 0.,\n",
              "         0., 0.],\n",
              "        [0., 0., 0., 0., 0., 0., 0., 0., 0., 0., 0., 1., 0., 0., 0., 0.,\n",
              "         0., 0.],\n",
              "        [0., 0., 0., 0., 0., 0., 0., 0., 0., 0., 0., 1., 0., 0., 0., 0.,\n",
              "         0., 0.],\n",
              "        [0., 0., 0., 0., 0., 0., 0., 0., 0., 0., 0., 1., 0., 0., 0., 0.,\n",
              "         0., 0.],\n",
              "        [0., 0., 0., 0., 0., 0., 0., 0., 0., 0., 0., 1., 0., 0., 0., 0.,\n",
              "         0., 0.],\n",
              "        [0., 0., 0., 0., 0., 0., 0., 0., 0., 0., 0., 1., 0., 0., 0., 0.,\n",
              "         0., 0.],\n",
              "        [0., 0., 0., 0., 0., 0., 0., 0., 0., 0., 0., 1., 0., 0., 0., 0.,\n",
              "         0., 0.],\n",
              "        [0., 0., 0., 0., 0., 0., 0., 0., 0., 0., 1., 0., 0., 0., 0., 0.,\n",
              "         0., 0.],\n",
              "        [0., 0., 0., 0., 0., 0., 0., 0., 0., 0., 1., 0., 0., 0., 0., 0.,\n",
              "         0., 0.]], dtype=float32)>, TensorShape([180040, 18]))"
            ]
          },
          "metadata": {},
          "execution_count": 112
        }
      ]
    },
    {
      "cell_type": "markdown",
      "metadata": {
        "id": "SKJCLg9_mXCu"
      },
      "source": [
        "### Building a tribrid embedding model\n",
        "\n",
        "1. Create a token-level model\n",
        "2. Create a character-level model\n",
        "3. Create a model for the \"line_number\" feature\n",
        "4. Create a model for the \"total_lines\" feature\n",
        "5. Combine the outputs of 1 & 2 using tf.keras.layers.Concatenate\n",
        "6. Combine the outputs of 3, 4 & 5 using tf.keras.layers.Concatenate\n",
        "7. Create an output layer to accept the tribrid embedding and output label probabilities\n",
        "8. Combine the inputs of 1,2,3,4 and the outputs of 7 into a tf.keras.Model"
      ]
    },
    {
      "cell_type": "code",
      "metadata": {
        "id": "I_WyoyzZoOSN"
      },
      "source": [
        "# 1. Token inputs\n",
        "token_inputs = layers.Input(shape=[],dtype=tf.string,name=\"token_layer\")\n",
        "token_embeddings = hub_embedding_layer(token_inputs)\n",
        "token_outputs = layers.Dense(128,activation=\"relu\")(token_embeddings)\n",
        "token_model = tf.keras.Model(inputs=token_inputs,\n",
        "                             outputs=token_outputs)\n",
        "\n",
        "# 2. Char inputs\n",
        "char_inputs = layers.Input(shape=(1, ),dtype=tf.string,name=\"char_inputs\")\n",
        "char_vectors = char_vectorizer(char_inputs)\n",
        "char_embeddings = char_embed(char_vectors)\n",
        "char_bi_lstm = layers.Bidirectional(layer=layers.LSTM(units=24))(char_embeddings)\n",
        "char_model = tf.keras.Model(inputs=char_inputs,\n",
        "                            outputs=char_bi_lstm)\n",
        "\n",
        "# 3. Line Number feature model\n",
        "line_number_inputs = layers.Input(shape=(15,),dtype=tf.float32,name=\"line_input\")\n",
        "line_number_dense = layers.Dense(32,activation=\"relu\")(line_number_inputs)\n",
        "line_number_model = tf.keras.Model(inputs=line_number_inputs,\n",
        "                                   outputs=line_number_dense)\n",
        "\n",
        "# 4. Total Line Feature model\n",
        "total_lines_inputs = layers.Input(shape=(18,),dtype=tf.float32,name=\"total_lines_input\")\n",
        "total_lines_dense = layers.Dense(32,activation=\"relu\")(total_lines_inputs)\n",
        "total_lines_model = tf.keras.Model(inputs=total_lines_inputs,\n",
        "                                   outputs=total_lines_dense)\n",
        "\n",
        "# 5. Combine outputs of model 1 & 2\n",
        "combined_embeddings = tf.keras.layers.Concatenate(name=\"token_char_hybrid_model\")([token_model.output,\n",
        "                                                                                   char_model.output])\n",
        "z = layers.Dense(256, activation=\"relu\")(combined_embeddings)\n",
        "z = layers.Dropout(rate=0.5)(z)\n",
        "\n",
        "# 6. Combine outputs of model 3,4,5\n",
        "tribrid_embeddings = tf.keras.layers.Concatenate(name=\"token_char_positional_tribrid_model\")([line_number_model.output,\n",
        "                                                                                              total_lines_model.output,\n",
        "                                                                                              z])\n",
        "\n",
        "# 7. Create output layer\n",
        "output_layer = layers.Dense(5, activation=\"Softmax\", name=\"output_layer\")(tribrid_embeddings)\n",
        "\n",
        "# 8. Put together model with all kinds of inputs\n",
        "model_5 = tf.keras.Model(inputs=[line_number_model.input,\n",
        "                                 total_lines_model.input,\n",
        "                                 token_model.input,\n",
        "                                 char_model.input],\n",
        "                         outputs=output_layer,\n",
        "                         name=\"tribrid_model\")"
      ],
      "execution_count": 117,
      "outputs": []
    },
    {
      "cell_type": "code",
      "metadata": {
        "colab": {
          "base_uri": "https://localhost:8080/"
        },
        "id": "9MzXcACC0Cyd",
        "outputId": "039bc4c7-c92d-4bb2-ef9e-e1555bf82aa3"
      },
      "source": [
        "# Get the summary\n",
        "model_5.summary()"
      ],
      "execution_count": 118,
      "outputs": [
        {
          "output_type": "stream",
          "name": "stdout",
          "text": [
            "Model: \"tribrid_model\"\n",
            "__________________________________________________________________________________________________\n",
            "Layer (type)                    Output Shape         Param #     Connected to                     \n",
            "==================================================================================================\n",
            "char_inputs (InputLayer)        [(None, 1)]          0                                            \n",
            "__________________________________________________________________________________________________\n",
            "token_layer (InputLayer)        [(None,)]            0                                            \n",
            "__________________________________________________________________________________________________\n",
            "char_vectorizer (TextVectorizat (None, 290)          0           char_inputs[0][0]                \n",
            "__________________________________________________________________________________________________\n",
            "universal_sentence_encoder (Ker (None, 512)          256797824   token_layer[0][0]                \n",
            "__________________________________________________________________________________________________\n",
            "char_embedding (Embedding)      (None, 290, 25)      700         char_vectorizer[4][0]            \n",
            "__________________________________________________________________________________________________\n",
            "dense_14 (Dense)                (None, 128)          65664       universal_sentence_encoder[4][0] \n",
            "__________________________________________________________________________________________________\n",
            "bidirectional_3 (Bidirectional) (None, 48)           9600        char_embedding[4][0]             \n",
            "__________________________________________________________________________________________________\n",
            "token_char_hybrid_model (Concat (None, 176)          0           dense_14[0][0]                   \n",
            "                                                                 bidirectional_3[0][0]            \n",
            "__________________________________________________________________________________________________\n",
            "line_input (InputLayer)         [(None, 15)]         0                                            \n",
            "__________________________________________________________________________________________________\n",
            "total_lines_input (InputLayer)  [(None, 18)]         0                                            \n",
            "__________________________________________________________________________________________________\n",
            "dense_17 (Dense)                (None, 256)          45312       token_char_hybrid_model[0][0]    \n",
            "__________________________________________________________________________________________________\n",
            "dense_15 (Dense)                (None, 32)           512         line_input[0][0]                 \n",
            "__________________________________________________________________________________________________\n",
            "dense_16 (Dense)                (None, 32)           608         total_lines_input[0][0]          \n",
            "__________________________________________________________________________________________________\n",
            "dropout_4 (Dropout)             (None, 256)          0           dense_17[0][0]                   \n",
            "__________________________________________________________________________________________________\n",
            "token_char_positional_tribrid_m (None, 320)          0           dense_15[0][0]                   \n",
            "                                                                 dense_16[0][0]                   \n",
            "                                                                 dropout_4[0][0]                  \n",
            "__________________________________________________________________________________________________\n",
            "output_layer (Dense)            (None, 5)            1605        token_char_positional_tribrid_mod\n",
            "==================================================================================================\n",
            "Total params: 256,921,825\n",
            "Trainable params: 124,001\n",
            "Non-trainable params: 256,797,824\n",
            "__________________________________________________________________________________________________\n"
          ]
        }
      ]
    },
    {
      "cell_type": "code",
      "metadata": {
        "colab": {
          "base_uri": "https://localhost:8080/",
          "height": 758
        },
        "id": "ihgnFD3f0SWj",
        "outputId": "70ea8427-5eac-4aab-fd4d-cc5185d26d17"
      },
      "source": [
        "# Plot model 5\n",
        "plot_model(model_5,show_shapes=True)"
      ],
      "execution_count": 119,
      "outputs": [
        {
          "output_type": "execute_result",
          "data": {
            "image/png": "[encoded data removed]",
            "text/plain": [
              "<IPython.core.display.Image object>"
            ]
          },
          "metadata": {},
          "execution_count": 119
        }
      ]
    },
    {
      "cell_type": "markdown",
      "metadata": {
        "id": "dJORXI1uzgHt"
      },
      "source": [
        "What is Label Smoothing?\n",
        "\n",
        "For example if our model gets too confident on a single class (e.g. its prediction probabiliy is really high), it may get stuck on that class and not consider other classes.\n",
        "\n",
        "Really confident: `[0.0, 0.0, 1.0, 0.0, 0.0]`\n",
        "\n",
        "What label smoothing does is it assigns some of the value from the highest pred probs to other classes, in turn, hopefully improving generalization: `[0.01, 0.01, 0.96, 0.01, 0.01]`\n",
        "\n",
        "> More info on Label Smoothing from PyImageSearch: https://www.pyimagesearch.com/2019/12/30/label-smoothing-with-keras-tensorflow-and-deep-learning/"
      ]
    },
    {
      "cell_type": "code",
      "metadata": {
        "id": "hswnQtN_z7UG"
      },
      "source": [
        "# Compile the model\n",
        "model_5.compile(\n",
        "    loss = tf.keras.losses.CategoricalCrossentropy(label_smoothing=0.2), # helps to prevent over-fitting\n",
        "    optimizer = tf.keras.optimizers.Adam(),\n",
        "    metrics=[\"accuracy\"]\n",
        ")"
      ],
      "execution_count": 120,
      "outputs": []
    },
    {
      "cell_type": "markdown",
      "metadata": {
        "id": "PBg_HTX75UVp"
      },
      "source": [
        "###  Creating tribrid embeddings datasets"
      ]
    },
    {
      "cell_type": "code",
      "metadata": {
        "id": "t6TCUjlU5eCf"
      },
      "source": [
        "# 1. Training dataset\n",
        "train_char_token_pos_data = tf.data.Dataset.from_tensor_slices((train_line_numbers_one_hot,\n",
        "                                                                train_total_lines_one_hot,\n",
        "                                                                train_sentences,\n",
        "                                                                train_chars))\n",
        "train_char_token_pos_labels = tf.data.Dataset.from_tensor_slices(train_labels_one_hot)\n",
        "train_char_token_pos_dataset = tf.data.Dataset.zip((train_char_token_pos_data,train_char_token_pos_labels))\n",
        "train_tribrid_dataset = train_char_token_pos_dataset.batch(batch_size=32).prefetch(buffer_size=tf.data.AUTOTUNE)\n",
        "\n",
        "# 2. Validation dataset\n",
        "val_char_token_pos_data = tf.data.Dataset.from_tensor_slices((val_line_numbers_one_hot,\n",
        "                                                              val_total_lines_one_hot,\n",
        "                                                              val_sentences,\n",
        "                                                              val_chars))\n",
        "val_char_token_pos_labels = tf.data.Dataset.from_tensor_slices(val_labels_one_hot)\n",
        "val_char_token_pos_dataset = tf.data.Dataset.zip((val_char_token_pos_data,val_char_token_pos_labels))\n",
        "val_tribrid_dataset = val_char_token_pos_dataset.batch(batch_size=32).prefetch(buffer_size=tf.data.AUTOTUNE)\n",
        "\n",
        "# # 3. Testing dataset\n",
        "# test_char_token_pos_data = tf.data.Dataset.from_tensor_slices((test_line_numbers_one_hot,\n",
        "#                                                                test_total_lines_one_hot,\n",
        "#                                                                test_sentences,\n",
        "#                                                                test_chars))\n",
        "# test_char_token_pos_labels = tf.data.Dataset.from_tensor_slices(test_labels_one_hot)\n",
        "# test_char_token_pos_dataset = tf.data.Dataset.zip((test_char_token_pos_data,test_char_token_pos_labels))\n",
        "# test_tribrid_dataset = test_char_token_pos_dataset.batch(batch_size=32).prefetch(buffer_size=tf.data.AUTOTUNE)"
      ],
      "execution_count": 121,
      "outputs": []
    },
    {
      "cell_type": "code",
      "metadata": {
        "colab": {
          "base_uri": "https://localhost:8080/"
        },
        "id": "kDrK1OIW9nRJ",
        "outputId": "f4cfd524-6edc-4184-f44e-08bfaffb9fa8"
      },
      "source": [
        "# Check input shapes\n",
        "train_tribrid_dataset, val_tribrid_dataset"
      ],
      "execution_count": 122,
      "outputs": [
        {
          "output_type": "execute_result",
          "data": {
            "text/plain": [
              "(<PrefetchDataset shapes: (((None, 15), (None, 18), (None,), (None,)), (None, 5)), types: ((tf.float32, tf.float32, tf.string, tf.string), tf.float64)>,\n",
              " <PrefetchDataset shapes: (((None, 15), (None, 18), (None,), (None,)), (None, 5)), types: ((tf.float32, tf.float32, tf.string, tf.string), tf.float64)>)"
            ]
          },
          "metadata": {},
          "execution_count": 122
        }
      ]
    },
    {
      "cell_type": "markdown",
      "metadata": {
        "id": "3PusbnXC92Nx"
      },
      "source": [
        "### Fitting, evaluating and making predictions with the tribrid model"
      ]
    },
    {
      "cell_type": "code",
      "metadata": {
        "colab": {
          "base_uri": "https://localhost:8080/"
        },
        "id": "-Q_5QyBL_K4S",
        "outputId": "e3327b67-4655-4b2a-fe17-eba47979284b"
      },
      "source": [
        "# Fit the model\n",
        "history_model_5 = model_5.fit(train_tribrid_dataset,\n",
        "                              epochs=3,\n",
        "                              steps_per_epoch=int(0.1*len(train_tribrid_dataset)),\n",
        "                              validation_data=val_tribrid_dataset,\n",
        "                              validation_steps=int(0.1*len(val_tribrid_dataset)))"
      ],
      "execution_count": 124,
      "outputs": [
        {
          "output_type": "stream",
          "name": "stdout",
          "text": [
            "Epoch 1/3\n",
            "562/562 [==============================] - 83s 130ms/step - loss: 1.0966 - accuracy: 0.7244 - val_loss: 0.9964 - val_accuracy: 0.7912\n",
            "Epoch 2/3\n",
            "562/562 [==============================] - 70s 125ms/step - loss: 0.9677 - accuracy: 0.8157 - val_loss: 0.9633 - val_accuracy: 0.8148\n",
            "Epoch 3/3\n",
            "562/562 [==============================] - 67s 120ms/step - loss: 0.9491 - accuracy: 0.8240 - val_loss: 0.9485 - val_accuracy: 0.8261\n"
          ]
        }
      ]
    },
    {
      "cell_type": "code",
      "metadata": {
        "colab": {
          "base_uri": "https://localhost:8080/"
        },
        "id": "V-sEXFfx_nGw",
        "outputId": "b24b1e66-e2ab-48bf-b768-489d2916dea9"
      },
      "source": [
        "# Evaluate on the whole model\n",
        "model_5.evaluate(val_tribrid_dataset)"
      ],
      "execution_count": 125,
      "outputs": [
        {
          "output_type": "stream",
          "name": "stdout",
          "text": [
            "942/942 [==============================] - 48s 51ms/step - loss: 0.9446 - accuracy: 0.8279\n"
          ]
        },
        {
          "output_type": "execute_result",
          "data": {
            "text/plain": [
              "[0.9446299076080322, 0.8279077410697937]"
            ]
          },
          "metadata": {},
          "execution_count": 125
        }
      ]
    },
    {
      "cell_type": "code",
      "metadata": {
        "colab": {
          "base_uri": "https://localhost:8080/"
        },
        "id": "2wy_KMYY_2uC",
        "outputId": "4e3228b7-fb9e-4fd8-bdd6-2e7607ac6165"
      },
      "source": [
        "# Making predictions\n",
        "model_5_pred_probs = model_5.predict(val_tribrid_dataset)\n",
        "model_5_pred_probs"
      ],
      "execution_count": 126,
      "outputs": [
        {
          "output_type": "execute_result",
          "data": {
            "text/plain": [
              "array([[0.3602036 , 0.07979205, 0.03342903, 0.48694143, 0.03963395],\n",
              "       [0.34472907, 0.06604493, 0.23171322, 0.32286906, 0.03464375],\n",
              "       [0.07379283, 0.02621033, 0.745898  , 0.10152958, 0.05256922],\n",
              "       ...,\n",
              "       [0.08489351, 0.08977435, 0.08100989, 0.06173234, 0.6825899 ],\n",
              "       [0.07003067, 0.07535953, 0.08703957, 0.05771663, 0.7098536 ],\n",
              "       [0.0899968 , 0.52193224, 0.15492795, 0.05841527, 0.17472775]],\n",
              "      dtype=float32)"
            ]
          },
          "metadata": {},
          "execution_count": 126
        }
      ]
    },
    {
      "cell_type": "code",
      "metadata": {
        "colab": {
          "base_uri": "https://localhost:8080/"
        },
        "id": "uEBTwDpz__ir",
        "outputId": "78b71847-acda-4a9a-9fbb-a771b5a5385e"
      },
      "source": [
        "# Convert pred probs to classes\n",
        "model_5_preds = model_5_pred_probs.argmax(axis=1)\n",
        "model_5_preds"
      ],
      "execution_count": 127,
      "outputs": [
        {
          "output_type": "execute_result",
          "data": {
            "text/plain": [
              "array([3, 0, 2, ..., 4, 4, 1])"
            ]
          },
          "metadata": {},
          "execution_count": 127
        }
      ]
    },
    {
      "cell_type": "code",
      "metadata": {
        "colab": {
          "base_uri": "https://localhost:8080/"
        },
        "id": "BwqpeZp_AKlL",
        "outputId": "f6c568c7-4dd0-4fd3-cb7d-85d6434473e0"
      },
      "source": [
        "# Calculate the results of models 5\n",
        "model_5_results = calculate_results(y_true=val_labels_encoded,\n",
        "                                    y_pred=model_5_preds)\n",
        "model_5_results"
      ],
      "execution_count": 129,
      "outputs": [
        {
          "output_type": "execute_result",
          "data": {
            "text/plain": [
              "{'accuracy': 82.79077484652397,\n",
              " 'f1-score': 0.8267062317614597,\n",
              " 'precision': 0.8266423343018995,\n",
              " 'recall': 0.8279077484652397}"
            ]
          },
          "metadata": {},
          "execution_count": 129
        }
      ]
    },
    {
      "cell_type": "code",
      "metadata": {
        "colab": {
          "base_uri": "https://localhost:8080/"
        },
        "id": "YxZ6egfzBSd9",
        "outputId": "d34713e0-0588-4aad-8137-7d758cc149d2"
      },
      "source": [
        "model_4_results"
      ],
      "execution_count": 130,
      "outputs": [
        {
          "output_type": "execute_result",
          "data": {
            "text/plain": [
              "{'accuracy': 72.59001161440186,\n",
              " 'f1-score': 0.7227367287686486,\n",
              " 'precision': 0.7260492362826476,\n",
              " 'recall': 0.7259001161440186}"
            ]
          },
          "metadata": {},
          "execution_count": 130
        }
      ]
    },
    {
      "cell_type": "markdown",
      "metadata": {
        "id": "NHUNsoSwCIVu"
      },
      "source": [
        "## Comparing the models"
      ]
    },
    {
      "cell_type": "code",
      "metadata": {
        "colab": {
          "base_uri": "https://localhost:8080/",
          "height": 235
        },
        "id": "WJK_hSoLLTJF",
        "outputId": "8ea21a86-f35b-42f8-a604-69796cb22216"
      },
      "source": [
        "all_model_results = pd.DataFrame({\n",
        "    \"Baseline Model\": baseline_results,\n",
        "    \"Conv1D with custom token embeddings\": model_1_results,\n",
        "    \"Pretrained TF Hub Model\": model_2_results,\n",
        "    \"Conv1D with char embeddings\": model_3_results,\n",
        "    \"Combined token & char embeddings\": model_4_results,\n",
        "    \"Combined token, char & positional embeddings\":model_5_results\n",
        "})\n",
        "all_model_results = all_model_results.T\n",
        "all_model_results"
      ],
      "execution_count": 133,
      "outputs": [
        {
          "output_type": "execute_result",
          "data": {
            "text/html": [
              "<div>\n",
              "<style scoped>\n",
              "    .dataframe tbody tr th:only-of-type {\n",
              "        vertical-align: middle;\n",
              "    }\n",
              "\n",
              "    .dataframe tbody tr th {\n",
              "        vertical-align: top;\n",
              "    }\n",
              "\n",
              "    .dataframe thead th {\n",
              "        text-align: right;\n",
              "    }\n",
              "</style>\n",
              "<table border=\"1\" class=\"dataframe\">\n",
              "  <thead>\n",
              "    <tr style=\"text-align: right;\">\n",
              "      <th></th>\n",
              "      <th>accuracy</th>\n",
              "      <th>precision</th>\n",
              "      <th>recall</th>\n",
              "      <th>f1-score</th>\n",
              "    </tr>\n",
              "  </thead>\n",
              "  <tbody>\n",
              "    <tr>\n",
              "      <th>Baseline Model</th>\n",
              "      <td>71.667496</td>\n",
              "      <td>0.712432</td>\n",
              "      <td>0.716675</td>\n",
              "      <td>0.692510</td>\n",
              "    </tr>\n",
              "    <tr>\n",
              "      <th>Conv1D with custom token embeddings</th>\n",
              "      <td>79.960179</td>\n",
              "      <td>0.798141</td>\n",
              "      <td>0.799602</td>\n",
              "      <td>0.797944</td>\n",
              "    </tr>\n",
              "    <tr>\n",
              "      <th>Pretrained TF Hub Model</th>\n",
              "      <td>70.811349</td>\n",
              "      <td>0.710527</td>\n",
              "      <td>0.708113</td>\n",
              "      <td>0.705221</td>\n",
              "    </tr>\n",
              "    <tr>\n",
              "      <th>Conv1D with char embeddings</th>\n",
              "      <td>65.209889</td>\n",
              "      <td>0.650075</td>\n",
              "      <td>0.652099</td>\n",
              "      <td>0.642222</td>\n",
              "    </tr>\n",
              "    <tr>\n",
              "      <th>Combined token &amp; char embeddings</th>\n",
              "      <td>72.590012</td>\n",
              "      <td>0.726049</td>\n",
              "      <td>0.725900</td>\n",
              "      <td>0.722737</td>\n",
              "    </tr>\n",
              "    <tr>\n",
              "      <th>Combined token, char &amp; positional embeddings</th>\n",
              "      <td>82.790775</td>\n",
              "      <td>0.826642</td>\n",
              "      <td>0.827908</td>\n",
              "      <td>0.826706</td>\n",
              "    </tr>\n",
              "  </tbody>\n",
              "</table>\n",
              "</div>"
            ],
            "text/plain": [
              "                                               accuracy  ...  f1-score\n",
              "Baseline Model                                71.667496  ...  0.692510\n",
              "Conv1D with custom token embeddings           79.960179  ...  0.797944\n",
              "Pretrained TF Hub Model                       70.811349  ...  0.705221\n",
              "Conv1D with char embeddings                   65.209889  ...  0.642222\n",
              "Combined token & char embeddings              72.590012  ...  0.722737\n",
              "Combined token, char & positional embeddings  82.790775  ...  0.826706\n",
              "\n",
              "[6 rows x 4 columns]"
            ]
          },
          "metadata": {},
          "execution_count": 133
        }
      ]
    },
    {
      "cell_type": "code",
      "metadata": {
        "id": "s0HZPlgZMlW8"
      },
      "source": [
        "# Scaling at the same level\n",
        "all_model_results[\"accuracy\"] = all_model_results.accuracy/100"
      ],
      "execution_count": 135,
      "outputs": []
    },
    {
      "cell_type": "code",
      "metadata": {
        "colab": {
          "base_uri": "https://localhost:8080/",
          "height": 656
        },
        "id": "GgD_VTsLLYvS",
        "outputId": "a9e9c7a1-a7ac-4183-c545-4fad5f7a7057"
      },
      "source": [
        "# Plot all model results \n",
        "all_model_results.plot.bar(figsize=(10,7)).legend(bbox_to_anchor=(1.0,1.0));"
      ],
      "execution_count": 139,
      "outputs": [
        {
          "output_type": "display_data",
          "data": {
            "image/png": "[encoded data removed]",
            "text/plain": [
              "<Figure size 720x504 with 1 Axes>"
            ]
          },
          "metadata": {
            "needs_background": "light"
          }
        }
      ]
    },
    {
      "cell_type": "code",
      "metadata": {
        "colab": {
          "base_uri": "https://localhost:8080/",
          "height": 656
        },
        "id": "5SfAX-r7MgJs",
        "outputId": "d2400468-4c5e-4cdd-fcc5-3e63bccf783f"
      },
      "source": [
        "# Plotting f1-scores of all models\n",
        "all_model_results.sort_values(by=\"f1-score\")[\"f1-score\"].plot.bar(figsize=(10,7)).legend();"
      ],
      "execution_count": 145,
      "outputs": [
        {
          "output_type": "display_data",
          "data": {
            "image/png": "[encoded data removed]",
            "text/plain": [
              "<Figure size 720x504 with 1 Axes>"
            ]
          },
          "metadata": {
            "needs_background": "light"
          }
        }
      ]
    }
  ]
}