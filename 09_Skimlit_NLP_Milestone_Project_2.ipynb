{
  "nbformat": 4,
  "nbformat_minor": 0,
  "metadata": {
    "colab": {
      "name": "09_Skimlit_NLP_Milestone_Project_2.ipynb",
      "provenance": [],
      "collapsed_sections": [
        "slhL_4P-Yvg9",
        "HwkeUqij03cs"
      ]
    },
    "kernelspec": {
      "name": "python3",
      "display_name": "Python 3"
    },
    "language_info": {
      "name": "python"
    },
    "accelerator": "GPU"
  },
  "cells": [
    {
      "cell_type": "markdown",
      "metadata": {
        "id": "view-in-github"
      },
      "source": [
        "<a href=\"https://colab.research.google.com/github/imran9891/TensorFlow/blob/main/09_Skimlit_NLP_Milestone_Project_2.ipynb\" target=\"_parent\"><img src=\"https://colab.research.google.com/assets/colab-badge.svg\" alt=\"Open In Colab\"/></a>"
      ]
    },
    {
      "cell_type": "markdown",
      "metadata": {
        "id": "pyXfs9lfmFvr"
      },
      "source": [
        "# Milestone Project 2: Skimlit\n",
        "\n",
        "The purpose of this notebook is to build an NLP model to make reading medical abstracts easier.\n",
        "\n",
        "The paper we're replicating (the source of the dataset that we'll be using) is available here: https://arxiv.org/abs/1710.06071\n",
        "\n",
        "And reading through the paper above, we see that the model architecture that they use to achieve their best results is availabel here: https://arxiv.org/abs/1612.05251\n",
        "\n",
        "**Resource:** If we want to find the ground truth for this notebook (with lots of diagrams and text annotations) see the Github: https://github.com/mrdbourke/tensorflow-deep-learning/blob/main/09_SkimLit_nlp_milestone_project_2.ipynb\n"
      ]
    },
    {
      "cell_type": "markdown",
      "metadata": {
        "id": "BXtTHOIencVx"
      },
      "source": [
        "## Confirm access to GPU"
      ]
    },
    {
      "cell_type": "code",
      "metadata": {
        "colab": {
          "base_uri": "https://localhost:8080/"
        },
        "id": "a3gIn48uz3NT",
        "outputId": "31676a04-7fff-4b05-dc7a-f38c748c1769"
      },
      "source": [
        "!nvidia-smi -L"
      ],
      "execution_count": 1,
      "outputs": [
        {
          "output_type": "stream",
          "name": "stdout",
          "text": [
            "GPU 0: Tesla K80 (UUID: GPU-b554a432-ee13-c45e-244a-9b660740af47)\n"
          ]
        }
      ]
    },
    {
      "cell_type": "markdown",
      "metadata": {
        "id": "vX1VjLhJz-6-"
      },
      "source": [
        "## Getting the data\n",
        "\n",
        "Since we'll be replicating the paper above (PubMed 200k RCT), let's download the dataset they used.\n",
        "\n",
        "We can do so from the authords Github: https://github.com/Franck-Dernoncourt/pubmed-rct"
      ]
    },
    {
      "cell_type": "code",
      "metadata": {
        "colab": {
          "base_uri": "https://localhost:8080/"
        },
        "id": "PrCXXrEP040N",
        "outputId": "92c94ac2-a1f1-4718-98de-f48be328cad5"
      },
      "source": [
        "!git clone https://github.com/Franck-Dernoncourt/pubmed-rct.git"
      ],
      "execution_count": 2,
      "outputs": [
        {
          "output_type": "stream",
          "name": "stdout",
          "text": [
            "Cloning into 'pubmed-rct'...\n",
            "remote: Enumerating objects: 33, done.\u001b[K\n",
            "remote: Counting objects: 100% (3/3), done.\u001b[K\n",
            "remote: Compressing objects: 100% (3/3), done.\u001b[K\n",
            "remote: Total 33 (delta 0), reused 0 (delta 0), pack-reused 30\u001b[K\n",
            "Unpacking objects: 100% (33/33), done.\n"
          ]
        }
      ]
    },
    {
      "cell_type": "code",
      "metadata": {
        "colab": {
          "base_uri": "https://localhost:8080/"
        },
        "id": "SIEpDnTrMzat",
        "outputId": "61b27228-a706-4192-c4a0-c8ab9cc1f0d7"
      },
      "source": [
        "!ls pubmed-rct"
      ],
      "execution_count": 3,
      "outputs": [
        {
          "output_type": "stream",
          "name": "stdout",
          "text": [
            "PubMed_200k_RCT\n",
            "PubMed_200k_RCT_numbers_replaced_with_at_sign\n",
            "PubMed_20k_RCT\n",
            "PubMed_20k_RCT_numbers_replaced_with_at_sign\n",
            "README.md\n"
          ]
        }
      ]
    },
    {
      "cell_type": "code",
      "metadata": {
        "colab": {
          "base_uri": "https://localhost:8080/"
        },
        "id": "EAL7jStZ2xi2",
        "outputId": "d72a1968-05ad-4094-a3d1-a3ca80872e52"
      },
      "source": [
        "# Check what files are in the PubMed_20K dataset\n",
        "!ls pubmed-rct/PubMed_20k_RCT_numbers_replaced_with_at_sign/"
      ],
      "execution_count": 4,
      "outputs": [
        {
          "output_type": "stream",
          "name": "stdout",
          "text": [
            "dev.txt  test.txt  train.txt\n"
          ]
        }
      ]
    },
    {
      "cell_type": "markdown",
      "metadata": {
        "id": "J5SXEy0g7BOF"
      },
      "source": [
        "## Becoming one with the data"
      ]
    },
    {
      "cell_type": "code",
      "metadata": {
        "id": "5_0q4s5V3jyI"
      },
      "source": [
        "# Start our experiments using the 20k dataset with numbers replaced by the '@' sign\n",
        "data_dir = \"pubmed-rct/PubMed_20k_RCT_numbers_replaced_with_at_sign/\""
      ],
      "execution_count": 5,
      "outputs": []
    },
    {
      "cell_type": "code",
      "metadata": {
        "colab": {
          "base_uri": "https://localhost:8080/"
        },
        "id": "opDIdmpK5gca",
        "outputId": "351d8bbd-535d-4d96-9fd1-a7d8d22f9d9f"
      },
      "source": [
        "# Check all of the filenames in the target directory\n",
        "import os\n",
        "filenames = [data_dir + filename for filename in os.listdir(data_dir)]\n",
        "filenames"
      ],
      "execution_count": 6,
      "outputs": [
        {
          "output_type": "execute_result",
          "data": {
            "text/plain": [
              "['pubmed-rct/PubMed_20k_RCT_numbers_replaced_with_at_sign/train.txt',\n",
              " 'pubmed-rct/PubMed_20k_RCT_numbers_replaced_with_at_sign/test.txt',\n",
              " 'pubmed-rct/PubMed_20k_RCT_numbers_replaced_with_at_sign/dev.txt']"
            ]
          },
          "metadata": {},
          "execution_count": 6
        }
      ]
    },
    {
      "cell_type": "markdown",
      "metadata": {
        "id": "txB9jaNA6EC6"
      },
      "source": [
        "## Preprocess data\n",
        "\n",
        "Now we've got some text data, it's time to become one with it.\n",
        "\n",
        "So, with that in mind, let's write a function to read in all of the lines of a target text file."
      ]
    },
    {
      "cell_type": "code",
      "metadata": {
        "id": "lcx5YMT87__6"
      },
      "source": [
        "# Create function to read the lines of a document\n",
        "def get_lines(filename):\n",
        "  \"\"\"\n",
        "  Reads filename (a text filename) and returns the lines of text as a list.\n",
        "\n",
        "  Args:\n",
        "    filename: a string containing the target filepath.\n",
        "\n",
        "  Returns:\n",
        "    A list of strings with one string per line from the target filenames.\n",
        "  \"\"\"\n",
        "  with open(filename, mode=\"r\") as f:\n",
        "    return f.readlines()"
      ],
      "execution_count": 7,
      "outputs": []
    },
    {
      "cell_type": "code",
      "metadata": {
        "colab": {
          "base_uri": "https://localhost:8080/"
        },
        "id": "S3gPbqUa85-E",
        "outputId": "256bd69e-f280-4d85-f6b2-cffad3cf3d48"
      },
      "source": [
        "# Let's read in the training lines\n",
        "train_lines= get_lines(filenames[0]) # read the lines within the training file\n",
        "train_lines[:27]"
      ],
      "execution_count": 8,
      "outputs": [
        {
          "output_type": "execute_result",
          "data": {
            "text/plain": [
              "['###24293578\\n',\n",
              " 'OBJECTIVE\\tTo investigate the efficacy of @ weeks of daily low-dose oral prednisolone in improving pain , mobility , and systemic low-grade inflammation in the short term and whether the effect would be sustained at @ weeks in older adults with moderate to severe knee osteoarthritis ( OA ) .\\n',\n",
              " 'METHODS\\tA total of @ patients with primary knee OA were randomized @:@ ; @ received @ mg/day of prednisolone and @ received placebo for @ weeks .\\n',\n",
              " 'METHODS\\tOutcome measures included pain reduction and improvement in function scores and systemic inflammation markers .\\n',\n",
              " 'METHODS\\tPain was assessed using the visual analog pain scale ( @-@ mm ) .\\n',\n",
              " 'METHODS\\tSecondary outcome measures included the Western Ontario and McMaster Universities Osteoarthritis Index scores , patient global assessment ( PGA ) of the severity of knee OA , and @-min walk distance ( @MWD ) .\\n',\n",
              " 'METHODS\\tSerum levels of interleukin @ ( IL-@ ) , IL-@ , tumor necrosis factor ( TNF ) - , and high-sensitivity C-reactive protein ( hsCRP ) were measured .\\n',\n",
              " 'RESULTS\\tThere was a clinically relevant reduction in the intervention group compared to the placebo group for knee pain , physical function , PGA , and @MWD at @ weeks .\\n',\n",
              " 'RESULTS\\tThe mean difference between treatment arms ( @ % CI ) was @ ( @-@ @ ) , p < @ ; @ ( @-@ @ ) , p < @ ; @ ( @-@ @ ) , p < @ ; and @ ( @-@ @ ) , p < @ , respectively .\\n',\n",
              " 'RESULTS\\tFurther , there was a clinically relevant reduction in the serum levels of IL-@ , IL-@ , TNF - , and hsCRP at @ weeks in the intervention group when compared to the placebo group .\\n',\n",
              " 'RESULTS\\tThese differences remained significant at @ weeks .\\n',\n",
              " 'RESULTS\\tThe Outcome Measures in Rheumatology Clinical Trials-Osteoarthritis Research Society International responder rate was @ % in the intervention group and @ % in the placebo group ( p < @ ) .\\n',\n",
              " 'CONCLUSIONS\\tLow-dose oral prednisolone had both a short-term and a longer sustained effect resulting in less knee pain , better physical function , and attenuation of systemic inflammation in older patients with knee OA ( ClinicalTrials.gov identifier NCT@ ) .\\n',\n",
              " '\\n',\n",
              " '###24854809\\n',\n",
              " 'BACKGROUND\\tEmotional eating is associated with overeating and the development of obesity .\\n',\n",
              " 'BACKGROUND\\tYet , empirical evidence for individual ( trait ) differences in emotional eating and cognitive mechanisms that contribute to eating during sad mood remain equivocal .\\n',\n",
              " 'OBJECTIVE\\tThe aim of this study was to test if attention bias for food moderates the effect of self-reported emotional eating during sad mood ( vs neutral mood ) on actual food intake .\\n',\n",
              " 'OBJECTIVE\\tIt was expected that emotional eating is predictive of elevated attention for food and higher food intake after an experimentally induced sad mood and that attentional maintenance on food predicts food intake during a sad versus a neutral mood .\\n',\n",
              " 'METHODS\\tParticipants ( N = @ ) were randomly assigned to one of the two experimental mood induction conditions ( sad/neutral ) .\\n',\n",
              " 'METHODS\\tAttentional biases for high caloric foods were measured by eye tracking during a visual probe task with pictorial food and neutral stimuli .\\n',\n",
              " 'METHODS\\tSelf-reported emotional eating was assessed with the Dutch Eating Behavior Questionnaire ( DEBQ ) and ad libitum food intake was tested by a disguised food offer .\\n',\n",
              " 'RESULTS\\tHierarchical multivariate regression modeling showed that self-reported emotional eating did not account for changes in attention allocation for food or food intake in either condition .\\n',\n",
              " 'RESULTS\\tYet , attention maintenance on food cues was significantly related to increased intake specifically in the neutral condition , but not in the sad mood condition .\\n',\n",
              " 'CONCLUSIONS\\tThe current findings show that self-reported emotional eating ( based on the DEBQ ) might not validly predict who overeats when sad , at least not in a laboratory setting with healthy women .\\n',\n",
              " 'CONCLUSIONS\\tResults further suggest that attention maintenance on food relates to eating motivation when in a neutral affective state , and might therefore be a cognitive mechanism contributing to increased food intake in general , but maybe not during sad mood .\\n',\n",
              " '\\n']"
            ]
          },
          "metadata": {},
          "execution_count": 8
        }
      ]
    },
    {
      "cell_type": "code",
      "metadata": {
        "colab": {
          "base_uri": "https://localhost:8080/"
        },
        "id": "w7ALuD0h9Go5",
        "outputId": "19bbbd89-b88d-4197-a6aa-a450706378e3"
      },
      "source": [
        "len(train_lines)"
      ],
      "execution_count": 9,
      "outputs": [
        {
          "output_type": "execute_result",
          "data": {
            "text/plain": [
              "210040"
            ]
          },
          "metadata": {},
          "execution_count": 9
        }
      ]
    },
    {
      "cell_type": "markdown",
      "metadata": {
        "id": "XyuUGRuu9648"
      },
      "source": [
        "# Let's think about how we want our data to look...\n",
        "\n",
        "How I think our data would be best represented...\n",
        "\n",
        "```\n",
        "[{'line_number':0,\n",
        "   'target': 'BACKGROUND',\n",
        "   'text': \"Emotional eating is associated with overeating and the development of obesity .\\n\",\n",
        "   'total_lines': 11},\n",
        "   ...]\n",
        "```"
      ]
    },
    {
      "cell_type": "code",
      "metadata": {
        "id": "SJnmjd6--KNL"
      },
      "source": [
        "# Creating a function to convert text into dictionaries\n",
        "def preprocess_text_with_line_numbers(filename):\n",
        "  \"\"\"\n",
        "  Returns a list of dictionaries of abstract line data.\n",
        "\n",
        "  Args:\n",
        "    filename: Takes in filename, reads it contents and sorts through each line,\n",
        "    extracting things like the target label, the text of the sentence, how many\n",
        "    sentences are in the current abstract and what sentence number the target\n",
        "    line is.\n",
        "  \"\"\"\n",
        "  input_lines = get_lines(filename) # get all lines from filename\n",
        "  abstract_lines = \"\" # create an empty abstract\n",
        "  abstract_samples = [] # create an empty list of abstracts\n",
        "\n",
        "  # Loop through each line in the target file\n",
        "  for line in input_lines:\n",
        "    if line.startswith(\"###\"): # check to see if the line is an ID line\n",
        "      abstract_id = line \n",
        "      abstract_lines = \"\" # reset the abstract string if the line is an ID line\n",
        "    elif line.isspace(): # check to see if line is a new line\n",
        "      abstract_line_split = abstract_lines.splitlines() # split abstract into separate lines\n",
        "    \n",
        "      # Iterate through each line in a single abstract and count them at the same time\n",
        "      for abstract_line_number, abstract_line in enumerate(abstract_line_split):\n",
        "        line_data = {} # create an empty dictionary for each line\n",
        "        target_text_split = abstract_line.split(\"\\t\") # split target label from text\n",
        "        line_data[\"target\"] = target_text_split[0] # get target label\n",
        "        line_data[\"text\"] = target_text_split[1].lower() # get target text and lower it\n",
        "        line_data[\"line_number\"] = abstract_line_number # what number line does the line apper in the abstract\n",
        "        line_data[\"total line\"] = len(abstract_line_split)-1 # how many total lines are there in the target abstract?  (start from 0)\n",
        "        abstract_samples.append(line_data) # add line data to abstract samples list\n",
        "\n",
        "    else: # if the above conditions aren't fulfilled, the line contains a labelled sentence\n",
        "      abstract_lines += line\n",
        "\n",
        "  return abstract_samples"
      ],
      "execution_count": 10,
      "outputs": []
    },
    {
      "cell_type": "code",
      "metadata": {
        "colab": {
          "base_uri": "https://localhost:8080/"
        },
        "id": "dyQdY3PGNbbZ",
        "outputId": "b8c55fcd-0a5b-44d7-b793-570e5a077ab7"
      },
      "source": [
        "# Get data from file and preprocess it\n",
        "%%time\n",
        "train_samples = preprocess_text_with_line_numbers(filenames[0])\n",
        "val_samples = preprocess_text_with_line_numbers(filenames[2])\n",
        "test_samples = preprocess_text_with_line_numbers(filenames[1])\n",
        "print(len(train_samples), len(val_samples), len(test_samples))"
      ],
      "execution_count": 11,
      "outputs": [
        {
          "output_type": "stream",
          "name": "stdout",
          "text": [
            "180040 30212 30135\n",
            "CPU times: user 558 ms, sys: 115 ms, total: 673 ms\n",
            "Wall time: 672 ms\n"
          ]
        }
      ]
    },
    {
      "cell_type": "code",
      "metadata": {
        "colab": {
          "base_uri": "https://localhost:8080/"
        },
        "id": "CY2pW5_4iw6M",
        "outputId": "f2802b2c-375d-4de0-d2f8-f4ed1ea464ed"
      },
      "source": [
        "# Check the first abstract of the training data\n",
        "train_samples[:20]"
      ],
      "execution_count": 12,
      "outputs": [
        {
          "output_type": "execute_result",
          "data": {
            "text/plain": [
              "[{'line_number': 0,\n",
              "  'target': 'OBJECTIVE',\n",
              "  'text': 'to investigate the efficacy of @ weeks of daily low-dose oral prednisolone in improving pain , mobility , and systemic low-grade inflammation in the short term and whether the effect would be sustained at @ weeks in older adults with moderate to severe knee osteoarthritis ( oa ) .',\n",
              "  'total line': 11},\n",
              " {'line_number': 1,\n",
              "  'target': 'METHODS',\n",
              "  'text': 'a total of @ patients with primary knee oa were randomized @:@ ; @ received @ mg/day of prednisolone and @ received placebo for @ weeks .',\n",
              "  'total line': 11},\n",
              " {'line_number': 2,\n",
              "  'target': 'METHODS',\n",
              "  'text': 'outcome measures included pain reduction and improvement in function scores and systemic inflammation markers .',\n",
              "  'total line': 11},\n",
              " {'line_number': 3,\n",
              "  'target': 'METHODS',\n",
              "  'text': 'pain was assessed using the visual analog pain scale ( @-@ mm ) .',\n",
              "  'total line': 11},\n",
              " {'line_number': 4,\n",
              "  'target': 'METHODS',\n",
              "  'text': 'secondary outcome measures included the western ontario and mcmaster universities osteoarthritis index scores , patient global assessment ( pga ) of the severity of knee oa , and @-min walk distance ( @mwd ) .',\n",
              "  'total line': 11},\n",
              " {'line_number': 5,\n",
              "  'target': 'METHODS',\n",
              "  'text': 'serum levels of interleukin @ ( il-@ ) , il-@ , tumor necrosis factor ( tnf ) - , and high-sensitivity c-reactive protein ( hscrp ) were measured .',\n",
              "  'total line': 11},\n",
              " {'line_number': 6,\n",
              "  'target': 'RESULTS',\n",
              "  'text': 'there was a clinically relevant reduction in the intervention group compared to the placebo group for knee pain , physical function , pga , and @mwd at @ weeks .',\n",
              "  'total line': 11},\n",
              " {'line_number': 7,\n",
              "  'target': 'RESULTS',\n",
              "  'text': 'the mean difference between treatment arms ( @ % ci ) was @ ( @-@ @ ) , p < @ ; @ ( @-@ @ ) , p < @ ; @ ( @-@ @ ) , p < @ ; and @ ( @-@ @ ) , p < @ , respectively .',\n",
              "  'total line': 11},\n",
              " {'line_number': 8,\n",
              "  'target': 'RESULTS',\n",
              "  'text': 'further , there was a clinically relevant reduction in the serum levels of il-@ , il-@ , tnf - , and hscrp at @ weeks in the intervention group when compared to the placebo group .',\n",
              "  'total line': 11},\n",
              " {'line_number': 9,\n",
              "  'target': 'RESULTS',\n",
              "  'text': 'these differences remained significant at @ weeks .',\n",
              "  'total line': 11},\n",
              " {'line_number': 10,\n",
              "  'target': 'RESULTS',\n",
              "  'text': 'the outcome measures in rheumatology clinical trials-osteoarthritis research society international responder rate was @ % in the intervention group and @ % in the placebo group ( p < @ ) .',\n",
              "  'total line': 11},\n",
              " {'line_number': 11,\n",
              "  'target': 'CONCLUSIONS',\n",
              "  'text': 'low-dose oral prednisolone had both a short-term and a longer sustained effect resulting in less knee pain , better physical function , and attenuation of systemic inflammation in older patients with knee oa ( clinicaltrials.gov identifier nct@ ) .',\n",
              "  'total line': 11},\n",
              " {'line_number': 0,\n",
              "  'target': 'BACKGROUND',\n",
              "  'text': 'emotional eating is associated with overeating and the development of obesity .',\n",
              "  'total line': 10},\n",
              " {'line_number': 1,\n",
              "  'target': 'BACKGROUND',\n",
              "  'text': 'yet , empirical evidence for individual ( trait ) differences in emotional eating and cognitive mechanisms that contribute to eating during sad mood remain equivocal .',\n",
              "  'total line': 10},\n",
              " {'line_number': 2,\n",
              "  'target': 'OBJECTIVE',\n",
              "  'text': 'the aim of this study was to test if attention bias for food moderates the effect of self-reported emotional eating during sad mood ( vs neutral mood ) on actual food intake .',\n",
              "  'total line': 10},\n",
              " {'line_number': 3,\n",
              "  'target': 'OBJECTIVE',\n",
              "  'text': 'it was expected that emotional eating is predictive of elevated attention for food and higher food intake after an experimentally induced sad mood and that attentional maintenance on food predicts food intake during a sad versus a neutral mood .',\n",
              "  'total line': 10},\n",
              " {'line_number': 4,\n",
              "  'target': 'METHODS',\n",
              "  'text': 'participants ( n = @ ) were randomly assigned to one of the two experimental mood induction conditions ( sad/neutral ) .',\n",
              "  'total line': 10},\n",
              " {'line_number': 5,\n",
              "  'target': 'METHODS',\n",
              "  'text': 'attentional biases for high caloric foods were measured by eye tracking during a visual probe task with pictorial food and neutral stimuli .',\n",
              "  'total line': 10},\n",
              " {'line_number': 6,\n",
              "  'target': 'METHODS',\n",
              "  'text': 'self-reported emotional eating was assessed with the dutch eating behavior questionnaire ( debq ) and ad libitum food intake was tested by a disguised food offer .',\n",
              "  'total line': 10},\n",
              " {'line_number': 7,\n",
              "  'target': 'RESULTS',\n",
              "  'text': 'hierarchical multivariate regression modeling showed that self-reported emotional eating did not account for changes in attention allocation for food or food intake in either condition .',\n",
              "  'total line': 10}]"
            ]
          },
          "metadata": {},
          "execution_count": 12
        }
      ]
    },
    {
      "cell_type": "markdown",
      "metadata": {
        "id": "ru0kWD-oz9MQ"
      },
      "source": [
        "Now that our data is in the format of a list of dictionaries, how about we turn it into a DataFrame to further visualize it?"
      ]
    },
    {
      "cell_type": "code",
      "metadata": {
        "id": "SZu2FisEQvJq"
      },
      "source": [
        "import pandas as pd\n",
        "train_df = pd.DataFrame(train_samples)\n",
        "val_df = pd.DataFrame(val_samples)\n",
        "test_df = pd.DataFrame(test_samples)"
      ],
      "execution_count": 13,
      "outputs": []
    },
    {
      "cell_type": "code",
      "metadata": {
        "colab": {
          "base_uri": "https://localhost:8080/",
          "height": 514
        },
        "id": "j5la0wcFRDiH",
        "outputId": "8702f149-5afa-4bec-bd64-f59b57b1af6c"
      },
      "source": [
        "train_df.head(15)"
      ],
      "execution_count": 14,
      "outputs": [
        {
          "output_type": "execute_result",
          "data": {
            "text/html": [
              "<div>\n",
              "<style scoped>\n",
              "    .dataframe tbody tr th:only-of-type {\n",
              "        vertical-align: middle;\n",
              "    }\n",
              "\n",
              "    .dataframe tbody tr th {\n",
              "        vertical-align: top;\n",
              "    }\n",
              "\n",
              "    .dataframe thead th {\n",
              "        text-align: right;\n",
              "    }\n",
              "</style>\n",
              "<table border=\"1\" class=\"dataframe\">\n",
              "  <thead>\n",
              "    <tr style=\"text-align: right;\">\n",
              "      <th></th>\n",
              "      <th>target</th>\n",
              "      <th>text</th>\n",
              "      <th>line_number</th>\n",
              "      <th>total line</th>\n",
              "    </tr>\n",
              "  </thead>\n",
              "  <tbody>\n",
              "    <tr>\n",
              "      <th>0</th>\n",
              "      <td>OBJECTIVE</td>\n",
              "      <td>to investigate the efficacy of @ weeks of dail...</td>\n",
              "      <td>0</td>\n",
              "      <td>11</td>\n",
              "    </tr>\n",
              "    <tr>\n",
              "      <th>1</th>\n",
              "      <td>METHODS</td>\n",
              "      <td>a total of @ patients with primary knee oa wer...</td>\n",
              "      <td>1</td>\n",
              "      <td>11</td>\n",
              "    </tr>\n",
              "    <tr>\n",
              "      <th>2</th>\n",
              "      <td>METHODS</td>\n",
              "      <td>outcome measures included pain reduction and i...</td>\n",
              "      <td>2</td>\n",
              "      <td>11</td>\n",
              "    </tr>\n",
              "    <tr>\n",
              "      <th>3</th>\n",
              "      <td>METHODS</td>\n",
              "      <td>pain was assessed using the visual analog pain...</td>\n",
              "      <td>3</td>\n",
              "      <td>11</td>\n",
              "    </tr>\n",
              "    <tr>\n",
              "      <th>4</th>\n",
              "      <td>METHODS</td>\n",
              "      <td>secondary outcome measures included the wester...</td>\n",
              "      <td>4</td>\n",
              "      <td>11</td>\n",
              "    </tr>\n",
              "    <tr>\n",
              "      <th>5</th>\n",
              "      <td>METHODS</td>\n",
              "      <td>serum levels of interleukin @ ( il-@ ) , il-@ ...</td>\n",
              "      <td>5</td>\n",
              "      <td>11</td>\n",
              "    </tr>\n",
              "    <tr>\n",
              "      <th>6</th>\n",
              "      <td>RESULTS</td>\n",
              "      <td>there was a clinically relevant reduction in t...</td>\n",
              "      <td>6</td>\n",
              "      <td>11</td>\n",
              "    </tr>\n",
              "    <tr>\n",
              "      <th>7</th>\n",
              "      <td>RESULTS</td>\n",
              "      <td>the mean difference between treatment arms ( @...</td>\n",
              "      <td>7</td>\n",
              "      <td>11</td>\n",
              "    </tr>\n",
              "    <tr>\n",
              "      <th>8</th>\n",
              "      <td>RESULTS</td>\n",
              "      <td>further , there was a clinically relevant redu...</td>\n",
              "      <td>8</td>\n",
              "      <td>11</td>\n",
              "    </tr>\n",
              "    <tr>\n",
              "      <th>9</th>\n",
              "      <td>RESULTS</td>\n",
              "      <td>these differences remained significant at @ we...</td>\n",
              "      <td>9</td>\n",
              "      <td>11</td>\n",
              "    </tr>\n",
              "    <tr>\n",
              "      <th>10</th>\n",
              "      <td>RESULTS</td>\n",
              "      <td>the outcome measures in rheumatology clinical ...</td>\n",
              "      <td>10</td>\n",
              "      <td>11</td>\n",
              "    </tr>\n",
              "    <tr>\n",
              "      <th>11</th>\n",
              "      <td>CONCLUSIONS</td>\n",
              "      <td>low-dose oral prednisolone had both a short-te...</td>\n",
              "      <td>11</td>\n",
              "      <td>11</td>\n",
              "    </tr>\n",
              "    <tr>\n",
              "      <th>12</th>\n",
              "      <td>BACKGROUND</td>\n",
              "      <td>emotional eating is associated with overeating...</td>\n",
              "      <td>0</td>\n",
              "      <td>10</td>\n",
              "    </tr>\n",
              "    <tr>\n",
              "      <th>13</th>\n",
              "      <td>BACKGROUND</td>\n",
              "      <td>yet , empirical evidence for individual ( trai...</td>\n",
              "      <td>1</td>\n",
              "      <td>10</td>\n",
              "    </tr>\n",
              "    <tr>\n",
              "      <th>14</th>\n",
              "      <td>OBJECTIVE</td>\n",
              "      <td>the aim of this study was to test if attention...</td>\n",
              "      <td>2</td>\n",
              "      <td>10</td>\n",
              "    </tr>\n",
              "  </tbody>\n",
              "</table>\n",
              "</div>"
            ],
            "text/plain": [
              "         target  ... total line\n",
              "0     OBJECTIVE  ...         11\n",
              "1       METHODS  ...         11\n",
              "2       METHODS  ...         11\n",
              "3       METHODS  ...         11\n",
              "4       METHODS  ...         11\n",
              "5       METHODS  ...         11\n",
              "6       RESULTS  ...         11\n",
              "7       RESULTS  ...         11\n",
              "8       RESULTS  ...         11\n",
              "9       RESULTS  ...         11\n",
              "10      RESULTS  ...         11\n",
              "11  CONCLUSIONS  ...         11\n",
              "12   BACKGROUND  ...         10\n",
              "13   BACKGROUND  ...         10\n",
              "14    OBJECTIVE  ...         10\n",
              "\n",
              "[15 rows x 4 columns]"
            ]
          },
          "metadata": {},
          "execution_count": 14
        }
      ]
    },
    {
      "cell_type": "code",
      "metadata": {
        "colab": {
          "base_uri": "https://localhost:8080/"
        },
        "id": "Zk8fZzq_RIxm",
        "outputId": "94154bb0-3b56-44fc-a4d7-fab2c57a18ef"
      },
      "source": [
        "# Check the distribution of labels\n",
        "train_df.target.value_counts()"
      ],
      "execution_count": 15,
      "outputs": [
        {
          "output_type": "execute_result",
          "data": {
            "text/plain": [
              "METHODS        59353\n",
              "RESULTS        57953\n",
              "CONCLUSIONS    27168\n",
              "BACKGROUND     21727\n",
              "OBJECTIVE      13839\n",
              "Name: target, dtype: int64"
            ]
          },
          "metadata": {},
          "execution_count": 15
        }
      ]
    },
    {
      "cell_type": "code",
      "metadata": {
        "colab": {
          "base_uri": "https://localhost:8080/",
          "height": 267
        },
        "id": "QJxbOWDjRz-0",
        "outputId": "f1d2ad20-bf38-4503-ff32-b6f2d2e2a908"
      },
      "source": [
        "# Check the length of different lines\n",
        "train_df[\"total line\"].plot.hist();"
      ],
      "execution_count": 16,
      "outputs": [
        {
          "output_type": "display_data",
          "data": {
            "image/png": "[encoded data removed]",
            "text/plain": [
              "<Figure size 432x288 with 1 Axes>"
            ]
          },
          "metadata": {
            "needs_background": "light"
          }
        }
      ]
    },
    {
      "cell_type": "markdown",
      "metadata": {
        "id": "YXuEnat6R55r"
      },
      "source": [
        "## Get list of sentences"
      ]
    },
    {
      "cell_type": "code",
      "metadata": {
        "colab": {
          "base_uri": "https://localhost:8080/"
        },
        "id": "7YxQhOdhTFpS",
        "outputId": "eb143bac-8ecf-4c61-f3df-865b7857601c"
      },
      "source": [
        "# Getting a list of sentences from Dataframes\n",
        "train_sentences = train_df[\"text\"].to_list()\n",
        "val_sentences = val_df[\"text\"].to_list()\n",
        "test_sentences = test_df[\"text\"].to_list()\n",
        "len(train_sentences), len(val_sentences), len(test_sentences)"
      ],
      "execution_count": 17,
      "outputs": [
        {
          "output_type": "execute_result",
          "data": {
            "text/plain": [
              "(180040, 30212, 30135)"
            ]
          },
          "metadata": {},
          "execution_count": 17
        }
      ]
    },
    {
      "cell_type": "code",
      "metadata": {
        "id": "qE48Pt23Wy2R",
        "colab": {
          "base_uri": "https://localhost:8080/"
        },
        "outputId": "3dd61b60-6257-44ec-df55-3c88e09565ed"
      },
      "source": [
        "# View the 10 lines of training sentences\n",
        "train_sentences[:10]"
      ],
      "execution_count": 18,
      "outputs": [
        {
          "output_type": "execute_result",
          "data": {
            "text/plain": [
              "['to investigate the efficacy of @ weeks of daily low-dose oral prednisolone in improving pain , mobility , and systemic low-grade inflammation in the short term and whether the effect would be sustained at @ weeks in older adults with moderate to severe knee osteoarthritis ( oa ) .',\n",
              " 'a total of @ patients with primary knee oa were randomized @:@ ; @ received @ mg/day of prednisolone and @ received placebo for @ weeks .',\n",
              " 'outcome measures included pain reduction and improvement in function scores and systemic inflammation markers .',\n",
              " 'pain was assessed using the visual analog pain scale ( @-@ mm ) .',\n",
              " 'secondary outcome measures included the western ontario and mcmaster universities osteoarthritis index scores , patient global assessment ( pga ) of the severity of knee oa , and @-min walk distance ( @mwd ) .',\n",
              " 'serum levels of interleukin @ ( il-@ ) , il-@ , tumor necrosis factor ( tnf ) - , and high-sensitivity c-reactive protein ( hscrp ) were measured .',\n",
              " 'there was a clinically relevant reduction in the intervention group compared to the placebo group for knee pain , physical function , pga , and @mwd at @ weeks .',\n",
              " 'the mean difference between treatment arms ( @ % ci ) was @ ( @-@ @ ) , p < @ ; @ ( @-@ @ ) , p < @ ; @ ( @-@ @ ) , p < @ ; and @ ( @-@ @ ) , p < @ , respectively .',\n",
              " 'further , there was a clinically relevant reduction in the serum levels of il-@ , il-@ , tnf - , and hscrp at @ weeks in the intervention group when compared to the placebo group .',\n",
              " 'these differences remained significant at @ weeks .']"
            ]
          },
          "metadata": {},
          "execution_count": 18
        }
      ]
    },
    {
      "cell_type": "markdown",
      "metadata": {
        "id": "xloILkSjSKDd"
      },
      "source": [
        "## Make numeric labels (ML models require numeric labels)"
      ]
    },
    {
      "cell_type": "code",
      "metadata": {
        "colab": {
          "base_uri": "https://localhost:8080/"
        },
        "id": "9gK6rc9dSxEc",
        "outputId": "561b6050-93e2-479c-cfc5-be5a02c677be"
      },
      "source": [
        "# One hot encode labels for using Categorical Cross Entropy\n",
        "from sklearn.preprocessing import OneHotEncoder\n",
        "one_hot_encoder = OneHotEncoder(sparse=False)\n",
        "train_labels_one_hot = one_hot_encoder.fit_transform(X=train_df[\"target\"].to_numpy().reshape(-1,1))\n",
        "val_labels_one_hot = one_hot_encoder.transform(X=val_df[\"target\"].to_numpy().reshape(-1,1))\n",
        "test_labels_one_hot = one_hot_encoder.transform(X=test_df[\"target\"].to_numpy().reshape(-1,1))\n",
        "\n",
        "# Check what one hot encoded label look like\n",
        "train_labels_one_hot"
      ],
      "execution_count": 19,
      "outputs": [
        {
          "output_type": "execute_result",
          "data": {
            "text/plain": [
              "array([[0., 0., 0., 1., 0.],\n",
              "       [0., 0., 1., 0., 0.],\n",
              "       [0., 0., 1., 0., 0.],\n",
              "       ...,\n",
              "       [0., 0., 0., 0., 1.],\n",
              "       [0., 1., 0., 0., 0.],\n",
              "       [0., 1., 0., 0., 0.]])"
            ]
          },
          "metadata": {},
          "execution_count": 19
        }
      ]
    },
    {
      "cell_type": "code",
      "metadata": {
        "colab": {
          "base_uri": "https://localhost:8080/"
        },
        "id": "SkrTRu3rqYfc",
        "outputId": "326ab237-44a2-4e17-db2e-68af292fc840"
      },
      "source": [
        "train_df[\"target\"].to_numpy()"
      ],
      "execution_count": 20,
      "outputs": [
        {
          "output_type": "execute_result",
          "data": {
            "text/plain": [
              "array(['OBJECTIVE', 'METHODS', 'METHODS', ..., 'RESULTS', 'CONCLUSIONS',\n",
              "       'CONCLUSIONS'], dtype=object)"
            ]
          },
          "metadata": {},
          "execution_count": 20
        }
      ]
    },
    {
      "cell_type": "code",
      "metadata": {
        "colab": {
          "base_uri": "https://localhost:8080/"
        },
        "id": "peR35qw3A1XJ",
        "outputId": "81299d87-94a5-4c26-cf05-edf16ea1126b"
      },
      "source": [
        "train_df[\"target\"].to_numpy().reshape(-1,1)"
      ],
      "execution_count": 21,
      "outputs": [
        {
          "output_type": "execute_result",
          "data": {
            "text/plain": [
              "array([['OBJECTIVE'],\n",
              "       ['METHODS'],\n",
              "       ['METHODS'],\n",
              "       ...,\n",
              "       ['RESULTS'],\n",
              "       ['CONCLUSIONS'],\n",
              "       ['CONCLUSIONS']], dtype=object)"
            ]
          },
          "metadata": {},
          "execution_count": 21
        }
      ]
    },
    {
      "cell_type": "markdown",
      "metadata": {
        "id": "9Hozp2cCXMA1"
      },
      "source": [
        "## Label encode labels"
      ]
    },
    {
      "cell_type": "code",
      "metadata": {
        "colab": {
          "base_uri": "https://localhost:8080/"
        },
        "id": "XLGR0XQMVor7",
        "outputId": "52644760-b2d0-408a-a800-dfcbe9c58e36"
      },
      "source": [
        "# Extract labels (\"target\" columns) and encode them into integers\n",
        "from sklearn.preprocessing import LabelEncoder\n",
        "label_encoder = LabelEncoder()\n",
        "train_labels_encoded = label_encoder.fit_transform(train_df[\"target\"].to_numpy())\n",
        "val_labels_encoded = label_encoder.transform(val_df[\"target\"].to_numpy())\n",
        "test_labels_encoded = label_encoder.transform(test_df[\"target\"].to_numpy())\n",
        "\n",
        "# Check what training labels look like\n",
        "train_labels_encoded"
      ],
      "execution_count": 22,
      "outputs": [
        {
          "output_type": "execute_result",
          "data": {
            "text/plain": [
              "array([3, 2, 2, ..., 4, 1, 1])"
            ]
          },
          "metadata": {},
          "execution_count": 22
        }
      ]
    },
    {
      "cell_type": "code",
      "metadata": {
        "colab": {
          "base_uri": "https://localhost:8080/"
        },
        "id": "vWJ4JkbGXSbn",
        "outputId": "f630dfa8-6518-4748-c389-65ab2905f928"
      },
      "source": [
        "# Get class names and number of classes from label encoder instance\n",
        "num_classes = len(label_encoder.classes_)\n",
        "class_names = label_encoder.classes_\n",
        "num_classes, class_names"
      ],
      "execution_count": 23,
      "outputs": [
        {
          "output_type": "execute_result",
          "data": {
            "text/plain": [
              "(5, array(['BACKGROUND', 'CONCLUSIONS', 'METHODS', 'OBJECTIVE', 'RESULTS'],\n",
              "       dtype=object))"
            ]
          },
          "metadata": {},
          "execution_count": 23
        }
      ]
    },
    {
      "cell_type": "code",
      "metadata": {
        "colab": {
          "base_uri": "https://localhost:8080/"
        },
        "id": "btNOJsprBSzw",
        "outputId": "9482c37b-00a0-400e-e2ee-a3e5cdc96df2"
      },
      "source": [
        "# Get class names and number of classes from one hot encoder instance\n",
        "nc = len(one_hot_encoder.categories_[0])\n",
        "cn = one_hot_encoder.categories_\n",
        "nc,cn"
      ],
      "execution_count": 24,
      "outputs": [
        {
          "output_type": "execute_result",
          "data": {
            "text/plain": [
              "(5, [array(['BACKGROUND', 'CONCLUSIONS', 'METHODS', 'OBJECTIVE', 'RESULTS'],\n",
              "        dtype=object)])"
            ]
          },
          "metadata": {},
          "execution_count": 24
        }
      ]
    },
    {
      "cell_type": "code",
      "metadata": {
        "colab": {
          "base_uri": "https://localhost:8080/"
        },
        "id": "gG4yOdH3ByRV",
        "outputId": "dd0318a8-424d-467f-b35d-e265ee03e7ee"
      },
      "source": [
        "class_names == cn"
      ],
      "execution_count": 25,
      "outputs": [
        {
          "output_type": "execute_result",
          "data": {
            "text/plain": [
              "array([[ True,  True,  True,  True,  True]])"
            ]
          },
          "metadata": {},
          "execution_count": 25
        }
      ]
    },
    {
      "cell_type": "markdown",
      "metadata": {
        "id": "slhL_4P-Yvg9"
      },
      "source": [
        "## Starting a series of modelling experiments\n",
        "\n",
        "As usual, we're going to be trying out a bunch of different models and seeing which one works best. And as always, we're going to start with a baseline (TF_IDF Multinomial Naive Bayes Classifier)\n",
        "\n",
        "1. Model_0: Naive Bayes with TF-IDF encoder (baseline)\n",
        "2. Model_1: Conv1D with token embeddings\n",
        "3. Model_2: TensorFlow Hub Pretrained Feature Extractor\n",
        "4. Model_3: Conv_1D with character embeddings\n",
        "5. Model_4: Pretrained token embeddings (same as 2) + character embeddings (same as 3)\n",
        "6. Model_5: Pretrained token embeddings + character embeddings + positional embeddings"
      ]
    },
    {
      "cell_type": "markdown",
      "metadata": {
        "id": "h6VNub2MdJEs"
      },
      "source": [
        "## Model 0: Baseline model (Term Frequency — Inverse Document Frequency)\n",
        "\n",
        "For more knowledge on TF-IDF see: https://towardsdatascience.com/tf-idf-for-document-ranking-from-scratch-in-python-on-real-world-dataset-796d339a4089"
      ]
    },
    {
      "cell_type": "code",
      "metadata": {
        "colab": {
          "base_uri": "https://localhost:8080/"
        },
        "id": "RSY6Gus7dLVO",
        "outputId": "607539cd-cb46-42e7-df8b-69fda7c5b457"
      },
      "source": [
        "from sklearn.feature_extraction.text import TfidfVectorizer\n",
        "from sklearn.naive_bayes import MultinomialNB\n",
        "from sklearn.pipeline import Pipeline\n",
        "\n",
        "model_0 = Pipeline([\n",
        "    (\"tfidf\",TfidfVectorizer()),\n",
        "    (\"clf\",MultinomialNB())\n",
        "])\n",
        "model_0.fit(train_sentences,\n",
        "            train_labels_encoded)"
      ],
      "execution_count": 26,
      "outputs": [
        {
          "output_type": "execute_result",
          "data": {
            "text/plain": [
              "Pipeline(memory=None,\n",
              "         steps=[('tfidf',\n",
              "                 TfidfVectorizer(analyzer='word', binary=False,\n",
              "                                 decode_error='strict',\n",
              "                                 dtype=<class 'numpy.float64'>,\n",
              "                                 encoding='utf-8', input='content',\n",
              "                                 lowercase=True, max_df=1.0, max_features=None,\n",
              "                                 min_df=1, ngram_range=(1, 1), norm='l2',\n",
              "                                 preprocessor=None, smooth_idf=True,\n",
              "                                 stop_words=None, strip_accents=None,\n",
              "                                 sublinear_tf=False,\n",
              "                                 token_pattern='(?u)\\\\b\\\\w\\\\w+\\\\b',\n",
              "                                 tokenizer=None, use_idf=True,\n",
              "                                 vocabulary=None)),\n",
              "                ('clf',\n",
              "                 MultinomialNB(alpha=1.0, class_prior=None, fit_prior=True))],\n",
              "         verbose=False)"
            ]
          },
          "metadata": {},
          "execution_count": 26
        }
      ]
    },
    {
      "cell_type": "code",
      "metadata": {
        "colab": {
          "base_uri": "https://localhost:8080/"
        },
        "id": "cP0vG_lsePTq",
        "outputId": "42066337-5ab7-4a86-d781-9356a37c226a"
      },
      "source": [
        "model_0.score(val_sentences, val_labels_encoded)"
      ],
      "execution_count": 27,
      "outputs": [
        {
          "output_type": "execute_result",
          "data": {
            "text/plain": [
              "0.7218323844829869"
            ]
          },
          "metadata": {},
          "execution_count": 27
        }
      ]
    },
    {
      "cell_type": "code",
      "metadata": {
        "colab": {
          "base_uri": "https://localhost:8080/"
        },
        "id": "hC_3_2fyix4m",
        "outputId": "ce0c8e93-0abd-40fb-ea7a-5760e36cb4ff"
      },
      "source": [
        "# Make predictions with the baseline model\n",
        "model_0_preds = model_0.predict(val_sentences)\n",
        "model_0_preds"
      ],
      "execution_count": 28,
      "outputs": [
        {
          "output_type": "execute_result",
          "data": {
            "text/plain": [
              "array([4, 1, 3, ..., 4, 4, 1])"
            ]
          },
          "metadata": {},
          "execution_count": 28
        }
      ]
    },
    {
      "cell_type": "code",
      "metadata": {
        "colab": {
          "base_uri": "https://localhost:8080/"
        },
        "id": "oFR91tp7i_Tc",
        "outputId": "4698cf5b-392b-4863-9906-d675a2dc5a9c"
      },
      "source": [
        "# Check val labels\n",
        "val_labels_encoded"
      ],
      "execution_count": 29,
      "outputs": [
        {
          "output_type": "execute_result",
          "data": {
            "text/plain": [
              "array([0, 0, 3, ..., 4, 1, 1])"
            ]
          },
          "metadata": {},
          "execution_count": 29
        }
      ]
    },
    {
      "cell_type": "code",
      "metadata": {
        "id": "eGuSlTv3fCem"
      },
      "source": [
        "# Make predictions and return results using our baseline model\n",
        "from sklearn.metrics import accuracy_score, precision_recall_fscore_support\n",
        "def calculate_results(y_true,y_pred):\n",
        "  results = {}\n",
        "  acc_score = accuracy_score(y_true,y_pred)\n",
        "  model_precision, model_recall, model_f1, _ = precision_recall_fscore_support(y_true,y_pred,average=\"weighted\")\n",
        "  results[\"accuracy\"] = acc_score*100\n",
        "  results[\"precision\"] = model_precision\n",
        "  results[\"recall\"] = model_recall\n",
        "  results[\"f1-score\"] = model_f1\n",
        "  return results"
      ],
      "execution_count": 30,
      "outputs": []
    },
    {
      "cell_type": "code",
      "metadata": {
        "colab": {
          "base_uri": "https://localhost:8080/"
        },
        "id": "4adNkkuIfHfw",
        "outputId": "317dd826-d96b-4913-8561-721a4f06dc38"
      },
      "source": [
        "# Check baseline results\n",
        "baseline_results = calculate_results(y_true=val_labels_encoded,\n",
        "                                     y_pred=model_0_preds)\n",
        "baseline_results"
      ],
      "execution_count": 31,
      "outputs": [
        {
          "output_type": "execute_result",
          "data": {
            "text/plain": [
              "{'accuracy': 72.1832384482987,\n",
              " 'f1-score': 0.6989250353450294,\n",
              " 'precision': 0.7186466952323352,\n",
              " 'recall': 0.7218323844829869}"
            ]
          },
          "metadata": {},
          "execution_count": 31
        }
      ]
    },
    {
      "cell_type": "markdown",
      "metadata": {
        "id": "HwkeUqij03cs"
      },
      "source": [
        "## Preparing our data (the text) for deep sequence models\n",
        "\n",
        "Before we start building deeper models, we've got to create vectorization and embedding layers."
      ]
    },
    {
      "cell_type": "markdown",
      "metadata": {
        "id": "A1-OaliqmZqm"
      },
      "source": [
        "## Tokenization"
      ]
    },
    {
      "cell_type": "code",
      "metadata": {
        "colab": {
          "base_uri": "https://localhost:8080/"
        },
        "id": "F082IHz3TRNl",
        "outputId": "b46e25f4-d0da-47ec-d00d-7dee8053a635"
      },
      "source": [
        "train_sentences[:3]"
      ],
      "execution_count": 32,
      "outputs": [
        {
          "output_type": "execute_result",
          "data": {
            "text/plain": [
              "['to investigate the efficacy of @ weeks of daily low-dose oral prednisolone in improving pain , mobility , and systemic low-grade inflammation in the short term and whether the effect would be sustained at @ weeks in older adults with moderate to severe knee osteoarthritis ( oa ) .',\n",
              " 'a total of @ patients with primary knee oa were randomized @:@ ; @ received @ mg/day of prednisolone and @ received placebo for @ weeks .',\n",
              " 'outcome measures included pain reduction and improvement in function scores and systemic inflammation markers .']"
            ]
          },
          "metadata": {},
          "execution_count": 32
        }
      ]
    },
    {
      "cell_type": "code",
      "metadata": {
        "colab": {
          "base_uri": "https://localhost:8080/"
        },
        "id": "FOSgWlCLv61U",
        "outputId": "53cd9330-23d5-41b1-beff-25f4bac4dab7"
      },
      "source": [
        "# How long is each sentence on an average?\n",
        "import numpy as np\n",
        "sent_lens = [len(sentence.split()) for sentence in train_sentences] # counts each word in separate lines\n",
        "avg_sent_len = np.mean(sent_lens)\n",
        "avg_sent_len"
      ],
      "execution_count": 33,
      "outputs": [
        {
          "output_type": "execute_result",
          "data": {
            "text/plain": [
              "26.338269273494777"
            ]
          },
          "metadata": {},
          "execution_count": 33
        }
      ]
    },
    {
      "cell_type": "code",
      "metadata": {
        "colab": {
          "base_uri": "https://localhost:8080/",
          "height": 265
        },
        "id": "vOFcYhdM124h",
        "outputId": "7215055a-f4d8-41e7-978b-601cbed48b09"
      },
      "source": [
        "# What's the distribution look like?\n",
        "import matplotlib.pyplot as plt\n",
        "plt.hist(sent_lens,bins=20);"
      ],
      "execution_count": 34,
      "outputs": [
        {
          "output_type": "display_data",
          "data": {
            "image/png": "[encoded data removed]",
            "text/plain": [
              "<Figure size 432x288 with 1 Axes>"
            ]
          },
          "metadata": {
            "needs_background": "light"
          }
        }
      ]
    },
    {
      "cell_type": "code",
      "metadata": {
        "colab": {
          "base_uri": "https://localhost:8080/"
        },
        "id": "m1gwCYwz2qiO",
        "outputId": "95b6914e-1d87-49cc-c3af-80bbbbd0515c"
      },
      "source": [
        "# How long of a sentence length covers 95% of examples?\n",
        "output_seq_len = int(np.percentile(sent_lens,95))\n",
        "output_seq_len # around 95% of the sentences are under 55 tokens in length"
      ],
      "execution_count": 35,
      "outputs": [
        {
          "output_type": "execute_result",
          "data": {
            "text/plain": [
              "55"
            ]
          },
          "metadata": {},
          "execution_count": 35
        }
      ]
    },
    {
      "cell_type": "code",
      "metadata": {
        "colab": {
          "base_uri": "https://localhost:8080/"
        },
        "id": "5LpFA_gI3tSK",
        "outputId": "af3f347b-2bb3-414a-c358-18825f8d277c"
      },
      "source": [
        "# Maximum sequence length in the training set\n",
        "max(sent_lens)"
      ],
      "execution_count": 36,
      "outputs": [
        {
          "output_type": "execute_result",
          "data": {
            "text/plain": [
              "296"
            ]
          },
          "metadata": {},
          "execution_count": 36
        }
      ]
    },
    {
      "cell_type": "markdown",
      "metadata": {
        "id": "hHx0mI2V6NtB"
      },
      "source": [
        "### Create text vectorizer layer\n",
        "\n",
        "We want to make a layer which maps our texts from words to numbers."
      ]
    },
    {
      "cell_type": "code",
      "metadata": {
        "id": "WLxjPiOqvau2"
      },
      "source": [
        "from tensorflow.keras.layers.experimental.preprocessing import TextVectorization\n",
        "max_vocab_length = 68000 # taken from paper\n",
        "text_vectorizer = TextVectorization(max_tokens=max_vocab_length,\n",
        "                                    output_sequence_length=output_seq_len,\n",
        "                                    pad_to_max_tokens=True)"
      ],
      "execution_count": 37,
      "outputs": []
    },
    {
      "cell_type": "code",
      "metadata": {
        "id": "IaP-ihJfvnZZ"
      },
      "source": [
        "# Adapt text vectorizer to training sentences\n",
        "text_vectorizer.adapt(train_sentences)"
      ],
      "execution_count": 38,
      "outputs": []
    },
    {
      "cell_type": "code",
      "metadata": {
        "colab": {
          "base_uri": "https://localhost:8080/"
        },
        "id": "ugGh57S5yktT",
        "outputId": "dafef074-bbd5-4286-a396-849d6e73caf6"
      },
      "source": [
        "# Test out text vectorizer on random sentences\n",
        "import random\n",
        "random_sentence = random.choice(train_sentences)\n",
        "print(f\"Text:\\n{random_sentence}\\n\\nLength of text: {len(random_sentence.split())} \\n\\nText Vectorizer output:\\n {text_vectorizer([random_sentence])}\")"
      ],
      "execution_count": 39,
      "outputs": [
        {
          "output_type": "stream",
          "name": "stdout",
          "text": [
            "Text:\n",
            "data were collected by self-administered questionnaires at the baseline , @nd week , and @th week .\n",
            "\n",
            "Length of text: 17 \n",
            "\n",
            "Text Vectorizer output:\n",
            " [[ 100    9  444   22 4139  913   15    2   49 2748   89    3  698   89\n",
            "     0    0    0    0    0    0    0    0    0    0    0    0    0    0\n",
            "     0    0    0    0    0    0    0    0    0    0    0    0    0    0\n",
            "     0    0    0    0    0    0    0    0    0    0    0    0    0]]\n"
          ]
        }
      ]
    },
    {
      "cell_type": "code",
      "metadata": {
        "colab": {
          "base_uri": "https://localhost:8080/"
        },
        "id": "8s8thpnk-V55",
        "outputId": "e81b1f07-cf5d-44e5-ce84-f7eabd320eb8"
      },
      "source": [
        "# How many words in vocabulary, most common words, most least common words?\n",
        "words_in_vocab = text_vectorizer.get_vocabulary()\n",
        "print(f\"Total words in vocabulary: {len(words_in_vocab)}\\n10 Most common words: {words_in_vocab[:10]}\\n10 Most Least Common Words: {words_in_vocab[-10:]}\")"
      ],
      "execution_count": 40,
      "outputs": [
        {
          "output_type": "stream",
          "name": "stdout",
          "text": [
            "Total words in vocabulary: 64841\n",
            "10 Most common words: ['', '[UNK]', 'the', 'and', 'of', 'in', 'to', 'with', 'a', 'were']\n",
            "10 Most Least Common Words: ['aarm', 'aaqol', 'aaq', 'aanhui', 'aana', 'aainduced', 'aaigroup', 'aachener', 'aachen', 'aaacp']\n"
          ]
        }
      ]
    },
    {
      "cell_type": "code",
      "metadata": {
        "colab": {
          "base_uri": "https://localhost:8080/"
        },
        "id": "r9u9dn1I_tca",
        "outputId": "e7dae24e-bcfc-499f-dbba-9b4f48da7f37"
      },
      "source": [
        "# Get the config of our text vectorizer\n",
        "text_vectorizer.get_config()"
      ],
      "execution_count": 41,
      "outputs": [
        {
          "output_type": "execute_result",
          "data": {
            "text/plain": [
              "{'batch_input_shape': (None,),\n",
              " 'dtype': 'string',\n",
              " 'max_tokens': 68000,\n",
              " 'name': 'text_vectorization',\n",
              " 'ngrams': None,\n",
              " 'output_mode': 'int',\n",
              " 'output_sequence_length': 55,\n",
              " 'pad_to_max_tokens': True,\n",
              " 'split': 'whitespace',\n",
              " 'standardize': 'lower_and_strip_punctuation',\n",
              " 'trainable': True}"
            ]
          },
          "metadata": {},
          "execution_count": 41
        }
      ]
    },
    {
      "cell_type": "markdown",
      "metadata": {
        "id": "G1uH10MYBBVL"
      },
      "source": [
        "### Create custom text embedding"
      ]
    },
    {
      "cell_type": "code",
      "metadata": {
        "id": "t8h7g210zQod"
      },
      "source": [
        "# Create token embedding layer (feature-vector matrix representation)\n",
        "from tensorflow.keras import layers\n",
        "token_embed = layers.Embedding(input_dim=max_vocab_length, # length of vocabulary\n",
        "                               output_dim=128, # Note: different embedding sizes result in drastically different numbers of parameters to train\n",
        "                               mask_zero=True, # use masking to handle variable sequence length (save space)\n",
        "                               name=\"token_embedding\")"
      ],
      "execution_count": 43,
      "outputs": []
    },
    {
      "cell_type": "code",
      "metadata": {
        "colab": {
          "base_uri": "https://localhost:8080/"
        },
        "id": "RlNW---MzoBi",
        "outputId": "45621ad9-459f-47b6-df2a-b383035c1663"
      },
      "source": [
        "# Show example embedding\n",
        "print(f\"Sentence before vectorization:\\n {random_sentence}\\n\")\n",
        "vectorized_sentence = text_vectorizer([random_sentence])\n",
        "print(f\"Sentence after vectorization (before embedding):\\n {vectorized_sentence}\\n\")\n",
        "embedding_sentence = token_embed(vectorized_sentence)\n",
        "print(f\"Sentence after embedding:\\n {embedding_sentence}\\n\")\n",
        "print(f\"Embedded sentence shape: {embedding_sentence.shape}\")"
      ],
      "execution_count": 44,
      "outputs": [
        {
          "output_type": "stream",
          "name": "stdout",
          "text": [
            "Sentence before vectorization:\n",
            " data were collected by self-administered questionnaires at the baseline , @nd week , and @th week .\n",
            "\n",
            "Sentence after vectorization (before embedding):\n",
            " [[ 100    9  444   22 4139  913   15    2   49 2748   89    3  698   89\n",
            "     0    0    0    0    0    0    0    0    0    0    0    0    0    0\n",
            "     0    0    0    0    0    0    0    0    0    0    0    0    0    0\n",
            "     0    0    0    0    0    0    0    0    0    0    0    0    0]]\n",
            "\n",
            "Sentence after embedding:\n",
            " [[[-0.04901744 -0.039577    0.04354212 ... -0.02072834  0.0292473\n",
            "   -0.0461131 ]\n",
            "  [-0.04300388 -0.03593191  0.04132045 ...  0.02606379 -0.03109373\n",
            "    0.01563575]\n",
            "  [-0.00561231 -0.04958204  0.00852082 ... -0.01343243 -0.02132549\n",
            "    0.03624214]\n",
            "  ...\n",
            "  [-0.03656333  0.02334634 -0.01978297 ... -0.04216616 -0.01608969\n",
            "    0.03857673]\n",
            "  [-0.03656333  0.02334634 -0.01978297 ... -0.04216616 -0.01608969\n",
            "    0.03857673]\n",
            "  [-0.03656333  0.02334634 -0.01978297 ... -0.04216616 -0.01608969\n",
            "    0.03857673]]]\n",
            "\n",
            "Embedded sentence shape: (1, 55, 128)\n"
          ]
        }
      ]
    },
    {
      "cell_type": "markdown",
      "metadata": {
        "id": "6k6th-l60SZr"
      },
      "source": [
        "## Creating datasets (making sure our data loads as fast as possible)\n",
        "\n",
        "We're going to setup our data to run as fast as possible with the TensorFlow tf.data API, many of the steps here are discusses at length in these two resources:\n",
        "* https://www.tensorflow.org/guide/data_performance\n",
        "* https://www.tensorflow.org/guide/data"
      ]
    },
    {
      "cell_type": "code",
      "metadata": {
        "colab": {
          "base_uri": "https://localhost:8080/"
        },
        "id": "1rolLiM0Ft78",
        "outputId": "cf4d6efe-371c-4eff-e79c-fd3f81546e73"
      },
      "source": [
        "# Turn our data into TensorFlow datasets (passing one_hot_encoded labels)\n",
        "import tensorflow as tf\n",
        "train_dataset = tf.data.Dataset.from_tensor_slices((train_sentences,train_labels_one_hot))\n",
        "valid_dataset = tf.data.Dataset.from_tensor_slices((val_sentences, val_labels_one_hot))\n",
        "test_dataset = tf.data.Dataset.from_tensor_slices((test_sentences, test_labels_one_hot))\n",
        "\n",
        "train_dataset"
      ],
      "execution_count": 45,
      "outputs": [
        {
          "output_type": "execute_result",
          "data": {
            "text/plain": [
              "<TensorSliceDataset shapes: ((), (5,)), types: (tf.string, tf.float64)>"
            ]
          },
          "metadata": {},
          "execution_count": 45
        }
      ]
    },
    {
      "cell_type": "code",
      "metadata": {
        "colab": {
          "base_uri": "https://localhost:8080/"
        },
        "id": "HTCKeJ4tHipc",
        "outputId": "16f33f81-5c34-44dc-9edf-7dd940f7a04d"
      },
      "source": [
        "# Take the TensorSlice Datasets and turn them into prefetched datasets\n",
        "train_dataset = train_dataset.batch(batch_size=32).prefetch(buffer_size=tf.data.AUTOTUNE)\n",
        "valid_dataset = valid_dataset.batch(batch_size=32).prefetch(buffer_size=tf.data.AUTOTUNE)\n",
        "test_dataset = test_dataset.batch(batch_size=32).prefetch(buffer_size=tf.data.AUTOTUNE)\n",
        "\n",
        "train_dataset"
      ],
      "execution_count": 46,
      "outputs": [
        {
          "output_type": "execute_result",
          "data": {
            "text/plain": [
              "<PrefetchDataset shapes: ((None,), (None, 5)), types: (tf.string, tf.float64)>"
            ]
          },
          "metadata": {},
          "execution_count": 46
        }
      ]
    },
    {
      "cell_type": "markdown",
      "metadata": {
        "id": "w2dT_ja-JFLe"
      },
      "source": [
        "## Model_1: Conv1D with token embeddings"
      ]
    },
    {
      "cell_type": "code",
      "metadata": {
        "id": "5zuvURtgJO_C"
      },
      "source": [
        "from tensorflow.keras import layers\n",
        "inputs = layers.Input(shape=(1,),dtype=tf.string,name='input_layer')\n",
        "x = text_vectorizer(inputs)\n",
        "x = token_embed(x)\n",
        "x = layers.Conv1D(filters=64,\n",
        "                  kernel_size=5,\n",
        "                  strides=1,\n",
        "                  padding=\"same\",\n",
        "                  activation=\"relu\") (x)\n",
        "x = layers.GlobalMaxPooling1D()(x)\n",
        "outputs = layers.Dense(5, activation=\"softmax\",name=\"output_layer\")(x)\n",
        "model_1 = tf.keras.Model(inputs,outputs,name='Conv1D')"
      ],
      "execution_count": 47,
      "outputs": []
    },
    {
      "cell_type": "code",
      "metadata": {
        "colab": {
          "base_uri": "https://localhost:8080/"
        },
        "id": "c4fSQ5reK3uW",
        "outputId": "aedcc7f3-7103-4b74-cb78-4d48d446d1cf"
      },
      "source": [
        "model_1.summary()"
      ],
      "execution_count": 48,
      "outputs": [
        {
          "output_type": "stream",
          "name": "stdout",
          "text": [
            "Model: \"Conv1D\"\n",
            "_________________________________________________________________\n",
            "Layer (type)                 Output Shape              Param #   \n",
            "=================================================================\n",
            "input_layer (InputLayer)     [(None, 1)]               0         \n",
            "_________________________________________________________________\n",
            "text_vectorization (TextVect (None, 55)                0         \n",
            "_________________________________________________________________\n",
            "token_embedding (Embedding)  (None, 55, 128)           8704000   \n",
            "_________________________________________________________________\n",
            "conv1d (Conv1D)              (None, 55, 64)            41024     \n",
            "_________________________________________________________________\n",
            "global_max_pooling1d (Global (None, 64)                0         \n",
            "_________________________________________________________________\n",
            "output_layer (Dense)         (None, 5)                 325       \n",
            "=================================================================\n",
            "Total params: 8,745,349\n",
            "Trainable params: 8,745,349\n",
            "Non-trainable params: 0\n",
            "_________________________________________________________________\n"
          ]
        }
      ]
    },
    {
      "cell_type": "code",
      "metadata": {
        "id": "CbSio3K7NQB2"
      },
      "source": [
        "# Compile the model\n",
        "model_1.compile(\n",
        "    loss = \"categorical_crossentropy\",\n",
        "    optimizer = tf.keras.optimizers.Adam(),\n",
        "    metrics=[\"accuracy\"]\n",
        ")"
      ],
      "execution_count": 49,
      "outputs": []
    },
    {
      "cell_type": "code",
      "metadata": {
        "colab": {
          "base_uri": "https://localhost:8080/"
        },
        "id": "zXWLHP1eNnAR",
        "outputId": "0405aee6-d9f7-49ad-c82a-6eda79042950"
      },
      "source": [
        "# Fit the model\n",
        "history_model_1 = model_1.fit(train_dataset,\n",
        "                              epochs=3,\n",
        "                              steps_per_epoch=int(len(train_dataset)*0.1),\n",
        "                              validation_data=valid_dataset,\n",
        "                              validation_steps=int(len(valid_dataset)*0.1))"
      ],
      "execution_count": 50,
      "outputs": [
        {
          "output_type": "stream",
          "name": "stdout",
          "text": [
            "Epoch 1/3\n",
            "562/562 [==============================] - 37s 14ms/step - loss: 0.8353 - accuracy: 0.6818 - val_loss: 0.5855 - val_accuracy: 0.7859\n",
            "Epoch 2/3\n",
            "562/562 [==============================] - 8s 14ms/step - loss: 0.5760 - accuracy: 0.7878 - val_loss: 0.5416 - val_accuracy: 0.7929\n",
            "Epoch 3/3\n",
            "562/562 [==============================] - 8s 14ms/step - loss: 0.5446 - accuracy: 0.8003 - val_loss: 0.5253 - val_accuracy: 0.8049\n"
          ]
        }
      ]
    },
    {
      "cell_type": "code",
      "metadata": {
        "colab": {
          "base_uri": "https://localhost:8080/"
        },
        "id": "8A3Xi4GFO3Fw",
        "outputId": "ade2a5df-b5ff-4e84-922a-eef0c2d5a3c2"
      },
      "source": [
        "# Evaluate on whole valid dataset\n",
        "model_1.evaluate(valid_dataset)"
      ],
      "execution_count": 51,
      "outputs": [
        {
          "output_type": "stream",
          "name": "stdout",
          "text": [
            "945/945 [==============================] - 4s 4ms/step - loss: 0.5222 - accuracy: 0.8060\n"
          ]
        },
        {
          "output_type": "execute_result",
          "data": {
            "text/plain": [
              "[0.5222163200378418, 0.8060373067855835]"
            ]
          },
          "metadata": {},
          "execution_count": 51
        }
      ]
    },
    {
      "cell_type": "code",
      "metadata": {
        "id": "To-SJzdIO4YF",
        "colab": {
          "base_uri": "https://localhost:8080/"
        },
        "outputId": "b1d515b9-0386-4c80-de75-ab41ad19a386"
      },
      "source": [
        "# Make predictions (our model predicts prediction probabilities for each class)\n",
        "model_1_pred_probs= model_1.predict(valid_dataset)\n",
        "model_1_pred_probs, model_1_pred_probs.shape"
      ],
      "execution_count": 52,
      "outputs": [
        {
          "output_type": "execute_result",
          "data": {
            "text/plain": [
              "(array([[5.3219050e-01, 1.0276872e-01, 3.7945299e-03, 3.5240793e-01,\n",
              "         8.8383621e-03],\n",
              "        [2.9413477e-01, 5.5117685e-01, 2.1256031e-03, 1.4499429e-01,\n",
              "         7.5684977e-03],\n",
              "        [1.4781685e-01, 2.8559456e-03, 1.2983187e-03, 8.4796607e-01,\n",
              "         6.2823230e-05],\n",
              "        ...,\n",
              "        [1.1424662e-04, 1.6362498e-03, 1.0687704e-02, 1.2677476e-04,\n",
              "         9.8743498e-01],\n",
              "        [3.5390507e-02, 5.3734487e-01, 2.8344095e-02, 3.0617652e-02,\n",
              "         3.6830288e-01],\n",
              "        [1.3414395e-02, 9.8116219e-01, 7.4925699e-04, 3.3743421e-03,\n",
              "         1.2997722e-03]], dtype=float32), (30212, 5))"
            ]
          },
          "metadata": {},
          "execution_count": 52
        }
      ]
    },
    {
      "cell_type": "code",
      "metadata": {
        "colab": {
          "base_uri": "https://localhost:8080/"
        },
        "id": "HDRugusLetJy",
        "outputId": "aebe17b6-fbc9-4d8b-e91a-d2d85b0907a3"
      },
      "source": [
        "# Convert pred probs to classes\n",
        "model_1_preds = model_1_pred_probs.argmax(axis=1)\n",
        "model_1_preds"
      ],
      "execution_count": 53,
      "outputs": [
        {
          "output_type": "execute_result",
          "data": {
            "text/plain": [
              "array([0, 1, 3, ..., 4, 1, 1])"
            ]
          },
          "metadata": {},
          "execution_count": 53
        }
      ]
    },
    {
      "cell_type": "code",
      "metadata": {
        "colab": {
          "base_uri": "https://localhost:8080/"
        },
        "id": "lZxT44hre3RW",
        "outputId": "4427e696-7b07-4ef2-e268-1c90276ac56f"
      },
      "source": [
        "# Calculate model_1 results\n",
        "model_1_results = calculate_results(y_true=val_labels_encoded,\n",
        "                                    y_pred=model_1_preds)\n",
        "model_1_results"
      ],
      "execution_count": 54,
      "outputs": [
        {
          "output_type": "execute_result",
          "data": {
            "text/plain": [
              "{'accuracy': 80.60373361578182,\n",
              " 'f1-score': 0.8043360760183877,\n",
              " 'precision': 0.804600475804055,\n",
              " 'recall': 0.8060373361578181}"
            ]
          },
          "metadata": {},
          "execution_count": 54
        }
      ]
    },
    {
      "cell_type": "markdown",
      "metadata": {
        "id": "U7E2LwiEhnvI"
      },
      "source": [
        "## Model 2: Feature Extraction with pretrained token embeddings\n",
        "\n",
        "Now let's use pretrained word embeddings from TensorFlow Hub, more specifically the universal sentence encoder:\n",
        "https://tfhub.dev/google/universal-sentence-encoder/4\n",
        "\n",
        "The paper originally use GloVe embeddings, however, we're going to stick with the later created `USE` pretrained embeddings."
      ]
    },
    {
      "cell_type": "markdown",
      "metadata": {
        "id": "ZRLU2AC0oKh-"
      },
      "source": [
        "### Model_2: USE (Universal Sentence Encoder)"
      ]
    },
    {
      "cell_type": "code",
      "metadata": {
        "id": "cifhRkn8olGh"
      },
      "source": [
        "import tensorflow_hub as hub\n",
        "USE_URL = \"https://tfhub.dev/google/universal-sentence-encoder/4\""
      ],
      "execution_count": 55,
      "outputs": []
    },
    {
      "cell_type": "code",
      "metadata": {
        "id": "Wm5ZDZaBoreQ"
      },
      "source": [
        "# Download pretrained TensorFlow Hub USE\n",
        "hub_embedding_layer = hub.KerasLayer(USE_URL,\n",
        "                                     trainable=False,\n",
        "                                     name=\"universal_sentence_encoder\")"
      ],
      "execution_count": 56,
      "outputs": []
    },
    {
      "cell_type": "code",
      "metadata": {
        "colab": {
          "base_uri": "https://localhost:8080/"
        },
        "id": "_6R_Xjb0paBB",
        "outputId": "9739b662-e053-4e47-fbf0-809d02488c27"
      },
      "source": [
        "# Test out the pretrained embedding on a random sentence\n",
        "random_sentence = random.choice(train_sentences)\n",
        "print(f\"Random sentence:\\n {random_sentence}\\n\")\n",
        "use_embedding_sentence = hub_embedding_layer([random_sentence])\n",
        "print(f\"Sentence after embedding:\\n {use_embedding_sentence}\\n\")\n",
        "print(f\"Shape of sentence embedding: {use_embedding_sentence.shape}\")"
      ],
      "execution_count": 57,
      "outputs": [
        {
          "output_type": "stream",
          "name": "stdout",
          "text": [
            "Random sentence:\n",
            " levels of glucose , insulin , and igf-@ tended to increase with tramp mice 's age in hfd group .\n",
            "\n",
            "Sentence after embedding:\n",
            " [[ 4.0833402e-02 -7.1044853e-03 -1.5609122e-02  5.4537868e-03\n",
            "  -8.5626528e-02  2.5748519e-02 -1.4297910e-02 -5.8946259e-02\n",
            "   4.8578138e-04  3.2436706e-02  8.4842898e-02  5.4445118e-02\n",
            "   3.7206151e-02 -3.3053692e-02 -8.1987649e-02 -5.9480701e-02\n",
            "  -8.6467333e-02  1.3031592e-02 -2.0677008e-02  2.6101459e-04\n",
            "  -4.2108778e-02  7.0610784e-02 -1.2480553e-02  4.5663118e-02\n",
            "   7.7904053e-02  4.4041950e-02 -4.3502878e-02  6.2592484e-02\n",
            "  -1.3854398e-02 -5.5149127e-02 -1.6044941e-02  1.1079066e-02\n",
            "   4.5892384e-02  2.8239075e-02 -1.3834974e-02 -4.5767289e-02\n",
            "  -2.7280521e-02 -6.9285491e-03  6.9303639e-02  4.7120094e-02\n",
            "  -5.2954502e-02 -1.7224805e-02 -3.5834942e-02 -2.8115449e-02\n",
            "  -3.4127574e-02  3.6016289e-02  4.3146513e-02 -3.9922632e-02\n",
            "   5.1166799e-02 -8.0495186e-02  2.1239530e-02 -3.5221722e-02\n",
            "  -1.4462581e-02  3.2769259e-02  1.3072153e-02 -1.2087089e-02\n",
            "  -2.6017744e-02 -7.1301222e-02  1.2363797e-02 -4.4510800e-02\n",
            "  -2.7647177e-02 -8.3047813e-03  1.5953563e-02  4.6641629e-02\n",
            "   7.2904646e-02 -1.0547062e-02  5.8239955e-02  2.4206279e-02\n",
            "   5.5669732e-03 -4.8328627e-02  1.2573012e-02 -3.7850349e-03\n",
            "  -1.0773519e-02  5.5066250e-02 -6.9082174e-03  2.8434752e-02\n",
            "  -5.7900012e-02  3.6866670e-03  7.2846692e-03  1.1689083e-02\n",
            "  -5.7270262e-02  4.9048875e-02  6.3507549e-02  6.2620185e-02\n",
            "  -4.1858874e-02 -1.5680268e-02  4.6170298e-02  3.5762042e-02\n",
            "  -4.4189431e-02 -7.4244337e-03 -2.1279972e-02 -4.5715902e-02\n",
            "   5.3383384e-02 -5.7746898e-02  6.3404240e-02  5.0537474e-02\n",
            "   6.2400881e-02  2.2442207e-02  4.1374899e-02  1.1297959e-02\n",
            "  -4.9369011e-02 -4.0308904e-02  5.2137885e-02  1.6613860e-02\n",
            "  -3.5663512e-02  7.3485255e-02 -1.4279093e-02  1.8836734e-03\n",
            "  -4.1731954e-02  3.4277141e-02  1.9131605e-02  2.6472526e-02\n",
            "   2.5894467e-02 -5.9014633e-03  1.6427470e-02 -4.9922936e-02\n",
            "  -4.3535940e-02 -2.7684107e-02  3.6100451e-02 -2.6751693e-02\n",
            "  -5.0842859e-02 -5.8670890e-02 -4.6573248e-02  5.5828445e-02\n",
            "   5.6182779e-02  3.0307012e-02 -7.7808268e-02  3.0299274e-03\n",
            "   2.0205807e-02  3.4043533e-03  4.3865453e-02  8.5474871e-02\n",
            "   3.1894073e-02  1.6916126e-02  3.8044974e-02  3.2676365e-02\n",
            "   1.0606160e-02 -8.6549461e-02  1.4651192e-02 -2.5454665e-02\n",
            "   4.0852081e-02  3.5544839e-02 -2.3061216e-02 -3.3651356e-02\n",
            "  -6.8191715e-02  3.1997494e-02  2.3392409e-02 -1.6126400e-02\n",
            "   2.6547503e-02 -6.2062912e-02  4.8824672e-02  1.5269470e-02\n",
            "  -3.4657542e-02  4.2935316e-02  7.3149607e-02  3.2170065e-02\n",
            "  -7.2647214e-02 -6.4602504e-03 -7.4829154e-02 -5.5058137e-02\n",
            "  -4.0827215e-02  2.3088828e-02 -4.3107394e-02 -2.1856572e-02\n",
            "   5.5818435e-02  1.2148662e-02 -5.6463186e-02  3.1500948e-03\n",
            "   4.2480871e-02 -1.6289148e-03 -4.6104439e-02  6.4419972e-04\n",
            "   5.3535789e-02  3.5388671e-02 -5.6775410e-02  2.5876967e-02\n",
            "  -6.4484634e-02  4.9496241e-02  5.8103021e-02  5.1911816e-02\n",
            "  -1.1994288e-02 -4.4331390e-02  5.9556529e-02 -1.8609211e-02\n",
            "   2.8287079e-02 -4.6107419e-02  2.2788888e-02 -3.9614696e-02\n",
            "   1.9050553e-03 -2.2203719e-02  4.9470089e-02 -2.8929042e-02\n",
            "   2.7210407e-02  7.5462386e-02  4.6772245e-02  2.6343912e-02\n",
            "  -2.2908233e-02 -3.9539102e-02 -8.9405412e-03 -3.2208908e-02\n",
            "  -1.0587914e-02  2.8391453e-02 -2.4447205e-02 -1.4521178e-02\n",
            "  -1.9986622e-02  2.9785147e-02  3.9129857e-02  8.0740288e-02\n",
            "   5.2823462e-02 -5.4553342e-03 -4.6721958e-02  5.6056514e-02\n",
            "  -5.3976499e-02 -4.0668756e-02 -3.6182258e-02 -6.0487799e-02\n",
            "  -7.4661425e-03  6.9200896e-02 -4.2077824e-03 -3.2900941e-02\n",
            "  -5.2824028e-02  5.4378282e-02  3.7571307e-02  9.5598018e-03\n",
            "  -5.8651627e-03  3.6402520e-02  6.6923559e-02  2.4388634e-02\n",
            "  -2.4215452e-02  7.1087614e-02  7.4314706e-02  1.9786937e-02\n",
            "  -4.4598602e-02 -5.2023411e-02 -5.2109747e-03 -2.6343077e-02\n",
            "  -4.1941307e-02 -7.0393018e-02  1.4492192e-02  7.2772056e-02\n",
            "  -1.0108566e-02  4.3487404e-02 -2.4786316e-02  1.3272686e-02\n",
            "  -3.0620968e-02 -3.5930853e-02  5.4217525e-02  2.1698494e-02\n",
            "  -1.7627306e-02 -4.8476525e-02 -4.1435208e-02 -2.9595511e-02\n",
            "  -5.6753337e-02  6.4287834e-02  5.4682788e-02 -5.1603070e-03\n",
            "   4.1673083e-02  5.1800244e-02  5.4748811e-02 -4.1341238e-02\n",
            "   2.7954555e-03 -6.0291514e-02 -5.0405540e-02 -2.4623228e-02\n",
            "  -8.0880493e-02 -5.7541061e-02 -8.4664412e-02  6.6573821e-02\n",
            "  -3.5737427e-03  6.8431608e-02 -6.6028148e-02  2.6908927e-03\n",
            "   4.2127486e-02 -1.7720254e-02  8.4666803e-02 -1.3367666e-02\n",
            "   1.7833885e-02  4.6380244e-02  1.8455902e-02 -1.8630398e-02\n",
            "  -4.4163551e-02 -2.8634079e-02  2.1414256e-02 -1.7508680e-04\n",
            "   1.0311363e-02  2.6547108e-02 -6.1838929e-02  5.0258476e-02\n",
            "  -8.4843934e-02 -7.0368953e-02  4.2740539e-02 -3.8039371e-02\n",
            "  -3.0320881e-02 -5.6960925e-02 -3.4929466e-02  2.3300927e-02\n",
            "   4.8577018e-02  2.7418977e-02 -6.1772641e-02  5.3997625e-02\n",
            "   8.6736530e-03  4.8261032e-02  2.0859960e-02  1.5518039e-02\n",
            "  -6.2762752e-02 -5.7883404e-02  1.2799383e-02 -6.2202048e-02\n",
            "  -3.0711159e-02 -8.3078153e-02 -4.4261545e-02  2.6789581e-02\n",
            "   7.2201891e-03  6.2245581e-02 -2.4067974e-02  8.5289225e-02\n",
            "  -6.4273730e-02  4.1410979e-02  6.1785657e-02 -7.7697359e-02\n",
            "  -2.1751316e-02 -5.5591986e-02 -3.8689639e-02  5.4159101e-02\n",
            "  -7.4241661e-02  3.7371825e-02  9.4938958e-03 -3.7228677e-02\n",
            "  -7.9249628e-02 -2.7157769e-02  4.4894706e-02  1.5092323e-02\n",
            "  -4.5532323e-03  2.9464541e-02  2.7287966e-02 -7.1371250e-02\n",
            "   4.0113103e-02 -2.7604673e-02 -3.2770097e-02  3.9326154e-02\n",
            "  -3.5177872e-02 -3.9092939e-02 -1.8663809e-02 -2.9453376e-02\n",
            "  -2.6554329e-02 -8.5181616e-02  3.8345538e-02  5.8251113e-02\n",
            "   3.6309052e-02 -5.4266136e-02  8.6800102e-03  3.3710368e-02\n",
            "  -3.5410114e-02 -5.4996181e-02 -8.6804535e-03  2.5289839e-03\n",
            "  -6.7315176e-02 -2.5070272e-02  6.8379842e-02 -1.8085141e-02\n",
            "  -6.3574901e-03 -2.5986170e-02 -7.5101838e-02 -7.0213847e-02\n",
            "   1.1608726e-02  3.0802635e-02  5.6156721e-02 -1.8741889e-02\n",
            "   1.2086461e-02  2.6543600e-02 -1.2138756e-03 -6.4403683e-02\n",
            "  -2.4586063e-02 -7.7260599e-02  5.0011534e-02  7.4905362e-03\n",
            "  -4.5086011e-02 -4.3537918e-02  1.7690713e-02  4.8859149e-02\n",
            "  -4.7893422e-03  4.4745609e-02 -5.2929521e-03  2.4204986e-02\n",
            "  -1.3661506e-02  4.3401107e-02 -2.5383592e-02 -7.2426513e-02\n",
            "   6.8288743e-02 -1.4722611e-02  1.1945644e-02  5.2417334e-02\n",
            "  -8.5062876e-02 -4.0316772e-02 -2.7562670e-02 -1.0352980e-02\n",
            "   6.9074586e-02 -7.3811188e-02  6.9774672e-02 -4.8932061e-02\n",
            "   3.5078838e-02  6.5461956e-02 -1.0450954e-03 -2.1757927e-02\n",
            "  -5.8019225e-02 -6.7298546e-02 -2.7025681e-02 -3.0002387e-02\n",
            "   4.4586685e-02 -6.3516043e-02 -2.3113899e-02  4.1114982e-02\n",
            "   6.8371952e-02 -7.2386973e-02  1.5968254e-02  6.0926485e-03\n",
            "  -2.3888782e-02  4.3713253e-02 -5.6366697e-02  5.6411218e-02\n",
            "  -5.2474346e-02 -4.7817726e-02  7.0546627e-02  1.6282154e-02\n",
            "  -3.5511069e-02 -4.3542098e-02  4.0633907e-03  4.4746324e-02\n",
            "   8.6767994e-02 -5.6529857e-02 -2.6676238e-02 -1.7838855e-03\n",
            "  -2.5926840e-02  2.9240107e-02  4.4704378e-02 -4.6634087e-03\n",
            "  -1.1034730e-02 -2.2287935e-02 -5.1333513e-02  4.9552936e-02\n",
            "   1.7755250e-02  3.0170592e-02 -1.4649359e-02 -6.0558852e-02\n",
            "  -4.9033351e-02 -5.7344336e-02 -5.5049058e-02 -7.1509518e-02\n",
            "   3.2079205e-02  6.6801950e-02 -6.4954549e-02 -3.4471441e-02\n",
            "  -1.6482376e-02  4.6750903e-02 -6.3802838e-02 -6.6731744e-02\n",
            "  -5.9715010e-02 -1.3813362e-02  1.2928896e-02  4.2596634e-02\n",
            "  -8.1336483e-02 -7.1177669e-03  4.5824163e-02  3.0226961e-02\n",
            "   7.1158543e-02 -3.6129676e-02  3.3745293e-02 -1.6283218e-02\n",
            "  -2.3197420e-02 -6.5629914e-02  4.9771272e-02  3.8514968e-02\n",
            "   8.4214166e-02  7.7646554e-02 -4.7776915e-02 -6.9471642e-02\n",
            "  -7.0214994e-02 -6.5887973e-02  6.7978695e-02  9.1386857e-03\n",
            "   3.9599169e-04  4.7326118e-02 -1.3452469e-03 -9.7332029e-03\n",
            "   4.9082421e-02  7.8923665e-02  2.2959383e-02 -4.5885634e-02\n",
            "  -2.8283933e-02 -4.0449612e-02 -4.8870123e-05 -3.3646066e-02\n",
            "   6.8548575e-02 -9.2804106e-03 -3.8162220e-04 -9.3394667e-03\n",
            "  -2.8650951e-02  5.2153017e-02  6.2646948e-02  2.1616191e-02\n",
            "  -1.4786262e-02 -2.0838596e-02 -1.8958587e-02 -8.5894195e-03\n",
            "   5.5525430e-02 -8.4935673e-02  3.2554641e-02  5.6569930e-02\n",
            "  -2.9350400e-02  1.5569595e-02 -1.8564075e-02  6.5517244e-03]]\n",
            "\n",
            "Shape of sentence embedding: (1, 512)\n"
          ]
        }
      ]
    },
    {
      "cell_type": "markdown",
      "metadata": {
        "id": "-_tz7XsQvM50"
      },
      "source": [
        "### Building and fitting an NLP feature extraction model using pretrained embeddings from TensorFlow Hub\n"
      ]
    },
    {
      "cell_type": "code",
      "metadata": {
        "id": "fyj8TiuvvhA5"
      },
      "source": [
        "inputs = layers.Input(shape=[],dtype=tf.string,name=\"input_layer\")\n",
        "pretrained_embedding = hub_embedding_layer(inputs) # tokenize text and create embedding of each sequence (512 long vector)\n",
        "x = layers.Dense(128,activation=\"relu\")(pretrained_embedding)\n",
        "# Note: we could add more layers if we wanted to\n",
        "outputs = layers.Dense(num_classes,activation=\"softmax\")(x)\n",
        "model_2 = tf.keras.Model(inputs,outputs,name=\"model_2_USE_feature_extractor\")\n",
        "\n",
        "# Compile the model\n",
        "model_2.compile(\n",
        "    loss=\"categorical_crossentropy\",\n",
        "    optimizer=tf.keras.optimizers.Adam(),\n",
        "    metrics=[\"accuracy\"]\n",
        ")"
      ],
      "execution_count": 58,
      "outputs": []
    },
    {
      "cell_type": "code",
      "metadata": {
        "colab": {
          "base_uri": "https://localhost:8080/"
        },
        "id": "GvY12dVKw1TG",
        "outputId": "dee230c6-e799-4fb2-9879-a0f4615e512e"
      },
      "source": [
        "# Get the summary\n",
        "model_2.summary()"
      ],
      "execution_count": 59,
      "outputs": [
        {
          "output_type": "stream",
          "name": "stdout",
          "text": [
            "Model: \"model_2_USE_feature_extractor\"\n",
            "_________________________________________________________________\n",
            "Layer (type)                 Output Shape              Param #   \n",
            "=================================================================\n",
            "input_layer (InputLayer)     [(None,)]                 0         \n",
            "_________________________________________________________________\n",
            "universal_sentence_encoder ( (None, 512)               256797824 \n",
            "_________________________________________________________________\n",
            "dense (Dense)                (None, 128)               65664     \n",
            "_________________________________________________________________\n",
            "dense_1 (Dense)              (None, 5)                 645       \n",
            "=================================================================\n",
            "Total params: 256,864,133\n",
            "Trainable params: 66,309\n",
            "Non-trainable params: 256,797,824\n",
            "_________________________________________________________________\n"
          ]
        }
      ]
    },
    {
      "cell_type": "code",
      "metadata": {
        "colab": {
          "base_uri": "https://localhost:8080/"
        },
        "id": "kJ3sJ0ckstv8",
        "outputId": "f074af48-0507-4f6f-a9e5-97c64188991a"
      },
      "source": [
        "# Fit the model\n",
        "history_model_2 = model_2.fit(train_dataset,\n",
        "                              epochs=3,\n",
        "                              steps_per_epoch=int(0.1*len(train_dataset)),\n",
        "                              validation_data=valid_dataset,\n",
        "                              validation_steps=int(0.1*len(valid_dataset)))"
      ],
      "execution_count": 60,
      "outputs": [
        {
          "output_type": "stream",
          "name": "stdout",
          "text": [
            "Epoch 1/3\n",
            "562/562 [==============================] - 14s 20ms/step - loss: 0.9187 - accuracy: 0.6496 - val_loss: 0.7945 - val_accuracy: 0.6895\n",
            "Epoch 2/3\n",
            "562/562 [==============================] - 11s 20ms/step - loss: 0.7669 - accuracy: 0.7027 - val_loss: 0.7523 - val_accuracy: 0.7055\n",
            "Epoch 3/3\n",
            "562/562 [==============================] - 11s 19ms/step - loss: 0.7487 - accuracy: 0.7139 - val_loss: 0.7348 - val_accuracy: 0.7158\n"
          ]
        }
      ]
    },
    {
      "cell_type": "code",
      "metadata": {
        "colab": {
          "base_uri": "https://localhost:8080/"
        },
        "id": "RokndGSqxklc",
        "outputId": "e27152d2-b05c-4477-8510-c0b25e03fa9b"
      },
      "source": [
        "# Evaluate on the whole dataset\n",
        "model_2.evaluate(valid_dataset)"
      ],
      "execution_count": 61,
      "outputs": [
        {
          "output_type": "stream",
          "name": "stdout",
          "text": [
            "945/945 [==============================] - 16s 17ms/step - loss: 0.7385 - accuracy: 0.7155\n"
          ]
        },
        {
          "output_type": "execute_result",
          "data": {
            "text/plain": [
              "[0.7384600639343262, 0.7154772877693176]"
            ]
          },
          "metadata": {},
          "execution_count": 61
        }
      ]
    },
    {
      "cell_type": "code",
      "metadata": {
        "colab": {
          "base_uri": "https://localhost:8080/"
        },
        "id": "HohAOtgZx2Iw",
        "outputId": "1840ca5a-509f-47a0-af48-0840350598d9"
      },
      "source": [
        "# Make predictions\n",
        "model_2_pred_probs = model_2.predict(valid_dataset)\n",
        "model_2_pred_probs, model_2_pred_probs.shape"
      ],
      "execution_count": 62,
      "outputs": [
        {
          "output_type": "execute_result",
          "data": {
            "text/plain": [
              "(array([[0.459493  , 0.32946742, 0.00222157, 0.20208317, 0.00673484],\n",
              "        [0.35501677, 0.5042976 , 0.00338387, 0.1348245 , 0.00247731],\n",
              "        [0.2515677 , 0.18262318, 0.01953223, 0.5061168 , 0.04016008],\n",
              "        ...,\n",
              "        [0.00213848, 0.00671169, 0.06299529, 0.00107038, 0.92708415],\n",
              "        [0.00457231, 0.04875387, 0.20525995, 0.00168573, 0.73972815],\n",
              "        [0.20008439, 0.25153345, 0.48278123, 0.00737327, 0.05822769]],\n",
              "       dtype=float32), (30212, 5))"
            ]
          },
          "metadata": {},
          "execution_count": 62
        }
      ]
    },
    {
      "cell_type": "code",
      "metadata": {
        "colab": {
          "base_uri": "https://localhost:8080/"
        },
        "id": "KD8BjUqhyGhR",
        "outputId": "98017f76-9486-4389-9436-9845cb569231"
      },
      "source": [
        "# Convert pred_probs to classes\n",
        "model_2_preds = model_2_pred_probs.argmax(axis=1)\n",
        "model_2_preds"
      ],
      "execution_count": 63,
      "outputs": [
        {
          "output_type": "execute_result",
          "data": {
            "text/plain": [
              "array([0, 1, 3, ..., 4, 4, 2])"
            ]
          },
          "metadata": {},
          "execution_count": 63
        }
      ]
    },
    {
      "cell_type": "code",
      "metadata": {
        "colab": {
          "base_uri": "https://localhost:8080/"
        },
        "id": "I8RjKhVAyYQ6",
        "outputId": "909d34a5-953b-4cfd-a326-6ef423a4b466"
      },
      "source": [
        "# Getting the model 2 results\n",
        "model_2_results = calculate_results(y_true=val_labels_encoded,\n",
        "                                    y_pred=model_2_preds)\n",
        "model_2_results"
      ],
      "execution_count": 64,
      "outputs": [
        {
          "output_type": "execute_result",
          "data": {
            "text/plain": [
              "{'accuracy': 71.54772937905469,\n",
              " 'f1-score': 0.7122824285817573,\n",
              " 'precision': 0.7156484522326726,\n",
              " 'recall': 0.7154772937905468}"
            ]
          },
          "metadata": {},
          "execution_count": 64
        }
      ]
    },
    {
      "cell_type": "markdown",
      "metadata": {
        "id": "lHAyQr5MynEU"
      },
      "source": [
        "## Model 3: Conv1D with character embeddings\n",
        "\n",
        "The paper which we're replicating states they used a combination of token and character-level embeddings.\n",
        "\n",
        "Previosuly, we've token-level embeddings but we'll need to do similar steps for characters if we want to use char-level embeddings.\n",
        "\n"
      ]
    },
    {
      "cell_type": "markdown",
      "metadata": {
        "id": "kEOwbN2VGSaX"
      },
      "source": [
        "### Creating a character level tokenizer"
      ]
    },
    {
      "cell_type": "code",
      "metadata": {
        "colab": {
          "base_uri": "https://localhost:8080/"
        },
        "id": "2oXqqgn7GWHD",
        "outputId": "a60ca1cc-e13c-4598-c868-880fb6e02375"
      },
      "source": [
        "train_sentences[:3]"
      ],
      "execution_count": 65,
      "outputs": [
        {
          "output_type": "execute_result",
          "data": {
            "text/plain": [
              "['to investigate the efficacy of @ weeks of daily low-dose oral prednisolone in improving pain , mobility , and systemic low-grade inflammation in the short term and whether the effect would be sustained at @ weeks in older adults with moderate to severe knee osteoarthritis ( oa ) .',\n",
              " 'a total of @ patients with primary knee oa were randomized @:@ ; @ received @ mg/day of prednisolone and @ received placebo for @ weeks .',\n",
              " 'outcome measures included pain reduction and improvement in function scores and systemic inflammation markers .']"
            ]
          },
          "metadata": {},
          "execution_count": 65
        }
      ]
    },
    {
      "cell_type": "code",
      "metadata": {
        "colab": {
          "base_uri": "https://localhost:8080/",
          "height": 86
        },
        "id": "ViD4xx3nQSjk",
        "outputId": "8808b5e3-61bb-48cd-b29b-e33991775e36"
      },
      "source": [
        "\" \".join(list(train_sentences[0]))"
      ],
      "execution_count": 66,
      "outputs": [
        {
          "output_type": "execute_result",
          "data": {
            "application/vnd.google.colaboratory.intrinsic+json": {
              "type": "string"
            },
            "text/plain": [
              "'t o   i n v e s t i g a t e   t h e   e f f i c a c y   o f   @   w e e k s   o f   d a i l y   l o w - d o s e   o r a l   p r e d n i s o l o n e   i n   i m p r o v i n g   p a i n   ,   m o b i l i t y   ,   a n d   s y s t e m i c   l o w - g r a d e   i n f l a m m a t i o n   i n   t h e   s h o r t   t e r m   a n d   w h e t h e r   t h e   e f f e c t   w o u l d   b e   s u s t a i n e d   a t   @   w e e k s   i n   o l d e r   a d u l t s   w i t h   m o d e r a t e   t o   s e v e r e   k n e e   o s t e o a r t h r i t i s   (   o a   )   .'"
            ]
          },
          "metadata": {},
          "execution_count": 66
        }
      ]
    },
    {
      "cell_type": "code",
      "metadata": {
        "id": "rJMeOBxWGZCI",
        "colab": {
          "base_uri": "https://localhost:8080/",
          "height": 52
        },
        "outputId": "5bfee7da-4b65-4a86-f62a-7f9e3b5493d8"
      },
      "source": [
        "# Make function to split sentences into characters\n",
        "def split_chars(text):\n",
        "  return \" \".join(list(text))\n",
        "\n",
        "# Text splitting non-character-level sequence into characters\n",
        "split_chars(random_sentence)"
      ],
      "execution_count": 67,
      "outputs": [
        {
          "output_type": "execute_result",
          "data": {
            "application/vnd.google.colaboratory.intrinsic+json": {
              "type": "string"
            },
            "text/plain": [
              "\"l e v e l s   o f   g l u c o s e   ,   i n s u l i n   ,   a n d   i g f - @   t e n d e d   t o   i n c r e a s e   w i t h   t r a m p   m i c e   ' s   a g e   i n   h f d   g r o u p   .\""
            ]
          },
          "metadata": {},
          "execution_count": 67
        }
      ]
    },
    {
      "cell_type": "code",
      "metadata": {
        "id": "FgSjBOGpL3Pl",
        "colab": {
          "base_uri": "https://localhost:8080/"
        },
        "outputId": "591a284b-71bc-4545-a16b-22690f04feed"
      },
      "source": [
        "# Split sequence-level data splits into character-level data splits\n",
        "train_chars = [split_chars(sentence) for sentence in train_sentences]\n",
        "val_chars = [split_chars(sentence) for sentence in val_sentences]\n",
        "test_chars = [split_chars(sentence) for sentence in test_sentences]\n",
        "train_chars[:5]"
      ],
      "execution_count": 68,
      "outputs": [
        {
          "output_type": "execute_result",
          "data": {
            "text/plain": [
              "['t o   i n v e s t i g a t e   t h e   e f f i c a c y   o f   @   w e e k s   o f   d a i l y   l o w - d o s e   o r a l   p r e d n i s o l o n e   i n   i m p r o v i n g   p a i n   ,   m o b i l i t y   ,   a n d   s y s t e m i c   l o w - g r a d e   i n f l a m m a t i o n   i n   t h e   s h o r t   t e r m   a n d   w h e t h e r   t h e   e f f e c t   w o u l d   b e   s u s t a i n e d   a t   @   w e e k s   i n   o l d e r   a d u l t s   w i t h   m o d e r a t e   t o   s e v e r e   k n e e   o s t e o a r t h r i t i s   (   o a   )   .',\n",
              " 'a   t o t a l   o f   @   p a t i e n t s   w i t h   p r i m a r y   k n e e   o a   w e r e   r a n d o m i z e d   @ : @   ;   @   r e c e i v e d   @   m g / d a y   o f   p r e d n i s o l o n e   a n d   @   r e c e i v e d   p l a c e b o   f o r   @   w e e k s   .',\n",
              " 'o u t c o m e   m e a s u r e s   i n c l u d e d   p a i n   r e d u c t i o n   a n d   i m p r o v e m e n t   i n   f u n c t i o n   s c o r e s   a n d   s y s t e m i c   i n f l a m m a t i o n   m a r k e r s   .',\n",
              " 'p a i n   w a s   a s s e s s e d   u s i n g   t h e   v i s u a l   a n a l o g   p a i n   s c a l e   (   @ - @   m m   )   .',\n",
              " 's e c o n d a r y   o u t c o m e   m e a s u r e s   i n c l u d e d   t h e   w e s t e r n   o n t a r i o   a n d   m c m a s t e r   u n i v e r s i t i e s   o s t e o a r t h r i t i s   i n d e x   s c o r e s   ,   p a t i e n t   g l o b a l   a s s e s s m e n t   (   p g a   )   o f   t h e   s e v e r i t y   o f   k n e e   o a   ,   a n d   @ - m i n   w a l k   d i s t a n c e   (   @ m w d   )   .']"
            ]
          },
          "metadata": {},
          "execution_count": 68
        }
      ]
    },
    {
      "cell_type": "code",
      "metadata": {
        "colab": {
          "base_uri": "https://localhost:8080/"
        },
        "id": "w42pBNSiSHkI",
        "outputId": "16f14cfb-66a6-4c32-d928-1ecaeea08d5e"
      },
      "source": [
        "# What's the average character length?\n",
        "char_length = [len(sentence) for sentence in train_sentences] # counts lenght of all characters in a single sequence\n",
        "avg_char_length = np.mean(char_length)\n",
        "avg_char_length"
      ],
      "execution_count": 69,
      "outputs": [
        {
          "output_type": "execute_result",
          "data": {
            "text/plain": [
              "149.3662574983337"
            ]
          },
          "metadata": {},
          "execution_count": 69
        }
      ]
    },
    {
      "cell_type": "code",
      "metadata": {
        "colab": {
          "base_uri": "https://localhost:8080/",
          "height": 265
        },
        "id": "f68rqWFNXi9n",
        "outputId": "6a7584f6-eb9c-4bda-9ce0-e1d1f39c9876"
      },
      "source": [
        "# Check the distribution of our sequences at a character-level\n",
        "plt.hist(char_length,bins=20);"
      ],
      "execution_count": 70,
      "outputs": [
        {
          "output_type": "display_data",
          "data": {
            "image/png": "[encoded data removed]",
            "text/plain": [
              "<Figure size 432x288 with 1 Axes>"
            ]
          },
          "metadata": {
            "needs_background": "light"
          }
        }
      ]
    },
    {
      "cell_type": "code",
      "metadata": {
        "colab": {
          "base_uri": "https://localhost:8080/"
        },
        "id": "3nWtwTnjYvhl",
        "outputId": "ef9ca608-a09d-467f-e6fa-a9bd2bd164b0"
      },
      "source": [
        "# What lenght of character covers 95% of sequences in character-level sequences\n",
        "output_seq_char_len = int(np.percentile(char_length,95))\n",
        "output_seq_char_len"
      ],
      "execution_count": 71,
      "outputs": [
        {
          "output_type": "execute_result",
          "data": {
            "text/plain": [
              "290"
            ]
          },
          "metadata": {},
          "execution_count": 71
        }
      ]
    },
    {
      "cell_type": "code",
      "metadata": {
        "colab": {
          "base_uri": "https://localhost:8080/",
          "height": 35
        },
        "id": "Yvf2VXsNbxNm",
        "outputId": "3b38538d-88ea-4fd2-93a5-b0632eb04b91"
      },
      "source": [
        "# Get all keyboard characters\n",
        "import string\n",
        "alphabet = string.ascii_lowercase + string.digits + string.punctuation\n",
        "alphabet"
      ],
      "execution_count": 73,
      "outputs": [
        {
          "output_type": "execute_result",
          "data": {
            "application/vnd.google.colaboratory.intrinsic+json": {
              "type": "string"
            },
            "text/plain": [
              "'abcdefghijklmnopqrstuvwxyz0123456789!\"#$%&\\'()*+,-./:;<=>?@[\\\\]^_`{|}~'"
            ]
          },
          "metadata": {},
          "execution_count": 73
        }
      ]
    },
    {
      "cell_type": "code",
      "metadata": {
        "id": "iNmXo4yxdJNa"
      },
      "source": [
        "# Create char-level token vectorizer instance\n",
        "NUM_CHARS_TOKENS = len(alphabet) + 2 # add 2 for space and <OOV> token (out of vocab ='[UNK]')\n",
        "char_vectorizer = TextVectorization(max_tokens=NUM_CHARS_TOKENS,\n",
        "                                    output_sequence_length=output_seq_char_len,\n",
        "                                    pad_to_max_tokens=True,\n",
        "                                    name=\"char_vectorizer\")"
      ],
      "execution_count": 75,
      "outputs": []
    },
    {
      "cell_type": "code",
      "metadata": {
        "id": "gfTcGSSPeY6u"
      },
      "source": [
        "# Adapt character vectorizer to training character\n",
        "char_vectorizer.adapt(train_chars)"
      ],
      "execution_count": 76,
      "outputs": []
    },
    {
      "cell_type": "code",
      "metadata": {
        "colab": {
          "base_uri": "https://localhost:8080/"
        },
        "id": "xSLLOZAFeg7-",
        "outputId": "5a08a559-7dd1-4188-ba2f-efeb147c5929"
      },
      "source": [
        "# Check character vocab stats\n",
        "char_vocab = char_vectorizer.get_vocabulary()\n",
        "print(f\"Number of different characters in character vocab: {len(char_vocab)}\")\n",
        "print(f\"5 Most Common Characters: {char_vocab[:5]}\")\n",
        "print(f\"5 Most Least Common Characters: {char_vocab[-5:]}\")"
      ],
      "execution_count": 77,
      "outputs": [
        {
          "output_type": "stream",
          "name": "stdout",
          "text": [
            "Number of different characters in character vocab: 28\n",
            "5 Most Common Characters: ['', '[UNK]', 'e', 't', 'i']\n",
            "5 Most Least Common Characters: ['k', 'x', 'z', 'q', 'j']\n"
          ]
        }
      ]
    },
    {
      "cell_type": "code",
      "metadata": {
        "colab": {
          "base_uri": "https://localhost:8080/"
        },
        "id": "0c0FbChjftkC",
        "outputId": "12e10f15-3755-4cf0-cca5-85acbf566e3e"
      },
      "source": [
        "# Test our character vectorizer\n",
        "random_train_chars = random.choice(train_chars)\n",
        "print(f\"Charified text:\\n {random_train_chars}\")\n",
        "print(f\"\\nLength of random_train_chars: {len(random_train_chars.split())}\")\n",
        "vectorized_chars = char_vectorizer([random_train_chars])\n",
        "print(f\"\\nVectorized text:\\n {vectorized_chars}\")\n",
        "print(f\"\\nShape of Vectorized text: {vectorized_chars.shape}\")"
      ],
      "execution_count": 78,
      "outputs": [
        {
          "output_type": "stream",
          "name": "stdout",
          "text": [
            "Charified text:\n",
            " t h e   i n t e n t - t o - t r e a t   a n a l y s i s   i n c l u d e d   @ , @   p a t i e n t s   (   @ , @   c a t h e t e r s   ,   @ , @   c a t h e t e r - d a y s   ,   a n d   @ , @   s t u d y   l o c k s   )   .\n",
            "\n",
            "Length of random_train_chars: 94\n",
            "\n",
            "Vectorized text:\n",
            " [[ 3 13  2  4  6  3  2  6  3  3  7  3  8  2  5  3  5  6  5 12 19  9  4  9\n",
            "   4  6 11 12 16 10  2 10 14  5  3  4  2  6  3  9 11  5  3 13  2  3  2  8\n",
            "   9 11  5  3 13  2  3  2  8 10  5 19  9  5  6 10  9  3 16 10 19 12  7 11\n",
            "  23  9  0  0  0  0  0  0  0  0  0  0  0  0  0  0  0  0  0  0  0  0  0  0\n",
            "   0  0  0  0  0  0  0  0  0  0  0  0  0  0  0  0  0  0  0  0  0  0  0  0\n",
            "   0  0  0  0  0  0  0  0  0  0  0  0  0  0  0  0  0  0  0  0  0  0  0  0\n",
            "   0  0  0  0  0  0  0  0  0  0  0  0  0  0  0  0  0  0  0  0  0  0  0  0\n",
            "   0  0  0  0  0  0  0  0  0  0  0  0  0  0  0  0  0  0  0  0  0  0  0  0\n",
            "   0  0  0  0  0  0  0  0  0  0  0  0  0  0  0  0  0  0  0  0  0  0  0  0\n",
            "   0  0  0  0  0  0  0  0  0  0  0  0  0  0  0  0  0  0  0  0  0  0  0  0\n",
            "   0  0  0  0  0  0  0  0  0  0  0  0  0  0  0  0  0  0  0  0  0  0  0  0\n",
            "   0  0  0  0  0  0  0  0  0  0  0  0  0  0  0  0  0  0  0  0  0  0  0  0\n",
            "   0  0]]\n",
            "\n",
            "Shape of Vectorized text: (1, 290)\n"
          ]
        }
      ]
    },
    {
      "cell_type": "markdown",
      "metadata": {
        "id": "qJcHY9cAgb0X"
      },
      "source": [
        "### Character level embedding"
      ]
    },
    {
      "cell_type": "code",
      "metadata": {
        "id": "nbiVqF1_khXf"
      },
      "source": [
        "from tensorflow.keras import layers\n",
        "char_embed = layers.Embedding(input_dim=len(char_vocab), # number of different characters \n",
        "                              output_dim=25, # size of the char embedding in the paper\n",
        "                              mask_zero=True,\n",
        "                              name=\"char_embedding\")"
      ],
      "execution_count": 79,
      "outputs": []
    },
    {
      "cell_type": "code",
      "metadata": {
        "colab": {
          "base_uri": "https://localhost:8080/"
        },
        "id": "DkozGTbvlTJm",
        "outputId": "42951dcf-35df-46a5-bc7c-7a7cdaa3d014"
      },
      "source": [
        "# Test our character embedding layer\n",
        "print(f\"Charified text:\\n {random_train_chars}\\n\")\n",
        "char_embed_example = char_embed(char_vectorizer([random_train_chars]))\n",
        "print(f\"Embedded chars (after vectorization & embedding):\\n {char_embed_example}\\n\")\n",
        "print(f\"Character embedding shape: {char_embed_example.shape}\")"
      ],
      "execution_count": 80,
      "outputs": [
        {
          "output_type": "stream",
          "name": "stdout",
          "text": [
            "Charified text:\n",
            " t h e   i n t e n t - t o - t r e a t   a n a l y s i s   i n c l u d e d   @ , @   p a t i e n t s   (   @ , @   c a t h e t e r s   ,   @ , @   c a t h e t e r - d a y s   ,   a n d   @ , @   s t u d y   l o c k s   )   .\n",
            "\n",
            "Embedded chars (after vectorization & embedding):\n",
            " [[[-0.01338924 -0.04208855 -0.03587253 ... -0.00016778  0.02904793\n",
            "    0.00597883]\n",
            "  [ 0.04090149  0.03648107  0.03453613 ... -0.02056298 -0.01769724\n",
            "   -0.01695088]\n",
            "  [-0.01999584 -0.00770383  0.03388209 ...  0.0062998  -0.00241728\n",
            "    0.03559316]\n",
            "  ...\n",
            "  [ 0.02776852 -0.02795336 -0.04552951 ...  0.04443962  0.0238045\n",
            "    0.04144598]\n",
            "  [ 0.02776852 -0.02795336 -0.04552951 ...  0.04443962  0.0238045\n",
            "    0.04144598]\n",
            "  [ 0.02776852 -0.02795336 -0.04552951 ...  0.04443962  0.0238045\n",
            "    0.04144598]]]\n",
            "\n",
            "Character embedding shape: (1, 290, 25)\n"
          ]
        }
      ]
    },
    {
      "cell_type": "markdown",
      "metadata": {
        "id": "pvdqX_S1m3Up"
      },
      "source": [
        "### Building a Conv1D model to fit on character embeddings"
      ]
    },
    {
      "cell_type": "code",
      "metadata": {
        "id": "B2TQT_axwuK2"
      },
      "source": [
        "# Make Conv1D on chars only\n",
        "inputs = layers.Input(shape=(1,),dtype=tf.string,name=\"input_layer\")\n",
        "x = char_vectorizer(inputs)\n",
        "x = char_embed(x)\n",
        "x = layers.Conv1D(filters=64,\n",
        "                  kernel_size=5,\n",
        "                  strides=1,\n",
        "                  padding=\"same\",\n",
        "                  activation=\"relu\") (x)\n",
        "x = layers.GlobalMaxPool1D()(x)\n",
        "outputs = layers.Dense(num_classes, activation=\"softmax\")(x)\n",
        "model_3 = tf.keras.Model(inputs,outputs,name=\"model_3_conv1D_char_emnbeddings\")\n",
        "\n",
        "# Compile\n",
        "model_3.compile(\n",
        "    loss = \"categorical_crossentropy\",\n",
        "    optimizer = tf.keras.optimizers.Adam(),\n",
        "    metrics=[\"accuracy\"]\n",
        ")"
      ],
      "execution_count": 81,
      "outputs": []
    },
    {
      "cell_type": "code",
      "metadata": {
        "colab": {
          "base_uri": "https://localhost:8080/"
        },
        "id": "vpn3YcuXypqI",
        "outputId": "4de867a2-bc0b-414c-858f-f72bcc040f20"
      },
      "source": [
        "# Get the summary\n",
        "model_3.summary()"
      ],
      "execution_count": 82,
      "outputs": [
        {
          "output_type": "stream",
          "name": "stdout",
          "text": [
            "Model: \"model_3_conv1D_char_emnbeddings\"\n",
            "_________________________________________________________________\n",
            "Layer (type)                 Output Shape              Param #   \n",
            "=================================================================\n",
            "input_layer (InputLayer)     [(None, 1)]               0         \n",
            "_________________________________________________________________\n",
            "char_vectorizer (TextVectori (None, 290)               0         \n",
            "_________________________________________________________________\n",
            "char_embedding (Embedding)   (None, 290, 25)           700       \n",
            "_________________________________________________________________\n",
            "conv1d_1 (Conv1D)            (None, 290, 64)           8064      \n",
            "_________________________________________________________________\n",
            "global_max_pooling1d_1 (Glob (None, 64)                0         \n",
            "_________________________________________________________________\n",
            "dense_2 (Dense)              (None, 5)                 325       \n",
            "=================================================================\n",
            "Total params: 9,089\n",
            "Trainable params: 9,089\n",
            "Non-trainable params: 0\n",
            "_________________________________________________________________\n"
          ]
        }
      ]
    },
    {
      "cell_type": "code",
      "metadata": {
        "colab": {
          "base_uri": "https://localhost:8080/",
          "height": 644
        },
        "id": "zJRGMxAAjXWG",
        "outputId": "acf8573b-cea3-45a7-bcf3-637bbb38890a"
      },
      "source": [
        "from tensorflow.keras.utils import plot_model\n",
        "plot_model(model_3,show_shapes=True)"
      ],
      "execution_count": 85,
      "outputs": [
        {
          "output_type": "execute_result",
          "data": {
            "image/png": "[encoded data removed]",
            "text/plain": [
              "<IPython.core.display.Image object>"
            ]
          },
          "metadata": {},
          "execution_count": 85
        }
      ]
    },
    {
      "cell_type": "code",
      "metadata": {
        "colab": {
          "base_uri": "https://localhost:8080/"
        },
        "id": "oNbevtvkyrs6",
        "outputId": "d5dae403-01a8-4abc-ba15-cc1ac7de2e5b"
      },
      "source": [
        "# Creating the character-level dataset\n",
        "char_train_dataset = tf.data.Dataset.from_tensor_slices((train_chars,train_labels_one_hot)).batch(batch_size=32).prefetch(buffer_size=tf.data.AUTOTUNE)\n",
        "char_valid_dataset = tf.data.Dataset.from_tensor_slices((val_chars,val_labels_one_hot)).batch(batch_size=32).prefetch(buffer_size=tf.data.AUTOTUNE)\n",
        "char_test_dataset = tf.data.Dataset.from_tensor_slices((test_chars,test_labels_one_hot)).batch(batch_size=32).prefetch(buffer_size=tf.data.AUTOTUNE)\n",
        "\n",
        "char_train_dataset"
      ],
      "execution_count": 83,
      "outputs": [
        {
          "output_type": "execute_result",
          "data": {
            "text/plain": [
              "<PrefetchDataset shapes: ((None,), (None, 5)), types: (tf.string, tf.float64)>"
            ]
          },
          "metadata": {},
          "execution_count": 83
        }
      ]
    },
    {
      "cell_type": "code",
      "metadata": {
        "colab": {
          "base_uri": "https://localhost:8080/"
        },
        "id": "sj16Z98QzhVs",
        "outputId": "049ea876-17ab-43c8-9de9-dde82f5c6570"
      },
      "source": [
        "# Fit the model\n",
        "history_model_3 = model_3.fit(char_train_dataset,\n",
        "                              epochs=3,\n",
        "                              steps_per_epoch=int(0.1*len(char_train_dataset)),\n",
        "                              validation_data=char_valid_dataset,\n",
        "                              validation_steps=int(0.1*len(char_valid_dataset)))"
      ],
      "execution_count": 86,
      "outputs": [
        {
          "output_type": "stream",
          "name": "stdout",
          "text": [
            "Epoch 1/3\n",
            "562/562 [==============================] - 6s 10ms/step - loss: 1.2492 - accuracy: 0.4887 - val_loss: 1.0383 - val_accuracy: 0.5864\n",
            "Epoch 2/3\n",
            "562/562 [==============================] - 5s 10ms/step - loss: 0.9989 - accuracy: 0.6039 - val_loss: 0.9292 - val_accuracy: 0.6356\n",
            "Epoch 3/3\n",
            "562/562 [==============================] - 5s 10ms/step - loss: 0.9141 - accuracy: 0.6423 - val_loss: 0.8458 - val_accuracy: 0.6868\n"
          ]
        }
      ]
    },
    {
      "cell_type": "code",
      "metadata": {
        "colab": {
          "base_uri": "https://localhost:8080/"
        },
        "id": "sT0ZcPA40VBH",
        "outputId": "d887753b-5ebc-4cf6-900f-a162e4f09c51"
      },
      "source": [
        "# Evaluate on the whole dataset\n",
        "model_3.evaluate(char_valid_dataset)"
      ],
      "execution_count": 87,
      "outputs": [
        {
          "output_type": "stream",
          "name": "stdout",
          "text": [
            "945/945 [==============================] - 5s 5ms/step - loss: 0.8704 - accuracy: 0.6640\n"
          ]
        },
        {
          "output_type": "execute_result",
          "data": {
            "text/plain": [
              "[0.8703988790512085, 0.6639745831489563]"
            ]
          },
          "metadata": {},
          "execution_count": 87
        }
      ]
    },
    {
      "cell_type": "code",
      "metadata": {
        "colab": {
          "base_uri": "https://localhost:8080/"
        },
        "id": "IoWe-5uN1CCc",
        "outputId": "87839095-6bed-4c82-acb5-75837ebb6fbe"
      },
      "source": [
        "# Make predictions with character model only\n",
        "model_3_pred_probs = model_3.predict(char_valid_dataset)\n",
        "model_3_pred_probs"
      ],
      "execution_count": 88,
      "outputs": [
        {
          "output_type": "execute_result",
          "data": {
            "text/plain": [
              "array([[0.23038588, 0.36586615, 0.07564511, 0.2977229 , 0.03037995],\n",
              "       [0.0907878 , 0.70755005, 0.02995154, 0.13491233, 0.03679831],\n",
              "       [0.2573675 , 0.18067978, 0.09954295, 0.43221974, 0.03018998],\n",
              "       ...,\n",
              "       [0.01246428, 0.02250144, 0.23418458, 0.011838  , 0.71901166],\n",
              "       [0.03423383, 0.12402561, 0.4696158 , 0.03694978, 0.33517504],\n",
              "       [0.31851396, 0.56701165, 0.04103609, 0.05256423, 0.02087408]],\n",
              "      dtype=float32)"
            ]
          },
          "metadata": {},
          "execution_count": 88
        }
      ]
    },
    {
      "cell_type": "code",
      "metadata": {
        "colab": {
          "base_uri": "https://localhost:8080/"
        },
        "id": "Tu00lRjh1M6v",
        "outputId": "618d3349-e15c-450c-f134-596e5e3d0ee5"
      },
      "source": [
        "# Convert prediction probs to class labels\n",
        "model_3_preds = model_3_pred_probs.argmax(axis=1)\n",
        "model_3_preds"
      ],
      "execution_count": 89,
      "outputs": [
        {
          "output_type": "execute_result",
          "data": {
            "text/plain": [
              "array([1, 1, 3, ..., 4, 2, 1])"
            ]
          },
          "metadata": {},
          "execution_count": 89
        }
      ]
    },
    {
      "cell_type": "code",
      "metadata": {
        "colab": {
          "base_uri": "https://localhost:8080/"
        },
        "id": "ICaRsCaV1Xsf",
        "outputId": "b884ee8e-66a8-4239-f0ee-23b3149fb6e2"
      },
      "source": [
        "# Model_3_results\n",
        "model_3_results = calculate_results(y_true=val_labels_encoded,\n",
        "                                    y_pred=model_3_preds)\n",
        "model_3_results"
      ],
      "execution_count": 90,
      "outputs": [
        {
          "output_type": "execute_result",
          "data": {
            "text/plain": [
              "{'accuracy': 66.39745796372303,\n",
              " 'f1-score': 0.6523893544838592,\n",
              " 'precision': 0.656515799734688,\n",
              " 'recall': 0.6639745796372303}"
            ]
          },
          "metadata": {},
          "execution_count": 90
        }
      ]
    },
    {
      "cell_type": "markdown",
      "metadata": {
        "id": "596O7FFh1jrd"
      },
      "source": [
        "## Model 4: Combining pretrained token embeddings + character embeddings (hybrid embedding layer)\n",
        "\n",
        "1. Create a token-level embedding model (similar to `model_2`)\n",
        "2. Create a character-level embedding model (similar to `model_3` with a slight modification)\n",
        "3. Combine 1 & 2 with a concatenate layer (`layers.Concatenate`)\n",
        "4. Build a series of output layers on top of 3 similar to Figure 1 and section 4.2 of https://arxiv.org/pdf/1612.05251.pdf\n",
        "5. Construct a model which takes token and character-level sequences as input and produces sequence label probabilities as output"
      ]
    },
    {
      "cell_type": "code",
      "metadata": {
        "id": "qS4W7B4k4cEw"
      },
      "source": [
        "# 1. Setup token inputs/model\n",
        "token_inputs = layers.Input(shape=[], dtype=tf.string, name='token_input')\n",
        "token_embeddings = hub_embedding_layer(token_inputs)\n",
        "token_outputs = layers.Dense(128, activation=\"relu\") (token_embeddings)\n",
        "token_model = tf.keras.Model(inputs=token_inputs,\n",
        "                             outputs=token_outputs)\n",
        "\n",
        "# 2. Setup char inputs/model\n",
        "char_inputs = layers.Input(shape=(1, ),dtype=tf.string,name=\"char_input\")\n",
        "char_vectors = char_vectorizer(char_inputs)\n",
        "char_embeddings = char_embed(char_vectors)\n",
        "char_bi_lstm = layers.Bidirectional(layer=layers.LSTM(units=24))(char_embeddings) # bi-LSTM as per paper\n",
        "char_model = tf.keras.Model(inputs=char_inputs,\n",
        "                            outputs=char_bi_lstm)\n",
        "\n",
        "# 3. Concatenate token and char inputs (create hybrid token embedding)\n",
        "token_char_concat = layers.Concatenate(name=\"token_char_hybrid\")([token_model.output,\n",
        "                                                                  char_model.output])\n",
        "\n",
        "# 4. Create output layers - adding in Dropout\n",
        "combined_dropout = layers.Dropout(rate=0.5)(token_char_concat)\n",
        "combined_dense = layers.Dense(128, activation=\"relu\")(combined_dropout)\n",
        "final_dropout = layers.Dropout(rate=0.5)(combined_dense)\n",
        "output_layer = layers.Dense(num_classes, activation=\"softmax\")(final_dropout)\n",
        "\n",
        "# 5. Construct model with char and token inputs\n",
        "model_4 = tf.keras.Model(inputs=[token_model.input,char_model.input],\n",
        "                         outputs=output_layer,\n",
        "                         name=\"model_4_token_and_char_embeddings\")"
      ],
      "execution_count": 91,
      "outputs": []
    },
    {
      "cell_type": "code",
      "metadata": {
        "colab": {
          "base_uri": "https://localhost:8080/"
        },
        "id": "1Gfsfnf7BkS6",
        "outputId": "50986e98-659c-4ce3-ad2b-c0fe2110ad64"
      },
      "source": [
        "# Get the summary\n",
        "model_4.summary()"
      ],
      "execution_count": 92,
      "outputs": [
        {
          "output_type": "stream",
          "name": "stdout",
          "text": [
            "Model: \"model_4_token_and_char_embeddings\"\n",
            "__________________________________________________________________________________________________\n",
            "Layer (type)                    Output Shape         Param #     Connected to                     \n",
            "==================================================================================================\n",
            "char_input (InputLayer)         [(None, 1)]          0                                            \n",
            "__________________________________________________________________________________________________\n",
            "token_input (InputLayer)        [(None,)]            0                                            \n",
            "__________________________________________________________________________________________________\n",
            "char_vectorizer (TextVectorizat (None, 290)          0           char_input[0][0]                 \n",
            "__________________________________________________________________________________________________\n",
            "universal_sentence_encoder (Ker (None, 512)          256797824   token_input[0][0]                \n",
            "__________________________________________________________________________________________________\n",
            "char_embedding (Embedding)      (None, 290, 25)      700         char_vectorizer[1][0]            \n",
            "__________________________________________________________________________________________________\n",
            "dense_3 (Dense)                 (None, 128)          65664       universal_sentence_encoder[1][0] \n",
            "__________________________________________________________________________________________________\n",
            "bidirectional (Bidirectional)   (None, 48)           9600        char_embedding[1][0]             \n",
            "__________________________________________________________________________________________________\n",
            "token_char_hybrid (Concatenate) (None, 176)          0           dense_3[0][0]                    \n",
            "                                                                 bidirectional[0][0]              \n",
            "__________________________________________________________________________________________________\n",
            "dropout (Dropout)               (None, 176)          0           token_char_hybrid[0][0]          \n",
            "__________________________________________________________________________________________________\n",
            "dense_4 (Dense)                 (None, 128)          22656       dropout[0][0]                    \n",
            "__________________________________________________________________________________________________\n",
            "dropout_1 (Dropout)             (None, 128)          0           dense_4[0][0]                    \n",
            "__________________________________________________________________________________________________\n",
            "dense_5 (Dense)                 (None, 5)            645         dropout_1[0][0]                  \n",
            "==================================================================================================\n",
            "Total params: 256,897,089\n",
            "Trainable params: 99,265\n",
            "Non-trainable params: 256,797,824\n",
            "__________________________________________________________________________________________________\n"
          ]
        }
      ]
    },
    {
      "cell_type": "code",
      "metadata": {
        "colab": {
          "base_uri": "https://localhost:8080/",
          "height": 976
        },
        "id": "psJFWRHDBpNz",
        "outputId": "ff8cf5bc-8308-4c0b-bcea-d98ae68fb4b7"
      },
      "source": [
        "# Plot hybrid token and character model\n",
        "from tensorflow.keras.utils import plot_model\n",
        "plot_model(model_4,show_shapes=True)"
      ],
      "execution_count": 93,
      "outputs": [
        {
          "output_type": "execute_result",
          "data": {
            "image/png": "[encoded data removed]",
            "text/plain": [
              "<IPython.core.display.Image object>"
            ]
          },
          "metadata": {},
          "execution_count": 93
        }
      ]
    },
    {
      "cell_type": "code",
      "metadata": {
        "id": "-A0c2E5_C1Jl"
      },
      "source": [
        "# Compile token char model\n",
        "model_4.compile(\n",
        "    loss=\"categorical_crossentropy\",\n",
        "    optimizer=tf.keras.optimizers.Adam(),\n",
        "    metrics=[\"accuracy\"]\n",
        ")"
      ],
      "execution_count": 94,
      "outputs": []
    },
    {
      "cell_type": "markdown",
      "metadata": {
        "id": "XiTlJxlbEwuK"
      },
      "source": [
        "### Combining token and character data into a tf.data Datset"
      ]
    },
    {
      "cell_type": "code",
      "metadata": {
        "id": "M30BpwWmFaHV"
      },
      "source": [
        "# 1. Combine chars and tokens into a Dataset for training data\n",
        "train_char_token_data = tf.data.Dataset.from_tensor_slices((train_sentences, train_chars)) # make data\n",
        "train_char_token_labels = tf.data.Dataset.from_tensor_slices(train_labels_one_hot) # make labels\n",
        "train_char_token_dataset = tf.data.Dataset.zip((train_char_token_data,train_char_token_labels)) # combine data and labels\n",
        "# Prefetch and batch train data\n",
        "train_char_token_dataset = train_char_token_dataset.batch(batch_size=32).prefetch(buffer_size=tf.data.AUTOTUNE)\n",
        "\n",
        "# 2. Combine chars and tokens into a Dataset for validation data\n",
        "val_char_token_data = tf.data.Dataset.from_tensor_slices((val_sentences, val_chars))\n",
        "val_char_token_labels = tf.data.Dataset.from_tensor_slices(val_labels_one_hot)\n",
        "val_char_token_dataset = tf.data.Dataset.zip((val_char_token_data,val_char_token_labels))\n",
        "# Prefetch and batch validation data\n",
        "val_char_token_dataset = val_char_token_dataset.batch(batch_size=32).prefetch(buffer_size=tf.data.AUTOTUNE)\n",
        "\n",
        "# 3. Combine chars and tokens into a Dataset for testing data\n",
        "test_char_token_data = tf.data.Dataset.from_tensor_slices((test_sentences,test_chars))\n",
        "test_char_token_labels = tf.data.Dataset.from_tensor_slices(test_labels_one_hot)\n",
        "test_char_token_dataset = tf.data.Dataset.zip((test_char_token_data,test_char_token_labels))\n",
        "# Prefetch and batch validation data\n",
        "test_char_token_dataset = test_char_token_dataset.batch(batch_size=32).prefetch(buffer_size=tf.data.AUTOTUNE)"
      ],
      "execution_count": 95,
      "outputs": []
    },
    {
      "cell_type": "code",
      "metadata": {
        "colab": {
          "base_uri": "https://localhost:8080/"
        },
        "id": "l576beX6Isk1",
        "outputId": "faf18779-63ee-4333-e68e-c0a7f5420bc1"
      },
      "source": [
        "train_char_token_dataset, val_char_token_dataset, test_char_token_dataset"
      ],
      "execution_count": 96,
      "outputs": [
        {
          "output_type": "execute_result",
          "data": {
            "text/plain": [
              "(<PrefetchDataset shapes: (((None,), (None,)), (None, 5)), types: ((tf.string, tf.string), tf.float64)>,\n",
              " <PrefetchDataset shapes: (((None,), (None,)), (None, 5)), types: ((tf.string, tf.string), tf.float64)>,\n",
              " <PrefetchDataset shapes: (((None,), (None,)), (None, 5)), types: ((tf.string, tf.string), tf.float64)>)"
            ]
          },
          "metadata": {},
          "execution_count": 96
        }
      ]
    },
    {
      "cell_type": "markdown",
      "metadata": {
        "id": "PSbMQeLzI_nO"
      },
      "source": [
        "### Fitting a model on token and character-level sequences"
      ]
    },
    {
      "cell_type": "code",
      "metadata": {
        "colab": {
          "base_uri": "https://localhost:8080/"
        },
        "id": "HQJH1FS5ZaK4",
        "outputId": "f2bf2644-6fb6-4a11-aec3-6858046d2cc9"
      },
      "source": [
        "# Fit the model on tokens and chars\n",
        "history_model_4 = model_4.fit(train_char_token_dataset,\n",
        "                              epochs=3,\n",
        "                              steps_per_epoch=int(0.1*len(train_char_token_dataset)),\n",
        "                              validation_data=val_char_token_dataset,\n",
        "                              validation_steps=int(0.1*len(val_char_token_dataset)))"
      ],
      "execution_count": 97,
      "outputs": [
        {
          "output_type": "stream",
          "name": "stdout",
          "text": [
            "Epoch 1/3\n",
            "562/562 [==============================] - 85s 134ms/step - loss: 0.9801 - accuracy: 0.6080 - val_loss: 0.7839 - val_accuracy: 0.6998\n",
            "Epoch 2/3\n",
            "562/562 [==============================] - 72s 129ms/step - loss: 0.8020 - accuracy: 0.6893 - val_loss: 0.7169 - val_accuracy: 0.7231\n",
            "Epoch 3/3\n",
            "562/562 [==============================] - 69s 123ms/step - loss: 0.7721 - accuracy: 0.7091 - val_loss: 0.6899 - val_accuracy: 0.7320\n"
          ]
        }
      ]
    },
    {
      "cell_type": "code",
      "metadata": {
        "colab": {
          "base_uri": "https://localhost:8080/"
        },
        "id": "edN-Bko1Z9h7",
        "outputId": "738f9c02-1218-4adf-c278-4111d8949764"
      },
      "source": [
        "# Evaluate on the whole dataset\n",
        "model_4.evaluate(val_char_token_dataset)"
      ],
      "execution_count": 98,
      "outputs": [
        {
          "output_type": "stream",
          "name": "stdout",
          "text": [
            "945/945 [==============================] - 50s 53ms/step - loss: 0.6936 - accuracy: 0.7347\n"
          ]
        },
        {
          "output_type": "execute_result",
          "data": {
            "text/plain": [
              "[0.6935518980026245, 0.7347411513328552]"
            ]
          },
          "metadata": {},
          "execution_count": 98
        }
      ]
    },
    {
      "cell_type": "code",
      "metadata": {
        "colab": {
          "base_uri": "https://localhost:8080/"
        },
        "id": "80sEi-XLbBc1",
        "outputId": "d094ee37-6736-4cef-db60-5abae578006d"
      },
      "source": [
        "# Make predictions using the token-character hybrid model\n",
        "model_4_pred_probs = model_4.predict(val_char_token_dataset)\n",
        "model_4_pred_probs"
      ],
      "execution_count": 99,
      "outputs": [
        {
          "output_type": "execute_result",
          "data": {
            "text/plain": [
              "array([[4.3832988e-01, 3.5992751e-01, 3.5262164e-03, 1.9232185e-01,\n",
              "        5.8945348e-03],\n",
              "       [3.2656017e-01, 4.6423250e-01, 4.2363787e-03, 2.0306839e-01,\n",
              "        1.9026607e-03],\n",
              "       [2.4238136e-01, 1.3466676e-01, 5.1471319e-02, 5.3865713e-01,\n",
              "        3.2823484e-02],\n",
              "       ...,\n",
              "       [6.7954103e-04, 8.5111456e-03, 5.1380917e-02, 2.7673997e-04,\n",
              "        9.3915170e-01],\n",
              "       [1.2151219e-02, 8.2943752e-02, 2.4955991e-01, 6.4523220e-03,\n",
              "        6.4889282e-01],\n",
              "       [3.4287611e-01, 3.5786775e-01, 2.2577100e-01, 3.4977064e-02,\n",
              "        3.8508058e-02]], dtype=float32)"
            ]
          },
          "metadata": {},
          "execution_count": 99
        }
      ]
    },
    {
      "cell_type": "code",
      "metadata": {
        "colab": {
          "base_uri": "https://localhost:8080/"
        },
        "id": "_yyWK4_JbUhG",
        "outputId": "8149fd91-bcc6-4d73-f914-f04ad96282ea"
      },
      "source": [
        "# Format pred probs into pred labels\n",
        "model_4_preds = model_4_pred_probs.argmax(axis=1)\n",
        "model_4_preds"
      ],
      "execution_count": 100,
      "outputs": [
        {
          "output_type": "execute_result",
          "data": {
            "text/plain": [
              "array([0, 1, 3, ..., 4, 4, 1])"
            ]
          },
          "metadata": {},
          "execution_count": 100
        }
      ]
    },
    {
      "cell_type": "code",
      "metadata": {
        "colab": {
          "base_uri": "https://localhost:8080/"
        },
        "id": "L1pW1y8Wbije",
        "outputId": "162e95d4-d268-49a2-f889-7af20ebe5ecc"
      },
      "source": [
        "# Get results of token-char-hybrid model\n",
        "model_4_results = calculate_results(y_true=val_labels_encoded,\n",
        "                                    y_pred=model_4_preds)\n",
        "model_4_results"
      ],
      "execution_count": 101,
      "outputs": [
        {
          "output_type": "execute_result",
          "data": {
            "text/plain": [
              "{'accuracy': 73.47411624520058,\n",
              " 'f1-score': 0.7322649607589617,\n",
              " 'precision': 0.7356688296055565,\n",
              " 'recall': 0.7347411624520058}"
            ]
          },
          "metadata": {},
          "execution_count": 101
        }
      ]
    },
    {
      "cell_type": "markdown",
      "metadata": {
        "id": "KzQALxyCbxdA"
      },
      "source": [
        "## Model 5: Transfer Learning with pretrained token embeddings + character embeddings + positional embeddings"
      ]
    },
    {
      "cell_type": "code",
      "metadata": {
        "colab": {
          "base_uri": "https://localhost:8080/",
          "height": 204
        },
        "id": "U2B7QTOde69H",
        "outputId": "a3432147-b116-48d1-88ab-1f04e3d63d93"
      },
      "source": [
        "train_df.head()"
      ],
      "execution_count": 102,
      "outputs": [
        {
          "output_type": "execute_result",
          "data": {
            "text/html": [
              "<div>\n",
              "<style scoped>\n",
              "    .dataframe tbody tr th:only-of-type {\n",
              "        vertical-align: middle;\n",
              "    }\n",
              "\n",
              "    .dataframe tbody tr th {\n",
              "        vertical-align: top;\n",
              "    }\n",
              "\n",
              "    .dataframe thead th {\n",
              "        text-align: right;\n",
              "    }\n",
              "</style>\n",
              "<table border=\"1\" class=\"dataframe\">\n",
              "  <thead>\n",
              "    <tr style=\"text-align: right;\">\n",
              "      <th></th>\n",
              "      <th>target</th>\n",
              "      <th>text</th>\n",
              "      <th>line_number</th>\n",
              "      <th>total line</th>\n",
              "    </tr>\n",
              "  </thead>\n",
              "  <tbody>\n",
              "    <tr>\n",
              "      <th>0</th>\n",
              "      <td>OBJECTIVE</td>\n",
              "      <td>to investigate the efficacy of @ weeks of dail...</td>\n",
              "      <td>0</td>\n",
              "      <td>11</td>\n",
              "    </tr>\n",
              "    <tr>\n",
              "      <th>1</th>\n",
              "      <td>METHODS</td>\n",
              "      <td>a total of @ patients with primary knee oa wer...</td>\n",
              "      <td>1</td>\n",
              "      <td>11</td>\n",
              "    </tr>\n",
              "    <tr>\n",
              "      <th>2</th>\n",
              "      <td>METHODS</td>\n",
              "      <td>outcome measures included pain reduction and i...</td>\n",
              "      <td>2</td>\n",
              "      <td>11</td>\n",
              "    </tr>\n",
              "    <tr>\n",
              "      <th>3</th>\n",
              "      <td>METHODS</td>\n",
              "      <td>pain was assessed using the visual analog pain...</td>\n",
              "      <td>3</td>\n",
              "      <td>11</td>\n",
              "    </tr>\n",
              "    <tr>\n",
              "      <th>4</th>\n",
              "      <td>METHODS</td>\n",
              "      <td>secondary outcome measures included the wester...</td>\n",
              "      <td>4</td>\n",
              "      <td>11</td>\n",
              "    </tr>\n",
              "  </tbody>\n",
              "</table>\n",
              "</div>"
            ],
            "text/plain": [
              "      target  ... total line\n",
              "0  OBJECTIVE  ...         11\n",
              "1    METHODS  ...         11\n",
              "2    METHODS  ...         11\n",
              "3    METHODS  ...         11\n",
              "4    METHODS  ...         11\n",
              "\n",
              "[5 rows x 4 columns]"
            ]
          },
          "metadata": {},
          "execution_count": 102
        }
      ]
    },
    {
      "cell_type": "markdown",
      "metadata": {
        "id": "ndX2IC6TfQEB"
      },
      "source": [
        "> Any engineered features used to train a model need to be availabe at test time. In our case, line numbers and total lines are available."
      ]
    },
    {
      "cell_type": "markdown",
      "metadata": {
        "id": "esbFY8o-gnvH"
      },
      "source": [
        "### Create positional embeddings"
      ]
    },
    {
      "cell_type": "code",
      "metadata": {
        "colab": {
          "base_uri": "https://localhost:8080/"
        },
        "id": "4aLBhgnbgp6u",
        "outputId": "b97d85de-c861-475a-bc10-b2b2af6152a6"
      },
      "source": [
        "# How many different line numbers are there?\n",
        "train_df[\"line_number\"].value_counts()"
      ],
      "execution_count": 103,
      "outputs": [
        {
          "output_type": "execute_result",
          "data": {
            "text/plain": [
              "0     15000\n",
              "1     15000\n",
              "2     15000\n",
              "3     15000\n",
              "4     14992\n",
              "5     14949\n",
              "6     14758\n",
              "7     14279\n",
              "8     13346\n",
              "9     11981\n",
              "10    10041\n",
              "11     7892\n",
              "12     5853\n",
              "13     4152\n",
              "14     2835\n",
              "15     1861\n",
              "16     1188\n",
              "17      751\n",
              "18      462\n",
              "19      286\n",
              "20      162\n",
              "21      101\n",
              "22       66\n",
              "23       33\n",
              "24       22\n",
              "25       14\n",
              "26        7\n",
              "27        4\n",
              "28        3\n",
              "29        1\n",
              "30        1\n",
              "Name: line_number, dtype: int64"
            ]
          },
          "metadata": {},
          "execution_count": 103
        }
      ]
    },
    {
      "cell_type": "code",
      "metadata": {
        "colab": {
          "base_uri": "https://localhost:8080/",
          "height": 265
        },
        "id": "j6l1F9H6gyYu",
        "outputId": "4b5be9d1-cb8d-40f4-d823-1aa085bbea5c"
      },
      "source": [
        "# Check the distribution of line_number column\n",
        "train_df.line_number.plot.hist();"
      ],
      "execution_count": 104,
      "outputs": [
        {
          "output_type": "display_data",
          "data": {
            "image/png": "[encoded data removed]",
            "text/plain": [
              "<Figure size 432x288 with 1 Axes>"
            ]
          },
          "metadata": {
            "needs_background": "light"
          }
        }
      ]
    },
    {
      "cell_type": "code",
      "metadata": {
        "colab": {
          "base_uri": "https://localhost:8080/"
        },
        "id": "2Fx2k4gnhOIP",
        "outputId": "48cb90c5-c20c-4a75-f7c7-14b38d3b3bf0"
      },
      "source": [
        "# Use tensorflow to create one_hot_encoded tensors of our line_number columns\n",
        "train_line_numbers_one_hot = tf.one_hot(train_df[\"line_number\"].to_numpy(),depth=15)\n",
        "val_line_numbers_one_hot = tf.one_hot(val_df[\"line_number\"].to_numpy(),depth=15)\n",
        "test_line_numbers_one_hot = tf.one_hot(test_df[\"line_number\"].to_numpy(),depth=15)\n",
        "train_line_numbers_one_hot[:10], train_line_numbers_one_hot.shape"
      ],
      "execution_count": 105,
      "outputs": [
        {
          "output_type": "execute_result",
          "data": {
            "text/plain": [
              "(<tf.Tensor: shape=(10, 15), dtype=float32, numpy=\n",
              " array([[1., 0., 0., 0., 0., 0., 0., 0., 0., 0., 0., 0., 0., 0., 0.],\n",
              "        [0., 1., 0., 0., 0., 0., 0., 0., 0., 0., 0., 0., 0., 0., 0.],\n",
              "        [0., 0., 1., 0., 0., 0., 0., 0., 0., 0., 0., 0., 0., 0., 0.],\n",
              "        [0., 0., 0., 1., 0., 0., 0., 0., 0., 0., 0., 0., 0., 0., 0.],\n",
              "        [0., 0., 0., 0., 1., 0., 0., 0., 0., 0., 0., 0., 0., 0., 0.],\n",
              "        [0., 0., 0., 0., 0., 1., 0., 0., 0., 0., 0., 0., 0., 0., 0.],\n",
              "        [0., 0., 0., 0., 0., 0., 1., 0., 0., 0., 0., 0., 0., 0., 0.],\n",
              "        [0., 0., 0., 0., 0., 0., 0., 1., 0., 0., 0., 0., 0., 0., 0.],\n",
              "        [0., 0., 0., 0., 0., 0., 0., 0., 1., 0., 0., 0., 0., 0., 0.],\n",
              "        [0., 0., 0., 0., 0., 0., 0., 0., 0., 1., 0., 0., 0., 0., 0.]],\n",
              "       dtype=float32)>, TensorShape([180040, 15]))"
            ]
          },
          "metadata": {},
          "execution_count": 105
        }
      ]
    },
    {
      "cell_type": "markdown",
      "metadata": {
        "id": "zven_b2VkqwT"
      },
      "source": [
        "Now we've encoded our line number feature, let's do the same for our total line features"
      ]
    },
    {
      "cell_type": "code",
      "metadata": {
        "colab": {
          "base_uri": "https://localhost:8080/"
        },
        "id": "s0RSXaUsiM2H",
        "outputId": "9cf6a69f-b781-4605-9af2-c651da959968"
      },
      "source": [
        "# How many different number of lines are there?\n",
        "train_df[\"total line\"].value_counts()"
      ],
      "execution_count": 106,
      "outputs": [
        {
          "output_type": "execute_result",
          "data": {
            "text/plain": [
              "11    24468\n",
              "10    23639\n",
              "12    22113\n",
              "9     19400\n",
              "13    18438\n",
              "14    14610\n",
              "8     12285\n",
              "15    10768\n",
              "7      7464\n",
              "16     7429\n",
              "17     5202\n",
              "6      3353\n",
              "18     3344\n",
              "19     2480\n",
              "20     1281\n",
              "5      1146\n",
              "21      770\n",
              "22      759\n",
              "23      264\n",
              "4       215\n",
              "24      200\n",
              "25      182\n",
              "26       81\n",
              "28       58\n",
              "3        32\n",
              "30       31\n",
              "27       28\n",
              "Name: total line, dtype: int64"
            ]
          },
          "metadata": {},
          "execution_count": 106
        }
      ]
    },
    {
      "cell_type": "code",
      "metadata": {
        "colab": {
          "base_uri": "https://localhost:8080/",
          "height": 267
        },
        "id": "gGzWd867jzOj",
        "outputId": "e362aa1e-7473-4975-8948-6537076afbcf"
      },
      "source": [
        "# Check the distribution of total line column\n",
        "train_df[\"total line\"].plot.hist();"
      ],
      "execution_count": 107,
      "outputs": [
        {
          "output_type": "display_data",
          "data": {
            "image/png": "[encoded data removed]",
            "text/plain": [
              "<Figure size 432x288 with 1 Axes>"
            ]
          },
          "metadata": {
            "needs_background": "light"
          }
        }
      ]
    },
    {
      "cell_type": "code",
      "metadata": {
        "colab": {
          "base_uri": "https://localhost:8080/"
        },
        "id": "H2_TkYFIkZwA",
        "outputId": "0423f7a4-5838-4db2-ebd0-d59d49f93ddf"
      },
      "source": [
        "# Check the 95% coverage of a total lines?\n",
        "np.percentile(train_df[\"total line\"],95)"
      ],
      "execution_count": 108,
      "outputs": [
        {
          "output_type": "execute_result",
          "data": {
            "text/plain": [
              "18.0"
            ]
          },
          "metadata": {},
          "execution_count": 108
        }
      ]
    },
    {
      "cell_type": "code",
      "metadata": {
        "colab": {
          "base_uri": "https://localhost:8080/"
        },
        "id": "qbLsKu2UllMc",
        "outputId": "cd0b0740-45f9-4d95-cf0a-52537142df48"
      },
      "source": [
        "# Use TensorFlow to create one hot encoded tensors of our total line feature\n",
        "train_total_lines_one_hot = tf.one_hot(train_df[\"total line\"].to_numpy(),depth=18)\n",
        "val_total_lines_one_hot = tf.one_hot(val_df[\"total line\"].to_numpy(),depth=18)\n",
        "test_total_lines_one_hot = tf.one_hot(test_df[\"total line\"].to_numpy(),depth=18)\n",
        "train_total_lines_one_hot[:14], train_total_lines_one_hot.shape"
      ],
      "execution_count": 109,
      "outputs": [
        {
          "output_type": "execute_result",
          "data": {
            "text/plain": [
              "(<tf.Tensor: shape=(14, 18), dtype=float32, numpy=\n",
              " array([[0., 0., 0., 0., 0., 0., 0., 0., 0., 0., 0., 1., 0., 0., 0., 0.,\n",
              "         0., 0.],\n",
              "        [0., 0., 0., 0., 0., 0., 0., 0., 0., 0., 0., 1., 0., 0., 0., 0.,\n",
              "         0., 0.],\n",
              "        [0., 0., 0., 0., 0., 0., 0., 0., 0., 0., 0., 1., 0., 0., 0., 0.,\n",
              "         0., 0.],\n",
              "        [0., 0., 0., 0., 0., 0., 0., 0., 0., 0., 0., 1., 0., 0., 0., 0.,\n",
              "         0., 0.],\n",
              "        [0., 0., 0., 0., 0., 0., 0., 0., 0., 0., 0., 1., 0., 0., 0., 0.,\n",
              "         0., 0.],\n",
              "        [0., 0., 0., 0., 0., 0., 0., 0., 0., 0., 0., 1., 0., 0., 0., 0.,\n",
              "         0., 0.],\n",
              "        [0., 0., 0., 0., 0., 0., 0., 0., 0., 0., 0., 1., 0., 0., 0., 0.,\n",
              "         0., 0.],\n",
              "        [0., 0., 0., 0., 0., 0., 0., 0., 0., 0., 0., 1., 0., 0., 0., 0.,\n",
              "         0., 0.],\n",
              "        [0., 0., 0., 0., 0., 0., 0., 0., 0., 0., 0., 1., 0., 0., 0., 0.,\n",
              "         0., 0.],\n",
              "        [0., 0., 0., 0., 0., 0., 0., 0., 0., 0., 0., 1., 0., 0., 0., 0.,\n",
              "         0., 0.],\n",
              "        [0., 0., 0., 0., 0., 0., 0., 0., 0., 0., 0., 1., 0., 0., 0., 0.,\n",
              "         0., 0.],\n",
              "        [0., 0., 0., 0., 0., 0., 0., 0., 0., 0., 0., 1., 0., 0., 0., 0.,\n",
              "         0., 0.],\n",
              "        [0., 0., 0., 0., 0., 0., 0., 0., 0., 0., 1., 0., 0., 0., 0., 0.,\n",
              "         0., 0.],\n",
              "        [0., 0., 0., 0., 0., 0., 0., 0., 0., 0., 1., 0., 0., 0., 0., 0.,\n",
              "         0., 0.]], dtype=float32)>, TensorShape([180040, 18]))"
            ]
          },
          "metadata": {},
          "execution_count": 109
        }
      ]
    },
    {
      "cell_type": "markdown",
      "metadata": {
        "id": "SKJCLg9_mXCu"
      },
      "source": [
        "### Building a tribrid embedding model\n",
        "\n",
        "1. Create a token-level model\n",
        "2. Create a character-level model\n",
        "3. Create a model for the \"line_number\" feature\n",
        "4. Create a model for the \"total_lines\" feature\n",
        "5. Combine the outputs of 1 & 2 using tf.keras.layers.Concatenate\n",
        "6. Combine the outputs of 3, 4 & 5 using tf.keras.layers.Concatenate\n",
        "7. Create an output layer to accept the tribrid embedding and output label probabilities\n",
        "8. Combine the inputs of 1,2,3,4 and the outputs of 7 into a tf.keras.Model"
      ]
    },
    {
      "cell_type": "code",
      "metadata": {
        "id": "I_WyoyzZoOSN"
      },
      "source": [
        "# 1. Token inputs\n",
        "token_inputs = layers.Input(shape=[],dtype=tf.string,name=\"token_layer\")\n",
        "token_embeddings = hub_embedding_layer(token_inputs)\n",
        "token_outputs = layers.Dense(128,activation=\"relu\")(token_embeddings)\n",
        "token_model = tf.keras.Model(inputs=token_inputs,\n",
        "                             outputs=token_outputs)\n",
        "\n",
        "# 2. Char inputs\n",
        "char_inputs = layers.Input(shape=(1,),dtype=tf.string,name=\"char_inputs\")\n",
        "char_vectors = char_vectorizer(char_inputs)\n",
        "char_embeddings = char_embed(char_vectors)\n",
        "char_bi_lstm = layers.Bidirectional(layer=layers.LSTM(units=24))(char_embeddings)\n",
        "char_model = tf.keras.Model(inputs=char_inputs,\n",
        "                            outputs=char_bi_lstm)\n",
        "\n",
        "# 3. Line Number feature model\n",
        "line_number_inputs = layers.Input(shape=(15,),dtype=tf.float32,name=\"line_input\")\n",
        "line_number_dense = layers.Dense(32,activation=\"relu\")(line_number_inputs)\n",
        "line_number_model = tf.keras.Model(inputs=line_number_inputs,\n",
        "                                   outputs=line_number_dense)\n",
        "\n",
        "# 4. Total Line Feature model\n",
        "total_lines_inputs = layers.Input(shape=(18,),dtype=tf.float32,name=\"total_lines_input\")\n",
        "total_lines_dense = layers.Dense(32,activation=\"relu\")(total_lines_inputs)\n",
        "total_lines_model = tf.keras.Model(inputs=total_lines_inputs,\n",
        "                                   outputs=total_lines_dense)\n",
        "\n",
        "# 5. Combine outputs of model 1 & 2\n",
        "combined_embeddings = tf.keras.layers.Concatenate(name=\"token_char_hybrid_model\")([token_model.output,\n",
        "                                                                                   char_model.output])\n",
        "z = layers.Dense(256, activation=\"relu\")(combined_embeddings)\n",
        "z = layers.Dropout(rate=0.5)(z)\n",
        "\n",
        "# 6. Combine outputs of model 3,4,5\n",
        "tribrid_embeddings = tf.keras.layers.Concatenate(name=\"token_char_positional_tribrid_model\")([line_number_model.output,\n",
        "                                                                                              total_lines_model.output,\n",
        "                                                                                              z])\n",
        "\n",
        "# 7. Create output layer\n",
        "output_layer = layers.Dense(5, activation=\"Softmax\", name=\"output_layer\")(tribrid_embeddings)\n",
        "\n",
        "# 8. Put together model with all kinds of inputs\n",
        "model_5 = tf.keras.Model(inputs=[line_number_model.input,\n",
        "                                 total_lines_model.input,\n",
        "                                 token_model.input,\n",
        "                                 char_model.input],\n",
        "                         outputs=output_layer,\n",
        "                         name=\"tribrid_model\")"
      ],
      "execution_count": 110,
      "outputs": []
    },
    {
      "cell_type": "code",
      "metadata": {
        "colab": {
          "base_uri": "https://localhost:8080/"
        },
        "id": "9MzXcACC0Cyd",
        "outputId": "e451e748-9a1e-4907-bc55-08b15fb8b4e4"
      },
      "source": [
        "# Get the summary\n",
        "model_5.summary()"
      ],
      "execution_count": 111,
      "outputs": [
        {
          "output_type": "stream",
          "name": "stdout",
          "text": [
            "Model: \"tribrid_model\"\n",
            "__________________________________________________________________________________________________\n",
            "Layer (type)                    Output Shape         Param #     Connected to                     \n",
            "==================================================================================================\n",
            "char_inputs (InputLayer)        [(None, 1)]          0                                            \n",
            "__________________________________________________________________________________________________\n",
            "token_layer (InputLayer)        [(None,)]            0                                            \n",
            "__________________________________________________________________________________________________\n",
            "char_vectorizer (TextVectorizat (None, 290)          0           char_inputs[0][0]                \n",
            "__________________________________________________________________________________________________\n",
            "universal_sentence_encoder (Ker (None, 512)          256797824   token_layer[0][0]                \n",
            "__________________________________________________________________________________________________\n",
            "char_embedding (Embedding)      (None, 290, 25)      700         char_vectorizer[2][0]            \n",
            "__________________________________________________________________________________________________\n",
            "dense_6 (Dense)                 (None, 128)          65664       universal_sentence_encoder[2][0] \n",
            "__________________________________________________________________________________________________\n",
            "bidirectional_1 (Bidirectional) (None, 48)           9600        char_embedding[2][0]             \n",
            "__________________________________________________________________________________________________\n",
            "token_char_hybrid_model (Concat (None, 176)          0           dense_6[0][0]                    \n",
            "                                                                 bidirectional_1[0][0]            \n",
            "__________________________________________________________________________________________________\n",
            "line_input (InputLayer)         [(None, 15)]         0                                            \n",
            "__________________________________________________________________________________________________\n",
            "total_lines_input (InputLayer)  [(None, 18)]         0                                            \n",
            "__________________________________________________________________________________________________\n",
            "dense_9 (Dense)                 (None, 256)          45312       token_char_hybrid_model[0][0]    \n",
            "__________________________________________________________________________________________________\n",
            "dense_7 (Dense)                 (None, 32)           512         line_input[0][0]                 \n",
            "__________________________________________________________________________________________________\n",
            "dense_8 (Dense)                 (None, 32)           608         total_lines_input[0][0]          \n",
            "__________________________________________________________________________________________________\n",
            "dropout_2 (Dropout)             (None, 256)          0           dense_9[0][0]                    \n",
            "__________________________________________________________________________________________________\n",
            "token_char_positional_tribrid_m (None, 320)          0           dense_7[0][0]                    \n",
            "                                                                 dense_8[0][0]                    \n",
            "                                                                 dropout_2[0][0]                  \n",
            "__________________________________________________________________________________________________\n",
            "output_layer (Dense)            (None, 5)            1605        token_char_positional_tribrid_mod\n",
            "==================================================================================================\n",
            "Total params: 256,921,825\n",
            "Trainable params: 124,001\n",
            "Non-trainable params: 256,797,824\n",
            "__________________________________________________________________________________________________\n"
          ]
        }
      ]
    },
    {
      "cell_type": "code",
      "metadata": {
        "colab": {
          "base_uri": "https://localhost:8080/",
          "height": 761
        },
        "id": "ihgnFD3f0SWj",
        "outputId": "ab7dfa55-388c-457c-a43d-ba9a35a84b1f"
      },
      "source": [
        "# Plot model 5\n",
        "plot_model(model_5,show_shapes=True)"
      ],
      "execution_count": 112,
      "outputs": [
        {
          "output_type": "execute_result",
          "data": {
            "image/png": "[encoded data removed]",
            "text/plain": [
              "<IPython.core.display.Image object>"
            ]
          },
          "metadata": {},
          "execution_count": 112
        }
      ]
    },
    {
      "cell_type": "markdown",
      "metadata": {
        "id": "dJORXI1uzgHt"
      },
      "source": [
        "What is Label Smoothing?\n",
        "\n",
        "For example if our model gets too confident on a single class (e.g. its prediction probabiliy is really high), it may get stuck on that class and not consider other classes.\n",
        "\n",
        "Really confident: `[0.0, 0.0, 1.0, 0.0, 0.0]`\n",
        "\n",
        "What label smoothing does is it assigns some of the value from the highest pred probs to other classes, in turn, hopefully improving generalization: `[0.01, 0.01, 0.96, 0.01, 0.01]`\n",
        "\n",
        "> More info on Label Smoothing from PyImageSearch: https://www.pyimagesearch.com/2019/12/30/label-smoothing-with-keras-tensorflow-and-deep-learning/"
      ]
    },
    {
      "cell_type": "code",
      "metadata": {
        "id": "hswnQtN_z7UG"
      },
      "source": [
        "# Compile the model\n",
        "model_5.compile(\n",
        "    loss = tf.keras.losses.CategoricalCrossentropy(label_smoothing=0.2), # helps to prevent over-fitting\n",
        "    optimizer = tf.keras.optimizers.Adam(),\n",
        "    metrics=[\"accuracy\"]\n",
        ")"
      ],
      "execution_count": 113,
      "outputs": []
    },
    {
      "cell_type": "markdown",
      "metadata": {
        "id": "PBg_HTX75UVp"
      },
      "source": [
        "###  Creating tribrid embeddings datasets"
      ]
    },
    {
      "cell_type": "code",
      "metadata": {
        "id": "t6TCUjlU5eCf"
      },
      "source": [
        "# 1. Training dataset\n",
        "train_char_token_pos_data = tf.data.Dataset.from_tensor_slices((train_line_numbers_one_hot,\n",
        "                                                                train_total_lines_one_hot,\n",
        "                                                                train_sentences,\n",
        "                                                                train_chars))\n",
        "train_char_token_pos_labels = tf.data.Dataset.from_tensor_slices(train_labels_one_hot)\n",
        "train_char_token_pos_dataset = tf.data.Dataset.zip((train_char_token_pos_data,train_char_token_pos_labels))\n",
        "train_tribrid_dataset = train_char_token_pos_dataset.batch(batch_size=32).prefetch(buffer_size=tf.data.AUTOTUNE)\n",
        "\n",
        "# 2. Validation dataset\n",
        "val_char_token_pos_data = tf.data.Dataset.from_tensor_slices((val_line_numbers_one_hot,\n",
        "                                                              val_total_lines_one_hot,\n",
        "                                                              val_sentences,\n",
        "                                                              val_chars))\n",
        "val_char_token_pos_labels = tf.data.Dataset.from_tensor_slices(val_labels_one_hot)\n",
        "val_char_token_pos_dataset = tf.data.Dataset.zip((val_char_token_pos_data,val_char_token_pos_labels))\n",
        "val_tribrid_dataset = val_char_token_pos_dataset.batch(batch_size=32).prefetch(buffer_size=tf.data.AUTOTUNE)"
      ],
      "execution_count": 114,
      "outputs": []
    },
    {
      "cell_type": "code",
      "metadata": {
        "colab": {
          "base_uri": "https://localhost:8080/"
        },
        "id": "kDrK1OIW9nRJ",
        "outputId": "17008471-aead-491e-fd4b-28af94859836"
      },
      "source": [
        "# Check input shapes\n",
        "train_tribrid_dataset, val_tribrid_dataset"
      ],
      "execution_count": 115,
      "outputs": [
        {
          "output_type": "execute_result",
          "data": {
            "text/plain": [
              "(<PrefetchDataset shapes: (((None, 15), (None, 18), (None,), (None,)), (None, 5)), types: ((tf.float32, tf.float32, tf.string, tf.string), tf.float64)>,\n",
              " <PrefetchDataset shapes: (((None, 15), (None, 18), (None,), (None,)), (None, 5)), types: ((tf.float32, tf.float32, tf.string, tf.string), tf.float64)>)"
            ]
          },
          "metadata": {},
          "execution_count": 115
        }
      ]
    },
    {
      "cell_type": "markdown",
      "metadata": {
        "id": "3PusbnXC92Nx"
      },
      "source": [
        "### Fitting, evaluating and making predictions with the tribrid model"
      ]
    },
    {
      "cell_type": "code",
      "metadata": {
        "colab": {
          "base_uri": "https://localhost:8080/"
        },
        "id": "-Q_5QyBL_K4S",
        "outputId": "0eef7487-6dd0-4819-901f-f538cdb202a0"
      },
      "source": [
        "# Fit the model\n",
        "history_model_5 = model_5.fit(train_tribrid_dataset,\n",
        "                              epochs=3,\n",
        "                              steps_per_epoch=int(0.1*len(train_tribrid_dataset)),\n",
        "                              validation_data=val_tribrid_dataset,\n",
        "                              validation_steps=int(0.1*len(val_tribrid_dataset)))"
      ],
      "execution_count": 116,
      "outputs": [
        {
          "output_type": "stream",
          "name": "stdout",
          "text": [
            "Epoch 1/3\n",
            "562/562 [==============================] - 85s 134ms/step - loss: 1.0848 - accuracy: 0.7342 - val_loss: 0.9794 - val_accuracy: 0.8078\n",
            "Epoch 2/3\n",
            "562/562 [==============================] - 74s 131ms/step - loss: 0.9626 - accuracy: 0.8179 - val_loss: 0.9455 - val_accuracy: 0.8265\n",
            "Epoch 3/3\n",
            "562/562 [==============================] - 70s 124ms/step - loss: 0.9471 - accuracy: 0.8263 - val_loss: 0.9346 - val_accuracy: 0.8361\n"
          ]
        }
      ]
    },
    {
      "cell_type": "code",
      "metadata": {
        "colab": {
          "base_uri": "https://localhost:8080/"
        },
        "id": "V-sEXFfx_nGw",
        "outputId": "068d093b-3015-4105-f163-28979b1a280f"
      },
      "source": [
        "# Evaluate on the whole model\n",
        "model_5.evaluate(val_tribrid_dataset)"
      ],
      "execution_count": 117,
      "outputs": [
        {
          "output_type": "stream",
          "name": "stdout",
          "text": [
            "945/945 [==============================] - 50s 53ms/step - loss: 0.9346 - accuracy: 0.8344\n"
          ]
        },
        {
          "output_type": "execute_result",
          "data": {
            "text/plain": [
              "[0.9346250295639038, 0.8344366550445557]"
            ]
          },
          "metadata": {},
          "execution_count": 117
        }
      ]
    },
    {
      "cell_type": "code",
      "metadata": {
        "colab": {
          "base_uri": "https://localhost:8080/"
        },
        "id": "2wy_KMYY_2uC",
        "outputId": "7cd77f95-59af-41cb-ac7b-b9a0d7be7e3d"
      },
      "source": [
        "# Making predictions\n",
        "model_5_pred_probs = model_5.predict(val_tribrid_dataset)\n",
        "model_5_pred_probs"
      ],
      "execution_count": 118,
      "outputs": [
        {
          "output_type": "execute_result",
          "data": {
            "text/plain": [
              "array([[0.46816167, 0.10907743, 0.01253009, 0.39050412, 0.0197267 ],\n",
              "       [0.5045084 , 0.11305348, 0.04929768, 0.32077494, 0.01236551],\n",
              "       [0.27943107, 0.12219957, 0.13943508, 0.39230022, 0.06663413],\n",
              "       ...,\n",
              "       [0.04574618, 0.10137717, 0.04570642, 0.02892641, 0.77824384],\n",
              "       [0.02646567, 0.32380763, 0.08689041, 0.02206094, 0.54077536],\n",
              "       [0.1715829 , 0.6002611 , 0.11996677, 0.03488697, 0.07330225]],\n",
              "      dtype=float32)"
            ]
          },
          "metadata": {},
          "execution_count": 118
        }
      ]
    },
    {
      "cell_type": "code",
      "metadata": {
        "colab": {
          "base_uri": "https://localhost:8080/"
        },
        "id": "uEBTwDpz__ir",
        "outputId": "f2856102-5d0f-4d6c-aa3f-398b41943854"
      },
      "source": [
        "# Convert pred probs to classes\n",
        "model_5_preds = model_5_pred_probs.argmax(axis=1)\n",
        "model_5_preds"
      ],
      "execution_count": 119,
      "outputs": [
        {
          "output_type": "execute_result",
          "data": {
            "text/plain": [
              "array([0, 0, 3, ..., 4, 4, 1])"
            ]
          },
          "metadata": {},
          "execution_count": 119
        }
      ]
    },
    {
      "cell_type": "code",
      "metadata": {
        "colab": {
          "base_uri": "https://localhost:8080/"
        },
        "id": "BwqpeZp_AKlL",
        "outputId": "a5053cee-60a6-45cb-e153-68f293ae8373"
      },
      "source": [
        "# Calculate the results of models 5\n",
        "model_5_results = calculate_results(y_true=val_labels_encoded,\n",
        "                                    y_pred=model_5_preds)\n",
        "model_5_results"
      ],
      "execution_count": 120,
      "outputs": [
        {
          "output_type": "execute_result",
          "data": {
            "text/plain": [
              "{'accuracy': 83.44366476896597,\n",
              " 'f1-score': 0.8333368854230464,\n",
              " 'precision': 0.8330283806951123,\n",
              " 'recall': 0.8344366476896597}"
            ]
          },
          "metadata": {},
          "execution_count": 120
        }
      ]
    },
    {
      "cell_type": "code",
      "metadata": {
        "colab": {
          "base_uri": "https://localhost:8080/"
        },
        "id": "YxZ6egfzBSd9",
        "outputId": "997a1011-8e09-4a2f-95c7-46853d616f1c"
      },
      "source": [
        "model_4_results"
      ],
      "execution_count": 121,
      "outputs": [
        {
          "output_type": "execute_result",
          "data": {
            "text/plain": [
              "{'accuracy': 73.47411624520058,\n",
              " 'f1-score': 0.7322649607589617,\n",
              " 'precision': 0.7356688296055565,\n",
              " 'recall': 0.7347411624520058}"
            ]
          },
          "metadata": {},
          "execution_count": 121
        }
      ]
    },
    {
      "cell_type": "markdown",
      "metadata": {
        "id": "NHUNsoSwCIVu"
      },
      "source": [
        "## Comparing the models"
      ]
    },
    {
      "cell_type": "code",
      "metadata": {
        "colab": {
          "base_uri": "https://localhost:8080/",
          "height": 235
        },
        "id": "WJK_hSoLLTJF",
        "outputId": "c50a3231-082e-4ca7-eb07-2b10753003ec"
      },
      "source": [
        "all_model_results = pd.DataFrame({\n",
        "    \"Baseline Model\": baseline_results,\n",
        "    \"Conv1D with custom token embeddings\": model_1_results,\n",
        "    \"Pretrained TF Hub Model\": model_2_results,\n",
        "    \"Conv1D with char embeddings\": model_3_results,\n",
        "    \"Combined token & char embeddings\": model_4_results,\n",
        "    \"Combined token, char & positional embeddings\":model_5_results\n",
        "})\n",
        "all_model_results = all_model_results.T\n",
        "all_model_results"
      ],
      "execution_count": 122,
      "outputs": [
        {
          "output_type": "execute_result",
          "data": {
            "text/html": [
              "<div>\n",
              "<style scoped>\n",
              "    .dataframe tbody tr th:only-of-type {\n",
              "        vertical-align: middle;\n",
              "    }\n",
              "\n",
              "    .dataframe tbody tr th {\n",
              "        vertical-align: top;\n",
              "    }\n",
              "\n",
              "    .dataframe thead th {\n",
              "        text-align: right;\n",
              "    }\n",
              "</style>\n",
              "<table border=\"1\" class=\"dataframe\">\n",
              "  <thead>\n",
              "    <tr style=\"text-align: right;\">\n",
              "      <th></th>\n",
              "      <th>accuracy</th>\n",
              "      <th>precision</th>\n",
              "      <th>recall</th>\n",
              "      <th>f1-score</th>\n",
              "    </tr>\n",
              "  </thead>\n",
              "  <tbody>\n",
              "    <tr>\n",
              "      <th>Baseline Model</th>\n",
              "      <td>72.183238</td>\n",
              "      <td>0.718647</td>\n",
              "      <td>0.721832</td>\n",
              "      <td>0.698925</td>\n",
              "    </tr>\n",
              "    <tr>\n",
              "      <th>Conv1D with custom token embeddings</th>\n",
              "      <td>80.603734</td>\n",
              "      <td>0.804600</td>\n",
              "      <td>0.806037</td>\n",
              "      <td>0.804336</td>\n",
              "    </tr>\n",
              "    <tr>\n",
              "      <th>Pretrained TF Hub Model</th>\n",
              "      <td>71.547729</td>\n",
              "      <td>0.715648</td>\n",
              "      <td>0.715477</td>\n",
              "      <td>0.712282</td>\n",
              "    </tr>\n",
              "    <tr>\n",
              "      <th>Conv1D with char embeddings</th>\n",
              "      <td>66.397458</td>\n",
              "      <td>0.656516</td>\n",
              "      <td>0.663975</td>\n",
              "      <td>0.652389</td>\n",
              "    </tr>\n",
              "    <tr>\n",
              "      <th>Combined token &amp; char embeddings</th>\n",
              "      <td>73.474116</td>\n",
              "      <td>0.735669</td>\n",
              "      <td>0.734741</td>\n",
              "      <td>0.732265</td>\n",
              "    </tr>\n",
              "    <tr>\n",
              "      <th>Combined token, char &amp; positional embeddings</th>\n",
              "      <td>83.443665</td>\n",
              "      <td>0.833028</td>\n",
              "      <td>0.834437</td>\n",
              "      <td>0.833337</td>\n",
              "    </tr>\n",
              "  </tbody>\n",
              "</table>\n",
              "</div>"
            ],
            "text/plain": [
              "                                               accuracy  ...  f1-score\n",
              "Baseline Model                                72.183238  ...  0.698925\n",
              "Conv1D with custom token embeddings           80.603734  ...  0.804336\n",
              "Pretrained TF Hub Model                       71.547729  ...  0.712282\n",
              "Conv1D with char embeddings                   66.397458  ...  0.652389\n",
              "Combined token & char embeddings              73.474116  ...  0.732265\n",
              "Combined token, char & positional embeddings  83.443665  ...  0.833337\n",
              "\n",
              "[6 rows x 4 columns]"
            ]
          },
          "metadata": {},
          "execution_count": 122
        }
      ]
    },
    {
      "cell_type": "code",
      "metadata": {
        "id": "s0HZPlgZMlW8"
      },
      "source": [
        "# Scaling at the same level\n",
        "all_model_results[\"accuracy\"] = all_model_results.accuracy/100"
      ],
      "execution_count": 123,
      "outputs": []
    },
    {
      "cell_type": "code",
      "metadata": {
        "colab": {
          "base_uri": "https://localhost:8080/",
          "height": 656
        },
        "id": "GgD_VTsLLYvS",
        "outputId": "dd516fc3-a217-45df-beba-e1921ecd6974"
      },
      "source": [
        "# Plot all model results \n",
        "all_model_results.plot.bar(figsize=(10,7)).legend(bbox_to_anchor=(1.0,1.0));"
      ],
      "execution_count": 124,
      "outputs": [
        {
          "output_type": "display_data",
          "data": {
            "image/png": "[encoded data removed]",
            "text/plain": [
              "<Figure size 720x504 with 1 Axes>"
            ]
          },
          "metadata": {
            "needs_background": "light"
          }
        }
      ]
    },
    {
      "cell_type": "code",
      "metadata": {
        "colab": {
          "base_uri": "https://localhost:8080/",
          "height": 656
        },
        "id": "5SfAX-r7MgJs",
        "outputId": "47a937d8-b91a-4c86-e0e0-6aa413a03205"
      },
      "source": [
        "# Plotting f1-scores of all models\n",
        "all_model_results.sort_values(by=\"f1-score\")[\"f1-score\"].plot.bar(figsize=(10,7)).legend();"
      ],
      "execution_count": 125,
      "outputs": [
        {
          "output_type": "display_data",
          "data": {
            "image/png": "[encoded data removed]",
            "text/plain": [
              "<Figure size 720x504 with 1 Axes>"
            ]
          },
          "metadata": {
            "needs_background": "light"
          }
        }
      ]
    },
    {
      "cell_type": "markdown",
      "metadata": {
        "id": "Nc-zpLMXn7im"
      },
      "source": [
        "## Saving and loading the best model so far"
      ]
    },
    {
      "cell_type": "code",
      "metadata": {
        "colab": {
          "base_uri": "https://localhost:8080/"
        },
        "id": "qs0aN5ENoq2q",
        "outputId": "40fd7720-1d2a-448d-dd15-abe942a9ad33"
      },
      "source": [
        "model_5.save(\"skimlit/skimlit_tribrid_model\")"
      ],
      "execution_count": 135,
      "outputs": [
        {
          "output_type": "stream",
          "name": "stderr",
          "text": [
            "WARNING:absl:Found untraced functions such as softmax_layer_call_and_return_conditional_losses, softmax_layer_call_fn, lstm_cell_4_layer_call_and_return_conditional_losses, lstm_cell_4_layer_call_fn, lstm_cell_5_layer_call_and_return_conditional_losses while saving (showing 5 of 15). These functions will not be directly callable after loading.\n"
          ]
        },
        {
          "output_type": "stream",
          "name": "stdout",
          "text": [
            "INFO:tensorflow:Assets written to: skimlit/skimlit_tribrid_model/assets\n"
          ]
        },
        {
          "output_type": "stream",
          "name": "stderr",
          "text": [
            "INFO:tensorflow:Assets written to: skimlit/skimlit_tribrid_model/assets\n"
          ]
        }
      ]
    },
    {
      "cell_type": "code",
      "metadata": {
        "id": "N1JlLJAcoxPa"
      },
      "source": [
        "# Loading the model\n",
        "# loaded_model = tf.keras.models.load_model(\"skimlit/skimlit_tribrid_model\")"
      ],
      "execution_count": 137,
      "outputs": []
    },
    {
      "cell_type": "code",
      "metadata": {
        "id": "Hc3glwjRo9On"
      },
      "source": [
        "# Downloading the model from Google Storage\n",
        "# !wget https://storage.googleapis.com/ztm_tf_course/skimlit/skimlit_tribrid_model.zip"
      ],
      "execution_count": null,
      "outputs": []
    },
    {
      "cell_type": "code",
      "metadata": {
        "id": "KQ6WRVzKqhM9"
      },
      "source": [
        "# !mkdir skimlit_gs_model\n",
        "# !unzip skimlit_tribrid_model.zip -d skimlit_gs_model"
      ],
      "execution_count": null,
      "outputs": []
    },
    {
      "cell_type": "code",
      "metadata": {
        "id": "1B8U0tt3rIfU"
      },
      "source": [
        "# skimlit_model = tf.keras.models.load_model(\"/content/skimlit_gs_model/skimlit_tribrid_model\")"
      ],
      "execution_count": 132,
      "outputs": []
    },
    {
      "cell_type": "code",
      "metadata": {
        "id": "NnkdtykjrZ1t"
      },
      "source": [
        "# skimlit_model.evaluate(val_char_token_pos_dataset)"
      ],
      "execution_count": null,
      "outputs": []
    },
    {
      "cell_type": "code",
      "metadata": {
        "id": "gqHc--ExtkGF"
      },
      "source": [
        "# Turning Testing dataset into the patterns our model was trained on\n",
        "test_char_token_pos_data = tf.data.Dataset.from_tensor_slices((test_line_numbers_one_hot,\n",
        "                                                               test_total_lines_one_hot,\n",
        "                                                               test_sentences,\n",
        "                                                               test_chars))\n",
        "test_char_token_pos_labels = tf.data.Dataset.from_tensor_slices(test_labels_one_hot)\n",
        "test_char_token_pos_dataset = tf.data.Dataset.zip((test_char_token_pos_data,test_char_token_pos_labels))\n",
        "test_tribrid_dataset = test_char_token_pos_dataset.batch(batch_size=32).prefetch(buffer_size=tf.data.AUTOTUNE)"
      ],
      "execution_count": 138,
      "outputs": []
    },
    {
      "cell_type": "code",
      "metadata": {
        "colab": {
          "base_uri": "https://localhost:8080/"
        },
        "id": "oHBKLzjtwIIB",
        "outputId": "98ab3de3-0005-45b0-c8eb-06729fd4cbd5"
      },
      "source": [
        "test_tribrid_dataset"
      ],
      "execution_count": 139,
      "outputs": [
        {
          "output_type": "execute_result",
          "data": {
            "text/plain": [
              "<PrefetchDataset shapes: (((None, 15), (None, 18), (None,), (None,)), (None, 5)), types: ((tf.float32, tf.float32, tf.string, tf.string), tf.float64)>"
            ]
          },
          "metadata": {},
          "execution_count": 139
        }
      ]
    },
    {
      "cell_type": "code",
      "metadata": {
        "colab": {
          "base_uri": "https://localhost:8080/"
        },
        "id": "DU_XJxlNwJ0l",
        "outputId": "dbccef76-e183-4bc9-f7db-59581984051c"
      },
      "source": [
        "# Make predictions on the test dataset\n",
        "test_pred_probs = model_5.predict(test_tribrid_dataset)\n",
        "test_pred_probs"
      ],
      "execution_count": 140,
      "outputs": [
        {
          "output_type": "execute_result",
          "data": {
            "text/plain": [
              "array([[0.3598654 , 0.07339623, 0.0414952 , 0.4668899 , 0.05835336],\n",
              "       [0.3565158 , 0.05466283, 0.24412453, 0.30903682, 0.03566007],\n",
              "       [0.07907065, 0.02286993, 0.7560621 , 0.09364584, 0.04835148],\n",
              "       ...,\n",
              "       [0.08043754, 0.08246771, 0.09071602, 0.06058814, 0.68579054],\n",
              "       [0.07866852, 0.07590391, 0.07842858, 0.05133581, 0.7156632 ],\n",
              "       [0.08836719, 0.5193815 , 0.17577313, 0.05221284, 0.16426528]],\n",
              "      dtype=float32)"
            ]
          },
          "metadata": {},
          "execution_count": 140
        }
      ]
    },
    {
      "cell_type": "code",
      "metadata": {
        "colab": {
          "base_uri": "https://localhost:8080/"
        },
        "id": "ibavGUqjwaz_",
        "outputId": "1a504adb-038f-4fc4-b957-6c1f0015c184"
      },
      "source": [
        "# Converting probs to class labels\n",
        "test_preds = test_pred_probs.argmax(axis=1)\n",
        "test_preds"
      ],
      "execution_count": 141,
      "outputs": [
        {
          "output_type": "execute_result",
          "data": {
            "text/plain": [
              "array([3, 0, 2, ..., 4, 4, 1])"
            ]
          },
          "metadata": {},
          "execution_count": 141
        }
      ]
    },
    {
      "cell_type": "code",
      "metadata": {
        "colab": {
          "base_uri": "https://localhost:8080/"
        },
        "id": "EPPdyv-jwso7",
        "outputId": "13d83dd5-ef3a-4dfa-b5ff-b7c50d68cdd6"
      },
      "source": [
        "test_results = calculate_results(y_true = test_labels_encoded,\n",
        "                                 y_pred = test_preds)\n",
        "test_results"
      ],
      "execution_count": 142,
      "outputs": [
        {
          "output_type": "execute_result",
          "data": {
            "text/plain": [
              "{'accuracy': 82.87041645926664,\n",
              " 'f1-score': 0.8275795792350199,\n",
              " 'precision': 0.827205366979562,\n",
              " 'recall': 0.8287041645926664}"
            ]
          },
          "metadata": {},
          "execution_count": 142
        }
      ]
    },
    {
      "cell_type": "markdown",
      "metadata": {
        "id": "SvjbpzFtw6pA"
      },
      "source": [
        "## Finding the most wrong predictions"
      ]
    },
    {
      "cell_type": "code",
      "metadata": {
        "colab": {
          "base_uri": "https://localhost:8080/",
          "height": 204
        },
        "id": "Q1NphLrExTvn",
        "outputId": "373fb5d4-ed05-457b-ff83-bd32cdf045bb"
      },
      "source": [
        "test_copy = test_df.copy()\n",
        "test_copy.head()"
      ],
      "execution_count": 144,
      "outputs": [
        {
          "output_type": "execute_result",
          "data": {
            "text/html": [
              "<div>\n",
              "<style scoped>\n",
              "    .dataframe tbody tr th:only-of-type {\n",
              "        vertical-align: middle;\n",
              "    }\n",
              "\n",
              "    .dataframe tbody tr th {\n",
              "        vertical-align: top;\n",
              "    }\n",
              "\n",
              "    .dataframe thead th {\n",
              "        text-align: right;\n",
              "    }\n",
              "</style>\n",
              "<table border=\"1\" class=\"dataframe\">\n",
              "  <thead>\n",
              "    <tr style=\"text-align: right;\">\n",
              "      <th></th>\n",
              "      <th>target</th>\n",
              "      <th>text</th>\n",
              "      <th>line_number</th>\n",
              "      <th>total line</th>\n",
              "    </tr>\n",
              "  </thead>\n",
              "  <tbody>\n",
              "    <tr>\n",
              "      <th>0</th>\n",
              "      <td>BACKGROUND</td>\n",
              "      <td>this study analyzed liver function abnormaliti...</td>\n",
              "      <td>0</td>\n",
              "      <td>8</td>\n",
              "    </tr>\n",
              "    <tr>\n",
              "      <th>1</th>\n",
              "      <td>RESULTS</td>\n",
              "      <td>a post hoc analysis was conducted with the use...</td>\n",
              "      <td>1</td>\n",
              "      <td>8</td>\n",
              "    </tr>\n",
              "    <tr>\n",
              "      <th>2</th>\n",
              "      <td>RESULTS</td>\n",
              "      <td>liver function tests ( lfts ) were measured at...</td>\n",
              "      <td>2</td>\n",
              "      <td>8</td>\n",
              "    </tr>\n",
              "    <tr>\n",
              "      <th>3</th>\n",
              "      <td>RESULTS</td>\n",
              "      <td>survival analyses were used to assess the asso...</td>\n",
              "      <td>3</td>\n",
              "      <td>8</td>\n",
              "    </tr>\n",
              "    <tr>\n",
              "      <th>4</th>\n",
              "      <td>RESULTS</td>\n",
              "      <td>the percentage of patients with abnormal lfts ...</td>\n",
              "      <td>4</td>\n",
              "      <td>8</td>\n",
              "    </tr>\n",
              "  </tbody>\n",
              "</table>\n",
              "</div>"
            ],
            "text/plain": [
              "       target  ... total line\n",
              "0  BACKGROUND  ...          8\n",
              "1     RESULTS  ...          8\n",
              "2     RESULTS  ...          8\n",
              "3     RESULTS  ...          8\n",
              "4     RESULTS  ...          8\n",
              "\n",
              "[5 rows x 4 columns]"
            ]
          },
          "metadata": {},
          "execution_count": 144
        }
      ]
    },
    {
      "cell_type": "code",
      "metadata": {
        "colab": {
          "base_uri": "https://localhost:8080/"
        },
        "id": "pbOIEKG9x115",
        "outputId": "00bcaf01-72ba-4577-8754-aa065aa3435d"
      },
      "source": [
        "cl_names=[]\n",
        "for pred in test_preds:\n",
        "  cl_names.append(class_names[pred])\n",
        "cl_names[:10]"
      ],
      "execution_count": 150,
      "outputs": [
        {
          "output_type": "execute_result",
          "data": {
            "text/plain": [
              "['OBJECTIVE',\n",
              " 'BACKGROUND',\n",
              " 'METHODS',\n",
              " 'METHODS',\n",
              " 'RESULTS',\n",
              " 'RESULTS',\n",
              " 'RESULTS',\n",
              " 'CONCLUSIONS',\n",
              " 'RESULTS',\n",
              " 'BACKGROUND',\n",
              " 'OBJECTIVE',\n",
              " 'METHODS',\n",
              " 'METHODS',\n",
              " 'METHODS',\n",
              " 'RESULTS',\n",
              " 'RESULTS',\n",
              " 'RESULTS',\n",
              " 'RESULTS',\n",
              " 'RESULTS',\n",
              " 'RESULTS',\n",
              " 'CONCLUSIONS',\n",
              " 'CONCLUSIONS',\n",
              " 'OBJECTIVE',\n",
              " 'OBJECTIVE',\n",
              " 'METHODS',\n",
              " 'METHODS',\n",
              " 'RESULTS',\n",
              " 'RESULTS',\n",
              " 'RESULTS',\n",
              " 'CONCLUSIONS',\n",
              " 'CONCLUSIONS',\n",
              " 'BACKGROUND',\n",
              " 'METHODS',\n",
              " 'BACKGROUND',\n",
              " 'METHODS',\n",
              " 'METHODS',\n",
              " 'METHODS',\n",
              " 'METHODS',\n",
              " 'RESULTS',\n",
              " 'RESULTS',\n",
              " 'RESULTS',\n",
              " 'RESULTS',\n",
              " 'CONCLUSIONS',\n",
              " 'CONCLUSIONS',\n",
              " 'BACKGROUND',\n",
              " 'BACKGROUND',\n",
              " 'BACKGROUND',\n",
              " 'OBJECTIVE',\n",
              " 'METHODS',\n",
              " 'METHODS',\n",
              " 'METHODS',\n",
              " 'METHODS',\n",
              " 'METHODS',\n",
              " 'METHODS',\n",
              " 'RESULTS',\n",
              " 'RESULTS',\n",
              " 'CONCLUSIONS',\n",
              " 'CONCLUSIONS',\n",
              " 'OBJECTIVE',\n",
              " 'METHODS',\n",
              " 'METHODS',\n",
              " 'METHODS',\n",
              " 'METHODS',\n",
              " 'METHODS',\n",
              " 'RESULTS',\n",
              " 'RESULTS',\n",
              " 'RESULTS',\n",
              " 'CONCLUSIONS',\n",
              " 'RESULTS',\n",
              " 'OBJECTIVE',\n",
              " 'METHODS',\n",
              " 'METHODS',\n",
              " 'METHODS',\n",
              " 'RESULTS',\n",
              " 'METHODS',\n",
              " 'RESULTS',\n",
              " 'RESULTS',\n",
              " 'RESULTS',\n",
              " 'RESULTS',\n",
              " 'CONCLUSIONS',\n",
              " 'CONCLUSIONS',\n",
              " 'BACKGROUND',\n",
              " 'BACKGROUND',\n",
              " 'METHODS',\n",
              " 'METHODS',\n",
              " 'METHODS',\n",
              " 'RESULTS',\n",
              " 'METHODS',\n",
              " 'METHODS',\n",
              " 'METHODS',\n",
              " 'RESULTS',\n",
              " 'RESULTS',\n",
              " 'RESULTS',\n",
              " 'CONCLUSIONS',\n",
              " 'OBJECTIVE',\n",
              " 'OBJECTIVE',\n",
              " 'METHODS',\n",
              " 'RESULTS',\n",
              " 'RESULTS',\n",
              " 'RESULTS',\n",
              " 'CONCLUSIONS',\n",
              " 'OBJECTIVE',\n",
              " 'METHODS',\n",
              " 'METHODS',\n",
              " 'METHODS',\n",
              " 'METHODS',\n",
              " 'METHODS',\n",
              " 'METHODS',\n",
              " 'METHODS',\n",
              " 'RESULTS',\n",
              " 'RESULTS',\n",
              " 'RESULTS',\n",
              " 'CONCLUSIONS',\n",
              " 'BACKGROUND',\n",
              " 'BACKGROUND',\n",
              " 'METHODS',\n",
              " 'METHODS',\n",
              " 'METHODS',\n",
              " 'METHODS',\n",
              " 'METHODS',\n",
              " 'METHODS',\n",
              " 'BACKGROUND',\n",
              " 'RESULTS',\n",
              " 'RESULTS',\n",
              " 'RESULTS',\n",
              " 'RESULTS',\n",
              " 'RESULTS',\n",
              " 'CONCLUSIONS',\n",
              " 'BACKGROUND',\n",
              " 'OBJECTIVE',\n",
              " 'METHODS',\n",
              " 'METHODS',\n",
              " 'RESULTS',\n",
              " 'METHODS',\n",
              " 'RESULTS',\n",
              " 'RESULTS',\n",
              " 'RESULTS',\n",
              " 'RESULTS',\n",
              " 'OBJECTIVE',\n",
              " 'METHODS',\n",
              " 'METHODS',\n",
              " 'METHODS',\n",
              " 'RESULTS',\n",
              " 'RESULTS',\n",
              " 'RESULTS',\n",
              " 'RESULTS',\n",
              " 'RESULTS',\n",
              " 'RESULTS',\n",
              " 'CONCLUSIONS',\n",
              " 'CONCLUSIONS',\n",
              " 'BACKGROUND',\n",
              " 'BACKGROUND',\n",
              " 'METHODS',\n",
              " 'BACKGROUND',\n",
              " 'METHODS',\n",
              " 'METHODS',\n",
              " 'METHODS',\n",
              " 'METHODS',\n",
              " 'METHODS',\n",
              " 'METHODS',\n",
              " 'CONCLUSIONS',\n",
              " 'METHODS',\n",
              " 'RESULTS',\n",
              " 'BACKGROUND',\n",
              " 'CONCLUSIONS',\n",
              " 'BACKGROUND',\n",
              " 'OBJECTIVE',\n",
              " 'OBJECTIVE',\n",
              " 'METHODS',\n",
              " 'METHODS',\n",
              " 'RESULTS',\n",
              " 'RESULTS',\n",
              " 'RESULTS',\n",
              " 'RESULTS',\n",
              " 'RESULTS',\n",
              " 'CONCLUSIONS',\n",
              " 'BACKGROUND',\n",
              " 'OBJECTIVE',\n",
              " 'METHODS',\n",
              " 'METHODS',\n",
              " 'METHODS',\n",
              " 'RESULTS',\n",
              " 'RESULTS',\n",
              " 'RESULTS',\n",
              " 'RESULTS',\n",
              " 'RESULTS',\n",
              " 'RESULTS',\n",
              " 'RESULTS',\n",
              " 'CONCLUSIONS',\n",
              " 'BACKGROUND',\n",
              " 'BACKGROUND',\n",
              " 'METHODS',\n",
              " 'METHODS',\n",
              " 'METHODS',\n",
              " 'METHODS',\n",
              " 'BACKGROUND',\n",
              " 'RESULTS',\n",
              " 'RESULTS',\n",
              " 'BACKGROUND',\n",
              " 'RESULTS',\n",
              " 'RESULTS',\n",
              " 'CONCLUSIONS',\n",
              " 'CONCLUSIONS',\n",
              " 'CONCLUSIONS',\n",
              " 'OBJECTIVE',\n",
              " 'METHODS',\n",
              " 'METHODS',\n",
              " 'METHODS',\n",
              " 'METHODS',\n",
              " 'RESULTS',\n",
              " 'RESULTS',\n",
              " 'RESULTS',\n",
              " 'RESULTS',\n",
              " 'CONCLUSIONS',\n",
              " 'BACKGROUND',\n",
              " 'METHODS',\n",
              " 'METHODS',\n",
              " 'METHODS',\n",
              " 'METHODS',\n",
              " 'METHODS',\n",
              " 'RESULTS',\n",
              " 'RESULTS',\n",
              " 'RESULTS',\n",
              " 'RESULTS',\n",
              " 'CONCLUSIONS',\n",
              " 'RESULTS',\n",
              " 'RESULTS',\n",
              " 'BACKGROUND',\n",
              " 'OBJECTIVE',\n",
              " 'BACKGROUND',\n",
              " 'METHODS',\n",
              " 'METHODS',\n",
              " 'RESULTS',\n",
              " 'METHODS',\n",
              " 'METHODS',\n",
              " 'RESULTS',\n",
              " 'RESULTS',\n",
              " 'CONCLUSIONS',\n",
              " 'OBJECTIVE',\n",
              " 'OBJECTIVE',\n",
              " 'OBJECTIVE',\n",
              " 'METHODS',\n",
              " 'METHODS',\n",
              " 'METHODS',\n",
              " 'RESULTS',\n",
              " 'RESULTS',\n",
              " 'RESULTS',\n",
              " 'CONCLUSIONS',\n",
              " 'CONCLUSIONS',\n",
              " 'BACKGROUND',\n",
              " 'METHODS',\n",
              " 'METHODS',\n",
              " 'METHODS',\n",
              " 'METHODS',\n",
              " 'RESULTS',\n",
              " 'RESULTS',\n",
              " 'RESULTS',\n",
              " 'RESULTS',\n",
              " 'CONCLUSIONS',\n",
              " 'CONCLUSIONS',\n",
              " 'BACKGROUND',\n",
              " 'OBJECTIVE',\n",
              " 'METHODS',\n",
              " 'METHODS',\n",
              " 'METHODS',\n",
              " 'METHODS',\n",
              " 'METHODS',\n",
              " 'METHODS',\n",
              " 'METHODS',\n",
              " 'METHODS',\n",
              " 'RESULTS',\n",
              " 'RESULTS',\n",
              " 'RESULTS',\n",
              " 'CONCLUSIONS',\n",
              " 'RESULTS',\n",
              " 'CONCLUSIONS',\n",
              " 'METHODS',\n",
              " 'CONCLUSIONS',\n",
              " 'BACKGROUND',\n",
              " 'OBJECTIVE',\n",
              " 'METHODS',\n",
              " 'METHODS',\n",
              " 'METHODS',\n",
              " 'METHODS',\n",
              " 'METHODS',\n",
              " 'RESULTS',\n",
              " 'METHODS',\n",
              " 'CONCLUSIONS',\n",
              " 'BACKGROUND',\n",
              " 'BACKGROUND',\n",
              " 'METHODS',\n",
              " 'METHODS',\n",
              " 'METHODS',\n",
              " 'METHODS',\n",
              " 'RESULTS',\n",
              " 'RESULTS',\n",
              " 'RESULTS',\n",
              " 'RESULTS',\n",
              " 'CONCLUSIONS',\n",
              " 'CONCLUSIONS',\n",
              " 'BACKGROUND',\n",
              " 'OBJECTIVE',\n",
              " 'METHODS',\n",
              " 'METHODS',\n",
              " 'METHODS',\n",
              " 'RESULTS',\n",
              " 'RESULTS',\n",
              " 'RESULTS',\n",
              " 'CONCLUSIONS',\n",
              " 'CONCLUSIONS',\n",
              " 'CONCLUSIONS',\n",
              " 'OBJECTIVE',\n",
              " 'METHODS',\n",
              " 'METHODS',\n",
              " 'METHODS',\n",
              " 'RESULTS',\n",
              " 'RESULTS',\n",
              " 'RESULTS',\n",
              " 'RESULTS',\n",
              " 'RESULTS',\n",
              " 'RESULTS',\n",
              " 'BACKGROUND',\n",
              " 'METHODS',\n",
              " 'METHODS',\n",
              " 'RESULTS',\n",
              " 'RESULTS',\n",
              " 'RESULTS',\n",
              " 'RESULTS',\n",
              " 'CONCLUSIONS',\n",
              " 'BACKGROUND',\n",
              " 'BACKGROUND',\n",
              " 'METHODS',\n",
              " 'METHODS',\n",
              " 'RESULTS',\n",
              " 'METHODS',\n",
              " 'RESULTS',\n",
              " 'RESULTS',\n",
              " 'RESULTS',\n",
              " 'RESULTS',\n",
              " 'CONCLUSIONS',\n",
              " 'CONCLUSIONS',\n",
              " 'OBJECTIVE',\n",
              " 'METHODS',\n",
              " 'METHODS',\n",
              " 'METHODS',\n",
              " 'METHODS',\n",
              " 'RESULTS',\n",
              " 'RESULTS',\n",
              " 'RESULTS',\n",
              " 'RESULTS',\n",
              " 'RESULTS',\n",
              " 'CONCLUSIONS',\n",
              " 'RESULTS',\n",
              " 'BACKGROUND',\n",
              " 'BACKGROUND',\n",
              " 'BACKGROUND',\n",
              " 'METHODS',\n",
              " 'METHODS',\n",
              " 'METHODS',\n",
              " 'METHODS',\n",
              " 'RESULTS',\n",
              " 'RESULTS',\n",
              " 'RESULTS',\n",
              " 'RESULTS',\n",
              " 'RESULTS',\n",
              " 'RESULTS',\n",
              " 'RESULTS',\n",
              " 'RESULTS',\n",
              " 'CONCLUSIONS',\n",
              " 'CONCLUSIONS',\n",
              " 'CONCLUSIONS',\n",
              " 'BACKGROUND',\n",
              " 'BACKGROUND',\n",
              " 'BACKGROUND',\n",
              " 'METHODS',\n",
              " 'METHODS',\n",
              " 'RESULTS',\n",
              " 'METHODS',\n",
              " 'RESULTS',\n",
              " 'RESULTS',\n",
              " 'RESULTS',\n",
              " 'RESULTS',\n",
              " 'RESULTS',\n",
              " 'RESULTS',\n",
              " 'CONCLUSIONS',\n",
              " 'CONCLUSIONS',\n",
              " 'BACKGROUND',\n",
              " 'OBJECTIVE',\n",
              " 'RESULTS',\n",
              " 'RESULTS',\n",
              " 'METHODS',\n",
              " 'RESULTS',\n",
              " 'RESULTS',\n",
              " 'RESULTS',\n",
              " 'RESULTS',\n",
              " 'RESULTS',\n",
              " 'CONCLUSIONS',\n",
              " 'CONCLUSIONS',\n",
              " 'BACKGROUND',\n",
              " 'OBJECTIVE',\n",
              " 'METHODS',\n",
              " 'METHODS',\n",
              " 'METHODS',\n",
              " 'METHODS',\n",
              " 'RESULTS',\n",
              " 'RESULTS',\n",
              " 'RESULTS',\n",
              " 'CONCLUSIONS',\n",
              " 'OBJECTIVE',\n",
              " 'METHODS',\n",
              " 'METHODS',\n",
              " 'METHODS',\n",
              " 'RESULTS',\n",
              " 'RESULTS',\n",
              " 'RESULTS',\n",
              " 'RESULTS',\n",
              " 'RESULTS',\n",
              " 'CONCLUSIONS',\n",
              " 'CONCLUSIONS',\n",
              " 'OBJECTIVE',\n",
              " 'METHODS',\n",
              " 'METHODS',\n",
              " 'METHODS',\n",
              " 'RESULTS',\n",
              " 'RESULTS',\n",
              " 'RESULTS',\n",
              " 'RESULTS',\n",
              " 'RESULTS',\n",
              " 'RESULTS',\n",
              " 'RESULTS',\n",
              " 'CONCLUSIONS',\n",
              " 'BACKGROUND',\n",
              " 'OBJECTIVE',\n",
              " 'RESULTS',\n",
              " 'RESULTS',\n",
              " 'RESULTS',\n",
              " 'RESULTS',\n",
              " 'RESULTS',\n",
              " 'RESULTS',\n",
              " 'RESULTS',\n",
              " 'BACKGROUND',\n",
              " 'OBJECTIVE',\n",
              " 'METHODS',\n",
              " 'METHODS',\n",
              " 'RESULTS',\n",
              " 'RESULTS',\n",
              " 'RESULTS',\n",
              " 'RESULTS',\n",
              " 'CONCLUSIONS',\n",
              " 'CONCLUSIONS',\n",
              " 'CONCLUSIONS',\n",
              " 'BACKGROUND',\n",
              " 'BACKGROUND',\n",
              " 'BACKGROUND',\n",
              " 'OBJECTIVE',\n",
              " 'METHODS',\n",
              " 'METHODS',\n",
              " 'METHODS',\n",
              " 'RESULTS',\n",
              " 'CONCLUSIONS',\n",
              " 'METHODS',\n",
              " 'CONCLUSIONS',\n",
              " 'BACKGROUND',\n",
              " 'BACKGROUND',\n",
              " 'BACKGROUND',\n",
              " 'BACKGROUND',\n",
              " 'METHODS',\n",
              " 'METHODS',\n",
              " 'METHODS',\n",
              " 'RESULTS',\n",
              " 'RESULTS',\n",
              " 'RESULTS',\n",
              " 'RESULTS',\n",
              " 'CONCLUSIONS',\n",
              " 'CONCLUSIONS',\n",
              " 'CONCLUSIONS',\n",
              " 'CONCLUSIONS',\n",
              " 'BACKGROUND',\n",
              " 'BACKGROUND',\n",
              " 'BACKGROUND',\n",
              " 'METHODS',\n",
              " 'METHODS',\n",
              " 'METHODS',\n",
              " 'METHODS',\n",
              " 'RESULTS',\n",
              " 'RESULTS',\n",
              " 'RESULTS',\n",
              " 'RESULTS',\n",
              " 'CONCLUSIONS',\n",
              " 'CONCLUSIONS',\n",
              " 'CONCLUSIONS',\n",
              " 'BACKGROUND',\n",
              " 'BACKGROUND',\n",
              " 'BACKGROUND',\n",
              " 'OBJECTIVE',\n",
              " 'METHODS',\n",
              " 'METHODS',\n",
              " 'RESULTS',\n",
              " 'RESULTS',\n",
              " 'RESULTS',\n",
              " 'CONCLUSIONS',\n",
              " 'CONCLUSIONS',\n",
              " 'BACKGROUND',\n",
              " 'OBJECTIVE',\n",
              " 'METHODS',\n",
              " 'METHODS',\n",
              " 'RESULTS',\n",
              " 'RESULTS',\n",
              " 'RESULTS',\n",
              " 'RESULTS',\n",
              " 'RESULTS',\n",
              " 'CONCLUSIONS',\n",
              " 'CONCLUSIONS',\n",
              " 'BACKGROUND',\n",
              " 'BACKGROUND',\n",
              " 'METHODS',\n",
              " 'METHODS',\n",
              " 'METHODS',\n",
              " 'RESULTS',\n",
              " 'RESULTS',\n",
              " 'RESULTS',\n",
              " 'RESULTS',\n",
              " 'RESULTS',\n",
              " 'CONCLUSIONS',\n",
              " 'CONCLUSIONS',\n",
              " 'BACKGROUND',\n",
              " 'OBJECTIVE',\n",
              " 'METHODS',\n",
              " 'METHODS',\n",
              " 'METHODS',\n",
              " 'RESULTS',\n",
              " 'RESULTS',\n",
              " 'CONCLUSIONS',\n",
              " 'CONCLUSIONS',\n",
              " 'OBJECTIVE',\n",
              " 'METHODS',\n",
              " 'METHODS',\n",
              " 'METHODS',\n",
              " 'RESULTS',\n",
              " 'RESULTS',\n",
              " 'RESULTS',\n",
              " 'RESULTS',\n",
              " 'CONCLUSIONS',\n",
              " 'BACKGROUND',\n",
              " 'BACKGROUND',\n",
              " 'METHODS',\n",
              " 'METHODS',\n",
              " 'METHODS',\n",
              " 'METHODS',\n",
              " 'RESULTS',\n",
              " 'RESULTS',\n",
              " 'RESULTS',\n",
              " 'RESULTS',\n",
              " 'RESULTS',\n",
              " 'CONCLUSIONS',\n",
              " 'BACKGROUND',\n",
              " 'BACKGROUND',\n",
              " 'BACKGROUND',\n",
              " 'BACKGROUND',\n",
              " 'OBJECTIVE',\n",
              " 'METHODS',\n",
              " 'METHODS',\n",
              " 'METHODS',\n",
              " 'METHODS',\n",
              " 'METHODS',\n",
              " 'RESULTS',\n",
              " 'RESULTS',\n",
              " 'RESULTS',\n",
              " 'CONCLUSIONS',\n",
              " 'CONCLUSIONS',\n",
              " 'OBJECTIVE',\n",
              " 'OBJECTIVE',\n",
              " 'METHODS',\n",
              " 'METHODS',\n",
              " 'METHODS',\n",
              " 'RESULTS',\n",
              " 'RESULTS',\n",
              " 'CONCLUSIONS',\n",
              " 'CONCLUSIONS',\n",
              " 'BACKGROUND',\n",
              " 'BACKGROUND',\n",
              " 'BACKGROUND',\n",
              " 'METHODS',\n",
              " 'METHODS',\n",
              " 'METHODS',\n",
              " 'METHODS',\n",
              " 'METHODS',\n",
              " 'RESULTS',\n",
              " 'RESULTS',\n",
              " 'RESULTS',\n",
              " 'RESULTS',\n",
              " 'CONCLUSIONS',\n",
              " 'METHODS',\n",
              " 'RESULTS',\n",
              " 'RESULTS',\n",
              " 'RESULTS',\n",
              " 'CONCLUSIONS',\n",
              " 'RESULTS',\n",
              " 'BACKGROUND',\n",
              " 'OBJECTIVE',\n",
              " 'METHODS',\n",
              " 'METHODS',\n",
              " 'METHODS',\n",
              " 'RESULTS',\n",
              " 'METHODS',\n",
              " 'RESULTS',\n",
              " 'RESULTS',\n",
              " 'RESULTS',\n",
              " 'RESULTS',\n",
              " 'CONCLUSIONS',\n",
              " 'CONCLUSIONS',\n",
              " 'CONCLUSIONS',\n",
              " 'CONCLUSIONS',\n",
              " 'BACKGROUND',\n",
              " 'BACKGROUND',\n",
              " 'METHODS',\n",
              " 'METHODS',\n",
              " 'RESULTS',\n",
              " 'METHODS',\n",
              " 'METHODS',\n",
              " 'METHODS',\n",
              " 'RESULTS',\n",
              " 'RESULTS',\n",
              " 'CONCLUSIONS',\n",
              " 'CONCLUSIONS',\n",
              " 'CONCLUSIONS',\n",
              " 'BACKGROUND',\n",
              " 'BACKGROUND',\n",
              " 'BACKGROUND',\n",
              " 'METHODS',\n",
              " 'METHODS',\n",
              " 'METHODS',\n",
              " 'RESULTS',\n",
              " 'RESULTS',\n",
              " 'RESULTS',\n",
              " 'RESULTS',\n",
              " 'RESULTS',\n",
              " 'CONCLUSIONS',\n",
              " 'CONCLUSIONS',\n",
              " 'BACKGROUND',\n",
              " 'OBJECTIVE',\n",
              " 'METHODS',\n",
              " 'METHODS',\n",
              " 'RESULTS',\n",
              " 'RESULTS',\n",
              " 'RESULTS',\n",
              " 'CONCLUSIONS',\n",
              " 'CONCLUSIONS',\n",
              " 'OBJECTIVE',\n",
              " 'METHODS',\n",
              " 'METHODS',\n",
              " 'CONCLUSIONS',\n",
              " 'METHODS',\n",
              " 'RESULTS',\n",
              " 'RESULTS',\n",
              " 'OBJECTIVE',\n",
              " 'BACKGROUND',\n",
              " 'BACKGROUND',\n",
              " 'METHODS',\n",
              " 'METHODS',\n",
              " 'METHODS',\n",
              " 'METHODS',\n",
              " 'RESULTS',\n",
              " 'RESULTS',\n",
              " 'METHODS',\n",
              " 'METHODS',\n",
              " 'RESULTS',\n",
              " 'CONCLUSIONS',\n",
              " 'CONCLUSIONS',\n",
              " 'CONCLUSIONS',\n",
              " 'CONCLUSIONS',\n",
              " 'OBJECTIVE',\n",
              " 'METHODS',\n",
              " 'METHODS',\n",
              " 'RESULTS',\n",
              " 'RESULTS',\n",
              " 'METHODS',\n",
              " 'RESULTS',\n",
              " 'CONCLUSIONS',\n",
              " 'OBJECTIVE',\n",
              " 'METHODS',\n",
              " 'METHODS',\n",
              " 'METHODS',\n",
              " 'METHODS',\n",
              " 'METHODS',\n",
              " 'RESULTS',\n",
              " 'RESULTS',\n",
              " 'RESULTS',\n",
              " 'RESULTS',\n",
              " 'RESULTS',\n",
              " 'RESULTS',\n",
              " 'CONCLUSIONS',\n",
              " 'CONCLUSIONS',\n",
              " 'BACKGROUND',\n",
              " 'BACKGROUND',\n",
              " 'BACKGROUND',\n",
              " 'METHODS',\n",
              " 'METHODS',\n",
              " 'METHODS',\n",
              " 'METHODS',\n",
              " 'RESULTS',\n",
              " 'METHODS',\n",
              " 'RESULTS',\n",
              " 'RESULTS',\n",
              " 'CONCLUSIONS',\n",
              " 'CONCLUSIONS',\n",
              " 'CONCLUSIONS',\n",
              " 'CONCLUSIONS',\n",
              " 'OBJECTIVE',\n",
              " 'METHODS',\n",
              " 'METHODS',\n",
              " 'METHODS',\n",
              " 'METHODS',\n",
              " 'METHODS',\n",
              " 'METHODS',\n",
              " 'RESULTS',\n",
              " 'RESULTS',\n",
              " 'RESULTS',\n",
              " 'RESULTS',\n",
              " 'RESULTS',\n",
              " 'RESULTS',\n",
              " 'CONCLUSIONS',\n",
              " 'CONCLUSIONS',\n",
              " 'BACKGROUND',\n",
              " 'METHODS',\n",
              " 'BACKGROUND',\n",
              " 'BACKGROUND',\n",
              " 'METHODS',\n",
              " 'RESULTS',\n",
              " 'METHODS',\n",
              " 'RESULTS',\n",
              " 'RESULTS',\n",
              " 'RESULTS',\n",
              " 'CONCLUSIONS',\n",
              " 'RESULTS',\n",
              " 'BACKGROUND',\n",
              " 'BACKGROUND',\n",
              " 'METHODS',\n",
              " 'METHODS',\n",
              " 'METHODS',\n",
              " 'RESULTS',\n",
              " 'RESULTS',\n",
              " 'RESULTS',\n",
              " 'RESULTS',\n",
              " 'RESULTS',\n",
              " 'RESULTS',\n",
              " 'CONCLUSIONS',\n",
              " 'CONCLUSIONS',\n",
              " 'BACKGROUND',\n",
              " 'BACKGROUND',\n",
              " 'BACKGROUND',\n",
              " 'BACKGROUND',\n",
              " 'METHODS',\n",
              " 'METHODS',\n",
              " 'METHODS',\n",
              " 'METHODS',\n",
              " 'METHODS',\n",
              " 'METHODS',\n",
              " 'RESULTS',\n",
              " 'RESULTS',\n",
              " 'RESULTS',\n",
              " 'CONCLUSIONS',\n",
              " 'RESULTS',\n",
              " 'RESULTS',\n",
              " 'RESULTS',\n",
              " 'CONCLUSIONS',\n",
              " 'RESULTS',\n",
              " 'CONCLUSIONS',\n",
              " 'CONCLUSIONS',\n",
              " 'BACKGROUND',\n",
              " 'OBJECTIVE',\n",
              " 'METHODS',\n",
              " 'METHODS',\n",
              " 'METHODS',\n",
              " 'METHODS',\n",
              " 'RESULTS',\n",
              " 'RESULTS',\n",
              " 'RESULTS',\n",
              " 'CONCLUSIONS',\n",
              " 'CONCLUSIONS',\n",
              " 'CONCLUSIONS',\n",
              " 'BACKGROUND',\n",
              " 'BACKGROUND',\n",
              " 'METHODS',\n",
              " 'METHODS',\n",
              " 'METHODS',\n",
              " 'METHODS',\n",
              " 'METHODS',\n",
              " 'METHODS',\n",
              " 'RESULTS',\n",
              " 'RESULTS',\n",
              " 'CONCLUSIONS',\n",
              " 'CONCLUSIONS',\n",
              " 'CONCLUSIONS',\n",
              " 'BACKGROUND',\n",
              " 'BACKGROUND',\n",
              " 'BACKGROUND',\n",
              " 'BACKGROUND',\n",
              " 'BACKGROUND',\n",
              " 'OBJECTIVE',\n",
              " 'METHODS',\n",
              " 'METHODS',\n",
              " 'RESULTS',\n",
              " 'RESULTS',\n",
              " 'RESULTS',\n",
              " 'CONCLUSIONS',\n",
              " 'CONCLUSIONS',\n",
              " 'BACKGROUND',\n",
              " 'BACKGROUND',\n",
              " 'BACKGROUND',\n",
              " 'BACKGROUND',\n",
              " 'METHODS',\n",
              " 'METHODS',\n",
              " 'RESULTS',\n",
              " 'METHODS',\n",
              " 'RESULTS',\n",
              " 'RESULTS',\n",
              " 'RESULTS',\n",
              " 'RESULTS',\n",
              " 'RESULTS',\n",
              " 'CONCLUSIONS',\n",
              " 'CONCLUSIONS',\n",
              " 'BACKGROUND',\n",
              " 'BACKGROUND',\n",
              " 'BACKGROUND',\n",
              " 'METHODS',\n",
              " 'METHODS',\n",
              " 'METHODS',\n",
              " 'RESULTS',\n",
              " 'METHODS',\n",
              " 'RESULTS',\n",
              " 'RESULTS',\n",
              " 'CONCLUSIONS',\n",
              " 'RESULTS',\n",
              " 'CONCLUSIONS',\n",
              " 'OBJECTIVE',\n",
              " 'BACKGROUND',\n",
              " 'METHODS',\n",
              " 'RESULTS',\n",
              " 'METHODS',\n",
              " 'RESULTS',\n",
              " 'RESULTS',\n",
              " 'RESULTS',\n",
              " 'CONCLUSIONS',\n",
              " 'RESULTS',\n",
              " 'RESULTS',\n",
              " 'CONCLUSIONS',\n",
              " 'BACKGROUND',\n",
              " 'OBJECTIVE',\n",
              " 'METHODS',\n",
              " 'METHODS',\n",
              " 'RESULTS',\n",
              " 'RESULTS',\n",
              " 'METHODS',\n",
              " 'RESULTS',\n",
              " 'RESULTS',\n",
              " 'CONCLUSIONS',\n",
              " 'CONCLUSIONS',\n",
              " 'CONCLUSIONS',\n",
              " 'BACKGROUND',\n",
              " 'BACKGROUND',\n",
              " 'METHODS',\n",
              " 'METHODS',\n",
              " 'METHODS',\n",
              " 'METHODS',\n",
              " 'RESULTS',\n",
              " 'RESULTS',\n",
              " 'RESULTS',\n",
              " 'RESULTS',\n",
              " 'RESULTS',\n",
              " 'CONCLUSIONS',\n",
              " 'OBJECTIVE',\n",
              " 'METHODS',\n",
              " 'METHODS',\n",
              " 'METHODS',\n",
              " 'METHODS',\n",
              " 'RESULTS',\n",
              " 'RESULTS',\n",
              " 'RESULTS',\n",
              " 'CONCLUSIONS',\n",
              " 'RESULTS',\n",
              " 'BACKGROUND',\n",
              " 'BACKGROUND',\n",
              " 'METHODS',\n",
              " 'METHODS',\n",
              " 'METHODS',\n",
              " 'METHODS',\n",
              " 'METHODS',\n",
              " 'RESULTS',\n",
              " 'RESULTS',\n",
              " 'RESULTS',\n",
              " 'RESULTS',\n",
              " 'RESULTS',\n",
              " 'CONCLUSIONS',\n",
              " 'BACKGROUND',\n",
              " 'METHODS',\n",
              " 'RESULTS',\n",
              " 'RESULTS',\n",
              " 'RESULTS',\n",
              " 'RESULTS',\n",
              " 'RESULTS',\n",
              " 'RESULTS',\n",
              " 'CONCLUSIONS',\n",
              " 'BACKGROUND',\n",
              " 'BACKGROUND',\n",
              " 'BACKGROUND',\n",
              " 'BACKGROUND',\n",
              " 'METHODS',\n",
              " 'METHODS',\n",
              " 'METHODS',\n",
              " 'METHODS',\n",
              " 'RESULTS',\n",
              " 'RESULTS',\n",
              " 'METHODS',\n",
              " 'RESULTS',\n",
              " 'RESULTS',\n",
              " 'CONCLUSIONS',\n",
              " 'CONCLUSIONS',\n",
              " 'BACKGROUND',\n",
              " 'BACKGROUND',\n",
              " 'METHODS',\n",
              " 'METHODS',\n",
              " 'METHODS',\n",
              " 'RESULTS',\n",
              " 'METHODS',\n",
              " 'RESULTS',\n",
              " 'RESULTS',\n",
              " 'RESULTS',\n",
              " 'RESULTS',\n",
              " 'CONCLUSIONS',\n",
              " 'CONCLUSIONS',\n",
              " 'CONCLUSIONS',\n",
              " 'CONCLUSIONS',\n",
              " 'OBJECTIVE',\n",
              " 'METHODS',\n",
              " 'METHODS',\n",
              " 'METHODS',\n",
              " 'METHODS',\n",
              " 'METHODS',\n",
              " 'RESULTS',\n",
              " 'RESULTS',\n",
              " 'RESULTS',\n",
              " 'RESULTS',\n",
              " 'RESULTS',\n",
              " 'RESULTS',\n",
              " 'CONCLUSIONS',\n",
              " 'RESULTS',\n",
              " 'METHODS',\n",
              " 'OBJECTIVE',\n",
              " 'METHODS',\n",
              " 'METHODS',\n",
              " 'METHODS',\n",
              " 'RESULTS',\n",
              " 'RESULTS',\n",
              " 'RESULTS',\n",
              " 'RESULTS',\n",
              " 'RESULTS',\n",
              " 'CONCLUSIONS',\n",
              " 'CONCLUSIONS',\n",
              " 'BACKGROUND',\n",
              " 'BACKGROUND',\n",
              " 'BACKGROUND',\n",
              " 'OBJECTIVE',\n",
              " 'METHODS',\n",
              " 'METHODS',\n",
              " 'METHODS',\n",
              " 'METHODS',\n",
              " 'RESULTS',\n",
              " 'RESULTS',\n",
              " 'RESULTS',\n",
              " 'RESULTS',\n",
              " 'RESULTS',\n",
              " 'RESULTS',\n",
              " 'RESULTS',\n",
              " 'CONCLUSIONS',\n",
              " 'RESULTS',\n",
              " 'CONCLUSIONS',\n",
              " 'CONCLUSIONS',\n",
              " 'BACKGROUND',\n",
              " 'OBJECTIVE',\n",
              " 'METHODS',\n",
              " 'METHODS',\n",
              " 'METHODS',\n",
              " 'RESULTS',\n",
              " 'RESULTS',\n",
              " 'RESULTS',\n",
              " 'CONCLUSIONS',\n",
              " 'BACKGROUND',\n",
              " 'BACKGROUND',\n",
              " 'METHODS',\n",
              " 'METHODS',\n",
              " 'METHODS',\n",
              " 'METHODS',\n",
              " 'METHODS',\n",
              " 'METHODS',\n",
              " 'RESULTS',\n",
              " 'RESULTS',\n",
              " 'RESULTS',\n",
              " 'CONCLUSIONS',\n",
              " 'CONCLUSIONS',\n",
              " ...]"
            ]
          },
          "metadata": {},
          "execution_count": 150
        }
      ]
    },
    {
      "cell_type": "code",
      "metadata": {
        "colab": {
          "base_uri": "https://localhost:8080/"
        },
        "id": "Ja9nZufazM9J",
        "outputId": "c21be5f2-1511-4bb2-a1f4-03bdbe775a22"
      },
      "source": [
        "test_pred_probs.max(axis=1)[:10]"
      ],
      "execution_count": 155,
      "outputs": [
        {
          "output_type": "execute_result",
          "data": {
            "text/plain": [
              "array([0.4668899 , 0.3565158 , 0.7560621 , 0.7047583 , 0.7222693 ,\n",
              "       0.8879545 , 0.5882623 , 0.56952626, 0.48557302, 0.5966805 ],\n",
              "      dtype=float32)"
            ]
          },
          "metadata": {},
          "execution_count": 155
        }
      ]
    },
    {
      "cell_type": "code",
      "metadata": {
        "id": "TWUU_y-Ry9a5"
      },
      "source": [
        "test_copy.insert(loc=1,column=\"Preds\",value=cl_names)\n",
        "test_copy.insert(loc=2,column=\"Probs\",value=test_pred_probs.max(axis=1))"
      ],
      "execution_count": 156,
      "outputs": []
    },
    {
      "cell_type": "code",
      "metadata": {
        "colab": {
          "base_uri": "https://localhost:8080/",
          "height": 204
        },
        "id": "vjVo9RTHz9mq",
        "outputId": "5ef52dbd-41bb-45df-a2bf-f5ac975767de"
      },
      "source": [
        "test_copy.head()"
      ],
      "execution_count": 157,
      "outputs": [
        {
          "output_type": "execute_result",
          "data": {
            "text/html": [
              "<div>\n",
              "<style scoped>\n",
              "    .dataframe tbody tr th:only-of-type {\n",
              "        vertical-align: middle;\n",
              "    }\n",
              "\n",
              "    .dataframe tbody tr th {\n",
              "        vertical-align: top;\n",
              "    }\n",
              "\n",
              "    .dataframe thead th {\n",
              "        text-align: right;\n",
              "    }\n",
              "</style>\n",
              "<table border=\"1\" class=\"dataframe\">\n",
              "  <thead>\n",
              "    <tr style=\"text-align: right;\">\n",
              "      <th></th>\n",
              "      <th>target</th>\n",
              "      <th>Preds</th>\n",
              "      <th>Probs</th>\n",
              "      <th>text</th>\n",
              "      <th>line_number</th>\n",
              "      <th>total line</th>\n",
              "    </tr>\n",
              "  </thead>\n",
              "  <tbody>\n",
              "    <tr>\n",
              "      <th>0</th>\n",
              "      <td>BACKGROUND</td>\n",
              "      <td>OBJECTIVE</td>\n",
              "      <td>0.466890</td>\n",
              "      <td>this study analyzed liver function abnormaliti...</td>\n",
              "      <td>0</td>\n",
              "      <td>8</td>\n",
              "    </tr>\n",
              "    <tr>\n",
              "      <th>1</th>\n",
              "      <td>RESULTS</td>\n",
              "      <td>BACKGROUND</td>\n",
              "      <td>0.356516</td>\n",
              "      <td>a post hoc analysis was conducted with the use...</td>\n",
              "      <td>1</td>\n",
              "      <td>8</td>\n",
              "    </tr>\n",
              "    <tr>\n",
              "      <th>2</th>\n",
              "      <td>RESULTS</td>\n",
              "      <td>METHODS</td>\n",
              "      <td>0.756062</td>\n",
              "      <td>liver function tests ( lfts ) were measured at...</td>\n",
              "      <td>2</td>\n",
              "      <td>8</td>\n",
              "    </tr>\n",
              "    <tr>\n",
              "      <th>3</th>\n",
              "      <td>RESULTS</td>\n",
              "      <td>METHODS</td>\n",
              "      <td>0.704758</td>\n",
              "      <td>survival analyses were used to assess the asso...</td>\n",
              "      <td>3</td>\n",
              "      <td>8</td>\n",
              "    </tr>\n",
              "    <tr>\n",
              "      <th>4</th>\n",
              "      <td>RESULTS</td>\n",
              "      <td>RESULTS</td>\n",
              "      <td>0.722269</td>\n",
              "      <td>the percentage of patients with abnormal lfts ...</td>\n",
              "      <td>4</td>\n",
              "      <td>8</td>\n",
              "    </tr>\n",
              "  </tbody>\n",
              "</table>\n",
              "</div>"
            ],
            "text/plain": [
              "       target       Preds  ...  line_number total line\n",
              "0  BACKGROUND   OBJECTIVE  ...            0          8\n",
              "1     RESULTS  BACKGROUND  ...            1          8\n",
              "2     RESULTS     METHODS  ...            2          8\n",
              "3     RESULTS     METHODS  ...            3          8\n",
              "4     RESULTS     RESULTS  ...            4          8\n",
              "\n",
              "[5 rows x 6 columns]"
            ]
          },
          "metadata": {},
          "execution_count": 157
        }
      ]
    },
    {
      "cell_type": "code",
      "metadata": {
        "colab": {
          "base_uri": "https://localhost:8080/",
          "height": 359
        },
        "id": "1Ti-01gN0Apb",
        "outputId": "cb37862d-a056-4d55-9986-3834a988fd77"
      },
      "source": [
        "most_wrong = test_copy[(test_copy.target!=test_copy.Preds)].sort_values(\"Probs\", ascending=False)\n",
        "most_wrong.head(10)"
      ],
      "execution_count": 161,
      "outputs": [
        {
          "output_type": "execute_result",
          "data": {
            "text/html": [
              "<div>\n",
              "<style scoped>\n",
              "    .dataframe tbody tr th:only-of-type {\n",
              "        vertical-align: middle;\n",
              "    }\n",
              "\n",
              "    .dataframe tbody tr th {\n",
              "        vertical-align: top;\n",
              "    }\n",
              "\n",
              "    .dataframe thead th {\n",
              "        text-align: right;\n",
              "    }\n",
              "</style>\n",
              "<table border=\"1\" class=\"dataframe\">\n",
              "  <thead>\n",
              "    <tr style=\"text-align: right;\">\n",
              "      <th></th>\n",
              "      <th>target</th>\n",
              "      <th>Preds</th>\n",
              "      <th>Probs</th>\n",
              "      <th>text</th>\n",
              "      <th>line_number</th>\n",
              "      <th>total line</th>\n",
              "    </tr>\n",
              "  </thead>\n",
              "  <tbody>\n",
              "    <tr>\n",
              "      <th>8545</th>\n",
              "      <td>METHODS</td>\n",
              "      <td>BACKGROUND</td>\n",
              "      <td>0.947735</td>\n",
              "      <td>pretest-posttest .</td>\n",
              "      <td>1</td>\n",
              "      <td>11</td>\n",
              "    </tr>\n",
              "    <tr>\n",
              "      <th>1827</th>\n",
              "      <td>CONCLUSIONS</td>\n",
              "      <td>BACKGROUND</td>\n",
              "      <td>0.938317</td>\n",
              "      <td>nct@ ( clinicaltrials.gov ) .</td>\n",
              "      <td>18</td>\n",
              "      <td>18</td>\n",
              "    </tr>\n",
              "    <tr>\n",
              "      <th>13874</th>\n",
              "      <td>CONCLUSIONS</td>\n",
              "      <td>METHODS</td>\n",
              "      <td>0.935543</td>\n",
              "      <td>symptom outcomes will be assessed and estimate...</td>\n",
              "      <td>4</td>\n",
              "      <td>6</td>\n",
              "    </tr>\n",
              "    <tr>\n",
              "      <th>2388</th>\n",
              "      <td>RESULTS</td>\n",
              "      <td>METHODS</td>\n",
              "      <td>0.927920</td>\n",
              "      <td>the primary endpoint is the cumulative three-y...</td>\n",
              "      <td>4</td>\n",
              "      <td>13</td>\n",
              "    </tr>\n",
              "    <tr>\n",
              "      <th>16347</th>\n",
              "      <td>BACKGROUND</td>\n",
              "      <td>OBJECTIVE</td>\n",
              "      <td>0.925535</td>\n",
              "      <td>to evaluate the effects of the lactic acid bac...</td>\n",
              "      <td>0</td>\n",
              "      <td>12</td>\n",
              "    </tr>\n",
              "    <tr>\n",
              "      <th>4391</th>\n",
              "      <td>CONCLUSIONS</td>\n",
              "      <td>BACKGROUND</td>\n",
              "      <td>0.925415</td>\n",
              "      <td>-lsb- netherlands trial register ( http://www....</td>\n",
              "      <td>15</td>\n",
              "      <td>15</td>\n",
              "    </tr>\n",
              "    <tr>\n",
              "      <th>26912</th>\n",
              "      <td>CONCLUSIONS</td>\n",
              "      <td>BACKGROUND</td>\n",
              "      <td>0.916421</td>\n",
              "      <td>( clinicaltrials.gov : nct@ ) .</td>\n",
              "      <td>13</td>\n",
              "      <td>13</td>\n",
              "    </tr>\n",
              "    <tr>\n",
              "      <th>3573</th>\n",
              "      <td>RESULTS</td>\n",
              "      <td>METHODS</td>\n",
              "      <td>0.915174</td>\n",
              "      <td>a cluster randomised trial was implemented wit...</td>\n",
              "      <td>3</td>\n",
              "      <td>16</td>\n",
              "    </tr>\n",
              "    <tr>\n",
              "      <th>16633</th>\n",
              "      <td>CONCLUSIONS</td>\n",
              "      <td>BACKGROUND</td>\n",
              "      <td>0.914945</td>\n",
              "      <td>clinicaltrials.gov identifier : nct@ .</td>\n",
              "      <td>19</td>\n",
              "      <td>19</td>\n",
              "    </tr>\n",
              "    <tr>\n",
              "      <th>23630</th>\n",
              "      <td>RESULTS</td>\n",
              "      <td>METHODS</td>\n",
              "      <td>0.914410</td>\n",
              "      <td>the primary outcome was to evaluate changes in...</td>\n",
              "      <td>6</td>\n",
              "      <td>14</td>\n",
              "    </tr>\n",
              "  </tbody>\n",
              "</table>\n",
              "</div>"
            ],
            "text/plain": [
              "            target       Preds  ...  line_number total line\n",
              "8545       METHODS  BACKGROUND  ...            1         11\n",
              "1827   CONCLUSIONS  BACKGROUND  ...           18         18\n",
              "13874  CONCLUSIONS     METHODS  ...            4          6\n",
              "2388       RESULTS     METHODS  ...            4         13\n",
              "16347   BACKGROUND   OBJECTIVE  ...            0         12\n",
              "4391   CONCLUSIONS  BACKGROUND  ...           15         15\n",
              "26912  CONCLUSIONS  BACKGROUND  ...           13         13\n",
              "3573       RESULTS     METHODS  ...            3         16\n",
              "16633  CONCLUSIONS  BACKGROUND  ...           19         19\n",
              "23630      RESULTS     METHODS  ...            6         14\n",
              "\n",
              "[10 rows x 6 columns]"
            ]
          },
          "metadata": {},
          "execution_count": 161
        }
      ]
    },
    {
      "cell_type": "code",
      "metadata": {
        "colab": {
          "base_uri": "https://localhost:8080/"
        },
        "id": "-FEml1v10PnP",
        "outputId": "51f80063-0fc0-45f4-f6e1-009ff225deee"
      },
      "source": [
        "for row in most_wrong[:10].itertuples(): # loop through the top 10 rows (change the index to view different rows)\n",
        "  _, target, pred, prob, text, _, _ = row\n",
        "  print(f\"Target: {target}, Pred: {pred}, Prob: {prob}\")\n",
        "  print(f\"Text:\\n{text}\\n\")\n",
        "  print(\"----\\n\")"
      ],
      "execution_count": 163,
      "outputs": [
        {
          "output_type": "stream",
          "name": "stdout",
          "text": [
            "Target: METHODS, Pred: BACKGROUND, Prob: 0.9477347731590271\n",
            "Text:\n",
            "pretest-posttest .\n",
            "\n",
            "----\n",
            "\n",
            "Target: CONCLUSIONS, Pred: BACKGROUND, Prob: 0.938316822052002\n",
            "Text:\n",
            "nct@ ( clinicaltrials.gov ) .\n",
            "\n",
            "----\n",
            "\n",
            "Target: CONCLUSIONS, Pred: METHODS, Prob: 0.9355431199073792\n",
            "Text:\n",
            "symptom outcomes will be assessed and estimates of cost-effectiveness made .\n",
            "\n",
            "----\n",
            "\n",
            "Target: RESULTS, Pred: METHODS, Prob: 0.9279196262359619\n",
            "Text:\n",
            "the primary endpoint is the cumulative three-year hiv incidence .\n",
            "\n",
            "----\n",
            "\n",
            "Target: BACKGROUND, Pred: OBJECTIVE, Prob: 0.9255353212356567\n",
            "Text:\n",
            "to evaluate the effects of the lactic acid bacterium lactobacillus salivarius on caries risk factors .\n",
            "\n",
            "----\n",
            "\n",
            "Target: CONCLUSIONS, Pred: BACKGROUND, Prob: 0.9254146218299866\n",
            "Text:\n",
            "-lsb- netherlands trial register ( http://www.trialregister.nl/trialreg/index.asp ) , nr @ , date of registration @ december @ . -rsb-\n",
            "\n",
            "----\n",
            "\n",
            "Target: CONCLUSIONS, Pred: BACKGROUND, Prob: 0.9164211750030518\n",
            "Text:\n",
            "( clinicaltrials.gov : nct@ ) .\n",
            "\n",
            "----\n",
            "\n",
            "Target: RESULTS, Pred: METHODS, Prob: 0.9151739478111267\n",
            "Text:\n",
            "a cluster randomised trial was implemented with @,@ children in @ government primary schools on the south coast of kenya in @-@ .\n",
            "\n",
            "----\n",
            "\n",
            "Target: CONCLUSIONS, Pred: BACKGROUND, Prob: 0.9149453639984131\n",
            "Text:\n",
            "clinicaltrials.gov identifier : nct@ .\n",
            "\n",
            "----\n",
            "\n",
            "Target: RESULTS, Pred: METHODS, Prob: 0.9144095182418823\n",
            "Text:\n",
            "the primary outcome was to evaluate changes in abdominal and shoulder-tip pain via a @-mm visual analog scale at @ , @ , and @hours postoperatively .\n",
            "\n",
            "----\n",
            "\n"
          ]
        }
      ]
    }
  ]
}