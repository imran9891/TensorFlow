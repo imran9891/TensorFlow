{
  "nbformat": 4,
  "nbformat_minor": 0,
  "metadata": {
    "colab": {
      "name": "03 _introduction-to-computer-vision-with-tensorflow.ipynb",
      "provenance": [],
      "mount_file_id": "17RRG1bNQBFE3UBqd996Ho9SVc6GDTg_e",
      "authorship_tag": "ABX9TyNDthXLIDYmBDWYx1Pjgt3O",
      "include_colab_link": true
    },
    "kernelspec": {
      "name": "python3",
      "display_name": "Python 3"
    },
    "language_info": {
      "name": "python"
    },
    "accelerator": "GPU"
  },
  "cells": [
    {
      "cell_type": "markdown",
      "metadata": {
        "id": "view-in-github",
        "colab_type": "text"
      },
      "source": [
        "<a href=\"https://colab.research.google.com/github/imran9891/TensorFlow/blob/main/03__introduction_to_computer_vision_with_tensorflow.ipynb\" target=\"_parent\"><img src=\"https://colab.research.google.com/assets/colab-badge.svg\" alt=\"Open In Colab\"/></a>"
      ]
    },
    {
      "cell_type": "markdown",
      "metadata": {
        "id": "hWHOJsJwgiwe"
      },
      "source": [
        "# Introduction to Convolutional Neural Networks and Computer Vision with TensorFlow\n",
        "\n",
        "Computer vision is the practise of writing algorithms which can discover patterns in visual data. Such as the camera of a self-driving car recognizing the car in front."
      ]
    },
    {
      "cell_type": "markdown",
      "metadata": {
        "id": "8BVA2ra3hA1W"
      },
      "source": [
        "## Get the data\n",
        "\n",
        "The images we're working with are from the Food101 dataset (101 different classes of food): https://www.kaggle.com/dansbecker/food-101\n",
        "\n",
        "However, we've modified it to only use two classes (pizza & steak) using the image data modification notebook: https://github.com/mrdbourke/tensorflow-deep-learning/blob/main/extras/image_data_modification.ipynb\n",
        "\n",
        "> **Note:** We start with a smaller dataset so we can experiment quickly and figure what works (or better yet what doesn't work) before scaling up.\n",
        "\n"
      ]
    },
    {
      "cell_type": "code",
      "metadata": {
        "colab": {
          "base_uri": "https://localhost:8080/"
        },
        "id": "UZLzFh6bhZ7b",
        "outputId": "0e7df24d-f38a-4a84-c731-32aa73601b6c"
      },
      "source": [
        "import zipfile\n",
        "!wget https://storage.googleapis.com/ztm_tf_course/food_vision/pizza_steak.zip\n",
        "\n",
        "# Unzip the downloaded file\n",
        "zip_ref = zipfile.ZipFile(\"pizza_steak.zip\")\n",
        "zip_ref.extractall()\n",
        "zip_ref.close()"
      ],
      "execution_count": 1,
      "outputs": [
        {
          "output_type": "stream",
          "text": [
            "--2021-07-15 19:05:27--  https://storage.googleapis.com/ztm_tf_course/food_vision/pizza_steak.zip\n",
            "Resolving storage.googleapis.com (storage.googleapis.com)... 142.250.141.128, 74.125.137.128, 142.251.2.128, ...\n",
            "Connecting to storage.googleapis.com (storage.googleapis.com)|142.250.141.128|:443... connected.\n",
            "HTTP request sent, awaiting response... 200 OK\n",
            "Length: 109579078 (105M) [application/zip]\n",
            "Saving to: ‘pizza_steak.zip’\n",
            "\n",
            "pizza_steak.zip     100%[===================>] 104.50M   102MB/s    in 1.0s    \n",
            "\n",
            "2021-07-15 19:05:28 (102 MB/s) - ‘pizza_steak.zip’ saved [109579078/109579078]\n",
            "\n"
          ],
          "name": "stdout"
        }
      ]
    },
    {
      "cell_type": "markdown",
      "metadata": {
        "id": "H2uEHM1Ei7HN"
      },
      "source": [
        "## Inspect the data (become one with it)\n",
        "\n",
        "A very crucial step at the beginning of any machine learning project is becoming one with the data.\n",
        "\n",
        "And for a computer vision project.... this usually means visualizing many samples of your data"
      ]
    },
    {
      "cell_type": "code",
      "metadata": {
        "colab": {
          "base_uri": "https://localhost:8080/"
        },
        "id": "sAmLTlclnLyd",
        "outputId": "bd972bef-c1f9-46d1-8675-e488e3613ae2"
      },
      "source": [
        "!ls pizza_steak/"
      ],
      "execution_count": 2,
      "outputs": [
        {
          "output_type": "stream",
          "text": [
            "test  train\n"
          ],
          "name": "stdout"
        }
      ]
    },
    {
      "cell_type": "code",
      "metadata": {
        "colab": {
          "base_uri": "https://localhost:8080/"
        },
        "id": "YrC5UTExnrFc",
        "outputId": "b7139117-13f8-43a0-a2f5-882a0c4dad36"
      },
      "source": [
        "!ls pizza_steak/train/"
      ],
      "execution_count": 3,
      "outputs": [
        {
          "output_type": "stream",
          "text": [
            "pizza  steak\n"
          ],
          "name": "stdout"
        }
      ]
    },
    {
      "cell_type": "code",
      "metadata": {
        "colab": {
          "base_uri": "https://localhost:8080/"
        },
        "id": "pZh4ovGMnz8L",
        "outputId": "bb44c422-6790-47b7-90a7-18d76ce205f7"
      },
      "source": [
        "!ls pizza_steak/train/steak"
      ],
      "execution_count": 4,
      "outputs": [
        {
          "output_type": "stream",
          "text": [
            "1000205.jpg  1647351.jpg  2238681.jpg  2824680.jpg  3375959.jpg  417368.jpg\n",
            "100135.jpg   1650002.jpg  2238802.jpg  2825100.jpg  3381560.jpg  4176.jpg\n",
            "101312.jpg   165639.jpg   2254705.jpg  2826987.jpg  3382936.jpg  42125.jpg\n",
            "1021458.jpg  1658186.jpg  225990.jpg   2832499.jpg  3386119.jpg  421476.jpg\n",
            "1032846.jpg  1658443.jpg  2260231.jpg  2832960.jpg  3388717.jpg  421561.jpg\n",
            "10380.jpg    165964.jpg   2268692.jpg  285045.jpg   3389138.jpg  438871.jpg\n",
            "1049459.jpg  167069.jpg   2271133.jpg  285147.jpg   3393547.jpg  43924.jpg\n",
            "1053665.jpg  1675632.jpg  227576.jpg   2855315.jpg  3393688.jpg  440188.jpg\n",
            "1068516.jpg  1678108.jpg  2283057.jpg  2856066.jpg  3396589.jpg  442757.jpg\n",
            "1068975.jpg  168006.jpg   2286639.jpg  2859933.jpg  339891.jpg\t 443210.jpg\n",
            "1081258.jpg  1682496.jpg  2287136.jpg  286219.jpg   3417789.jpg  444064.jpg\n",
            "1090122.jpg  1684438.jpg  2291292.jpg  2862562.jpg  3425047.jpg  444709.jpg\n",
            "1093966.jpg  168775.jpg   229323.jpg   2865730.jpg  3434983.jpg  447557.jpg\n",
            "1098844.jpg  1697339.jpg  2300534.jpg  2878151.jpg  3435358.jpg  461187.jpg\n",
            "1100074.jpg  1710569.jpg  2300845.jpg  2880035.jpg  3438319.jpg  461689.jpg\n",
            "1105280.jpg  1714605.jpg  231296.jpg   2881783.jpg  3444407.jpg  465494.jpg\n",
            "1117936.jpg  1724387.jpg  2315295.jpg  2884233.jpg  345734.jpg\t 468384.jpg\n",
            "1126126.jpg  1724717.jpg  2323132.jpg  2890573.jpg  3460673.jpg  477486.jpg\n",
            "114601.jpg   172936.jpg   2324994.jpg  2893832.jpg  3465327.jpg  482022.jpg\n",
            "1147047.jpg  1736543.jpg  2327701.jpg  2893892.jpg  3466159.jpg  482465.jpg\n",
            "1147883.jpg  1736968.jpg  2331076.jpg  2907177.jpg  3469024.jpg  483788.jpg\n",
            "1155665.jpg  1746626.jpg  233964.jpg   290850.jpg   3470083.jpg  493029.jpg\n",
            "1163977.jpg  1752330.jpg  2344227.jpg  2909031.jpg  3476564.jpg  503589.jpg\n",
            "1190233.jpg  1761285.jpg  234626.jpg   2910418.jpg  3478318.jpg  510757.jpg\n",
            "1208405.jpg  176508.jpg   234704.jpg   2912290.jpg  3488748.jpg  513129.jpg\n",
            "1209120.jpg  1772039.jpg  2357281.jpg  2916448.jpg  3492328.jpg  513842.jpg\n",
            "1212161.jpg  1777107.jpg  2361812.jpg  2916967.jpg  3518960.jpg  523535.jpg\n",
            "1213988.jpg  1787505.jpg  2365287.jpg  2927833.jpg  3522209.jpg  525041.jpg\n",
            "1219039.jpg  179293.jpg   2374582.jpg  2928643.jpg  3524429.jpg  534560.jpg\n",
            "1225762.jpg  1816235.jpg  239025.jpg   2929179.jpg  3528458.jpg  534633.jpg\n",
            "1230968.jpg  1822407.jpg  2390628.jpg  2936477.jpg  3531805.jpg  536535.jpg\n",
            "1236155.jpg  1823263.jpg  2392910.jpg  2938012.jpg  3536023.jpg  541410.jpg\n",
            "1241193.jpg  1826066.jpg  2394465.jpg  2938151.jpg  3538682.jpg  543691.jpg\n",
            "1248337.jpg  1828502.jpg  2395127.jpg  2939678.jpg  3540750.jpg  560503.jpg\n",
            "1257104.jpg  1828969.jpg  2396291.jpg  2940544.jpg  354329.jpg\t 561972.jpg\n",
            "126345.jpg   1829045.jpg  2400975.jpg  2940621.jpg  3547166.jpg  56240.jpg\n",
            "1264050.jpg  1829088.jpg  2403776.jpg  2949079.jpg  3553911.jpg  56409.jpg\n",
            "1264154.jpg  1836332.jpg  2403907.jpg  295491.jpg   3556871.jpg  564530.jpg\n",
            "1264858.jpg  1839025.jpg  240435.jpg   296268.jpg   355715.jpg\t 568972.jpg\n",
            "127029.jpg   1839481.jpg  2404695.jpg  2964732.jpg  356234.jpg\t 576725.jpg\n",
            "1289900.jpg  183995.jpg   2404884.jpg  2965021.jpg  3571963.jpg  588739.jpg\n",
            "1290362.jpg  184110.jpg   2407770.jpg  2966859.jpg  3576078.jpg  590142.jpg\n",
            "1295457.jpg  184226.jpg   2412263.jpg  2977966.jpg  3577618.jpg  60633.jpg\n",
            "1312841.jpg  1846706.jpg  2425062.jpg  2979061.jpg  3577732.jpg  60655.jpg\n",
            "1313316.jpg  1849364.jpg  2425389.jpg  2983260.jpg  3578934.jpg  606820.jpg\n",
            "1324791.jpg  1849463.jpg  2435316.jpg  2984311.jpg  358042.jpg\t 612551.jpg\n",
            "1327567.jpg  1849542.jpg  2437268.jpg  2988960.jpg  358045.jpg\t 614975.jpg\n",
            "1327667.jpg  1853564.jpg  2437843.jpg  2989882.jpg  3591821.jpg  616809.jpg\n",
            "1333055.jpg  1869467.jpg  2440131.jpg  2995169.jpg  359330.jpg\t 628628.jpg\n",
            "1334054.jpg  1870942.jpg  2443168.jpg  2996324.jpg  3601483.jpg  632427.jpg\n",
            "1335556.jpg  187303.jpg   2446660.jpg  3000131.jpg  3606642.jpg  636594.jpg\n",
            "1337814.jpg  187521.jpg   2455944.jpg  3002350.jpg  3609394.jpg  637374.jpg\n",
            "1340977.jpg  1888450.jpg  2458401.jpg  3007772.jpg  361067.jpg\t 640539.jpg\n",
            "1343209.jpg  1889336.jpg  2487306.jpg  3008192.jpg  3613455.jpg  644777.jpg\n",
            "134369.jpg   1907039.jpg  248841.jpg   3009617.jpg  3621464.jpg  644867.jpg\n",
            "1344105.jpg  1925230.jpg  2489716.jpg  3011642.jpg  3621562.jpg  658189.jpg\n",
            "134598.jpg   1927984.jpg  2490489.jpg  3020591.jpg  3621565.jpg  660900.jpg\n",
            "1346387.jpg  1930577.jpg  2495884.jpg  3030578.jpg  3623556.jpg  663014.jpg\n",
            "1348047.jpg  1937872.jpg  2495903.jpg  3047807.jpg  3640915.jpg  664545.jpg\n",
            "1351372.jpg  1941807.jpg  2499364.jpg  3059843.jpg  3643951.jpg  667075.jpg\n",
            "1362989.jpg  1942333.jpg  2500292.jpg  3074367.jpg  3653129.jpg  669180.jpg\n",
            "1367035.jpg  1945132.jpg  2509017.jpg  3082120.jpg  3656752.jpg  669960.jpg\n",
            "1371177.jpg  1961025.jpg  250978.jpg   3094354.jpg  3663518.jpg  6709.jpg\n",
            "1375640.jpg  1966300.jpg  2514432.jpg  3095301.jpg  3663800.jpg  674001.jpg\n",
            "1382427.jpg  1966967.jpg  2526838.jpg  3099645.jpg  3664376.jpg  676189.jpg\n",
            "1392718.jpg  1969596.jpg  252858.jpg   3100476.jpg  3670607.jpg  681609.jpg\n",
            "1395906.jpg  1971757.jpg  2532239.jpg  3110387.jpg  3671021.jpg  6926.jpg\n",
            "1400760.jpg  1976160.jpg  2534567.jpg  3113772.jpg  3671877.jpg  703556.jpg\n",
            "1403005.jpg  1984271.jpg  2535431.jpg  3116018.jpg  368073.jpg\t 703909.jpg\n",
            "1404770.jpg  1987213.jpg  2535456.jpg  3128952.jpg  368162.jpg\t 704316.jpg\n",
            "140832.jpg   1987639.jpg  2538000.jpg  3130412.jpg  368170.jpg\t 714298.jpg\n",
            "141056.jpg   1995118.jpg  2543081.jpg  3136.jpg     3693649.jpg  720060.jpg\n",
            "141135.jpg   1995252.jpg  2544643.jpg  313851.jpg   3700079.jpg  726083.jpg\n",
            "1413972.jpg  199754.jpg   2547797.jpg  3140083.jpg  3704103.jpg  728020.jpg\n",
            "1421393.jpg  2002400.jpg  2548974.jpg  3140147.jpg  3707493.jpg  732986.jpg\n",
            "1428947.jpg  2011264.jpg  2549316.jpg  3142045.jpg  3716881.jpg  734445.jpg\n",
            "1433912.jpg  2012996.jpg  2561199.jpg  3142618.jpg  3724677.jpg  735441.jpg\n",
            "143490.jpg   2013535.jpg  2563233.jpg  3142674.jpg  3727036.jpg  740090.jpg\n",
            "1445352.jpg  2017387.jpg  256592.jpg   3143192.jpg  3727491.jpg  745189.jpg\n",
            "1446401.jpg  2018173.jpg  2568848.jpg  314359.jpg   3736065.jpg  752203.jpg\n",
            "1453991.jpg  2020613.jpg  2573392.jpg  3157832.jpg  37384.jpg\t 75537.jpg\n",
            "1456841.jpg  2032669.jpg  2592401.jpg  3159818.jpg  3743286.jpg  756655.jpg\n",
            "146833.jpg   203450.jpg   2599817.jpg  3162376.jpg  3745515.jpg  762210.jpg\n",
            "1476404.jpg  2034628.jpg  2603058.jpg  3168620.jpg  3750472.jpg  763690.jpg\n",
            "1485083.jpg  2036920.jpg  2606444.jpg  3171085.jpg  3752362.jpg  767442.jpg\n",
            "1487113.jpg  2038418.jpg  2614189.jpg  317206.jpg   3766099.jpg  786409.jpg\n",
            "148916.jpg   2042975.jpg  2614649.jpg  3173444.jpg  3770370.jpg  80215.jpg\n",
            "149087.jpg   2045647.jpg  2615718.jpg  3180182.jpg  377190.jpg\t 802348.jpg\n",
            "1493169.jpg  2050584.jpg  2619625.jpg  31881.jpg    3777020.jpg  804684.jpg\n",
            "149682.jpg   2052542.jpg  2622140.jpg  3191589.jpg  3777482.jpg  812163.jpg\n",
            "1508094.jpg  2056627.jpg  262321.jpg   3204977.jpg  3781152.jpg  813486.jpg\n",
            "1512226.jpg  2062248.jpg  2625330.jpg  320658.jpg   3787809.jpg  819027.jpg\n",
            "1512347.jpg  2081995.jpg  2628106.jpg  3209173.jpg  3788729.jpg  822550.jpg\n",
            "1524526.jpg  2087958.jpg  2629750.jpg  3223400.jpg  3790962.jpg  823766.jpg\n",
            "1530833.jpg  2088030.jpg  2643906.jpg  3223601.jpg  3792514.jpg  827764.jpg\n",
            "1539499.jpg  2088195.jpg  2644457.jpg  3241894.jpg  379737.jpg\t 830007.jpg\n",
            "1541672.jpg  2090493.jpg  2648423.jpg  3245533.jpg  3807440.jpg  838344.jpg\n",
            "1548239.jpg  2090504.jpg  2651300.jpg  3245622.jpg  381162.jpg\t 853327.jpg\n",
            "1550997.jpg  2125877.jpg  2653594.jpg  3247009.jpg  3812039.jpg  854150.jpg\n",
            "1552530.jpg  2129685.jpg  2661577.jpg  3253588.jpg  3829392.jpg  864997.jpg\n",
            "15580.jpg    2133717.jpg  2668916.jpg  3260624.jpg  3830872.jpg  885571.jpg\n",
            "1559052.jpg  2136662.jpg  268444.jpg   326587.jpg   38442.jpg\t 907107.jpg\n",
            "1563266.jpg  213765.jpg   2691461.jpg  32693.jpg    3855584.jpg  908261.jpg\n",
            "1567554.jpg  2138335.jpg  2706403.jpg  3271253.jpg  3857508.jpg  910672.jpg\n",
            "1575322.jpg  2140776.jpg  270687.jpg   3274423.jpg  386335.jpg\t 911803.jpg\n",
            "1588879.jpg  214320.jpg   2707522.jpg  3280453.jpg  3867460.jpg  91432.jpg\n",
            "1594719.jpg  2146963.jpg  2711806.jpg  3298495.jpg  3868959.jpg  914570.jpg\n",
            "1595869.jpg  215222.jpg   2716993.jpg  330182.jpg   3869679.jpg  922752.jpg\n",
            "1598345.jpg  2154126.jpg  2724554.jpg  3306627.jpg  388776.jpg\t 923772.jpg\n",
            "1598885.jpg  2154779.jpg  2738227.jpg  3315727.jpg  3890465.jpg  926414.jpg\n",
            "1600179.jpg  2159975.jpg  2748917.jpg  331860.jpg   3894222.jpg  931356.jpg\n",
            "1600794.jpg  2163079.jpg  2760475.jpg  332232.jpg   3895825.jpg  937133.jpg\n",
            "160552.jpg   217250.jpg   2761427.jpg  3322909.jpg  389739.jpg\t 945791.jpg\n",
            "1606596.jpg  2172600.jpg  2765887.jpg  332557.jpg   3916407.jpg  947877.jpg\n",
            "1615395.jpg  2173084.jpg  2768451.jpg  3326734.jpg  393349.jpg\t 952407.jpg\n",
            "1618011.jpg  217996.jpg   2771149.jpg  3330642.jpg  393494.jpg\t 952437.jpg\n",
            "1619357.jpg  2193684.jpg  2779040.jpg  3333128.jpg  398288.jpg\t 955466.jpg\n",
            "1621763.jpg  220341.jpg   2788312.jpg  3333735.jpg  40094.jpg\t 9555.jpg\n",
            "1623325.jpg  22080.jpg\t  2788759.jpg  3334973.jpg  401094.jpg\t 961341.jpg\n",
            "1624450.jpg  2216146.jpg  2796102.jpg  3335013.jpg  401144.jpg\t 97656.jpg\n",
            "1624747.jpg  2222018.jpg  280284.jpg   3335267.jpg  401651.jpg\t 979110.jpg\n",
            "1628861.jpg  2223787.jpg  2807888.jpg  3346787.jpg  405173.jpg\t 980247.jpg\n",
            "1632774.jpg  2230959.jpg  2815172.jpg  3364420.jpg  405794.jpg\t 982988.jpg\n",
            "1636831.jpg  2232310.jpg  2818805.jpg  336637.jpg   40762.jpg\t 987732.jpg\n",
            "1645470.jpg  2233395.jpg  2823872.jpg  3372616.jpg  413325.jpg\t 996684.jpg\n"
          ],
          "name": "stdout"
        }
      ]
    },
    {
      "cell_type": "code",
      "metadata": {
        "colab": {
          "base_uri": "https://localhost:8080/"
        },
        "id": "US-Kyv3On710",
        "outputId": "72a00a67-d890-4b4a-fd62-8c36ad0f0fe1"
      },
      "source": [
        "import os\n",
        "\n",
        "# Walk through pizza_steak directory and list number of files\n",
        "for dirpath, dirnames, filenames in os.walk(\"pizza_steak\"):\n",
        "  print(f\"There are {len(dirnames)} directories or folders and {len(filenames)} images in '{dirpath}'.\")\n"
      ],
      "execution_count": 5,
      "outputs": [
        {
          "output_type": "stream",
          "text": [
            "There are 2 directories or folders and 1 images in 'pizza_steak'.\n",
            "There are 2 directories or folders and 1 images in 'pizza_steak/test'.\n",
            "There are 0 directories or folders and 250 images in 'pizza_steak/test/steak'.\n",
            "There are 0 directories or folders and 250 images in 'pizza_steak/test/pizza'.\n",
            "There are 2 directories or folders and 1 images in 'pizza_steak/train'.\n",
            "There are 0 directories or folders and 750 images in 'pizza_steak/train/steak'.\n",
            "There are 0 directories or folders and 750 images in 'pizza_steak/train/pizza'.\n"
          ],
          "name": "stdout"
        }
      ]
    },
    {
      "cell_type": "code",
      "metadata": {
        "colab": {
          "base_uri": "https://localhost:8080/"
        },
        "id": "ESDrPw49o7Zx",
        "outputId": "3868ec67-1859-455b-eed8-dabc343b85cd"
      },
      "source": [
        "# The extra file in our pizza_steak directory is \".DS_Store\"\n",
        "!ls -la pizza_steak"
      ],
      "execution_count": 6,
      "outputs": [
        {
          "output_type": "stream",
          "text": [
            "total 24\n",
            "drwxr-xr-x 4 root root 4096 Jul 15 19:05 .\n",
            "drwxr-xr-x 1 root root 4096 Jul 15 19:05 ..\n",
            "-rw-r--r-- 1 root root 6148 Jul 15 19:05 .DS_Store\n",
            "drwxr-xr-x 4 root root 4096 Jul 15 19:05 test\n",
            "drwxr-xr-x 4 root root 4096 Jul 15 19:05 train\n"
          ],
          "name": "stdout"
        }
      ]
    },
    {
      "cell_type": "code",
      "metadata": {
        "colab": {
          "base_uri": "https://localhost:8080/"
        },
        "id": "UJ2c4oH0pcF-",
        "outputId": "b7cec25f-f68e-42c0-f181-ca400735ee85"
      },
      "source": [
        "# Another way to find out how many images are in a file\n",
        "num_steak_images_train = len(os.listdir(\"pizza_steak/train/steak\"))\n",
        "\n",
        "num_steak_images_train"
      ],
      "execution_count": 7,
      "outputs": [
        {
          "output_type": "execute_result",
          "data": {
            "text/plain": [
              "750"
            ]
          },
          "metadata": {
            "tags": []
          },
          "execution_count": 7
        }
      ]
    },
    {
      "cell_type": "markdown",
      "metadata": {
        "id": "s-QmSCgnruv2"
      },
      "source": [
        "To visualize our images, first let's get the class names programatically."
      ]
    },
    {
      "cell_type": "code",
      "metadata": {
        "colab": {
          "base_uri": "https://localhost:8080/"
        },
        "id": "I2SdcntWreti",
        "outputId": "87c87fa0-db61-463c-d8bc-1f0156ecef92"
      },
      "source": [
        "# Get the classnames programatically\n",
        "import pathlib\n",
        "import numpy as np\n",
        "data_dir = pathlib.Path(\"pizza_steak/train\")\n",
        "print(data_dir)\n",
        "class_names = np.array(sorted([item.name for item in data_dir.glob(\"*\")])) # Created a list of class_names from the subdirectories\n",
        "class_names = class_names[1:] # removes .DS_Store\n",
        "print(class_names)"
      ],
      "execution_count": 8,
      "outputs": [
        {
          "output_type": "stream",
          "text": [
            "pizza_steak/train\n",
            "['pizza' 'steak']\n"
          ],
          "name": "stdout"
        }
      ]
    },
    {
      "cell_type": "code",
      "metadata": {
        "id": "s4YOCv86tGh6"
      },
      "source": [
        "# Let's visualize our images\n",
        "import matplotlib.pyplot as plt\n",
        "import matplotlib.image as mpimg\n",
        "import random\n",
        "\n",
        "def view_random_image(target_dir, target_class):\n",
        "  # Set up the target directory (we'll view images from here)\n",
        "  target_folder = target_dir+target_class\n",
        "  print(target_folder)\n",
        "\n",
        "  # Get a random image path\n",
        "  random_image = random.sample(os.listdir(target_folder),1)\n",
        "  print(random_image)\n",
        "  print(target_folder + \"/\" + random_image[0])\n",
        "\n",
        "  # Read in the image and plot it using matplotlib\n",
        "  img = mpimg.imread(target_folder + \"/\" + random_image[0])\n",
        "  plt.imshow(img)\n",
        "  plt.title(target_class)\n",
        "  plt.axis(\"off\")\n",
        "\n",
        "  print(f\"Image shape: {img.shape}\") # show the shape of the image\n",
        "\n",
        "  return img\n"
      ],
      "execution_count": 9,
      "outputs": []
    },
    {
      "cell_type": "code",
      "metadata": {
        "colab": {
          "base_uri": "https://localhost:8080/",
          "height": 332
        },
        "id": "EKkITSDCxNC1",
        "outputId": "f6a34327-6fdd-4b7b-fd68-d15dd0b295f9"
      },
      "source": [
        "# View a random_image from the training dataset\n",
        "img = view_random_image(target_dir = \"pizza_steak/train/\",\n",
        "                        target_class = \"pizza\")"
      ],
      "execution_count": 10,
      "outputs": [
        {
          "output_type": "stream",
          "text": [
            "pizza_steak/train/pizza\n",
            "['1912976.jpg']\n",
            "pizza_steak/train/pizza/1912976.jpg\n",
            "Image shape: (512, 512, 3)\n"
          ],
          "name": "stdout"
        },
        {
          "output_type": "display_data",
          "data": {
            "image/png": "[encoded data removed]",
            "text/plain": [
              "<Figure size 432x288 with 1 Axes>"
            ]
          },
          "metadata": {
            "tags": [],
            "needs_background": "light"
          }
        }
      ]
    },
    {
      "cell_type": "code",
      "metadata": {
        "colab": {
          "base_uri": "https://localhost:8080/"
        },
        "id": "YWpKEcRsxnRM",
        "outputId": "dd27f71e-6044-4b04-e90e-50d86bd3cbb5"
      },
      "source": [
        "# The images we've imported and plotted are actually giant arrays/tensors of diferent pixel values.\n",
        "import tensorflow as tf\n",
        "tf.constant(img)"
      ],
      "execution_count": 11,
      "outputs": [
        {
          "output_type": "execute_result",
          "data": {
            "text/plain": [
              "<tf.Tensor: shape=(512, 512, 3), dtype=uint8, numpy=\n",
              "array([[[135,  51,  15],\n",
              "        [138,  54,  18],\n",
              "        [136,  52,  16],\n",
              "        ...,\n",
              "        [166, 112,  16],\n",
              "        [160, 106,  10],\n",
              "        [151,  97,   1]],\n",
              "\n",
              "       [[133,  50,  16],\n",
              "        [133,  50,  16],\n",
              "        [131,  47,  13],\n",
              "        ...,\n",
              "        [168, 115,  19],\n",
              "        [164, 111,  15],\n",
              "        [158, 105,   9]],\n",
              "\n",
              "       [[124,  45,  12],\n",
              "        [123,  44,  11],\n",
              "        [124,  44,  11],\n",
              "        ...,\n",
              "        [159, 109,  14],\n",
              "        [152, 102,   7],\n",
              "        [150, 100,   5]],\n",
              "\n",
              "       ...,\n",
              "\n",
              "       [[115,  44,  24],\n",
              "        [112,  41,  21],\n",
              "        [117,  46,  24],\n",
              "        ...,\n",
              "        [ 62,  33,  19],\n",
              "        [ 68,  38,  27],\n",
              "        [ 67,  37,  26]],\n",
              "\n",
              "       [[102,  31,  11],\n",
              "        [103,  32,  12],\n",
              "        [113,  42,  20],\n",
              "        ...,\n",
              "        [ 70,  41,  27],\n",
              "        [ 72,  42,  31],\n",
              "        [ 66,  36,  25]],\n",
              "\n",
              "       [[103,  30,  11],\n",
              "        [105,  34,  14],\n",
              "        [118,  47,  25],\n",
              "        ...,\n",
              "        [ 76,  47,  33],\n",
              "        [ 73,  44,  30],\n",
              "        [ 63,  33,  22]]], dtype=uint8)>"
            ]
          },
          "metadata": {
            "tags": []
          },
          "execution_count": 11
        }
      ]
    },
    {
      "cell_type": "code",
      "metadata": {
        "colab": {
          "base_uri": "https://localhost:8080/"
        },
        "id": "Tc3cN--M1FBN",
        "outputId": "007f5f3d-13dc-4c49-a34f-1987a76f1079"
      },
      "source": [
        "# View the image shape\n",
        "img.shape # returns width,height,color-channels"
      ],
      "execution_count": 12,
      "outputs": [
        {
          "output_type": "execute_result",
          "data": {
            "text/plain": [
              "(512, 512, 3)"
            ]
          },
          "metadata": {
            "tags": []
          },
          "execution_count": 12
        }
      ]
    },
    {
      "cell_type": "markdown",
      "metadata": {
        "id": "ZT67yWLzT4iJ"
      },
      "source": [
        "**Note:** As we've discussed before, many machine learning models, including neural networks prefer the values they work with to be between 0 and 1. Knowing this, one of the most common preprocessing steps for working with images is to **scale** (also reffered to as **Normalize**) their pixel values by dividing the image arrays by 225. (since 255 is the maximum pixel value."
      ]
    },
    {
      "cell_type": "code",
      "metadata": {
        "colab": {
          "base_uri": "https://localhost:8080/"
        },
        "id": "XKvMZS9w2FEk",
        "outputId": "23f479b6-bddf-49e1-c924-a8acd4ce9aae"
      },
      "source": [
        "# Get all the pixel values between 0 and 1\n",
        "img/255"
      ],
      "execution_count": 13,
      "outputs": [
        {
          "output_type": "execute_result",
          "data": {
            "text/plain": [
              "array([[[0.52941176, 0.2       , 0.05882353],\n",
              "        [0.54117647, 0.21176471, 0.07058824],\n",
              "        [0.53333333, 0.20392157, 0.0627451 ],\n",
              "        ...,\n",
              "        [0.65098039, 0.43921569, 0.0627451 ],\n",
              "        [0.62745098, 0.41568627, 0.03921569],\n",
              "        [0.59215686, 0.38039216, 0.00392157]],\n",
              "\n",
              "       [[0.52156863, 0.19607843, 0.0627451 ],\n",
              "        [0.52156863, 0.19607843, 0.0627451 ],\n",
              "        [0.51372549, 0.18431373, 0.05098039],\n",
              "        ...,\n",
              "        [0.65882353, 0.45098039, 0.0745098 ],\n",
              "        [0.64313725, 0.43529412, 0.05882353],\n",
              "        [0.61960784, 0.41176471, 0.03529412]],\n",
              "\n",
              "       [[0.48627451, 0.17647059, 0.04705882],\n",
              "        [0.48235294, 0.17254902, 0.04313725],\n",
              "        [0.48627451, 0.17254902, 0.04313725],\n",
              "        ...,\n",
              "        [0.62352941, 0.42745098, 0.05490196],\n",
              "        [0.59607843, 0.4       , 0.02745098],\n",
              "        [0.58823529, 0.39215686, 0.01960784]],\n",
              "\n",
              "       ...,\n",
              "\n",
              "       [[0.45098039, 0.17254902, 0.09411765],\n",
              "        [0.43921569, 0.16078431, 0.08235294],\n",
              "        [0.45882353, 0.18039216, 0.09411765],\n",
              "        ...,\n",
              "        [0.24313725, 0.12941176, 0.0745098 ],\n",
              "        [0.26666667, 0.14901961, 0.10588235],\n",
              "        [0.2627451 , 0.14509804, 0.10196078]],\n",
              "\n",
              "       [[0.4       , 0.12156863, 0.04313725],\n",
              "        [0.40392157, 0.1254902 , 0.04705882],\n",
              "        [0.44313725, 0.16470588, 0.07843137],\n",
              "        ...,\n",
              "        [0.2745098 , 0.16078431, 0.10588235],\n",
              "        [0.28235294, 0.16470588, 0.12156863],\n",
              "        [0.25882353, 0.14117647, 0.09803922]],\n",
              "\n",
              "       [[0.40392157, 0.11764706, 0.04313725],\n",
              "        [0.41176471, 0.13333333, 0.05490196],\n",
              "        [0.4627451 , 0.18431373, 0.09803922],\n",
              "        ...,\n",
              "        [0.29803922, 0.18431373, 0.12941176],\n",
              "        [0.28627451, 0.17254902, 0.11764706],\n",
              "        [0.24705882, 0.12941176, 0.08627451]]])"
            ]
          },
          "metadata": {
            "tags": []
          },
          "execution_count": 13
        }
      ]
    },
    {
      "cell_type": "markdown",
      "metadata": {
        "id": "uBCo3d8O2qrS"
      },
      "source": [
        "## An end-to-end example\n",
        "\n",
        "Let's build a convolutional neural network to find pattern in our images, more specifically we'll need a way to:\n",
        "\n",
        "* Load our images\n",
        "* Preprocess our images\n",
        "* Build a CNN to find patterns in our images\n",
        "* Compile our CNN\n",
        "* Fit the CNN to our training data"
      ]
    },
    {
      "cell_type": "code",
      "metadata": {
        "colab": {
          "base_uri": "https://localhost:8080/"
        },
        "id": "lFKGU8zNVCD3",
        "outputId": "6236a864-cfdf-4d3f-b778-e59d3caa5105"
      },
      "source": [
        "import tensorflow as tf\n",
        "from tensorflow.keras.preprocessing.image import ImageDataGenerator\n",
        "\n",
        "# Set the seed\n",
        "tf.random.set_seed(42)\n",
        "\n",
        "# Preprocess data (get all of the pixel values between 0 & 1, also called Scaling/Normalization)\n",
        "train_datagen = ImageDataGenerator(rescale = 1./255)\n",
        "valid_datagen = ImageDataGenerator(rescale = 1./255)\n",
        "\n",
        "# Setup paths to data directories\n",
        "train_dir = \"/content/pizza_steak/train\"\n",
        "valid_dir = \"/content/pizza_steak/test\"\n",
        "\n",
        "# Import data from directories and turn it into batches\n",
        "train_data = train_datagen.flow_from_directory(directory = train_dir,\n",
        "                                               batch_size = 32,\n",
        "                                               target_size = (224,224),\n",
        "                                               class_mode = \"binary\",\n",
        "                                               seed = 42)\n",
        "valid_data = valid_datagen.flow_from_directory(directory = valid_dir,\n",
        "                                               batch_size = 32,\n",
        "                                               target_size = (224,224),\n",
        "                                               class_mode = \"binary\",\n",
        "                                               seed = 42)\n",
        "\n",
        "# Build a CNN model (same as tiny VGG on the CNN expainer website)\n",
        "\n",
        "model_1 = tf.keras.models.Sequential([\n",
        "  tf.keras.layers.Conv2D(filters = 10,\n",
        "                         kernel_size = 3,\n",
        "                         activation = \"relu\",\n",
        "                         input_shape = (224,224,3)),\n",
        "  tf.keras.layers.Conv2D(10,3,activation = \"relu\"),\n",
        "  tf.keras.layers.MaxPool2D(pool_size = 2,\n",
        "                            padding = \"valid\"),\n",
        "  tf.keras.layers.Conv2D(10,3,activation=\"relu\"),\n",
        "  tf.keras.layers.Conv2D(10,3,activation=\"relu\"),\n",
        "  # tf.keras.layers.Activations(tf.nn.relu),\n",
        "  tf.keras.layers.MaxPool2D(2),\n",
        "  tf.keras.layers.Flatten(),\n",
        "  tf.keras.layers.Dense(1, activation = \"sigmoid\")])\n",
        "\n",
        "# Compile the model\n",
        "model_1.compile(\n",
        "    loss = tf.keras.losses.BinaryCrossentropy(),\n",
        "    optimizer = tf.keras.optimizers.Adam(),\n",
        "    metrics = [\"accuracy\"]\n",
        ")\n",
        "\n",
        "# Fit the model\n",
        "history_1 = model_1.fit(train_data,\n",
        "                        epochs = 5,\n",
        "                        steps_per_epoch = len(train_data),\n",
        "                        validation_data = valid_data,\n",
        "                        validation_steps = len(valid_data))"
      ],
      "execution_count": 14,
      "outputs": [
        {
          "output_type": "stream",
          "text": [
            "Found 1500 images belonging to 2 classes.\n",
            "Found 500 images belonging to 2 classes.\n",
            "Epoch 1/5\n",
            "47/47 [==============================] - 41s 198ms/step - loss: 0.6002 - accuracy: 0.6740 - val_loss: 0.4031 - val_accuracy: 0.8300\n",
            "Epoch 2/5\n",
            "47/47 [==============================] - 9s 185ms/step - loss: 0.4152 - accuracy: 0.8153 - val_loss: 0.3234 - val_accuracy: 0.8660\n",
            "Epoch 3/5\n",
            "47/47 [==============================] - 9s 184ms/step - loss: 0.3888 - accuracy: 0.8293 - val_loss: 0.3500 - val_accuracy: 0.8440\n",
            "Epoch 4/5\n",
            "47/47 [==============================] - 9s 184ms/step - loss: 0.3623 - accuracy: 0.8493 - val_loss: 0.3018 - val_accuracy: 0.8740\n",
            "Epoch 5/5\n",
            "47/47 [==============================] - 9s 184ms/step - loss: 0.3164 - accuracy: 0.8667 - val_loss: 0.2764 - val_accuracy: 0.8760\n"
          ],
          "name": "stdout"
        }
      ]
    },
    {
      "cell_type": "markdown",
      "metadata": {
        "id": "hKgTew-TfWxn"
      },
      "source": [
        "> **Note:** If the above cell is taking longer than ~10 seconds per epoch, make sure you're using a GPU by going to Runtime -> Change Runtime Type -> Hardware Accelerator -> GPU (you may have to rerun some cells above).\n",
        "\n",
        "**Exercise:** Go through the CNN explainer website for  minimum of 10 minutes and compare our neural network with theirs:\n",
        "https://poloclub.github.io/cnn-explainer/"
      ]
    },
    {
      "cell_type": "code",
      "metadata": {
        "colab": {
          "base_uri": "https://localhost:8080/"
        },
        "id": "S9jzNmVoAIPi",
        "outputId": "2bf8bccd-2c7f-427b-c63c-fc651e7c1b5a"
      },
      "source": [
        "# Get a model summary\n",
        "model_1.summary()"
      ],
      "execution_count": 15,
      "outputs": [
        {
          "output_type": "stream",
          "text": [
            "Model: \"sequential\"\n",
            "_________________________________________________________________\n",
            "Layer (type)                 Output Shape              Param #   \n",
            "=================================================================\n",
            "conv2d (Conv2D)              (None, 222, 222, 10)      280       \n",
            "_________________________________________________________________\n",
            "conv2d_1 (Conv2D)            (None, 220, 220, 10)      910       \n",
            "_________________________________________________________________\n",
            "max_pooling2d (MaxPooling2D) (None, 110, 110, 10)      0         \n",
            "_________________________________________________________________\n",
            "conv2d_2 (Conv2D)            (None, 108, 108, 10)      910       \n",
            "_________________________________________________________________\n",
            "conv2d_3 (Conv2D)            (None, 106, 106, 10)      910       \n",
            "_________________________________________________________________\n",
            "max_pooling2d_1 (MaxPooling2 (None, 53, 53, 10)        0         \n",
            "_________________________________________________________________\n",
            "flatten (Flatten)            (None, 28090)             0         \n",
            "_________________________________________________________________\n",
            "dense (Dense)                (None, 1)                 28091     \n",
            "=================================================================\n",
            "Total params: 31,101\n",
            "Trainable params: 31,101\n",
            "Non-trainable params: 0\n",
            "_________________________________________________________________\n"
          ],
          "name": "stdout"
        }
      ]
    },
    {
      "cell_type": "markdown",
      "metadata": {
        "id": "YdLBhz8SAIBE"
      },
      "source": [
        "## Using the same model as before\n",
        "\n",
        "Let's replicate the model we've built in a previous section to see if it works with our image data.\n",
        "\n",
        "The model we're building is from the [Tensorflow Playground](https://playground.tensorflow.org)"
      ]
    },
    {
      "cell_type": "code",
      "metadata": {
        "colab": {
          "base_uri": "https://localhost:8080/"
        },
        "id": "PweuT9miCBPL",
        "outputId": "7e2b281f-c7a5-47af-d550-f43c07858904"
      },
      "source": [
        "# Set random seed\n",
        "tf.random.set_seed(42)\n",
        "\n",
        "# Create a model to replicate the tensorflow playground model\n",
        "model_2 = tf.keras.Sequential([\n",
        "  tf.keras.layers.Flatten(input_shape = (224,224,3)),\n",
        "  tf.keras.layers.Dense(4, activation = \"relu\"),\n",
        "  tf.keras.layers.Dense(4, activation = \"relu\"),\n",
        "  tf.keras.layers.Dense(1, activation = \"sigmoid\")\n",
        "])\n",
        "\n",
        "\n",
        "# Compile the model\n",
        "model_2.compile(\n",
        "    loss = tf.keras.losses.BinaryCrossentropy(),\n",
        "    optimizer = tf.keras.optimizers.Adam(),\n",
        "    metrics = [\"accuracy\"]\n",
        ")\n",
        "\n",
        "# Fit the model\n",
        "history_2 = model_2.fit(train_data,\n",
        "                        epochs=5,\n",
        "                        steps_per_epoch = len(train_data),\n",
        "                        validation_data= valid_data,\n",
        "                        validation_steps = len(valid_data))"
      ],
      "execution_count": 16,
      "outputs": [
        {
          "output_type": "stream",
          "text": [
            "Epoch 1/5\n",
            "47/47 [==============================] - 9s 175ms/step - loss: 0.9838 - accuracy: 0.4993 - val_loss: 0.6932 - val_accuracy: 0.5000\n",
            "Epoch 2/5\n",
            "47/47 [==============================] - 8s 172ms/step - loss: 0.6932 - accuracy: 0.5000 - val_loss: 0.6932 - val_accuracy: 0.5000\n",
            "Epoch 3/5\n",
            "47/47 [==============================] - 8s 171ms/step - loss: 0.6932 - accuracy: 0.5000 - val_loss: 0.6932 - val_accuracy: 0.5000\n",
            "Epoch 4/5\n",
            "47/47 [==============================] - 8s 171ms/step - loss: 0.6932 - accuracy: 0.5000 - val_loss: 0.6932 - val_accuracy: 0.5000\n",
            "Epoch 5/5\n",
            "47/47 [==============================] - 8s 170ms/step - loss: 0.6932 - accuracy: 0.5000 - val_loss: 0.6932 - val_accuracy: 0.5000\n"
          ],
          "name": "stdout"
        }
      ]
    },
    {
      "cell_type": "code",
      "metadata": {
        "colab": {
          "base_uri": "https://localhost:8080/"
        },
        "id": "9Ov_yh3OEEKu",
        "outputId": "11772088-7632-40c5-8395-83ea7ca195b5"
      },
      "source": [
        "# Get a summary of model_2\n",
        "model_2.summary()"
      ],
      "execution_count": 17,
      "outputs": [
        {
          "output_type": "stream",
          "text": [
            "Model: \"sequential_1\"\n",
            "_________________________________________________________________\n",
            "Layer (type)                 Output Shape              Param #   \n",
            "=================================================================\n",
            "flatten_1 (Flatten)          (None, 150528)            0         \n",
            "_________________________________________________________________\n",
            "dense_1 (Dense)              (None, 4)                 602116    \n",
            "_________________________________________________________________\n",
            "dense_2 (Dense)              (None, 4)                 20        \n",
            "_________________________________________________________________\n",
            "dense_3 (Dense)              (None, 1)                 5         \n",
            "=================================================================\n",
            "Total params: 602,141\n",
            "Trainable params: 602,141\n",
            "Non-trainable params: 0\n",
            "_________________________________________________________________\n"
          ],
          "name": "stdout"
        }
      ]
    },
    {
      "cell_type": "markdown",
      "metadata": {
        "id": "z106jqezE-qG"
      },
      "source": [
        "Despite having 20X more parameters than our CNN model(model_1), model_2 performs terribly... let's try to improve it.\n"
      ]
    },
    {
      "cell_type": "code",
      "metadata": {
        "colab": {
          "base_uri": "https://localhost:8080/"
        },
        "id": "PZTP59FCErfM",
        "outputId": "4c051432-ed50-4b5a-def7-c95db5e91909"
      },
      "source": [
        "# Set random seed\n",
        "tf.random.set_seed(42)\n",
        "\n",
        "# Create the model (same as above but let's step it up a notch)\n",
        "model_3 = tf.keras.Sequential([\n",
        "  tf.keras.layers.Flatten(input_shape = (224,224,3)),\n",
        "  tf.keras.layers.Dense(100, activation = \"relu\"),\n",
        "  tf.keras.layers.Dense(100, activation = \"relu\"),\n",
        "  tf.keras.layers.Dense(100, activation = \"relu\"),\n",
        "  tf.keras.layers.Dense(1, activation = \"sigmoid\")\n",
        "])\n",
        "\n",
        "# Compile the model\n",
        "model_3.compile(\n",
        "    loss = \"binary_crossentropy\",\n",
        "    optimizer = \"Adam\",\n",
        "    metrics = [\"accuracy\"]\n",
        ")\n",
        "\n",
        "# Fit the model\n",
        "history_3 = model_3.fit(train_data,\n",
        "                        epochs = 5,\n",
        "                        steps_per_epoch = len(train_data),\n",
        "                        validation_data = valid_data,\n",
        "                        validation_steps = len(valid_data))"
      ],
      "execution_count": 18,
      "outputs": [
        {
          "output_type": "stream",
          "text": [
            "Epoch 1/5\n",
            "47/47 [==============================] - 9s 177ms/step - loss: 5.3515 - accuracy: 0.5873 - val_loss: 1.8765 - val_accuracy: 0.6440\n",
            "Epoch 2/5\n",
            "47/47 [==============================] - 8s 170ms/step - loss: 1.0168 - accuracy: 0.6947 - val_loss: 1.2145 - val_accuracy: 0.6600\n",
            "Epoch 3/5\n",
            "47/47 [==============================] - 8s 171ms/step - loss: 0.7463 - accuracy: 0.7193 - val_loss: 0.4795 - val_accuracy: 0.7560\n",
            "Epoch 4/5\n",
            "47/47 [==============================] - 8s 173ms/step - loss: 0.5306 - accuracy: 0.7553 - val_loss: 0.5089 - val_accuracy: 0.7680\n",
            "Epoch 5/5\n",
            "47/47 [==============================] - 8s 173ms/step - loss: 0.4989 - accuracy: 0.7787 - val_loss: 0.4992 - val_accuracy: 0.7580\n"
          ],
          "name": "stdout"
        }
      ]
    },
    {
      "cell_type": "code",
      "metadata": {
        "colab": {
          "base_uri": "https://localhost:8080/"
        },
        "id": "2w9qWcDoG0xj",
        "outputId": "0d9ba82c-64d6-4439-f5da-f7c15d37c0d8"
      },
      "source": [
        "# Get a summary of model_3\n",
        "model_3.summary()"
      ],
      "execution_count": 19,
      "outputs": [
        {
          "output_type": "stream",
          "text": [
            "Model: \"sequential_2\"\n",
            "_________________________________________________________________\n",
            "Layer (type)                 Output Shape              Param #   \n",
            "=================================================================\n",
            "flatten_2 (Flatten)          (None, 150528)            0         \n",
            "_________________________________________________________________\n",
            "dense_4 (Dense)              (None, 100)               15052900  \n",
            "_________________________________________________________________\n",
            "dense_5 (Dense)              (None, 100)               10100     \n",
            "_________________________________________________________________\n",
            "dense_6 (Dense)              (None, 100)               10100     \n",
            "_________________________________________________________________\n",
            "dense_7 (Dense)              (None, 1)                 101       \n",
            "=================================================================\n",
            "Total params: 15,073,201\n",
            "Trainable params: 15,073,201\n",
            "Non-trainable params: 0\n",
            "_________________________________________________________________\n"
          ],
          "name": "stdout"
        }
      ]
    },
    {
      "cell_type": "code",
      "metadata": {
        "colab": {
          "base_uri": "https://localhost:8080/"
        },
        "id": "7Ba4WivwICxi",
        "outputId": "9da1afe8-84f2-447c-d5db-8e294290b85f"
      },
      "source": [
        "15000000/31000"
      ],
      "execution_count": 20,
      "outputs": [
        {
          "output_type": "execute_result",
          "data": {
            "text/plain": [
              "483.8709677419355"
            ]
          },
          "metadata": {
            "tags": []
          },
          "execution_count": 20
        }
      ]
    },
    {
      "cell_type": "markdown",
      "metadata": {
        "id": "aDujn2otIbQh"
      },
      "source": [
        "**Note:** You can think of trainable parameters as **patterns a model can learn from data**. Intuitively, you might think more is better. And in lots of cases, it is. But in this case, the difference here is the two different styles of models we're using. Where a series of dense layers which has a number of different learnable parameters connected to each other and hence a higher number of possible learnable patterns, **a convolutional neural network seeks to sort out and learn the most important patterns in an image**. So even though these are less learnable parameters in our convolutional neural network, these are often more helpful in deciphering between different **features** in an image."
      ]
    },
    {
      "cell_type": "markdown",
      "metadata": {
        "id": "zT9ScroHl70M"
      },
      "source": [
        "## Binary Classification: Let's break it down\n",
        "\n",
        "1. Become one with the data (visualize, visualize, visualize).\n",
        "2. Preprocess the data (prepared it for our model, the main step here was scaling/normalizing and turning our data into batches).\n",
        "3. Created a model (started with a baseline).\n",
        "4. Fit the model.\n",
        "5. Evaluate the model.\n",
        "6. Adjust different parameters and improve the model (try to beat our baseline).\n",
        "7. Repeat until satisfied (experiment, experiment, experiment)."
      ]
    },
    {
      "cell_type": "markdown",
      "metadata": {
        "id": "Of6qXM9un9fL"
      },
      "source": [
        "### 1. Become one with the data"
      ]
    },
    {
      "cell_type": "code",
      "metadata": {
        "colab": {
          "base_uri": "https://localhost:8080/",
          "height": 335
        },
        "id": "0F9qOA-3njp4",
        "outputId": "cbdc97bb-9322-4dce-9e98-27d5419da4f7"
      },
      "source": [
        "#  Visualize data\n",
        "plt.figure()\n",
        "plt.subplot(1,2,1)\n",
        "steak_img = view_random_image(\"pizza_steak/train/\", \"steak\")\n",
        "plt.subplot(1,2,2)\n",
        "pizza_img = view_random_image(\"pizza_steak/train/\", \"pizza\")"
      ],
      "execution_count": 25,
      "outputs": [
        {
          "output_type": "stream",
          "text": [
            "pizza_steak/train/steak\n",
            "['22080.jpg']\n",
            "pizza_steak/train/steak/22080.jpg\n",
            "Image shape: (342, 512, 3)\n",
            "pizza_steak/train/pizza\n",
            "['608085.jpg']\n",
            "pizza_steak/train/pizza/608085.jpg\n",
            "Image shape: (512, 512, 3)\n"
          ],
          "name": "stdout"
        },
        {
          "output_type": "display_data",
          "data": {
            "image/png": "[encoded data removed]",
            "text/plain": [
              "<Figure size 432x288 with 2 Axes>"
            ]
          },
          "metadata": {
            "tags": [],
            "needs_background": "light"
          }
        }
      ]
    },
    {
      "cell_type": "markdown",
      "metadata": {
        "id": "BYcQ7OhYox6X"
      },
      "source": [
        "### 2. Preprocess the data (prepare it for a model)\n",
        "\n",
        "No need to classify data into training and test sets since our data is already classified. "
      ]
    },
    {
      "cell_type": "code",
      "metadata": {
        "id": "NDLFjidoqGij"
      },
      "source": [
        "# Define directory dataset paths\n",
        "train_dir = \"pizza_steak/train\"\n",
        "test_dir = \"pizza_steak/test\""
      ],
      "execution_count": 26,
      "outputs": []
    },
    {
      "cell_type": "markdown",
      "metadata": {
        "id": "_TcwQtHEqnCz"
      },
      "source": [
        "Our next step is to turn our data into **batches**. \n",
        "\n",
        "A Batch is a small subset of the dataset that a model looks at during training. Rather than look at all ~10k images, a model might only look at 32 at a time.\n",
        "\n",
        "It does this for a couple of reasons:\n",
        "1. 10,000 images (or more) might not fit into the memory of your processor (GPU).\n",
        "2. Trying to learn the patterns in 10,000 images in one hit could result in the model not being able to learn very well.\n",
        "\n",
        "Why 32?\n",
        "Because 32 is good for your health...https://twitter.com/ylecun/status/989610208497360896?s=20"
      ]
    },
    {
      "cell_type": "code",
      "metadata": {
        "id": "ElmAwhYBry11"
      },
      "source": [
        "# Create train & test data generators and rescale the data\n",
        "from tensorflow.keras.preprocessing.image import ImageDataGenerator\n",
        "train_datagen = ImageDataGenerator(rescale = 1/255.)\n",
        "test_datagen = ImageDataGenerator(rescale = 1/255.)"
      ],
      "execution_count": 28,
      "outputs": []
    },
    {
      "cell_type": "code",
      "metadata": {
        "colab": {
          "base_uri": "https://localhost:8080/"
        },
        "id": "xnRj6Pw6vwvR",
        "outputId": "c3f2f5c8-5166-466d-dd6f-81f83e20d0fd"
      },
      "source": [
        "# Load in our image data from directories and turn them into batches\n",
        "train_data = train_datagen.flow_from_directory(directory = train_dir, # Target directory of images\n",
        "                                               target_size = (224,224), # Target size of images (height, width)\n",
        "                                               class_mode = \"binary\", # type of data you're working with\n",
        "                                               batch_size = 32, # size of mini-batches to load data into\n",
        "                                               seed = 42)\n",
        "test_data = test_datagen.flow_from_directory(directory = test_dir,\n",
        "                                               target_size = (224,224),\n",
        "                                               class_mode = \"binary\",\n",
        "                                               batch_size = 32,\n",
        "                                               seed = 42)"
      ],
      "execution_count": 29,
      "outputs": [
        {
          "output_type": "stream",
          "text": [
            "Found 1500 images belonging to 2 classes.\n",
            "Found 500 images belonging to 2 classes.\n"
          ],
          "name": "stdout"
        }
      ]
    },
    {
      "cell_type": "code",
      "metadata": {
        "colab": {
          "base_uri": "https://localhost:8080/"
        },
        "id": "EEhUHV-4xqXd",
        "outputId": "b5fed57c-0675-4a7e-cce9-f2d71337a2fb"
      },
      "source": [
        "# Get a sample of a train data batch\n",
        "images, labels = train_data.next() # get the \"next\" batch of images/labels in train data\n",
        "print(len(images), len(labels))\n",
        "images.shape, labels.shape"
      ],
      "execution_count": 36,
      "outputs": [
        {
          "output_type": "stream",
          "text": [
            "32 32\n"
          ],
          "name": "stdout"
        },
        {
          "output_type": "execute_result",
          "data": {
            "text/plain": [
              "((32, 224, 224, 3), (32,))"
            ]
          },
          "metadata": {
            "tags": []
          },
          "execution_count": 36
        }
      ]
    },
    {
      "cell_type": "code",
      "metadata": {
        "colab": {
          "base_uri": "https://localhost:8080/"
        },
        "id": "BONn8yeSyxKl",
        "outputId": "4fc2d4d7-9664-4b95-9ed6-4f3c5719c0d7"
      },
      "source": [
        "# How many batches are there?\n",
        "len(train_data) # 1500/32"
      ],
      "execution_count": 37,
      "outputs": [
        {
          "output_type": "execute_result",
          "data": {
            "text/plain": [
              "47"
            ]
          },
          "metadata": {
            "tags": []
          },
          "execution_count": 37
        }
      ]
    },
    {
      "cell_type": "code",
      "metadata": {
        "colab": {
          "base_uri": "https://localhost:8080/"
        },
        "id": "WXuONt7aztQr",
        "outputId": "0504a024-e0ba-426c-f370-689f7b4da7d2"
      },
      "source": [
        "# Get the first 2 images\n",
        "images[:2], labels[:2], images[0].shape"
      ],
      "execution_count": 40,
      "outputs": [
        {
          "output_type": "execute_result",
          "data": {
            "text/plain": [
              "(array([[[[0.42352945, 0.45098042, 0.5529412 ],\n",
              "          [0.40000004, 0.427451  , 0.49803925],\n",
              "          [0.31764707, 0.34509805, 0.36862746],\n",
              "          ...,\n",
              "          [0.654902  , 0.43529415, 0.29803923],\n",
              "          [0.7058824 , 0.49411768, 0.36078432],\n",
              "          [0.60784316, 0.40000004, 0.2784314 ]],\n",
              " \n",
              "         [[0.23529413, 0.25882354, 0.32156864],\n",
              "          [0.21176472, 0.23529413, 0.28235295],\n",
              "          [0.227451  , 0.24705884, 0.27058825],\n",
              "          ...,\n",
              "          [0.6862745 , 0.45882356, 0.3137255 ],\n",
              "          [0.67058825, 0.45098042, 0.3137255 ],\n",
              "          [0.6901961 , 0.4784314 , 0.34509805]],\n",
              " \n",
              "         [[0.24705884, 0.2509804 , 0.26666668],\n",
              "          [0.2392157 , 0.2509804 , 0.27058825],\n",
              "          [0.23529413, 0.24705884, 0.27450982],\n",
              "          ...,\n",
              "          [0.7176471 , 0.47450984, 0.32941177],\n",
              "          [0.6509804 , 0.4156863 , 0.27450982],\n",
              "          [0.7490196 , 0.5137255 , 0.3803922 ]],\n",
              " \n",
              "         ...,\n",
              " \n",
              "         [[0.909804  , 0.909804  , 0.86274517],\n",
              "          [0.93725497, 0.93725497, 0.89019614],\n",
              "          [0.93725497, 0.93725497, 0.8980393 ],\n",
              "          ...,\n",
              "          [0.909804  , 0.90196085, 0.85098046],\n",
              "          [0.9058824 , 0.8980393 , 0.8470589 ],\n",
              "          [0.9058824 , 0.8980393 , 0.8470589 ]],\n",
              " \n",
              "         [[0.9333334 , 0.9333334 , 0.8862746 ],\n",
              "          [0.93725497, 0.93725497, 0.89019614],\n",
              "          [0.9294118 , 0.93725497, 0.8941177 ],\n",
              "          ...,\n",
              "          [0.909804  , 0.90196085, 0.85098046],\n",
              "          [0.9058824 , 0.8980393 , 0.8470589 ],\n",
              "          [0.9058824 , 0.8980393 , 0.8470589 ]],\n",
              " \n",
              "         [[0.9333334 , 0.9333334 , 0.8862746 ],\n",
              "          [0.9294118 , 0.93725497, 0.8862746 ],\n",
              "          [0.92549026, 0.9333334 , 0.89019614],\n",
              "          ...,\n",
              "          [0.909804  , 0.90196085, 0.85098046],\n",
              "          [0.8980393 , 0.90196085, 0.8470589 ],\n",
              "          [0.8980393 , 0.90196085, 0.8470589 ]]],\n",
              " \n",
              " \n",
              "        [[[0.8470589 , 0.7019608 , 0.49803925],\n",
              "          [0.7568628 , 0.6039216 , 0.4431373 ],\n",
              "          [0.7843138 , 0.627451  , 0.4901961 ],\n",
              "          ...,\n",
              "          [0.9607844 , 0.7960785 , 0.64705884],\n",
              "          [0.9803922 , 0.8117648 , 0.6745098 ],\n",
              "          [0.9686275 , 0.7960785 , 0.65882355]],\n",
              " \n",
              "         [[0.7960785 , 0.6509804 , 0.4431373 ],\n",
              "          [0.77647066, 0.6156863 , 0.4431373 ],\n",
              "          [0.7843138 , 0.6156863 , 0.4784314 ],\n",
              "          ...,\n",
              "          [0.9607844 , 0.7960785 , 0.64705884],\n",
              "          [0.9607844 , 0.79215693, 0.654902  ],\n",
              "          [0.9568628 , 0.7843138 , 0.64705884]],\n",
              " \n",
              "         [[0.78823537, 0.63529414, 0.41176474],\n",
              "          [0.7960785 , 0.63529414, 0.454902  ],\n",
              "          [0.79215693, 0.627451  , 0.47058827],\n",
              "          ...,\n",
              "          [0.97647065, 0.8117648 , 0.6627451 ],\n",
              "          [0.98823535, 0.8235295 , 0.6745098 ],\n",
              "          [0.9843138 , 0.8117648 , 0.6745098 ]],\n",
              " \n",
              "         ...,\n",
              " \n",
              "         [[0.68235296, 0.5254902 , 0.28627452],\n",
              "          [0.69803923, 0.52156866, 0.2901961 ],\n",
              "          [0.7411765 , 0.54901963, 0.31764707],\n",
              "          ...,\n",
              "          [0.8588236 , 0.6901961 , 0.5529412 ],\n",
              "          [0.86274517, 0.69411767, 0.5568628 ],\n",
              "          [0.8313726 , 0.6784314 , 0.5254902 ]],\n",
              " \n",
              "         [[0.7058824 , 0.53333336, 0.2784314 ],\n",
              "          [0.70980394, 0.52156866, 0.27058825],\n",
              "          [0.68235296, 0.48235297, 0.22352943],\n",
              "          ...,\n",
              "          [0.85098046, 0.67058825, 0.5372549 ],\n",
              "          [0.87843144, 0.70980394, 0.57254905],\n",
              "          [0.854902  , 0.69803923, 0.5568628 ]],\n",
              " \n",
              "         [[0.69803923, 0.5137255 , 0.23137257],\n",
              "          [0.7176471 , 0.50980395, 0.23529413],\n",
              "          [0.7490196 , 0.52156866, 0.23529413],\n",
              "          ...,\n",
              "          [0.83921576, 0.65882355, 0.5254902 ],\n",
              "          [0.86274517, 0.6862745 , 0.5568628 ],\n",
              "          [0.854902  , 0.69803923, 0.56078434]]]], dtype=float32),\n",
              " array([1., 1.], dtype=float32),\n",
              " (224, 224, 3))"
            ]
          },
          "metadata": {
            "tags": []
          },
          "execution_count": 40
        }
      ]
    },
    {
      "cell_type": "code",
      "metadata": {
        "colab": {
          "base_uri": "https://localhost:8080/"
        },
        "id": "mqUolvLw0IM8",
        "outputId": "e35090b9-d4aa-4dd3-be56-f4d40b8743f8"
      },
      "source": [
        "# View the first batch of labels\n",
        "labels"
      ],
      "execution_count": 41,
      "outputs": [
        {
          "output_type": "execute_result",
          "data": {
            "text/plain": [
              "array([1., 1., 1., 0., 1., 0., 1., 0., 1., 0., 0., 0., 1., 1., 0., 0., 0.,\n",
              "       1., 0., 1., 1., 1., 0., 0., 1., 0., 1., 0., 1., 1., 0., 0.],\n",
              "      dtype=float32)"
            ]
          },
          "metadata": {
            "tags": []
          },
          "execution_count": 41
        }
      ]
    },
    {
      "cell_type": "markdown",
      "metadata": {
        "id": "arRBLzms07P4"
      },
      "source": [
        "### Create a CNN model (starts with a baseline)\n",
        "\n",
        "A baseline is a relatively simple model or existing result that you setup when beginning a machine learning experiment and then as you keep experimenting, you try to beat the baseline."
      ]
    },
    {
      "cell_type": "code",
      "metadata": {
        "id": "l9LgKDHE2P-C"
      },
      "source": [
        "# Make the creating of our model a little easier\n",
        "from tensorflow.keras.optimizers import Adam\n",
        "from tensorflow.keras.layers import Dense, Flatten, Conv2D, MaxPool2D, Activation\n",
        "from tensorflow.keras import Sequential"
      ],
      "execution_count": 42,
      "outputs": []
    },
    {
      "cell_type": "code",
      "metadata": {
        "id": "in5WqM2724tF"
      },
      "source": [
        "# Create the model (this will be our baseline, a 3 layer convolutional neural network)\n",
        "model_4 = Sequential([\n",
        "  Conv2D(filters=10,\n",
        "         kernel_size=3,\n",
        "         strides=1,\n",
        "         padding=\"valid\",\n",
        "         activation=\"relu\",\n",
        "         input_shape=(224,224,3)), # input_layer specify input shape\n",
        "  Conv2D(10,3,activation=\"relu\"),\n",
        "  Conv2D(10,3,activation=\"relu\"),\n",
        "  Flatten(),\n",
        "  Dense(1,activation=\"sigmoid\") # output layer (working with binary classification so only 1 output neuron)\n",
        "])"
      ],
      "execution_count": 43,
      "outputs": []
    },
    {
      "cell_type": "markdown",
      "metadata": {
        "id": "G7a-Oyq96REQ"
      },
      "source": [
        "> **Note:** In deep learning, there is almost an infinite amount of architectures you could create. So one of the best ways to get started is to start with something simple and see if it works on your data and then introduce complexity as required (e.g. look at which current model is performing best in the field for your problem)."
      ]
    },
    {
      "cell_type": "code",
      "metadata": {
        "id": "si9AEUkt6PiG"
      },
      "source": [
        ""
      ],
      "execution_count": null,
      "outputs": []
    }
  ]
}