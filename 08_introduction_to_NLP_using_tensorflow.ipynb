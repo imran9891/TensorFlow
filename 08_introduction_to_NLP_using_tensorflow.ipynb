{
  "nbformat": 4,
  "nbformat_minor": 0,
  "metadata": {
    "colab": {
      "name": "08_introduction_to_NLP_using_tensorflow.ipynb",
      "provenance": [],
      "collapsed_sections": [],
      "authorship_tag": "ABX9TyN513pjYodAp0tzNR4ys4e7",
      "include_colab_link": true
    },
    "kernelspec": {
      "name": "python3",
      "display_name": "Python 3"
    },
    "language_info": {
      "name": "python"
    }
  },
  "cells": [
    {
      "cell_type": "markdown",
      "metadata": {
        "id": "view-in-github",
        "colab_type": "text"
      },
      "source": [
        "<a href=\"https://colab.research.google.com/github/imran9891/TensorFlow/blob/main/08_introduction_to_NLP_using_tensorflow.ipynb\" target=\"_parent\"><img src=\"https://colab.research.google.com/assets/colab-badge.svg\" alt=\"Open In Colab\"/></a>"
      ]
    },
    {
      "cell_type": "markdown",
      "metadata": {
        "id": "LT2bxhSO7oXI"
      },
      "source": [
        "# Introduction to NLP Fundamentals in TensorFlow\n",
        "\n",
        "NLP has the goal of deriving information out of natural language (could be sequences text or speech).\n",
        "\n",
        "Another common term for NLP problems is sequence to sequence problems (seq2seq)"
      ]
    },
    {
      "cell_type": "markdown",
      "metadata": {
        "id": "QnhZrdkI26WI"
      },
      "source": [
        "## Check for GPU"
      ]
    },
    {
      "cell_type": "code",
      "metadata": {
        "colab": {
          "base_uri": "https://localhost:8080/"
        },
        "id": "EpKQ6Ma-3FLd",
        "outputId": "7af504a5-c9e8-4caa-8bb7-d7cceafc1945"
      },
      "source": [
        "!nvidia-smi -L"
      ],
      "execution_count": 1,
      "outputs": [
        {
          "output_type": "stream",
          "text": [
            "NVIDIA-SMI has failed because it couldn't communicate with the NVIDIA driver. Make sure that the latest NVIDIA driver is installed and running.\n",
            "\n"
          ],
          "name": "stdout"
        }
      ]
    },
    {
      "cell_type": "markdown",
      "metadata": {
        "id": "I659aNyA3Oj2"
      },
      "source": [
        "## Get helper functions"
      ]
    },
    {
      "cell_type": "code",
      "metadata": {
        "colab": {
          "base_uri": "https://localhost:8080/"
        },
        "id": "nV6xosfv3SSD",
        "outputId": "fd36c9f7-3224-4296-f5d9-f0210ffd9f82"
      },
      "source": [
        "!wget https://raw.githubusercontent.com/imran9891/TensorFlow/main/helper_functions.py\n",
        " \n",
        "# Import series of helper functions for the notebook\n",
        "from helper_functions import unzip_data, create_tensorboard_callback, plot_loss_curves, compare_historys"
      ],
      "execution_count": 2,
      "outputs": [
        {
          "output_type": "stream",
          "text": [
            "--2021-08-25 16:15:34--  https://raw.githubusercontent.com/imran9891/TensorFlow/main/helper_functions.py\n",
            "Resolving raw.githubusercontent.com (raw.githubusercontent.com)... 185.199.109.133, 185.199.111.133, 185.199.110.133, ...\n",
            "Connecting to raw.githubusercontent.com (raw.githubusercontent.com)|185.199.109.133|:443... connected.\n",
            "HTTP request sent, awaiting response... 200 OK\n",
            "Length: 10246 (10K) [text/plain]\n",
            "Saving to: ‘helper_functions.py’\n",
            "\n",
            "\rhelper_functions.py   0%[                    ]       0  --.-KB/s               \rhelper_functions.py 100%[===================>]  10.01K  --.-KB/s    in 0s      \n",
            "\n",
            "2021-08-25 16:15:34 (95.1 MB/s) - ‘helper_functions.py’ saved [10246/10246]\n",
            "\n"
          ],
          "name": "stdout"
        }
      ]
    },
    {
      "cell_type": "markdown",
      "metadata": {
        "id": "ESeIqGBB3n4G"
      },
      "source": [
        "## Get a text dataset\n",
        "\n",
        "The dataset we're going to be using is Kaggle's introduction to NLP dataset (text samples of Tweets labelled as disaster or not disaster).\n",
        "\n",
        "See the original source here: https://www.kaggle.com/c/nlp-getting-started"
      ]
    },
    {
      "cell_type": "code",
      "metadata": {
        "colab": {
          "base_uri": "https://localhost:8080/"
        },
        "id": "dxQx8TDu32tu",
        "outputId": "6618c756-c07b-4ad9-f199-200cc37b2d48"
      },
      "source": [
        "!wget https://storage.googleapis.com/ztm_tf_course/nlp_getting_started.zip\n",
        " \n",
        "# Unzip the data\n",
        "import zipfile\n",
        "zipref = zipfile.ZipFile(\"nlp_getting_started.zip\")\n",
        "zipref.extractall()\n",
        "zipref.close()"
      ],
      "execution_count": 3,
      "outputs": [
        {
          "output_type": "stream",
          "text": [
            "--2021-08-25 16:15:41--  https://storage.googleapis.com/ztm_tf_course/nlp_getting_started.zip\n",
            "Resolving storage.googleapis.com (storage.googleapis.com)... 142.251.2.128, 142.250.141.128, 2607:f8b0:4023:c06::80, ...\n",
            "Connecting to storage.googleapis.com (storage.googleapis.com)|142.251.2.128|:443... connected.\n",
            "HTTP request sent, awaiting response... 200 OK\n",
            "Length: 607343 (593K) [application/zip]\n",
            "Saving to: ‘nlp_getting_started.zip’\n",
            "\n",
            "\rnlp_getting_started   0%[                    ]       0  --.-KB/s               \rnlp_getting_started 100%[===================>] 593.11K  --.-KB/s    in 0.005s  \n",
            "\n",
            "2021-08-25 16:15:41 (117 MB/s) - ‘nlp_getting_started.zip’ saved [607343/607343]\n",
            "\n"
          ],
          "name": "stdout"
        }
      ]
    },
    {
      "cell_type": "markdown",
      "metadata": {
        "id": "80y5tLMD6G5B"
      },
      "source": [
        "## Visualizing a text dataset\n",
        "\n",
        "To visualize our text samples, we first have to read them in, one way to do so would be to use Python: https://realpython.com/read-write-files-python/\n",
        "\n",
        "But I prefer to get visual straight away.\n",
        "\n",
        "So another way to do this is to use pandas..."
      ]
    },
    {
      "cell_type": "code",
      "metadata": {
        "id": "o1yIjPw45RdA"
      },
      "source": [
        "import pandas as pd\n",
        "train_df = pd.read_csv(\"train.csv\")\n",
        "test_df = pd.read_csv(\"test.csv\")"
      ],
      "execution_count": 4,
      "outputs": []
    },
    {
      "cell_type": "code",
      "metadata": {
        "colab": {
          "base_uri": "https://localhost:8080/",
          "height": 204
        },
        "id": "mJfFPa9i6859",
        "outputId": "4cd8e949-1caa-4c6d-a918-d71bb43ae87a"
      },
      "source": [
        "train_df.head()"
      ],
      "execution_count": 5,
      "outputs": [
        {
          "output_type": "execute_result",
          "data": {
            "text/html": [
              "<div>\n",
              "<style scoped>\n",
              "    .dataframe tbody tr th:only-of-type {\n",
              "        vertical-align: middle;\n",
              "    }\n",
              "\n",
              "    .dataframe tbody tr th {\n",
              "        vertical-align: top;\n",
              "    }\n",
              "\n",
              "    .dataframe thead th {\n",
              "        text-align: right;\n",
              "    }\n",
              "</style>\n",
              "<table border=\"1\" class=\"dataframe\">\n",
              "  <thead>\n",
              "    <tr style=\"text-align: right;\">\n",
              "      <th></th>\n",
              "      <th>id</th>\n",
              "      <th>keyword</th>\n",
              "      <th>location</th>\n",
              "      <th>text</th>\n",
              "      <th>target</th>\n",
              "    </tr>\n",
              "  </thead>\n",
              "  <tbody>\n",
              "    <tr>\n",
              "      <th>0</th>\n",
              "      <td>1</td>\n",
              "      <td>NaN</td>\n",
              "      <td>NaN</td>\n",
              "      <td>Our Deeds are the Reason of this #earthquake M...</td>\n",
              "      <td>1</td>\n",
              "    </tr>\n",
              "    <tr>\n",
              "      <th>1</th>\n",
              "      <td>4</td>\n",
              "      <td>NaN</td>\n",
              "      <td>NaN</td>\n",
              "      <td>Forest fire near La Ronge Sask. Canada</td>\n",
              "      <td>1</td>\n",
              "    </tr>\n",
              "    <tr>\n",
              "      <th>2</th>\n",
              "      <td>5</td>\n",
              "      <td>NaN</td>\n",
              "      <td>NaN</td>\n",
              "      <td>All residents asked to 'shelter in place' are ...</td>\n",
              "      <td>1</td>\n",
              "    </tr>\n",
              "    <tr>\n",
              "      <th>3</th>\n",
              "      <td>6</td>\n",
              "      <td>NaN</td>\n",
              "      <td>NaN</td>\n",
              "      <td>13,000 people receive #wildfires evacuation or...</td>\n",
              "      <td>1</td>\n",
              "    </tr>\n",
              "    <tr>\n",
              "      <th>4</th>\n",
              "      <td>7</td>\n",
              "      <td>NaN</td>\n",
              "      <td>NaN</td>\n",
              "      <td>Just got sent this photo from Ruby #Alaska as ...</td>\n",
              "      <td>1</td>\n",
              "    </tr>\n",
              "  </tbody>\n",
              "</table>\n",
              "</div>"
            ],
            "text/plain": [
              "   id keyword  ...                                               text target\n",
              "0   1     NaN  ...  Our Deeds are the Reason of this #earthquake M...      1\n",
              "1   4     NaN  ...             Forest fire near La Ronge Sask. Canada      1\n",
              "2   5     NaN  ...  All residents asked to 'shelter in place' are ...      1\n",
              "3   6     NaN  ...  13,000 people receive #wildfires evacuation or...      1\n",
              "4   7     NaN  ...  Just got sent this photo from Ruby #Alaska as ...      1\n",
              "\n",
              "[5 rows x 5 columns]"
            ]
          },
          "metadata": {},
          "execution_count": 5
        }
      ]
    },
    {
      "cell_type": "code",
      "metadata": {
        "colab": {
          "base_uri": "https://localhost:8080/",
          "height": 204
        },
        "id": "xfnv6td57BQX",
        "outputId": "0e12f95d-c9b3-4d60-c2d2-fa2bd335f4e7"
      },
      "source": [
        "# Shuffle training dataframe\n",
        "train_df_shuffled = train_df.sample(frac=1, random_state=42)\n",
        "train_df_shuffled.head()"
      ],
      "execution_count": 6,
      "outputs": [
        {
          "output_type": "execute_result",
          "data": {
            "text/html": [
              "<div>\n",
              "<style scoped>\n",
              "    .dataframe tbody tr th:only-of-type {\n",
              "        vertical-align: middle;\n",
              "    }\n",
              "\n",
              "    .dataframe tbody tr th {\n",
              "        vertical-align: top;\n",
              "    }\n",
              "\n",
              "    .dataframe thead th {\n",
              "        text-align: right;\n",
              "    }\n",
              "</style>\n",
              "<table border=\"1\" class=\"dataframe\">\n",
              "  <thead>\n",
              "    <tr style=\"text-align: right;\">\n",
              "      <th></th>\n",
              "      <th>id</th>\n",
              "      <th>keyword</th>\n",
              "      <th>location</th>\n",
              "      <th>text</th>\n",
              "      <th>target</th>\n",
              "    </tr>\n",
              "  </thead>\n",
              "  <tbody>\n",
              "    <tr>\n",
              "      <th>2644</th>\n",
              "      <td>3796</td>\n",
              "      <td>destruction</td>\n",
              "      <td>NaN</td>\n",
              "      <td>So you have a new weapon that can cause un-ima...</td>\n",
              "      <td>1</td>\n",
              "    </tr>\n",
              "    <tr>\n",
              "      <th>2227</th>\n",
              "      <td>3185</td>\n",
              "      <td>deluge</td>\n",
              "      <td>NaN</td>\n",
              "      <td>The f$&amp;amp;@ing things I do for #GISHWHES Just...</td>\n",
              "      <td>0</td>\n",
              "    </tr>\n",
              "    <tr>\n",
              "      <th>5448</th>\n",
              "      <td>7769</td>\n",
              "      <td>police</td>\n",
              "      <td>UK</td>\n",
              "      <td>DT @georgegalloway: RT @Galloway4Mayor: ÛÏThe...</td>\n",
              "      <td>1</td>\n",
              "    </tr>\n",
              "    <tr>\n",
              "      <th>132</th>\n",
              "      <td>191</td>\n",
              "      <td>aftershock</td>\n",
              "      <td>NaN</td>\n",
              "      <td>Aftershock back to school kick off was great. ...</td>\n",
              "      <td>0</td>\n",
              "    </tr>\n",
              "    <tr>\n",
              "      <th>6845</th>\n",
              "      <td>9810</td>\n",
              "      <td>trauma</td>\n",
              "      <td>Montgomery County, MD</td>\n",
              "      <td>in response to trauma Children of Addicts deve...</td>\n",
              "      <td>0</td>\n",
              "    </tr>\n",
              "  </tbody>\n",
              "</table>\n",
              "</div>"
            ],
            "text/plain": [
              "        id  ... target\n",
              "2644  3796  ...      1\n",
              "2227  3185  ...      0\n",
              "5448  7769  ...      1\n",
              "132    191  ...      0\n",
              "6845  9810  ...      0\n",
              "\n",
              "[5 rows x 5 columns]"
            ]
          },
          "metadata": {},
          "execution_count": 6
        }
      ]
    },
    {
      "cell_type": "code",
      "metadata": {
        "colab": {
          "base_uri": "https://localhost:8080/",
          "height": 204
        },
        "id": "bKGqPJSq9GTf",
        "outputId": "351eeb3d-0acc-456d-93a6-448c7bfce974"
      },
      "source": [
        "# What does a test dataframe looks like?\n",
        "test_df.head()"
      ],
      "execution_count": 7,
      "outputs": [
        {
          "output_type": "execute_result",
          "data": {
            "text/html": [
              "<div>\n",
              "<style scoped>\n",
              "    .dataframe tbody tr th:only-of-type {\n",
              "        vertical-align: middle;\n",
              "    }\n",
              "\n",
              "    .dataframe tbody tr th {\n",
              "        vertical-align: top;\n",
              "    }\n",
              "\n",
              "    .dataframe thead th {\n",
              "        text-align: right;\n",
              "    }\n",
              "</style>\n",
              "<table border=\"1\" class=\"dataframe\">\n",
              "  <thead>\n",
              "    <tr style=\"text-align: right;\">\n",
              "      <th></th>\n",
              "      <th>id</th>\n",
              "      <th>keyword</th>\n",
              "      <th>location</th>\n",
              "      <th>text</th>\n",
              "    </tr>\n",
              "  </thead>\n",
              "  <tbody>\n",
              "    <tr>\n",
              "      <th>0</th>\n",
              "      <td>0</td>\n",
              "      <td>NaN</td>\n",
              "      <td>NaN</td>\n",
              "      <td>Just happened a terrible car crash</td>\n",
              "    </tr>\n",
              "    <tr>\n",
              "      <th>1</th>\n",
              "      <td>2</td>\n",
              "      <td>NaN</td>\n",
              "      <td>NaN</td>\n",
              "      <td>Heard about #earthquake is different cities, s...</td>\n",
              "    </tr>\n",
              "    <tr>\n",
              "      <th>2</th>\n",
              "      <td>3</td>\n",
              "      <td>NaN</td>\n",
              "      <td>NaN</td>\n",
              "      <td>there is a forest fire at spot pond, geese are...</td>\n",
              "    </tr>\n",
              "    <tr>\n",
              "      <th>3</th>\n",
              "      <td>9</td>\n",
              "      <td>NaN</td>\n",
              "      <td>NaN</td>\n",
              "      <td>Apocalypse lighting. #Spokane #wildfires</td>\n",
              "    </tr>\n",
              "    <tr>\n",
              "      <th>4</th>\n",
              "      <td>11</td>\n",
              "      <td>NaN</td>\n",
              "      <td>NaN</td>\n",
              "      <td>Typhoon Soudelor kills 28 in China and Taiwan</td>\n",
              "    </tr>\n",
              "  </tbody>\n",
              "</table>\n",
              "</div>"
            ],
            "text/plain": [
              "   id keyword location                                               text\n",
              "0   0     NaN      NaN                 Just happened a terrible car crash\n",
              "1   2     NaN      NaN  Heard about #earthquake is different cities, s...\n",
              "2   3     NaN      NaN  there is a forest fire at spot pond, geese are...\n",
              "3   9     NaN      NaN           Apocalypse lighting. #Spokane #wildfires\n",
              "4  11     NaN      NaN      Typhoon Soudelor kills 28 in China and Taiwan"
            ]
          },
          "metadata": {},
          "execution_count": 7
        }
      ]
    },
    {
      "cell_type": "code",
      "metadata": {
        "colab": {
          "base_uri": "https://localhost:8080/"
        },
        "id": "IVzh_pjz-AhM",
        "outputId": "8be6a0a2-9dff-458b-d097-6d400581ea65"
      },
      "source": [
        "# How many examples of each class?\n",
        "train_df.target.value_counts()"
      ],
      "execution_count": 8,
      "outputs": [
        {
          "output_type": "execute_result",
          "data": {
            "text/plain": [
              "0    4342\n",
              "1    3271\n",
              "Name: target, dtype: int64"
            ]
          },
          "metadata": {},
          "execution_count": 8
        }
      ]
    },
    {
      "cell_type": "code",
      "metadata": {
        "colab": {
          "base_uri": "https://localhost:8080/"
        },
        "id": "s_rAPD7v-ZlI",
        "outputId": "b0fefaaf-ae08-40ce-ce3c-7a7857446013"
      },
      "source": [
        "# How many total samples?\n",
        "len(train_df), len(test_df)"
      ],
      "execution_count": 9,
      "outputs": [
        {
          "output_type": "execute_result",
          "data": {
            "text/plain": [
              "(7613, 3263)"
            ]
          },
          "metadata": {},
          "execution_count": 9
        }
      ]
    },
    {
      "cell_type": "code",
      "metadata": {
        "colab": {
          "base_uri": "https://localhost:8080/"
        },
        "id": "mn3lfhCZ_Fl7",
        "outputId": "170602ba-9088-46c7-aca4-9b5cefd55eda"
      },
      "source": [
        "# Let's visulaize some random training examples\n",
        "import random\n",
        "random_index = random.randint(0, len(train_df)-5) # create random indexes not higher than the total number of samples\n",
        "for row in train_df_shuffled[[\"text\",\"target\"]][random_index:random_index+5].itertuples():\n",
        "  _, text, target = row\n",
        "  print(f\"Target: {target}\",\"(real disaster)\" if target>0 else \"(not real disaster)\")\n",
        "  print(f\"Text:\\n {text}\\n\")\n",
        "  print(\"---\\n\")"
      ],
      "execution_count": 10,
      "outputs": [
        {
          "output_type": "stream",
          "text": [
            "Target: 0 (not real disaster)\n",
            "Text:\n",
            " 'the fallacy is it is up to the steam roller. It's up to the object whether it will be flattened or not.' #RobertCalifornia #thereisonlysex\n",
            "\n",
            "---\n",
            "\n",
            "Target: 0 (not real disaster)\n",
            "Text:\n",
            " GENERAL AUDIENCE: On Wounded Families | ZENIT - The World Seen From Rome http://t.co/hFvnyfT78C\n",
            "\n",
            "---\n",
            "\n",
            "Target: 0 (not real disaster)\n",
            "Text:\n",
            " Pandemonium In Aba As Woman Delivers Baby Without Face (Photos) http://t.co/8j4rdwyjWu http://t.co/9MkZPZfKL2\n",
            "\n",
            "---\n",
            "\n",
            "Target: 0 (not real disaster)\n",
            "Text:\n",
            " In my experience if you're always angry and critical as a pundit you are in grave danger of going off the rails. 1/\n",
            "\n",
            "---\n",
            "\n",
            "Target: 1 (real disaster)\n",
            "Text:\n",
            " 9000 Photographs from 1800's British Mandate of Palestine - with no trace of 'Palestinians' http://t.co/X8i0mHYRmN\n",
            "\n",
            "---\n",
            "\n"
          ],
          "name": "stdout"
        }
      ]
    },
    {
      "cell_type": "markdown",
      "metadata": {
        "id": "yrYWMLPcGXHP"
      },
      "source": [
        "### Split data into training and validation datasets"
      ]
    },
    {
      "cell_type": "code",
      "metadata": {
        "id": "sWCw-7hGg6AJ"
      },
      "source": [
        "from sklearn.model_selection import train_test_split\n",
        " \n",
        "# Use train_test_split to split training data into training and validation sets\n",
        "train_sentences, val_sentences, train_labels, val_labels = train_test_split(train_df_shuffled[\"text\"].to_numpy(),\n",
        "                                                                            train_df_shuffled[\"target\"].to_numpy(),\n",
        "                                                                            test_size=0.1, # use 10% of training data for validation split\n",
        "                                                                            random_state=42)"
      ],
      "execution_count": 11,
      "outputs": []
    },
    {
      "cell_type": "code",
      "metadata": {
        "colab": {
          "base_uri": "https://localhost:8080/"
        },
        "id": "VnPbJvxriG1U",
        "outputId": "da77b3ed-cf95-4544-8a07-b8f0d9c1e296"
      },
      "source": [
        "# Check the lengths\n",
        "len(train_sentences),len(train_labels),len(val_sentences),len(val_labels)"
      ],
      "execution_count": 12,
      "outputs": [
        {
          "output_type": "execute_result",
          "data": {
            "text/plain": [
              "(6851, 6851, 762, 762)"
            ]
          },
          "metadata": {},
          "execution_count": 12
        }
      ]
    },
    {
      "cell_type": "code",
      "metadata": {
        "colab": {
          "base_uri": "https://localhost:8080/"
        },
        "id": "RVfDHo1ji7dt",
        "outputId": "867d1574-a482-4e79-e944-39d88b40821c"
      },
      "source": [
        "# Check the first 10 samples\n",
        "train_sentences[:10], train_labels[:10]"
      ],
      "execution_count": 13,
      "outputs": [
        {
          "output_type": "execute_result",
          "data": {
            "text/plain": [
              "(array(['@mogacola @zamtriossu i screamed after hitting tweet',\n",
              "        'Imagine getting flattened by Kurt Zouma',\n",
              "        '@Gurmeetramrahim #MSGDoing111WelfareWorks Green S welfare force ke appx 65000 members har time disaster victim ki help ke liye tyar hai....',\n",
              "        \"@shakjn @C7 @Magnums im shaking in fear he's gonna hack the planet\",\n",
              "        'Somehow find you and I collide http://t.co/Ee8RpOahPk',\n",
              "        '@EvaHanderek @MarleyKnysh great times until the bus driver held us hostage in the mall parking lot lmfao',\n",
              "        'destroy the free fandom honestly',\n",
              "        'Weapons stolen from National Guard Armory in New Albany still missing #Gunsense http://t.co/lKNU8902JE',\n",
              "        '@wfaaweather Pete when will the heat wave pass? Is it really going to be mid month? Frisco Boy Scouts have a canoe trip in Okla.',\n",
              "        'Patient-reported outcomes in long-term survivors of metastatic colorectal cancer - British Journal of Surgery http://t.co/5Yl4DC1Tqt'],\n",
              "       dtype=object), array([0, 0, 1, 0, 0, 1, 1, 0, 1, 1]))"
            ]
          },
          "metadata": {},
          "execution_count": 13
        }
      ]
    },
    {
      "cell_type": "markdown",
      "metadata": {
        "id": "lSSWsdpsqJlZ"
      },
      "source": [
        "Our labels are in numerical form (0 and 1) but our Tweets are in string form.\n",
        "\n",
        "> **Question:** What do you think we have to do before we can use a machine learning algorithm with our text data?\n",
        "\n",
        "If you answered something along the lines of \"turn it into numbers\", you're correct. A machine learning algorithm requires its inputs to be in numerical form.\n",
        "\n",
        "**In NLP, there are two main concepts for turning text into numbers:**\n",
        "\n",
        "* Tokenization - A straight mapping from word or character or sub-word to a numerical value. There are three main levels of tokenization:\n",
        "\n",
        "  * Using word-level tokenization with the sentence \"I love TensorFlow\" might result in \"I\" being 0, \"love\" being 1 and \"TensorFlow\" being 2. In this case, every word in a sequence considered a single token.\n",
        "\n",
        "  * Character-level tokenization, such as converting the letters A-Z to values 1-26. In this case, every character in a sequence considered a single token.\n",
        "\n",
        "  * Sub-word tokenization is in between word-level and character-level tokenization. It involves breaking invidual words into smaller parts and then converting those smaller parts into numbers. For example, \"my favourite food is pineapple pizza\" might become \"my, fav, avour, rite, fo, oo, od, is, pin, ine, app, le, piz, za\". After doing this, these sub-words would then be mapped to a numerical value. In this case, every word could be considered multiple tokens.\n",
        "\n",
        "* Embeddings - An embedding is a representation of natural language which can be learned. Representation comes in the form of a feature vector. For example, the word \"dance\" could be represented by the 5-dimensional vector [-0.8547, 0.4559, -0.3332, 0.9877, 0.1112]. It's important to note here, the size of the feature vector is tuneable. There are two ways to use embeddings:\n",
        "\n",
        "  * Create your own embedding - Once your text has been turned into numbers (required for an embedding), you can put them through an embedding layer (such as tf.keras.layers.Embedding) and an embedding representation will be learned during model training.\n",
        "\n",
        "  * Reuse a pre-learned embedding - Many pre-trained embeddings exist online. These pre-trained embeddings have often been learned on large"
      ]
    },
    {
      "cell_type": "markdown",
      "metadata": {
        "id": "_54RYBZ6jIZ5"
      },
      "source": [
        "## Converting text into numbers\n",
        "\n",
        "When dealing with text problems, one of the first things you'll have to do before you can build a model is to convert your text to numbers.\n",
        "\n",
        "There are a few ways to do this, namely:\n",
        "* Tokenization: direct mapping of token (a token could be a word or a character) to number\n",
        "* Embedding: create a matrix of feature vector for each token (the size of the feature vector can be defined and this embedding can be learned)"
      ]
    },
    {
      "cell_type": "markdown",
      "metadata": {
        "id": "U91rQDXrk-Sy"
      },
      "source": [
        "![Tokenization vs Embeddings.PNG](data:image/png;base64,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)"
      ]
    },
    {
      "cell_type": "markdown",
      "metadata": {
        "id": "OcxXWlLwlATw"
      },
      "source": [
        "## Text vectorization (tokenization)"
      ]
    },
    {
      "cell_type": "code",
      "metadata": {
        "colab": {
          "base_uri": "https://localhost:8080/"
        },
        "id": "7mwjG6EcsDzC",
        "outputId": "be674201-3942-4963-b498-b150dd81f8e5"
      },
      "source": [
        "train_sentences[:5]"
      ],
      "execution_count": 14,
      "outputs": [
        {
          "output_type": "execute_result",
          "data": {
            "text/plain": [
              "array(['@mogacola @zamtriossu i screamed after hitting tweet',\n",
              "       'Imagine getting flattened by Kurt Zouma',\n",
              "       '@Gurmeetramrahim #MSGDoing111WelfareWorks Green S welfare force ke appx 65000 members har time disaster victim ki help ke liye tyar hai....',\n",
              "       \"@shakjn @C7 @Magnums im shaking in fear he's gonna hack the planet\",\n",
              "       'Somehow find you and I collide http://t.co/Ee8RpOahPk'],\n",
              "      dtype=object)"
            ]
          },
          "metadata": {},
          "execution_count": 14
        }
      ]
    },
    {
      "cell_type": "code",
      "metadata": {
        "id": "d5M1fABdr-5u"
      },
      "source": [
        "import tensorflow as tf\n",
        "from tensorflow.keras.layers.experimental.preprocessing import TextVectorization\n",
        " \n",
        "# Use the default TextVectorization parameters\n",
        "text_vectorizer = TextVectorization(max_tokens=None, # how many words in the vocabulary (automatically add <OOV>)\n",
        "                                    standardize=\"lower_and_strip_punctuation\",\n",
        "                                    split='whitespace',\n",
        "                                    ngrams=None, # create groups of n-words\n",
        "                                    output_mode='int', # how to map tokens to numbers\n",
        "                                    output_sequence_length=None, # how long do you want your sequences to be?\n",
        "                                    pad_to_max_tokens=False)"
      ],
      "execution_count": 15,
      "outputs": []
    },
    {
      "cell_type": "code",
      "metadata": {
        "colab": {
          "base_uri": "https://localhost:8080/"
        },
        "id": "NNXnJcjQyMHM",
        "outputId": "bc554023-bd68-4025-90d2-f4648eff1160"
      },
      "source": [
        "train_sentences[:2]"
      ],
      "execution_count": 16,
      "outputs": [
        {
          "output_type": "execute_result",
          "data": {
            "text/plain": [
              "array(['@mogacola @zamtriossu i screamed after hitting tweet',\n",
              "       'Imagine getting flattened by Kurt Zouma'], dtype=object)"
            ]
          },
          "metadata": {},
          "execution_count": 16
        }
      ]
    },
    {
      "cell_type": "code",
      "metadata": {
        "colab": {
          "base_uri": "https://localhost:8080/"
        },
        "id": "XN2_THS6sewz",
        "outputId": "8dbfab62-c4de-4f23-be23-859b16904b27"
      },
      "source": [
        "# Find the average number of tokens (words) in the training tweets\n",
        "round(sum([len(i.split()) for i in train_sentences])/len(train_sentences))"
      ],
      "execution_count": 17,
      "outputs": [
        {
          "output_type": "execute_result",
          "data": {
            "text/plain": [
              "15"
            ]
          },
          "metadata": {},
          "execution_count": 17
        }
      ]
    },
    {
      "cell_type": "code",
      "metadata": {
        "id": "Wrl2Zl7izUuA"
      },
      "source": [
        "# Setup text vectorization variables\n",
        "max_vocab_length = 10000 # max no. of words to have in our vocabulary\n",
        "max_length = 15 # max length our sequences will be (e.g. how many words from a Tweet does a model see?)\n",
        " \n",
        "text_vectorizer = TextVectorization(max_tokens=max_vocab_length,\n",
        "                                    output_sequence_length = max_length,\n",
        "                                    pad_to_max_tokens=True)"
      ],
      "execution_count": 18,
      "outputs": []
    },
    {
      "cell_type": "code",
      "metadata": {
        "id": "8FHQQxJP0rTt"
      },
      "source": [
        "# Fit the text vectorizer to the training set\n",
        "text_vectorizer.adapt(train_sentences)"
      ],
      "execution_count": 19,
      "outputs": []
    },
    {
      "cell_type": "code",
      "metadata": {
        "colab": {
          "base_uri": "https://localhost:8080/"
        },
        "id": "c5KwKZ8m2Ycj",
        "outputId": "d0b76e2c-5ac6-4880-c683-38268457d598"
      },
      "source": [
        "# Create a sample sentence and tokenize it\n",
        "sample_sentence = \"There's a flood in my street!\"\n",
        "text_vectorizer([sample_sentence])"
      ],
      "execution_count": 20,
      "outputs": [
        {
          "output_type": "execute_result",
          "data": {
            "text/plain": [
              "<tf.Tensor: shape=(1, 15), dtype=int64, numpy=\n",
              "array([[264,   3, 232,   4,  13, 698,   0,   0,   0,   0,   0,   0,   0,\n",
              "          0,   0]])>"
            ]
          },
          "metadata": {},
          "execution_count": 20
        }
      ]
    },
    {
      "cell_type": "code",
      "metadata": {
        "colab": {
          "base_uri": "https://localhost:8080/"
        },
        "id": "zj-lZCBu24R3",
        "outputId": "863ee3f1-b45d-445b-87a8-7a8058bf1905"
      },
      "source": [
        "# Choose a random sentence from the training dataset and tokenize it\n",
        "random_sentence = random.choice(train_sentences)\n",
        "print(f\"Original text:\\n {random_sentence}\\\n",
        "      \\n\\nVectorized version:\")\n",
        "text_vectorizer([random_sentence])"
      ],
      "execution_count": 21,
      "outputs": [
        {
          "output_type": "stream",
          "text": [
            "Original text:\n",
            " To fight bioterrorism sir.      \n",
            "\n",
            "Vectorized version:\n"
          ],
          "name": "stdout"
        },
        {
          "output_type": "execute_result",
          "data": {
            "text/plain": [
              "<tf.Tensor: shape=(1, 15), dtype=int64, numpy=\n",
              "array([[   5,  625,  789, 1590,    0,    0,    0,    0,    0,    0,    0,\n",
              "           0,    0,    0,    0]])>"
            ]
          },
          "metadata": {},
          "execution_count": 21
        }
      ]
    },
    {
      "cell_type": "code",
      "metadata": {
        "colab": {
          "base_uri": "https://localhost:8080/"
        },
        "id": "u18u4dIo36la",
        "outputId": "2dfbe7e3-e328-475d-c1e8-4362030cc124"
      },
      "source": [
        "# Get the unique words in the vocabulary \n",
        "words_in_vocab = text_vectorizer.get_vocabulary() # get all of the unique words in training data\n",
        "top_5_words = words_in_vocab[:5] # get the most common words\n",
        "print(f\"Number of words in vocab: {len(words_in_vocab)}\\n\")\n",
        "print(f\"5 Most common words: {words_in_vocab[:5]}\\n\")\n",
        "print(f\"5 Least common words: {words_in_vocab[-5:]}\") # get the least common words"
      ],
      "execution_count": 22,
      "outputs": [
        {
          "output_type": "stream",
          "text": [
            "Number of words in vocab: 10000\n",
            "\n",
            "5 Most common words: ['', '[UNK]', 'the', 'a', 'in']\n",
            "\n",
            "5 Least common words: ['pages', 'paeds', 'pads', 'padres', 'paddytomlinson1']\n"
          ],
          "name": "stdout"
        }
      ]
    },
    {
      "cell_type": "markdown",
      "metadata": {
        "id": "iDvdaUiA4w26"
      },
      "source": [
        "### Creating an Embedding using an Embedding Layer\n",
        "\n",
        "To make our Embedding, we're going to use TensorFlow's embedding layer: https://www.tensorflow.org/api_docs/python/tf/keras/layers/Embedding\n",
        "\n",
        "The parameters we care most about for our embedding layer:\n",
        "* `input_dim`: the size of the vocabulary\n",
        "* `output_dim`: the size of the output embedding vector, for example a value of 100 would mean each token gets represented by a vector 100 long \n",
        "* `input_length`: length of the sequences being passed to the embedding layer"
      ]
    },
    {
      "cell_type": "code",
      "metadata": {
        "id": "uRSWmeqd-jFL"
      },
      "source": [
        "from tensorflow.keras import layers\n",
        " \n",
        "embedding = layers.Embedding(input_dim=max_vocab_length, # sets input shape\n",
        "                             output_dim=128, # output shape\n",
        "                             input_length=max_length) # how long is each input"
      ],
      "execution_count": 23,
      "outputs": []
    },
    {
      "cell_type": "code",
      "metadata": {
        "colab": {
          "base_uri": "https://localhost:8080/"
        },
        "id": "OMaKk2OfBMVL",
        "outputId": "afb49a67-765b-4077-ff1d-b6b4c16e494f"
      },
      "source": [
        "# Get a random sentence from the training sentence\n",
        "random_sentence = random.choice(train_sentences)\n",
        "print(f\"Original text:\\n {random_sentence}\\\n",
        "      \\n\\n Embedded Version:\")\n",
        " \n",
        "# Embed the random sentence (turn it into dense vectors of fixed size)\n",
        "sample_embed = embedding(text_vectorizer([random_sentence]))\n",
        "sample_embed"
      ],
      "execution_count": 24,
      "outputs": [
        {
          "output_type": "stream",
          "text": [
            "Original text:\n",
            " @TitorTau The Loretta Lynch one was fuckin' HI-LARIOUS to watch in realtime. It was like a train wreck of fact-checking and ombudsmanship.      \n",
            "\n",
            " Embedded Version:\n"
          ],
          "name": "stdout"
        },
        {
          "output_type": "execute_result",
          "data": {
            "text/plain": [
              "<tf.Tensor: shape=(1, 15, 128), dtype=float32, numpy=\n",
              "array([[[-0.00698706, -0.00793505, -0.04764989, ..., -0.02411133,\n",
              "         -0.04341428,  0.00408893],\n",
              "        [ 0.03900954,  0.02100203, -0.019659  , ...,  0.01497111,\n",
              "          0.03390699,  0.03703575],\n",
              "        [-0.01607792, -0.03197221,  0.01873982, ..., -0.02045149,\n",
              "          0.02494388,  0.00964602],\n",
              "        ...,\n",
              "        [ 0.0302893 , -0.02536907,  0.00307301, ...,  0.03727281,\n",
              "          0.03064281, -0.00178183],\n",
              "        [-0.046744  ,  0.01823813, -0.04742136, ...,  0.04258407,\n",
              "         -0.04967957,  0.01532907],\n",
              "        [-0.04296107,  0.01218506,  0.04588656, ..., -0.02107468,\n",
              "         -0.01155639,  0.01341797]]], dtype=float32)>"
            ]
          },
          "metadata": {},
          "execution_count": 24
        }
      ]
    },
    {
      "cell_type": "code",
      "metadata": {
        "colab": {
          "base_uri": "https://localhost:8080/"
        },
        "id": "XqsruNPbCQ3s",
        "outputId": "0bb7f2ad-f2ea-4695-c620-3f93b46280b7"
      },
      "source": [
        "# Check out a single token's embedding\n",
        "sample_embed[0][0], sample_embed[0][0].shape, random_sentence"
      ],
      "execution_count": 25,
      "outputs": [
        {
          "output_type": "execute_result",
          "data": {
            "text/plain": [
              "(<tf.Tensor: shape=(128,), dtype=float32, numpy=\n",
              " array([-0.00698706, -0.00793505, -0.04764989, -0.04527038,  0.0169259 ,\n",
              "         0.03304083, -0.02840422, -0.02517225, -0.01475592,  0.03715681,\n",
              "        -0.03569195,  0.03888306, -0.04475002, -0.01270008,  0.03659787,\n",
              "        -0.04683406,  0.00883306,  0.03138154, -0.04381715, -0.0315284 ,\n",
              "         0.02513034, -0.03236975, -0.03911595, -0.00048854, -0.00138555,\n",
              "        -0.03464496,  0.04393588,  0.02678478, -0.02977093, -0.0238264 ,\n",
              "         0.0432368 ,  0.03801623, -0.03042395, -0.03384833, -0.02896816,\n",
              "        -0.04776258,  0.02169168,  0.03429896,  0.02178696,  0.01082801,\n",
              "        -0.00525274,  0.02388449,  0.03085924,  0.03372451,  0.03218767,\n",
              "         0.02228177, -0.02191721, -0.02500704, -0.02719252,  0.03884038,\n",
              "         0.02839211, -0.02714367, -0.01267251,  0.04543003,  0.03625623,\n",
              "        -0.0188459 , -0.03361138,  0.00454934,  0.03204868, -0.04272855,\n",
              "         0.04046421, -0.04917107,  0.02094263, -0.02719778, -0.04386835,\n",
              "         0.04425759,  0.04944395,  0.04185515, -0.00063526, -0.03343433,\n",
              "         0.0183668 ,  0.01302537, -0.03978193, -0.01467539,  0.03203858,\n",
              "         0.00662535,  0.02663562, -0.01909931, -0.04587999,  0.03060109,\n",
              "        -0.01628387, -0.00511331,  0.0182129 , -0.04311093, -0.000601  ,\n",
              "         0.01829792,  0.0467141 ,  0.01587475,  0.01017468,  0.03593438,\n",
              "        -0.00218714, -0.01098341, -0.01527204,  0.04238732, -0.03910478,\n",
              "         0.03175278,  0.04516366, -0.03386698,  0.0153023 , -0.04855308,\n",
              "         0.04518801,  0.04452122,  0.02628651,  0.04845489, -0.02849596,\n",
              "         0.00674216,  0.02470869,  0.01861234, -0.0481034 , -0.01056266,\n",
              "         0.02465573, -0.01377933,  0.01913923, -0.04303816,  0.00693578,\n",
              "         0.04971654, -0.03300756,  0.03737629, -0.03135484,  0.00190483,\n",
              "        -0.02900117, -0.01849931,  0.03256636,  0.00641286,  0.00834967,\n",
              "        -0.02411133, -0.04341428,  0.00408893], dtype=float32)>,\n",
              " TensorShape([128]),\n",
              " \"@TitorTau The Loretta Lynch one was fuckin' HI-LARIOUS to watch in realtime. It was like a train wreck of fact-checking and ombudsmanship.\")"
            ]
          },
          "metadata": {},
          "execution_count": 25
        }
      ]
    },
    {
      "cell_type": "markdown",
      "metadata": {
        "id": "PCbpg3V4FSny"
      },
      "source": [
        "## Modelling a text dataset (running a series of experiments)\n",
        "\n",
        "Now we've got a way to turn our text sequences into numbers, it's time to start building a series of modelling experiments.\n",
        "\n",
        "We'll start with a baseline and move on from there.\n",
        "\n",
        "* Model 0: Naive-Bayes (baseline), this is from [Sklearn ML map](https://scikit-learn.org/stable/tutorial/machine_learning_map/index.html)\n",
        "* Model 1: Feed-forward neural network (dense model)\n",
        "* Model 2: LSTM model (RNN)\n",
        "* Model 3: GRU model (RNN)\n",
        "* Model 4: Bidirectional-LSTM model (RNN)\n",
        "* Model 5: 1D Convolutional Neural Network (CNN)\n",
        "* Model 6: Tensorflow Hub Pretrained Feature Extractor (using transfer learning for NLP)\n",
        "* Model 7: Same as model 6 with 10% of the training data\n",
        "\n",
        "How are we going to approach all these?\n",
        "\n",
        "Use the standard steps in modelling with tensorflow:\n",
        "\n",
        "* Create a model\n",
        "* Build a model\n",
        "* Fit a model\n",
        "* Evaluate a model"
      ]
    },
    {
      "cell_type": "markdown",
      "metadata": {
        "id": "PsFOM04Bo1Zg"
      },
      "source": [
        "### Model 0: Getting a baseline\n",
        "\n",
        "As with all machine learning modelling experiments, it's important to create a baseline model so you've got a benchmark for future experiments to build upon.\n",
        "\n",
        "To create our baseline, we'll use Sklearn's Multinomial Naive Bayes using the TF-IDF formula to convert our words to numbers.\n",
        "\n",
        "> **Note:** It's common practise to use non-DL algorithms as a baseline because of their speed and then later using DL to see if you can improve upon them."
      ]
    },
    {
      "cell_type": "code",
      "metadata": {
        "colab": {
          "base_uri": "https://localhost:8080/"
        },
        "id": "6nRgoLUJrFew",
        "outputId": "1ca97fb3-85e4-4615-8825-a902b74899e9"
      },
      "source": [
        "from sklearn.feature_extraction.text import TfidfVectorizer\n",
        "from sklearn.naive_bayes import MultinomialNB\n",
        "from sklearn.pipeline import Pipeline\n",
        " \n",
        "model_0 = Pipeline([\n",
        "                    ('tfidf',TfidfVectorizer()), # convert words to numbers usinf tfidf\n",
        "                    ('clf',MultinomialNB()) # model the text\n",
        "])\n",
        "# Fit the pipeline to the training data\n",
        "model_0.fit(train_sentences, train_labels)"
      ],
      "execution_count": 26,
      "outputs": [
        {
          "output_type": "execute_result",
          "data": {
            "text/plain": [
              "Pipeline(memory=None,\n",
              "         steps=[('tfidf',\n",
              "                 TfidfVectorizer(analyzer='word', binary=False,\n",
              "                                 decode_error='strict',\n",
              "                                 dtype=<class 'numpy.float64'>,\n",
              "                                 encoding='utf-8', input='content',\n",
              "                                 lowercase=True, max_df=1.0, max_features=None,\n",
              "                                 min_df=1, ngram_range=(1, 1), norm='l2',\n",
              "                                 preprocessor=None, smooth_idf=True,\n",
              "                                 stop_words=None, strip_accents=None,\n",
              "                                 sublinear_tf=False,\n",
              "                                 token_pattern='(?u)\\\\b\\\\w\\\\w+\\\\b',\n",
              "                                 tokenizer=None, use_idf=True,\n",
              "                                 vocabulary=None)),\n",
              "                ('clf',\n",
              "                 MultinomialNB(alpha=1.0, class_prior=None, fit_prior=True))],\n",
              "         verbose=False)"
            ]
          },
          "metadata": {},
          "execution_count": 26
        }
      ]
    },
    {
      "cell_type": "code",
      "metadata": {
        "colab": {
          "base_uri": "https://localhost:8080/"
        },
        "id": "bNIlxtQ2sJsH",
        "outputId": "5a4f7749-1540-46ec-8cd9-fb52d1ce6c05"
      },
      "source": [
        "# Evaluate the baseline model\n",
        "baseline_score = model_0.score(val_sentences,val_labels)\n",
        "print(f\"Our baseline model achieves an accuracy of: {baseline_score*100:.2f}%\")"
      ],
      "execution_count": 27,
      "outputs": [
        {
          "output_type": "stream",
          "text": [
            "Our baseline model achieves an accuracy of: 79.27%\n"
          ],
          "name": "stdout"
        }
      ]
    },
    {
      "cell_type": "code",
      "metadata": {
        "colab": {
          "base_uri": "https://localhost:8080/"
        },
        "id": "N6MuBldTtOfB",
        "outputId": "18587041-a76e-49cf-885b-611c9061f1c0"
      },
      "source": [
        "# Make predictions\n",
        "baseline_preds = model_0.predict(val_sentences)\n",
        "baseline_preds[:20]"
      ],
      "execution_count": 28,
      "outputs": [
        {
          "output_type": "execute_result",
          "data": {
            "text/plain": [
              "array([1, 1, 1, 0, 0, 1, 1, 1, 1, 0, 0, 1, 0, 0, 0, 0, 0, 0, 0, 1])"
            ]
          },
          "metadata": {},
          "execution_count": 28
        }
      ]
    },
    {
      "cell_type": "markdown",
      "metadata": {
        "id": "EA3KSFbrOK_S"
      },
      "source": [
        "### Creating an evaluation function for our model experiments\n",
        "\n",
        "We could evaluate all of our model's predictions with different metrics every time, however, this will be cumbersome and could easily be fixed with a function...\n",
        "\n",
        "Let's create one to compare our model's predictions with truth labels using the following metrics:\n",
        "* Accuracy\n",
        "* Precision\n",
        "* Recall\n",
        "* F1-score\n",
        "\n",
        "> For a deep overview of many different evaluation methods, see the [sklearn documentation](https://scikit-learn.org/stable/modules/model_evaluation.html)"
      ]
    },
    {
      "cell_type": "code",
      "metadata": {
        "id": "h7L5NCcRt9Zu"
      },
      "source": [
        "# Function to evaluate: accuracy, precision, recall, f1-score\n",
        "from sklearn.metrics import accuracy_score, precision_recall_fscore_support\n",
        "def calculate_results(y_true,y_preds):\n",
        "  \"\"\"\n",
        "  Calculates model accuracy, precision, recall and f1 score of a binary classification model.\n",
        "  \"\"\"\n",
        "  # Calculate model accuracy\n",
        "  model_accuracy = accuracy_score(y_true,y_preds) * 100\n",
        "  # Calculate model precision, recall, f1-score using \"weighted\" average\n",
        "  model_precision, model_recall, model_f1, _ = precision_recall_fscore_support(y_true,y_preds,average=\"weighted\")\n",
        "  model_results = {'Accuracy':model_accuracy,\n",
        "                   'Precision':model_precision,\n",
        "                   'Recall':model_recall,\n",
        "                   'F1-score':model_f1}\n",
        "  return model_results"
      ],
      "execution_count": 29,
      "outputs": []
    },
    {
      "cell_type": "code",
      "metadata": {
        "colab": {
          "base_uri": "https://localhost:8080/"
        },
        "id": "ymp1xjJ7xQzD",
        "outputId": "bfdafbda-309b-4469-b240-24e1b0e7c7c0"
      },
      "source": [
        "baseline_results = calculate_results(val_labels,baseline_preds)\n",
        "baseline_results"
      ],
      "execution_count": 30,
      "outputs": [
        {
          "output_type": "execute_result",
          "data": {
            "text/plain": [
              "{'Accuracy': 79.26509186351706,\n",
              " 'F1-score': 0.7862189758049549,\n",
              " 'Precision': 0.8111390004213173,\n",
              " 'Recall': 0.7926509186351706}"
            ]
          },
          "metadata": {},
          "execution_count": 30
        }
      ]
    },
    {
      "cell_type": "markdown",
      "metadata": {
        "id": "Jp7Kt_SYRIji"
      },
      "source": [
        "### Model 1: A simple Dense Model"
      ]
    },
    {
      "cell_type": "code",
      "metadata": {
        "id": "GcDDc3-Rk8Z5"
      },
      "source": [
        "# Create a tensorboard callback (need to create a new one for each model)\n",
        "from helper_functions import create_tensorboard_callback\n",
        "\n",
        "# Create a directory to save tensorboard logs\n",
        "SAVE_DIR = \"model_logs\""
      ],
      "execution_count": 31,
      "outputs": []
    },
    {
      "cell_type": "code",
      "metadata": {
        "id": "El0ydbg-lk-P"
      },
      "source": [
        "# Build model with the Functional API\n",
        "from tensorflow.keras import layers\n",
        "inputs = layers.Input(shape=(1,), dtype=tf.string) # inputs are 1-dimensional strings takes 1 sequence at time\n",
        "x = text_vectorizer(inputs) # turn the input text into numbers\n",
        "x = embedding(x) # create an embedding of the numberised inputs\n",
        "x = layers.GlobalAveragePooling1D() (x) # condense the feature vector for each token to one vector\n",
        "outputs = layers.Dense(1, activation='sigmoid') (x) # Create the output layer, want binary outputs so use sigmoid activation\n",
        "model_1 = tf.keras.Model(inputs,outputs,name=\"model_1_dense\")"
      ],
      "execution_count": 32,
      "outputs": []
    },
    {
      "cell_type": "code",
      "metadata": {
        "id": "GUuEfsKOns7z",
        "colab": {
          "base_uri": "https://localhost:8080/"
        },
        "outputId": "686a81d8-5669-4c22-cfb1-78efddeca842"
      },
      "source": [
        "model_1.summary()"
      ],
      "execution_count": 33,
      "outputs": [
        {
          "output_type": "stream",
          "text": [
            "Model: \"model_1_dense\"\n",
            "_________________________________________________________________\n",
            "Layer (type)                 Output Shape              Param #   \n",
            "=================================================================\n",
            "input_1 (InputLayer)         [(None, 1)]               0         \n",
            "_________________________________________________________________\n",
            "text_vectorization_1 (TextVe (None, 15)                0         \n",
            "_________________________________________________________________\n",
            "embedding (Embedding)        (None, 15, 128)           1280000   \n",
            "_________________________________________________________________\n",
            "global_average_pooling1d (Gl (None, 128)               0         \n",
            "_________________________________________________________________\n",
            "dense (Dense)                (None, 1)                 129       \n",
            "=================================================================\n",
            "Total params: 1,280,129\n",
            "Trainable params: 1,280,129\n",
            "Non-trainable params: 0\n",
            "_________________________________________________________________\n"
          ],
          "name": "stdout"
        }
      ]
    },
    {
      "cell_type": "code",
      "metadata": {
        "colab": {
          "base_uri": "https://localhost:8080/",
          "height": 533
        },
        "id": "cRiWXLMeqGMB",
        "outputId": "72f7f934-cdb7-4486-84ed-b9e84734765f"
      },
      "source": [
        "from tensorflow.keras.utils import plot_model\n",
        "plot_model(model_1,show_shapes=True)"
      ],
      "execution_count": 34,
      "outputs": [
        {
          "output_type": "execute_result",
          "data": {
            "image/png": "[encoded data removed]",
            "text/plain": [
              "<IPython.core.display.Image object>"
            ]
          },
          "metadata": {},
          "execution_count": 34
        }
      ]
    },
    {
      "cell_type": "code",
      "metadata": {
        "id": "Ny3qLyXsrago"
      },
      "source": [
        "# Compile model\n",
        "model_1.compile(\n",
        "    loss = \"binary_crossentropy\",\n",
        "    optimizer = tf.keras.optimizers.Adam(),\n",
        "    metrics=['accuracy']\n",
        ")"
      ],
      "execution_count": 35,
      "outputs": []
    },
    {
      "cell_type": "code",
      "metadata": {
        "colab": {
          "base_uri": "https://localhost:8080/"
        },
        "id": "xbVm3lvRrjzT",
        "outputId": "05b64327-4786-49d2-a083-e2da430d382b"
      },
      "source": [
        "# Fit the model\n",
        "model_1_history = model_1.fit(x = train_sentences,\n",
        "                              y = train_labels,\n",
        "                              epochs=5,\n",
        "                              validation_data = (val_sentences,val_labels),\n",
        "                              callbacks=[create_tensorboard_callback(dir_name=SAVE_DIR,\n",
        "                                                                     experiment_name=\"model_1_dense\")])"
      ],
      "execution_count": 36,
      "outputs": [
        {
          "output_type": "stream",
          "text": [
            "Saving TensorBoard log files to: model_logs/model_1_dense/20210825-161757\n",
            "Epoch 1/5\n",
            "215/215 [==============================] - 4s 13ms/step - loss: 0.6106 - accuracy: 0.6957 - val_loss: 0.5371 - val_accuracy: 0.7507\n",
            "Epoch 2/5\n",
            "215/215 [==============================] - 3s 12ms/step - loss: 0.4409 - accuracy: 0.8209 - val_loss: 0.4720 - val_accuracy: 0.7822\n",
            "Epoch 3/5\n",
            "215/215 [==============================] - 3s 12ms/step - loss: 0.3469 - accuracy: 0.8613 - val_loss: 0.4582 - val_accuracy: 0.7966\n",
            "Epoch 4/5\n",
            "215/215 [==============================] - 2s 12ms/step - loss: 0.2838 - accuracy: 0.8895 - val_loss: 0.4684 - val_accuracy: 0.7913\n",
            "Epoch 5/5\n",
            "215/215 [==============================] - 2s 11ms/step - loss: 0.2367 - accuracy: 0.9113 - val_loss: 0.4825 - val_accuracy: 0.7782\n"
          ],
          "name": "stdout"
        }
      ]
    },
    {
      "cell_type": "code",
      "metadata": {
        "colab": {
          "base_uri": "https://localhost:8080/"
        },
        "id": "2aNOh_k3seVW",
        "outputId": "6151b347-59c1-468d-8a7c-d207f2ee60f8"
      },
      "source": [
        "# Check the results \n",
        "model_1.evaluate(val_sentences, val_labels)"
      ],
      "execution_count": 37,
      "outputs": [
        {
          "output_type": "stream",
          "text": [
            "24/24 [==============================] - 0s 1ms/step - loss: 0.4825 - accuracy: 0.7782\n"
          ],
          "name": "stdout"
        },
        {
          "output_type": "execute_result",
          "data": {
            "text/plain": [
              "[0.48249199986457825, 0.778215229511261]"
            ]
          },
          "metadata": {},
          "execution_count": 37
        }
      ]
    },
    {
      "cell_type": "code",
      "metadata": {
        "colab": {
          "base_uri": "https://localhost:8080/"
        },
        "id": "FE5OSckEsUbF",
        "outputId": "516ca8a7-ad06-4e48-fe01-0d46bb3129b1"
      },
      "source": [
        "# Make some predictions and evaluate those\n",
        "model_1_pred_probs = model_1.predict(val_sentences)\n",
        "model_1_pred_probs.shape"
      ],
      "execution_count": 38,
      "outputs": [
        {
          "output_type": "execute_result",
          "data": {
            "text/plain": [
              "(762, 1)"
            ]
          },
          "metadata": {},
          "execution_count": 38
        }
      ]
    },
    {
      "cell_type": "code",
      "metadata": {
        "colab": {
          "base_uri": "https://localhost:8080/"
        },
        "id": "JmfEfyiltWiz",
        "outputId": "2c830d4b-e137-4b77-b355-7e7867e4f3f3"
      },
      "source": [
        "# Look a a single prediction\n",
        "model_1.predict(val_sentences)[0]"
      ],
      "execution_count": 39,
      "outputs": [
        {
          "output_type": "execute_result",
          "data": {
            "text/plain": [
              "array([0.31683248], dtype=float32)"
            ]
          },
          "metadata": {},
          "execution_count": 39
        }
      ]
    },
    {
      "cell_type": "code",
      "metadata": {
        "colab": {
          "base_uri": "https://localhost:8080/"
        },
        "id": "9kGAd_ULtjFA",
        "outputId": "986a3689-db36-4f07-a863-4f08ba611474"
      },
      "source": [
        "# Look at first 10 predictions\n",
        "model_1_pred_probs[:10]"
      ],
      "execution_count": 40,
      "outputs": [
        {
          "output_type": "execute_result",
          "data": {
            "text/plain": [
              "array([[0.31683248],\n",
              "       [0.8695492 ],\n",
              "       [0.99831504],\n",
              "       [0.12717927],\n",
              "       [0.10743469],\n",
              "       [0.95236176],\n",
              "       [0.9270513 ],\n",
              "       [0.99360913],\n",
              "       [0.97022414],\n",
              "       [0.31928658]], dtype=float32)"
            ]
          },
          "metadata": {},
          "execution_count": 40
        }
      ]
    },
    {
      "cell_type": "code",
      "metadata": {
        "colab": {
          "base_uri": "https://localhost:8080/"
        },
        "id": "9saWaNDlwEZs",
        "outputId": "796f88b0-408d-41fa-cb32-a7bf472af894"
      },
      "source": [
        "val_labels[:20]"
      ],
      "execution_count": 41,
      "outputs": [
        {
          "output_type": "execute_result",
          "data": {
            "text/plain": [
              "array([0, 0, 1, 1, 1, 1, 1, 1, 1, 0, 0, 0, 0, 0, 0, 0, 0, 0, 1, 0])"
            ]
          },
          "metadata": {},
          "execution_count": 41
        }
      ]
    },
    {
      "cell_type": "code",
      "metadata": {
        "colab": {
          "base_uri": "https://localhost:8080/"
        },
        "id": "vBFJt96SvjKm",
        "outputId": "eacbb433-c23e-4983-885d-ee96b47b2e7e"
      },
      "source": [
        "# Convert model prediction probabilities to label format\n",
        "model_1_preds = tf.squeeze(tf.round(model_1_pred_probs))\n",
        "model_1_preds[:20]"
      ],
      "execution_count": 42,
      "outputs": [
        {
          "output_type": "execute_result",
          "data": {
            "text/plain": [
              "<tf.Tensor: shape=(20,), dtype=float32, numpy=\n",
              "array([0., 1., 1., 0., 0., 1., 1., 1., 1., 0., 0., 1., 0., 0., 0., 0., 0.,\n",
              "       0., 0., 1.], dtype=float32)>"
            ]
          },
          "metadata": {},
          "execution_count": 42
        }
      ]
    },
    {
      "cell_type": "code",
      "metadata": {
        "colab": {
          "base_uri": "https://localhost:8080/"
        },
        "id": "qZsEFcoGv0wF",
        "outputId": "9dd0d5e4-b980-45d5-c253-e53b0f4e7128"
      },
      "source": [
        "# Calculate our model_1 results\n",
        "model_1_results = calculate_results(y_true = val_labels,\n",
        "                                    y_preds = model_1_preds)\n",
        "model_1_results"
      ],
      "execution_count": 43,
      "outputs": [
        {
          "output_type": "execute_result",
          "data": {
            "text/plain": [
              "{'Accuracy': 77.82152230971128,\n",
              " 'F1-score': 0.7751716074860721,\n",
              " 'Precision': 0.7825342114649019,\n",
              " 'Recall': 0.7782152230971129}"
            ]
          },
          "metadata": {},
          "execution_count": 43
        }
      ]
    },
    {
      "cell_type": "code",
      "metadata": {
        "colab": {
          "base_uri": "https://localhost:8080/"
        },
        "id": "cJPcHkRYxZOx",
        "outputId": "7301e090-323f-4814-f751-777e8bc3e41b"
      },
      "source": [
        "baseline_results"
      ],
      "execution_count": 44,
      "outputs": [
        {
          "output_type": "execute_result",
          "data": {
            "text/plain": [
              "{'Accuracy': 79.26509186351706,\n",
              " 'F1-score': 0.7862189758049549,\n",
              " 'Precision': 0.8111390004213173,\n",
              " 'Recall': 0.7926509186351706}"
            ]
          },
          "metadata": {},
          "execution_count": 44
        }
      ]
    },
    {
      "cell_type": "code",
      "metadata": {
        "colab": {
          "base_uri": "https://localhost:8080/"
        },
        "id": "hNcEYl03w2TL",
        "outputId": "8ce4f1c6-da90-41e9-c88b-1780f5168c4f"
      },
      "source": [
        "# Looks like our baseline model is outperforming our first deep learning model\n",
        "import numpy as np\n",
        "np.array(list(model_1_results.values())) > np.array(list(baseline_results.values()))"
      ],
      "execution_count": 45,
      "outputs": [
        {
          "output_type": "execute_result",
          "data": {
            "text/plain": [
              "array([False, False, False, False])"
            ]
          },
          "metadata": {},
          "execution_count": 45
        }
      ]
    },
    {
      "cell_type": "markdown",
      "metadata": {
        "id": "C_HDAY8lxSc7"
      },
      "source": [
        "## Visualizing learned embeddings"
      ]
    },
    {
      "cell_type": "code",
      "metadata": {
        "colab": {
          "base_uri": "https://localhost:8080/"
        },
        "id": "3ZRAOC7DycUq",
        "outputId": "2ead75b2-43d5-428d-ec6f-b71dca1b73d9"
      },
      "source": [
        "# Get the vocabulary from the text vectorization layer\n",
        "words_in_vocab = text_vectorizer.get_vocabulary()\n",
        "len(words_in_vocab), words_in_vocab[:10]"
      ],
      "execution_count": 46,
      "outputs": [
        {
          "output_type": "execute_result",
          "data": {
            "text/plain": [
              "(10000, ['', '[UNK]', 'the', 'a', 'in', 'to', 'of', 'and', 'i', 'is'])"
            ]
          },
          "metadata": {},
          "execution_count": 46
        }
      ]
    },
    {
      "cell_type": "code",
      "metadata": {
        "colab": {
          "base_uri": "https://localhost:8080/"
        },
        "id": "iuJJeyaRy4Os",
        "outputId": "c07760db-fae2-4e60-d665-f47584ea8d1d"
      },
      "source": [
        "# Model 1 summary\n",
        "model_1.summary()"
      ],
      "execution_count": 47,
      "outputs": [
        {
          "output_type": "stream",
          "text": [
            "Model: \"model_1_dense\"\n",
            "_________________________________________________________________\n",
            "Layer (type)                 Output Shape              Param #   \n",
            "=================================================================\n",
            "input_1 (InputLayer)         [(None, 1)]               0         \n",
            "_________________________________________________________________\n",
            "text_vectorization_1 (TextVe (None, 15)                0         \n",
            "_________________________________________________________________\n",
            "embedding (Embedding)        (None, 15, 128)           1280000   \n",
            "_________________________________________________________________\n",
            "global_average_pooling1d (Gl (None, 128)               0         \n",
            "_________________________________________________________________\n",
            "dense (Dense)                (None, 1)                 129       \n",
            "=================================================================\n",
            "Total params: 1,280,129\n",
            "Trainable params: 1,280,129\n",
            "Non-trainable params: 0\n",
            "_________________________________________________________________\n"
          ],
          "name": "stdout"
        }
      ]
    },
    {
      "cell_type": "markdown",
      "metadata": {
        "id": "_Y9VYAFg1BOV"
      },
      "source": [
        "**Get the weight matrix of embedding layer:**\n",
        "These are the numerical representations of each token on our training data, which have been learned for ~5 epochs\n"
      ]
    },
    {
      "cell_type": "code",
      "metadata": {
        "colab": {
          "base_uri": "https://localhost:8080/"
        },
        "id": "uHhn-owi1g9n",
        "outputId": "adfe75a8-b0e9-4924-a37c-69da08afbb2d"
      },
      "source": [
        "embed_weights = model_1.get_layer(\"embedding\").get_weights()[0]\n",
        "embed_weights.shape # same size as vocab size and embedding_dim (output_dim of our embedding layer)"
      ],
      "execution_count": 48,
      "outputs": [
        {
          "output_type": "execute_result",
          "data": {
            "text/plain": [
              "(10000, 128)"
            ]
          },
          "metadata": {},
          "execution_count": 48
        }
      ]
    },
    {
      "cell_type": "markdown",
      "metadata": {
        "id": "jU6QOzG14Yb_"
      },
      "source": [
        "Now we've got the embedding matrix our model has learned to represent our tokens, let's see how can we visualize it.\n",
        "\n",
        "To do so, TensorFlow has a handy tool called projector: http://projector.tensorflow.org/\n",
        "\n",
        "And TensorFlow also has an incredible guide on word embeddings themselves: https://www.tensorflow.org/tutorials/text/word_embeddings"
      ]
    },
    {
      "cell_type": "code",
      "metadata": {
        "id": "rGi3VG5h2CIZ"
      },
      "source": [
        "# Create embedding files (we got this from TensorFlow's word embedding documentation)\n",
        "import io\n",
        "out_v = io.open('vectors.tsv', 'w', encoding='utf-8')\n",
        "out_m = io.open('metadata.tsv', 'w', encoding='utf-8')\n",
        "\n",
        "for index, word in enumerate(words_in_vocab):\n",
        "  if index == 0:\n",
        "    continue  # skip 0, it's padding.\n",
        "  vec = embed_weights[index]\n",
        "  out_v.write('\\t'.join([str(x) for x in vec]) + \"\\n\")\n",
        "  out_m.write(word + \"\\n\")\n",
        "out_v.close()\n",
        "out_m.close()"
      ],
      "execution_count": 49,
      "outputs": []
    },
    {
      "cell_type": "code",
      "metadata": {
        "colab": {
          "base_uri": "https://localhost:8080/",
          "height": 17
        },
        "id": "sfgF_lm77AMo",
        "outputId": "630e695b-bf0c-42cd-b0d0-963275427585"
      },
      "source": [
        "# Download files from Colab to upload to projector\n",
        "from google.colab import files\n",
        "files.download('vectors.tsv')\n",
        "files.download('metadata.tsv')"
      ],
      "execution_count": 50,
      "outputs": [
        {
          "output_type": "display_data",
          "data": {
            "application/javascript": [
              "\n",
              "    async function download(id, filename, size) {\n",
              "      if (!google.colab.kernel.accessAllowed) {\n",
              "        return;\n",
              "      }\n",
              "      const div = document.createElement('div');\n",
              "      const label = document.createElement('label');\n",
              "      label.textContent = `Downloading \"${filename}\": `;\n",
              "      div.appendChild(label);\n",
              "      const progress = document.createElement('progress');\n",
              "      progress.max = size;\n",
              "      div.appendChild(progress);\n",
              "      document.body.appendChild(div);\n",
              "\n",
              "      const buffers = [];\n",
              "      let downloaded = 0;\n",
              "\n",
              "      const channel = await google.colab.kernel.comms.open(id);\n",
              "      // Send a message to notify the kernel that we're ready.\n",
              "      channel.send({})\n",
              "\n",
              "      for await (const message of channel.messages) {\n",
              "        // Send a message to notify the kernel that we're ready.\n",
              "        channel.send({})\n",
              "        if (message.buffers) {\n",
              "          for (const buffer of message.buffers) {\n",
              "            buffers.push(buffer);\n",
              "            downloaded += buffer.byteLength;\n",
              "            progress.value = downloaded;\n",
              "          }\n",
              "        }\n",
              "      }\n",
              "      const blob = new Blob(buffers, {type: 'application/binary'});\n",
              "      const a = document.createElement('a');\n",
              "      a.href = window.URL.createObjectURL(blob);\n",
              "      a.download = filename;\n",
              "      div.appendChild(a);\n",
              "      a.click();\n",
              "      div.remove();\n",
              "    }\n",
              "  "
            ],
            "text/plain": [
              "<IPython.core.display.Javascript object>"
            ]
          },
          "metadata": {}
        },
        {
          "output_type": "display_data",
          "data": {
            "application/javascript": [
              "download(\"download_a4e0a2bc-d82f-4aef-b8b5-260246a7009e\", \"vectors.tsv\", 15382096)"
            ],
            "text/plain": [
              "<IPython.core.display.Javascript object>"
            ]
          },
          "metadata": {}
        },
        {
          "output_type": "display_data",
          "data": {
            "application/javascript": [
              "\n",
              "    async function download(id, filename, size) {\n",
              "      if (!google.colab.kernel.accessAllowed) {\n",
              "        return;\n",
              "      }\n",
              "      const div = document.createElement('div');\n",
              "      const label = document.createElement('label');\n",
              "      label.textContent = `Downloading \"${filename}\": `;\n",
              "      div.appendChild(label);\n",
              "      const progress = document.createElement('progress');\n",
              "      progress.max = size;\n",
              "      div.appendChild(progress);\n",
              "      document.body.appendChild(div);\n",
              "\n",
              "      const buffers = [];\n",
              "      let downloaded = 0;\n",
              "\n",
              "      const channel = await google.colab.kernel.comms.open(id);\n",
              "      // Send a message to notify the kernel that we're ready.\n",
              "      channel.send({})\n",
              "\n",
              "      for await (const message of channel.messages) {\n",
              "        // Send a message to notify the kernel that we're ready.\n",
              "        channel.send({})\n",
              "        if (message.buffers) {\n",
              "          for (const buffer of message.buffers) {\n",
              "            buffers.push(buffer);\n",
              "            downloaded += buffer.byteLength;\n",
              "            progress.value = downloaded;\n",
              "          }\n",
              "        }\n",
              "      }\n",
              "      const blob = new Blob(buffers, {type: 'application/binary'});\n",
              "      const a = document.createElement('a');\n",
              "      a.href = window.URL.createObjectURL(blob);\n",
              "      a.download = filename;\n",
              "      div.appendChild(a);\n",
              "      a.click();\n",
              "      div.remove();\n",
              "    }\n",
              "  "
            ],
            "text/plain": [
              "<IPython.core.display.Javascript object>"
            ]
          },
          "metadata": {}
        },
        {
          "output_type": "display_data",
          "data": {
            "application/javascript": [
              "download(\"download_49c00751-3ccc-4a6b-91de-fe2d97a24bc4\", \"metadata.tsv\", 80388)"
            ],
            "text/plain": [
              "<IPython.core.display.Javascript object>"
            ]
          },
          "metadata": {}
        }
      ]
    },
    {
      "cell_type": "markdown",
      "metadata": {
        "id": "goQW4yG-I9uS"
      },
      "source": [
        "**Resources:** For more information about embeddings, check out the following links:\n",
        "* Jay Alammar's visualized word2vec post: https://jalammar.github.io/illustrated-word2vec/\n",
        "* TensorFlow's Word Embedding guide: https://www.tensorflow.org/tutorials/text/word_embeddings"
      ]
    },
    {
      "cell_type": "markdown",
      "metadata": {
        "id": "1rm-xKh3AEFu"
      },
      "source": [
        "## Recurrent Neural Networks (RNN's)\n",
        "\n",
        "RNN's are useful for sequence data.\n",
        "\n",
        "The premise of a recurrent neural network is to use the representation of a previous input to aid the representation of a later input.\n",
        "\n",
        "For more info of the internals of the RNNs see: \n",
        "* [MIT's Sequence Modelling Lecture](https://www.youtube.com/watch?v=qjrad0V0uJE&list=PLtBw6njQRU-rwp5__7C0oIVt26ZgjG9NI&index=3)\n",
        "* [Chris Olah's intro to LSTMs](https://colah.github.io/posts/2015-08-Understanding-LSTMs/)\n",
        "* [Andrei Karpathy's the unreasonable effectiveness of recurrent neural networks](http://karpathy.github.io/2015/05/21/rnn-effectiveness/)"
      ]
    },
    {
      "cell_type": "markdown",
      "metadata": {
        "id": "LGo9TbrCJlOw"
      },
      "source": [
        "### Model 2: LSTM \n",
        "\n",
        "LSTM = Long Short Term Memory (one of the most popular LSTM cells)\n",
        "\n",
        "Our structure of an RNN typically looks like this:\n",
        "\n",
        "```\n",
        "Input (text) -> Tokenize -> Embedding -> Layers (RNNs/dense) -> Output (label probability)\n",
        "```"
      ]
    },
    {
      "cell_type": "code",
      "metadata": {
        "id": "jhijtfH6QrLZ"
      },
      "source": [
        "# Create an LSTM model\n",
        "from tensorflow.keras import layers\n",
        "inputs = layers.Input(shape=(1,), dtype=tf.string, name=\"input_layer\")\n",
        "x = text_vectorizer(inputs) # tokenize\n",
        "x = embedding(x) # representation of tokens mapped to numbers\n",
        "# print(x.shape)\n",
        "# x = layers.LSTM(units=64, return_sequences=True)(x) # when you're stacking RNN cells together you need to return_sequences=True\n",
        "# print(x.shape)\n",
        "x = layers.LSTM(units=64)(x)\n",
        "# print(x.shape)\n",
        "# x = layers.Dense(64,activation='relu')(x)\n",
        "# print(x.shape)\n",
        "outputs = layers.Dense(1, activation='sigmoid')(x)\n",
        "model_2 = tf.keras.Model(inputs,outputs,name='model_2_LSTM')\n"
      ],
      "execution_count": 57,
      "outputs": []
    },
    {
      "cell_type": "code",
      "metadata": {
        "colab": {
          "base_uri": "https://localhost:8080/"
        },
        "id": "S7v6mwcERRdh",
        "outputId": "84ebcf52-c9c5-4d27-f43e-ca7af541a6d4"
      },
      "source": [
        "# Get a summary\n",
        "model_2.summary()"
      ],
      "execution_count": 58,
      "outputs": [
        {
          "output_type": "stream",
          "text": [
            "Model: \"model_2_LSTM\"\n",
            "_________________________________________________________________\n",
            "Layer (type)                 Output Shape              Param #   \n",
            "=================================================================\n",
            "input_layer (InputLayer)     [(None, 1)]               0         \n",
            "_________________________________________________________________\n",
            "text_vectorization_1 (TextVe (None, 15)                0         \n",
            "_________________________________________________________________\n",
            "embedding (Embedding)        (None, 15, 128)           1280000   \n",
            "_________________________________________________________________\n",
            "lstm_7 (LSTM)                (None, 64)                49408     \n",
            "_________________________________________________________________\n",
            "dense_6 (Dense)              (None, 1)                 65        \n",
            "=================================================================\n",
            "Total params: 1,329,473\n",
            "Trainable params: 1,329,473\n",
            "Non-trainable params: 0\n",
            "_________________________________________________________________\n"
          ],
          "name": "stdout"
        }
      ]
    },
    {
      "cell_type": "code",
      "metadata": {
        "colab": {
          "base_uri": "https://localhost:8080/",
          "height": 533
        },
        "id": "catsvUM9VgNv",
        "outputId": "e03e884a-a445-4ff0-9278-e8ef28e6898f"
      },
      "source": [
        "plot_model(model_2,show_shapes=True)"
      ],
      "execution_count": 59,
      "outputs": [
        {
          "output_type": "execute_result",
          "data": {
            "image/png": "[encoded data removed]",
            "text/plain": [
              "<IPython.core.display.Image object>"
            ]
          },
          "metadata": {},
          "execution_count": 59
        }
      ]
    },
    {
      "cell_type": "code",
      "metadata": {
        "id": "UDkHY4FAVut1"
      },
      "source": [
        "# Compile the model\n",
        "model_2.compile(\n",
        "    loss = 'binary_crossentropy',\n",
        "    optimizer= tf.keras.optimizers.Adam(),\n",
        "    metrics=['accuracy']\n",
        ")"
      ],
      "execution_count": 60,
      "outputs": []
    },
    {
      "cell_type": "code",
      "metadata": {
        "colab": {
          "base_uri": "https://localhost:8080/"
        },
        "id": "agt3Pv8bV_ge",
        "outputId": "1ae70eba-6f27-4144-e898-a85fe74db46b"
      },
      "source": [
        "# Fit the model\n",
        "history_model_2 = model_2.fit(train_sentences,\n",
        "                              train_labels,\n",
        "                              epochs=5,\n",
        "                              validation_data = (val_sentences,val_labels),\n",
        "                              callbacks=[create_tensorboard_callback(dir_name=SAVE_DIR,\n",
        "                                                                     experiment_name=\"model_2_LSTM\")])"
      ],
      "execution_count": 61,
      "outputs": [
        {
          "output_type": "stream",
          "text": [
            "Saving TensorBoard log files to: model_logs/model_2_LSTM/20210825-172639\n",
            "Epoch 1/5\n",
            "215/215 [==============================] - 7s 25ms/step - loss: 0.2263 - accuracy: 0.9174 - val_loss: 0.5377 - val_accuracy: 0.7861\n",
            "Epoch 2/5\n",
            "215/215 [==============================] - 5s 22ms/step - loss: 0.1556 - accuracy: 0.9428 - val_loss: 0.6062 - val_accuracy: 0.7756\n",
            "Epoch 3/5\n",
            "215/215 [==============================] - 5s 22ms/step - loss: 0.1294 - accuracy: 0.9502 - val_loss: 0.7198 - val_accuracy: 0.7808\n",
            "Epoch 4/5\n",
            "215/215 [==============================] - 5s 22ms/step - loss: 0.1060 - accuracy: 0.9603 - val_loss: 0.8010 - val_accuracy: 0.7756\n",
            "Epoch 5/5\n",
            "215/215 [==============================] - 5s 22ms/step - loss: 0.0837 - accuracy: 0.9650 - val_loss: 1.0341 - val_accuracy: 0.7730\n"
          ],
          "name": "stdout"
        }
      ]
    },
    {
      "cell_type": "code",
      "metadata": {
        "colab": {
          "base_uri": "https://localhost:8080/"
        },
        "id": "-apQ2UTTWYAd",
        "outputId": "5e196427-92cc-4cd6-a2c0-1e3f1dcd3f1f"
      },
      "source": [
        "# Make predictions with LSTM Model\n",
        "model_2_pred_probs = model_2.predict(val_sentences)\n",
        "model_2_pred_probs[:10]"
      ],
      "execution_count": 62,
      "outputs": [
        {
          "output_type": "execute_result",
          "data": {
            "text/plain": [
              "array([[4.1826069e-03],\n",
              "       [3.7356606e-01],\n",
              "       [9.9975872e-01],\n",
              "       [6.4552516e-02],\n",
              "       [3.6579370e-04],\n",
              "       [9.9941397e-01],\n",
              "       [7.3541343e-01],\n",
              "       [9.9981791e-01],\n",
              "       [9.9972004e-01],\n",
              "       [9.7370684e-01]], dtype=float32)"
            ]
          },
          "metadata": {},
          "execution_count": 62
        }
      ]
    },
    {
      "cell_type": "code",
      "metadata": {
        "colab": {
          "base_uri": "https://localhost:8080/"
        },
        "id": "BAXMxmiiWpzN",
        "outputId": "33de735c-bf6d-4216-8646-d626562543db"
      },
      "source": [
        "# Convert model 2 pred probs to labels\n",
        "model_2_preds = tf.squeeze(tf.round(model_2_pred_probs))\n",
        "model_2_preds[:20]"
      ],
      "execution_count": 63,
      "outputs": [
        {
          "output_type": "execute_result",
          "data": {
            "text/plain": [
              "<tf.Tensor: shape=(20,), dtype=float32, numpy=\n",
              "array([0., 0., 1., 0., 0., 1., 1., 1., 1., 1., 0., 1., 0., 0., 0., 0., 0.,\n",
              "       0., 0., 1.], dtype=float32)>"
            ]
          },
          "metadata": {},
          "execution_count": 63
        }
      ]
    },
    {
      "cell_type": "code",
      "metadata": {
        "colab": {
          "base_uri": "https://localhost:8080/"
        },
        "id": "nPjwlYkLW6vo",
        "outputId": "60d0aa2a-3ca3-43e6-a6f6-4e4456cce4cf"
      },
      "source": [
        "# Calculate model 2 results\n",
        "model_2_results = calculate_results(y_true=val_labels,\n",
        "                  y_preds=model_2_preds)\n",
        "model_2_results"
      ],
      "execution_count": 66,
      "outputs": [
        {
          "output_type": "execute_result",
          "data": {
            "text/plain": [
              "{'Accuracy': 77.29658792650919,\n",
              " 'F1-score': 0.7704381702262061,\n",
              " 'Precision': 0.775649278370019,\n",
              " 'Recall': 0.7729658792650919}"
            ]
          },
          "metadata": {},
          "execution_count": 66
        }
      ]
    },
    {
      "cell_type": "code",
      "metadata": {
        "colab": {
          "base_uri": "https://localhost:8080/"
        },
        "id": "QWvaSmXUXEHA",
        "outputId": "955a1061-7daa-416e-c1f8-b6ea4519f57f"
      },
      "source": [
        "baseline_results"
      ],
      "execution_count": 67,
      "outputs": [
        {
          "output_type": "execute_result",
          "data": {
            "text/plain": [
              "{'Accuracy': 79.26509186351706,\n",
              " 'F1-score': 0.7862189758049549,\n",
              " 'Precision': 0.8111390004213173,\n",
              " 'Recall': 0.7926509186351706}"
            ]
          },
          "metadata": {},
          "execution_count": 67
        }
      ]
    },
    {
      "cell_type": "code",
      "metadata": {
        "colab": {
          "base_uri": "https://localhost:8080/"
        },
        "id": "L9ZBBu8Na9ok",
        "outputId": "68113ba5-5cce-44ac-c189-db2b6445cc27"
      },
      "source": [
        "model_x.summary()"
      ],
      "execution_count": 76,
      "outputs": [
        {
          "output_type": "stream",
          "text": [
            "Model: \"Model_X\"\n",
            "_________________________________________________________________\n",
            "Layer (type)                 Output Shape              Param #   \n",
            "=================================================================\n",
            "input_layer (InputLayer)     [(None, 1)]               0         \n",
            "_________________________________________________________________\n",
            "text_vectorization_1 (TextVe (None, 15)                0         \n",
            "_________________________________________________________________\n",
            "embedding (Embedding)        (None, 15, 128)           1280000   \n",
            "_________________________________________________________________\n",
            "lstm_13 (LSTM)               (None, 15, 64)            49408     \n",
            "_________________________________________________________________\n",
            "pooling_layer (GlobalAverage (None, 64)                0         \n",
            "_________________________________________________________________\n",
            "dense_layer (Dense)          (None, 64)                4160      \n",
            "_________________________________________________________________\n",
            "dense_8 (Dense)              (None, 1)                 65        \n",
            "=================================================================\n",
            "Total params: 1,333,633\n",
            "Trainable params: 1,333,633\n",
            "Non-trainable params: 0\n",
            "_________________________________________________________________\n"
          ],
          "name": "stdout"
        }
      ]
    },
    {
      "cell_type": "code",
      "metadata": {
        "id": "TsjYx9x2buLI"
      },
      "source": [
        ""
      ],
      "execution_count": null,
      "outputs": []
    }
  ]
}