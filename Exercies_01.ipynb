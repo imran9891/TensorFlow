{
  "nbformat": 4,
  "nbformat_minor": 0,
  "metadata": {
    "colab": {
      "name": "Exercies_01.ipynb",
      "provenance": [],
      "authorship_tag": "ABX9TyOWTq0CsPgv3AOqRmA+1MBL",
      "include_colab_link": true
    },
    "kernelspec": {
      "name": "python3",
      "display_name": "Python 3"
    },
    "language_info": {
      "name": "python"
    }
  },
  "cells": [
    {
      "cell_type": "markdown",
      "metadata": {
        "id": "view-in-github",
        "colab_type": "text"
      },
      "source": [
        "<a href=\"https://colab.research.google.com/github/imran9891/TensorFlow/blob/main/Exercies_01.ipynb\" target=\"_parent\"><img src=\"https://colab.research.google.com/assets/colab-badge.svg\" alt=\"Open In Colab\"/></a>"
      ]
    },
    {
      "cell_type": "markdown",
      "metadata": {
        "id": "tBZ1gh4oN_Pn"
      },
      "source": [
        "# TensorFlow Fundamentals Exercises\n",
        "1. Create a vector, scalar, matrix and tensor with values of your choosing using tf.constant().\n",
        "2. Find the shape, rank and size of the tensors you created in 1.\n",
        "3. Create two tensors containing random values between 0 and 1 with shape [5, 300].\n",
        "4. Multiply the two tensors you created in 3 using matrix multiplication.\n",
        "5. Multiply the two tensors you created in 3 using dot product.\n",
        "6. Create a tensor with random values between 0 and 1 with shape [224, 224, 3].\n",
        "7. Find the min and max values of the tensor you created in 6 along the first axis.\n",
        "8. Created a tensor with random values of shape [1, 224, 224, 3] then squeeze it to change the shape to [224, 224, 3].\n",
        "9. Create a tensor with shape [10] using your own choice of values, then find the index which has the maximum val\n",
        "10. One-hot encode the tensor you created in 9."
      ]
    },
    {
      "cell_type": "code",
      "metadata": {
        "id": "G19mIewpOfH9"
      },
      "source": [
        "# Import dependencies\n",
        "import tensorflow as tf"
      ],
      "execution_count": 1,
      "outputs": []
    },
    {
      "cell_type": "code",
      "metadata": {
        "colab": {
          "base_uri": "https://localhost:8080/"
        },
        "id": "9bAJ08rMOXvq",
        "outputId": "75829c11-4e80-492c-9599-c39f2f0846aa"
      },
      "source": [
        "# 1. Create a vector, scalar, matrix and tensor with values of your choosing using tf.constant().\n",
        "vector = tf.constant([1,2,3])\n",
        "scalar = tf.constant(9)\n",
        "matrix = tf.constant([[1,2,3],\n",
        "                      [4,5,6],\n",
        "                      [7,8,9]])\n",
        "tensor = tf.constant([[[1,2,3],\n",
        "                       [4,5,6]],\n",
        "                      [[7,8,9],\n",
        "                      [10,11,12]]])\n",
        "print(scalar, scalar.ndim)\n",
        "print(vector, vector.ndim)\n",
        "print(matrix, matrix.ndim)\n",
        "print(tensor, tensor.ndim)"
      ],
      "execution_count": 2,
      "outputs": [
        {
          "output_type": "stream",
          "text": [
            "tf.Tensor(9, shape=(), dtype=int32) 0\n",
            "tf.Tensor([1 2 3], shape=(3,), dtype=int32) 1\n",
            "tf.Tensor(\n",
            "[[1 2 3]\n",
            " [4 5 6]\n",
            " [7 8 9]], shape=(3, 3), dtype=int32) 2\n",
            "tf.Tensor(\n",
            "[[[ 1  2  3]\n",
            "  [ 4  5  6]]\n",
            "\n",
            " [[ 7  8  9]\n",
            "  [10 11 12]]], shape=(2, 2, 3), dtype=int32) 3\n"
          ],
          "name": "stdout"
        }
      ]
    },
    {
      "cell_type": "code",
      "metadata": {
        "colab": {
          "base_uri": "https://localhost:8080/"
        },
        "id": "l-NzXWMEOv16",
        "outputId": "2e3d5b38-5318-4938-aceb-0674cb0552a2"
      },
      "source": [
        "# 2. Find the shape, rank and size of the tensors you created in 1.\n",
        "print(f\"For scalar [0-dim Tensor] -> Shape: {scalar.shape}, Rank: {scalar.ndim}, Size: {tf.size(scalar)}\")\n",
        "print(f\"For vector [1-dim Tensor] -> Shape: {vector.shape}, Rank: {vector.ndim}, Size: {tf.size(vector)}\")\n",
        "print(f\"For matrix [2-dim Tensor] -> Shape: {matrix.shape}, Rank: {matrix.ndim}, Size: {tf.size(matrix)}\")\n",
        "print(f\"For tensor [>=2 dim Tensor] -> Shape: {tensor.shape}, Rank: {tensor.ndim}, Size: {tf.size(tensor)}\")"
      ],
      "execution_count": 3,
      "outputs": [
        {
          "output_type": "stream",
          "text": [
            "For scalar [0-dim Tensor] -> Shape: (), Rank: 0, Size: 1\n",
            "For vector [1-dim Tensor] -> Shape: (3,), Rank: 1, Size: 3\n",
            "For matrix [2-dim Tensor] -> Shape: (3, 3), Rank: 2, Size: 9\n",
            "For tensor [>=2 dim Tensor] -> Shape: (2, 2, 3), Rank: 3, Size: 12\n"
          ],
          "name": "stdout"
        }
      ]
    },
    {
      "cell_type": "code",
      "metadata": {
        "colab": {
          "base_uri": "https://localhost:8080/"
        },
        "id": "hwJdpmQUVwwZ",
        "outputId": "c4c99266-e734-463b-86e0-c3677ae82542"
      },
      "source": [
        "# 3. Create two tensors containing random values between 0 and 1 with shape [5, 300].\n",
        "A = tf.random.uniform(shape=(5,300))\n",
        "B = tf.random.uniform([5,300])\n",
        "A,B"
      ],
      "execution_count": 4,
      "outputs": [
        {
          "output_type": "execute_result",
          "data": {
            "text/plain": [
              "(<tf.Tensor: shape=(5, 300), dtype=float32, numpy=\n",
              " array([[0.8288497 , 0.3171184 , 0.3214786 , ..., 0.98938406, 0.947379  ,\n",
              "         0.11432695],\n",
              "        [0.65838945, 0.57755065, 0.00991213, ..., 0.22210336, 0.6553812 ,\n",
              "         0.2341336 ],\n",
              "        [0.04907262, 0.7175987 , 0.09784639, ..., 0.5993694 , 0.33852625,\n",
              "         0.3620057 ],\n",
              "        [0.03349459, 0.4203334 , 0.3297844 , ..., 0.94915295, 0.13377702,\n",
              "         0.43055964],\n",
              "        [0.4404608 , 0.82453835, 0.6691748 , ..., 0.5822307 , 0.26620448,\n",
              "         0.08346176]], dtype=float32)>,\n",
              " <tf.Tensor: shape=(5, 300), dtype=float32, numpy=\n",
              " array([[0.9354037 , 0.08118522, 0.47155607, ..., 0.5774158 , 0.7473916 ,\n",
              "         0.5185745 ],\n",
              "        [0.4585644 , 0.59032345, 0.74393964, ..., 0.17758846, 0.5009464 ,\n",
              "         0.19005692],\n",
              "        [0.42583907, 0.5460187 , 0.6551306 , ..., 0.5806395 , 0.6889794 ,\n",
              "         0.98990357],\n",
              "        [0.06310368, 0.2504704 , 0.09860694, ..., 0.25135076, 0.21399295,\n",
              "         0.4560244 ],\n",
              "        [0.40147698, 0.90466464, 0.27087748, ..., 0.30705857, 0.79162216,\n",
              "         0.34419417]], dtype=float32)>)"
            ]
          },
          "metadata": {},
          "execution_count": 4
        }
      ]
    },
    {
      "cell_type": "code",
      "metadata": {
        "colab": {
          "base_uri": "https://localhost:8080/"
        },
        "id": "Zm3bPsKZXIs8",
        "outputId": "b1d980fd-0e06-47d1-e34a-d61e65de5db8"
      },
      "source": [
        "# 4. Multiply the two tensors you created in 3 using matrix multiplication.\n",
        "tf.matmul(A,tf.transpose(B))"
      ],
      "execution_count": 5,
      "outputs": [
        {
          "output_type": "execute_result",
          "data": {
            "text/plain": [
              "<tf.Tensor: shape=(5, 5), dtype=float32, numpy=\n",
              "array([[75.65474 , 75.62619 , 73.73378 , 71.762115, 77.142685],\n",
              "       [74.25544 , 74.93011 , 75.01372 , 71.425   , 70.54549 ],\n",
              "       [71.04306 , 76.43445 , 71.666534, 72.84872 , 69.9235  ],\n",
              "       [70.81137 , 74.953995, 71.43256 , 67.966896, 71.910774],\n",
              "       [71.897156, 73.8784  , 74.36272 , 70.61011 , 70.31136 ]],\n",
              "      dtype=float32)>"
            ]
          },
          "metadata": {},
          "execution_count": 5
        }
      ]
    },
    {
      "cell_type": "code",
      "metadata": {
        "colab": {
          "base_uri": "https://localhost:8080/"
        },
        "id": "Mgbf2NSvX9KF",
        "outputId": "ff28d9a1-43ee-48d8-aa4b-6994a81e76ca"
      },
      "source": [
        "# 5. Multiply the two tensors you created in 3 using dot product.\n",
        "tf.tensordot(A,tf.transpose(B),axes=1)"
      ],
      "execution_count": 6,
      "outputs": [
        {
          "output_type": "execute_result",
          "data": {
            "text/plain": [
              "<tf.Tensor: shape=(5, 5), dtype=float32, numpy=\n",
              "array([[75.65474 , 75.62619 , 73.73378 , 71.762115, 77.142685],\n",
              "       [74.25544 , 74.93011 , 75.01372 , 71.425   , 70.54549 ],\n",
              "       [71.04306 , 76.43445 , 71.666534, 72.84872 , 69.9235  ],\n",
              "       [70.81137 , 74.953995, 71.43256 , 67.966896, 71.910774],\n",
              "       [71.897156, 73.8784  , 74.36272 , 70.61011 , 70.31136 ]],\n",
              "      dtype=float32)>"
            ]
          },
          "metadata": {},
          "execution_count": 6
        }
      ]
    },
    {
      "cell_type": "code",
      "metadata": {
        "colab": {
          "base_uri": "https://localhost:8080/"
        },
        "id": "57vwlrabYXPj",
        "outputId": "7015a245-6f0d-4f66-bdf3-c26acd945ce2"
      },
      "source": [
        "# 6. Create a tensor with random values between 0 and 1 with shape [224, 224, 3].\n",
        "C = tf.random.uniform([224,224,3])\n",
        "C"
      ],
      "execution_count": 7,
      "outputs": [
        {
          "output_type": "execute_result",
          "data": {
            "text/plain": [
              "<tf.Tensor: shape=(224, 224, 3), dtype=float32, numpy=\n",
              "array([[[0.13529837, 0.14589465, 0.35807002],\n",
              "        [0.68750405, 0.44659185, 0.11544669],\n",
              "        [0.7690625 , 0.9764967 , 0.28665078],\n",
              "        ...,\n",
              "        [0.8532376 , 0.23192573, 0.7609869 ],\n",
              "        [0.04588461, 0.12690866, 0.1504432 ],\n",
              "        [0.6545272 , 0.6337098 , 0.07519782]],\n",
              "\n",
              "       [[0.60329175, 0.17034233, 0.6725229 ],\n",
              "        [0.63967323, 0.29928327, 0.30300057],\n",
              "        [0.31982124, 0.19604552, 0.40567076],\n",
              "        ...,\n",
              "        [0.11984158, 0.97637606, 0.46269464],\n",
              "        [0.56224096, 0.8759949 , 0.32535362],\n",
              "        [0.08426952, 0.1936984 , 0.99245346]],\n",
              "\n",
              "       [[0.15535045, 0.05195439, 0.09659839],\n",
              "        [0.7407373 , 0.05489051, 0.5721164 ],\n",
              "        [0.56122816, 0.24509645, 0.6885805 ],\n",
              "        ...,\n",
              "        [0.91780233, 0.88189673, 0.6902509 ],\n",
              "        [0.2081877 , 0.2409575 , 0.4420241 ],\n",
              "        [0.76845205, 0.5106441 , 0.3441844 ]],\n",
              "\n",
              "       ...,\n",
              "\n",
              "       [[0.8254609 , 0.73941255, 0.84233   ],\n",
              "        [0.89071906, 0.68616235, 0.3971181 ],\n",
              "        [0.6448449 , 0.9937558 , 0.09493113],\n",
              "        ...,\n",
              "        [0.07533705, 0.84337723, 0.2482158 ],\n",
              "        [0.9986485 , 0.3186475 , 0.8171866 ],\n",
              "        [0.80472755, 0.84559655, 0.8416941 ]],\n",
              "\n",
              "       [[0.69012177, 0.8691858 , 0.5211929 ],\n",
              "        [0.9432365 , 0.9366497 , 0.25792527],\n",
              "        [0.68531394, 0.5690391 , 0.44104505],\n",
              "        ...,\n",
              "        [0.74373007, 0.08885014, 0.9128461 ],\n",
              "        [0.11595345, 0.9056225 , 0.2537806 ],\n",
              "        [0.85726166, 0.23365498, 0.8867352 ]],\n",
              "\n",
              "       [[0.82796764, 0.64073515, 0.38445365],\n",
              "        [0.12431002, 0.45040333, 0.4201032 ],\n",
              "        [0.57242036, 0.02402151, 0.86535454],\n",
              "        ...,\n",
              "        [0.87444544, 0.03105497, 0.34961164],\n",
              "        [0.43483603, 0.07436073, 0.08053291],\n",
              "        [0.8995398 , 0.6314132 , 0.87559927]]], dtype=float32)>"
            ]
          },
          "metadata": {},
          "execution_count": 7
        }
      ]
    },
    {
      "cell_type": "code",
      "metadata": {
        "colab": {
          "base_uri": "https://localhost:8080/"
        },
        "id": "TGB4TJRJYYqa",
        "outputId": "b6248b7a-c97b-4cb7-ffe0-0e0f27a1d252"
      },
      "source": [
        "# 7. Find the min and max values of the tensor you created in 6 along the first axis.\n",
        "min = tf.reduce_min(C)\n",
        "max = tf.reduce_max(C)\n",
        "min,max"
      ],
      "execution_count": 8,
      "outputs": [
        {
          "output_type": "execute_result",
          "data": {
            "text/plain": [
              "(<tf.Tensor: shape=(), dtype=float32, numpy=7.1525574e-07>,\n",
              " <tf.Tensor: shape=(), dtype=float32, numpy=0.9999969>)"
            ]
          },
          "metadata": {},
          "execution_count": 8
        }
      ]
    },
    {
      "cell_type": "code",
      "metadata": {
        "colab": {
          "base_uri": "https://localhost:8080/"
        },
        "id": "el_Fx0d5YZ03",
        "outputId": "1f7e64be-520d-43d5-d9fd-ab6844896898"
      },
      "source": [
        "# 8. Created a tensor with random values of shape [1, 224, 224, 3] then squeeze it to change the shape to [224, 224, 3].\n",
        "D = tf.random.uniform([1,224,224,3])\n",
        "print(\"Shape before squeeze: \",D.shape)\n",
        "D = tf.squeeze(D)\n",
        "print(\"Shape after squeeze: \",D.shape)\n",
        "D"
      ],
      "execution_count": 9,
      "outputs": [
        {
          "output_type": "stream",
          "text": [
            "Shape before squeeze:  (1, 224, 224, 3)\n",
            "Shape after squeeze:  (224, 224, 3)\n"
          ],
          "name": "stdout"
        },
        {
          "output_type": "execute_result",
          "data": {
            "text/plain": [
              "<tf.Tensor: shape=(224, 224, 3), dtype=float32, numpy=\n",
              "array([[[0.19269669, 0.9710702 , 0.63114333],\n",
              "        [0.01074171, 0.94361544, 0.17753386],\n",
              "        [0.3304187 , 0.803671  , 0.56820774],\n",
              "        ...,\n",
              "        [0.3158034 , 0.34741855, 0.8221456 ],\n",
              "        [0.23812306, 0.36464107, 0.7125269 ],\n",
              "        [0.6367663 , 0.79966176, 0.77721727]],\n",
              "\n",
              "       [[0.5375104 , 0.01122999, 0.93686116],\n",
              "        [0.90038574, 0.4899844 , 0.7717763 ],\n",
              "        [0.9998174 , 0.49367046, 0.42074454],\n",
              "        ...,\n",
              "        [0.5429026 , 0.65494907, 0.6754477 ],\n",
              "        [0.63660455, 0.00681758, 0.26665545],\n",
              "        [0.5210124 , 0.00755978, 0.45459342]],\n",
              "\n",
              "       [[0.79587376, 0.8917445 , 0.6216935 ],\n",
              "        [0.144521  , 0.5775783 , 0.37520623],\n",
              "        [0.01748526, 0.49371862, 0.6815995 ],\n",
              "        ...,\n",
              "        [0.40729892, 0.7410337 , 0.4405073 ],\n",
              "        [0.27947748, 0.64469326, 0.47807372],\n",
              "        [0.95677257, 0.56568813, 0.9113041 ]],\n",
              "\n",
              "       ...,\n",
              "\n",
              "       [[0.62399495, 0.788028  , 0.32096446],\n",
              "        [0.12568307, 0.7330462 , 0.21598268],\n",
              "        [0.58061266, 0.03284478, 0.50363576],\n",
              "        ...,\n",
              "        [0.27855432, 0.39237428, 0.8512614 ],\n",
              "        [0.6785089 , 0.23089302, 0.8889587 ],\n",
              "        [0.70955896, 0.06614268, 0.25534022]],\n",
              "\n",
              "       [[0.70318604, 0.7270949 , 0.953655  ],\n",
              "        [0.15258193, 0.9044254 , 0.0083437 ],\n",
              "        [0.84999084, 0.99483097, 0.8249382 ],\n",
              "        ...,\n",
              "        [0.2717811 , 0.3176744 , 0.6234158 ],\n",
              "        [0.688328  , 0.47138023, 0.3228221 ],\n",
              "        [0.5242468 , 0.5588522 , 0.69783866]],\n",
              "\n",
              "       [[0.38295174, 0.7489848 , 0.20836473],\n",
              "        [0.8149922 , 0.46495283, 0.05498302],\n",
              "        [0.7328131 , 0.6814759 , 0.38241065],\n",
              "        ...,\n",
              "        [0.02907455, 0.6663234 , 0.17761183],\n",
              "        [0.72654986, 0.5382122 , 0.33211386],\n",
              "        [0.7141316 , 0.03434908, 0.3731854 ]]], dtype=float32)>"
            ]
          },
          "metadata": {},
          "execution_count": 9
        }
      ]
    },
    {
      "cell_type": "code",
      "metadata": {
        "colab": {
          "base_uri": "https://localhost:8080/"
        },
        "id": "4EaijxLvYbVh",
        "outputId": "73a7bb82-f1ee-4e9f-f12d-fb017a4cefb0"
      },
      "source": [
        "# 9. Create a tensor with shape [10] using your own choice of values, then find the index which has the maximum val\n",
        "E = tf.constant([0,1,2,3,4,5,6,7,8,9])\n",
        "print(E.shape)\n",
        "index = tf.argmax(E)\n",
        "index"
      ],
      "execution_count": 10,
      "outputs": [
        {
          "output_type": "stream",
          "text": [
            "(10,)\n"
          ],
          "name": "stdout"
        },
        {
          "output_type": "execute_result",
          "data": {
            "text/plain": [
              "<tf.Tensor: shape=(), dtype=int64, numpy=9>"
            ]
          },
          "metadata": {},
          "execution_count": 10
        }
      ]
    },
    {
      "cell_type": "code",
      "metadata": {
        "colab": {
          "base_uri": "https://localhost:8080/"
        },
        "id": "3iR7BeXeYcom",
        "outputId": "8a3ce1da-8fdc-4c29-a688-416464cf86d3"
      },
      "source": [
        "# 10. One-hot encode the tensor you created in 9.\n",
        "one_hot_F = tf.one_hot(E,depth=10)\n",
        "one_hot_F"
      ],
      "execution_count": 11,
      "outputs": [
        {
          "output_type": "execute_result",
          "data": {
            "text/plain": [
              "<tf.Tensor: shape=(10, 10), dtype=float32, numpy=\n",
              "array([[1., 0., 0., 0., 0., 0., 0., 0., 0., 0.],\n",
              "       [0., 1., 0., 0., 0., 0., 0., 0., 0., 0.],\n",
              "       [0., 0., 1., 0., 0., 0., 0., 0., 0., 0.],\n",
              "       [0., 0., 0., 1., 0., 0., 0., 0., 0., 0.],\n",
              "       [0., 0., 0., 0., 1., 0., 0., 0., 0., 0.],\n",
              "       [0., 0., 0., 0., 0., 1., 0., 0., 0., 0.],\n",
              "       [0., 0., 0., 0., 0., 0., 1., 0., 0., 0.],\n",
              "       [0., 0., 0., 0., 0., 0., 0., 1., 0., 0.],\n",
              "       [0., 0., 0., 0., 0., 0., 0., 0., 1., 0.],\n",
              "       [0., 0., 0., 0., 0., 0., 0., 0., 0., 1.]], dtype=float32)>"
            ]
          },
          "metadata": {},
          "execution_count": 11
        }
      ]
    },
    {
      "cell_type": "markdown",
      "metadata": {
        "id": "0BfbzI-mf81n"
      },
      "source": [
        "* Basics of TensorFLow: https://www.tensorflow.org/api_docs/python/tf/all_symbols\n",
        "* Quickstart for beginners: https://www.tensorflow.org/tutorials/quickstart/beginner\n",
        "* Tensor Video: https://www.youtube.com/watch?v=f5liqUk0ZTw"
      ]
    }
  ]
}