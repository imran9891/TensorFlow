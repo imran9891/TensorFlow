{
  "nbformat": 4,
  "nbformat_minor": 0,
  "metadata": {
    "colab": {
      "name": "05-transfer-learning-in-tensorflow-part-2-fine-tuning.ipynb",
      "provenance": [],
      "collapsed_sections": [],
      "authorship_tag": "ABX9TyOXJ8L1TPdSmBpJaA6E5tMI",
      "include_colab_link": true
    },
    "kernelspec": {
      "name": "python3",
      "display_name": "Python 3"
    },
    "language_info": {
      "name": "python"
    },
    "accelerator": "GPU"
  },
  "cells": [
    {
      "cell_type": "markdown",
      "metadata": {
        "id": "view-in-github",
        "colab_type": "text"
      },
      "source": [
        "<a href=\"https://colab.research.google.com/github/imran9891/TensorFlow/blob/main/05_transfer_learning_in_tensorflow_part_2_fine_tuning.ipynb\" target=\"_parent\"><img src=\"https://colab.research.google.com/assets/colab-badge.svg\" alt=\"Open In Colab\"/></a>"
      ]
    },
    {
      "cell_type": "markdown",
      "metadata": {
        "id": "G3zPhDx4kVRW"
      },
      "source": [
        "# Transfer Learning with TensorFlow Part 2: Fine-Tuning\n",
        "In the previous notebook, we covered transfer learning feature extraction, now it's time to learn about a new kind of transfer learning: fine-tuning."
      ]
    },
    {
      "cell_type": "code",
      "metadata": {
        "id": "z_elbf33mfKu",
        "colab": {
          "base_uri": "https://localhost:8080/"
        },
        "outputId": "13557d2b-e7dd-4888-9d55-c1adbc9cdb9d"
      },
      "source": [
        "# Check if we're using a GPU?\n",
        "!nvidia-smi"
      ],
      "execution_count": 1,
      "outputs": [
        {
          "output_type": "stream",
          "text": [
            "Wed Jul 28 14:11:28 2021       \n",
            "+-----------------------------------------------------------------------------+\n",
            "| NVIDIA-SMI 470.42.01    Driver Version: 460.32.03    CUDA Version: 11.2     |\n",
            "|-------------------------------+----------------------+----------------------+\n",
            "| GPU  Name        Persistence-M| Bus-Id        Disp.A | Volatile Uncorr. ECC |\n",
            "| Fan  Temp  Perf  Pwr:Usage/Cap|         Memory-Usage | GPU-Util  Compute M. |\n",
            "|                               |                      |               MIG M. |\n",
            "|===============================+======================+======================|\n",
            "|   0  Tesla P4            Off  | 00000000:00:04.0 Off |                    0 |\n",
            "| N/A   36C    P8     7W /  75W |      0MiB /  7611MiB |      0%      Default |\n",
            "|                               |                      |                  N/A |\n",
            "+-------------------------------+----------------------+----------------------+\n",
            "                                                                               \n",
            "+-----------------------------------------------------------------------------+\n",
            "| Processes:                                                                  |\n",
            "|  GPU   GI   CI        PID   Type   Process name                  GPU Memory |\n",
            "|        ID   ID                                                   Usage      |\n",
            "|=============================================================================|\n",
            "|  No running processes found                                                 |\n",
            "+-----------------------------------------------------------------------------+\n"
          ],
          "name": "stdout"
        }
      ]
    },
    {
      "cell_type": "markdown",
      "metadata": {
        "id": "RAE3VVDrmuzN"
      },
      "source": [
        "## Creating helper functions\n",
        "\n",
        "In previous notebooks, we've created a bunch of helper functions, now we could rewrite them all, however, this is tedious.\n",
        "\n",
        "So, it's a good idea to put functions you'll want to use again in a script you can download and import into your notebooks (or elsewhere).\n",
        "\n",
        "We have done this for some of the functions we've used previously here: https://raw.githubusercontent.com/mrdbourke/tensorflow-deep-learning/main/extras/helper_functions.py"
      ]
    },
    {
      "cell_type": "code",
      "metadata": {
        "colab": {
          "base_uri": "https://localhost:8080/"
        },
        "id": "R3OakL7Cpjmd",
        "outputId": "42961f51-5d5e-4ad2-8295-41b199617ba8"
      },
      "source": [
        "!wget https://raw.githubusercontent.com/mrdbourke/tensorflow-deep-learning/main/extras/helper_functions.py"
      ],
      "execution_count": 2,
      "outputs": [
        {
          "output_type": "stream",
          "text": [
            "--2021-07-28 14:11:42--  https://raw.githubusercontent.com/mrdbourke/tensorflow-deep-learning/main/extras/helper_functions.py\n",
            "Resolving raw.githubusercontent.com (raw.githubusercontent.com)... 185.199.108.133, 185.199.109.133, 185.199.110.133, ...\n",
            "Connecting to raw.githubusercontent.com (raw.githubusercontent.com)|185.199.108.133|:443... connected.\n",
            "HTTP request sent, awaiting response... 200 OK\n",
            "Length: 10246 (10K) [text/plain]\n",
            "Saving to: ‘helper_functions.py’\n",
            "\n",
            "\rhelper_functions.py   0%[                    ]       0  --.-KB/s               \rhelper_functions.py 100%[===================>]  10.01K  --.-KB/s    in 0s      \n",
            "\n",
            "2021-07-28 14:11:42 (61.7 MB/s) - ‘helper_functions.py’ saved [10246/10246]\n",
            "\n"
          ],
          "name": "stdout"
        }
      ]
    },
    {
      "cell_type": "code",
      "metadata": {
        "id": "DuOkwn24plEm"
      },
      "source": [
        "# Import helper functions we're going to use in this notebook\n",
        "from helper_functions import create_tensorboard_callback, plot_loss_curves, unzip_data, walk_through_dir"
      ],
      "execution_count": 3,
      "outputs": []
    },
    {
      "cell_type": "markdown",
      "metadata": {
        "id": "6SMbBJqvq1Jv"
      },
      "source": [
        "> **Note:** If you're runnign this notebook in Google Colab, when it times out Colab will delete `helper_functions.py` so you'll have to redownload it if you want access to your helper functions."
      ]
    },
    {
      "cell_type": "markdown",
      "metadata": {
        "id": "U3GjEW-lrM59"
      },
      "source": [
        "## Let's get some data\n",
        "\n",
        "This time we're going to see how we can use the pretrained models within `tf.keras.applications` and apply them to our own problem (recognizing images of food).\n",
        "\n",
        "Link: https://www.tensorflow.org/api_docs/python/tf/keras/applications"
      ]
    },
    {
      "cell_type": "code",
      "metadata": {
        "colab": {
          "base_uri": "https://localhost:8080/"
        },
        "id": "lXkRMkFWrfnP",
        "outputId": "42bc8150-20a3-4592-badc-394a94776214"
      },
      "source": [
        "# Get 10% of training data of 10 classes of Food101\n",
        "!wget https://storage.googleapis.com/ztm_tf_course/food_vision/10_food_classes_10_percent.zip\n",
        "\n",
        "unzip_data(\"10_food_classes_10_percent.zip\")"
      ],
      "execution_count": 4,
      "outputs": [
        {
          "output_type": "stream",
          "text": [
            "--2021-07-28 14:11:54--  https://storage.googleapis.com/ztm_tf_course/food_vision/10_food_classes_10_percent.zip\n",
            "Resolving storage.googleapis.com (storage.googleapis.com)... 74.125.70.128, 74.125.132.128, 74.125.69.128, ...\n",
            "Connecting to storage.googleapis.com (storage.googleapis.com)|74.125.70.128|:443... connected.\n",
            "HTTP request sent, awaiting response... 200 OK\n",
            "Length: 168546183 (161M) [application/zip]\n",
            "Saving to: ‘10_food_classes_10_percent.zip’\n",
            "\n",
            "10_food_classes_10_ 100%[===================>] 160.74M   148MB/s    in 1.1s    \n",
            "\n",
            "2021-07-28 14:11:55 (148 MB/s) - ‘10_food_classes_10_percent.zip’ saved [168546183/168546183]\n",
            "\n"
          ],
          "name": "stdout"
        }
      ]
    },
    {
      "cell_type": "code",
      "metadata": {
        "colab": {
          "base_uri": "https://localhost:8080/"
        },
        "id": "hIWOp9W8tjVa",
        "outputId": "ebfc4059-9c5e-4c76-9c9f-6c9cd492b744"
      },
      "source": [
        "# Check out how many images and sub-directories are in our dataset\n",
        "walk_through_dir(\"10_food_classes_10_percent\")"
      ],
      "execution_count": 5,
      "outputs": [
        {
          "output_type": "stream",
          "text": [
            "There are 2 directories and 0 images in '10_food_classes_10_percent'.\n",
            "There are 10 directories and 0 images in '10_food_classes_10_percent/test'.\n",
            "There are 0 directories and 250 images in '10_food_classes_10_percent/test/steak'.\n",
            "There are 0 directories and 250 images in '10_food_classes_10_percent/test/sushi'.\n",
            "There are 0 directories and 250 images in '10_food_classes_10_percent/test/fried_rice'.\n",
            "There are 0 directories and 250 images in '10_food_classes_10_percent/test/chicken_curry'.\n",
            "There are 0 directories and 250 images in '10_food_classes_10_percent/test/ice_cream'.\n",
            "There are 0 directories and 250 images in '10_food_classes_10_percent/test/pizza'.\n",
            "There are 0 directories and 250 images in '10_food_classes_10_percent/test/chicken_wings'.\n",
            "There are 0 directories and 250 images in '10_food_classes_10_percent/test/grilled_salmon'.\n",
            "There are 0 directories and 250 images in '10_food_classes_10_percent/test/hamburger'.\n",
            "There are 0 directories and 250 images in '10_food_classes_10_percent/test/ramen'.\n",
            "There are 10 directories and 0 images in '10_food_classes_10_percent/train'.\n",
            "There are 0 directories and 75 images in '10_food_classes_10_percent/train/steak'.\n",
            "There are 0 directories and 75 images in '10_food_classes_10_percent/train/sushi'.\n",
            "There are 0 directories and 75 images in '10_food_classes_10_percent/train/fried_rice'.\n",
            "There are 0 directories and 75 images in '10_food_classes_10_percent/train/chicken_curry'.\n",
            "There are 0 directories and 75 images in '10_food_classes_10_percent/train/ice_cream'.\n",
            "There are 0 directories and 75 images in '10_food_classes_10_percent/train/pizza'.\n",
            "There are 0 directories and 75 images in '10_food_classes_10_percent/train/chicken_wings'.\n",
            "There are 0 directories and 75 images in '10_food_classes_10_percent/train/grilled_salmon'.\n",
            "There are 0 directories and 75 images in '10_food_classes_10_percent/train/hamburger'.\n",
            "There are 0 directories and 75 images in '10_food_classes_10_percent/train/ramen'.\n"
          ],
          "name": "stdout"
        }
      ]
    },
    {
      "cell_type": "code",
      "metadata": {
        "id": "8nmCKZZ2ucUM"
      },
      "source": [
        "# Create training and test directory paths\n",
        "train_dir = \"10_food_classes_10_percent/train\"\n",
        "test_dir = \"10_food_classes_10_percent/test\""
      ],
      "execution_count": 6,
      "outputs": []
    },
    {
      "cell_type": "code",
      "metadata": {
        "colab": {
          "base_uri": "https://localhost:8080/"
        },
        "id": "LsxXPfOOwjjp",
        "outputId": "bd1976b0-7071-4bd4-b8e5-731242448219"
      },
      "source": [
        "import tensorflow as tf\n",
        "IMAGE_SIZE = (224,224)\n",
        "BATCH_SIZE = 32\n",
        "print(\"Training data:\")\n",
        "train_data_10_percent = tf.keras.preprocessing.image_dataset_from_directory(directory=train_dir,\n",
        "                                                                            image_size=IMAGE_SIZE,\n",
        "                                                                            batch_size=BATCH_SIZE,\n",
        "                                                                            label_mode='categorical')\n",
        "print(\"Testing data:\")\n",
        "test_data = tf.keras.preprocessing.image_dataset_from_directory(directory = test_dir,\n",
        "                                                                label_mode=\"categorical\",\n",
        "                                                                image_size=IMAGE_SIZE,\n",
        "                                                                batch_size=BATCH_SIZE)"
      ],
      "execution_count": 7,
      "outputs": [
        {
          "output_type": "stream",
          "text": [
            "Training data:\n",
            "Found 750 files belonging to 10 classes.\n",
            "Testing data:\n",
            "Found 2500 files belonging to 10 classes.\n"
          ],
          "name": "stdout"
        }
      ]
    },
    {
      "cell_type": "code",
      "metadata": {
        "colab": {
          "base_uri": "https://localhost:8080/"
        },
        "id": "OqmE0YhQw4T8",
        "outputId": "a6416507-2379-45ff-eef0-7ec4d9cf0f4c"
      },
      "source": [
        "# Check out the class names of our dataset\n",
        "train_data_10_percent.class_names"
      ],
      "execution_count": 8,
      "outputs": [
        {
          "output_type": "execute_result",
          "data": {
            "text/plain": [
              "['chicken_curry',\n",
              " 'chicken_wings',\n",
              " 'fried_rice',\n",
              " 'grilled_salmon',\n",
              " 'hamburger',\n",
              " 'ice_cream',\n",
              " 'pizza',\n",
              " 'ramen',\n",
              " 'steak',\n",
              " 'sushi']"
            ]
          },
          "metadata": {
            "tags": []
          },
          "execution_count": 8
        }
      ]
    },
    {
      "cell_type": "code",
      "metadata": {
        "colab": {
          "base_uri": "https://localhost:8080/"
        },
        "id": "gG9kN7VF0mCl",
        "outputId": "0ba0c917-a83c-4610-e903-56629e07c333"
      },
      "source": [
        "# See an example of a batch of data\n",
        "for images, labels in train_data_10_percent.take(1):\n",
        "  print(images, labels)"
      ],
      "execution_count": 9,
      "outputs": [
        {
          "output_type": "stream",
          "text": [
            "tf.Tensor(\n",
            "[[[[1.06357140e+02 5.43571434e+01 5.83571434e+01]\n",
            "   [1.05071426e+02 5.30714264e+01 5.70714264e+01]\n",
            "   [1.03285713e+02 5.32857132e+01 5.58571396e+01]\n",
            "   ...\n",
            "   [1.65846893e+02 1.83418365e+02 1.83418365e+02]\n",
            "   [1.66642868e+02 1.84642868e+02 1.84642868e+02]\n",
            "   [1.67897980e+02 1.87897980e+02 1.86897980e+02]]\n",
            "\n",
            "  [[1.08882652e+02 5.38826523e+01 5.88826523e+01]\n",
            "   [1.05209183e+02 5.29948997e+01 5.70663261e+01]\n",
            "   [1.01071426e+02 5.09591827e+01 5.40153046e+01]\n",
            "   ...\n",
            "   [1.64974487e+02 1.82545959e+02 1.82331696e+02]\n",
            "   [1.68214294e+02 1.86214294e+02 1.86214294e+02]\n",
            "   [1.66734650e+02 1.86734650e+02 1.87734650e+02]]\n",
            "\n",
            "  [[1.02576530e+02 5.53520393e+01 5.80000000e+01]\n",
            "   [9.98979568e+01 5.52142868e+01 5.81836739e+01]\n",
            "   [9.69030609e+01 5.43826523e+01 5.90000000e+01]\n",
            "   ...\n",
            "   [1.67020447e+02 1.84591919e+02 1.84377655e+02]\n",
            "   [1.64729584e+02 1.82729584e+02 1.83158157e+02]\n",
            "   [1.68352173e+02 1.88352173e+02 1.89352173e+02]]\n",
            "\n",
            "  ...\n",
            "\n",
            "  [[1.61637756e+02 9.22805557e+01 6.06629086e+00]\n",
            "   [1.55158157e+02 8.58009491e+01 3.72425020e-01]\n",
            "   [1.60474442e+02 9.09794922e+01 5.64279175e+00]\n",
            "   ...\n",
            "   [1.15785736e+02 6.45714722e+01 1.22142639e+01]\n",
            "   [1.13928558e+02 6.29285583e+01 5.92855835e+00]\n",
            "   [1.13494911e+02 6.27091751e+01 5.28064728e+00]]\n",
            "\n",
            "  [[1.59974426e+02 8.79744186e+01 4.04586124e+00]\n",
            "   [1.61051041e+02 8.90510483e+01 5.05104303e+00]\n",
            "   [1.58785751e+02 8.87857513e+01 3.78575325e+00]\n",
            "   ...\n",
            "   [1.12770432e+02 6.15561638e+01 9.19895649e+00]\n",
            "   [1.14000000e+02 6.30000000e+01 9.86732483e+00]\n",
            "   [1.16357178e+02 6.53571777e+01 1.03571777e+01]]\n",
            "\n",
            "  [[1.52714325e+02 7.77143173e+01 0.00000000e+00]\n",
            "   [1.60045959e+02 8.68366699e+01 3.38262177e+00]\n",
            "   [1.60224442e+02 8.86530075e+01 4.43872070e+00]\n",
            "   ...\n",
            "   [1.13724533e+02 6.17245331e+01 1.17245331e+01]\n",
            "   [1.12974480e+02 6.19744835e+01 8.97448254e+00]\n",
            "   [1.14000000e+02 6.30000000e+01 1.00000000e+01]]]\n",
            "\n",
            "\n",
            " [[[8.83163300e+01 6.53163300e+01 4.93163261e+01]\n",
            "   [8.72602005e+01 6.31887741e+01 4.62602043e+01]\n",
            "   [8.85765305e+01 6.23571434e+01 4.47908173e+01]\n",
            "   ...\n",
            "   [1.38265333e+01 1.29642744e+01 1.09642744e+01]\n",
            "   [1.23417816e+01 8.34178162e+00 5.34178162e+00]\n",
            "   [1.28318043e+01 8.54609013e+00 4.18894720e+00]]\n",
            "\n",
            "  [[8.54234695e+01 5.93520432e+01 4.64948997e+01]\n",
            "   [9.31326523e+01 6.51326523e+01 5.12755089e+01]\n",
            "   [9.24285736e+01 6.48877563e+01 4.82704086e+01]\n",
            "   ...\n",
            "   [1.18927155e+01 1.00662470e+01 6.73455381e+00]\n",
            "   [1.09234686e+01 6.92346859e+00 3.92346859e+00]\n",
            "   [1.54542236e+01 1.24542236e+01 7.45422363e+00]]\n",
            "\n",
            "  [[7.34438782e+01 4.64438782e+01 3.70153046e+01]\n",
            "   [9.14030609e+01 6.41887741e+01 5.29744911e+01]\n",
            "   [9.08571472e+01 6.24744911e+01 4.96173477e+01]\n",
            "   ...\n",
            "   [1.67193356e+01 1.25050726e+01 9.50507259e+00]\n",
            "   [1.08826714e+01 7.66838551e+00 3.09695649e+00]\n",
            "   [1.65153980e+01 1.35153980e+01 8.51539803e+00]]\n",
            "\n",
            "  ...\n",
            "\n",
            "  [[3.86175575e+01 4.40461464e+01 3.76175575e+01]\n",
            "   [2.39643154e+01 2.89643154e+01 2.27500210e+01]\n",
            "   [2.46173401e+01 2.71224613e+01 2.19540882e+01]\n",
            "   ...\n",
            "   [2.00000000e+00 2.00000000e+00 2.00000000e+00]\n",
            "   [2.00000000e+00 2.00000000e+00 2.00000000e+00]\n",
            "   [1.00000000e+00 1.00000000e+00 1.00000000e+00]]\n",
            "\n",
            "  [[8.19851456e+01 9.17709122e+01 8.09851456e+01]\n",
            "   [2.93010635e+01 3.62245674e+01 2.80969982e+01]\n",
            "   [2.02856445e+01 2.52397366e+01 1.96530075e+01]\n",
            "   ...\n",
            "   [2.00000000e+00 2.00000000e+00 2.00000000e+00]\n",
            "   [2.00000000e+00 2.00000000e+00 2.00000000e+00]\n",
            "   [1.00000000e+00 1.00000000e+00 1.00000000e+00]]\n",
            "\n",
            "  [[8.80306396e+01 9.99030838e+01 8.52143097e+01]\n",
            "   [5.78723450e+01 6.79182663e+01 5.86376572e+01]\n",
            "   [3.14693317e+01 3.75356636e+01 3.26938171e+01]\n",
            "   ...\n",
            "   [2.00000000e+00 2.00000000e+00 2.00000000e+00]\n",
            "   [2.00000000e+00 2.00000000e+00 2.00000000e+00]\n",
            "   [1.00000000e+00 1.00000000e+00 1.00000000e+00]]]\n",
            "\n",
            "\n",
            " [[[1.40000000e+01 1.40000000e+01 1.40000000e+01]\n",
            "   [1.45969391e+01 1.45969391e+01 1.45969391e+01]\n",
            "   [1.50000000e+01 1.50000000e+01 1.50000000e+01]\n",
            "   ...\n",
            "   [5.90000000e+01 5.50000000e+01 7.00000000e+01]\n",
            "   [6.00714417e+01 5.60714417e+01 7.10714417e+01]\n",
            "   [6.07703857e+01 5.67703857e+01 7.17703857e+01]]\n",
            "\n",
            "  [[1.50000000e+01 1.50000000e+01 1.50000000e+01]\n",
            "   [1.50000000e+01 1.50000000e+01 1.50000000e+01]\n",
            "   [1.52142859e+01 1.52142859e+01 1.52142859e+01]\n",
            "   ...\n",
            "   [5.97296104e+01 5.57296104e+01 7.07296143e+01]\n",
            "   [5.80714264e+01 5.40714264e+01 6.90714264e+01]\n",
            "   [5.84030952e+01 5.44030952e+01 6.94030914e+01]]\n",
            "\n",
            "  [[1.37857141e+01 1.37857141e+01 1.37857141e+01]\n",
            "   [1.37857141e+01 1.37857141e+01 1.37857141e+01]\n",
            "   [1.47857141e+01 1.47857141e+01 1.47857141e+01]\n",
            "   ...\n",
            "   [5.87398224e+01 5.47398224e+01 6.97398224e+01]\n",
            "   [5.67295799e+01 5.27295799e+01 6.77295837e+01]\n",
            "   [5.84337158e+01 5.44337158e+01 6.94337158e+01]]\n",
            "\n",
            "  ...\n",
            "\n",
            "  [[1.62806206e+01 1.12806196e+01 7.28062010e+00]\n",
            "   [1.42856922e+01 9.28569221e+00 5.28569221e+00]\n",
            "   [1.63826370e+01 1.13826361e+01 7.38263607e+00]\n",
            "   ...\n",
            "   [1.00000000e+01 9.00000000e+00 5.00000000e+00]\n",
            "   [1.10000000e+01 1.00000000e+01 6.00000000e+00]\n",
            "   [1.06428223e+01 9.64282227e+00 5.64282227e+00]]\n",
            "\n",
            "  [[1.83316288e+01 1.33316278e+01 9.33162785e+00]\n",
            "   [1.61377678e+01 1.11377668e+01 7.13776684e+00]\n",
            "   [1.62704201e+01 1.12704182e+01 7.27041864e+00]\n",
            "   ...\n",
            "   [8.87248516e+00 7.87248516e+00 3.87248516e+00]\n",
            "   [1.00714417e+01 9.07144165e+00 5.07144165e+00]\n",
            "   [9.11736584e+00 8.11736584e+00 4.11736584e+00]]\n",
            "\n",
            "  [[1.65152588e+01 1.15152588e+01 7.51525879e+00]\n",
            "   [1.79744873e+01 1.29744873e+01 8.97448730e+00]\n",
            "   [1.63519974e+01 1.13519983e+01 7.35199833e+00]\n",
            "   ...\n",
            "   [9.56629181e+00 8.56629181e+00 4.56629181e+00]\n",
            "   [1.06428223e+01 9.64282227e+00 5.64282227e+00]\n",
            "   [1.00560427e+01 9.05604267e+00 5.05604267e+00]]]\n",
            "\n",
            "\n",
            " ...\n",
            "\n",
            "\n",
            " [[[1.93112244e+02 8.06989822e+01 1.26010201e+02]\n",
            "   [1.94760193e+02 8.49489822e+01 1.29025513e+02]\n",
            "   [1.89637756e+02 8.43571396e+01 1.24862244e+02]\n",
            "   ...\n",
            "   [1.81387756e+02 7.87449570e+01 1.16948990e+02]\n",
            "   [1.82265335e+02 8.03163605e+01 1.17290840e+02]\n",
            "   [1.80749802e+02 8.18212357e+01 1.15923256e+02]]\n",
            "\n",
            "  [[1.88908157e+02 8.27193909e+01 1.23168365e+02]\n",
            "   [1.91846939e+02 8.57908173e+01 1.25775513e+02]\n",
            "   [1.93000000e+02 8.67857132e+01 1.24857140e+02]\n",
            "   ...\n",
            "   [1.83688904e+02 7.92195129e+01 1.19132774e+02]\n",
            "   [1.80709183e+02 8.12041168e+01 1.18994896e+02]\n",
            "   [1.82357040e+02 8.79744186e+01 1.21994820e+02]]\n",
            "\n",
            "  [[1.86423462e+02 8.47806091e+01 1.17852036e+02]\n",
            "   [1.92387756e+02 8.65306168e+01 1.22887756e+02]\n",
            "   [1.95954086e+02 8.74030609e+01 1.24214287e+02]\n",
            "   ...\n",
            "   [1.74377655e+02 8.75255127e+01 1.26142899e+02]\n",
            "   [1.77826538e+02 8.65714417e+01 1.24428558e+02]\n",
            "   [1.74872269e+02 8.46579742e+01 1.20009972e+02]]\n",
            "\n",
            "  ...\n",
            "\n",
            "  [[2.06923462e+02 2.29923462e+02 2.43923462e+02]\n",
            "   [2.09928574e+02 2.31928574e+02 2.45928574e+02]\n",
            "   [2.11000000e+02 2.33000000e+02 2.47000000e+02]\n",
            "   ...\n",
            "   [1.13806274e+02 1.26234863e+02 1.26449158e+02]\n",
            "   [1.40382843e+02 1.52811432e+02 1.52811432e+02]\n",
            "   [1.74576660e+02 1.88576660e+02 1.89362366e+02]]\n",
            "\n",
            "  [[2.06642853e+02 2.29642853e+02 2.43642853e+02]\n",
            "   [2.09928574e+02 2.31928574e+02 2.45928574e+02]\n",
            "   [2.11000000e+02 2.33000000e+02 2.47000000e+02]\n",
            "   ...\n",
            "   [1.15392830e+02 1.29392838e+02 1.30790756e+02]\n",
            "   [1.23933754e+02 1.37933746e+02 1.37933746e+02]\n",
            "   [1.67158478e+02 1.81158478e+02 1.81158478e+02]]\n",
            "\n",
            "  [[2.06872452e+02 2.29872452e+02 2.43872452e+02]\n",
            "   [2.09331635e+02 2.31331635e+02 2.45331635e+02]\n",
            "   [2.10000000e+02 2.32000000e+02 2.46000000e+02]\n",
            "   ...\n",
            "   [1.20555923e+02 1.34770187e+02 1.37208939e+02]\n",
            "   [1.19489891e+02 1.33489883e+02 1.33489883e+02]\n",
            "   [1.51541321e+02 1.63541321e+02 1.63541321e+02]]]\n",
            "\n",
            "\n",
            " [[[2.28841843e+02 1.99841843e+02 1.85841843e+02]\n",
            "   [2.27785706e+02 1.98785706e+02 1.82785706e+02]\n",
            "   [2.24423477e+02 1.95423477e+02 1.79423477e+02]\n",
            "   ...\n",
            "   [2.30418365e+02 2.19418365e+02 2.13418365e+02]\n",
            "   [2.30357147e+02 2.21357147e+02 2.14357147e+02]\n",
            "   [2.30872467e+02 2.21872467e+02 2.14872467e+02]]\n",
            "\n",
            "  [[2.29928574e+02 2.00928574e+02 1.84928574e+02]\n",
            "   [2.29928574e+02 2.00928574e+02 1.83204071e+02]\n",
            "   [2.28642868e+02 1.99642868e+02 1.81642868e+02]\n",
            "   ...\n",
            "   [2.29428528e+02 2.20000000e+02 2.13214264e+02]\n",
            "   [2.30000015e+02 2.21000015e+02 2.14000015e+02]\n",
            "   [2.33311264e+02 2.24311264e+02 2.17311264e+02]]\n",
            "\n",
            "  [[2.26857132e+02 1.99994904e+02 1.79280609e+02]\n",
            "   [2.29142853e+02 2.01571426e+02 1.80142853e+02]\n",
            "   [2.30260208e+02 2.02596939e+02 1.81214279e+02]\n",
            "   ...\n",
            "   [2.31045929e+02 2.22045929e+02 2.15045929e+02]\n",
            "   [2.31785721e+02 2.22785721e+02 2.15785721e+02]\n",
            "   [2.30505081e+02 2.21933640e+02 2.14719360e+02]]\n",
            "\n",
            "  ...\n",
            "\n",
            "  [[2.23499985e+02 2.03071457e+02 1.53285721e+02]\n",
            "   [2.32928558e+02 2.10928558e+02 1.60928558e+02]\n",
            "   [2.31311203e+02 2.09974457e+02 1.55142838e+02]\n",
            "   ...\n",
            "   [1.32403122e+02 9.16632919e+01 3.91888542e+01]\n",
            "   [1.30770432e+02 8.77704315e+01 3.63418999e+01]\n",
            "   [1.32285828e+02 8.92858276e+01 3.78572998e+01]]\n",
            "\n",
            "  [[2.25071442e+02 2.05071442e+02 1.55071442e+02]\n",
            "   [2.27933670e+02 2.05933670e+02 1.55933670e+02]\n",
            "   [2.23428589e+02 2.00000015e+02 1.46112274e+02]\n",
            "   ...\n",
            "   [1.30969452e+02 8.95408554e+01 3.94133415e+01]\n",
            "   [1.30290863e+02 8.82908707e+01 3.82908707e+01]\n",
            "   [1.38285858e+02 9.42858582e+01 4.52858582e+01]]\n",
            "\n",
            "  [[2.30199097e+02 2.10199097e+02 1.60199097e+02]\n",
            "   [2.28122452e+02 2.06122452e+02 1.56122452e+02]\n",
            "   [2.22285614e+02 1.98857040e+02 1.46428467e+02]\n",
            "   ...\n",
            "   [1.33275528e+02 9.37040558e+01 4.48571167e+01]\n",
            "   [1.34591782e+02 9.25917892e+01 4.25917892e+01]\n",
            "   [1.36030487e+02 9.20304947e+01 4.30304909e+01]]]\n",
            "\n",
            "\n",
            " [[[6.75561218e+01 1.51989803e+01 2.75510192e+00]\n",
            "   [7.28826523e+01 2.05255108e+01 6.93367386e+00]\n",
            "   [7.54948959e+01 2.59285717e+01 1.10714283e+01]\n",
            "   ...\n",
            "   [7.05000229e+01 3.92854977e+00 0.00000000e+00]\n",
            "   [7.21428680e+01 3.14287019e+00 0.00000000e+00]\n",
            "   [7.35867233e+01 4.58672237e+00 0.00000000e+00]]\n",
            "\n",
            "  [[6.45510178e+01 6.19387770e+00 2.55101882e-02]\n",
            "   [6.33622437e+01 5.00510216e+00 0.00000000e+00]\n",
            "   [6.28316307e+01 6.21428585e+00 0.00000000e+00]\n",
            "   ...\n",
            "   [7.34847412e+01 6.91326714e+00 1.98959351e-01]\n",
            "   [7.60000000e+01 7.00000000e+00 0.00000000e+00]\n",
            "   [7.45458832e+01 5.54588127e+00 0.00000000e+00]]\n",
            "\n",
            "  [[7.56428604e+01 7.92857170e+00 2.20918393e+00]\n",
            "   [7.04846878e+01 4.22959185e+00 0.00000000e+00]\n",
            "   [7.15459213e+01 6.04591846e+00 0.00000000e+00]\n",
            "   ...\n",
            "   [7.33112717e+01 5.16837215e+00 0.00000000e+00]\n",
            "   [7.59438705e+01 6.94386721e+00 0.00000000e+00]\n",
            "   [7.32856445e+01 2.71421576e+00 0.00000000e+00]]\n",
            "\n",
            "  ...\n",
            "\n",
            "  [[1.64647949e+02 2.28622398e+01 2.86223936e+00]\n",
            "   [1.63770401e+02 2.19846935e+01 1.98469329e+00]\n",
            "   [1.64357132e+02 2.23112144e+01 3.29081941e+00]\n",
            "   ...\n",
            "   [1.68974442e+02 1.18520107e+01 2.63777733e+00]\n",
            "   [1.66801010e+02 1.28010149e+01 2.80101514e+00]\n",
            "   [1.67775513e+02 1.57755060e+01 4.77550650e+00]]\n",
            "\n",
            "  [[1.62163239e+02 2.11632423e+01 1.16324270e+00]\n",
            "   [1.60142807e+02 1.91428051e+01 1.37721494e-01]\n",
            "   [1.59270340e+02 1.78417702e+01 2.55039752e-01]\n",
            "   ...\n",
            "   [1.64484634e+02 7.69890213e+00 0.00000000e+00]\n",
            "   [1.66071442e+02 1.20714417e+01 2.07144165e+00]\n",
            "   [1.63453979e+02 1.14539728e+01 7.85644531e-01]]\n",
            "\n",
            "  [[1.62658157e+02 2.16581573e+01 1.88775170e+00]\n",
            "   [1.57331635e+02 1.63316364e+01 0.00000000e+00]\n",
            "   [1.56846939e+02 1.54183702e+01 0.00000000e+00]\n",
            "   ...\n",
            "   [1.69224487e+02 1.24387531e+01 2.79596138e+00]\n",
            "   [1.64622437e+02 1.06224413e+01 7.14294434e-01]\n",
            "   [1.62816345e+02 1.08163424e+01 2.29582191e-01]]]], shape=(32, 224, 224, 3), dtype=float32) tf.Tensor(\n",
            "[[0. 0. 0. 0. 0. 0. 0. 1. 0. 0.]\n",
            " [0. 0. 0. 0. 0. 0. 1. 0. 0. 0.]\n",
            " [0. 0. 0. 0. 0. 0. 0. 0. 0. 1.]\n",
            " [1. 0. 0. 0. 0. 0. 0. 0. 0. 0.]\n",
            " [0. 0. 0. 0. 0. 0. 0. 1. 0. 0.]\n",
            " [0. 0. 0. 0. 0. 0. 0. 0. 1. 0.]\n",
            " [0. 0. 0. 0. 0. 0. 0. 0. 0. 1.]\n",
            " [0. 0. 0. 0. 0. 0. 0. 0. 1. 0.]\n",
            " [1. 0. 0. 0. 0. 0. 0. 0. 0. 0.]\n",
            " [0. 0. 0. 1. 0. 0. 0. 0. 0. 0.]\n",
            " [0. 0. 0. 0. 0. 0. 0. 0. 1. 0.]\n",
            " [0. 0. 0. 0. 0. 1. 0. 0. 0. 0.]\n",
            " [0. 0. 0. 0. 0. 0. 0. 0. 0. 1.]\n",
            " [0. 0. 0. 0. 1. 0. 0. 0. 0. 0.]\n",
            " [0. 0. 1. 0. 0. 0. 0. 0. 0. 0.]\n",
            " [0. 0. 0. 0. 0. 0. 1. 0. 0. 0.]\n",
            " [0. 0. 0. 0. 0. 0. 1. 0. 0. 0.]\n",
            " [0. 0. 0. 0. 0. 0. 1. 0. 0. 0.]\n",
            " [0. 0. 0. 0. 0. 1. 0. 0. 0. 0.]\n",
            " [0. 0. 0. 0. 0. 0. 1. 0. 0. 0.]\n",
            " [0. 0. 0. 0. 0. 0. 0. 0. 1. 0.]\n",
            " [0. 0. 0. 0. 1. 0. 0. 0. 0. 0.]\n",
            " [0. 0. 0. 0. 0. 1. 0. 0. 0. 0.]\n",
            " [0. 0. 0. 0. 0. 0. 1. 0. 0. 0.]\n",
            " [0. 0. 0. 0. 0. 0. 0. 0. 1. 0.]\n",
            " [0. 0. 1. 0. 0. 0. 0. 0. 0. 0.]\n",
            " [0. 0. 0. 0. 0. 0. 0. 0. 0. 1.]\n",
            " [0. 0. 0. 0. 0. 0. 0. 0. 1. 0.]\n",
            " [0. 0. 0. 1. 0. 0. 0. 0. 0. 0.]\n",
            " [0. 0. 1. 0. 0. 0. 0. 0. 0. 0.]\n",
            " [0. 0. 1. 0. 0. 0. 0. 0. 0. 0.]\n",
            " [0. 0. 0. 0. 0. 0. 0. 0. 0. 1.]], shape=(32, 10), dtype=float32)\n"
          ],
          "name": "stdout"
        }
      ]
    },
    {
      "cell_type": "markdown",
      "metadata": {
        "id": "br91VXJr1Svs"
      },
      "source": [
        "## Model 0: Building a transfer learning feature extraction model using the Keras Functional API\n",
        "\n",
        "The Sequential API is straight-forward, it runs our layers in sequential order.\n",
        "\n",
        "But the functional API gives us more flexibility with our models.\n",
        "\n",
        "Link: https://www/tensorflow.org/guide/keras/functional"
      ]
    },
    {
      "cell_type": "markdown",
      "metadata": {
        "id": "tclRGwddl7AI"
      },
      "source": [
        "<img src = \"C:/Users/Hp/Desktop/Python/Udemy/TensorFlow/![Experiments.PNG](data:image/png;base64,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)Experiments.png\""
      ]
    },
    {
      "cell_type": "code",
      "metadata": {
        "id": "2Qu3JByXf8ai",
        "colab": {
          "base_uri": "https://localhost:8080/"
        },
        "outputId": "b5eeac3d-23b3-40aa-eaa8-02f4b84e5b53"
      },
      "source": [
        "# 1. Create base model with tf.keras.applications\n",
        "base_model = tf.keras.applications.EfficientNetB0(include_top=False)\n",
        "\n",
        "# 2. Freeze the base model (so the underlying pre-trained patterns aren't updated during training)\n",
        "base_model.trainable = False\n",
        "\n",
        "# 3. Create inputs into our model\n",
        "inputs = tf.keras.layers.Input(shape=(224,224,3),name=\"input_layer\")\n",
        "\n",
        "# 4. If using a model like ResNet50V2 you will need to normalize inputs (you don't have to for EfficentNet(s))\n",
        "# x = tf.keras.layers.experimental.preprocessing.Rescaling(1./255)(inputs)\n",
        "\n",
        "# 5. Pass the inputs to the base model\n",
        "x = base_model(inputs)\n",
        "print(f\"Shape after passing inputs through base_model: {x.shape}\")\n",
        "\n",
        "# 6. Average pool the outputs of the base model (aggregate all the most important information, reduce number of computations)\n",
        "x = tf.keras.layers.GlobalAveragePooling2D(name=\"global_average_pooling_layer\")(x)\n",
        "print(f\"Shape after GlobalAveragePooling2D: {x.shape}\")\n",
        "\n",
        "# 7. Create the output activation layer\n",
        "outputs = tf.keras.layers.Dense(10, activation=\"softmax\", name=\"output_layer\")(x)\n",
        "\n",
        "# 8. Combine the inputs and the outputs into a model\n",
        "model_0 = tf.keras.Model(inputs,outputs)\n",
        "\n",
        "# 9. Compile the model\n",
        "model_0.compile(\n",
        "    loss = \"categorical_crossentropy\",\n",
        "    optimizer = tf.keras.optimizers.Adam(),\n",
        "    metrics=['accuracy']\n",
        ")\n",
        "\n",
        "# 10. Fit the model and save its history\n",
        "history_0 = model_0.fit(train_data_10_percent,\n",
        "                        epochs=5,\n",
        "                        steps_per_epoch=len(train_data_10_percent),\n",
        "                        validation_data=test_data,\n",
        "                        validation_steps=int(0.25 * len(test_data)),\n",
        "                        callbacks=[create_tensorboard_callback(dir_name=\"TensorBoard\",\n",
        "                                                              experiment_name=\"BaseModel\")])"
      ],
      "execution_count": 10,
      "outputs": [
        {
          "output_type": "stream",
          "text": [
            "Downloading data from https://storage.googleapis.com/keras-applications/efficientnetb0_notop.h5\n",
            "16711680/16705208 [==============================] - 0s 0us/step\n",
            "Shape after passing inputs through base_model: (None, 7, 7, 1280)\n",
            "Shape after GlobalAveragePooling2D: (None, 1280)\n",
            "Saving TensorBoard log files to: TensorBoard/BaseModel/20210728-141740\n",
            "Epoch 1/5\n"
          ],
          "name": "stdout"
        },
        {
          "output_type": "stream",
          "text": [
            "/usr/local/lib/python3.7/dist-packages/tensorflow/python/keras/utils/generic_utils.py:497: CustomMaskWarning: Custom mask layers require a config and must override get_config. When loading, the custom mask layer must be passed to the custom_objects argument.\n",
            "  category=CustomMaskWarning)\n"
          ],
          "name": "stderr"
        },
        {
          "output_type": "stream",
          "text": [
            "24/24 [==============================] - 44s 435ms/step - loss: 1.9235 - accuracy: 0.3973 - val_loss: 1.3540 - val_accuracy: 0.7039\n",
            "Epoch 2/5\n",
            "24/24 [==============================] - 8s 346ms/step - loss: 1.1534 - accuracy: 0.7520 - val_loss: 0.9341 - val_accuracy: 0.7944\n",
            "Epoch 3/5\n",
            "24/24 [==============================] - 6s 257ms/step - loss: 0.8417 - accuracy: 0.8067 - val_loss: 0.7447 - val_accuracy: 0.8289\n",
            "Epoch 4/5\n",
            "24/24 [==============================] - 7s 261ms/step - loss: 0.6825 - accuracy: 0.8387 - val_loss: 0.6638 - val_accuracy: 0.8257\n",
            "Epoch 5/5\n",
            "24/24 [==============================] - 7s 261ms/step - loss: 0.5873 - accuracy: 0.8640 - val_loss: 0.6093 - val_accuracy: 0.8503\n"
          ],
          "name": "stdout"
        }
      ]
    },
    {
      "cell_type": "code",
      "metadata": {
        "id": "mh4uK6CJiF_a",
        "colab": {
          "base_uri": "https://localhost:8080/"
        },
        "outputId": "b5371fe5-f593-4500-bb6f-4e83efd89a31"
      },
      "source": [
        "# Evaluate on the full test dataset\n",
        "model_0.evaluate(test_data)"
      ],
      "execution_count": 11,
      "outputs": [
        {
          "output_type": "stream",
          "text": [
            "79/79 [==============================] - 11s 139ms/step - loss: 0.6085 - accuracy: 0.8492\n"
          ],
          "name": "stdout"
        },
        {
          "output_type": "execute_result",
          "data": {
            "text/plain": [
              "[0.6085479259490967, 0.8492000102996826]"
            ]
          },
          "metadata": {
            "tags": []
          },
          "execution_count": 11
        }
      ]
    },
    {
      "cell_type": "code",
      "metadata": {
        "colab": {
          "base_uri": "https://localhost:8080/"
        },
        "id": "8xS_1H65ObOL",
        "outputId": "13eaaa46-b719-4427-bb90-c17b7dee7aa4"
      },
      "source": [
        "# Check the layers in our base model\n",
        "for layer_number, layer in enumerate(base_model.layers):\n",
        "  print(layer_number, layer.name)"
      ],
      "execution_count": 12,
      "outputs": [
        {
          "output_type": "stream",
          "text": [
            "0 input_1\n",
            "1 rescaling\n",
            "2 normalization\n",
            "3 stem_conv_pad\n",
            "4 stem_conv\n",
            "5 stem_bn\n",
            "6 stem_activation\n",
            "7 block1a_dwconv\n",
            "8 block1a_bn\n",
            "9 block1a_activation\n",
            "10 block1a_se_squeeze\n",
            "11 block1a_se_reshape\n",
            "12 block1a_se_reduce\n",
            "13 block1a_se_expand\n",
            "14 block1a_se_excite\n",
            "15 block1a_project_conv\n",
            "16 block1a_project_bn\n",
            "17 block2a_expand_conv\n",
            "18 block2a_expand_bn\n",
            "19 block2a_expand_activation\n",
            "20 block2a_dwconv_pad\n",
            "21 block2a_dwconv\n",
            "22 block2a_bn\n",
            "23 block2a_activation\n",
            "24 block2a_se_squeeze\n",
            "25 block2a_se_reshape\n",
            "26 block2a_se_reduce\n",
            "27 block2a_se_expand\n",
            "28 block2a_se_excite\n",
            "29 block2a_project_conv\n",
            "30 block2a_project_bn\n",
            "31 block2b_expand_conv\n",
            "32 block2b_expand_bn\n",
            "33 block2b_expand_activation\n",
            "34 block2b_dwconv\n",
            "35 block2b_bn\n",
            "36 block2b_activation\n",
            "37 block2b_se_squeeze\n",
            "38 block2b_se_reshape\n",
            "39 block2b_se_reduce\n",
            "40 block2b_se_expand\n",
            "41 block2b_se_excite\n",
            "42 block2b_project_conv\n",
            "43 block2b_project_bn\n",
            "44 block2b_drop\n",
            "45 block2b_add\n",
            "46 block3a_expand_conv\n",
            "47 block3a_expand_bn\n",
            "48 block3a_expand_activation\n",
            "49 block3a_dwconv_pad\n",
            "50 block3a_dwconv\n",
            "51 block3a_bn\n",
            "52 block3a_activation\n",
            "53 block3a_se_squeeze\n",
            "54 block3a_se_reshape\n",
            "55 block3a_se_reduce\n",
            "56 block3a_se_expand\n",
            "57 block3a_se_excite\n",
            "58 block3a_project_conv\n",
            "59 block3a_project_bn\n",
            "60 block3b_expand_conv\n",
            "61 block3b_expand_bn\n",
            "62 block3b_expand_activation\n",
            "63 block3b_dwconv\n",
            "64 block3b_bn\n",
            "65 block3b_activation\n",
            "66 block3b_se_squeeze\n",
            "67 block3b_se_reshape\n",
            "68 block3b_se_reduce\n",
            "69 block3b_se_expand\n",
            "70 block3b_se_excite\n",
            "71 block3b_project_conv\n",
            "72 block3b_project_bn\n",
            "73 block3b_drop\n",
            "74 block3b_add\n",
            "75 block4a_expand_conv\n",
            "76 block4a_expand_bn\n",
            "77 block4a_expand_activation\n",
            "78 block4a_dwconv_pad\n",
            "79 block4a_dwconv\n",
            "80 block4a_bn\n",
            "81 block4a_activation\n",
            "82 block4a_se_squeeze\n",
            "83 block4a_se_reshape\n",
            "84 block4a_se_reduce\n",
            "85 block4a_se_expand\n",
            "86 block4a_se_excite\n",
            "87 block4a_project_conv\n",
            "88 block4a_project_bn\n",
            "89 block4b_expand_conv\n",
            "90 block4b_expand_bn\n",
            "91 block4b_expand_activation\n",
            "92 block4b_dwconv\n",
            "93 block4b_bn\n",
            "94 block4b_activation\n",
            "95 block4b_se_squeeze\n",
            "96 block4b_se_reshape\n",
            "97 block4b_se_reduce\n",
            "98 block4b_se_expand\n",
            "99 block4b_se_excite\n",
            "100 block4b_project_conv\n",
            "101 block4b_project_bn\n",
            "102 block4b_drop\n",
            "103 block4b_add\n",
            "104 block4c_expand_conv\n",
            "105 block4c_expand_bn\n",
            "106 block4c_expand_activation\n",
            "107 block4c_dwconv\n",
            "108 block4c_bn\n",
            "109 block4c_activation\n",
            "110 block4c_se_squeeze\n",
            "111 block4c_se_reshape\n",
            "112 block4c_se_reduce\n",
            "113 block4c_se_expand\n",
            "114 block4c_se_excite\n",
            "115 block4c_project_conv\n",
            "116 block4c_project_bn\n",
            "117 block4c_drop\n",
            "118 block4c_add\n",
            "119 block5a_expand_conv\n",
            "120 block5a_expand_bn\n",
            "121 block5a_expand_activation\n",
            "122 block5a_dwconv\n",
            "123 block5a_bn\n",
            "124 block5a_activation\n",
            "125 block5a_se_squeeze\n",
            "126 block5a_se_reshape\n",
            "127 block5a_se_reduce\n",
            "128 block5a_se_expand\n",
            "129 block5a_se_excite\n",
            "130 block5a_project_conv\n",
            "131 block5a_project_bn\n",
            "132 block5b_expand_conv\n",
            "133 block5b_expand_bn\n",
            "134 block5b_expand_activation\n",
            "135 block5b_dwconv\n",
            "136 block5b_bn\n",
            "137 block5b_activation\n",
            "138 block5b_se_squeeze\n",
            "139 block5b_se_reshape\n",
            "140 block5b_se_reduce\n",
            "141 block5b_se_expand\n",
            "142 block5b_se_excite\n",
            "143 block5b_project_conv\n",
            "144 block5b_project_bn\n",
            "145 block5b_drop\n",
            "146 block5b_add\n",
            "147 block5c_expand_conv\n",
            "148 block5c_expand_bn\n",
            "149 block5c_expand_activation\n",
            "150 block5c_dwconv\n",
            "151 block5c_bn\n",
            "152 block5c_activation\n",
            "153 block5c_se_squeeze\n",
            "154 block5c_se_reshape\n",
            "155 block5c_se_reduce\n",
            "156 block5c_se_expand\n",
            "157 block5c_se_excite\n",
            "158 block5c_project_conv\n",
            "159 block5c_project_bn\n",
            "160 block5c_drop\n",
            "161 block5c_add\n",
            "162 block6a_expand_conv\n",
            "163 block6a_expand_bn\n",
            "164 block6a_expand_activation\n",
            "165 block6a_dwconv_pad\n",
            "166 block6a_dwconv\n",
            "167 block6a_bn\n",
            "168 block6a_activation\n",
            "169 block6a_se_squeeze\n",
            "170 block6a_se_reshape\n",
            "171 block6a_se_reduce\n",
            "172 block6a_se_expand\n",
            "173 block6a_se_excite\n",
            "174 block6a_project_conv\n",
            "175 block6a_project_bn\n",
            "176 block6b_expand_conv\n",
            "177 block6b_expand_bn\n",
            "178 block6b_expand_activation\n",
            "179 block6b_dwconv\n",
            "180 block6b_bn\n",
            "181 block6b_activation\n",
            "182 block6b_se_squeeze\n",
            "183 block6b_se_reshape\n",
            "184 block6b_se_reduce\n",
            "185 block6b_se_expand\n",
            "186 block6b_se_excite\n",
            "187 block6b_project_conv\n",
            "188 block6b_project_bn\n",
            "189 block6b_drop\n",
            "190 block6b_add\n",
            "191 block6c_expand_conv\n",
            "192 block6c_expand_bn\n",
            "193 block6c_expand_activation\n",
            "194 block6c_dwconv\n",
            "195 block6c_bn\n",
            "196 block6c_activation\n",
            "197 block6c_se_squeeze\n",
            "198 block6c_se_reshape\n",
            "199 block6c_se_reduce\n",
            "200 block6c_se_expand\n",
            "201 block6c_se_excite\n",
            "202 block6c_project_conv\n",
            "203 block6c_project_bn\n",
            "204 block6c_drop\n",
            "205 block6c_add\n",
            "206 block6d_expand_conv\n",
            "207 block6d_expand_bn\n",
            "208 block6d_expand_activation\n",
            "209 block6d_dwconv\n",
            "210 block6d_bn\n",
            "211 block6d_activation\n",
            "212 block6d_se_squeeze\n",
            "213 block6d_se_reshape\n",
            "214 block6d_se_reduce\n",
            "215 block6d_se_expand\n",
            "216 block6d_se_excite\n",
            "217 block6d_project_conv\n",
            "218 block6d_project_bn\n",
            "219 block6d_drop\n",
            "220 block6d_add\n",
            "221 block7a_expand_conv\n",
            "222 block7a_expand_bn\n",
            "223 block7a_expand_activation\n",
            "224 block7a_dwconv\n",
            "225 block7a_bn\n",
            "226 block7a_activation\n",
            "227 block7a_se_squeeze\n",
            "228 block7a_se_reshape\n",
            "229 block7a_se_reduce\n",
            "230 block7a_se_expand\n",
            "231 block7a_se_excite\n",
            "232 block7a_project_conv\n",
            "233 block7a_project_bn\n",
            "234 top_conv\n",
            "235 top_bn\n",
            "236 top_activation\n"
          ],
          "name": "stdout"
        }
      ]
    },
    {
      "cell_type": "code",
      "metadata": {
        "colab": {
          "base_uri": "https://localhost:8080/"
        },
        "id": "VOftHZhLOv8W",
        "outputId": "8043eb9c-5e4d-440c-febe-8b72404149ae"
      },
      "source": [
        "# How about we get a summary of the base model?\n",
        "base_model.summary()"
      ],
      "execution_count": 13,
      "outputs": [
        {
          "output_type": "stream",
          "text": [
            "Model: \"efficientnetb0\"\n",
            "__________________________________________________________________________________________________\n",
            "Layer (type)                    Output Shape         Param #     Connected to                     \n",
            "==================================================================================================\n",
            "input_1 (InputLayer)            [(None, None, None,  0                                            \n",
            "__________________________________________________________________________________________________\n",
            "rescaling (Rescaling)           (None, None, None, 3 0           input_1[0][0]                    \n",
            "__________________________________________________________________________________________________\n",
            "normalization (Normalization)   (None, None, None, 3 7           rescaling[0][0]                  \n",
            "__________________________________________________________________________________________________\n",
            "stem_conv_pad (ZeroPadding2D)   (None, None, None, 3 0           normalization[0][0]              \n",
            "__________________________________________________________________________________________________\n",
            "stem_conv (Conv2D)              (None, None, None, 3 864         stem_conv_pad[0][0]              \n",
            "__________________________________________________________________________________________________\n",
            "stem_bn (BatchNormalization)    (None, None, None, 3 128         stem_conv[0][0]                  \n",
            "__________________________________________________________________________________________________\n",
            "stem_activation (Activation)    (None, None, None, 3 0           stem_bn[0][0]                    \n",
            "__________________________________________________________________________________________________\n",
            "block1a_dwconv (DepthwiseConv2D (None, None, None, 3 288         stem_activation[0][0]            \n",
            "__________________________________________________________________________________________________\n",
            "block1a_bn (BatchNormalization) (None, None, None, 3 128         block1a_dwconv[0][0]             \n",
            "__________________________________________________________________________________________________\n",
            "block1a_activation (Activation) (None, None, None, 3 0           block1a_bn[0][0]                 \n",
            "__________________________________________________________________________________________________\n",
            "block1a_se_squeeze (GlobalAvera (None, 32)           0           block1a_activation[0][0]         \n",
            "__________________________________________________________________________________________________\n",
            "block1a_se_reshape (Reshape)    (None, 1, 1, 32)     0           block1a_se_squeeze[0][0]         \n",
            "__________________________________________________________________________________________________\n",
            "block1a_se_reduce (Conv2D)      (None, 1, 1, 8)      264         block1a_se_reshape[0][0]         \n",
            "__________________________________________________________________________________________________\n",
            "block1a_se_expand (Conv2D)      (None, 1, 1, 32)     288         block1a_se_reduce[0][0]          \n",
            "__________________________________________________________________________________________________\n",
            "block1a_se_excite (Multiply)    (None, None, None, 3 0           block1a_activation[0][0]         \n",
            "                                                                 block1a_se_expand[0][0]          \n",
            "__________________________________________________________________________________________________\n",
            "block1a_project_conv (Conv2D)   (None, None, None, 1 512         block1a_se_excite[0][0]          \n",
            "__________________________________________________________________________________________________\n",
            "block1a_project_bn (BatchNormal (None, None, None, 1 64          block1a_project_conv[0][0]       \n",
            "__________________________________________________________________________________________________\n",
            "block2a_expand_conv (Conv2D)    (None, None, None, 9 1536        block1a_project_bn[0][0]         \n",
            "__________________________________________________________________________________________________\n",
            "block2a_expand_bn (BatchNormali (None, None, None, 9 384         block2a_expand_conv[0][0]        \n",
            "__________________________________________________________________________________________________\n",
            "block2a_expand_activation (Acti (None, None, None, 9 0           block2a_expand_bn[0][0]          \n",
            "__________________________________________________________________________________________________\n",
            "block2a_dwconv_pad (ZeroPadding (None, None, None, 9 0           block2a_expand_activation[0][0]  \n",
            "__________________________________________________________________________________________________\n",
            "block2a_dwconv (DepthwiseConv2D (None, None, None, 9 864         block2a_dwconv_pad[0][0]         \n",
            "__________________________________________________________________________________________________\n",
            "block2a_bn (BatchNormalization) (None, None, None, 9 384         block2a_dwconv[0][0]             \n",
            "__________________________________________________________________________________________________\n",
            "block2a_activation (Activation) (None, None, None, 9 0           block2a_bn[0][0]                 \n",
            "__________________________________________________________________________________________________\n",
            "block2a_se_squeeze (GlobalAvera (None, 96)           0           block2a_activation[0][0]         \n",
            "__________________________________________________________________________________________________\n",
            "block2a_se_reshape (Reshape)    (None, 1, 1, 96)     0           block2a_se_squeeze[0][0]         \n",
            "__________________________________________________________________________________________________\n",
            "block2a_se_reduce (Conv2D)      (None, 1, 1, 4)      388         block2a_se_reshape[0][0]         \n",
            "__________________________________________________________________________________________________\n",
            "block2a_se_expand (Conv2D)      (None, 1, 1, 96)     480         block2a_se_reduce[0][0]          \n",
            "__________________________________________________________________________________________________\n",
            "block2a_se_excite (Multiply)    (None, None, None, 9 0           block2a_activation[0][0]         \n",
            "                                                                 block2a_se_expand[0][0]          \n",
            "__________________________________________________________________________________________________\n",
            "block2a_project_conv (Conv2D)   (None, None, None, 2 2304        block2a_se_excite[0][0]          \n",
            "__________________________________________________________________________________________________\n",
            "block2a_project_bn (BatchNormal (None, None, None, 2 96          block2a_project_conv[0][0]       \n",
            "__________________________________________________________________________________________________\n",
            "block2b_expand_conv (Conv2D)    (None, None, None, 1 3456        block2a_project_bn[0][0]         \n",
            "__________________________________________________________________________________________________\n",
            "block2b_expand_bn (BatchNormali (None, None, None, 1 576         block2b_expand_conv[0][0]        \n",
            "__________________________________________________________________________________________________\n",
            "block2b_expand_activation (Acti (None, None, None, 1 0           block2b_expand_bn[0][0]          \n",
            "__________________________________________________________________________________________________\n",
            "block2b_dwconv (DepthwiseConv2D (None, None, None, 1 1296        block2b_expand_activation[0][0]  \n",
            "__________________________________________________________________________________________________\n",
            "block2b_bn (BatchNormalization) (None, None, None, 1 576         block2b_dwconv[0][0]             \n",
            "__________________________________________________________________________________________________\n",
            "block2b_activation (Activation) (None, None, None, 1 0           block2b_bn[0][0]                 \n",
            "__________________________________________________________________________________________________\n",
            "block2b_se_squeeze (GlobalAvera (None, 144)          0           block2b_activation[0][0]         \n",
            "__________________________________________________________________________________________________\n",
            "block2b_se_reshape (Reshape)    (None, 1, 1, 144)    0           block2b_se_squeeze[0][0]         \n",
            "__________________________________________________________________________________________________\n",
            "block2b_se_reduce (Conv2D)      (None, 1, 1, 6)      870         block2b_se_reshape[0][0]         \n",
            "__________________________________________________________________________________________________\n",
            "block2b_se_expand (Conv2D)      (None, 1, 1, 144)    1008        block2b_se_reduce[0][0]          \n",
            "__________________________________________________________________________________________________\n",
            "block2b_se_excite (Multiply)    (None, None, None, 1 0           block2b_activation[0][0]         \n",
            "                                                                 block2b_se_expand[0][0]          \n",
            "__________________________________________________________________________________________________\n",
            "block2b_project_conv (Conv2D)   (None, None, None, 2 3456        block2b_se_excite[0][0]          \n",
            "__________________________________________________________________________________________________\n",
            "block2b_project_bn (BatchNormal (None, None, None, 2 96          block2b_project_conv[0][0]       \n",
            "__________________________________________________________________________________________________\n",
            "block2b_drop (Dropout)          (None, None, None, 2 0           block2b_project_bn[0][0]         \n",
            "__________________________________________________________________________________________________\n",
            "block2b_add (Add)               (None, None, None, 2 0           block2b_drop[0][0]               \n",
            "                                                                 block2a_project_bn[0][0]         \n",
            "__________________________________________________________________________________________________\n",
            "block3a_expand_conv (Conv2D)    (None, None, None, 1 3456        block2b_add[0][0]                \n",
            "__________________________________________________________________________________________________\n",
            "block3a_expand_bn (BatchNormali (None, None, None, 1 576         block3a_expand_conv[0][0]        \n",
            "__________________________________________________________________________________________________\n",
            "block3a_expand_activation (Acti (None, None, None, 1 0           block3a_expand_bn[0][0]          \n",
            "__________________________________________________________________________________________________\n",
            "block3a_dwconv_pad (ZeroPadding (None, None, None, 1 0           block3a_expand_activation[0][0]  \n",
            "__________________________________________________________________________________________________\n",
            "block3a_dwconv (DepthwiseConv2D (None, None, None, 1 3600        block3a_dwconv_pad[0][0]         \n",
            "__________________________________________________________________________________________________\n",
            "block3a_bn (BatchNormalization) (None, None, None, 1 576         block3a_dwconv[0][0]             \n",
            "__________________________________________________________________________________________________\n",
            "block3a_activation (Activation) (None, None, None, 1 0           block3a_bn[0][0]                 \n",
            "__________________________________________________________________________________________________\n",
            "block3a_se_squeeze (GlobalAvera (None, 144)          0           block3a_activation[0][0]         \n",
            "__________________________________________________________________________________________________\n",
            "block3a_se_reshape (Reshape)    (None, 1, 1, 144)    0           block3a_se_squeeze[0][0]         \n",
            "__________________________________________________________________________________________________\n",
            "block3a_se_reduce (Conv2D)      (None, 1, 1, 6)      870         block3a_se_reshape[0][0]         \n",
            "__________________________________________________________________________________________________\n",
            "block3a_se_expand (Conv2D)      (None, 1, 1, 144)    1008        block3a_se_reduce[0][0]          \n",
            "__________________________________________________________________________________________________\n",
            "block3a_se_excite (Multiply)    (None, None, None, 1 0           block3a_activation[0][0]         \n",
            "                                                                 block3a_se_expand[0][0]          \n",
            "__________________________________________________________________________________________________\n",
            "block3a_project_conv (Conv2D)   (None, None, None, 4 5760        block3a_se_excite[0][0]          \n",
            "__________________________________________________________________________________________________\n",
            "block3a_project_bn (BatchNormal (None, None, None, 4 160         block3a_project_conv[0][0]       \n",
            "__________________________________________________________________________________________________\n",
            "block3b_expand_conv (Conv2D)    (None, None, None, 2 9600        block3a_project_bn[0][0]         \n",
            "__________________________________________________________________________________________________\n",
            "block3b_expand_bn (BatchNormali (None, None, None, 2 960         block3b_expand_conv[0][0]        \n",
            "__________________________________________________________________________________________________\n",
            "block3b_expand_activation (Acti (None, None, None, 2 0           block3b_expand_bn[0][0]          \n",
            "__________________________________________________________________________________________________\n",
            "block3b_dwconv (DepthwiseConv2D (None, None, None, 2 6000        block3b_expand_activation[0][0]  \n",
            "__________________________________________________________________________________________________\n",
            "block3b_bn (BatchNormalization) (None, None, None, 2 960         block3b_dwconv[0][0]             \n",
            "__________________________________________________________________________________________________\n",
            "block3b_activation (Activation) (None, None, None, 2 0           block3b_bn[0][0]                 \n",
            "__________________________________________________________________________________________________\n",
            "block3b_se_squeeze (GlobalAvera (None, 240)          0           block3b_activation[0][0]         \n",
            "__________________________________________________________________________________________________\n",
            "block3b_se_reshape (Reshape)    (None, 1, 1, 240)    0           block3b_se_squeeze[0][0]         \n",
            "__________________________________________________________________________________________________\n",
            "block3b_se_reduce (Conv2D)      (None, 1, 1, 10)     2410        block3b_se_reshape[0][0]         \n",
            "__________________________________________________________________________________________________\n",
            "block3b_se_expand (Conv2D)      (None, 1, 1, 240)    2640        block3b_se_reduce[0][0]          \n",
            "__________________________________________________________________________________________________\n",
            "block3b_se_excite (Multiply)    (None, None, None, 2 0           block3b_activation[0][0]         \n",
            "                                                                 block3b_se_expand[0][0]          \n",
            "__________________________________________________________________________________________________\n",
            "block3b_project_conv (Conv2D)   (None, None, None, 4 9600        block3b_se_excite[0][0]          \n",
            "__________________________________________________________________________________________________\n",
            "block3b_project_bn (BatchNormal (None, None, None, 4 160         block3b_project_conv[0][0]       \n",
            "__________________________________________________________________________________________________\n",
            "block3b_drop (Dropout)          (None, None, None, 4 0           block3b_project_bn[0][0]         \n",
            "__________________________________________________________________________________________________\n",
            "block3b_add (Add)               (None, None, None, 4 0           block3b_drop[0][0]               \n",
            "                                                                 block3a_project_bn[0][0]         \n",
            "__________________________________________________________________________________________________\n",
            "block4a_expand_conv (Conv2D)    (None, None, None, 2 9600        block3b_add[0][0]                \n",
            "__________________________________________________________________________________________________\n",
            "block4a_expand_bn (BatchNormali (None, None, None, 2 960         block4a_expand_conv[0][0]        \n",
            "__________________________________________________________________________________________________\n",
            "block4a_expand_activation (Acti (None, None, None, 2 0           block4a_expand_bn[0][0]          \n",
            "__________________________________________________________________________________________________\n",
            "block4a_dwconv_pad (ZeroPadding (None, None, None, 2 0           block4a_expand_activation[0][0]  \n",
            "__________________________________________________________________________________________________\n",
            "block4a_dwconv (DepthwiseConv2D (None, None, None, 2 2160        block4a_dwconv_pad[0][0]         \n",
            "__________________________________________________________________________________________________\n",
            "block4a_bn (BatchNormalization) (None, None, None, 2 960         block4a_dwconv[0][0]             \n",
            "__________________________________________________________________________________________________\n",
            "block4a_activation (Activation) (None, None, None, 2 0           block4a_bn[0][0]                 \n",
            "__________________________________________________________________________________________________\n",
            "block4a_se_squeeze (GlobalAvera (None, 240)          0           block4a_activation[0][0]         \n",
            "__________________________________________________________________________________________________\n",
            "block4a_se_reshape (Reshape)    (None, 1, 1, 240)    0           block4a_se_squeeze[0][0]         \n",
            "__________________________________________________________________________________________________\n",
            "block4a_se_reduce (Conv2D)      (None, 1, 1, 10)     2410        block4a_se_reshape[0][0]         \n",
            "__________________________________________________________________________________________________\n",
            "block4a_se_expand (Conv2D)      (None, 1, 1, 240)    2640        block4a_se_reduce[0][0]          \n",
            "__________________________________________________________________________________________________\n",
            "block4a_se_excite (Multiply)    (None, None, None, 2 0           block4a_activation[0][0]         \n",
            "                                                                 block4a_se_expand[0][0]          \n",
            "__________________________________________________________________________________________________\n",
            "block4a_project_conv (Conv2D)   (None, None, None, 8 19200       block4a_se_excite[0][0]          \n",
            "__________________________________________________________________________________________________\n",
            "block4a_project_bn (BatchNormal (None, None, None, 8 320         block4a_project_conv[0][0]       \n",
            "__________________________________________________________________________________________________\n",
            "block4b_expand_conv (Conv2D)    (None, None, None, 4 38400       block4a_project_bn[0][0]         \n",
            "__________________________________________________________________________________________________\n",
            "block4b_expand_bn (BatchNormali (None, None, None, 4 1920        block4b_expand_conv[0][0]        \n",
            "__________________________________________________________________________________________________\n",
            "block4b_expand_activation (Acti (None, None, None, 4 0           block4b_expand_bn[0][0]          \n",
            "__________________________________________________________________________________________________\n",
            "block4b_dwconv (DepthwiseConv2D (None, None, None, 4 4320        block4b_expand_activation[0][0]  \n",
            "__________________________________________________________________________________________________\n",
            "block4b_bn (BatchNormalization) (None, None, None, 4 1920        block4b_dwconv[0][0]             \n",
            "__________________________________________________________________________________________________\n",
            "block4b_activation (Activation) (None, None, None, 4 0           block4b_bn[0][0]                 \n",
            "__________________________________________________________________________________________________\n",
            "block4b_se_squeeze (GlobalAvera (None, 480)          0           block4b_activation[0][0]         \n",
            "__________________________________________________________________________________________________\n",
            "block4b_se_reshape (Reshape)    (None, 1, 1, 480)    0           block4b_se_squeeze[0][0]         \n",
            "__________________________________________________________________________________________________\n",
            "block4b_se_reduce (Conv2D)      (None, 1, 1, 20)     9620        block4b_se_reshape[0][0]         \n",
            "__________________________________________________________________________________________________\n",
            "block4b_se_expand (Conv2D)      (None, 1, 1, 480)    10080       block4b_se_reduce[0][0]          \n",
            "__________________________________________________________________________________________________\n",
            "block4b_se_excite (Multiply)    (None, None, None, 4 0           block4b_activation[0][0]         \n",
            "                                                                 block4b_se_expand[0][0]          \n",
            "__________________________________________________________________________________________________\n",
            "block4b_project_conv (Conv2D)   (None, None, None, 8 38400       block4b_se_excite[0][0]          \n",
            "__________________________________________________________________________________________________\n",
            "block4b_project_bn (BatchNormal (None, None, None, 8 320         block4b_project_conv[0][0]       \n",
            "__________________________________________________________________________________________________\n",
            "block4b_drop (Dropout)          (None, None, None, 8 0           block4b_project_bn[0][0]         \n",
            "__________________________________________________________________________________________________\n",
            "block4b_add (Add)               (None, None, None, 8 0           block4b_drop[0][0]               \n",
            "                                                                 block4a_project_bn[0][0]         \n",
            "__________________________________________________________________________________________________\n",
            "block4c_expand_conv (Conv2D)    (None, None, None, 4 38400       block4b_add[0][0]                \n",
            "__________________________________________________________________________________________________\n",
            "block4c_expand_bn (BatchNormali (None, None, None, 4 1920        block4c_expand_conv[0][0]        \n",
            "__________________________________________________________________________________________________\n",
            "block4c_expand_activation (Acti (None, None, None, 4 0           block4c_expand_bn[0][0]          \n",
            "__________________________________________________________________________________________________\n",
            "block4c_dwconv (DepthwiseConv2D (None, None, None, 4 4320        block4c_expand_activation[0][0]  \n",
            "__________________________________________________________________________________________________\n",
            "block4c_bn (BatchNormalization) (None, None, None, 4 1920        block4c_dwconv[0][0]             \n",
            "__________________________________________________________________________________________________\n",
            "block4c_activation (Activation) (None, None, None, 4 0           block4c_bn[0][0]                 \n",
            "__________________________________________________________________________________________________\n",
            "block4c_se_squeeze (GlobalAvera (None, 480)          0           block4c_activation[0][0]         \n",
            "__________________________________________________________________________________________________\n",
            "block4c_se_reshape (Reshape)    (None, 1, 1, 480)    0           block4c_se_squeeze[0][0]         \n",
            "__________________________________________________________________________________________________\n",
            "block4c_se_reduce (Conv2D)      (None, 1, 1, 20)     9620        block4c_se_reshape[0][0]         \n",
            "__________________________________________________________________________________________________\n",
            "block4c_se_expand (Conv2D)      (None, 1, 1, 480)    10080       block4c_se_reduce[0][0]          \n",
            "__________________________________________________________________________________________________\n",
            "block4c_se_excite (Multiply)    (None, None, None, 4 0           block4c_activation[0][0]         \n",
            "                                                                 block4c_se_expand[0][0]          \n",
            "__________________________________________________________________________________________________\n",
            "block4c_project_conv (Conv2D)   (None, None, None, 8 38400       block4c_se_excite[0][0]          \n",
            "__________________________________________________________________________________________________\n",
            "block4c_project_bn (BatchNormal (None, None, None, 8 320         block4c_project_conv[0][0]       \n",
            "__________________________________________________________________________________________________\n",
            "block4c_drop (Dropout)          (None, None, None, 8 0           block4c_project_bn[0][0]         \n",
            "__________________________________________________________________________________________________\n",
            "block4c_add (Add)               (None, None, None, 8 0           block4c_drop[0][0]               \n",
            "                                                                 block4b_add[0][0]                \n",
            "__________________________________________________________________________________________________\n",
            "block5a_expand_conv (Conv2D)    (None, None, None, 4 38400       block4c_add[0][0]                \n",
            "__________________________________________________________________________________________________\n",
            "block5a_expand_bn (BatchNormali (None, None, None, 4 1920        block5a_expand_conv[0][0]        \n",
            "__________________________________________________________________________________________________\n",
            "block5a_expand_activation (Acti (None, None, None, 4 0           block5a_expand_bn[0][0]          \n",
            "__________________________________________________________________________________________________\n",
            "block5a_dwconv (DepthwiseConv2D (None, None, None, 4 12000       block5a_expand_activation[0][0]  \n",
            "__________________________________________________________________________________________________\n",
            "block5a_bn (BatchNormalization) (None, None, None, 4 1920        block5a_dwconv[0][0]             \n",
            "__________________________________________________________________________________________________\n",
            "block5a_activation (Activation) (None, None, None, 4 0           block5a_bn[0][0]                 \n",
            "__________________________________________________________________________________________________\n",
            "block5a_se_squeeze (GlobalAvera (None, 480)          0           block5a_activation[0][0]         \n",
            "__________________________________________________________________________________________________\n",
            "block5a_se_reshape (Reshape)    (None, 1, 1, 480)    0           block5a_se_squeeze[0][0]         \n",
            "__________________________________________________________________________________________________\n",
            "block5a_se_reduce (Conv2D)      (None, 1, 1, 20)     9620        block5a_se_reshape[0][0]         \n",
            "__________________________________________________________________________________________________\n",
            "block5a_se_expand (Conv2D)      (None, 1, 1, 480)    10080       block5a_se_reduce[0][0]          \n",
            "__________________________________________________________________________________________________\n",
            "block5a_se_excite (Multiply)    (None, None, None, 4 0           block5a_activation[0][0]         \n",
            "                                                                 block5a_se_expand[0][0]          \n",
            "__________________________________________________________________________________________________\n",
            "block5a_project_conv (Conv2D)   (None, None, None, 1 53760       block5a_se_excite[0][0]          \n",
            "__________________________________________________________________________________________________\n",
            "block5a_project_bn (BatchNormal (None, None, None, 1 448         block5a_project_conv[0][0]       \n",
            "__________________________________________________________________________________________________\n",
            "block5b_expand_conv (Conv2D)    (None, None, None, 6 75264       block5a_project_bn[0][0]         \n",
            "__________________________________________________________________________________________________\n",
            "block5b_expand_bn (BatchNormali (None, None, None, 6 2688        block5b_expand_conv[0][0]        \n",
            "__________________________________________________________________________________________________\n",
            "block5b_expand_activation (Acti (None, None, None, 6 0           block5b_expand_bn[0][0]          \n",
            "__________________________________________________________________________________________________\n",
            "block5b_dwconv (DepthwiseConv2D (None, None, None, 6 16800       block5b_expand_activation[0][0]  \n",
            "__________________________________________________________________________________________________\n",
            "block5b_bn (BatchNormalization) (None, None, None, 6 2688        block5b_dwconv[0][0]             \n",
            "__________________________________________________________________________________________________\n",
            "block5b_activation (Activation) (None, None, None, 6 0           block5b_bn[0][0]                 \n",
            "__________________________________________________________________________________________________\n",
            "block5b_se_squeeze (GlobalAvera (None, 672)          0           block5b_activation[0][0]         \n",
            "__________________________________________________________________________________________________\n",
            "block5b_se_reshape (Reshape)    (None, 1, 1, 672)    0           block5b_se_squeeze[0][0]         \n",
            "__________________________________________________________________________________________________\n",
            "block5b_se_reduce (Conv2D)      (None, 1, 1, 28)     18844       block5b_se_reshape[0][0]         \n",
            "__________________________________________________________________________________________________\n",
            "block5b_se_expand (Conv2D)      (None, 1, 1, 672)    19488       block5b_se_reduce[0][0]          \n",
            "__________________________________________________________________________________________________\n",
            "block5b_se_excite (Multiply)    (None, None, None, 6 0           block5b_activation[0][0]         \n",
            "                                                                 block5b_se_expand[0][0]          \n",
            "__________________________________________________________________________________________________\n",
            "block5b_project_conv (Conv2D)   (None, None, None, 1 75264       block5b_se_excite[0][0]          \n",
            "__________________________________________________________________________________________________\n",
            "block5b_project_bn (BatchNormal (None, None, None, 1 448         block5b_project_conv[0][0]       \n",
            "__________________________________________________________________________________________________\n",
            "block5b_drop (Dropout)          (None, None, None, 1 0           block5b_project_bn[0][0]         \n",
            "__________________________________________________________________________________________________\n",
            "block5b_add (Add)               (None, None, None, 1 0           block5b_drop[0][0]               \n",
            "                                                                 block5a_project_bn[0][0]         \n",
            "__________________________________________________________________________________________________\n",
            "block5c_expand_conv (Conv2D)    (None, None, None, 6 75264       block5b_add[0][0]                \n",
            "__________________________________________________________________________________________________\n",
            "block5c_expand_bn (BatchNormali (None, None, None, 6 2688        block5c_expand_conv[0][0]        \n",
            "__________________________________________________________________________________________________\n",
            "block5c_expand_activation (Acti (None, None, None, 6 0           block5c_expand_bn[0][0]          \n",
            "__________________________________________________________________________________________________\n",
            "block5c_dwconv (DepthwiseConv2D (None, None, None, 6 16800       block5c_expand_activation[0][0]  \n",
            "__________________________________________________________________________________________________\n",
            "block5c_bn (BatchNormalization) (None, None, None, 6 2688        block5c_dwconv[0][0]             \n",
            "__________________________________________________________________________________________________\n",
            "block5c_activation (Activation) (None, None, None, 6 0           block5c_bn[0][0]                 \n",
            "__________________________________________________________________________________________________\n",
            "block5c_se_squeeze (GlobalAvera (None, 672)          0           block5c_activation[0][0]         \n",
            "__________________________________________________________________________________________________\n",
            "block5c_se_reshape (Reshape)    (None, 1, 1, 672)    0           block5c_se_squeeze[0][0]         \n",
            "__________________________________________________________________________________________________\n",
            "block5c_se_reduce (Conv2D)      (None, 1, 1, 28)     18844       block5c_se_reshape[0][0]         \n",
            "__________________________________________________________________________________________________\n",
            "block5c_se_expand (Conv2D)      (None, 1, 1, 672)    19488       block5c_se_reduce[0][0]          \n",
            "__________________________________________________________________________________________________\n",
            "block5c_se_excite (Multiply)    (None, None, None, 6 0           block5c_activation[0][0]         \n",
            "                                                                 block5c_se_expand[0][0]          \n",
            "__________________________________________________________________________________________________\n",
            "block5c_project_conv (Conv2D)   (None, None, None, 1 75264       block5c_se_excite[0][0]          \n",
            "__________________________________________________________________________________________________\n",
            "block5c_project_bn (BatchNormal (None, None, None, 1 448         block5c_project_conv[0][0]       \n",
            "__________________________________________________________________________________________________\n",
            "block5c_drop (Dropout)          (None, None, None, 1 0           block5c_project_bn[0][0]         \n",
            "__________________________________________________________________________________________________\n",
            "block5c_add (Add)               (None, None, None, 1 0           block5c_drop[0][0]               \n",
            "                                                                 block5b_add[0][0]                \n",
            "__________________________________________________________________________________________________\n",
            "block6a_expand_conv (Conv2D)    (None, None, None, 6 75264       block5c_add[0][0]                \n",
            "__________________________________________________________________________________________________\n",
            "block6a_expand_bn (BatchNormali (None, None, None, 6 2688        block6a_expand_conv[0][0]        \n",
            "__________________________________________________________________________________________________\n",
            "block6a_expand_activation (Acti (None, None, None, 6 0           block6a_expand_bn[0][0]          \n",
            "__________________________________________________________________________________________________\n",
            "block6a_dwconv_pad (ZeroPadding (None, None, None, 6 0           block6a_expand_activation[0][0]  \n",
            "__________________________________________________________________________________________________\n",
            "block6a_dwconv (DepthwiseConv2D (None, None, None, 6 16800       block6a_dwconv_pad[0][0]         \n",
            "__________________________________________________________________________________________________\n",
            "block6a_bn (BatchNormalization) (None, None, None, 6 2688        block6a_dwconv[0][0]             \n",
            "__________________________________________________________________________________________________\n",
            "block6a_activation (Activation) (None, None, None, 6 0           block6a_bn[0][0]                 \n",
            "__________________________________________________________________________________________________\n",
            "block6a_se_squeeze (GlobalAvera (None, 672)          0           block6a_activation[0][0]         \n",
            "__________________________________________________________________________________________________\n",
            "block6a_se_reshape (Reshape)    (None, 1, 1, 672)    0           block6a_se_squeeze[0][0]         \n",
            "__________________________________________________________________________________________________\n",
            "block6a_se_reduce (Conv2D)      (None, 1, 1, 28)     18844       block6a_se_reshape[0][0]         \n",
            "__________________________________________________________________________________________________\n",
            "block6a_se_expand (Conv2D)      (None, 1, 1, 672)    19488       block6a_se_reduce[0][0]          \n",
            "__________________________________________________________________________________________________\n",
            "block6a_se_excite (Multiply)    (None, None, None, 6 0           block6a_activation[0][0]         \n",
            "                                                                 block6a_se_expand[0][0]          \n",
            "__________________________________________________________________________________________________\n",
            "block6a_project_conv (Conv2D)   (None, None, None, 1 129024      block6a_se_excite[0][0]          \n",
            "__________________________________________________________________________________________________\n",
            "block6a_project_bn (BatchNormal (None, None, None, 1 768         block6a_project_conv[0][0]       \n",
            "__________________________________________________________________________________________________\n",
            "block6b_expand_conv (Conv2D)    (None, None, None, 1 221184      block6a_project_bn[0][0]         \n",
            "__________________________________________________________________________________________________\n",
            "block6b_expand_bn (BatchNormali (None, None, None, 1 4608        block6b_expand_conv[0][0]        \n",
            "__________________________________________________________________________________________________\n",
            "block6b_expand_activation (Acti (None, None, None, 1 0           block6b_expand_bn[0][0]          \n",
            "__________________________________________________________________________________________________\n",
            "block6b_dwconv (DepthwiseConv2D (None, None, None, 1 28800       block6b_expand_activation[0][0]  \n",
            "__________________________________________________________________________________________________\n",
            "block6b_bn (BatchNormalization) (None, None, None, 1 4608        block6b_dwconv[0][0]             \n",
            "__________________________________________________________________________________________________\n",
            "block6b_activation (Activation) (None, None, None, 1 0           block6b_bn[0][0]                 \n",
            "__________________________________________________________________________________________________\n",
            "block6b_se_squeeze (GlobalAvera (None, 1152)         0           block6b_activation[0][0]         \n",
            "__________________________________________________________________________________________________\n",
            "block6b_se_reshape (Reshape)    (None, 1, 1, 1152)   0           block6b_se_squeeze[0][0]         \n",
            "__________________________________________________________________________________________________\n",
            "block6b_se_reduce (Conv2D)      (None, 1, 1, 48)     55344       block6b_se_reshape[0][0]         \n",
            "__________________________________________________________________________________________________\n",
            "block6b_se_expand (Conv2D)      (None, 1, 1, 1152)   56448       block6b_se_reduce[0][0]          \n",
            "__________________________________________________________________________________________________\n",
            "block6b_se_excite (Multiply)    (None, None, None, 1 0           block6b_activation[0][0]         \n",
            "                                                                 block6b_se_expand[0][0]          \n",
            "__________________________________________________________________________________________________\n",
            "block6b_project_conv (Conv2D)   (None, None, None, 1 221184      block6b_se_excite[0][0]          \n",
            "__________________________________________________________________________________________________\n",
            "block6b_project_bn (BatchNormal (None, None, None, 1 768         block6b_project_conv[0][0]       \n",
            "__________________________________________________________________________________________________\n",
            "block6b_drop (Dropout)          (None, None, None, 1 0           block6b_project_bn[0][0]         \n",
            "__________________________________________________________________________________________________\n",
            "block6b_add (Add)               (None, None, None, 1 0           block6b_drop[0][0]               \n",
            "                                                                 block6a_project_bn[0][0]         \n",
            "__________________________________________________________________________________________________\n",
            "block6c_expand_conv (Conv2D)    (None, None, None, 1 221184      block6b_add[0][0]                \n",
            "__________________________________________________________________________________________________\n",
            "block6c_expand_bn (BatchNormali (None, None, None, 1 4608        block6c_expand_conv[0][0]        \n",
            "__________________________________________________________________________________________________\n",
            "block6c_expand_activation (Acti (None, None, None, 1 0           block6c_expand_bn[0][0]          \n",
            "__________________________________________________________________________________________________\n",
            "block6c_dwconv (DepthwiseConv2D (None, None, None, 1 28800       block6c_expand_activation[0][0]  \n",
            "__________________________________________________________________________________________________\n",
            "block6c_bn (BatchNormalization) (None, None, None, 1 4608        block6c_dwconv[0][0]             \n",
            "__________________________________________________________________________________________________\n",
            "block6c_activation (Activation) (None, None, None, 1 0           block6c_bn[0][0]                 \n",
            "__________________________________________________________________________________________________\n",
            "block6c_se_squeeze (GlobalAvera (None, 1152)         0           block6c_activation[0][0]         \n",
            "__________________________________________________________________________________________________\n",
            "block6c_se_reshape (Reshape)    (None, 1, 1, 1152)   0           block6c_se_squeeze[0][0]         \n",
            "__________________________________________________________________________________________________\n",
            "block6c_se_reduce (Conv2D)      (None, 1, 1, 48)     55344       block6c_se_reshape[0][0]         \n",
            "__________________________________________________________________________________________________\n",
            "block6c_se_expand (Conv2D)      (None, 1, 1, 1152)   56448       block6c_se_reduce[0][0]          \n",
            "__________________________________________________________________________________________________\n",
            "block6c_se_excite (Multiply)    (None, None, None, 1 0           block6c_activation[0][0]         \n",
            "                                                                 block6c_se_expand[0][0]          \n",
            "__________________________________________________________________________________________________\n",
            "block6c_project_conv (Conv2D)   (None, None, None, 1 221184      block6c_se_excite[0][0]          \n",
            "__________________________________________________________________________________________________\n",
            "block6c_project_bn (BatchNormal (None, None, None, 1 768         block6c_project_conv[0][0]       \n",
            "__________________________________________________________________________________________________\n",
            "block6c_drop (Dropout)          (None, None, None, 1 0           block6c_project_bn[0][0]         \n",
            "__________________________________________________________________________________________________\n",
            "block6c_add (Add)               (None, None, None, 1 0           block6c_drop[0][0]               \n",
            "                                                                 block6b_add[0][0]                \n",
            "__________________________________________________________________________________________________\n",
            "block6d_expand_conv (Conv2D)    (None, None, None, 1 221184      block6c_add[0][0]                \n",
            "__________________________________________________________________________________________________\n",
            "block6d_expand_bn (BatchNormali (None, None, None, 1 4608        block6d_expand_conv[0][0]        \n",
            "__________________________________________________________________________________________________\n",
            "block6d_expand_activation (Acti (None, None, None, 1 0           block6d_expand_bn[0][0]          \n",
            "__________________________________________________________________________________________________\n",
            "block6d_dwconv (DepthwiseConv2D (None, None, None, 1 28800       block6d_expand_activation[0][0]  \n",
            "__________________________________________________________________________________________________\n",
            "block6d_bn (BatchNormalization) (None, None, None, 1 4608        block6d_dwconv[0][0]             \n",
            "__________________________________________________________________________________________________\n",
            "block6d_activation (Activation) (None, None, None, 1 0           block6d_bn[0][0]                 \n",
            "__________________________________________________________________________________________________\n",
            "block6d_se_squeeze (GlobalAvera (None, 1152)         0           block6d_activation[0][0]         \n",
            "__________________________________________________________________________________________________\n",
            "block6d_se_reshape (Reshape)    (None, 1, 1, 1152)   0           block6d_se_squeeze[0][0]         \n",
            "__________________________________________________________________________________________________\n",
            "block6d_se_reduce (Conv2D)      (None, 1, 1, 48)     55344       block6d_se_reshape[0][0]         \n",
            "__________________________________________________________________________________________________\n",
            "block6d_se_expand (Conv2D)      (None, 1, 1, 1152)   56448       block6d_se_reduce[0][0]          \n",
            "__________________________________________________________________________________________________\n",
            "block6d_se_excite (Multiply)    (None, None, None, 1 0           block6d_activation[0][0]         \n",
            "                                                                 block6d_se_expand[0][0]          \n",
            "__________________________________________________________________________________________________\n",
            "block6d_project_conv (Conv2D)   (None, None, None, 1 221184      block6d_se_excite[0][0]          \n",
            "__________________________________________________________________________________________________\n",
            "block6d_project_bn (BatchNormal (None, None, None, 1 768         block6d_project_conv[0][0]       \n",
            "__________________________________________________________________________________________________\n",
            "block6d_drop (Dropout)          (None, None, None, 1 0           block6d_project_bn[0][0]         \n",
            "__________________________________________________________________________________________________\n",
            "block6d_add (Add)               (None, None, None, 1 0           block6d_drop[0][0]               \n",
            "                                                                 block6c_add[0][0]                \n",
            "__________________________________________________________________________________________________\n",
            "block7a_expand_conv (Conv2D)    (None, None, None, 1 221184      block6d_add[0][0]                \n",
            "__________________________________________________________________________________________________\n",
            "block7a_expand_bn (BatchNormali (None, None, None, 1 4608        block7a_expand_conv[0][0]        \n",
            "__________________________________________________________________________________________________\n",
            "block7a_expand_activation (Acti (None, None, None, 1 0           block7a_expand_bn[0][0]          \n",
            "__________________________________________________________________________________________________\n",
            "block7a_dwconv (DepthwiseConv2D (None, None, None, 1 10368       block7a_expand_activation[0][0]  \n",
            "__________________________________________________________________________________________________\n",
            "block7a_bn (BatchNormalization) (None, None, None, 1 4608        block7a_dwconv[0][0]             \n",
            "__________________________________________________________________________________________________\n",
            "block7a_activation (Activation) (None, None, None, 1 0           block7a_bn[0][0]                 \n",
            "__________________________________________________________________________________________________\n",
            "block7a_se_squeeze (GlobalAvera (None, 1152)         0           block7a_activation[0][0]         \n",
            "__________________________________________________________________________________________________\n",
            "block7a_se_reshape (Reshape)    (None, 1, 1, 1152)   0           block7a_se_squeeze[0][0]         \n",
            "__________________________________________________________________________________________________\n",
            "block7a_se_reduce (Conv2D)      (None, 1, 1, 48)     55344       block7a_se_reshape[0][0]         \n",
            "__________________________________________________________________________________________________\n",
            "block7a_se_expand (Conv2D)      (None, 1, 1, 1152)   56448       block7a_se_reduce[0][0]          \n",
            "__________________________________________________________________________________________________\n",
            "block7a_se_excite (Multiply)    (None, None, None, 1 0           block7a_activation[0][0]         \n",
            "                                                                 block7a_se_expand[0][0]          \n",
            "__________________________________________________________________________________________________\n",
            "block7a_project_conv (Conv2D)   (None, None, None, 3 368640      block7a_se_excite[0][0]          \n",
            "__________________________________________________________________________________________________\n",
            "block7a_project_bn (BatchNormal (None, None, None, 3 1280        block7a_project_conv[0][0]       \n",
            "__________________________________________________________________________________________________\n",
            "top_conv (Conv2D)               (None, None, None, 1 409600      block7a_project_bn[0][0]         \n",
            "__________________________________________________________________________________________________\n",
            "top_bn (BatchNormalization)     (None, None, None, 1 5120        top_conv[0][0]                   \n",
            "__________________________________________________________________________________________________\n",
            "top_activation (Activation)     (None, None, None, 1 0           top_bn[0][0]                     \n",
            "==================================================================================================\n",
            "Total params: 4,049,571\n",
            "Trainable params: 0\n",
            "Non-trainable params: 4,049,571\n",
            "__________________________________________________________________________________________________\n"
          ],
          "name": "stdout"
        }
      ]
    },
    {
      "cell_type": "code",
      "metadata": {
        "colab": {
          "base_uri": "https://localhost:8080/"
        },
        "id": "bXvL0WhqPZEC",
        "outputId": "47393e3d-ade1-425e-e1e4-25486a4d0c0c"
      },
      "source": [
        "# How about a summary of our whole model?\n",
        "model_0.summary()"
      ],
      "execution_count": 14,
      "outputs": [
        {
          "output_type": "stream",
          "text": [
            "Model: \"model\"\n",
            "_________________________________________________________________\n",
            "Layer (type)                 Output Shape              Param #   \n",
            "=================================================================\n",
            "input_layer (InputLayer)     [(None, 224, 224, 3)]     0         \n",
            "_________________________________________________________________\n",
            "efficientnetb0 (Functional)  (None, None, None, 1280)  4049571   \n",
            "_________________________________________________________________\n",
            "global_average_pooling_layer (None, 1280)              0         \n",
            "_________________________________________________________________\n",
            "output_layer (Dense)         (None, 10)                12810     \n",
            "=================================================================\n",
            "Total params: 4,062,381\n",
            "Trainable params: 12,810\n",
            "Non-trainable params: 4,049,571\n",
            "_________________________________________________________________\n"
          ],
          "name": "stdout"
        }
      ]
    },
    {
      "cell_type": "code",
      "metadata": {
        "colab": {
          "base_uri": "https://localhost:8080/",
          "height": 573
        },
        "id": "9yrJFe_7Pg3w",
        "outputId": "587a3481-863a-4900-bbdd-e12691183f0a"
      },
      "source": [
        "# Check out our model's training curves\n",
        "plot_loss_curves(history_0)"
      ],
      "execution_count": 15,
      "outputs": [
        {
          "output_type": "display_data",
          "data": {
            "image/png": "[encoded data removed]",
            "text/plain": [
              "<Figure size 432x288 with 1 Axes>"
            ]
          },
          "metadata": {
            "tags": [],
            "needs_background": "light"
          }
        },
        {
          "output_type": "display_data",
          "data": {
            "image/png": "[encoded data removed]",
            "text/plain": [
              "<Figure size 432x288 with 1 Axes>"
            ]
          },
          "metadata": {
            "tags": [],
            "needs_background": "light"
          }
        }
      ]
    },
    {
      "cell_type": "markdown",
      "metadata": {
        "id": "LVbBZnJ1QSt0"
      },
      "source": [
        "## Getting a feature vector from a trained model\n",
        "\n",
        "Let's demonstrate the Global Average Pooling 2D layer...\n",
        "\n",
        "We have a tensor after our model goes through `base_model` of shape (None, 7, 7, 1280).\n",
        "\n",
        "But then when it passes through `GlobalAveragePooling2D`, it turns into (None, 1280).\n",
        "\n",
        "Let's use a similar shaped tensor of (1, 4, 4, 3) and then pass it to GlobalAveragePooling2D.\n",
        "\n",
        "**Conversion from 4D tensor to 2D tensor.**"
      ]
    },
    {
      "cell_type": "code",
      "metadata": {
        "colab": {
          "base_uri": "https://localhost:8080/"
        },
        "id": "GcDiqNpTRqJR",
        "outputId": "875fbf67-1cfc-4f0a-c65b-a73080bb6b1d"
      },
      "source": [
        "# Define the input shape\n",
        "input_shape = (1,4,4,3)\n",
        "\n",
        "# Create a random tensor\n",
        "tf.random.set_seed(42)\n",
        "input_tensor = tf.random.normal(shape=input_shape)\n",
        "print(f\"Random input tensor:\\n {input_tensor}\\n\")\n",
        "\n",
        "# Pass the random tensor through a GlobalAveragePooling2D layer\n",
        "global_average_pooled_tensor = tf.keras.layers.GlobalAveragePooling2D()(input_tensor)\n",
        "print(f\"2D global average pooled random tensor:\\n {global_average_pooled_tensor}\\n\")\n",
        "\n",
        "# Check the shape of the different tensors\n",
        "print(f\"Shape of input tensor: {input_tensor.shape}\")\n",
        "print(f\"Shape of Global Average Pooled 2D tensor : {global_average_pooled_tensor.shape}\" )"
      ],
      "execution_count": 16,
      "outputs": [
        {
          "output_type": "stream",
          "text": [
            "Random input tensor:\n",
            " [[[[ 0.3274685  -0.8426258   0.3194337 ]\n",
            "   [-1.4075519  -2.3880599  -1.0392479 ]\n",
            "   [-0.5573232   0.539707    1.6994323 ]\n",
            "   [ 0.28893656 -1.5066116  -0.2645474 ]]\n",
            "\n",
            "  [[-0.59722406 -1.9171132  -0.62044144]\n",
            "   [ 0.8504023  -0.40604794 -3.0258412 ]\n",
            "   [ 0.9058464   0.29855987 -0.22561555]\n",
            "   [-0.7616443  -1.8917141  -0.93847126]]\n",
            "\n",
            "  [[ 0.77852213 -0.47338897  0.97772694]\n",
            "   [ 0.24694404  0.20573747 -0.5256233 ]\n",
            "   [ 0.32410017  0.02545409 -0.10638497]\n",
            "   [-0.6369475   1.1603122   0.2507359 ]]\n",
            "\n",
            "  [[-0.41728503  0.4012578  -1.4145443 ]\n",
            "   [-0.5931857  -1.6617213   0.33567193]\n",
            "   [ 0.10815629  0.23479682 -0.56668764]\n",
            "   [-0.35819843  0.88698614  0.52744764]]]]\n",
            "\n",
            "2D global average pooled random tensor:\n",
            " [[-0.09368646 -0.45840448 -0.2885598 ]]\n",
            "\n",
            "Shape of input tensor: (1, 4, 4, 3)\n",
            "Shape of Global Average Pooled 2D tensor : (1, 3)\n"
          ],
          "name": "stdout"
        }
      ]
    },
    {
      "cell_type": "code",
      "metadata": {
        "colab": {
          "base_uri": "https://localhost:8080/"
        },
        "id": "Lz8CCKaISbaL",
        "outputId": "a66a0a4e-6f46-4ca6-e77a-59788dda1ccf"
      },
      "source": [
        "# Let's replicate the Global Average Pooled 2D layer\n",
        "tf.reduce_mean(input_tensor, axis=[1,2])"
      ],
      "execution_count": 17,
      "outputs": [
        {
          "output_type": "execute_result",
          "data": {
            "text/plain": [
              "<tf.Tensor: shape=(1, 3), dtype=float32, numpy=array([[-0.09368646, -0.45840448, -0.2885598 ]], dtype=float32)>"
            ]
          },
          "metadata": {
            "tags": []
          },
          "execution_count": 17
        }
      ]
    },
    {
      "cell_type": "markdown",
      "metadata": {
        "id": "eGQFnLygTd6y"
      },
      "source": [
        "**Practise:** Try to do the same with the above two cells but this time use `GlobalMaxPool2D`...and see what happens.\n",
        "\n",
        "**Note:** One of the reasons feature extraction transfer learning is named how it is because what often happens is pretrained model outputs a feature vector (a long tensor of numbers which represents the learned representation of the model on a particular sample, in our case, this is the output of the tf.keras.layers.GlobalAveragePooling2D() layer) which can then used to extract patterns out of for our own specific problem."
      ]
    },
    {
      "cell_type": "code",
      "metadata": {
        "colab": {
          "base_uri": "https://localhost:8080/"
        },
        "id": "Saop5sxQVvS2",
        "outputId": "c491eb26-7cf4-4f3b-9308-caa74989f095"
      },
      "source": [
        "global_max_pooled_tensor = tf.keras.layers.GlobalMaxPool2D()(input_tensor)\n",
        "print(f\" Global Max Pooled 2D tensor:\\n {global_max_pooled_tensor}\")\n"
      ],
      "execution_count": 18,
      "outputs": [
        {
          "output_type": "stream",
          "text": [
            " Global Max Pooled 2D tensor:\n",
            " [[0.9058464 1.1603122 1.6994323]]\n"
          ],
          "name": "stdout"
        }
      ]
    },
    {
      "cell_type": "code",
      "metadata": {
        "id": "lGUJHHBgaZvl"
      },
      "source": [
        ""
      ],
      "execution_count": null,
      "outputs": []
    },
    {
      "cell_type": "markdown",
      "metadata": {
        "id": "HG1AvbV0WIKW"
      },
      "source": [
        "## Running a series of transfer learning experiments\n",
        "\n",
        "We've seen the incredible results transfer learning can get with only 10% of the training data, but how does it go with 1% of the training data...\n",
        "How about we set up a bunch of experiments to find out:\n",
        "0. `model_0`: use feature extraction transfer learning with 10% of the training data with no data augmentation (baseline_model)✔\n",
        "1. `model_1`: use feature extraction transfer learning with 1% of the training data with data augmentation\n",
        "2. `model_2`: use feature extraction transfer learning with 10% of the training data with data augmentation\n",
        "3. `model_3`: use fine tuning transfer learning on 10% of the training data with data augmentation\n",
        "4. `model_4`: use fine tuning transfer learning on 100% of the training data with data augmentation\n",
        "\n",
        "**Note:** Throughout all experiments the same test dataset will be used to evaluate our model... this ensures consistency accross evaluation metrics.\n"
      ]
    },
    {
      "cell_type": "markdown",
      "metadata": {
        "id": "uYfsTN3ufUNS"
      },
      "source": [
        "### Getting and preprocessing data for model_1"
      ]
    },
    {
      "cell_type": "code",
      "metadata": {
        "colab": {
          "base_uri": "https://localhost:8080/"
        },
        "id": "_UoSECtPcJw-",
        "outputId": "3703d5f3-f1de-4d38-af30-8f2d22a15512"
      },
      "source": [
        "# Download and unzip data\n",
        "!wget https://storage.googleapis.com/ztm_tf_course/food_vision/10_food_classes_1_percent.zip\n",
        "\n",
        "unzip_data(\"10_food_classes_1_percent.zip\")"
      ],
      "execution_count": 19,
      "outputs": [
        {
          "output_type": "stream",
          "text": [
            "--2021-07-28 14:22:10--  https://storage.googleapis.com/ztm_tf_course/food_vision/10_food_classes_1_percent.zip\n",
            "Resolving storage.googleapis.com (storage.googleapis.com)... 173.194.197.128, 173.194.198.128, 64.233.191.128, ...\n",
            "Connecting to storage.googleapis.com (storage.googleapis.com)|173.194.197.128|:443... connected.\n",
            "HTTP request sent, awaiting response... 200 OK\n",
            "Length: 133612354 (127M) [application/zip]\n",
            "Saving to: ‘10_food_classes_1_percent.zip’\n",
            "\n",
            "10_food_classes_1_p 100%[===================>] 127.42M   219MB/s    in 0.6s    \n",
            "\n",
            "2021-07-28 14:22:10 (219 MB/s) - ‘10_food_classes_1_percent.zip’ saved [133612354/133612354]\n",
            "\n"
          ],
          "name": "stdout"
        }
      ]
    },
    {
      "cell_type": "code",
      "metadata": {
        "colab": {
          "base_uri": "https://localhost:8080/"
        },
        "id": "Gau_QuKXdM5U",
        "outputId": "af83ca96-d099-431a-ea12-373a8b6f7648"
      },
      "source": [
        "# How many images are we working with?\n",
        "walk_through_dir(\"10_food_classes_1_percent\")"
      ],
      "execution_count": 20,
      "outputs": [
        {
          "output_type": "stream",
          "text": [
            "There are 2 directories and 0 images in '10_food_classes_1_percent'.\n",
            "There are 10 directories and 0 images in '10_food_classes_1_percent/test'.\n",
            "There are 0 directories and 250 images in '10_food_classes_1_percent/test/steak'.\n",
            "There are 0 directories and 250 images in '10_food_classes_1_percent/test/sushi'.\n",
            "There are 0 directories and 250 images in '10_food_classes_1_percent/test/fried_rice'.\n",
            "There are 0 directories and 250 images in '10_food_classes_1_percent/test/chicken_curry'.\n",
            "There are 0 directories and 250 images in '10_food_classes_1_percent/test/ice_cream'.\n",
            "There are 0 directories and 250 images in '10_food_classes_1_percent/test/pizza'.\n",
            "There are 0 directories and 250 images in '10_food_classes_1_percent/test/chicken_wings'.\n",
            "There are 0 directories and 250 images in '10_food_classes_1_percent/test/grilled_salmon'.\n",
            "There are 0 directories and 250 images in '10_food_classes_1_percent/test/hamburger'.\n",
            "There are 0 directories and 250 images in '10_food_classes_1_percent/test/ramen'.\n",
            "There are 10 directories and 0 images in '10_food_classes_1_percent/train'.\n",
            "There are 0 directories and 7 images in '10_food_classes_1_percent/train/steak'.\n",
            "There are 0 directories and 7 images in '10_food_classes_1_percent/train/sushi'.\n",
            "There are 0 directories and 7 images in '10_food_classes_1_percent/train/fried_rice'.\n",
            "There are 0 directories and 7 images in '10_food_classes_1_percent/train/chicken_curry'.\n",
            "There are 0 directories and 7 images in '10_food_classes_1_percent/train/ice_cream'.\n",
            "There are 0 directories and 7 images in '10_food_classes_1_percent/train/pizza'.\n",
            "There are 0 directories and 7 images in '10_food_classes_1_percent/train/chicken_wings'.\n",
            "There are 0 directories and 7 images in '10_food_classes_1_percent/train/grilled_salmon'.\n",
            "There are 0 directories and 7 images in '10_food_classes_1_percent/train/hamburger'.\n",
            "There are 0 directories and 7 images in '10_food_classes_1_percent/train/ramen'.\n"
          ],
          "name": "stdout"
        }
      ]
    },
    {
      "cell_type": "code",
      "metadata": {
        "id": "AvHVgc0pd-pE"
      },
      "source": [
        "# Create training and test dirs\n",
        "train_dir_1_percent = \"10_food_classes_1_percent/train\"\n",
        "test_dir = \"10_food_classes_1_percent/test\""
      ],
      "execution_count": 21,
      "outputs": []
    },
    {
      "cell_type": "code",
      "metadata": {
        "colab": {
          "base_uri": "https://localhost:8080/"
        },
        "id": "cvddntMWe8an",
        "outputId": "fe9add20-1b04-4139-d05a-b6c536261e2a"
      },
      "source": [
        "# Setup data loaders\n",
        "IMG_SIZE = (224,224)\n",
        "BATCH_SIZE = 32\n",
        "\n",
        "print(\"Training data\")\n",
        "train_data_1_percent = tf.keras.preprocessing.image_dataset_from_directory(directory=train_dir_1_percent,\n",
        "                                                                           image_size=IMG_SIZE,\n",
        "                                                                           batch_size=BATCH_SIZE,\n",
        "                                                                           label_mode=\"categorical\")\n",
        "print(\"Testing data\")\n",
        "test_data = tf.keras.preprocessing.image_dataset_from_directory(directory=test_dir,\n",
        "                                                                image_size=IMG_SIZE,\n",
        "                                                                batch_size=BATCH_SIZE,\n",
        "                                                                label_mode='categorical')"
      ],
      "execution_count": 22,
      "outputs": [
        {
          "output_type": "stream",
          "text": [
            "Training data\n",
            "Found 70 files belonging to 10 classes.\n",
            "Testing data\n",
            "Found 2500 files belonging to 10 classes.\n"
          ],
          "name": "stdout"
        }
      ]
    },
    {
      "cell_type": "markdown",
      "metadata": {
        "id": "7ZAyEuMFhEtE"
      },
      "source": [
        "## Adding data augmentation right into the model\n",
        "\n",
        "To add data augmentation right into our models, we can use the layers inside:\n",
        "\n",
        "* `tf.keras.layers.experimental.preprocessing()`\n",
        "\n",
        "We can see the benefits of doing this within the TensorFlow Data Augmentation documentation: https://www.tensorflow.org/tutorials/images/data_augmentation#use_keras_preprocessing_layers\n",
        "\n",
        "Off the top our of heads, after reading the docs, the benefits of using data augmentation inside the model are:\n",
        "\n",
        "* Preprocessing of images (augmenting them) happens on the GPU (much faster) rather than the CPU.\n",
        "* Image data augmentation only happens during training, so we can still export our whole model and use it elsewhere."
      ]
    },
    {
      "cell_type": "code",
      "metadata": {
        "id": "isLYng-alK2R"
      },
      "source": [
        "import tensorflow as tf\n",
        "from tensorflow import keras\n",
        "from tensorflow.keras import layers\n",
        "from tensorflow.keras.layers.experimental import preprocessing\n",
        "\n",
        "# Create data augmentation stage with horizontal flipping, rotations, zooms etc\n",
        "data_augmentation = tf.keras.Sequential([\n",
        "  tf.keras.layers.experimental.preprocessing.RandomFlip(\"horizontal\"),\n",
        "  tf.keras.layers.experimental.preprocessing.RandomZoom(0.2),\n",
        "  tf.keras.layers.experimental.preprocessing.RandomRotation(0.2),\n",
        "  tf.keras.layers.experimental.preprocessing.RandomHeight(0.2),\n",
        "  tf.keras.layers.experimental.preprocessing.RandomWidth(0.2)\n",
        "  # tf.keras.layers.experimental.preprocessing.Rescaling(1./255) # Keep for models like ResNet50V2 byt EfficientNet(s) have built-in rescale\n",
        "],name=\"data_augmentation_layer\")"
      ],
      "execution_count": 23,
      "outputs": []
    },
    {
      "cell_type": "markdown",
      "metadata": {
        "id": "Y6CtZOqclvre"
      },
      "source": [
        "### Visualizing our data augmentation layer (and see what happens to our data)"
      ]
    },
    {
      "cell_type": "code",
      "metadata": {
        "colab": {
          "base_uri": "https://localhost:8080/",
          "height": 511
        },
        "id": "Lay4BYSNqeqw",
        "outputId": "42b8497f-c86f-4ea0-aa41-36e45674d967"
      },
      "source": [
        "# View a random image and compare it to its augmented version\n",
        "import matplotlib.pyplot as plt\n",
        "import matplotlib.image as mpimg\n",
        "import os\n",
        "import random\n",
        "target_class = random.choice(os.listdir(train_dir_1_percent))\n",
        "target_dir = train_dir_1_percent + \"/\" + target_class\n",
        "random_img = random.choice(os.listdir(target_dir))\n",
        "img_path = target_dir + \"/\" + random_img\n",
        "\n",
        "# Read and plot in the random image\n",
        "img = mpimg.imread(img_path)\n",
        "plt.imshow(img)\n",
        "plt.axis(False)\n",
        "plt.title(f\"Original Image from {target_class}\");\n",
        "\n",
        "# Now plot our augmented image\n",
        "aug_img = data_augmentation(tf.expand_dims(img,axis=0))\n",
        "plt.figure()\n",
        "plt.imshow(tf.squeeze(aug_img)/255.)\n",
        "plt.title(f\"Augmented Image from {target_class}\")\n",
        "plt.axis(False);"
      ],
      "execution_count": 28,
      "outputs": [
        {
          "output_type": "display_data",
          "data": {
            "image/png": "[encoded data removed]",
            "text/plain": [
              "<Figure size 432x288 with 1 Axes>"
            ]
          },
          "metadata": {
            "tags": [],
            "needs_background": "light"
          }
        },
        {
          "output_type": "display_data",
          "data": {
            "image/png": "[encoded data removed]",
            "text/plain": [
              "<Figure size 432x288 with 1 Axes>"
            ]
          },
          "metadata": {
            "tags": [],
            "needs_background": "light"
          }
        }
      ]
    },
    {
      "cell_type": "markdown",
      "metadata": {
        "id": "YHfplrS2rZHG"
      },
      "source": [
        "## Model 1: Feature Extraction transfer learning on 1% of the data with data augmentation"
      ]
    },
    {
      "cell_type": "code",
      "metadata": {
        "colab": {
          "base_uri": "https://localhost:8080/"
        },
        "id": "c1mjz7Njh6Hz",
        "outputId": "4e008403-8791-4693-ec11-68c2489b5d2f"
      },
      "source": [
        "# Setup input shape and base model, freezing the base model layers\n",
        "input_shape = (224,224,3)\n",
        "base_model = tf.keras.applications.EfficientNetB0(include_top = False)\n",
        "base_model.trainable = False\n",
        "\n",
        "# Create the input layer\n",
        "inputs = tf.keras.layers.Input(shape = input_shape, name='input_layer')\n",
        "\n",
        "# Add in data augmentation Sequential model as a layer\n",
        "x = data_augmentation(inputs)\n",
        "\n",
        "# Give base_model the inputs (after augmentation) and don't train it\n",
        "x = base_model(x, training=False)\n",
        "\n",
        "# Pool the output features of the base model\n",
        "x = tf.keras.layers.GlobalAveragePooling2D(name='global_average_pooling_layer')(x)\n",
        "\n",
        "# Put a dense layer on as the output\n",
        "outputs = tf.keras.layers.Dense(10, activation='softmax', name='output_layer')(x)\n",
        "\n",
        "# Combine the model\n",
        "model_1 = tf.keras.Model(inputs,outputs)\n",
        "\n",
        "# Compile the model\n",
        "model_1.compile(\n",
        "    loss = \"categorical_crossentropy\",\n",
        "    optimizer = tf.keras.optimizers.Adam(),\n",
        "    metrics=['accuracy']\n",
        ")\n",
        "\n",
        "# Fit the model\n",
        "history_1_percent = model_1.fit(train_data_1_percent,\n",
        "                                epochs=5,\n",
        "                                steps_per_epoch=len(train_data_1_percent),\n",
        "                                validation_data=test_data,\n",
        "                                validation_steps=int(0.25* len(test_data)),\n",
        "                                callbacks = create_tensorboard_callback(dir_name=\"TensorBoard\",\n",
        "                                                                        experiment_name=\"Model_1\"))"
      ],
      "execution_count": 31,
      "outputs": [
        {
          "output_type": "stream",
          "text": [
            "Saving TensorBoard log files to: TensorBoard/Model_1/20210728-145359\n",
            "Epoch 1/5\n"
          ],
          "name": "stdout"
        },
        {
          "output_type": "stream",
          "text": [
            "/usr/local/lib/python3.7/dist-packages/tensorflow/python/keras/utils/generic_utils.py:497: CustomMaskWarning: Custom mask layers require a config and must override get_config. When loading, the custom mask layer must be passed to the custom_objects argument.\n",
            "  category=CustomMaskWarning)\n"
          ],
          "name": "stderr"
        },
        {
          "output_type": "stream",
          "text": [
            "3/3 [==============================] - 18s 5s/step - loss: 2.4532 - accuracy: 0.0286 - val_loss: 2.2772 - val_accuracy: 0.1332\n",
            "Epoch 2/5\n",
            "3/3 [==============================] - 6s 3s/step - loss: 2.2168 - accuracy: 0.1571 - val_loss: 2.1523 - val_accuracy: 0.2089\n",
            "Epoch 3/5\n",
            "3/3 [==============================] - 6s 3s/step - loss: 1.9797 - accuracy: 0.3857 - val_loss: 2.0596 - val_accuracy: 0.2730\n",
            "Epoch 4/5\n",
            "3/3 [==============================] - 5s 2s/step - loss: 1.8531 - accuracy: 0.4714 - val_loss: 1.9599 - val_accuracy: 0.3684\n",
            "Epoch 5/5\n",
            "3/3 [==============================] - 5s 2s/step - loss: 1.6480 - accuracy: 0.6714 - val_loss: 1.8776 - val_accuracy: 0.4326\n"
          ],
          "name": "stdout"
        }
      ]
    },
    {
      "cell_type": "code",
      "metadata": {
        "colab": {
          "base_uri": "https://localhost:8080/"
        },
        "id": "L-tsWqB5mPJ9",
        "outputId": "dbaa5401-d71c-4071-905a-2a3798a0ebab"
      },
      "source": [
        "# Check out model summary\n",
        "base_model.summary()"
      ],
      "execution_count": 32,
      "outputs": [
        {
          "output_type": "stream",
          "text": [
            "Model: \"efficientnetb0\"\n",
            "__________________________________________________________________________________________________\n",
            "Layer (type)                    Output Shape         Param #     Connected to                     \n",
            "==================================================================================================\n",
            "input_4 (InputLayer)            [(None, None, None,  0                                            \n",
            "__________________________________________________________________________________________________\n",
            "rescaling_3 (Rescaling)         (None, None, None, 3 0           input_4[0][0]                    \n",
            "__________________________________________________________________________________________________\n",
            "normalization_3 (Normalization) (None, None, None, 3 7           rescaling_3[0][0]                \n",
            "__________________________________________________________________________________________________\n",
            "stem_conv_pad (ZeroPadding2D)   (None, None, None, 3 0           normalization_3[0][0]            \n",
            "__________________________________________________________________________________________________\n",
            "stem_conv (Conv2D)              (None, None, None, 3 864         stem_conv_pad[0][0]              \n",
            "__________________________________________________________________________________________________\n",
            "stem_bn (BatchNormalization)    (None, None, None, 3 128         stem_conv[0][0]                  \n",
            "__________________________________________________________________________________________________\n",
            "stem_activation (Activation)    (None, None, None, 3 0           stem_bn[0][0]                    \n",
            "__________________________________________________________________________________________________\n",
            "block1a_dwconv (DepthwiseConv2D (None, None, None, 3 288         stem_activation[0][0]            \n",
            "__________________________________________________________________________________________________\n",
            "block1a_bn (BatchNormalization) (None, None, None, 3 128         block1a_dwconv[0][0]             \n",
            "__________________________________________________________________________________________________\n",
            "block1a_activation (Activation) (None, None, None, 3 0           block1a_bn[0][0]                 \n",
            "__________________________________________________________________________________________________\n",
            "block1a_se_squeeze (GlobalAvera (None, 32)           0           block1a_activation[0][0]         \n",
            "__________________________________________________________________________________________________\n",
            "block1a_se_reshape (Reshape)    (None, 1, 1, 32)     0           block1a_se_squeeze[0][0]         \n",
            "__________________________________________________________________________________________________\n",
            "block1a_se_reduce (Conv2D)      (None, 1, 1, 8)      264         block1a_se_reshape[0][0]         \n",
            "__________________________________________________________________________________________________\n",
            "block1a_se_expand (Conv2D)      (None, 1, 1, 32)     288         block1a_se_reduce[0][0]          \n",
            "__________________________________________________________________________________________________\n",
            "block1a_se_excite (Multiply)    (None, None, None, 3 0           block1a_activation[0][0]         \n",
            "                                                                 block1a_se_expand[0][0]          \n",
            "__________________________________________________________________________________________________\n",
            "block1a_project_conv (Conv2D)   (None, None, None, 1 512         block1a_se_excite[0][0]          \n",
            "__________________________________________________________________________________________________\n",
            "block1a_project_bn (BatchNormal (None, None, None, 1 64          block1a_project_conv[0][0]       \n",
            "__________________________________________________________________________________________________\n",
            "block2a_expand_conv (Conv2D)    (None, None, None, 9 1536        block1a_project_bn[0][0]         \n",
            "__________________________________________________________________________________________________\n",
            "block2a_expand_bn (BatchNormali (None, None, None, 9 384         block2a_expand_conv[0][0]        \n",
            "__________________________________________________________________________________________________\n",
            "block2a_expand_activation (Acti (None, None, None, 9 0           block2a_expand_bn[0][0]          \n",
            "__________________________________________________________________________________________________\n",
            "block2a_dwconv_pad (ZeroPadding (None, None, None, 9 0           block2a_expand_activation[0][0]  \n",
            "__________________________________________________________________________________________________\n",
            "block2a_dwconv (DepthwiseConv2D (None, None, None, 9 864         block2a_dwconv_pad[0][0]         \n",
            "__________________________________________________________________________________________________\n",
            "block2a_bn (BatchNormalization) (None, None, None, 9 384         block2a_dwconv[0][0]             \n",
            "__________________________________________________________________________________________________\n",
            "block2a_activation (Activation) (None, None, None, 9 0           block2a_bn[0][0]                 \n",
            "__________________________________________________________________________________________________\n",
            "block2a_se_squeeze (GlobalAvera (None, 96)           0           block2a_activation[0][0]         \n",
            "__________________________________________________________________________________________________\n",
            "block2a_se_reshape (Reshape)    (None, 1, 1, 96)     0           block2a_se_squeeze[0][0]         \n",
            "__________________________________________________________________________________________________\n",
            "block2a_se_reduce (Conv2D)      (None, 1, 1, 4)      388         block2a_se_reshape[0][0]         \n",
            "__________________________________________________________________________________________________\n",
            "block2a_se_expand (Conv2D)      (None, 1, 1, 96)     480         block2a_se_reduce[0][0]          \n",
            "__________________________________________________________________________________________________\n",
            "block2a_se_excite (Multiply)    (None, None, None, 9 0           block2a_activation[0][0]         \n",
            "                                                                 block2a_se_expand[0][0]          \n",
            "__________________________________________________________________________________________________\n",
            "block2a_project_conv (Conv2D)   (None, None, None, 2 2304        block2a_se_excite[0][0]          \n",
            "__________________________________________________________________________________________________\n",
            "block2a_project_bn (BatchNormal (None, None, None, 2 96          block2a_project_conv[0][0]       \n",
            "__________________________________________________________________________________________________\n",
            "block2b_expand_conv (Conv2D)    (None, None, None, 1 3456        block2a_project_bn[0][0]         \n",
            "__________________________________________________________________________________________________\n",
            "block2b_expand_bn (BatchNormali (None, None, None, 1 576         block2b_expand_conv[0][0]        \n",
            "__________________________________________________________________________________________________\n",
            "block2b_expand_activation (Acti (None, None, None, 1 0           block2b_expand_bn[0][0]          \n",
            "__________________________________________________________________________________________________\n",
            "block2b_dwconv (DepthwiseConv2D (None, None, None, 1 1296        block2b_expand_activation[0][0]  \n",
            "__________________________________________________________________________________________________\n",
            "block2b_bn (BatchNormalization) (None, None, None, 1 576         block2b_dwconv[0][0]             \n",
            "__________________________________________________________________________________________________\n",
            "block2b_activation (Activation) (None, None, None, 1 0           block2b_bn[0][0]                 \n",
            "__________________________________________________________________________________________________\n",
            "block2b_se_squeeze (GlobalAvera (None, 144)          0           block2b_activation[0][0]         \n",
            "__________________________________________________________________________________________________\n",
            "block2b_se_reshape (Reshape)    (None, 1, 1, 144)    0           block2b_se_squeeze[0][0]         \n",
            "__________________________________________________________________________________________________\n",
            "block2b_se_reduce (Conv2D)      (None, 1, 1, 6)      870         block2b_se_reshape[0][0]         \n",
            "__________________________________________________________________________________________________\n",
            "block2b_se_expand (Conv2D)      (None, 1, 1, 144)    1008        block2b_se_reduce[0][0]          \n",
            "__________________________________________________________________________________________________\n",
            "block2b_se_excite (Multiply)    (None, None, None, 1 0           block2b_activation[0][0]         \n",
            "                                                                 block2b_se_expand[0][0]          \n",
            "__________________________________________________________________________________________________\n",
            "block2b_project_conv (Conv2D)   (None, None, None, 2 3456        block2b_se_excite[0][0]          \n",
            "__________________________________________________________________________________________________\n",
            "block2b_project_bn (BatchNormal (None, None, None, 2 96          block2b_project_conv[0][0]       \n",
            "__________________________________________________________________________________________________\n",
            "block2b_drop (Dropout)          (None, None, None, 2 0           block2b_project_bn[0][0]         \n",
            "__________________________________________________________________________________________________\n",
            "block2b_add (Add)               (None, None, None, 2 0           block2b_drop[0][0]               \n",
            "                                                                 block2a_project_bn[0][0]         \n",
            "__________________________________________________________________________________________________\n",
            "block3a_expand_conv (Conv2D)    (None, None, None, 1 3456        block2b_add[0][0]                \n",
            "__________________________________________________________________________________________________\n",
            "block3a_expand_bn (BatchNormali (None, None, None, 1 576         block3a_expand_conv[0][0]        \n",
            "__________________________________________________________________________________________________\n",
            "block3a_expand_activation (Acti (None, None, None, 1 0           block3a_expand_bn[0][0]          \n",
            "__________________________________________________________________________________________________\n",
            "block3a_dwconv_pad (ZeroPadding (None, None, None, 1 0           block3a_expand_activation[0][0]  \n",
            "__________________________________________________________________________________________________\n",
            "block3a_dwconv (DepthwiseConv2D (None, None, None, 1 3600        block3a_dwconv_pad[0][0]         \n",
            "__________________________________________________________________________________________________\n",
            "block3a_bn (BatchNormalization) (None, None, None, 1 576         block3a_dwconv[0][0]             \n",
            "__________________________________________________________________________________________________\n",
            "block3a_activation (Activation) (None, None, None, 1 0           block3a_bn[0][0]                 \n",
            "__________________________________________________________________________________________________\n",
            "block3a_se_squeeze (GlobalAvera (None, 144)          0           block3a_activation[0][0]         \n",
            "__________________________________________________________________________________________________\n",
            "block3a_se_reshape (Reshape)    (None, 1, 1, 144)    0           block3a_se_squeeze[0][0]         \n",
            "__________________________________________________________________________________________________\n",
            "block3a_se_reduce (Conv2D)      (None, 1, 1, 6)      870         block3a_se_reshape[0][0]         \n",
            "__________________________________________________________________________________________________\n",
            "block3a_se_expand (Conv2D)      (None, 1, 1, 144)    1008        block3a_se_reduce[0][0]          \n",
            "__________________________________________________________________________________________________\n",
            "block3a_se_excite (Multiply)    (None, None, None, 1 0           block3a_activation[0][0]         \n",
            "                                                                 block3a_se_expand[0][0]          \n",
            "__________________________________________________________________________________________________\n",
            "block3a_project_conv (Conv2D)   (None, None, None, 4 5760        block3a_se_excite[0][0]          \n",
            "__________________________________________________________________________________________________\n",
            "block3a_project_bn (BatchNormal (None, None, None, 4 160         block3a_project_conv[0][0]       \n",
            "__________________________________________________________________________________________________\n",
            "block3b_expand_conv (Conv2D)    (None, None, None, 2 9600        block3a_project_bn[0][0]         \n",
            "__________________________________________________________________________________________________\n",
            "block3b_expand_bn (BatchNormali (None, None, None, 2 960         block3b_expand_conv[0][0]        \n",
            "__________________________________________________________________________________________________\n",
            "block3b_expand_activation (Acti (None, None, None, 2 0           block3b_expand_bn[0][0]          \n",
            "__________________________________________________________________________________________________\n",
            "block3b_dwconv (DepthwiseConv2D (None, None, None, 2 6000        block3b_expand_activation[0][0]  \n",
            "__________________________________________________________________________________________________\n",
            "block3b_bn (BatchNormalization) (None, None, None, 2 960         block3b_dwconv[0][0]             \n",
            "__________________________________________________________________________________________________\n",
            "block3b_activation (Activation) (None, None, None, 2 0           block3b_bn[0][0]                 \n",
            "__________________________________________________________________________________________________\n",
            "block3b_se_squeeze (GlobalAvera (None, 240)          0           block3b_activation[0][0]         \n",
            "__________________________________________________________________________________________________\n",
            "block3b_se_reshape (Reshape)    (None, 1, 1, 240)    0           block3b_se_squeeze[0][0]         \n",
            "__________________________________________________________________________________________________\n",
            "block3b_se_reduce (Conv2D)      (None, 1, 1, 10)     2410        block3b_se_reshape[0][0]         \n",
            "__________________________________________________________________________________________________\n",
            "block3b_se_expand (Conv2D)      (None, 1, 1, 240)    2640        block3b_se_reduce[0][0]          \n",
            "__________________________________________________________________________________________________\n",
            "block3b_se_excite (Multiply)    (None, None, None, 2 0           block3b_activation[0][0]         \n",
            "                                                                 block3b_se_expand[0][0]          \n",
            "__________________________________________________________________________________________________\n",
            "block3b_project_conv (Conv2D)   (None, None, None, 4 9600        block3b_se_excite[0][0]          \n",
            "__________________________________________________________________________________________________\n",
            "block3b_project_bn (BatchNormal (None, None, None, 4 160         block3b_project_conv[0][0]       \n",
            "__________________________________________________________________________________________________\n",
            "block3b_drop (Dropout)          (None, None, None, 4 0           block3b_project_bn[0][0]         \n",
            "__________________________________________________________________________________________________\n",
            "block3b_add (Add)               (None, None, None, 4 0           block3b_drop[0][0]               \n",
            "                                                                 block3a_project_bn[0][0]         \n",
            "__________________________________________________________________________________________________\n",
            "block4a_expand_conv (Conv2D)    (None, None, None, 2 9600        block3b_add[0][0]                \n",
            "__________________________________________________________________________________________________\n",
            "block4a_expand_bn (BatchNormali (None, None, None, 2 960         block4a_expand_conv[0][0]        \n",
            "__________________________________________________________________________________________________\n",
            "block4a_expand_activation (Acti (None, None, None, 2 0           block4a_expand_bn[0][0]          \n",
            "__________________________________________________________________________________________________\n",
            "block4a_dwconv_pad (ZeroPadding (None, None, None, 2 0           block4a_expand_activation[0][0]  \n",
            "__________________________________________________________________________________________________\n",
            "block4a_dwconv (DepthwiseConv2D (None, None, None, 2 2160        block4a_dwconv_pad[0][0]         \n",
            "__________________________________________________________________________________________________\n",
            "block4a_bn (BatchNormalization) (None, None, None, 2 960         block4a_dwconv[0][0]             \n",
            "__________________________________________________________________________________________________\n",
            "block4a_activation (Activation) (None, None, None, 2 0           block4a_bn[0][0]                 \n",
            "__________________________________________________________________________________________________\n",
            "block4a_se_squeeze (GlobalAvera (None, 240)          0           block4a_activation[0][0]         \n",
            "__________________________________________________________________________________________________\n",
            "block4a_se_reshape (Reshape)    (None, 1, 1, 240)    0           block4a_se_squeeze[0][0]         \n",
            "__________________________________________________________________________________________________\n",
            "block4a_se_reduce (Conv2D)      (None, 1, 1, 10)     2410        block4a_se_reshape[0][0]         \n",
            "__________________________________________________________________________________________________\n",
            "block4a_se_expand (Conv2D)      (None, 1, 1, 240)    2640        block4a_se_reduce[0][0]          \n",
            "__________________________________________________________________________________________________\n",
            "block4a_se_excite (Multiply)    (None, None, None, 2 0           block4a_activation[0][0]         \n",
            "                                                                 block4a_se_expand[0][0]          \n",
            "__________________________________________________________________________________________________\n",
            "block4a_project_conv (Conv2D)   (None, None, None, 8 19200       block4a_se_excite[0][0]          \n",
            "__________________________________________________________________________________________________\n",
            "block4a_project_bn (BatchNormal (None, None, None, 8 320         block4a_project_conv[0][0]       \n",
            "__________________________________________________________________________________________________\n",
            "block4b_expand_conv (Conv2D)    (None, None, None, 4 38400       block4a_project_bn[0][0]         \n",
            "__________________________________________________________________________________________________\n",
            "block4b_expand_bn (BatchNormali (None, None, None, 4 1920        block4b_expand_conv[0][0]        \n",
            "__________________________________________________________________________________________________\n",
            "block4b_expand_activation (Acti (None, None, None, 4 0           block4b_expand_bn[0][0]          \n",
            "__________________________________________________________________________________________________\n",
            "block4b_dwconv (DepthwiseConv2D (None, None, None, 4 4320        block4b_expand_activation[0][0]  \n",
            "__________________________________________________________________________________________________\n",
            "block4b_bn (BatchNormalization) (None, None, None, 4 1920        block4b_dwconv[0][0]             \n",
            "__________________________________________________________________________________________________\n",
            "block4b_activation (Activation) (None, None, None, 4 0           block4b_bn[0][0]                 \n",
            "__________________________________________________________________________________________________\n",
            "block4b_se_squeeze (GlobalAvera (None, 480)          0           block4b_activation[0][0]         \n",
            "__________________________________________________________________________________________________\n",
            "block4b_se_reshape (Reshape)    (None, 1, 1, 480)    0           block4b_se_squeeze[0][0]         \n",
            "__________________________________________________________________________________________________\n",
            "block4b_se_reduce (Conv2D)      (None, 1, 1, 20)     9620        block4b_se_reshape[0][0]         \n",
            "__________________________________________________________________________________________________\n",
            "block4b_se_expand (Conv2D)      (None, 1, 1, 480)    10080       block4b_se_reduce[0][0]          \n",
            "__________________________________________________________________________________________________\n",
            "block4b_se_excite (Multiply)    (None, None, None, 4 0           block4b_activation[0][0]         \n",
            "                                                                 block4b_se_expand[0][0]          \n",
            "__________________________________________________________________________________________________\n",
            "block4b_project_conv (Conv2D)   (None, None, None, 8 38400       block4b_se_excite[0][0]          \n",
            "__________________________________________________________________________________________________\n",
            "block4b_project_bn (BatchNormal (None, None, None, 8 320         block4b_project_conv[0][0]       \n",
            "__________________________________________________________________________________________________\n",
            "block4b_drop (Dropout)          (None, None, None, 8 0           block4b_project_bn[0][0]         \n",
            "__________________________________________________________________________________________________\n",
            "block4b_add (Add)               (None, None, None, 8 0           block4b_drop[0][0]               \n",
            "                                                                 block4a_project_bn[0][0]         \n",
            "__________________________________________________________________________________________________\n",
            "block4c_expand_conv (Conv2D)    (None, None, None, 4 38400       block4b_add[0][0]                \n",
            "__________________________________________________________________________________________________\n",
            "block4c_expand_bn (BatchNormali (None, None, None, 4 1920        block4c_expand_conv[0][0]        \n",
            "__________________________________________________________________________________________________\n",
            "block4c_expand_activation (Acti (None, None, None, 4 0           block4c_expand_bn[0][0]          \n",
            "__________________________________________________________________________________________________\n",
            "block4c_dwconv (DepthwiseConv2D (None, None, None, 4 4320        block4c_expand_activation[0][0]  \n",
            "__________________________________________________________________________________________________\n",
            "block4c_bn (BatchNormalization) (None, None, None, 4 1920        block4c_dwconv[0][0]             \n",
            "__________________________________________________________________________________________________\n",
            "block4c_activation (Activation) (None, None, None, 4 0           block4c_bn[0][0]                 \n",
            "__________________________________________________________________________________________________\n",
            "block4c_se_squeeze (GlobalAvera (None, 480)          0           block4c_activation[0][0]         \n",
            "__________________________________________________________________________________________________\n",
            "block4c_se_reshape (Reshape)    (None, 1, 1, 480)    0           block4c_se_squeeze[0][0]         \n",
            "__________________________________________________________________________________________________\n",
            "block4c_se_reduce (Conv2D)      (None, 1, 1, 20)     9620        block4c_se_reshape[0][0]         \n",
            "__________________________________________________________________________________________________\n",
            "block4c_se_expand (Conv2D)      (None, 1, 1, 480)    10080       block4c_se_reduce[0][0]          \n",
            "__________________________________________________________________________________________________\n",
            "block4c_se_excite (Multiply)    (None, None, None, 4 0           block4c_activation[0][0]         \n",
            "                                                                 block4c_se_expand[0][0]          \n",
            "__________________________________________________________________________________________________\n",
            "block4c_project_conv (Conv2D)   (None, None, None, 8 38400       block4c_se_excite[0][0]          \n",
            "__________________________________________________________________________________________________\n",
            "block4c_project_bn (BatchNormal (None, None, None, 8 320         block4c_project_conv[0][0]       \n",
            "__________________________________________________________________________________________________\n",
            "block4c_drop (Dropout)          (None, None, None, 8 0           block4c_project_bn[0][0]         \n",
            "__________________________________________________________________________________________________\n",
            "block4c_add (Add)               (None, None, None, 8 0           block4c_drop[0][0]               \n",
            "                                                                 block4b_add[0][0]                \n",
            "__________________________________________________________________________________________________\n",
            "block5a_expand_conv (Conv2D)    (None, None, None, 4 38400       block4c_add[0][0]                \n",
            "__________________________________________________________________________________________________\n",
            "block5a_expand_bn (BatchNormali (None, None, None, 4 1920        block5a_expand_conv[0][0]        \n",
            "__________________________________________________________________________________________________\n",
            "block5a_expand_activation (Acti (None, None, None, 4 0           block5a_expand_bn[0][0]          \n",
            "__________________________________________________________________________________________________\n",
            "block5a_dwconv (DepthwiseConv2D (None, None, None, 4 12000       block5a_expand_activation[0][0]  \n",
            "__________________________________________________________________________________________________\n",
            "block5a_bn (BatchNormalization) (None, None, None, 4 1920        block5a_dwconv[0][0]             \n",
            "__________________________________________________________________________________________________\n",
            "block5a_activation (Activation) (None, None, None, 4 0           block5a_bn[0][0]                 \n",
            "__________________________________________________________________________________________________\n",
            "block5a_se_squeeze (GlobalAvera (None, 480)          0           block5a_activation[0][0]         \n",
            "__________________________________________________________________________________________________\n",
            "block5a_se_reshape (Reshape)    (None, 1, 1, 480)    0           block5a_se_squeeze[0][0]         \n",
            "__________________________________________________________________________________________________\n",
            "block5a_se_reduce (Conv2D)      (None, 1, 1, 20)     9620        block5a_se_reshape[0][0]         \n",
            "__________________________________________________________________________________________________\n",
            "block5a_se_expand (Conv2D)      (None, 1, 1, 480)    10080       block5a_se_reduce[0][0]          \n",
            "__________________________________________________________________________________________________\n",
            "block5a_se_excite (Multiply)    (None, None, None, 4 0           block5a_activation[0][0]         \n",
            "                                                                 block5a_se_expand[0][0]          \n",
            "__________________________________________________________________________________________________\n",
            "block5a_project_conv (Conv2D)   (None, None, None, 1 53760       block5a_se_excite[0][0]          \n",
            "__________________________________________________________________________________________________\n",
            "block5a_project_bn (BatchNormal (None, None, None, 1 448         block5a_project_conv[0][0]       \n",
            "__________________________________________________________________________________________________\n",
            "block5b_expand_conv (Conv2D)    (None, None, None, 6 75264       block5a_project_bn[0][0]         \n",
            "__________________________________________________________________________________________________\n",
            "block5b_expand_bn (BatchNormali (None, None, None, 6 2688        block5b_expand_conv[0][0]        \n",
            "__________________________________________________________________________________________________\n",
            "block5b_expand_activation (Acti (None, None, None, 6 0           block5b_expand_bn[0][0]          \n",
            "__________________________________________________________________________________________________\n",
            "block5b_dwconv (DepthwiseConv2D (None, None, None, 6 16800       block5b_expand_activation[0][0]  \n",
            "__________________________________________________________________________________________________\n",
            "block5b_bn (BatchNormalization) (None, None, None, 6 2688        block5b_dwconv[0][0]             \n",
            "__________________________________________________________________________________________________\n",
            "block5b_activation (Activation) (None, None, None, 6 0           block5b_bn[0][0]                 \n",
            "__________________________________________________________________________________________________\n",
            "block5b_se_squeeze (GlobalAvera (None, 672)          0           block5b_activation[0][0]         \n",
            "__________________________________________________________________________________________________\n",
            "block5b_se_reshape (Reshape)    (None, 1, 1, 672)    0           block5b_se_squeeze[0][0]         \n",
            "__________________________________________________________________________________________________\n",
            "block5b_se_reduce (Conv2D)      (None, 1, 1, 28)     18844       block5b_se_reshape[0][0]         \n",
            "__________________________________________________________________________________________________\n",
            "block5b_se_expand (Conv2D)      (None, 1, 1, 672)    19488       block5b_se_reduce[0][0]          \n",
            "__________________________________________________________________________________________________\n",
            "block5b_se_excite (Multiply)    (None, None, None, 6 0           block5b_activation[0][0]         \n",
            "                                                                 block5b_se_expand[0][0]          \n",
            "__________________________________________________________________________________________________\n",
            "block5b_project_conv (Conv2D)   (None, None, None, 1 75264       block5b_se_excite[0][0]          \n",
            "__________________________________________________________________________________________________\n",
            "block5b_project_bn (BatchNormal (None, None, None, 1 448         block5b_project_conv[0][0]       \n",
            "__________________________________________________________________________________________________\n",
            "block5b_drop (Dropout)          (None, None, None, 1 0           block5b_project_bn[0][0]         \n",
            "__________________________________________________________________________________________________\n",
            "block5b_add (Add)               (None, None, None, 1 0           block5b_drop[0][0]               \n",
            "                                                                 block5a_project_bn[0][0]         \n",
            "__________________________________________________________________________________________________\n",
            "block5c_expand_conv (Conv2D)    (None, None, None, 6 75264       block5b_add[0][0]                \n",
            "__________________________________________________________________________________________________\n",
            "block5c_expand_bn (BatchNormali (None, None, None, 6 2688        block5c_expand_conv[0][0]        \n",
            "__________________________________________________________________________________________________\n",
            "block5c_expand_activation (Acti (None, None, None, 6 0           block5c_expand_bn[0][0]          \n",
            "__________________________________________________________________________________________________\n",
            "block5c_dwconv (DepthwiseConv2D (None, None, None, 6 16800       block5c_expand_activation[0][0]  \n",
            "__________________________________________________________________________________________________\n",
            "block5c_bn (BatchNormalization) (None, None, None, 6 2688        block5c_dwconv[0][0]             \n",
            "__________________________________________________________________________________________________\n",
            "block5c_activation (Activation) (None, None, None, 6 0           block5c_bn[0][0]                 \n",
            "__________________________________________________________________________________________________\n",
            "block5c_se_squeeze (GlobalAvera (None, 672)          0           block5c_activation[0][0]         \n",
            "__________________________________________________________________________________________________\n",
            "block5c_se_reshape (Reshape)    (None, 1, 1, 672)    0           block5c_se_squeeze[0][0]         \n",
            "__________________________________________________________________________________________________\n",
            "block5c_se_reduce (Conv2D)      (None, 1, 1, 28)     18844       block5c_se_reshape[0][0]         \n",
            "__________________________________________________________________________________________________\n",
            "block5c_se_expand (Conv2D)      (None, 1, 1, 672)    19488       block5c_se_reduce[0][0]          \n",
            "__________________________________________________________________________________________________\n",
            "block5c_se_excite (Multiply)    (None, None, None, 6 0           block5c_activation[0][0]         \n",
            "                                                                 block5c_se_expand[0][0]          \n",
            "__________________________________________________________________________________________________\n",
            "block5c_project_conv (Conv2D)   (None, None, None, 1 75264       block5c_se_excite[0][0]          \n",
            "__________________________________________________________________________________________________\n",
            "block5c_project_bn (BatchNormal (None, None, None, 1 448         block5c_project_conv[0][0]       \n",
            "__________________________________________________________________________________________________\n",
            "block5c_drop (Dropout)          (None, None, None, 1 0           block5c_project_bn[0][0]         \n",
            "__________________________________________________________________________________________________\n",
            "block5c_add (Add)               (None, None, None, 1 0           block5c_drop[0][0]               \n",
            "                                                                 block5b_add[0][0]                \n",
            "__________________________________________________________________________________________________\n",
            "block6a_expand_conv (Conv2D)    (None, None, None, 6 75264       block5c_add[0][0]                \n",
            "__________________________________________________________________________________________________\n",
            "block6a_expand_bn (BatchNormali (None, None, None, 6 2688        block6a_expand_conv[0][0]        \n",
            "__________________________________________________________________________________________________\n",
            "block6a_expand_activation (Acti (None, None, None, 6 0           block6a_expand_bn[0][0]          \n",
            "__________________________________________________________________________________________________\n",
            "block6a_dwconv_pad (ZeroPadding (None, None, None, 6 0           block6a_expand_activation[0][0]  \n",
            "__________________________________________________________________________________________________\n",
            "block6a_dwconv (DepthwiseConv2D (None, None, None, 6 16800       block6a_dwconv_pad[0][0]         \n",
            "__________________________________________________________________________________________________\n",
            "block6a_bn (BatchNormalization) (None, None, None, 6 2688        block6a_dwconv[0][0]             \n",
            "__________________________________________________________________________________________________\n",
            "block6a_activation (Activation) (None, None, None, 6 0           block6a_bn[0][0]                 \n",
            "__________________________________________________________________________________________________\n",
            "block6a_se_squeeze (GlobalAvera (None, 672)          0           block6a_activation[0][0]         \n",
            "__________________________________________________________________________________________________\n",
            "block6a_se_reshape (Reshape)    (None, 1, 1, 672)    0           block6a_se_squeeze[0][0]         \n",
            "__________________________________________________________________________________________________\n",
            "block6a_se_reduce (Conv2D)      (None, 1, 1, 28)     18844       block6a_se_reshape[0][0]         \n",
            "__________________________________________________________________________________________________\n",
            "block6a_se_expand (Conv2D)      (None, 1, 1, 672)    19488       block6a_se_reduce[0][0]          \n",
            "__________________________________________________________________________________________________\n",
            "block6a_se_excite (Multiply)    (None, None, None, 6 0           block6a_activation[0][0]         \n",
            "                                                                 block6a_se_expand[0][0]          \n",
            "__________________________________________________________________________________________________\n",
            "block6a_project_conv (Conv2D)   (None, None, None, 1 129024      block6a_se_excite[0][0]          \n",
            "__________________________________________________________________________________________________\n",
            "block6a_project_bn (BatchNormal (None, None, None, 1 768         block6a_project_conv[0][0]       \n",
            "__________________________________________________________________________________________________\n",
            "block6b_expand_conv (Conv2D)    (None, None, None, 1 221184      block6a_project_bn[0][0]         \n",
            "__________________________________________________________________________________________________\n",
            "block6b_expand_bn (BatchNormali (None, None, None, 1 4608        block6b_expand_conv[0][0]        \n",
            "__________________________________________________________________________________________________\n",
            "block6b_expand_activation (Acti (None, None, None, 1 0           block6b_expand_bn[0][0]          \n",
            "__________________________________________________________________________________________________\n",
            "block6b_dwconv (DepthwiseConv2D (None, None, None, 1 28800       block6b_expand_activation[0][0]  \n",
            "__________________________________________________________________________________________________\n",
            "block6b_bn (BatchNormalization) (None, None, None, 1 4608        block6b_dwconv[0][0]             \n",
            "__________________________________________________________________________________________________\n",
            "block6b_activation (Activation) (None, None, None, 1 0           block6b_bn[0][0]                 \n",
            "__________________________________________________________________________________________________\n",
            "block6b_se_squeeze (GlobalAvera (None, 1152)         0           block6b_activation[0][0]         \n",
            "__________________________________________________________________________________________________\n",
            "block6b_se_reshape (Reshape)    (None, 1, 1, 1152)   0           block6b_se_squeeze[0][0]         \n",
            "__________________________________________________________________________________________________\n",
            "block6b_se_reduce (Conv2D)      (None, 1, 1, 48)     55344       block6b_se_reshape[0][0]         \n",
            "__________________________________________________________________________________________________\n",
            "block6b_se_expand (Conv2D)      (None, 1, 1, 1152)   56448       block6b_se_reduce[0][0]          \n",
            "__________________________________________________________________________________________________\n",
            "block6b_se_excite (Multiply)    (None, None, None, 1 0           block6b_activation[0][0]         \n",
            "                                                                 block6b_se_expand[0][0]          \n",
            "__________________________________________________________________________________________________\n",
            "block6b_project_conv (Conv2D)   (None, None, None, 1 221184      block6b_se_excite[0][0]          \n",
            "__________________________________________________________________________________________________\n",
            "block6b_project_bn (BatchNormal (None, None, None, 1 768         block6b_project_conv[0][0]       \n",
            "__________________________________________________________________________________________________\n",
            "block6b_drop (Dropout)          (None, None, None, 1 0           block6b_project_bn[0][0]         \n",
            "__________________________________________________________________________________________________\n",
            "block6b_add (Add)               (None, None, None, 1 0           block6b_drop[0][0]               \n",
            "                                                                 block6a_project_bn[0][0]         \n",
            "__________________________________________________________________________________________________\n",
            "block6c_expand_conv (Conv2D)    (None, None, None, 1 221184      block6b_add[0][0]                \n",
            "__________________________________________________________________________________________________\n",
            "block6c_expand_bn (BatchNormali (None, None, None, 1 4608        block6c_expand_conv[0][0]        \n",
            "__________________________________________________________________________________________________\n",
            "block6c_expand_activation (Acti (None, None, None, 1 0           block6c_expand_bn[0][0]          \n",
            "__________________________________________________________________________________________________\n",
            "block6c_dwconv (DepthwiseConv2D (None, None, None, 1 28800       block6c_expand_activation[0][0]  \n",
            "__________________________________________________________________________________________________\n",
            "block6c_bn (BatchNormalization) (None, None, None, 1 4608        block6c_dwconv[0][0]             \n",
            "__________________________________________________________________________________________________\n",
            "block6c_activation (Activation) (None, None, None, 1 0           block6c_bn[0][0]                 \n",
            "__________________________________________________________________________________________________\n",
            "block6c_se_squeeze (GlobalAvera (None, 1152)         0           block6c_activation[0][0]         \n",
            "__________________________________________________________________________________________________\n",
            "block6c_se_reshape (Reshape)    (None, 1, 1, 1152)   0           block6c_se_squeeze[0][0]         \n",
            "__________________________________________________________________________________________________\n",
            "block6c_se_reduce (Conv2D)      (None, 1, 1, 48)     55344       block6c_se_reshape[0][0]         \n",
            "__________________________________________________________________________________________________\n",
            "block6c_se_expand (Conv2D)      (None, 1, 1, 1152)   56448       block6c_se_reduce[0][0]          \n",
            "__________________________________________________________________________________________________\n",
            "block6c_se_excite (Multiply)    (None, None, None, 1 0           block6c_activation[0][0]         \n",
            "                                                                 block6c_se_expand[0][0]          \n",
            "__________________________________________________________________________________________________\n",
            "block6c_project_conv (Conv2D)   (None, None, None, 1 221184      block6c_se_excite[0][0]          \n",
            "__________________________________________________________________________________________________\n",
            "block6c_project_bn (BatchNormal (None, None, None, 1 768         block6c_project_conv[0][0]       \n",
            "__________________________________________________________________________________________________\n",
            "block6c_drop (Dropout)          (None, None, None, 1 0           block6c_project_bn[0][0]         \n",
            "__________________________________________________________________________________________________\n",
            "block6c_add (Add)               (None, None, None, 1 0           block6c_drop[0][0]               \n",
            "                                                                 block6b_add[0][0]                \n",
            "__________________________________________________________________________________________________\n",
            "block6d_expand_conv (Conv2D)    (None, None, None, 1 221184      block6c_add[0][0]                \n",
            "__________________________________________________________________________________________________\n",
            "block6d_expand_bn (BatchNormali (None, None, None, 1 4608        block6d_expand_conv[0][0]        \n",
            "__________________________________________________________________________________________________\n",
            "block6d_expand_activation (Acti (None, None, None, 1 0           block6d_expand_bn[0][0]          \n",
            "__________________________________________________________________________________________________\n",
            "block6d_dwconv (DepthwiseConv2D (None, None, None, 1 28800       block6d_expand_activation[0][0]  \n",
            "__________________________________________________________________________________________________\n",
            "block6d_bn (BatchNormalization) (None, None, None, 1 4608        block6d_dwconv[0][0]             \n",
            "__________________________________________________________________________________________________\n",
            "block6d_activation (Activation) (None, None, None, 1 0           block6d_bn[0][0]                 \n",
            "__________________________________________________________________________________________________\n",
            "block6d_se_squeeze (GlobalAvera (None, 1152)         0           block6d_activation[0][0]         \n",
            "__________________________________________________________________________________________________\n",
            "block6d_se_reshape (Reshape)    (None, 1, 1, 1152)   0           block6d_se_squeeze[0][0]         \n",
            "__________________________________________________________________________________________________\n",
            "block6d_se_reduce (Conv2D)      (None, 1, 1, 48)     55344       block6d_se_reshape[0][0]         \n",
            "__________________________________________________________________________________________________\n",
            "block6d_se_expand (Conv2D)      (None, 1, 1, 1152)   56448       block6d_se_reduce[0][0]          \n",
            "__________________________________________________________________________________________________\n",
            "block6d_se_excite (Multiply)    (None, None, None, 1 0           block6d_activation[0][0]         \n",
            "                                                                 block6d_se_expand[0][0]          \n",
            "__________________________________________________________________________________________________\n",
            "block6d_project_conv (Conv2D)   (None, None, None, 1 221184      block6d_se_excite[0][0]          \n",
            "__________________________________________________________________________________________________\n",
            "block6d_project_bn (BatchNormal (None, None, None, 1 768         block6d_project_conv[0][0]       \n",
            "__________________________________________________________________________________________________\n",
            "block6d_drop (Dropout)          (None, None, None, 1 0           block6d_project_bn[0][0]         \n",
            "__________________________________________________________________________________________________\n",
            "block6d_add (Add)               (None, None, None, 1 0           block6d_drop[0][0]               \n",
            "                                                                 block6c_add[0][0]                \n",
            "__________________________________________________________________________________________________\n",
            "block7a_expand_conv (Conv2D)    (None, None, None, 1 221184      block6d_add[0][0]                \n",
            "__________________________________________________________________________________________________\n",
            "block7a_expand_bn (BatchNormali (None, None, None, 1 4608        block7a_expand_conv[0][0]        \n",
            "__________________________________________________________________________________________________\n",
            "block7a_expand_activation (Acti (None, None, None, 1 0           block7a_expand_bn[0][0]          \n",
            "__________________________________________________________________________________________________\n",
            "block7a_dwconv (DepthwiseConv2D (None, None, None, 1 10368       block7a_expand_activation[0][0]  \n",
            "__________________________________________________________________________________________________\n",
            "block7a_bn (BatchNormalization) (None, None, None, 1 4608        block7a_dwconv[0][0]             \n",
            "__________________________________________________________________________________________________\n",
            "block7a_activation (Activation) (None, None, None, 1 0           block7a_bn[0][0]                 \n",
            "__________________________________________________________________________________________________\n",
            "block7a_se_squeeze (GlobalAvera (None, 1152)         0           block7a_activation[0][0]         \n",
            "__________________________________________________________________________________________________\n",
            "block7a_se_reshape (Reshape)    (None, 1, 1, 1152)   0           block7a_se_squeeze[0][0]         \n",
            "__________________________________________________________________________________________________\n",
            "block7a_se_reduce (Conv2D)      (None, 1, 1, 48)     55344       block7a_se_reshape[0][0]         \n",
            "__________________________________________________________________________________________________\n",
            "block7a_se_expand (Conv2D)      (None, 1, 1, 1152)   56448       block7a_se_reduce[0][0]          \n",
            "__________________________________________________________________________________________________\n",
            "block7a_se_excite (Multiply)    (None, None, None, 1 0           block7a_activation[0][0]         \n",
            "                                                                 block7a_se_expand[0][0]          \n",
            "__________________________________________________________________________________________________\n",
            "block7a_project_conv (Conv2D)   (None, None, None, 3 368640      block7a_se_excite[0][0]          \n",
            "__________________________________________________________________________________________________\n",
            "block7a_project_bn (BatchNormal (None, None, None, 3 1280        block7a_project_conv[0][0]       \n",
            "__________________________________________________________________________________________________\n",
            "top_conv (Conv2D)               (None, None, None, 1 409600      block7a_project_bn[0][0]         \n",
            "__________________________________________________________________________________________________\n",
            "top_bn (BatchNormalization)     (None, None, None, 1 5120        top_conv[0][0]                   \n",
            "__________________________________________________________________________________________________\n",
            "top_activation (Activation)     (None, None, None, 1 0           top_bn[0][0]                     \n",
            "==================================================================================================\n",
            "Total params: 4,049,571\n",
            "Trainable params: 0\n",
            "Non-trainable params: 4,049,571\n",
            "__________________________________________________________________________________________________\n"
          ],
          "name": "stdout"
        }
      ]
    },
    {
      "cell_type": "code",
      "metadata": {
        "colab": {
          "base_uri": "https://localhost:8080/"
        },
        "id": "AqfiheHanK6i",
        "outputId": "4f6a06d4-fc9d-49d9-8dad-e0a974f7118b"
      },
      "source": [
        "for layer_number,layer in enumerate(base_model.layers):\n",
        "  print(layer_number, layer.name)"
      ],
      "execution_count": 33,
      "outputs": [
        {
          "output_type": "stream",
          "text": [
            "0 input_4\n",
            "1 rescaling_3\n",
            "2 normalization_3\n",
            "3 stem_conv_pad\n",
            "4 stem_conv\n",
            "5 stem_bn\n",
            "6 stem_activation\n",
            "7 block1a_dwconv\n",
            "8 block1a_bn\n",
            "9 block1a_activation\n",
            "10 block1a_se_squeeze\n",
            "11 block1a_se_reshape\n",
            "12 block1a_se_reduce\n",
            "13 block1a_se_expand\n",
            "14 block1a_se_excite\n",
            "15 block1a_project_conv\n",
            "16 block1a_project_bn\n",
            "17 block2a_expand_conv\n",
            "18 block2a_expand_bn\n",
            "19 block2a_expand_activation\n",
            "20 block2a_dwconv_pad\n",
            "21 block2a_dwconv\n",
            "22 block2a_bn\n",
            "23 block2a_activation\n",
            "24 block2a_se_squeeze\n",
            "25 block2a_se_reshape\n",
            "26 block2a_se_reduce\n",
            "27 block2a_se_expand\n",
            "28 block2a_se_excite\n",
            "29 block2a_project_conv\n",
            "30 block2a_project_bn\n",
            "31 block2b_expand_conv\n",
            "32 block2b_expand_bn\n",
            "33 block2b_expand_activation\n",
            "34 block2b_dwconv\n",
            "35 block2b_bn\n",
            "36 block2b_activation\n",
            "37 block2b_se_squeeze\n",
            "38 block2b_se_reshape\n",
            "39 block2b_se_reduce\n",
            "40 block2b_se_expand\n",
            "41 block2b_se_excite\n",
            "42 block2b_project_conv\n",
            "43 block2b_project_bn\n",
            "44 block2b_drop\n",
            "45 block2b_add\n",
            "46 block3a_expand_conv\n",
            "47 block3a_expand_bn\n",
            "48 block3a_expand_activation\n",
            "49 block3a_dwconv_pad\n",
            "50 block3a_dwconv\n",
            "51 block3a_bn\n",
            "52 block3a_activation\n",
            "53 block3a_se_squeeze\n",
            "54 block3a_se_reshape\n",
            "55 block3a_se_reduce\n",
            "56 block3a_se_expand\n",
            "57 block3a_se_excite\n",
            "58 block3a_project_conv\n",
            "59 block3a_project_bn\n",
            "60 block3b_expand_conv\n",
            "61 block3b_expand_bn\n",
            "62 block3b_expand_activation\n",
            "63 block3b_dwconv\n",
            "64 block3b_bn\n",
            "65 block3b_activation\n",
            "66 block3b_se_squeeze\n",
            "67 block3b_se_reshape\n",
            "68 block3b_se_reduce\n",
            "69 block3b_se_expand\n",
            "70 block3b_se_excite\n",
            "71 block3b_project_conv\n",
            "72 block3b_project_bn\n",
            "73 block3b_drop\n",
            "74 block3b_add\n",
            "75 block4a_expand_conv\n",
            "76 block4a_expand_bn\n",
            "77 block4a_expand_activation\n",
            "78 block4a_dwconv_pad\n",
            "79 block4a_dwconv\n",
            "80 block4a_bn\n",
            "81 block4a_activation\n",
            "82 block4a_se_squeeze\n",
            "83 block4a_se_reshape\n",
            "84 block4a_se_reduce\n",
            "85 block4a_se_expand\n",
            "86 block4a_se_excite\n",
            "87 block4a_project_conv\n",
            "88 block4a_project_bn\n",
            "89 block4b_expand_conv\n",
            "90 block4b_expand_bn\n",
            "91 block4b_expand_activation\n",
            "92 block4b_dwconv\n",
            "93 block4b_bn\n",
            "94 block4b_activation\n",
            "95 block4b_se_squeeze\n",
            "96 block4b_se_reshape\n",
            "97 block4b_se_reduce\n",
            "98 block4b_se_expand\n",
            "99 block4b_se_excite\n",
            "100 block4b_project_conv\n",
            "101 block4b_project_bn\n",
            "102 block4b_drop\n",
            "103 block4b_add\n",
            "104 block4c_expand_conv\n",
            "105 block4c_expand_bn\n",
            "106 block4c_expand_activation\n",
            "107 block4c_dwconv\n",
            "108 block4c_bn\n",
            "109 block4c_activation\n",
            "110 block4c_se_squeeze\n",
            "111 block4c_se_reshape\n",
            "112 block4c_se_reduce\n",
            "113 block4c_se_expand\n",
            "114 block4c_se_excite\n",
            "115 block4c_project_conv\n",
            "116 block4c_project_bn\n",
            "117 block4c_drop\n",
            "118 block4c_add\n",
            "119 block5a_expand_conv\n",
            "120 block5a_expand_bn\n",
            "121 block5a_expand_activation\n",
            "122 block5a_dwconv\n",
            "123 block5a_bn\n",
            "124 block5a_activation\n",
            "125 block5a_se_squeeze\n",
            "126 block5a_se_reshape\n",
            "127 block5a_se_reduce\n",
            "128 block5a_se_expand\n",
            "129 block5a_se_excite\n",
            "130 block5a_project_conv\n",
            "131 block5a_project_bn\n",
            "132 block5b_expand_conv\n",
            "133 block5b_expand_bn\n",
            "134 block5b_expand_activation\n",
            "135 block5b_dwconv\n",
            "136 block5b_bn\n",
            "137 block5b_activation\n",
            "138 block5b_se_squeeze\n",
            "139 block5b_se_reshape\n",
            "140 block5b_se_reduce\n",
            "141 block5b_se_expand\n",
            "142 block5b_se_excite\n",
            "143 block5b_project_conv\n",
            "144 block5b_project_bn\n",
            "145 block5b_drop\n",
            "146 block5b_add\n",
            "147 block5c_expand_conv\n",
            "148 block5c_expand_bn\n",
            "149 block5c_expand_activation\n",
            "150 block5c_dwconv\n",
            "151 block5c_bn\n",
            "152 block5c_activation\n",
            "153 block5c_se_squeeze\n",
            "154 block5c_se_reshape\n",
            "155 block5c_se_reduce\n",
            "156 block5c_se_expand\n",
            "157 block5c_se_excite\n",
            "158 block5c_project_conv\n",
            "159 block5c_project_bn\n",
            "160 block5c_drop\n",
            "161 block5c_add\n",
            "162 block6a_expand_conv\n",
            "163 block6a_expand_bn\n",
            "164 block6a_expand_activation\n",
            "165 block6a_dwconv_pad\n",
            "166 block6a_dwconv\n",
            "167 block6a_bn\n",
            "168 block6a_activation\n",
            "169 block6a_se_squeeze\n",
            "170 block6a_se_reshape\n",
            "171 block6a_se_reduce\n",
            "172 block6a_se_expand\n",
            "173 block6a_se_excite\n",
            "174 block6a_project_conv\n",
            "175 block6a_project_bn\n",
            "176 block6b_expand_conv\n",
            "177 block6b_expand_bn\n",
            "178 block6b_expand_activation\n",
            "179 block6b_dwconv\n",
            "180 block6b_bn\n",
            "181 block6b_activation\n",
            "182 block6b_se_squeeze\n",
            "183 block6b_se_reshape\n",
            "184 block6b_se_reduce\n",
            "185 block6b_se_expand\n",
            "186 block6b_se_excite\n",
            "187 block6b_project_conv\n",
            "188 block6b_project_bn\n",
            "189 block6b_drop\n",
            "190 block6b_add\n",
            "191 block6c_expand_conv\n",
            "192 block6c_expand_bn\n",
            "193 block6c_expand_activation\n",
            "194 block6c_dwconv\n",
            "195 block6c_bn\n",
            "196 block6c_activation\n",
            "197 block6c_se_squeeze\n",
            "198 block6c_se_reshape\n",
            "199 block6c_se_reduce\n",
            "200 block6c_se_expand\n",
            "201 block6c_se_excite\n",
            "202 block6c_project_conv\n",
            "203 block6c_project_bn\n",
            "204 block6c_drop\n",
            "205 block6c_add\n",
            "206 block6d_expand_conv\n",
            "207 block6d_expand_bn\n",
            "208 block6d_expand_activation\n",
            "209 block6d_dwconv\n",
            "210 block6d_bn\n",
            "211 block6d_activation\n",
            "212 block6d_se_squeeze\n",
            "213 block6d_se_reshape\n",
            "214 block6d_se_reduce\n",
            "215 block6d_se_expand\n",
            "216 block6d_se_excite\n",
            "217 block6d_project_conv\n",
            "218 block6d_project_bn\n",
            "219 block6d_drop\n",
            "220 block6d_add\n",
            "221 block7a_expand_conv\n",
            "222 block7a_expand_bn\n",
            "223 block7a_expand_activation\n",
            "224 block7a_dwconv\n",
            "225 block7a_bn\n",
            "226 block7a_activation\n",
            "227 block7a_se_squeeze\n",
            "228 block7a_se_reshape\n",
            "229 block7a_se_reduce\n",
            "230 block7a_se_expand\n",
            "231 block7a_se_excite\n",
            "232 block7a_project_conv\n",
            "233 block7a_project_bn\n",
            "234 top_conv\n",
            "235 top_bn\n",
            "236 top_activation\n"
          ],
          "name": "stdout"
        }
      ]
    },
    {
      "cell_type": "code",
      "metadata": {
        "colab": {
          "base_uri": "https://localhost:8080/"
        },
        "id": "oiHwezb1nYWZ",
        "outputId": "50c6ec25-1136-4b3d-d668-151894e4efe3"
      },
      "source": [
        "model_1.summary()"
      ],
      "execution_count": 34,
      "outputs": [
        {
          "output_type": "stream",
          "text": [
            "Model: \"model_3\"\n",
            "_________________________________________________________________\n",
            "Layer (type)                 Output Shape              Param #   \n",
            "=================================================================\n",
            "input_layer (InputLayer)     [(None, 224, 224, 3)]     0         \n",
            "_________________________________________________________________\n",
            "data_augmentation_layer (Seq (None, None, None, 3)     0         \n",
            "_________________________________________________________________\n",
            "efficientnetb0 (Functional)  (None, None, None, 1280)  4049571   \n",
            "_________________________________________________________________\n",
            "global_average_pooling_layer (None, 1280)              0         \n",
            "_________________________________________________________________\n",
            "output_layer (Dense)         (None, 10)                12810     \n",
            "=================================================================\n",
            "Total params: 4,062,381\n",
            "Trainable params: 12,810\n",
            "Non-trainable params: 4,049,571\n",
            "_________________________________________________________________\n"
          ],
          "name": "stdout"
        }
      ]
    },
    {
      "cell_type": "code",
      "metadata": {
        "colab": {
          "base_uri": "https://localhost:8080/"
        },
        "id": "OgUtcgGbnh5x",
        "outputId": "f98daa47-2198-4d06-b602-7a9c9ebe0c20"
      },
      "source": [
        "# Evaluate on the full test dataset\n",
        "model_1.evaluate(test_data)"
      ],
      "execution_count": 35,
      "outputs": [
        {
          "output_type": "stream",
          "text": [
            "79/79 [==============================] - 15s 176ms/step - loss: 1.8653 - accuracy: 0.4452\n"
          ],
          "name": "stdout"
        },
        {
          "output_type": "execute_result",
          "data": {
            "text/plain": [
              "[1.8652867078781128, 0.44519999623298645]"
            ]
          },
          "metadata": {
            "tags": []
          },
          "execution_count": 35
        }
      ]
    },
    {
      "cell_type": "code",
      "metadata": {
        "colab": {
          "base_uri": "https://localhost:8080/",
          "height": 573
        },
        "id": "Pns7q5F6n4r2",
        "outputId": "100933c6-333a-4803-b140-b333a441bdc7"
      },
      "source": [
        "# How do the model with 1% of the data with data augmentation loss curves look?\n",
        "plot_loss_curves(history_1_percent)"
      ],
      "execution_count": 36,
      "outputs": [
        {
          "output_type": "display_data",
          "data": {
            "image/png": "[encoded data removed]",
            "text/plain": [
              "<Figure size 432x288 with 1 Axes>"
            ]
          },
          "metadata": {
            "tags": [],
            "needs_background": "light"
          }
        },
        {
          "output_type": "display_data",
          "data": {
            "image/png": "[encoded data removed]",
            "text/plain": [
              "<Figure size 432x288 with 1 Axes>"
            ]
          },
          "metadata": {
            "tags": [],
            "needs_background": "light"
          }
        }
      ]
    },
    {
      "cell_type": "markdown",
      "metadata": {
        "id": "fq7xHb8PofQ6"
      },
      "source": [
        "## Model 2: Feature Extraction transfer learning model with 10% of data and data augmentation"
      ]
    },
    {
      "cell_type": "markdown",
      "metadata": {
        "id": "bIT41QFQsLBu"
      },
      "source": [
        "The training data here \"train_data_10_percent\" is already passed with loaders through tf.keras.preprocessing.image_dataset_from_directory and turns into batches of size 32. "
      ]
    },
    {
      "cell_type": "code",
      "metadata": {
        "colab": {
          "base_uri": "https://localhost:8080/"
        },
        "id": "Am-5McV8tVAp",
        "outputId": "4f289d57-2b37-4192-c3b4-df61712c8cdb"
      },
      "source": [
        "train_data_10_percent"
      ],
      "execution_count": 45,
      "outputs": [
        {
          "output_type": "execute_result",
          "data": {
            "text/plain": [
              "<BatchDataset shapes: ((None, 224, 224, 3), (None, 10)), types: (tf.float32, tf.float32)>"
            ]
          },
          "metadata": {
            "tags": []
          },
          "execution_count": 45
        }
      ]
    },
    {
      "cell_type": "code",
      "metadata": {
        "colab": {
          "base_uri": "https://localhost:8080/"
        },
        "id": "bSRcI_8zuq-9",
        "outputId": "59628a67-06f4-451c-c571-fd92b0cf2faa"
      },
      "source": [
        "# Making the directory\n",
        "train_dir = \"10_food_classes_10_percent/train\"\n",
        "test_dir = \"10_food_classes_10_percent/test\"\n",
        "train_dir,test_dir"
      ],
      "execution_count": 51,
      "outputs": [
        {
          "output_type": "execute_result",
          "data": {
            "text/plain": [
              "('10_food_classes_10_percent/train', '10_food_classes_10_percent/test')"
            ]
          },
          "metadata": {
            "tags": []
          },
          "execution_count": 51
        }
      ]
    },
    {
      "cell_type": "code",
      "metadata": {
        "colab": {
          "base_uri": "https://localhost:8080/"
        },
        "id": "gwfZujFstUC3",
        "outputId": "3121e165-296e-40e9-9c3d-32028c8b946e"
      },
      "source": [
        "test_data= tf.keras.preprocessing.image_dataset_from_directory(directory = test_dir,\n",
        "                                                                label_mode=\"categorical\",\n",
        "                                                                image_size=IMG_SIZE,\n",
        "                                                                batch_size=BATCH_SIZE)"
      ],
      "execution_count": 50,
      "outputs": [
        {
          "output_type": "stream",
          "text": [
            "Found 2500 files belonging to 10 classes.\n"
          ],
          "name": "stdout"
        }
      ]
    },
    {
      "cell_type": "code",
      "metadata": {
        "id": "sfBfOcU8rIB5"
      },
      "source": [
        "# Creating data augmentation layer for 10_percent_data\n",
        "data_augmentation_10_percent = tf.keras.Sequential([\n",
        "  tf.keras.layers.experimental.preprocessing.RandomFlip(\"horizontal\"),\n",
        "  tf.keras.layers.experimental.preprocessing.RandomZoom(0.2),\n",
        "  tf.keras.layers.experimental.preprocessing.RandomRotation(0.2),\n",
        "  tf.keras.layers.experimental.preprocessing.RandomHeight(0.2),\n",
        "  tf.keras.layers.experimental.preprocessing.RandomWidth(0.2)\n",
        "],name = 'data_augmentation_10_percent_layer')"
      ],
      "execution_count": 37,
      "outputs": []
    },
    {
      "cell_type": "code",
      "metadata": {
        "colab": {
          "base_uri": "https://localhost:8080/"
        },
        "id": "z90D0IkSs0Xm",
        "outputId": "2fae33ae-47aa-413b-fe42-53a08a7c89f7"
      },
      "source": [
        "## Model Creation\n",
        "\n",
        "# Setup base_model, freeze the model, and setup the input_shape\n",
        "input_shape = (224,224,3)\n",
        "base_model = tf.keras.applications.EfficientNetB0(include_top = False)\n",
        "base_model.trainable = False\n",
        "\n",
        "# Set up input layer\n",
        "inputs = tf.keras.layers.Input(shape=input_shape, name=\"input_layer\")\n",
        "\n",
        "# Add in data augmentation layer\n",
        "x = data_augmentation_10_percent(inputs) # inputs gets passed intp data_augmentation layer\n",
        "\n",
        "# Setup base_model\n",
        "x = base_model(x, training=False)\n",
        "\n",
        "# Pooling Layer\n",
        "x = tf.keras.layers.GlobalAveragePooling2D(name=\"global_averalge_pooling_layer\")(x)\n",
        "\n",
        "# Output Dense layer\n",
        "outputs = tf.keras.layers.Dense(10, activation=\"softmax\", name = \"output_layer\")(x)\n",
        "\n",
        "# Combining the model\n",
        "model_2 = tf.keras.Model(inputs, outputs)\n",
        "\n",
        "# Compiling the model\n",
        "model_2.compile(\n",
        "    loss=\"categorical_crossentropy\",\n",
        "    optimizer=tf.keras.optimizers.Adam(),\n",
        "    metrics=[\"accuracy\"]\n",
        ")\n",
        "\n",
        "# Fit the model\n",
        "history_2_10_percent = model_2.fit(train_data_10_percent,\n",
        "                                   epochs=5,\n",
        "                                   steps_per_epoch=len(train_data_10_percent),\n",
        "                                   validation_data = test_data,\n",
        "                                   validation_steps = int(0.25*len(test_data)),\n",
        "                                   callbacks = create_tensorboard_callback(dir_name=\"TensorBoard\",\n",
        "                                                                           experiment_name=\"Model_2\"))"
      ],
      "execution_count": 53,
      "outputs": [
        {
          "output_type": "stream",
          "text": [
            "Saving TensorBoard log files to: TensorBoard/Model_2/20210728-154200\n",
            "Epoch 1/5\n"
          ],
          "name": "stdout"
        },
        {
          "output_type": "stream",
          "text": [
            "/usr/local/lib/python3.7/dist-packages/tensorflow/python/keras/utils/generic_utils.py:497: CustomMaskWarning: Custom mask layers require a config and must override get_config. When loading, the custom mask layer must be passed to the custom_objects argument.\n",
            "  category=CustomMaskWarning)\n"
          ],
          "name": "stderr"
        },
        {
          "output_type": "stream",
          "text": [
            "24/24 [==============================] - 27s 762ms/step - loss: 1.9964 - accuracy: 0.3413 - val_loss: 1.4863 - val_accuracy: 0.6579\n",
            "Epoch 2/5\n",
            "24/24 [==============================] - 13s 541ms/step - loss: 1.3522 - accuracy: 0.6893 - val_loss: 1.0506 - val_accuracy: 0.7697\n",
            "Epoch 3/5\n",
            "24/24 [==============================] - 14s 567ms/step - loss: 1.0568 - accuracy: 0.7600 - val_loss: 0.8443 - val_accuracy: 0.8026\n",
            "Epoch 4/5\n",
            "24/24 [==============================] - 13s 514ms/step - loss: 0.9014 - accuracy: 0.7827 - val_loss: 0.7536 - val_accuracy: 0.8076\n",
            "Epoch 5/5\n",
            "24/24 [==============================] - 13s 521ms/step - loss: 0.7861 - accuracy: 0.8107 - val_loss: 0.7034 - val_accuracy: 0.8092\n"
          ],
          "name": "stdout"
        }
      ]
    },
    {
      "cell_type": "code",
      "metadata": {
        "colab": {
          "base_uri": "https://localhost:8080/"
        },
        "id": "jvbg2j8Ixye4",
        "outputId": "bd36640e-3213-466d-b5f1-3af2f687cf52"
      },
      "source": [
        "# check the summary\n",
        "model_2.summary()"
      ],
      "execution_count": 54,
      "outputs": [
        {
          "output_type": "stream",
          "text": [
            "Model: \"model_5\"\n",
            "_________________________________________________________________\n",
            "Layer (type)                 Output Shape              Param #   \n",
            "=================================================================\n",
            "input_layer (InputLayer)     [(None, 224, 224, 3)]     0         \n",
            "_________________________________________________________________\n",
            "data_augmentation_10_percent (None, None, None, 3)     0         \n",
            "_________________________________________________________________\n",
            "efficientnetb0 (Functional)  (None, None, None, 1280)  4049571   \n",
            "_________________________________________________________________\n",
            "global_averalge_pooling_laye (None, 1280)              0         \n",
            "_________________________________________________________________\n",
            "output_layer (Dense)         (None, 10)                12810     \n",
            "=================================================================\n",
            "Total params: 4,062,381\n",
            "Trainable params: 12,810\n",
            "Non-trainable params: 4,049,571\n",
            "_________________________________________________________________\n"
          ],
          "name": "stdout"
        }
      ]
    },
    {
      "cell_type": "code",
      "metadata": {
        "colab": {
          "base_uri": "https://localhost:8080/",
          "height": 573
        },
        "id": "1aFEiOKiyvWh",
        "outputId": "b4e042b5-6139-4095-cbf7-22d7b5448f41"
      },
      "source": [
        "# Check the loss curves\n",
        "plot_loss_curves(history_2_10_percent)"
      ],
      "execution_count": 55,
      "outputs": [
        {
          "output_type": "display_data",
          "data": {
            "image/png": "[encoded data removed]",
            "text/plain": [
              "<Figure size 432x288 with 1 Axes>"
            ]
          },
          "metadata": {
            "tags": [],
            "needs_background": "light"
          }
        },
        {
          "output_type": "display_data",
          "data": {
            "image/png": "[encoded data removed]",
            "text/plain": [
              "<Figure size 432x288 with 1 Axes>"
            ]
          },
          "metadata": {
            "tags": [],
            "needs_background": "light"
          }
        }
      ]
    },
    {
      "cell_type": "markdown",
      "metadata": {
        "id": "hZK0KCcO0Bbh"
      },
      "source": [
        "### Creating a ModelCheckPoint callback\n",
        "\n",
        "Callbacks are a tool which can `add helpful functionality` to your models during training, evaluation or inference\n",
        "\n",
        "The ModelCheckpoint callback intermediately saves our model (the full model or just the weights) during training. This is useful so we can come and start where we left off."
      ]
    },
    {
      "cell_type": "code",
      "metadata": {
        "colab": {
          "base_uri": "https://localhost:8080/"
        },
        "id": "SjhlUlnh-RLk",
        "outputId": "68eeedab-3cc7-47e1-c94e-ca24051aeeee"
      },
      "source": [
        "# Set checkpoint path\n",
        "checkpoint_path = \"10_percent_model_checkpoint_weights/checkpoint.ckpt\"\n",
        "\n",
        "# Create a ModelCheckpoint callback that saves the model's weights only\n",
        "checkpoint_callback = tf.keras.callbacks.ModelCheckpoint(filepath=checkpoint_path,\n",
        "                                                         save_weights_only=True,\n",
        "                                                         save_best_only=False,\n",
        "                                                         save_freq=\"epoch\", #save every epoch\n",
        "                                                         verbose=1)\n",
        "# Fitting the model_2\n",
        "history_2_10_percent_cb = model_2.fit(train_data_10_percent,\n",
        "                                      epochs=5,\n",
        "                                      steps_per_epoch=len(train_data_10_percent),\n",
        "                                      validation_data=test_data,\n",
        "                                      validation_steps=len(test_data),\n",
        "                                      callbacks=[checkpoint_callback])"
      ],
      "execution_count": 56,
      "outputs": [
        {
          "output_type": "stream",
          "text": [
            "Epoch 1/5\n",
            "24/24 [==============================] - 23s 947ms/step - loss: 0.7054 - accuracy: 0.8160 - val_loss: 0.6499 - val_accuracy: 0.8144\n",
            "\n",
            "Epoch 00001: saving model to 10_percent_model_checkpoint_weights/checkpoint.ckpt\n",
            "Epoch 2/5\n",
            "24/24 [==============================] - 23s 945ms/step - loss: 0.6581 - accuracy: 0.8267 - val_loss: 0.6294 - val_accuracy: 0.8144\n",
            "\n",
            "Epoch 00002: saving model to 10_percent_model_checkpoint_weights/checkpoint.ckpt\n",
            "Epoch 3/5\n",
            "24/24 [==============================] - 22s 924ms/step - loss: 0.6175 - accuracy: 0.8333 - val_loss: 0.6042 - val_accuracy: 0.8184\n",
            "\n",
            "Epoch 00003: saving model to 10_percent_model_checkpoint_weights/checkpoint.ckpt\n",
            "Epoch 4/5\n",
            "24/24 [==============================] - 22s 915ms/step - loss: 0.5759 - accuracy: 0.8507 - val_loss: 0.5862 - val_accuracy: 0.8228\n",
            "\n",
            "Epoch 00004: saving model to 10_percent_model_checkpoint_weights/checkpoint.ckpt\n",
            "Epoch 5/5\n",
            "24/24 [==============================] - 23s 936ms/step - loss: 0.5350 - accuracy: 0.8613 - val_loss: 0.5648 - val_accuracy: 0.8272\n",
            "\n",
            "Epoch 00005: saving model to 10_percent_model_checkpoint_weights/checkpoint.ckpt\n"
          ],
          "name": "stdout"
        }
      ]
    },
    {
      "cell_type": "code",
      "metadata": {
        "colab": {
          "base_uri": "https://localhost:8080/"
        },
        "id": "oNbYo-BqBCkk",
        "outputId": "f2de85c2-9040-4e33-9947-5f11ab4db7ed"
      },
      "source": [
        "# What were model_0 results?\n",
        "model_0.evaluate(test_data)"
      ],
      "execution_count": 57,
      "outputs": [
        {
          "output_type": "stream",
          "text": [
            "79/79 [==============================] - 16s 189ms/step - loss: 0.6085 - accuracy: 0.8492\n"
          ],
          "name": "stdout"
        },
        {
          "output_type": "execute_result",
          "data": {
            "text/plain": [
              "[0.6085479259490967, 0.8492000102996826]"
            ]
          },
          "metadata": {
            "tags": []
          },
          "execution_count": 57
        }
      ]
    },
    {
      "cell_type": "code",
      "metadata": {
        "colab": {
          "base_uri": "https://localhost:8080/"
        },
        "id": "C8P4wdDbC2IA",
        "outputId": "219c7fba-55d1-4416-b154-d0858927a3cb"
      },
      "source": [
        "# Check model_2 results on all data\n",
        "results_10_percent_data_aug = model_2.evaluate(test_data)\n",
        "results_10_percent_data_aug"
      ],
      "execution_count": 58,
      "outputs": [
        {
          "output_type": "stream",
          "text": [
            "79/79 [==============================] - 15s 179ms/step - loss: 0.5648 - accuracy: 0.8272\n"
          ],
          "name": "stdout"
        },
        {
          "output_type": "execute_result",
          "data": {
            "text/plain": [
              "[0.5647730827331543, 0.8271999955177307]"
            ]
          },
          "metadata": {
            "tags": []
          },
          "execution_count": 58
        }
      ]
    },
    {
      "cell_type": "code",
      "metadata": {
        "colab": {
          "base_uri": "https://localhost:8080/",
          "height": 573
        },
        "id": "AnAZmomkDJN5",
        "outputId": "3f6cc5dd-f498-4ece-d597-bda561f3aa29"
      },
      "source": [
        "plot_loss_curves(history_2_10_percent_cb)"
      ],
      "execution_count": 59,
      "outputs": [
        {
          "output_type": "display_data",
          "data": {
            "image/png": "[encoded data removed]",
            "text/plain": [
              "<Figure size 432x288 with 1 Axes>"
            ]
          },
          "metadata": {
            "tags": [],
            "needs_background": "light"
          }
        },
        {
          "output_type": "display_data",
          "data": {
            "image/png": "[encoded data removed]",
            "text/plain": [
              "<Figure size 432x288 with 1 Axes>"
            ]
          },
          "metadata": {
            "tags": [],
            "needs_background": "light"
          }
        }
      ]
    },
    {
      "cell_type": "markdown",
      "metadata": {
        "id": "1cbeqiD2DWIw"
      },
      "source": [
        "### Loading in checkpointed weights\n",
        "\n",
        "Loading in checkpointed weights returns a model to a spicific checkpoint."
      ]
    },
    {
      "cell_type": "code",
      "metadata": {
        "colab": {
          "base_uri": "https://localhost:8080/"
        },
        "id": "qgpQk036D9o-",
        "outputId": "bea896cf-7e83-4db8-d5cc-44b17683be51"
      },
      "source": [
        "# Load in saved model weights and evaluate model\n",
        "model_2.load_weights(checkpoint_path)"
      ],
      "execution_count": 60,
      "outputs": [
        {
          "output_type": "execute_result",
          "data": {
            "text/plain": [
              "<tensorflow.python.training.tracking.util.CheckpointLoadStatus at 0x7fa52333e650>"
            ]
          },
          "metadata": {
            "tags": []
          },
          "execution_count": 60
        }
      ]
    },
    {
      "cell_type": "code",
      "metadata": {
        "colab": {
          "base_uri": "https://localhost:8080/"
        },
        "id": "QomwWbHOErUh",
        "outputId": "b6680562-3fa2-43ed-b4f2-394d6ad382c2"
      },
      "source": [
        "# Evaluate model_2 with loaded weights\n",
        "loaded_weights_model_results = model_2.evaluate(test_data)"
      ],
      "execution_count": 61,
      "outputs": [
        {
          "output_type": "stream",
          "text": [
            "79/79 [==============================] - 16s 190ms/step - loss: 0.5648 - accuracy: 0.8272\n"
          ],
          "name": "stdout"
        }
      ]
    },
    {
      "cell_type": "code",
      "metadata": {
        "colab": {
          "base_uri": "https://localhost:8080/"
        },
        "id": "2Df5OtFRE6mG",
        "outputId": "7f7c61e4-400c-41bc-e0d4-837728d81423"
      },
      "source": [
        "# If the results from our previously evaluated model_2 matched the loaded weights, everything has worked!\n",
        "results_10_percent_data_aug == loaded_weights_model_results"
      ],
      "execution_count": 63,
      "outputs": [
        {
          "output_type": "execute_result",
          "data": {
            "text/plain": [
              "False"
            ]
          },
          "metadata": {
            "tags": []
          },
          "execution_count": 63
        }
      ]
    },
    {
      "cell_type": "code",
      "metadata": {
        "colab": {
          "base_uri": "https://localhost:8080/"
        },
        "id": "r8EkirF9FWeV",
        "outputId": "2bdf0aac-bf4f-423c-8b14-d42211361be5"
      },
      "source": [
        "results_10_percent_data_aug"
      ],
      "execution_count": 64,
      "outputs": [
        {
          "output_type": "execute_result",
          "data": {
            "text/plain": [
              "[0.5647730827331543, 0.8271999955177307]"
            ]
          },
          "metadata": {
            "tags": []
          },
          "execution_count": 64
        }
      ]
    },
    {
      "cell_type": "code",
      "metadata": {
        "colab": {
          "base_uri": "https://localhost:8080/"
        },
        "id": "RxxZz9KQFzgs",
        "outputId": "1db183be-8345-4f3d-a9aa-d29c34c453b1"
      },
      "source": [
        "loaded_weights_model_results"
      ],
      "execution_count": 65,
      "outputs": [
        {
          "output_type": "execute_result",
          "data": {
            "text/plain": [
              "[0.5647730231285095, 0.8271999955177307]"
            ]
          },
          "metadata": {
            "tags": []
          },
          "execution_count": 65
        }
      ]
    },
    {
      "cell_type": "code",
      "metadata": {
        "colab": {
          "base_uri": "https://localhost:8080/"
        },
        "id": "iA2X2paKF1QG",
        "outputId": "6efd4995-0562-4653-8e88-d05a8d7d53a3"
      },
      "source": [
        "# Check to see if loaded model results are very close to our previous non-loaded model results\n",
        "import numpy as np\n",
        "np.isclose(results_10_percent_data_aug, loaded_weights_model_results)"
      ],
      "execution_count": 66,
      "outputs": [
        {
          "output_type": "execute_result",
          "data": {
            "text/plain": [
              "array([ True,  True])"
            ]
          },
          "metadata": {
            "tags": []
          },
          "execution_count": 66
        }
      ]
    },
    {
      "cell_type": "code",
      "metadata": {
        "colab": {
          "base_uri": "https://localhost:8080/"
        },
        "id": "SfPxyfuyGasO",
        "outputId": "a254b341-015b-46a2-b904-f42029cd80af"
      },
      "source": [
        "# Check the difference between the two results\n",
        "print(np.array(results_10_percent_data_aug) - np.array(loaded_weights_model_results))"
      ],
      "execution_count": 68,
      "outputs": [
        {
          "output_type": "stream",
          "text": [
            "[5.96046448e-08 0.00000000e+00]\n"
          ],
          "name": "stdout"
        }
      ]
    },
    {
      "cell_type": "markdown",
      "metadata": {
        "id": "clJjxFb_HJ89"
      },
      "source": [
        "## Model 3: Fine tuning an existing model on 10% of the data\n",
        "\n",
        "> **Note:** Fine-tuning usually works best *after* training a feature extraction model for a few epochs with large amounts of custom data."
      ]
    },
    {
      "cell_type": "code",
      "metadata": {
        "colab": {
          "base_uri": "https://localhost:8080/"
        },
        "id": "beZZ3F83LVli",
        "outputId": "b9fdd68e-f050-468b-f5bb-d582c3e9eb63"
      },
      "source": [
        "# Layers in loaded model\n",
        "model_2.layers"
      ],
      "execution_count": 70,
      "outputs": [
        {
          "output_type": "execute_result",
          "data": {
            "text/plain": [
              "[<tensorflow.python.keras.engine.input_layer.InputLayer at 0x7fa5a86ea850>,\n",
              " <tensorflow.python.keras.engine.sequential.Sequential at 0x7fa52774dd10>,\n",
              " <tensorflow.python.keras.engine.functional.Functional at 0x7fa526b570d0>,\n",
              " <tensorflow.python.keras.layers.pooling.GlobalAveragePooling2D at 0x7fa526b99c10>,\n",
              " <tensorflow.python.keras.layers.core.Dense at 0x7fa526b69150>]"
            ]
          },
          "metadata": {
            "tags": []
          },
          "execution_count": 70
        }
      ]
    },
    {
      "cell_type": "code",
      "metadata": {
        "colab": {
          "base_uri": "https://localhost:8080/"
        },
        "id": "vKPtZYXjMbDI",
        "outputId": "fbb5c258-8f31-4171-e769-f68ca1d9386e"
      },
      "source": [
        "# Are these layers trainable?\n",
        "for layer in model_2.layers:\n",
        "  print(layer, layer.trainable)"
      ],
      "execution_count": 72,
      "outputs": [
        {
          "output_type": "stream",
          "text": [
            "<tensorflow.python.keras.engine.input_layer.InputLayer object at 0x7fa5a86ea850> True\n",
            "<tensorflow.python.keras.engine.sequential.Sequential object at 0x7fa52774dd10> True\n",
            "<tensorflow.python.keras.engine.functional.Functional object at 0x7fa526b570d0> False\n",
            "<tensorflow.python.keras.layers.pooling.GlobalAveragePooling2D object at 0x7fa526b99c10> True\n",
            "<tensorflow.python.keras.layers.core.Dense object at 0x7fa526b69150> True\n"
          ],
          "name": "stdout"
        }
      ]
    },
    {
      "cell_type": "code",
      "metadata": {
        "colab": {
          "base_uri": "https://localhost:8080/"
        },
        "id": "Fb05nXzwMuq0",
        "outputId": "a3160831-4958-47b9-cb48-612eee9ca4e7"
      },
      "source": [
        "# What layers are in our base_model (EfficientNetB0) and are they trainable?\n",
        "for i,layer in enumerate(model_2.layers[2].layers):\n",
        "  print(i,layer.name, layer.trainable)"
      ],
      "execution_count": 77,
      "outputs": [
        {
          "output_type": "stream",
          "text": [
            "0 input_6 False\n",
            "1 rescaling_5 False\n",
            "2 normalization_5 False\n",
            "3 stem_conv_pad False\n",
            "4 stem_conv False\n",
            "5 stem_bn False\n",
            "6 stem_activation False\n",
            "7 block1a_dwconv False\n",
            "8 block1a_bn False\n",
            "9 block1a_activation False\n",
            "10 block1a_se_squeeze False\n",
            "11 block1a_se_reshape False\n",
            "12 block1a_se_reduce False\n",
            "13 block1a_se_expand False\n",
            "14 block1a_se_excite False\n",
            "15 block1a_project_conv False\n",
            "16 block1a_project_bn False\n",
            "17 block2a_expand_conv False\n",
            "18 block2a_expand_bn False\n",
            "19 block2a_expand_activation False\n",
            "20 block2a_dwconv_pad False\n",
            "21 block2a_dwconv False\n",
            "22 block2a_bn False\n",
            "23 block2a_activation False\n",
            "24 block2a_se_squeeze False\n",
            "25 block2a_se_reshape False\n",
            "26 block2a_se_reduce False\n",
            "27 block2a_se_expand False\n",
            "28 block2a_se_excite False\n",
            "29 block2a_project_conv False\n",
            "30 block2a_project_bn False\n",
            "31 block2b_expand_conv False\n",
            "32 block2b_expand_bn False\n",
            "33 block2b_expand_activation False\n",
            "34 block2b_dwconv False\n",
            "35 block2b_bn False\n",
            "36 block2b_activation False\n",
            "37 block2b_se_squeeze False\n",
            "38 block2b_se_reshape False\n",
            "39 block2b_se_reduce False\n",
            "40 block2b_se_expand False\n",
            "41 block2b_se_excite False\n",
            "42 block2b_project_conv False\n",
            "43 block2b_project_bn False\n",
            "44 block2b_drop False\n",
            "45 block2b_add False\n",
            "46 block3a_expand_conv False\n",
            "47 block3a_expand_bn False\n",
            "48 block3a_expand_activation False\n",
            "49 block3a_dwconv_pad False\n",
            "50 block3a_dwconv False\n",
            "51 block3a_bn False\n",
            "52 block3a_activation False\n",
            "53 block3a_se_squeeze False\n",
            "54 block3a_se_reshape False\n",
            "55 block3a_se_reduce False\n",
            "56 block3a_se_expand False\n",
            "57 block3a_se_excite False\n",
            "58 block3a_project_conv False\n",
            "59 block3a_project_bn False\n",
            "60 block3b_expand_conv False\n",
            "61 block3b_expand_bn False\n",
            "62 block3b_expand_activation False\n",
            "63 block3b_dwconv False\n",
            "64 block3b_bn False\n",
            "65 block3b_activation False\n",
            "66 block3b_se_squeeze False\n",
            "67 block3b_se_reshape False\n",
            "68 block3b_se_reduce False\n",
            "69 block3b_se_expand False\n",
            "70 block3b_se_excite False\n",
            "71 block3b_project_conv False\n",
            "72 block3b_project_bn False\n",
            "73 block3b_drop False\n",
            "74 block3b_add False\n",
            "75 block4a_expand_conv False\n",
            "76 block4a_expand_bn False\n",
            "77 block4a_expand_activation False\n",
            "78 block4a_dwconv_pad False\n",
            "79 block4a_dwconv False\n",
            "80 block4a_bn False\n",
            "81 block4a_activation False\n",
            "82 block4a_se_squeeze False\n",
            "83 block4a_se_reshape False\n",
            "84 block4a_se_reduce False\n",
            "85 block4a_se_expand False\n",
            "86 block4a_se_excite False\n",
            "87 block4a_project_conv False\n",
            "88 block4a_project_bn False\n",
            "89 block4b_expand_conv False\n",
            "90 block4b_expand_bn False\n",
            "91 block4b_expand_activation False\n",
            "92 block4b_dwconv False\n",
            "93 block4b_bn False\n",
            "94 block4b_activation False\n",
            "95 block4b_se_squeeze False\n",
            "96 block4b_se_reshape False\n",
            "97 block4b_se_reduce False\n",
            "98 block4b_se_expand False\n",
            "99 block4b_se_excite False\n",
            "100 block4b_project_conv False\n",
            "101 block4b_project_bn False\n",
            "102 block4b_drop False\n",
            "103 block4b_add False\n",
            "104 block4c_expand_conv False\n",
            "105 block4c_expand_bn False\n",
            "106 block4c_expand_activation False\n",
            "107 block4c_dwconv False\n",
            "108 block4c_bn False\n",
            "109 block4c_activation False\n",
            "110 block4c_se_squeeze False\n",
            "111 block4c_se_reshape False\n",
            "112 block4c_se_reduce False\n",
            "113 block4c_se_expand False\n",
            "114 block4c_se_excite False\n",
            "115 block4c_project_conv False\n",
            "116 block4c_project_bn False\n",
            "117 block4c_drop False\n",
            "118 block4c_add False\n",
            "119 block5a_expand_conv False\n",
            "120 block5a_expand_bn False\n",
            "121 block5a_expand_activation False\n",
            "122 block5a_dwconv False\n",
            "123 block5a_bn False\n",
            "124 block5a_activation False\n",
            "125 block5a_se_squeeze False\n",
            "126 block5a_se_reshape False\n",
            "127 block5a_se_reduce False\n",
            "128 block5a_se_expand False\n",
            "129 block5a_se_excite False\n",
            "130 block5a_project_conv False\n",
            "131 block5a_project_bn False\n",
            "132 block5b_expand_conv False\n",
            "133 block5b_expand_bn False\n",
            "134 block5b_expand_activation False\n",
            "135 block5b_dwconv False\n",
            "136 block5b_bn False\n",
            "137 block5b_activation False\n",
            "138 block5b_se_squeeze False\n",
            "139 block5b_se_reshape False\n",
            "140 block5b_se_reduce False\n",
            "141 block5b_se_expand False\n",
            "142 block5b_se_excite False\n",
            "143 block5b_project_conv False\n",
            "144 block5b_project_bn False\n",
            "145 block5b_drop False\n",
            "146 block5b_add False\n",
            "147 block5c_expand_conv False\n",
            "148 block5c_expand_bn False\n",
            "149 block5c_expand_activation False\n",
            "150 block5c_dwconv False\n",
            "151 block5c_bn False\n",
            "152 block5c_activation False\n",
            "153 block5c_se_squeeze False\n",
            "154 block5c_se_reshape False\n",
            "155 block5c_se_reduce False\n",
            "156 block5c_se_expand False\n",
            "157 block5c_se_excite False\n",
            "158 block5c_project_conv False\n",
            "159 block5c_project_bn False\n",
            "160 block5c_drop False\n",
            "161 block5c_add False\n",
            "162 block6a_expand_conv False\n",
            "163 block6a_expand_bn False\n",
            "164 block6a_expand_activation False\n",
            "165 block6a_dwconv_pad False\n",
            "166 block6a_dwconv False\n",
            "167 block6a_bn False\n",
            "168 block6a_activation False\n",
            "169 block6a_se_squeeze False\n",
            "170 block6a_se_reshape False\n",
            "171 block6a_se_reduce False\n",
            "172 block6a_se_expand False\n",
            "173 block6a_se_excite False\n",
            "174 block6a_project_conv False\n",
            "175 block6a_project_bn False\n",
            "176 block6b_expand_conv False\n",
            "177 block6b_expand_bn False\n",
            "178 block6b_expand_activation False\n",
            "179 block6b_dwconv False\n",
            "180 block6b_bn False\n",
            "181 block6b_activation False\n",
            "182 block6b_se_squeeze False\n",
            "183 block6b_se_reshape False\n",
            "184 block6b_se_reduce False\n",
            "185 block6b_se_expand False\n",
            "186 block6b_se_excite False\n",
            "187 block6b_project_conv False\n",
            "188 block6b_project_bn False\n",
            "189 block6b_drop False\n",
            "190 block6b_add False\n",
            "191 block6c_expand_conv False\n",
            "192 block6c_expand_bn False\n",
            "193 block6c_expand_activation False\n",
            "194 block6c_dwconv False\n",
            "195 block6c_bn False\n",
            "196 block6c_activation False\n",
            "197 block6c_se_squeeze False\n",
            "198 block6c_se_reshape False\n",
            "199 block6c_se_reduce False\n",
            "200 block6c_se_expand False\n",
            "201 block6c_se_excite False\n",
            "202 block6c_project_conv False\n",
            "203 block6c_project_bn False\n",
            "204 block6c_drop False\n",
            "205 block6c_add False\n",
            "206 block6d_expand_conv False\n",
            "207 block6d_expand_bn False\n",
            "208 block6d_expand_activation False\n",
            "209 block6d_dwconv False\n",
            "210 block6d_bn False\n",
            "211 block6d_activation False\n",
            "212 block6d_se_squeeze False\n",
            "213 block6d_se_reshape False\n",
            "214 block6d_se_reduce False\n",
            "215 block6d_se_expand False\n",
            "216 block6d_se_excite False\n",
            "217 block6d_project_conv False\n",
            "218 block6d_project_bn False\n",
            "219 block6d_drop False\n",
            "220 block6d_add False\n",
            "221 block7a_expand_conv False\n",
            "222 block7a_expand_bn False\n",
            "223 block7a_expand_activation False\n",
            "224 block7a_dwconv False\n",
            "225 block7a_bn False\n",
            "226 block7a_activation False\n",
            "227 block7a_se_squeeze False\n",
            "228 block7a_se_reshape False\n",
            "229 block7a_se_reduce False\n",
            "230 block7a_se_expand False\n",
            "231 block7a_se_excite False\n",
            "232 block7a_project_conv False\n",
            "233 block7a_project_bn False\n",
            "234 top_conv False\n",
            "235 top_bn False\n",
            "236 top_activation False\n"
          ],
          "name": "stdout"
        }
      ]
    },
    {
      "cell_type": "code",
      "metadata": {
        "colab": {
          "base_uri": "https://localhost:8080/"
        },
        "id": "YLSN7_8gNOSr",
        "outputId": "4dae65b2-9651-4da5-dafb-fc5f9c1864a2"
      },
      "source": [
        "# How many trainable variables are in our base_model?\n",
        "print(len(model_2.layers[2].trainable_variables))"
      ],
      "execution_count": 79,
      "outputs": [
        {
          "output_type": "stream",
          "text": [
            "0\n"
          ],
          "name": "stdout"
        }
      ]
    },
    {
      "cell_type": "code",
      "metadata": {
        "id": "FpaaAF1cO1Iq"
      },
      "source": [
        "# To begin fine-tuning, let's start by setting the last 10 layers of our base model.trainable = True\n",
        "base_model.trainable = True\n",
        "\n",
        "# Freeze all layers expect for last 10\n",
        "for layer in model_2.layers[2].layers[:-10]:\n",
        "  layer.trainable = False\n",
        "\n",
        "# Recompile (we have to recompile our models every time we make a change)\n",
        "model_2.compile(\n",
        "    loss=\"categorical_crossentropy\",\n",
        "    optimizer=tf.keras.optimizers.Adam(learning_rate=0.0001), # when fine tuning you typically want to lower the learning rate by 10x.\n",
        "    metrics=[\"accuracy\"]\n",
        ")"
      ],
      "execution_count": 150,
      "outputs": []
    },
    {
      "cell_type": "markdown",
      "metadata": {
        "id": "nlOEqV9BSxWg"
      },
      "source": [
        "**Note:** When using fine tuning it's best practise to lower your learning rate by some amount. How much? This is a hyper-parameter you can tune. But a good rule of thumb is atleast 10x (though different sources will claim other values). \n",
        "\n",
        "A good resource for information on this is the ULMFit Paper: https://arxiv.org/abs/1801.06146"
      ]
    },
    {
      "cell_type": "code",
      "metadata": {
        "colab": {
          "base_uri": "https://localhost:8080/"
        },
        "id": "RrEkkbPJPouy",
        "outputId": "2d72018a-fc5b-4d22-bb61-d52aa9869dbf"
      },
      "source": [
        "for i,layer in enumerate(model_2.layers[2].layers[-10:]):\n",
        "  print(i,layer.name,layer.trainable)"
      ],
      "execution_count": 151,
      "outputs": [
        {
          "output_type": "stream",
          "text": [
            "0 block7a_se_squeeze True\n",
            "1 block7a_se_reshape True\n",
            "2 block7a_se_reduce True\n",
            "3 block7a_se_expand True\n",
            "4 block7a_se_excite True\n",
            "5 block7a_project_conv True\n",
            "6 block7a_project_bn True\n",
            "7 top_conv True\n",
            "8 top_bn True\n",
            "9 top_activation True\n"
          ],
          "name": "stdout"
        }
      ]
    },
    {
      "cell_type": "code",
      "metadata": {
        "colab": {
          "base_uri": "https://localhost:8080/"
        },
        "id": "qTkqIlBPPqJd",
        "outputId": "3fc378e0-3ae7-48ea-af9c-0a8851bf2cd1"
      },
      "source": [
        "for i,layer in enumerate(model_2.layers[2].layers):\n",
        "  print(i, layer.name, layer.trainable)"
      ],
      "execution_count": 152,
      "outputs": [
        {
          "output_type": "stream",
          "text": [
            "0 input_6 False\n",
            "1 rescaling_5 False\n",
            "2 normalization_5 False\n",
            "3 stem_conv_pad False\n",
            "4 stem_conv False\n",
            "5 stem_bn False\n",
            "6 stem_activation False\n",
            "7 block1a_dwconv False\n",
            "8 block1a_bn False\n",
            "9 block1a_activation False\n",
            "10 block1a_se_squeeze False\n",
            "11 block1a_se_reshape False\n",
            "12 block1a_se_reduce False\n",
            "13 block1a_se_expand False\n",
            "14 block1a_se_excite False\n",
            "15 block1a_project_conv False\n",
            "16 block1a_project_bn False\n",
            "17 block2a_expand_conv False\n",
            "18 block2a_expand_bn False\n",
            "19 block2a_expand_activation False\n",
            "20 block2a_dwconv_pad False\n",
            "21 block2a_dwconv False\n",
            "22 block2a_bn False\n",
            "23 block2a_activation False\n",
            "24 block2a_se_squeeze False\n",
            "25 block2a_se_reshape False\n",
            "26 block2a_se_reduce False\n",
            "27 block2a_se_expand False\n",
            "28 block2a_se_excite False\n",
            "29 block2a_project_conv False\n",
            "30 block2a_project_bn False\n",
            "31 block2b_expand_conv False\n",
            "32 block2b_expand_bn False\n",
            "33 block2b_expand_activation False\n",
            "34 block2b_dwconv False\n",
            "35 block2b_bn False\n",
            "36 block2b_activation False\n",
            "37 block2b_se_squeeze False\n",
            "38 block2b_se_reshape False\n",
            "39 block2b_se_reduce False\n",
            "40 block2b_se_expand False\n",
            "41 block2b_se_excite False\n",
            "42 block2b_project_conv False\n",
            "43 block2b_project_bn False\n",
            "44 block2b_drop False\n",
            "45 block2b_add False\n",
            "46 block3a_expand_conv False\n",
            "47 block3a_expand_bn False\n",
            "48 block3a_expand_activation False\n",
            "49 block3a_dwconv_pad False\n",
            "50 block3a_dwconv False\n",
            "51 block3a_bn False\n",
            "52 block3a_activation False\n",
            "53 block3a_se_squeeze False\n",
            "54 block3a_se_reshape False\n",
            "55 block3a_se_reduce False\n",
            "56 block3a_se_expand False\n",
            "57 block3a_se_excite False\n",
            "58 block3a_project_conv False\n",
            "59 block3a_project_bn False\n",
            "60 block3b_expand_conv False\n",
            "61 block3b_expand_bn False\n",
            "62 block3b_expand_activation False\n",
            "63 block3b_dwconv False\n",
            "64 block3b_bn False\n",
            "65 block3b_activation False\n",
            "66 block3b_se_squeeze False\n",
            "67 block3b_se_reshape False\n",
            "68 block3b_se_reduce False\n",
            "69 block3b_se_expand False\n",
            "70 block3b_se_excite False\n",
            "71 block3b_project_conv False\n",
            "72 block3b_project_bn False\n",
            "73 block3b_drop False\n",
            "74 block3b_add False\n",
            "75 block4a_expand_conv False\n",
            "76 block4a_expand_bn False\n",
            "77 block4a_expand_activation False\n",
            "78 block4a_dwconv_pad False\n",
            "79 block4a_dwconv False\n",
            "80 block4a_bn False\n",
            "81 block4a_activation False\n",
            "82 block4a_se_squeeze False\n",
            "83 block4a_se_reshape False\n",
            "84 block4a_se_reduce False\n",
            "85 block4a_se_expand False\n",
            "86 block4a_se_excite False\n",
            "87 block4a_project_conv False\n",
            "88 block4a_project_bn False\n",
            "89 block4b_expand_conv False\n",
            "90 block4b_expand_bn False\n",
            "91 block4b_expand_activation False\n",
            "92 block4b_dwconv False\n",
            "93 block4b_bn False\n",
            "94 block4b_activation False\n",
            "95 block4b_se_squeeze False\n",
            "96 block4b_se_reshape False\n",
            "97 block4b_se_reduce False\n",
            "98 block4b_se_expand False\n",
            "99 block4b_se_excite False\n",
            "100 block4b_project_conv False\n",
            "101 block4b_project_bn False\n",
            "102 block4b_drop False\n",
            "103 block4b_add False\n",
            "104 block4c_expand_conv False\n",
            "105 block4c_expand_bn False\n",
            "106 block4c_expand_activation False\n",
            "107 block4c_dwconv False\n",
            "108 block4c_bn False\n",
            "109 block4c_activation False\n",
            "110 block4c_se_squeeze False\n",
            "111 block4c_se_reshape False\n",
            "112 block4c_se_reduce False\n",
            "113 block4c_se_expand False\n",
            "114 block4c_se_excite False\n",
            "115 block4c_project_conv False\n",
            "116 block4c_project_bn False\n",
            "117 block4c_drop False\n",
            "118 block4c_add False\n",
            "119 block5a_expand_conv False\n",
            "120 block5a_expand_bn False\n",
            "121 block5a_expand_activation False\n",
            "122 block5a_dwconv False\n",
            "123 block5a_bn False\n",
            "124 block5a_activation False\n",
            "125 block5a_se_squeeze False\n",
            "126 block5a_se_reshape False\n",
            "127 block5a_se_reduce False\n",
            "128 block5a_se_expand False\n",
            "129 block5a_se_excite False\n",
            "130 block5a_project_conv False\n",
            "131 block5a_project_bn False\n",
            "132 block5b_expand_conv False\n",
            "133 block5b_expand_bn False\n",
            "134 block5b_expand_activation False\n",
            "135 block5b_dwconv False\n",
            "136 block5b_bn False\n",
            "137 block5b_activation False\n",
            "138 block5b_se_squeeze False\n",
            "139 block5b_se_reshape False\n",
            "140 block5b_se_reduce False\n",
            "141 block5b_se_expand False\n",
            "142 block5b_se_excite False\n",
            "143 block5b_project_conv False\n",
            "144 block5b_project_bn False\n",
            "145 block5b_drop False\n",
            "146 block5b_add False\n",
            "147 block5c_expand_conv False\n",
            "148 block5c_expand_bn False\n",
            "149 block5c_expand_activation False\n",
            "150 block5c_dwconv False\n",
            "151 block5c_bn False\n",
            "152 block5c_activation False\n",
            "153 block5c_se_squeeze False\n",
            "154 block5c_se_reshape False\n",
            "155 block5c_se_reduce False\n",
            "156 block5c_se_expand False\n",
            "157 block5c_se_excite False\n",
            "158 block5c_project_conv False\n",
            "159 block5c_project_bn False\n",
            "160 block5c_drop False\n",
            "161 block5c_add False\n",
            "162 block6a_expand_conv False\n",
            "163 block6a_expand_bn False\n",
            "164 block6a_expand_activation False\n",
            "165 block6a_dwconv_pad False\n",
            "166 block6a_dwconv False\n",
            "167 block6a_bn False\n",
            "168 block6a_activation False\n",
            "169 block6a_se_squeeze False\n",
            "170 block6a_se_reshape False\n",
            "171 block6a_se_reduce False\n",
            "172 block6a_se_expand False\n",
            "173 block6a_se_excite False\n",
            "174 block6a_project_conv False\n",
            "175 block6a_project_bn False\n",
            "176 block6b_expand_conv False\n",
            "177 block6b_expand_bn False\n",
            "178 block6b_expand_activation False\n",
            "179 block6b_dwconv False\n",
            "180 block6b_bn False\n",
            "181 block6b_activation False\n",
            "182 block6b_se_squeeze False\n",
            "183 block6b_se_reshape False\n",
            "184 block6b_se_reduce False\n",
            "185 block6b_se_expand False\n",
            "186 block6b_se_excite False\n",
            "187 block6b_project_conv False\n",
            "188 block6b_project_bn False\n",
            "189 block6b_drop False\n",
            "190 block6b_add False\n",
            "191 block6c_expand_conv False\n",
            "192 block6c_expand_bn False\n",
            "193 block6c_expand_activation False\n",
            "194 block6c_dwconv False\n",
            "195 block6c_bn False\n",
            "196 block6c_activation False\n",
            "197 block6c_se_squeeze False\n",
            "198 block6c_se_reshape False\n",
            "199 block6c_se_reduce False\n",
            "200 block6c_se_expand False\n",
            "201 block6c_se_excite False\n",
            "202 block6c_project_conv False\n",
            "203 block6c_project_bn False\n",
            "204 block6c_drop False\n",
            "205 block6c_add False\n",
            "206 block6d_expand_conv False\n",
            "207 block6d_expand_bn False\n",
            "208 block6d_expand_activation False\n",
            "209 block6d_dwconv False\n",
            "210 block6d_bn False\n",
            "211 block6d_activation False\n",
            "212 block6d_se_squeeze False\n",
            "213 block6d_se_reshape False\n",
            "214 block6d_se_reduce False\n",
            "215 block6d_se_expand False\n",
            "216 block6d_se_excite False\n",
            "217 block6d_project_conv False\n",
            "218 block6d_project_bn False\n",
            "219 block6d_drop False\n",
            "220 block6d_add False\n",
            "221 block7a_expand_conv False\n",
            "222 block7a_expand_bn False\n",
            "223 block7a_expand_activation False\n",
            "224 block7a_dwconv False\n",
            "225 block7a_bn False\n",
            "226 block7a_activation False\n",
            "227 block7a_se_squeeze True\n",
            "228 block7a_se_reshape True\n",
            "229 block7a_se_reduce True\n",
            "230 block7a_se_expand True\n",
            "231 block7a_se_excite True\n",
            "232 block7a_project_conv True\n",
            "233 block7a_project_bn True\n",
            "234 top_conv True\n",
            "235 top_bn True\n",
            "236 top_activation True\n"
          ],
          "name": "stdout"
        }
      ]
    },
    {
      "cell_type": "code",
      "metadata": {
        "colab": {
          "base_uri": "https://localhost:8080/"
        },
        "id": "7MLsTm3NU9Tu",
        "outputId": "65b9d16d-ae79-458d-a61e-e0ff69ba7f22"
      },
      "source": [
        "# Now we've unfrozen some of the layers closer to the top, how many trainable variables are there?\n",
        "print(len(base_model.trainable_variables))\n",
        "print(len(model_2.trainable_variables))"
      ],
      "execution_count": 158,
      "outputs": [
        {
          "output_type": "stream",
          "text": [
            "10\n",
            "12\n"
          ],
          "name": "stdout"
        }
      ]
    },
    {
      "cell_type": "code",
      "metadata": {
        "colab": {
          "base_uri": "https://localhost:8080/"
        },
        "id": "rj4JXWrDYe-i",
        "outputId": "6d193e4e-3b52-47aa-999e-de26967b99f9"
      },
      "source": [
        "for layer in model_2.layers:\n",
        "  print(layer, layer.trainable)"
      ],
      "execution_count": 156,
      "outputs": [
        {
          "output_type": "stream",
          "text": [
            "<tensorflow.python.keras.engine.input_layer.InputLayer object at 0x7fa5a86ea850> True\n",
            "<tensorflow.python.keras.engine.sequential.Sequential object at 0x7fa52774dd10> True\n",
            "<tensorflow.python.keras.engine.functional.Functional object at 0x7fa526b570d0> True\n",
            "<tensorflow.python.keras.layers.pooling.GlobalAveragePooling2D object at 0x7fa526b99c10> True\n",
            "<tensorflow.python.keras.layers.core.Dense object at 0x7fa526b69150> True\n"
          ],
          "name": "stdout"
        }
      ]
    },
    {
      "cell_type": "code",
      "metadata": {
        "colab": {
          "base_uri": "https://localhost:8080/"
        },
        "id": "pL4soLGCfFmz",
        "outputId": "bd270fc2-c40e-4027-c2e9-0ac20169b263"
      },
      "source": [
        "# Refit the model (same as model_2 except with more trainable layers)\n",
        "history_fine_tune_10_percent_data_aug = model_2.fit(train_data_10_percent,\n",
        "                                                    epochs = 10,\n",
        "                                                    steps_per_epoch=len(train_data_10_percent),\n",
        "                                                    validation_data=test_data,\n",
        "                                                    validation_steps=int(0.25*len(test_data)),\n",
        "                                                    initial_epoch = history_2_10_percent_cb.epoch[-1], # start training from previous last epoch\n",
        "                                                    callbacks=[create_tensorboard_callback(dir_name=\"TensorBoard\",\n",
        "                                                                                           experiment_name=\"Model_3\")])"
      ],
      "execution_count": 163,
      "outputs": [
        {
          "output_type": "stream",
          "text": [
            "Saving TensorBoard log files to: Tensorboard/Model_3/20210728-193844\n",
            "Epoch 5/10\n"
          ],
          "name": "stdout"
        },
        {
          "output_type": "stream",
          "text": [
            "/usr/local/lib/python3.7/dist-packages/tensorflow/python/keras/utils/generic_utils.py:497: CustomMaskWarning: Custom mask layers require a config and must override get_config. When loading, the custom mask layer must be passed to the custom_objects argument.\n",
            "  category=CustomMaskWarning)\n"
          ],
          "name": "stderr"
        },
        {
          "output_type": "stream",
          "text": [
            "24/24 [==============================] - 13s 509ms/step - loss: 0.3762 - accuracy: 0.8787 - val_loss: 0.4574 - val_accuracy: 0.8355\n",
            "Epoch 6/10\n",
            "24/24 [==============================] - 14s 539ms/step - loss: 0.3346 - accuracy: 0.9000 - val_loss: 0.4893 - val_accuracy: 0.8438\n",
            "Epoch 7/10\n",
            "24/24 [==============================] - 12s 494ms/step - loss: 0.2991 - accuracy: 0.9133 - val_loss: 0.4372 - val_accuracy: 0.8470\n",
            "Epoch 8/10\n",
            "24/24 [==============================] - 11s 452ms/step - loss: 0.2694 - accuracy: 0.9213 - val_loss: 0.4557 - val_accuracy: 0.8372\n",
            "Epoch 9/10\n",
            "24/24 [==============================] - 13s 524ms/step - loss: 0.2275 - accuracy: 0.9387 - val_loss: 0.4404 - val_accuracy: 0.8618\n",
            "Epoch 10/10\n",
            "24/24 [==============================] - 11s 421ms/step - loss: 0.2139 - accuracy: 0.9453 - val_loss: 0.4102 - val_accuracy: 0.8503\n"
          ],
          "name": "stdout"
        }
      ]
    },
    {
      "cell_type": "code",
      "metadata": {
        "colab": {
          "base_uri": "https://localhost:8080/"
        },
        "id": "waTIWrGMmXHJ",
        "outputId": "742ca52d-5b0e-44df-bd8c-e4a0cdb62c3c"
      },
      "source": [
        "# Evaluate the fine-tuned model (model_3 which is actually model_2 fine-tuned for another 5 epochs)\n",
        "results_fine_tuned_10_percent = model_2.evaluate(test_data)"
      ],
      "execution_count": 164,
      "outputs": [
        {
          "output_type": "stream",
          "text": [
            "79/79 [==============================] - 16s 185ms/step - loss: 0.5077 - accuracy: 0.8348\n"
          ],
          "name": "stdout"
        }
      ]
    },
    {
      "cell_type": "code",
      "metadata": {
        "colab": {
          "base_uri": "https://localhost:8080/"
        },
        "id": "CgF-xudvmay2",
        "outputId": "6a6d600c-9d2a-4a4f-e038-531f1f399ed7"
      },
      "source": [
        "results_10_percent_data_aug"
      ],
      "execution_count": 165,
      "outputs": [
        {
          "output_type": "execute_result",
          "data": {
            "text/plain": [
              "[0.5647730827331543, 0.8271999955177307]"
            ]
          },
          "metadata": {
            "tags": []
          },
          "execution_count": 165
        }
      ]
    },
    {
      "cell_type": "code",
      "metadata": {
        "colab": {
          "base_uri": "https://localhost:8080/",
          "height": 573
        },
        "id": "iPelkdu-pPTH",
        "outputId": "54dad663-163d-46fd-92bd-53611b4b7aca"
      },
      "source": [
        "# Check out the loss curves of our fine-tuned model\n",
        "plot_loss_curves(history_fine_tune_10_percent_data_aug)\n",
        "\n",
        "\n",
        "# Epochs :\n",
        "# 0 -> 5 (initial_epoch)\n",
        "# 1 -> 6\n",
        "# 2 -> 7\n",
        "# 3 -> 8\n",
        "# 4 -> 9\n",
        "# 5 -> 10\n"
      ],
      "execution_count": 168,
      "outputs": [
        {
          "output_type": "display_data",
          "data": {
            "image/png": "[encoded data removed]",
            "text/plain": [
              "<Figure size 432x288 with 1 Axes>"
            ]
          },
          "metadata": {
            "tags": [],
            "needs_background": "light"
          }
        },
        {
          "output_type": "display_data",
          "data": {
            "image/png": "[encoded data removed]",
            "text/plain": [
              "<Figure size 432x288 with 1 Axes>"
            ]
          },
          "metadata": {
            "tags": [],
            "needs_background": "light"
          }
        }
      ]
    },
    {
      "cell_type": "markdown",
      "metadata": {
        "id": "YFE5WJvluV5x"
      },
      "source": [
        "The `plot_loss_curves` function works great with models which have only been fit once, however, we want something to compare one series of running `fit()` with another (e.g. before and after fine-tuning)."
      ]
    },
    {
      "cell_type": "code",
      "metadata": {
        "id": "Ostpx3Cmtjte"
      },
      "source": [
        "# Let's create a function to compare training histories\n",
        "def compare_histories(original_history, new_history, initial_epochs=5):\n",
        "  \"\"\"\n",
        "  Compares two TensorFlow History objects.\n",
        "  \"\"\"\n",
        "  # Get original history measurements\n",
        "  acc = original_history.history[\"accuracy\"]\n",
        "  loss = original_history.history[\"loss\"]\n",
        "\n",
        "  val_acc = original_history.history[\"val_accuracy\"]\n",
        "  val_loss = original_history.history[\"val_loss\"]\n",
        "\n",
        "  # Combine original history\n",
        "  total_acc = acc + new_history.history['accuracy']\n",
        "  total_loss = loss + new_history.history['loss']\n",
        "\n",
        "  total_val_acc = val_acc + new_history.history[\"val_accuracy\"]\n",
        "  total_val_loss = val_loss + new_history.history[\"val_loss\"]\n",
        "  \n",
        "  # Make plots\n",
        "  plt.figure(figsize=(10,7))\n",
        "  plt.subplot(2,1,1)\n",
        "  plt.plot(total_acc, label=\"Training Accuracy\")\n",
        "  plt.plot(total_val_acc, label=\"Val Accuracy\")\n",
        "  plt.plot([initial_epochs-1, initial_epochs-1],plt.ylim(),label=\"Start Fine Tuning\")\n",
        "  plt.legend(loc=\"upper left\")\n",
        "  plt.title(\"Training and validation Accuracy\")\n",
        "\n",
        "  # Plot loss\n",
        "  plt.figure(figsize=(10,7))\n",
        "  plt.subplot(2,1,2)\n",
        "  plt.plot(total_loss, label=\"Training Loss\")\n",
        "  plt.plot(total_val_loss, label=\"Val Loss\")\n",
        "  plt.plot([initial_epochs-1, initial_epochs-1],plt.ylim(),label=\"Start Fine Tuning\")\n",
        "  plt.legend(loc=\"upper right\")\n",
        "  plt.title(\"Training and validation Loss\")"
      ],
      "execution_count": 222,
      "outputs": []
    },
    {
      "cell_type": "code",
      "metadata": {
        "colab": {
          "base_uri": "https://localhost:8080/",
          "height": 457
        },
        "id": "FoMjSQabwYgf",
        "outputId": "5d3582b1-c966-40f2-da61-855f9224c2b4"
      },
      "source": [
        "compare_histories(history_2_10_percent_cb, history_fine_tune_10_percent_data_aug)"
      ],
      "execution_count": 223,
      "outputs": [
        {
          "output_type": "display_data",
          "data": {
            "image/png": "[encoded data removed]",
            "text/plain": [
              "<Figure size 720x504 with 1 Axes>"
            ]
          },
          "metadata": {
            "tags": [],
            "needs_background": "light"
          }
        },
        {
          "output_type": "display_data",
          "data": {
            "image/png": "[encoded data removed]",
            "text/plain": [
              "<Figure size 720x504 with 1 Axes>"
            ]
          },
          "metadata": {
            "tags": [],
            "needs_background": "light"
          }
        }
      ]
    }
  ]
}