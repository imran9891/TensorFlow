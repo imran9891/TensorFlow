{
  "nbformat": 4,
  "nbformat_minor": 0,
  "metadata": {
    "colab": {
      "name": "10_time_series_forecasing_with_tensorflow.ipynb",
      "provenance": [],
      "collapsed_sections": [],
      "mount_file_id": "1fWefpK76_cj79fgj3Xopi46p7KiYTf4s",
      "authorship_tag": "ABX9TyNCSYb3vYHf4YigZXgWT1qV",
      "include_colab_link": true
    },
    "kernelspec": {
      "name": "python3",
      "display_name": "Python 3"
    },
    "language_info": {
      "name": "python"
    }
  },
  "cells": [
    {
      "cell_type": "markdown",
      "metadata": {
        "id": "view-in-github",
        "colab_type": "text"
      },
      "source": [
        "<a href=\"https://colab.research.google.com/github/imran9891/TensorFlow/blob/main/10_time_series_forecasing_with_tensorflow.ipynb\" target=\"_parent\"><img src=\"https://colab.research.google.com/assets/colab-badge.svg\" alt=\"Open In Colab\"/></a>"
      ]
    },
    {
      "cell_type": "markdown",
      "metadata": {
        "id": "w7pznPtz1MNS"
      },
      "source": [
        "# Time series forecasting with TensorFlow + Milestone Project 3: BitPredict\n",
        "\n",
        "Let's write some TensorFlow code to predict the price of Bitcoin based on the historical price of Bitcoin.\n",
        "\n",
        "**Note:** This is not a financial advice."
      ]
    },
    {
      "cell_type": "markdown",
      "metadata": {
        "id": "j66RWSQo4SoG"
      },
      "source": [
        "## Get data\n",
        "\n",
        "We're going to be using the historical price data of Bitcoin to try and predict the future price of Bitcoin, we downloaded the data from here: https://www.coindesk.com/price/bitcoin/\n",
        "\n",
        "### Importing time series data with pandas"
      ]
    },
    {
      "cell_type": "code",
      "metadata": {
        "colab": {
          "base_uri": "https://localhost:8080/",
          "height": 235
        },
        "id": "-ZeaoEmk5J7F",
        "outputId": "6ba16c09-e69e-4d2d-ca8a-fcc3fa58db8e"
      },
      "source": [
        "# Import with pandas \n",
        "import pandas as pd\n",
        "# Let's read in our Bitcoin data and parse the dates\n",
        "df = pd.read_csv(\"drive/MyDrive/Bitcoin/BTC_data.csv\",parse_dates=[\"Date\"],index_col=[\"Date\"])\n",
        "df.head()"
      ],
      "execution_count": 1,
      "outputs": [
        {
          "output_type": "execute_result",
          "data": {
            "text/html": [
              "<div>\n",
              "<style scoped>\n",
              "    .dataframe tbody tr th:only-of-type {\n",
              "        vertical-align: middle;\n",
              "    }\n",
              "\n",
              "    .dataframe tbody tr th {\n",
              "        vertical-align: top;\n",
              "    }\n",
              "\n",
              "    .dataframe thead th {\n",
              "        text-align: right;\n",
              "    }\n",
              "</style>\n",
              "<table border=\"1\" class=\"dataframe\">\n",
              "  <thead>\n",
              "    <tr style=\"text-align: right;\">\n",
              "      <th></th>\n",
              "      <th>Currency</th>\n",
              "      <th>Closing Price (USD)</th>\n",
              "      <th>24h Open (USD)</th>\n",
              "      <th>24h High (USD)</th>\n",
              "      <th>24h Low (USD)</th>\n",
              "    </tr>\n",
              "    <tr>\n",
              "      <th>Date</th>\n",
              "      <th></th>\n",
              "      <th></th>\n",
              "      <th></th>\n",
              "      <th></th>\n",
              "      <th></th>\n",
              "    </tr>\n",
              "  </thead>\n",
              "  <tbody>\n",
              "    <tr>\n",
              "      <th>2014-11-03</th>\n",
              "      <td>BTC</td>\n",
              "      <td>331.60083</td>\n",
              "      <td>325.22633</td>\n",
              "      <td>333.75983</td>\n",
              "      <td>319.04350</td>\n",
              "    </tr>\n",
              "    <tr>\n",
              "      <th>2014-11-04</th>\n",
              "      <td>BTC</td>\n",
              "      <td>324.71833</td>\n",
              "      <td>331.60083</td>\n",
              "      <td>332.75133</td>\n",
              "      <td>323.06333</td>\n",
              "    </tr>\n",
              "    <tr>\n",
              "      <th>2014-11-05</th>\n",
              "      <td>BTC</td>\n",
              "      <td>332.45666</td>\n",
              "      <td>324.71833</td>\n",
              "      <td>335.81166</td>\n",
              "      <td>320.93333</td>\n",
              "    </tr>\n",
              "    <tr>\n",
              "      <th>2014-11-06</th>\n",
              "      <td>BTC</td>\n",
              "      <td>336.58500</td>\n",
              "      <td>332.45666</td>\n",
              "      <td>341.49000</td>\n",
              "      <td>328.56166</td>\n",
              "    </tr>\n",
              "    <tr>\n",
              "      <th>2014-11-07</th>\n",
              "      <td>BTC</td>\n",
              "      <td>346.77500</td>\n",
              "      <td>336.58500</td>\n",
              "      <td>351.57500</td>\n",
              "      <td>336.02833</td>\n",
              "    </tr>\n",
              "  </tbody>\n",
              "</table>\n",
              "</div>"
            ],
            "text/plain": [
              "           Currency  Closing Price (USD)  ...  24h High (USD)  24h Low (USD)\n",
              "Date                                      ...                               \n",
              "2014-11-03      BTC            331.60083  ...       333.75983      319.04350\n",
              "2014-11-04      BTC            324.71833  ...       332.75133      323.06333\n",
              "2014-11-05      BTC            332.45666  ...       335.81166      320.93333\n",
              "2014-11-06      BTC            336.58500  ...       341.49000      328.56166\n",
              "2014-11-07      BTC            346.77500  ...       351.57500      336.02833\n",
              "\n",
              "[5 rows x 5 columns]"
            ]
          },
          "metadata": {},
          "execution_count": 1
        }
      ]
    },
    {
      "cell_type": "code",
      "metadata": {
        "colab": {
          "base_uri": "https://localhost:8080/",
          "height": 235
        },
        "id": "BPiKTwyJ6WSM",
        "outputId": "a6913fe1-6a67-40b5-87d7-5470ba12c3fb"
      },
      "source": [
        "df.tail()"
      ],
      "execution_count": 2,
      "outputs": [
        {
          "output_type": "execute_result",
          "data": {
            "text/html": [
              "<div>\n",
              "<style scoped>\n",
              "    .dataframe tbody tr th:only-of-type {\n",
              "        vertical-align: middle;\n",
              "    }\n",
              "\n",
              "    .dataframe tbody tr th {\n",
              "        vertical-align: top;\n",
              "    }\n",
              "\n",
              "    .dataframe thead th {\n",
              "        text-align: right;\n",
              "    }\n",
              "</style>\n",
              "<table border=\"1\" class=\"dataframe\">\n",
              "  <thead>\n",
              "    <tr style=\"text-align: right;\">\n",
              "      <th></th>\n",
              "      <th>Currency</th>\n",
              "      <th>Closing Price (USD)</th>\n",
              "      <th>24h Open (USD)</th>\n",
              "      <th>24h High (USD)</th>\n",
              "      <th>24h Low (USD)</th>\n",
              "    </tr>\n",
              "    <tr>\n",
              "      <th>Date</th>\n",
              "      <th></th>\n",
              "      <th></th>\n",
              "      <th></th>\n",
              "      <th></th>\n",
              "      <th></th>\n",
              "    </tr>\n",
              "  </thead>\n",
              "  <tbody>\n",
              "    <tr>\n",
              "      <th>2021-09-03</th>\n",
              "      <td>BTC</td>\n",
              "      <td>49725.532134</td>\n",
              "      <td>48834.363592</td>\n",
              "      <td>50344.664659</td>\n",
              "      <td>48619.469617</td>\n",
              "    </tr>\n",
              "    <tr>\n",
              "      <th>2021-09-04</th>\n",
              "      <td>BTC</td>\n",
              "      <td>49709.611994</td>\n",
              "      <td>49274.784115</td>\n",
              "      <td>51016.027011</td>\n",
              "      <td>48364.226963</td>\n",
              "    </tr>\n",
              "    <tr>\n",
              "      <th>2021-09-05</th>\n",
              "      <td>BTC</td>\n",
              "      <td>49999.555579</td>\n",
              "      <td>50012.441556</td>\n",
              "      <td>50558.733515</td>\n",
              "      <td>49429.569151</td>\n",
              "    </tr>\n",
              "    <tr>\n",
              "      <th>2021-09-06</th>\n",
              "      <td>BTC</td>\n",
              "      <td>51693.809398</td>\n",
              "      <td>49945.336568</td>\n",
              "      <td>51827.319488</td>\n",
              "      <td>49515.541880</td>\n",
              "    </tr>\n",
              "    <tr>\n",
              "      <th>2021-09-07</th>\n",
              "      <td>BTC</td>\n",
              "      <td>52506.685647</td>\n",
              "      <td>51764.155302</td>\n",
              "      <td>52647.551866</td>\n",
              "      <td>51026.821010</td>\n",
              "    </tr>\n",
              "  </tbody>\n",
              "</table>\n",
              "</div>"
            ],
            "text/plain": [
              "           Currency  Closing Price (USD)  ...  24h High (USD)  24h Low (USD)\n",
              "Date                                      ...                               \n",
              "2021-09-03      BTC         49725.532134  ...    50344.664659   48619.469617\n",
              "2021-09-04      BTC         49709.611994  ...    51016.027011   48364.226963\n",
              "2021-09-05      BTC         49999.555579  ...    50558.733515   49429.569151\n",
              "2021-09-06      BTC         51693.809398  ...    51827.319488   49515.541880\n",
              "2021-09-07      BTC         52506.685647  ...    52647.551866   51026.821010\n",
              "\n",
              "[5 rows x 5 columns]"
            ]
          },
          "metadata": {},
          "execution_count": 2
        }
      ]
    },
    {
      "cell_type": "code",
      "metadata": {
        "colab": {
          "base_uri": "https://localhost:8080/"
        },
        "id": "TJB2vGv86ojg",
        "outputId": "9bfe11df-c0f8-4b6f-d05c-db854973923b"
      },
      "source": [
        "df.info()"
      ],
      "execution_count": 3,
      "outputs": [
        {
          "output_type": "stream",
          "name": "stdout",
          "text": [
            "<class 'pandas.core.frame.DataFrame'>\n",
            "DatetimeIndex: 2500 entries, 2014-11-03 to 2021-09-07\n",
            "Data columns (total 5 columns):\n",
            " #   Column               Non-Null Count  Dtype  \n",
            "---  ------               --------------  -----  \n",
            " 0   Currency             2500 non-null   object \n",
            " 1   Closing Price (USD)  2500 non-null   float64\n",
            " 2   24h Open (USD)       2500 non-null   float64\n",
            " 3   24h High (USD)       2500 non-null   float64\n",
            " 4   24h Low (USD)        2500 non-null   float64\n",
            "dtypes: float64(4), object(1)\n",
            "memory usage: 117.2+ KB\n"
          ]
        }
      ]
    },
    {
      "cell_type": "code",
      "metadata": {
        "colab": {
          "base_uri": "https://localhost:8080/"
        },
        "id": "ESRbGcoI7htd",
        "outputId": "16437422-8c3d-484f-ccb4-f340b5ae1708"
      },
      "source": [
        "# How many samples do we have?\n",
        "len(df)"
      ],
      "execution_count": 4,
      "outputs": [
        {
          "output_type": "execute_result",
          "data": {
            "text/plain": [
              "2500"
            ]
          },
          "metadata": {},
          "execution_count": 4
        }
      ]
    },
    {
      "cell_type": "markdown",
      "metadata": {
        "id": "wXBnIqq-8F6w"
      },
      "source": [
        "We've collected the historical prices of Bitcoin for the past ~7 years but thers's only 2500 samples.\n",
        "\n",
        "Typically deep learning models usually be like lots and lots of samples (from thousands to tens of thousands to millions).\n",
        "\n",
        "A smaller number of samples is something you'll often run into with time-series data problems.\n",
        "\n",
        "**Note:** The **seasonality** of a time series dataset is referred as the number of samples per year. So for our Bitcoin data, it has a seasonality of daily or value of 365 because we collect one sample per day meaning we'll get 365 samples per year."
      ]
    },
    {
      "cell_type": "markdown",
      "metadata": {
        "id": "JAz6B-9395it"
      },
      "source": [
        "## Time series patterns\n",
        "\n",
        "* **Trend:** Time series has a clear long-term increase or decrease (may or may not be linear)\n",
        "\n",
        "* **Seasonal:** Time series affected by seasonal factors such as time of year (e.g. increased sales towards the end of year) or day of week.\n",
        "\n",
        "* **Cyclic:** Time series shows rises and falls over an unfixed period, these tend to be longer/more variable than seasonal patterns.\n",
        "\n",
        "* **Univariate:** Only one variable (e.g. using the price of the Bitcoin to predict the price of Bitcoin).\n",
        "\n",
        "* **Multivariate:** More than one variable (e.g. using the price of Bitcoin as well as the block reward size to predict the price of Bitcoin)."
      ]
    },
    {
      "cell_type": "code",
      "metadata": {
        "colab": {
          "base_uri": "https://localhost:8080/",
          "height": 235
        },
        "id": "YoPT5Iik9wdG",
        "outputId": "7bb3e0b8-a820-4ad6-b5b8-bf85551a25b5"
      },
      "source": [
        "## Visualize only Date and Closing Price (USD)\n",
        "bitcoin_prices = pd.DataFrame(df[\"Closing Price (USD)\"]).rename(columns={\"Closing Price (USD)\":\"Price\"})\n",
        "bitcoin_prices.head()"
      ],
      "execution_count": 5,
      "outputs": [
        {
          "output_type": "execute_result",
          "data": {
            "text/html": [
              "<div>\n",
              "<style scoped>\n",
              "    .dataframe tbody tr th:only-of-type {\n",
              "        vertical-align: middle;\n",
              "    }\n",
              "\n",
              "    .dataframe tbody tr th {\n",
              "        vertical-align: top;\n",
              "    }\n",
              "\n",
              "    .dataframe thead th {\n",
              "        text-align: right;\n",
              "    }\n",
              "</style>\n",
              "<table border=\"1\" class=\"dataframe\">\n",
              "  <thead>\n",
              "    <tr style=\"text-align: right;\">\n",
              "      <th></th>\n",
              "      <th>Price</th>\n",
              "    </tr>\n",
              "    <tr>\n",
              "      <th>Date</th>\n",
              "      <th></th>\n",
              "    </tr>\n",
              "  </thead>\n",
              "  <tbody>\n",
              "    <tr>\n",
              "      <th>2014-11-03</th>\n",
              "      <td>331.60083</td>\n",
              "    </tr>\n",
              "    <tr>\n",
              "      <th>2014-11-04</th>\n",
              "      <td>324.71833</td>\n",
              "    </tr>\n",
              "    <tr>\n",
              "      <th>2014-11-05</th>\n",
              "      <td>332.45666</td>\n",
              "    </tr>\n",
              "    <tr>\n",
              "      <th>2014-11-06</th>\n",
              "      <td>336.58500</td>\n",
              "    </tr>\n",
              "    <tr>\n",
              "      <th>2014-11-07</th>\n",
              "      <td>346.77500</td>\n",
              "    </tr>\n",
              "  </tbody>\n",
              "</table>\n",
              "</div>"
            ],
            "text/plain": [
              "                Price\n",
              "Date                 \n",
              "2014-11-03  331.60083\n",
              "2014-11-04  324.71833\n",
              "2014-11-05  332.45666\n",
              "2014-11-06  336.58500\n",
              "2014-11-07  346.77500"
            ]
          },
          "metadata": {},
          "execution_count": 5
        }
      ]
    },
    {
      "cell_type": "code",
      "metadata": {
        "colab": {
          "base_uri": "https://localhost:8080/",
          "height": 434
        },
        "id": "hHgeJZt0BHqF",
        "outputId": "40d138dc-5184-4add-b0c4-7fa006054cd6"
      },
      "source": [
        "import matplotlib.pyplot as plt\n",
        "bitcoin_prices.plot(figsize=(10,7))\n",
        "plt.ylabel(\"BTC Price\",fontsize=14)\n",
        "plt.title(\"Price of Bitcoin from 3 Nov 2014 to 7 Sep 2021\",fontsize=16)\n",
        "plt.legend(fontsize=14);\n"
      ],
      "execution_count": 6,
      "outputs": [
        {
          "output_type": "display_data",
          "data": {
            "image/png": "[encoded data removed]",
            "text/plain": [
              "<Figure size 720x504 with 1 Axes>"
            ]
          },
          "metadata": {
            "needs_background": "light"
          }
        }
      ]
    },
    {
      "cell_type": "markdown",
      "metadata": {
        "id": "OanHiOiDBbJq"
      },
      "source": [
        "## Importing time series data with Python's CSV module"
      ]
    },
    {
      "cell_type": "code",
      "metadata": {
        "colab": {
          "base_uri": "https://localhost:8080/"
        },
        "id": "X86CuF9QHxBT",
        "outputId": "b5a93bee-6a4d-40af-d29f-cf7443943b1f"
      },
      "source": [
        "# Importing and formatting historical Bitcoin data with Python\n",
        "import csv\n",
        "import datetime as dt\n",
        "\n",
        "timesteps = []\n",
        "btc_price = []\n",
        "with open(\"drive/MyDrive/Bitcoin/BTC_data.csv\",\"r\") as f:\n",
        "  csv_reader = csv.reader(f, delimiter=\",\")\n",
        "  next(csv_reader) # skip first line (this gets rid of the column titles, the header part)\n",
        "  for line in csv_reader:\n",
        "    timesteps.append(dt.datetime.strptime(line[1], \"%Y-%m-%d\")) # get the dates as dates (not strings)\n",
        "    btc_price.append(float(line[2])) # get the closing price as float\n",
        "\n",
        "# View first 10 of each\n",
        "timesteps[:10],btc_price[:10]"
      ],
      "execution_count": 7,
      "outputs": [
        {
          "output_type": "execute_result",
          "data": {
            "text/plain": [
              "([datetime.datetime(2014, 11, 3, 0, 0),\n",
              "  datetime.datetime(2014, 11, 4, 0, 0),\n",
              "  datetime.datetime(2014, 11, 5, 0, 0),\n",
              "  datetime.datetime(2014, 11, 6, 0, 0),\n",
              "  datetime.datetime(2014, 11, 7, 0, 0),\n",
              "  datetime.datetime(2014, 11, 8, 0, 0),\n",
              "  datetime.datetime(2014, 11, 9, 0, 0),\n",
              "  datetime.datetime(2014, 11, 10, 0, 0),\n",
              "  datetime.datetime(2014, 11, 11, 0, 0),\n",
              "  datetime.datetime(2014, 11, 12, 0, 0)],\n",
              " [331.60083,\n",
              "  324.71833,\n",
              "  332.45666,\n",
              "  336.585,\n",
              "  346.775,\n",
              "  344.81166,\n",
              "  343.065,\n",
              "  358.50166,\n",
              "  368.07666,\n",
              "  376.99666])"
            ]
          },
          "metadata": {},
          "execution_count": 7
        }
      ]
    },
    {
      "cell_type": "code",
      "metadata": {
        "colab": {
          "base_uri": "https://localhost:8080/",
          "height": 460
        },
        "id": "e9Cc6-VZKmHw",
        "outputId": "a3d7b2d4-ccc9-4605-f1ef-e866e589cd32"
      },
      "source": [
        "# Plot from CSV\n",
        "plt.figure(figsize=(10,7))\n",
        "plt.plot(timesteps, btc_price)\n",
        "plt.ylabel(\"BTC Price\")\n",
        "plt.title(\"Price of Bitcoin from 3 Nov 2014 to 7 Sep 2021\",fontsize=16)\n",
        "plt.xlabel(\"Date\");"
      ],
      "execution_count": 8,
      "outputs": [
        {
          "output_type": "display_data",
          "data": {
            "image/png": "[encoded data removed]",
            "text/plain": [
              "<Figure size 720x504 with 1 Axes>"
            ]
          },
          "metadata": {
            "needs_background": "light"
          }
        }
      ]
    },
    {
      "cell_type": "markdown",
      "metadata": {
        "id": "22gyRFYYREze"
      },
      "source": [
        "## Format data part 1: Create train and test sets of our time series data"
      ]
    },
    {
      "cell_type": "markdown",
      "metadata": {
        "id": "bhT7fhdEQJJf"
      },
      "source": [
        "### Creating train and test sets with time series data (the wrong way)"
      ]
    },
    {
      "cell_type": "code",
      "metadata": {
        "colab": {
          "base_uri": "https://localhost:8080/",
          "height": 235
        },
        "id": "A3kF9eVKRqeY",
        "outputId": "d44f85cd-dd7e-4a32-b878-cae95e945400"
      },
      "source": [
        "bitcoin_prices[:5]"
      ],
      "execution_count": 9,
      "outputs": [
        {
          "output_type": "execute_result",
          "data": {
            "text/html": [
              "<div>\n",
              "<style scoped>\n",
              "    .dataframe tbody tr th:only-of-type {\n",
              "        vertical-align: middle;\n",
              "    }\n",
              "\n",
              "    .dataframe tbody tr th {\n",
              "        vertical-align: top;\n",
              "    }\n",
              "\n",
              "    .dataframe thead th {\n",
              "        text-align: right;\n",
              "    }\n",
              "</style>\n",
              "<table border=\"1\" class=\"dataframe\">\n",
              "  <thead>\n",
              "    <tr style=\"text-align: right;\">\n",
              "      <th></th>\n",
              "      <th>Price</th>\n",
              "    </tr>\n",
              "    <tr>\n",
              "      <th>Date</th>\n",
              "      <th></th>\n",
              "    </tr>\n",
              "  </thead>\n",
              "  <tbody>\n",
              "    <tr>\n",
              "      <th>2014-11-03</th>\n",
              "      <td>331.60083</td>\n",
              "    </tr>\n",
              "    <tr>\n",
              "      <th>2014-11-04</th>\n",
              "      <td>324.71833</td>\n",
              "    </tr>\n",
              "    <tr>\n",
              "      <th>2014-11-05</th>\n",
              "      <td>332.45666</td>\n",
              "    </tr>\n",
              "    <tr>\n",
              "      <th>2014-11-06</th>\n",
              "      <td>336.58500</td>\n",
              "    </tr>\n",
              "    <tr>\n",
              "      <th>2014-11-07</th>\n",
              "      <td>346.77500</td>\n",
              "    </tr>\n",
              "  </tbody>\n",
              "</table>\n",
              "</div>"
            ],
            "text/plain": [
              "                Price\n",
              "Date                 \n",
              "2014-11-03  331.60083\n",
              "2014-11-04  324.71833\n",
              "2014-11-05  332.45666\n",
              "2014-11-06  336.58500\n",
              "2014-11-07  346.77500"
            ]
          },
          "metadata": {},
          "execution_count": 9
        }
      ]
    },
    {
      "cell_type": "code",
      "metadata": {
        "colab": {
          "base_uri": "https://localhost:8080/"
        },
        "id": "lUtiZWSrRSNN",
        "outputId": "9b6f05b7-8e38-438e-f6f2-f732f5ae9c6e"
      },
      "source": [
        "# Get bitcoin date array\n",
        "timesteps = bitcoin_prices.index.to_numpy()\n",
        "prices = bitcoin_prices.Price.to_numpy()\n",
        "\n",
        "timesteps[:10], prices[:10]"
      ],
      "execution_count": 10,
      "outputs": [
        {
          "output_type": "execute_result",
          "data": {
            "text/plain": [
              "(array(['2014-11-03T00:00:00.000000000', '2014-11-04T00:00:00.000000000',\n",
              "        '2014-11-05T00:00:00.000000000', '2014-11-06T00:00:00.000000000',\n",
              "        '2014-11-07T00:00:00.000000000', '2014-11-08T00:00:00.000000000',\n",
              "        '2014-11-09T00:00:00.000000000', '2014-11-10T00:00:00.000000000',\n",
              "        '2014-11-11T00:00:00.000000000', '2014-11-12T00:00:00.000000000'],\n",
              "       dtype='datetime64[ns]'),\n",
              " array([331.60083, 324.71833, 332.45666, 336.585  , 346.775  , 344.81166,\n",
              "        343.065  , 358.50166, 368.07666, 376.99666]))"
            ]
          },
          "metadata": {},
          "execution_count": 10
        }
      ]
    },
    {
      "cell_type": "code",
      "metadata": {
        "colab": {
          "base_uri": "https://localhost:8080/"
        },
        "id": "OKZlL4xHRaRx",
        "outputId": "6ad3bf77-2442-4eef-fde3-8dcad1913724"
      },
      "source": [
        "# Wrong way to make train/test sets for time series data\n",
        "from sklearn.model_selection import train_test_split\n",
        "\n",
        "X_train,X_test,y_train,y_test = train_test_split(timesteps,prices,test_size=0.2,random_state=42)\n",
        "X_train.shape,X_test.shape,y_train.shape,y_test.shape"
      ],
      "execution_count": 11,
      "outputs": [
        {
          "output_type": "execute_result",
          "data": {
            "text/plain": [
              "((2000,), (500,), (2000,), (500,))"
            ]
          },
          "metadata": {},
          "execution_count": 11
        }
      ]
    },
    {
      "cell_type": "code",
      "metadata": {
        "colab": {
          "base_uri": "https://localhost:8080/",
          "height": 442
        },
        "id": "5nqSEMDtSyS9",
        "outputId": "12925d78-662d-4756-929b-f25761568ddd"
      },
      "source": [
        "# Let's plot wrong train and test splits\n",
        "plt.figure(figsize=(10,7))\n",
        "plt.scatter(X_train,y_train,s=5,label=\"Train Data\")\n",
        "plt.scatter(X_test,y_test,s=5,label=\"Test Data\")\n",
        "plt.xlabel(\"Date\")\n",
        "plt.ylabel(\"BTC Price\")\n",
        "plt.legend(fontsize=14);"
      ],
      "execution_count": 12,
      "outputs": [
        {
          "output_type": "display_data",
          "data": {
            "image/png": "[encoded data removed]",
            "text/plain": [
              "<Figure size 720x504 with 1 Axes>"
            ]
          },
          "metadata": {
            "needs_background": "light"
          }
        }
      ]
    },
    {
      "cell_type": "markdown",
      "metadata": {
        "id": "upvmKqt1TW1k"
      },
      "source": [
        "## Create train & test sets for time series (the right way)"
      ]
    },
    {
      "cell_type": "code",
      "metadata": {
        "colab": {
          "base_uri": "https://localhost:8080/"
        },
        "id": "a5mIBOOBUxh7",
        "outputId": "b7c578fe-3349-49d0-b6d6-21250a0ecaf6"
      },
      "source": [
        "# Create train and test splits the right way for time series data\n",
        "split_size = int(0.8 * len(prices)) # 80% train, 20% test -we can change these values as needed\n",
        "\n",
        "# Create train data splits (everything before the split)\n",
        "X_train, y_train = timesteps[:split_size], prices[:split_size]\n",
        "\n",
        "# Create test data splits (everything after the split)\n",
        "X_test, y_test = timesteps[split_size:], prices[split_size:]\n",
        "\n",
        "X_train.shape,X_test.shape,y_train.shape,y_test.shape"
      ],
      "execution_count": 13,
      "outputs": [
        {
          "output_type": "execute_result",
          "data": {
            "text/plain": [
              "((2000,), (500,), (2000,), (500,))"
            ]
          },
          "metadata": {},
          "execution_count": 13
        }
      ]
    },
    {
      "cell_type": "code",
      "metadata": {
        "colab": {
          "base_uri": "https://localhost:8080/",
          "height": 442
        },
        "id": "qjnTcbPXc_Qk",
        "outputId": "0f026b86-e1cc-4b5e-9f8b-05f8a6a28413"
      },
      "source": [
        "# Let's plot right train and test splits\n",
        "plt.figure(figsize=(10,7))\n",
        "plt.scatter(X_train,y_train,s=5,label=\"Train Data\")\n",
        "plt.scatter(X_test,y_test,s=5,label=\"Test Data\")\n",
        "plt.xlabel(\"Date\")\n",
        "plt.ylabel(\"BTC Price\")\n",
        "plt.legend(fontsize=14);"
      ],
      "execution_count": 14,
      "outputs": [
        {
          "output_type": "display_data",
          "data": {
            "image/png": "[encoded data removed]",
            "text/plain": [
              "<Figure size 720x504 with 1 Axes>"
            ]
          },
          "metadata": {
            "needs_background": "light"
          }
        }
      ]
    },
    {
      "cell_type": "markdown",
      "metadata": {
        "id": "bz3GQXnIdpv-"
      },
      "source": [
        "## Create a plotting function\n",
        "\n",
        "Typing plotting code is tedious, let's functionize it."
      ]
    },
    {
      "cell_type": "code",
      "metadata": {
        "id": "anSNuzlge56l"
      },
      "source": [
        "# Create a function to plot time series data\n",
        "def plot_time_series(timesteps, values, format=\".\", start=0, end=None, label=None):\n",
        "  \"\"\"\n",
        "  Plots timesteps (a series of points in time) against values (a series of values accross timesteps)\n",
        "\n",
        "  Parameters\n",
        "  ----------\n",
        "  timesteps: array of timestep values\n",
        "  values: array of values accross time\n",
        "  format: style of plot, default \".\"\n",
        "  start: where to start the plot (setting a value will index from start of timesteps & values)\n",
        "  end: where to end the plot (similar to staet but for the end)\n",
        "  label: label to show on plot about values, default None\n",
        "  \"\"\"\n",
        "\n",
        "  # Plot the series\n",
        "  plt.plot(timesteps[start:end], values[start:end], format, label=label)\n",
        "  plt.xlabel(\"Time\")\n",
        "  plt.ylabel(\"BTC Price\")\n",
        "  if label:\n",
        "    plt.legend(fontsize=14) # make label bigger\n",
        "  plt.grid(True)"
      ],
      "execution_count": 15,
      "outputs": []
    },
    {
      "cell_type": "code",
      "metadata": {
        "colab": {
          "base_uri": "https://localhost:8080/",
          "height": 442
        },
        "id": "mMWKCNwEgt5v",
        "outputId": "c6f1d61e-3e7e-4e21-b41a-83db70196c0f"
      },
      "source": [
        "# Test out plotting function\n",
        "plt.figure(figsize=(10,7))\n",
        "plot_time_series(timesteps=X_train,values=y_train,label=\"Train data\",format=\"-\")\n",
        "plot_time_series(timesteps=X_test,values=y_test,label=\"Test data\",format=\"-\")"
      ],
      "execution_count": 16,
      "outputs": [
        {
          "output_type": "display_data",
          "data": {
            "image/png": "[encoded data removed]",
            "text/plain": [
              "<Figure size 720x504 with 1 Axes>"
            ]
          },
          "metadata": {
            "needs_background": "light"
          }
        }
      ]
    },
    {
      "cell_type": "markdown",
      "metadata": {
        "id": "YeuvbmYFjkrA"
      },
      "source": [
        "## Modelling Experiments\n",
        "\n",
        "We've got some Bitcoin historical data, to model it, let's run a series of modelling experiments and see which model performs best.\n",
        "\n",
        "Terms to be familiar with:\n",
        "* **Horizon:** number of timesteps into the future we're going to predict\n",
        "* **Window size:** number of timesteps we're going to use to predict horizon\n",
        "\n",
        "* Model 0: Naive model (baseline)\n",
        "* Model 1: Dense model, window = 7, horizon = 1\n",
        "* Model 2: Same as model 1, window = 30, horizon = 1\n",
        "* Model 3: Same as model 1, window = 30, horizon = 7\n",
        "* Model 4: Conv1D\n",
        "* Model 5: LSTM\n",
        "* Model 6: Same as model 1 (but with multivariate data)\n",
        "* Model 7: N-BEATS algorithm\n",
        "* Model 8: Ensemble (multiple models stacked together)\n",
        "* Model 9: Future prediction model\n",
        "* Model 10: Same as model 1 (but with turkey data introduced)"
      ]
    },
    {
      "cell_type": "markdown",
      "metadata": {
        "id": "OEE3R8U7h4ei"
      },
      "source": [
        "## Model 0: Naive forecast (baseline)\n",
        "\n",
        "The formula looks like this:\n",
        "\n",
        "$$\\hat{y}_{t} = y_{t-1}$$\n",
        "\n",
        "In English:\n",
        "\n",
        "> The prediction at timestep t (y-hat) is equal to the value at timestep t-1 (previous timestep) ~this is for a horizon of 1."
      ]
    },
    {
      "cell_type": "code",
      "metadata": {
        "colab": {
          "base_uri": "https://localhost:8080/"
        },
        "id": "8rqq7B0tKC_T",
        "outputId": "3c679c31-2ba6-470c-c3c4-42e8f6425d91"
      },
      "source": [
        "y_test[:10], y_test[-10:]"
      ],
      "execution_count": 17,
      "outputs": [
        {
          "output_type": "execute_result",
          "data": {
            "text/plain": [
              "(array([7542.3034007 , 7624.85378592, 7776.50754257, 7761.75878408,\n",
              "        8773.10648796, 8767.67262337, 8853.77448401, 8963.0575578 ,\n",
              "        8904.71381654, 8887.50589259]),\n",
              " array([48768.19008652, 49184.2085095 , 47663.02250108, 46919.51155472,\n",
              "        48487.01118945, 49725.53213449, 49709.61199434, 49999.55557859,\n",
              "        51693.80939808, 52506.68564748]))"
            ]
          },
          "metadata": {},
          "execution_count": 17
        }
      ]
    },
    {
      "cell_type": "code",
      "metadata": {
        "colab": {
          "base_uri": "https://localhost:8080/"
        },
        "id": "Am8rum6lIevv",
        "outputId": "69e60bad-9fca-4bd9-fb50-de8994585083"
      },
      "source": [
        "# Create a naive forecast\n",
        "naive_forecast = y_test[:-1]\n",
        "naive_forecast[:10], naive_forecast[-10:]"
      ],
      "execution_count": 18,
      "outputs": [
        {
          "output_type": "execute_result",
          "data": {
            "text/plain": [
              "(array([7542.3034007 , 7624.85378592, 7776.50754257, 7761.75878408,\n",
              "        8773.10648796, 8767.67262337, 8853.77448401, 8963.0575578 ,\n",
              "        8904.71381654, 8887.50589259]),\n",
              " array([49033.32539607, 48768.19008652, 49184.2085095 , 47663.02250108,\n",
              "        46919.51155472, 48487.01118945, 49725.53213449, 49709.61199434,\n",
              "        49999.55557859, 51693.80939808]))"
            ]
          },
          "metadata": {},
          "execution_count": 18
        }
      ]
    },
    {
      "cell_type": "code",
      "metadata": {
        "colab": {
          "base_uri": "https://localhost:8080/"
        },
        "id": "l5uigENrKvKx",
        "outputId": "9b759440-3a0d-4ee6-988a-951906ab7f3f"
      },
      "source": [
        "len(y_test),len(naive_forecast)"
      ],
      "execution_count": 19,
      "outputs": [
        {
          "output_type": "execute_result",
          "data": {
            "text/plain": [
              "(500, 499)"
            ]
          },
          "metadata": {},
          "execution_count": 19
        }
      ]
    },
    {
      "cell_type": "code",
      "metadata": {
        "colab": {
          "base_uri": "https://localhost:8080/",
          "height": 442
        },
        "id": "TqFWToYLKRRT",
        "outputId": "790e5ff1-0705-488c-f749-580255a9a193"
      },
      "source": [
        "# Plot naive forecast\n",
        "plt.figure(figsize=(10,7))\n",
        "# plot_time_series(timesteps=X_train,values=y_train,label=\"Training data\")\n",
        "plot_time_series(timesteps=X_test,values=y_test,label=\"Testing\")\n",
        "plot_time_series(timesteps=X_test[1:],values=naive_forecast,format=\"-\",label=\"Naive Forecast\")"
      ],
      "execution_count": 20,
      "outputs": [
        {
          "output_type": "display_data",
          "data": {
            "image/png": "[encoded data removed]",
            "text/plain": [
              "<Figure size 720x504 with 1 Axes>"
            ]
          },
          "metadata": {
            "needs_background": "light"
          }
        }
      ]
    },
    {
      "cell_type": "markdown",
      "metadata": {
        "id": "Nm8adqcsMpA0"
      },
      "source": [
        "## Evaluating a time series model \n",
        "\n",
        "Let's look into some evaluation metrics for time series forecasting.\n",
        "\n",
        "What are we doing?\n",
        "\n",
        "We're predicting a number, so that means we have a form of a regression problem.\n",
        "\n",
        "Because we're working on a regression problem, we'll need some regression like metrics.\n",
        "\n",
        "A few common regression metrics (which can also be used for time series forecasting):\n",
        "* MAE - Mean Absolute Error ~ as a great starter metric for any regression problem\n",
        "* MSE - Mean Squared Error ~ when larger errors are more significant than smaller errors\n",
        "* RMSE - Root Mean Squared Error ~ similar to MSE but as interpretable as MAE (RMSE is in same units as target)\n",
        "* MAPE - (Symmetric) Mean Absolute Percentage Error (MAPE/sMAPE) ~ Recommend not to use by Hyndman & Koehler\n",
        "* MASE - Mean Absolute Scaled Error ~ **A scaled error is > 1 if the forecast is worse than the naive and < 1 if the forecast is better than the naive.**\n",
        "\n",
        "For all the above metrics, **lower is better**, for example, an MAE of 0 is better than an MAE of 100.\n",
        "\n",
        "The main thing we're evaluating here is: **how do our model's forecasts (y_pred) compare against the actual values (y_true or ground truth values)?**"
      ]
    },
    {
      "cell_type": "code",
      "metadata": {
        "id": "F0349VD8j60g"
      },
      "source": [
        "import tensorflow as tf"
      ],
      "execution_count": 21,
      "outputs": []
    },
    {
      "cell_type": "code",
      "metadata": {
        "id": "i3Fgeiv_j80S"
      },
      "source": [
        "# MASE implementation\n",
        "def mean_absolute_scaled_error(y_true,y_pred):\n",
        "  \"\"\"\n",
        "  Implement MASE (assuming no seasonality of data).\n",
        "  \"\"\"\n",
        "  mae = tf.reduce_mean(tf.abs(y_pred-y_true))\n",
        "\n",
        "  # Find MAE of naive forecast (no seasonality)\n",
        "  mae_naive_no_season = tf.reduce_mean(tf.abs(y_true[1:] - y_true[:-1])) # our seasonality is 1 day (hence the shift of 1)\n",
        "\n",
        "  return mae/mae_naive_no_season"
      ],
      "execution_count": 22,
      "outputs": []
    },
    {
      "cell_type": "code",
      "metadata": {
        "colab": {
          "base_uri": "https://localhost:8080/"
        },
        "id": "aSUtsjVjoCvh",
        "outputId": "005f6bef-6621-4f9c-9022-b1d1f3903247"
      },
      "source": [
        "mean_absolute_scaled_error(y_true=y_test[1:], y_pred=naive_forecast).numpy()"
      ],
      "execution_count": 23,
      "outputs": [
        {
          "output_type": "execute_result",
          "data": {
            "text/plain": [
              "0.9981955256551214"
            ]
          },
          "metadata": {},
          "execution_count": 23
        }
      ]
    },
    {
      "cell_type": "markdown",
      "metadata": {
        "id": "pwIZscy0sdL-"
      },
      "source": [
        "* Numpy uses generally float64 dtype"
      ]
    },
    {
      "cell_type": "code",
      "metadata": {
        "id": "NkQ5J7XSrGAj"
      },
      "source": [
        "# Create a function to take in model predictions and truth values and return evaluation metrics\n",
        "def evaluate_preds (y_true,y_pred):\n",
        "  # Make sure float32 datatype (for metric calculations)\n",
        "  y_true = tf.cast(y_true, dtype=tf.float32)\n",
        "  y_pred = tf.cast(y_pred, dtype=tf.float32)\n",
        "\n",
        "  # Calculate various evaluation metrics\n",
        "  mae = tf.keras.metrics.mean_absolute_error(y_true,y_pred)\n",
        "  mse = tf.keras.metrics.mean_squared_error(y_true,y_pred)\n",
        "  rmse = mse**0.5\n",
        "  mape = tf.keras.metrics.mean_absolute_percentage_error(y_true,y_pred)\n",
        "  mase = mean_absolute_scaled_error(y_true,y_pred)\n",
        "\n",
        "  return {\"mae\":mae.numpy(),\n",
        "          \"mse\":mse.numpy(),\n",
        "          \"rmse\":rmse.numpy(),\n",
        "          \"mape\":mape.numpy(),\n",
        "          \"mase\":mase.numpy()}"
      ],
      "execution_count": 24,
      "outputs": []
    },
    {
      "cell_type": "code",
      "metadata": {
        "colab": {
          "base_uri": "https://localhost:8080/"
        },
        "id": "WoUN2sSRuOk-",
        "outputId": "b94aec35-8e19-4494-a544-001011441b50"
      },
      "source": [
        "naive_results = evaluate_preds(y_true=y_test[1:],y_pred=naive_forecast)\n",
        "naive_results"
      ],
      "execution_count": 25,
      "outputs": [
        {
          "output_type": "execute_result",
          "data": {
            "text/plain": [
              "{'mae': 827.59515,\n",
              " 'mape': 2.602443,\n",
              " 'mase': 0.9981955,\n",
              " 'mse': 1765166.9,\n",
              " 'rmse': 1328.5958}"
            ]
          },
          "metadata": {},
          "execution_count": 25
        }
      ]
    },
    {
      "cell_type": "code",
      "metadata": {
        "colab": {
          "base_uri": "https://localhost:8080/"
        },
        "id": "Lsyxl5xouho9",
        "outputId": "da135309-6f00-4235-b5ad-b631c8817914"
      },
      "source": [
        "tf.reduce_mean(y_test)"
      ],
      "execution_count": 26,
      "outputs": [
        {
          "output_type": "execute_result",
          "data": {
            "text/plain": [
              "<tf.Tensor: shape=(), dtype=float64, numpy=28468.213863463643>"
            ]
          },
          "metadata": {},
          "execution_count": 26
        }
      ]
    },
    {
      "cell_type": "code",
      "metadata": {
        "colab": {
          "base_uri": "https://localhost:8080/"
        },
        "id": "IBZfydD3vWJr",
        "outputId": "dee9b123-e2eb-427a-a084-fb143d8f30a6"
      },
      "source": [
        "tf.reduce_min(y_test), tf.reduce_max(y_test)"
      ],
      "execution_count": 27,
      "outputs": [
        {
          "output_type": "execute_result",
          "data": {
            "text/plain": [
              "(<tf.Tensor: shape=(), dtype=float64, numpy=7542.303400703199>,\n",
              " <tf.Tensor: shape=(), dtype=float64, numpy=63346.7890351052>)"
            ]
          },
          "metadata": {},
          "execution_count": 27
        }
      ]
    },
    {
      "cell_type": "markdown",
      "metadata": {
        "id": "83vAljzlva-D"
      },
      "source": [
        "## Other models we can use for baselines and for actual forecasts\n",
        "\n",
        "In this notebook, we're focused on TensorFlow and deep learning models.\n",
        "\n",
        "However, there are plenty of other styles of time series forecasting models we may want to experiment with: https://dev.mrdbourke.com/tensorflow-deep-learning/10_time_series_forecasting_in_tensorflow/\n"
      ]
    },
    {
      "cell_type": "markdown",
      "metadata": {
        "id": "7IE0i9cQ9c4o"
      },
      "source": [
        "## Format Data Part 2: Windowing our dataset\n",
        "\n",
        "Why do we window?\n",
        "\n",
        "We window our time series dataset to turn our data into a supervised learning problem.\n",
        "\n",
        "```\n",
        "Windowing for one week\n",
        "[0,1,2,3,4,5,6] -> [7]\n",
        "[1,2,3,4,5,6,7] -> [8]\n",
        "[2,3,4,5,6,7,8] -> [9]\n",
        "```"
      ]
    },
    {
      "cell_type": "code",
      "metadata": {
        "colab": {
          "base_uri": "https://localhost:8080/"
        },
        "id": "YQRTLJLY_ZQP",
        "outputId": "fd4e536b-9879-443e-d68c-47f37370f851"
      },
      "source": [
        "btc_price[:7], btc_price[7]"
      ],
      "execution_count": 28,
      "outputs": [
        {
          "output_type": "execute_result",
          "data": {
            "text/plain": [
              "([331.60083, 324.71833, 332.45666, 336.585, 346.775, 344.81166, 343.065],\n",
              " 358.50166)"
            ]
          },
          "metadata": {},
          "execution_count": 28
        }
      ]
    },
    {
      "cell_type": "code",
      "metadata": {
        "colab": {
          "base_uri": "https://localhost:8080/"
        },
        "id": "lVE5VECq_gBU",
        "outputId": "e1e4c65b-a280-4535-90af-896150d34824"
      },
      "source": [
        "# What we want to do with our bitcoin data\n",
        "print(f\"We want to use: {btc_price[:7]} to predict this: {btc_price[7]}\")"
      ],
      "execution_count": 29,
      "outputs": [
        {
          "output_type": "stream",
          "name": "stdout",
          "text": [
            "We want to use: [331.60083, 324.71833, 332.45666, 336.585, 346.775, 344.81166, 343.065] to predict this: 358.50166\n"
          ]
        }
      ]
    },
    {
      "cell_type": "code",
      "metadata": {
        "id": "0n803PhzAAea"
      },
      "source": [
        "# Let's setup global variables for window and horizon size\n",
        "HORIZON = 1 # predict next one day\n",
        "WINDOW_SIZE = 7 # use the past week of Bitcoin data to make the prediction"
      ],
      "execution_count": 30,
      "outputs": []
    },
    {
      "cell_type": "code",
      "metadata": {
        "id": "77UKKydfAY3f"
      },
      "source": [
        "# Create function to label windowed data\n",
        "def get_labelled_windows(x, horizon=HORIZON):\n",
        "  \"\"\"\n",
        "  Creates labels for windowed dataset.\n",
        "\n",
        "  E.g. if horizon = 1\n",
        "  Input: [0,1,2,3,4,5,6,7] -> Output: ([0,1,2,3,4,5,6],[7])\n",
        "  \"\"\"\n",
        "  return x[:, :-horizon], x[:, -horizon:]"
      ],
      "execution_count": 31,
      "outputs": []
    },
    {
      "cell_type": "code",
      "metadata": {
        "colab": {
          "base_uri": "https://localhost:8080/"
        },
        "id": "J4zB-8ZjDJTF",
        "outputId": "557f381a-fcce-4862-c061-bb9779aff447"
      },
      "source": [
        "# Test out the window labelling function\n",
        "test_window, test_label = get_labelled_windows(tf.expand_dims(tf.range(8),axis=0))\n",
        "print(f\"Window: {tf.squeeze(test_window).numpy()} -> Label: {tf.squeeze(test_label).numpy()}\")"
      ],
      "execution_count": 32,
      "outputs": [
        {
          "output_type": "stream",
          "name": "stdout",
          "text": [
            "Window: [0 1 2 3 4 5 6] -> Label: 7\n"
          ]
        }
      ]
    },
    {
      "cell_type": "markdown",
      "metadata": {
        "id": "KwL_YzuJOls0"
      },
      "source": [
        "We've got a way to label our windowed data.\n",
        "\n",
        "However, this only works on a small scale.\n",
        "\n",
        "We need a way to do the above accross our entire time series.\n",
        "\n",
        "We could do this with Python for loops, however, for large time series, that'd be quite slow.\n",
        "\n",
        "To speed things up, we'll leverage Numpy's array indexing.\n",
        "\n",
        "Our function will:\n",
        "1. Create a window step of specific window size (e.g. [0, 1, 2, 3, 4, 5, 6])\n",
        "2. Use Numpy indexing to create a 2D array of multiple window steps, for example:\n",
        "\n",
        "```\n",
        "[[0, 1, 2, 3, 4, 5, 6]\n",
        "[1, 2, 3, 4, 5, 6, 7]\n",
        "[2, 3, 4, 5, 6, 7, 8]\n",
        "---------------------]\n",
        "```\n",
        "3. Uses the 2D array of multiple window steps (from 2.) to index on a target series (e.g. the historical price of Bitcoin)\n",
        "4. Uses our `get_labelled_windows()` function we created above to turn the window steps into windows with a specified horizon.\n",
        "\n",
        "> **Resources:** The function we're about to create has been adapted from the following article:\n",
        "https://towardsdatascience.com/fast-and-robust-sliding-window-vectorization-with-numpy-3ad950ed62f5"
      ]
    },
    {
      "cell_type": "code",
      "metadata": {
        "id": "mmQdtC-5O8Fl"
      },
      "source": [
        "import numpy as np\n",
        "# Create function to view Numpy arrays as windows\n",
        "def make_windows(x, window_size=WINDOW_SIZE, horizon=HORIZON): \n",
        "  \"\"\"\n",
        "  Turns a 1D array into a 2D array of sequential labelled windows of window_size with horizon size labels.\n",
        "  \"\"\"\n",
        "  # 1. Create a window of specific window size (add the horizon on the end for labelling later)\n",
        "  window_step = np.expand_dims(np.arange(window_size+horizon),axis=0)\n",
        "  \n",
        "  # 2. Create a 2D array of multiple window steps (minus 1 to account for 0 indexing)\n",
        "  window_indexes = window_step + np.expand_dims(np.arange(len(x)-(window_size+horizon-1)),axis=0).T # create 2D array of windows of size window_size\n",
        "  \n",
        "  # 3. Index on the target array (a time series with 2D array of multiple timesteps)\n",
        "  windowed_array = x[window_indexes]\n",
        "  \n",
        "  # 4. Get the labelled windows \n",
        "  windows, labels = get_labelled_windows(x=windowed_array,horizon=horizon)\n",
        "  return windows,labels"
      ],
      "execution_count": 33,
      "outputs": []
    },
    {
      "cell_type": "code",
      "metadata": {
        "colab": {
          "base_uri": "https://localhost:8080/"
        },
        "id": "Ei3eqDDbTd6N",
        "outputId": "477fcd64-0736-4ee1-9c34-50134e080929"
      },
      "source": [
        "full_windows, full_labels = make_windows(prices)\n",
        "len(full_windows), len(full_labels)"
      ],
      "execution_count": 34,
      "outputs": [
        {
          "output_type": "execute_result",
          "data": {
            "text/plain": [
              "(2493, 2493)"
            ]
          },
          "metadata": {},
          "execution_count": 34
        }
      ]
    },
    {
      "cell_type": "code",
      "metadata": {
        "colab": {
          "base_uri": "https://localhost:8080/"
        },
        "id": "Yku51LLzcQHu",
        "outputId": "13cc7030-24ec-4ccc-b792-9743d6718b8f"
      },
      "source": [
        "# View the first 3 windows and horizon\n",
        "for i in range(3):\n",
        "  print(f\"Window: {full_windows[i]} -> Horizon: {full_labels[i]}\")"
      ],
      "execution_count": 35,
      "outputs": [
        {
          "output_type": "stream",
          "name": "stdout",
          "text": [
            "Window: [331.60083 324.71833 332.45666 336.585   346.775   344.81166 343.065  ] -> Horizon: [358.50166]\n",
            "Window: [324.71833 332.45666 336.585   346.775   344.81166 343.065   358.50166] -> Horizon: [368.07666]\n",
            "Window: [332.45666 336.585   346.775   344.81166 343.065   358.50166 368.07666] -> Horizon: [376.99666]\n"
          ]
        }
      ]
    },
    {
      "cell_type": "code",
      "metadata": {
        "colab": {
          "base_uri": "https://localhost:8080/"
        },
        "id": "N2syfUfPcNgo",
        "outputId": "f5ca6d40-10e3-432b-fb65-6291c6a3100f"
      },
      "source": [
        "# View the last 3 windows and horizon\n",
        "for i in range(3):\n",
        "  print(f\"Window: {full_windows[i-3]} -> Horizon: {full_labels[i-3]}\")"
      ],
      "execution_count": 36,
      "outputs": [
        {
          "output_type": "stream",
          "name": "stdout",
          "text": [
            "Window: [48768.19008652 49184.2085095  47663.02250108 46919.51155472\n",
            " 48487.01118945 49725.53213449 49709.61199434] -> Horizon: [49999.55557859]\n",
            "Window: [49184.2085095  47663.02250108 46919.51155472 48487.01118945\n",
            " 49725.53213449 49709.61199434 49999.55557859] -> Horizon: [51693.80939808]\n",
            "Window: [47663.02250108 46919.51155472 48487.01118945 49725.53213449\n",
            " 49709.61199434 49999.55557859 51693.80939808] -> Horizon: [52506.68564748]\n"
          ]
        }
      ]
    },
    {
      "cell_type": "markdown",
      "metadata": {
        "id": "_vVLD23Yhxqc"
      },
      "source": [
        "## Turning windows into training and test sets"
      ]
    },
    {
      "cell_type": "code",
      "metadata": {
        "id": "6zj_NIXkjphn"
      },
      "source": [
        "# Make the train test splits\n",
        "def make_train_test_splits(windows,labels,test_split=0.2):\n",
        "  \"\"\"\n",
        "  Splits matching pairs of windows and labels into train and test splits\n",
        "  \"\"\"\n",
        "  split_size = int(len(windows) * (1-test_split)) # default to 80% train and 20% test\n",
        "  train_windows = windows[:split_size]\n",
        "  train_labels = labels[:split_size]\n",
        "  test_windows = windows[split_size:]\n",
        "  test_labels = labels[split_size:]\n",
        "  return train_windows, test_windows, train_labels, test_labels"
      ],
      "execution_count": 37,
      "outputs": []
    },
    {
      "cell_type": "code",
      "metadata": {
        "colab": {
          "base_uri": "https://localhost:8080/"
        },
        "id": "Rw0ZJkMIjsRK",
        "outputId": "b7d324ba-bd84-42a7-9931-1ffe70d7eac5"
      },
      "source": [
        "# Splitting the windows and labels\n",
        "train_windows, test_windows, train_labels, test_labels = make_train_test_splits(windows=full_windows, labels=full_labels, test_split=0.2)\n",
        "len(train_windows), len(test_windows), len(train_labels), len(test_labels)"
      ],
      "execution_count": 38,
      "outputs": [
        {
          "output_type": "execute_result",
          "data": {
            "text/plain": [
              "(1994, 499, 1994, 499)"
            ]
          },
          "metadata": {},
          "execution_count": 38
        }
      ]
    },
    {
      "cell_type": "code",
      "metadata": {
        "colab": {
          "base_uri": "https://localhost:8080/"
        },
        "id": "pu-NYhclmPA4",
        "outputId": "baab4b3d-b227-47b4-a294-82342ba8d195"
      },
      "source": [
        "train_windows[:5], train_labels[:5]"
      ],
      "execution_count": 39,
      "outputs": [
        {
          "output_type": "execute_result",
          "data": {
            "text/plain": [
              "(array([[331.60083, 324.71833, 332.45666, 336.585  , 346.775  , 344.81166,\n",
              "         343.065  ],\n",
              "        [324.71833, 332.45666, 336.585  , 346.775  , 344.81166, 343.065  ,\n",
              "         358.50166],\n",
              "        [332.45666, 336.585  , 346.775  , 344.81166, 343.065  , 358.50166,\n",
              "         368.07666],\n",
              "        [336.585  , 346.775  , 344.81166, 343.065  , 358.50166, 368.07666,\n",
              "         376.99666],\n",
              "        [346.775  , 344.81166, 343.065  , 358.50166, 368.07666, 376.99666,\n",
              "         442.10666]]), array([[358.50166],\n",
              "        [368.07666],\n",
              "        [376.99666],\n",
              "        [442.10666],\n",
              "        [389.00333]]))"
            ]
          },
          "metadata": {},
          "execution_count": 39
        }
      ]
    },
    {
      "cell_type": "code",
      "metadata": {
        "colab": {
          "base_uri": "https://localhost:8080/"
        },
        "id": "RPM33plsmWMs",
        "outputId": "1484f19d-7025-4206-f7b7-cd8d83cb13c5"
      },
      "source": [
        "# Check to see if train labels are the same (before and after window split)\n",
        "np.array_equal(np.squeeze(train_labels[:-HORIZON]),y_train[WINDOW_SIZE:])"
      ],
      "execution_count": 40,
      "outputs": [
        {
          "output_type": "execute_result",
          "data": {
            "text/plain": [
              "True"
            ]
          },
          "metadata": {},
          "execution_count": 40
        }
      ]
    },
    {
      "cell_type": "markdown",
      "metadata": {
        "id": "_QqZquA4ofmf"
      },
      "source": [
        "## Make a modelling checkpoint callback\n",
        "\n",
        "Because our model's performance will fluctuate from experiment to experiment, we're going to write a model checkpoint so we can compare apples to apples.\n",
        "\n",
        "More specifically, we want to compare each of our model's best performance against the other model's best performances.\n",
        "\n",
        "For example, if our model performs the best on epoch 55 (but we're training for 100 epochs), we want to load and evaluate the model saved on epoch 55.\n",
        "\n"
      ]
    },
    {
      "cell_type": "code",
      "metadata": {
        "id": "63UkgdMJpGmS"
      },
      "source": [
        "import os\n",
        "\n",
        "# Create a function to implement a ModelCheckpoint callback with a specific filename\n",
        "def create_model_checkpoint(model_name, save_path=\"model_experiments\"):\n",
        "  return tf.keras.callbacks.ModelCheckpoint(filepath=os.path.join(save_path,model_name),\n",
        "                                            save_best_only=True)"
      ],
      "execution_count": 45,
      "outputs": []
    },
    {
      "cell_type": "markdown",
      "metadata": {
        "id": "rsjWN0WcMzAs"
      },
      "source": [
        "## Model 1: Dense model (window=7, horizon=1)\n",
        "\n",
        "Our first deep model is going to be a simple dense model:\n",
        "* A single dense layer with 128 hidden units and ReLU\n",
        "* An output layer with linear activation (no activation)\n",
        "* Adam optimizer and MAE loss function\n",
        "* Batch size of 128 (previously we have used 32)\n",
        "* 100 epochs\n",
        "\n",
        "* **Hyperparameters:** values a machine learning practitioner can adjust themselves\n",
        "* **Parameters:** values a model learns on its own"
      ]
    },
    {
      "cell_type": "code",
      "metadata": {
        "colab": {
          "base_uri": "https://localhost:8080/"
        },
        "id": "YAYBVqU-Qv29",
        "outputId": "e8bb5e95-8147-4a04-c46d-3a4a5f63c03c"
      },
      "source": [
        "import tensorflow as tf\n",
        "from tensorflow.keras import layers\n",
        "from tensorflow.keras.optimizers import Adam\n",
        "from tensorflow.keras import Sequential\n",
        "\n",
        "# Set random seed for as reproducible results as possible\n",
        "tf.random.set_seed(42)\n",
        "\n",
        "# Construct the model\n",
        "model_1 = Sequential([\n",
        "  layers.Dense(128, activation=\"relu\"),\n",
        "  layers.Dense(HORIZON,activation=\"linear\")\n",
        "],name=\"model_1_dense\")\n",
        "\n",
        "# Compile the model\n",
        "model_1.compile(\n",
        "    loss = tf.keras.losses.MeanAbsoluteError(),\n",
        "    optimizer = Adam(),\n",
        "    metrics = [\"mae\",\"mse\"]\n",
        ")\n",
        "\n",
        "# Fit the model\n",
        "history_model_1 = model_1.fit(x=train_windows,y=train_labels,\n",
        "                              epochs=100,verbose=1,batch_size=128,\n",
        "                              validation_data=(test_windows,test_labels),\n",
        "                              callbacks=[create_model_checkpoint(model_name=model_1.name)])"
      ],
      "execution_count": 51,
      "outputs": [
        {
          "output_type": "stream",
          "name": "stdout",
          "text": [
            "Epoch 1/100\n",
            "16/16 [==============================] - 1s 19ms/step - loss: 1075.5380 - mae: 1075.5380 - mse: 3475300.5000 - val_loss: 3437.6372 - val_mae: 3437.6372 - val_mse: 22275854.0000\n",
            "INFO:tensorflow:Assets written to: model_experiments/model_1_dense/assets\n",
            "Epoch 2/100\n",
            "16/16 [==============================] - 0s 3ms/step - loss: 340.5405 - mae: 340.5405 - mse: 394173.4688 - val_loss: 1965.5205 - val_mae: 1965.5205 - val_mse: 7630076.5000\n",
            "INFO:tensorflow:Assets written to: model_experiments/model_1_dense/assets\n",
            "Epoch 3/100\n",
            "16/16 [==============================] - 0s 3ms/step - loss: 235.7424 - mae: 235.7424 - mse: 231472.2812 - val_loss: 1557.7600 - val_mae: 1557.7600 - val_mse: 5435897.0000\n",
            "INFO:tensorflow:Assets written to: model_experiments/model_1_dense/assets\n",
            "Epoch 4/100\n",
            "16/16 [==============================] - 0s 3ms/step - loss: 225.4089 - mae: 225.4089 - mse: 212815.9219 - val_loss: 1460.6967 - val_mae: 1460.6967 - val_mse: 4980615.0000\n",
            "INFO:tensorflow:Assets written to: model_experiments/model_1_dense/assets\n",
            "Epoch 5/100\n",
            "16/16 [==============================] - 0s 3ms/step - loss: 216.3324 - mae: 216.3324 - mse: 199023.2812 - val_loss: 1378.9265 - val_mae: 1378.9265 - val_mse: 4638703.0000\n",
            "INFO:tensorflow:Assets written to: model_experiments/model_1_dense/assets\n",
            "Epoch 6/100\n",
            "16/16 [==============================] - 0s 3ms/step - loss: 211.6907 - mae: 211.6907 - mse: 190973.1875 - val_loss: 1356.2898 - val_mae: 1356.2898 - val_mse: 4434485.0000\n",
            "INFO:tensorflow:Assets written to: model_experiments/model_1_dense/assets\n",
            "Epoch 7/100\n",
            "16/16 [==============================] - 0s 3ms/step - loss: 206.3254 - mae: 206.3254 - mse: 184331.1250 - val_loss: 1338.8209 - val_mae: 1338.8209 - val_mse: 4239889.0000\n",
            "INFO:tensorflow:Assets written to: model_experiments/model_1_dense/assets\n",
            "Epoch 8/100\n",
            "16/16 [==============================] - 0s 3ms/step - loss: 201.2187 - mae: 201.2187 - mse: 173817.0000 - val_loss: 1306.8107 - val_mae: 1306.8107 - val_mse: 3964656.0000\n",
            "INFO:tensorflow:Assets written to: model_experiments/model_1_dense/assets\n",
            "Epoch 9/100\n",
            "16/16 [==============================] - 0s 4ms/step - loss: 193.5151 - mae: 193.5151 - mse: 161401.6562 - val_loss: 1209.0176 - val_mae: 1209.0176 - val_mse: 3590406.7500\n",
            "INFO:tensorflow:Assets written to: model_experiments/model_1_dense/assets\n",
            "Epoch 10/100\n",
            "16/16 [==============================] - 0s 3ms/step - loss: 186.6008 - mae: 186.6008 - mse: 152372.5469 - val_loss: 1300.3784 - val_mae: 1300.3784 - val_mse: 3692381.7500\n",
            "Epoch 11/100\n",
            "16/16 [==============================] - 0s 2ms/step - loss: 183.8506 - mae: 183.8506 - mse: 144025.3750 - val_loss: 1177.9008 - val_mae: 1177.9008 - val_mse: 3464475.2500\n",
            "INFO:tensorflow:Assets written to: model_experiments/model_1_dense/assets\n",
            "Epoch 12/100\n",
            "16/16 [==============================] - 0s 2ms/step - loss: 177.2881 - mae: 177.2881 - mse: 138719.7500 - val_loss: 1147.0040 - val_mae: 1147.0040 - val_mse: 3029507.5000\n",
            "INFO:tensorflow:Assets written to: model_experiments/model_1_dense/assets\n",
            "Epoch 13/100\n",
            "16/16 [==============================] - 0s 3ms/step - loss: 172.3490 - mae: 172.3490 - mse: 132580.9688 - val_loss: 1152.4008 - val_mae: 1152.4008 - val_mse: 2967280.5000\n",
            "Epoch 14/100\n",
            "16/16 [==============================] - 0s 3ms/step - loss: 171.0696 - mae: 171.0696 - mse: 131196.3750 - val_loss: 1141.4454 - val_mae: 1141.4454 - val_mse: 2888120.7500\n",
            "INFO:tensorflow:Assets written to: model_experiments/model_1_dense/assets\n",
            "Epoch 15/100\n",
            "16/16 [==============================] - 0s 3ms/step - loss: 164.5090 - mae: 164.5090 - mse: 121563.6797 - val_loss: 1050.3549 - val_mae: 1050.3549 - val_mse: 2641359.5000\n",
            "INFO:tensorflow:Assets written to: model_experiments/model_1_dense/assets\n",
            "Epoch 16/100\n",
            "16/16 [==============================] - 0s 2ms/step - loss: 162.1857 - mae: 162.1857 - mse: 116912.8047 - val_loss: 1077.1665 - val_mae: 1077.1665 - val_mse: 2614986.2500\n",
            "Epoch 17/100\n",
            "16/16 [==============================] - 0s 2ms/step - loss: 160.8060 - mae: 160.8060 - mse: 116347.8984 - val_loss: 1024.9692 - val_mae: 1024.9692 - val_mse: 2459013.7500\n",
            "INFO:tensorflow:Assets written to: model_experiments/model_1_dense/assets\n",
            "Epoch 18/100\n",
            "16/16 [==============================] - 0s 3ms/step - loss: 158.8518 - mae: 158.8518 - mse: 115428.1562 - val_loss: 1047.4790 - val_mae: 1047.4790 - val_mse: 2473954.2500\n",
            "Epoch 19/100\n",
            "16/16 [==============================] - 0s 2ms/step - loss: 158.8535 - mae: 158.8535 - mse: 112511.7188 - val_loss: 1007.0408 - val_mae: 1007.0408 - val_mse: 2349728.5000\n",
            "INFO:tensorflow:Assets written to: model_experiments/model_1_dense/assets\n",
            "Epoch 20/100\n",
            "16/16 [==============================] - 0s 3ms/step - loss: 153.6309 - mae: 153.6309 - mse: 109159.5391 - val_loss: 1007.4773 - val_mae: 1007.4773 - val_mse: 2329938.0000\n",
            "Epoch 21/100\n",
            "16/16 [==============================] - 0s 3ms/step - loss: 153.1443 - mae: 153.1443 - mse: 106526.1328 - val_loss: 987.6705 - val_mae: 987.6705 - val_mse: 2268364.5000\n",
            "INFO:tensorflow:Assets written to: model_experiments/model_1_dense/assets\n",
            "Epoch 22/100\n",
            "16/16 [==============================] - 0s 3ms/step - loss: 149.9762 - mae: 149.9762 - mse: 104500.1406 - val_loss: 1052.4608 - val_mae: 1052.4608 - val_mse: 2442114.2500\n",
            "Epoch 23/100\n",
            "16/16 [==============================] - 0s 3ms/step - loss: 151.9166 - mae: 151.9166 - mse: 105220.5859 - val_loss: 1025.6963 - val_mae: 1025.6963 - val_mse: 2352047.0000\n",
            "Epoch 24/100\n",
            "16/16 [==============================] - 0s 3ms/step - loss: 157.3340 - mae: 157.3340 - mse: 106646.1250 - val_loss: 974.3030 - val_mae: 974.3030 - val_mse: 2202702.5000\n",
            "INFO:tensorflow:Assets written to: model_experiments/model_1_dense/assets\n",
            "Epoch 25/100\n",
            "16/16 [==============================] - 0s 4ms/step - loss: 151.3545 - mae: 151.3545 - mse: 101865.7891 - val_loss: 952.2648 - val_mae: 952.2648 - val_mse: 2146344.7500\n",
            "INFO:tensorflow:Assets written to: model_experiments/model_1_dense/assets\n",
            "Epoch 26/100\n",
            "16/16 [==============================] - 0s 3ms/step - loss: 148.7315 - mae: 148.7315 - mse: 102660.6016 - val_loss: 988.9203 - val_mae: 988.9203 - val_mse: 2231749.5000\n",
            "Epoch 27/100\n",
            "16/16 [==============================] - 0s 4ms/step - loss: 149.3685 - mae: 149.3685 - mse: 101688.9219 - val_loss: 990.0574 - val_mae: 990.0574 - val_mse: 2231938.2500\n",
            "Epoch 28/100\n",
            "16/16 [==============================] - 0s 3ms/step - loss: 146.9868 - mae: 146.9868 - mse: 99318.9375 - val_loss: 922.1734 - val_mae: 922.1734 - val_mse: 2069835.0000\n",
            "INFO:tensorflow:Assets written to: model_experiments/model_1_dense/assets\n",
            "Epoch 29/100\n",
            "16/16 [==============================] - 0s 3ms/step - loss: 145.6966 - mae: 145.6966 - mse: 100813.1484 - val_loss: 963.3752 - val_mae: 963.3752 - val_mse: 2266410.0000\n",
            "Epoch 30/100\n",
            "16/16 [==============================] - 0s 2ms/step - loss: 142.8171 - mae: 142.8171 - mse: 97125.1406 - val_loss: 915.7476 - val_mae: 915.7476 - val_mse: 2042927.6250\n",
            "INFO:tensorflow:Assets written to: model_experiments/model_1_dense/assets\n",
            "Epoch 31/100\n",
            "16/16 [==============================] - 0s 4ms/step - loss: 141.5993 - mae: 141.5993 - mse: 96531.4453 - val_loss: 910.9458 - val_mae: 910.9458 - val_mse: 2028742.3750\n",
            "INFO:tensorflow:Assets written to: model_experiments/model_1_dense/assets\n",
            "Epoch 32/100\n",
            "16/16 [==============================] - 0s 3ms/step - loss: 144.9192 - mae: 144.9192 - mse: 97797.6172 - val_loss: 929.4428 - val_mae: 929.4428 - val_mse: 2131452.2500\n",
            "Epoch 33/100\n",
            "16/16 [==============================] - 0s 4ms/step - loss: 143.1018 - mae: 143.1018 - mse: 97425.1406 - val_loss: 907.6654 - val_mae: 907.6654 - val_mse: 2010609.6250\n",
            "INFO:tensorflow:Assets written to: model_experiments/model_1_dense/assets\n",
            "Epoch 34/100\n",
            "16/16 [==============================] - 0s 4ms/step - loss: 145.2609 - mae: 145.2609 - mse: 96503.8672 - val_loss: 908.2295 - val_mae: 908.2295 - val_mse: 2050983.5000\n",
            "Epoch 35/100\n",
            "16/16 [==============================] - 0s 3ms/step - loss: 143.8937 - mae: 143.8937 - mse: 97425.6719 - val_loss: 953.8276 - val_mae: 953.8276 - val_mse: 2105548.0000\n",
            "Epoch 36/100\n",
            "16/16 [==============================] - 0s 3ms/step - loss: 140.4920 - mae: 140.4920 - mse: 95980.2109 - val_loss: 893.7420 - val_mae: 893.7420 - val_mse: 1979926.6250\n",
            "INFO:tensorflow:Assets written to: model_experiments/model_1_dense/assets\n",
            "Epoch 37/100\n",
            "16/16 [==============================] - 0s 3ms/step - loss: 139.2330 - mae: 139.2330 - mse: 94502.1875 - val_loss: 908.5672 - val_mae: 908.5672 - val_mse: 1994719.6250\n",
            "Epoch 38/100\n",
            "16/16 [==============================] - 0s 3ms/step - loss: 138.7294 - mae: 138.7294 - mse: 93885.3516 - val_loss: 912.2020 - val_mae: 912.2020 - val_mse: 1999603.3750\n",
            "Epoch 39/100\n",
            "16/16 [==============================] - 0s 2ms/step - loss: 139.5165 - mae: 139.5165 - mse: 94061.5234 - val_loss: 956.7286 - val_mae: 956.7286 - val_mse: 2106580.5000\n",
            "Epoch 40/100\n",
            "16/16 [==============================] - 0s 3ms/step - loss: 146.5147 - mae: 146.5147 - mse: 98351.3672 - val_loss: 880.5778 - val_mae: 880.5778 - val_mse: 1947965.8750\n",
            "INFO:tensorflow:Assets written to: model_experiments/model_1_dense/assets\n",
            "Epoch 41/100\n",
            "16/16 [==============================] - 0s 2ms/step - loss: 147.0055 - mae: 147.0055 - mse: 96432.6875 - val_loss: 930.4747 - val_mae: 930.4747 - val_mse: 2033831.0000\n",
            "Epoch 42/100\n",
            "16/16 [==============================] - 0s 3ms/step - loss: 147.2750 - mae: 147.2750 - mse: 97765.0391 - val_loss: 898.5078 - val_mae: 898.5078 - val_mse: 1959103.1250\n",
            "Epoch 43/100\n",
            "16/16 [==============================] - 0s 3ms/step - loss: 142.1126 - mae: 142.1126 - mse: 94685.2969 - val_loss: 894.5146 - val_mae: 894.5146 - val_mse: 1995744.8750\n",
            "Epoch 44/100\n",
            "16/16 [==============================] - 0s 3ms/step - loss: 145.9300 - mae: 145.9300 - mse: 95399.8750 - val_loss: 889.6111 - val_mae: 889.6111 - val_mse: 1979913.7500\n",
            "Epoch 45/100\n",
            "16/16 [==============================] - 0s 3ms/step - loss: 139.1211 - mae: 139.1211 - mse: 91517.2266 - val_loss: 896.5963 - val_mae: 896.5963 - val_mse: 1949702.6250\n",
            "Epoch 46/100\n",
            "16/16 [==============================] - 0s 3ms/step - loss: 140.1608 - mae: 140.1608 - mse: 94007.3750 - val_loss: 885.5280 - val_mae: 885.5280 - val_mse: 1926355.1250\n",
            "Epoch 47/100\n",
            "16/16 [==============================] - 0s 3ms/step - loss: 136.6521 - mae: 136.6521 - mse: 90077.7891 - val_loss: 872.9381 - val_mae: 872.9381 - val_mse: 1927684.2500\n",
            "INFO:tensorflow:Assets written to: model_experiments/model_1_dense/assets\n",
            "Epoch 48/100\n",
            "16/16 [==============================] - 0s 3ms/step - loss: 136.8800 - mae: 136.8800 - mse: 90892.6953 - val_loss: 903.3711 - val_mae: 903.3711 - val_mse: 1959570.7500\n",
            "Epoch 49/100\n",
            "16/16 [==============================] - 0s 2ms/step - loss: 135.8462 - mae: 135.8462 - mse: 91193.2656 - val_loss: 896.0238 - val_mae: 896.0238 - val_mse: 1941802.2500\n",
            "Epoch 50/100\n",
            "16/16 [==============================] - 0s 3ms/step - loss: 136.4782 - mae: 136.4782 - mse: 89943.8125 - val_loss: 884.2527 - val_mae: 884.2527 - val_mse: 1916415.1250\n",
            "Epoch 51/100\n",
            "16/16 [==============================] - 0s 3ms/step - loss: 138.2253 - mae: 138.2253 - mse: 91187.4453 - val_loss: 885.5499 - val_mae: 885.5499 - val_mse: 1917262.5000\n",
            "Epoch 52/100\n",
            "16/16 [==============================] - 0s 3ms/step - loss: 138.1771 - mae: 138.1771 - mse: 90007.0234 - val_loss: 884.2418 - val_mae: 884.2418 - val_mse: 1956077.5000\n",
            "Epoch 53/100\n",
            "16/16 [==============================] - 0s 3ms/step - loss: 136.5021 - mae: 136.5021 - mse: 90527.4297 - val_loss: 859.5220 - val_mae: 859.5220 - val_mse: 1884267.1250\n",
            "INFO:tensorflow:Assets written to: model_experiments/model_1_dense/assets\n",
            "Epoch 54/100\n",
            "16/16 [==============================] - 0s 3ms/step - loss: 137.3813 - mae: 137.3813 - mse: 90156.8672 - val_loss: 865.2886 - val_mae: 865.2886 - val_mse: 1903579.8750\n",
            "Epoch 55/100\n",
            "16/16 [==============================] - 0s 3ms/step - loss: 137.2612 - mae: 137.2612 - mse: 90679.2188 - val_loss: 915.0991 - val_mae: 915.0991 - val_mse: 2039905.8750\n",
            "Epoch 56/100\n",
            "16/16 [==============================] - 0s 3ms/step - loss: 135.0901 - mae: 135.0901 - mse: 88024.9766 - val_loss: 855.6866 - val_mae: 855.6866 - val_mse: 1866461.1250\n",
            "INFO:tensorflow:Assets written to: model_experiments/model_1_dense/assets\n",
            "Epoch 57/100\n",
            "16/16 [==============================] - 0s 3ms/step - loss: 136.0956 - mae: 136.0956 - mse: 88555.4297 - val_loss: 899.8036 - val_mae: 899.8036 - val_mse: 1942792.7500\n",
            "Epoch 58/100\n",
            "16/16 [==============================] - 0s 3ms/step - loss: 134.1327 - mae: 134.1327 - mse: 88454.9531 - val_loss: 856.2852 - val_mae: 856.2852 - val_mse: 1876848.6250\n",
            "Epoch 59/100\n",
            "16/16 [==============================] - 0s 3ms/step - loss: 133.8850 - mae: 133.8850 - mse: 88152.9141 - val_loss: 900.8132 - val_mae: 900.8132 - val_mse: 1944139.1250\n",
            "Epoch 60/100\n",
            "16/16 [==============================] - 0s 3ms/step - loss: 136.2157 - mae: 136.2157 - mse: 90237.1562 - val_loss: 879.6394 - val_mae: 879.6394 - val_mse: 1935242.2500\n",
            "Epoch 61/100\n",
            "16/16 [==============================] - 0s 2ms/step - loss: 135.0283 - mae: 135.0283 - mse: 89387.9609 - val_loss: 893.5257 - val_mae: 893.5257 - val_mse: 1925593.7500\n",
            "Epoch 62/100\n",
            "16/16 [==============================] - 0s 3ms/step - loss: 138.5948 - mae: 138.5948 - mse: 91225.8750 - val_loss: 857.2595 - val_mae: 857.2595 - val_mse: 1878339.5000\n",
            "Epoch 63/100\n",
            "16/16 [==============================] - 0s 3ms/step - loss: 140.1586 - mae: 140.1586 - mse: 91281.1953 - val_loss: 852.8536 - val_mae: 852.8536 - val_mse: 1866536.2500\n",
            "INFO:tensorflow:Assets written to: model_experiments/model_1_dense/assets\n",
            "Epoch 64/100\n",
            "16/16 [==============================] - 0s 3ms/step - loss: 133.0216 - mae: 133.0216 - mse: 87939.1250 - val_loss: 851.5010 - val_mae: 851.5010 - val_mse: 1843031.2500\n",
            "INFO:tensorflow:Assets written to: model_experiments/model_1_dense/assets\n",
            "Epoch 65/100\n",
            "16/16 [==============================] - 0s 3ms/step - loss: 135.1891 - mae: 135.1891 - mse: 89775.2266 - val_loss: 846.9747 - val_mae: 846.9747 - val_mse: 1846288.1250\n",
            "INFO:tensorflow:Assets written to: model_experiments/model_1_dense/assets\n",
            "Epoch 66/100\n",
            "16/16 [==============================] - 0s 3ms/step - loss: 136.1519 - mae: 136.1519 - mse: 88078.1797 - val_loss: 893.4500 - val_mae: 893.4500 - val_mse: 1967983.8750\n",
            "Epoch 67/100\n",
            "16/16 [==============================] - 0s 3ms/step - loss: 135.6817 - mae: 135.6817 - mse: 87799.0859 - val_loss: 880.7923 - val_mae: 880.7923 - val_mse: 1893305.2500\n",
            "Epoch 68/100\n",
            "16/16 [==============================] - 0s 3ms/step - loss: 138.2491 - mae: 138.2491 - mse: 90000.4609 - val_loss: 887.8328 - val_mae: 887.8328 - val_mse: 1951345.1250\n",
            "Epoch 69/100\n",
            "16/16 [==============================] - 0s 3ms/step - loss: 134.1468 - mae: 134.1468 - mse: 86986.5625 - val_loss: 882.1389 - val_mae: 882.1389 - val_mse: 1935337.0000\n",
            "Epoch 70/100\n",
            "16/16 [==============================] - 0s 2ms/step - loss: 134.7581 - mae: 134.7581 - mse: 87782.3828 - val_loss: 895.9905 - val_mae: 895.9905 - val_mse: 1972341.2500\n",
            "Epoch 71/100\n",
            "16/16 [==============================] - 0s 3ms/step - loss: 135.5580 - mae: 135.5580 - mse: 91082.8516 - val_loss: 947.1871 - val_mae: 947.1871 - val_mse: 2060843.6250\n",
            "Epoch 72/100\n",
            "16/16 [==============================] - 0s 3ms/step - loss: 136.6872 - mae: 136.6872 - mse: 88394.5312 - val_loss: 967.1486 - val_mae: 967.1486 - val_mse: 2116432.7500\n",
            "Epoch 73/100\n",
            "16/16 [==============================] - 0s 2ms/step - loss: 136.5734 - mae: 136.5734 - mse: 89097.7266 - val_loss: 852.7668 - val_mae: 852.7668 - val_mse: 1833513.0000\n",
            "Epoch 74/100\n",
            "16/16 [==============================] - 0s 4ms/step - loss: 133.6082 - mae: 133.6082 - mse: 87643.6328 - val_loss: 840.0981 - val_mae: 840.0981 - val_mse: 1822069.2500\n",
            "INFO:tensorflow:Assets written to: model_experiments/model_1_dense/assets\n",
            "Epoch 75/100\n",
            "16/16 [==============================] - 0s 3ms/step - loss: 132.7392 - mae: 132.7392 - mse: 86951.7344 - val_loss: 846.4261 - val_mae: 846.4261 - val_mse: 1822149.2500\n",
            "Epoch 76/100\n",
            "16/16 [==============================] - 0s 3ms/step - loss: 142.2733 - mae: 142.2733 - mse: 93665.4062 - val_loss: 974.2576 - val_mae: 974.2576 - val_mse: 2137260.5000\n",
            "Epoch 77/100\n",
            "16/16 [==============================] - 0s 2ms/step - loss: 135.8268 - mae: 135.8268 - mse: 88887.0859 - val_loss: 841.6423 - val_mae: 841.6423 - val_mse: 1815996.2500\n",
            "Epoch 78/100\n",
            "16/16 [==============================] - 0s 2ms/step - loss: 136.2042 - mae: 136.2042 - mse: 89597.2109 - val_loss: 880.1732 - val_mae: 880.1732 - val_mse: 1929219.3750\n",
            "Epoch 79/100\n",
            "16/16 [==============================] - 0s 3ms/step - loss: 134.4310 - mae: 134.4310 - mse: 87213.4453 - val_loss: 878.4764 - val_mae: 878.4764 - val_mse: 1883746.2500\n",
            "Epoch 80/100\n",
            "16/16 [==============================] - 0s 3ms/step - loss: 135.0442 - mae: 135.0442 - mse: 86794.7188 - val_loss: 876.0788 - val_mae: 876.0788 - val_mse: 1877921.6250\n",
            "Epoch 81/100\n",
            "16/16 [==============================] - 0s 3ms/step - loss: 133.1598 - mae: 133.1598 - mse: 86742.0859 - val_loss: 929.2235 - val_mae: 929.2235 - val_mse: 2012796.1250\n",
            "Epoch 82/100\n",
            "16/16 [==============================] - 0s 3ms/step - loss: 136.5203 - mae: 136.5203 - mse: 89486.3594 - val_loss: 1003.5341 - val_mae: 1003.5341 - val_mse: 2331716.0000\n",
            "Epoch 83/100\n",
            "16/16 [==============================] - 0s 3ms/step - loss: 140.6922 - mae: 140.6922 - mse: 90190.8516 - val_loss: 883.5443 - val_mae: 883.5443 - val_mse: 1937404.6250\n",
            "Epoch 84/100\n",
            "16/16 [==============================] - 0s 3ms/step - loss: 137.8439 - mae: 137.8439 - mse: 89359.6719 - val_loss: 836.5683 - val_mae: 836.5683 - val_mse: 1812476.8750\n",
            "INFO:tensorflow:Assets written to: model_experiments/model_1_dense/assets\n",
            "Epoch 85/100\n",
            "16/16 [==============================] - 0s 3ms/step - loss: 136.1848 - mae: 136.1848 - mse: 90476.5391 - val_loss: 931.3165 - val_mae: 931.3165 - val_mse: 2018030.0000\n",
            "Epoch 86/100\n",
            "16/16 [==============================] - 0s 4ms/step - loss: 133.4709 - mae: 133.4709 - mse: 86703.3281 - val_loss: 859.2621 - val_mae: 859.2621 - val_mse: 1875021.2500\n",
            "Epoch 87/100\n",
            "16/16 [==============================] - 0s 3ms/step - loss: 134.9820 - mae: 134.9820 - mse: 86884.1484 - val_loss: 848.1985 - val_mae: 848.1985 - val_mse: 1846733.5000\n",
            "Epoch 88/100\n",
            "16/16 [==============================] - 0s 3ms/step - loss: 132.9599 - mae: 132.9599 - mse: 86335.0312 - val_loss: 844.7390 - val_mae: 844.7390 - val_mse: 1835873.3750\n",
            "Epoch 89/100\n",
            "16/16 [==============================] - 0s 3ms/step - loss: 133.1128 - mae: 133.1128 - mse: 86865.1719 - val_loss: 834.4005 - val_mae: 834.4005 - val_mse: 1802183.5000\n",
            "INFO:tensorflow:Assets written to: model_experiments/model_1_dense/assets\n",
            "Epoch 90/100\n",
            "16/16 [==============================] - 0s 4ms/step - loss: 131.8441 - mae: 131.8441 - mse: 85418.7578 - val_loss: 837.1389 - val_mae: 837.1389 - val_mse: 1805226.8750\n",
            "Epoch 91/100\n",
            "16/16 [==============================] - 0s 3ms/step - loss: 145.3655 - mae: 145.3655 - mse: 93573.2500 - val_loss: 858.8721 - val_mae: 858.8721 - val_mse: 1840439.7500\n",
            "Epoch 92/100\n",
            "16/16 [==============================] - 0s 3ms/step - loss: 135.2733 - mae: 135.2733 - mse: 88015.0703 - val_loss: 1026.0665 - val_mae: 1026.0665 - val_mse: 2410225.0000\n",
            "Epoch 93/100\n",
            "16/16 [==============================] - 0s 3ms/step - loss: 142.9538 - mae: 142.9538 - mse: 90038.4766 - val_loss: 908.9114 - val_mae: 908.9114 - val_mse: 2007083.8750\n",
            "Epoch 94/100\n",
            "16/16 [==============================] - 0s 3ms/step - loss: 148.7562 - mae: 148.7562 - mse: 97098.1641 - val_loss: 1037.0994 - val_mae: 1037.0994 - val_mse: 2449157.5000\n",
            "Epoch 95/100\n",
            "16/16 [==============================] - 0s 3ms/step - loss: 139.5042 - mae: 139.5042 - mse: 90351.1172 - val_loss: 840.1355 - val_mae: 840.1355 - val_mse: 1807871.5000\n",
            "Epoch 96/100\n",
            "16/16 [==============================] - 0s 3ms/step - loss: 138.4448 - mae: 138.4448 - mse: 89284.4062 - val_loss: 857.8576 - val_mae: 857.8576 - val_mse: 1836146.1250\n",
            "Epoch 97/100\n",
            "16/16 [==============================] - 0s 3ms/step - loss: 132.0308 - mae: 132.0308 - mse: 85729.1562 - val_loss: 845.8348 - val_mae: 845.8348 - val_mse: 1814868.1250\n",
            "Epoch 98/100\n",
            "16/16 [==============================] - 0s 3ms/step - loss: 130.7182 - mae: 130.7182 - mse: 85156.7578 - val_loss: 850.9350 - val_mae: 850.9350 - val_mse: 1822119.2500\n",
            "Epoch 99/100\n",
            "16/16 [==============================] - 0s 3ms/step - loss: 131.2904 - mae: 131.2904 - mse: 85069.3672 - val_loss: 886.9465 - val_mae: 886.9465 - val_mse: 1905571.3750\n",
            "Epoch 100/100\n",
            "16/16 [==============================] - 0s 3ms/step - loss: 135.8625 - mae: 135.8625 - mse: 87961.3906 - val_loss: 841.5276 - val_mae: 841.5276 - val_mse: 1825305.5000\n"
          ]
        }
      ]
    },
    {
      "cell_type": "code",
      "metadata": {
        "colab": {
          "base_uri": "https://localhost:8080/"
        },
        "id": "UKFOwRwGSdZe",
        "outputId": "007ab059-6586-4961-90b2-5f253c5c606e"
      },
      "source": [
        "# Evaluate model on the test data\n",
        "model_1.evaluate(test_windows, test_labels)"
      ],
      "execution_count": 53,
      "outputs": [
        {
          "output_type": "stream",
          "name": "stdout",
          "text": [
            "16/16 [==============================] - 0s 1ms/step - loss: 841.5277 - mae: 841.5277 - mse: 1825305.5000\n"
          ]
        },
        {
          "output_type": "execute_result",
          "data": {
            "text/plain": [
              "[841.5277099609375, 841.5277099609375, 1825305.5]"
            ]
          },
          "metadata": {},
          "execution_count": 53
        }
      ]
    },
    {
      "cell_type": "code",
      "metadata": {
        "colab": {
          "base_uri": "https://localhost:8080/"
        },
        "id": "qlS0WtoEU9VR",
        "outputId": "fe43bdbe-5fe8-46f1-cbef-c7eaddc74e69"
      },
      "source": [
        "# Load in saved best performing model_1 and evaluate it on test data\n",
        "model_1 = tf.keras.models.load_model(\"model_experiments/model_1_dense/\")\n",
        "model_1.evaluate(test_windows,test_labels)"
      ],
      "execution_count": 55,
      "outputs": [
        {
          "output_type": "stream",
          "name": "stdout",
          "text": [
            "16/16 [==============================] - 0s 1ms/step - loss: 834.4005 - mae: 834.4005 - mse: 1802183.6250\n"
          ]
        },
        {
          "output_type": "execute_result",
          "data": {
            "text/plain": [
              "[834.4005126953125, 834.4005126953125, 1802183.625]"
            ]
          },
          "metadata": {},
          "execution_count": 55
        }
      ]
    },
    {
      "cell_type": "code",
      "metadata": {
        "id": "qN_2APxZV1p-"
      },
      "source": [
        ""
      ],
      "execution_count": null,
      "outputs": []
    }
  ]
}