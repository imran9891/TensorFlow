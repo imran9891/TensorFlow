{
  "nbformat": 4,
  "nbformat_minor": 0,
  "metadata": {
    "colab": {
      "name": "10_time_series_forecasing_with_tensorflow.ipynb",
      "provenance": [],
      "mount_file_id": "1fWefpK76_cj79fgj3Xopi46p7KiYTf4s",
      "authorship_tag": "ABX9TyOl/xbMeWlZ1j0rPqZlIwNj",
      "include_colab_link": true
    },
    "kernelspec": {
      "name": "python3",
      "display_name": "Python 3"
    },
    "language_info": {
      "name": "python"
    }
  },
  "cells": [
    {
      "cell_type": "markdown",
      "metadata": {
        "id": "view-in-github",
        "colab_type": "text"
      },
      "source": [
        "<a href=\"https://colab.research.google.com/github/imran9891/TensorFlow/blob/main/10_time_series_forecasing_with_tensorflow.ipynb\" target=\"_parent\"><img src=\"https://colab.research.google.com/assets/colab-badge.svg\" alt=\"Open In Colab\"/></a>"
      ]
    },
    {
      "cell_type": "markdown",
      "metadata": {
        "id": "w7pznPtz1MNS"
      },
      "source": [
        "# Time series forecasting with TensorFlow + Milestone Project 3: BitPredict\n",
        "\n",
        "Let's write some TensorFlow code to predict the price of Bitcoin based on the historical price of Bitcoin.\n",
        "\n",
        "**Note:** This is not a financial advice."
      ]
    },
    {
      "cell_type": "markdown",
      "metadata": {
        "id": "j66RWSQo4SoG"
      },
      "source": [
        "## Get data\n",
        "\n",
        "We're going to be using the historical price data of Bitcoin to try and predict the future price of Bitcoin, we downloaded the data from here: https://www.coindesk.com/price/bitcoin/\n",
        "\n",
        "### Importing time series data with pandas"
      ]
    },
    {
      "cell_type": "code",
      "metadata": {
        "colab": {
          "base_uri": "https://localhost:8080/",
          "height": 235
        },
        "id": "-ZeaoEmk5J7F",
        "outputId": "6334e0cc-d21e-4f82-8be9-93abb2a9f795"
      },
      "source": [
        "# Import with pandas \n",
        "import pandas as pd\n",
        "# Let's read in our Bitcoin data and parse the dates\n",
        "df = pd.read_csv(\"drive/MyDrive/Bitcoin/BTC_data.csv\",parse_dates=[\"Date\"],index_col=[\"Date\"])\n",
        "df.head()"
      ],
      "execution_count": 2,
      "outputs": [
        {
          "output_type": "execute_result",
          "data": {
            "text/html": [
              "<div>\n",
              "<style scoped>\n",
              "    .dataframe tbody tr th:only-of-type {\n",
              "        vertical-align: middle;\n",
              "    }\n",
              "\n",
              "    .dataframe tbody tr th {\n",
              "        vertical-align: top;\n",
              "    }\n",
              "\n",
              "    .dataframe thead th {\n",
              "        text-align: right;\n",
              "    }\n",
              "</style>\n",
              "<table border=\"1\" class=\"dataframe\">\n",
              "  <thead>\n",
              "    <tr style=\"text-align: right;\">\n",
              "      <th></th>\n",
              "      <th>Currency</th>\n",
              "      <th>Closing Price (USD)</th>\n",
              "      <th>24h Open (USD)</th>\n",
              "      <th>24h High (USD)</th>\n",
              "      <th>24h Low (USD)</th>\n",
              "    </tr>\n",
              "    <tr>\n",
              "      <th>Date</th>\n",
              "      <th></th>\n",
              "      <th></th>\n",
              "      <th></th>\n",
              "      <th></th>\n",
              "      <th></th>\n",
              "    </tr>\n",
              "  </thead>\n",
              "  <tbody>\n",
              "    <tr>\n",
              "      <th>2014-11-03</th>\n",
              "      <td>BTC</td>\n",
              "      <td>331.60083</td>\n",
              "      <td>325.22633</td>\n",
              "      <td>333.75983</td>\n",
              "      <td>319.04350</td>\n",
              "    </tr>\n",
              "    <tr>\n",
              "      <th>2014-11-04</th>\n",
              "      <td>BTC</td>\n",
              "      <td>324.71833</td>\n",
              "      <td>331.60083</td>\n",
              "      <td>332.75133</td>\n",
              "      <td>323.06333</td>\n",
              "    </tr>\n",
              "    <tr>\n",
              "      <th>2014-11-05</th>\n",
              "      <td>BTC</td>\n",
              "      <td>332.45666</td>\n",
              "      <td>324.71833</td>\n",
              "      <td>335.81166</td>\n",
              "      <td>320.93333</td>\n",
              "    </tr>\n",
              "    <tr>\n",
              "      <th>2014-11-06</th>\n",
              "      <td>BTC</td>\n",
              "      <td>336.58500</td>\n",
              "      <td>332.45666</td>\n",
              "      <td>341.49000</td>\n",
              "      <td>328.56166</td>\n",
              "    </tr>\n",
              "    <tr>\n",
              "      <th>2014-11-07</th>\n",
              "      <td>BTC</td>\n",
              "      <td>346.77500</td>\n",
              "      <td>336.58500</td>\n",
              "      <td>351.57500</td>\n",
              "      <td>336.02833</td>\n",
              "    </tr>\n",
              "  </tbody>\n",
              "</table>\n",
              "</div>"
            ],
            "text/plain": [
              "           Currency  Closing Price (USD)  ...  24h High (USD)  24h Low (USD)\n",
              "Date                                      ...                               \n",
              "2014-11-03      BTC            331.60083  ...       333.75983      319.04350\n",
              "2014-11-04      BTC            324.71833  ...       332.75133      323.06333\n",
              "2014-11-05      BTC            332.45666  ...       335.81166      320.93333\n",
              "2014-11-06      BTC            336.58500  ...       341.49000      328.56166\n",
              "2014-11-07      BTC            346.77500  ...       351.57500      336.02833\n",
              "\n",
              "[5 rows x 5 columns]"
            ]
          },
          "metadata": {},
          "execution_count": 2
        }
      ]
    },
    {
      "cell_type": "code",
      "metadata": {
        "colab": {
          "base_uri": "https://localhost:8080/",
          "height": 235
        },
        "id": "BPiKTwyJ6WSM",
        "outputId": "7a544b2b-5679-4ddb-84fa-6cbec01dfebf"
      },
      "source": [
        "df.tail()"
      ],
      "execution_count": 3,
      "outputs": [
        {
          "output_type": "execute_result",
          "data": {
            "text/html": [
              "<div>\n",
              "<style scoped>\n",
              "    .dataframe tbody tr th:only-of-type {\n",
              "        vertical-align: middle;\n",
              "    }\n",
              "\n",
              "    .dataframe tbody tr th {\n",
              "        vertical-align: top;\n",
              "    }\n",
              "\n",
              "    .dataframe thead th {\n",
              "        text-align: right;\n",
              "    }\n",
              "</style>\n",
              "<table border=\"1\" class=\"dataframe\">\n",
              "  <thead>\n",
              "    <tr style=\"text-align: right;\">\n",
              "      <th></th>\n",
              "      <th>Currency</th>\n",
              "      <th>Closing Price (USD)</th>\n",
              "      <th>24h Open (USD)</th>\n",
              "      <th>24h High (USD)</th>\n",
              "      <th>24h Low (USD)</th>\n",
              "    </tr>\n",
              "    <tr>\n",
              "      <th>Date</th>\n",
              "      <th></th>\n",
              "      <th></th>\n",
              "      <th></th>\n",
              "      <th></th>\n",
              "      <th></th>\n",
              "    </tr>\n",
              "  </thead>\n",
              "  <tbody>\n",
              "    <tr>\n",
              "      <th>2021-09-03</th>\n",
              "      <td>BTC</td>\n",
              "      <td>49725.532134</td>\n",
              "      <td>48834.363592</td>\n",
              "      <td>50344.664659</td>\n",
              "      <td>48619.469617</td>\n",
              "    </tr>\n",
              "    <tr>\n",
              "      <th>2021-09-04</th>\n",
              "      <td>BTC</td>\n",
              "      <td>49709.611994</td>\n",
              "      <td>49274.784115</td>\n",
              "      <td>51016.027011</td>\n",
              "      <td>48364.226963</td>\n",
              "    </tr>\n",
              "    <tr>\n",
              "      <th>2021-09-05</th>\n",
              "      <td>BTC</td>\n",
              "      <td>49999.555579</td>\n",
              "      <td>50012.441556</td>\n",
              "      <td>50558.733515</td>\n",
              "      <td>49429.569151</td>\n",
              "    </tr>\n",
              "    <tr>\n",
              "      <th>2021-09-06</th>\n",
              "      <td>BTC</td>\n",
              "      <td>51693.809398</td>\n",
              "      <td>49945.336568</td>\n",
              "      <td>51827.319488</td>\n",
              "      <td>49515.541880</td>\n",
              "    </tr>\n",
              "    <tr>\n",
              "      <th>2021-09-07</th>\n",
              "      <td>BTC</td>\n",
              "      <td>52506.685647</td>\n",
              "      <td>51764.155302</td>\n",
              "      <td>52647.551866</td>\n",
              "      <td>51026.821010</td>\n",
              "    </tr>\n",
              "  </tbody>\n",
              "</table>\n",
              "</div>"
            ],
            "text/plain": [
              "           Currency  Closing Price (USD)  ...  24h High (USD)  24h Low (USD)\n",
              "Date                                      ...                               \n",
              "2021-09-03      BTC         49725.532134  ...    50344.664659   48619.469617\n",
              "2021-09-04      BTC         49709.611994  ...    51016.027011   48364.226963\n",
              "2021-09-05      BTC         49999.555579  ...    50558.733515   49429.569151\n",
              "2021-09-06      BTC         51693.809398  ...    51827.319488   49515.541880\n",
              "2021-09-07      BTC         52506.685647  ...    52647.551866   51026.821010\n",
              "\n",
              "[5 rows x 5 columns]"
            ]
          },
          "metadata": {},
          "execution_count": 3
        }
      ]
    },
    {
      "cell_type": "code",
      "metadata": {
        "colab": {
          "base_uri": "https://localhost:8080/"
        },
        "id": "TJB2vGv86ojg",
        "outputId": "e904c235-e60d-4518-d592-0174c8268d6a"
      },
      "source": [
        "df.info()"
      ],
      "execution_count": 4,
      "outputs": [
        {
          "output_type": "stream",
          "name": "stdout",
          "text": [
            "<class 'pandas.core.frame.DataFrame'>\n",
            "DatetimeIndex: 2500 entries, 2014-11-03 to 2021-09-07\n",
            "Data columns (total 5 columns):\n",
            " #   Column               Non-Null Count  Dtype  \n",
            "---  ------               --------------  -----  \n",
            " 0   Currency             2500 non-null   object \n",
            " 1   Closing Price (USD)  2500 non-null   float64\n",
            " 2   24h Open (USD)       2500 non-null   float64\n",
            " 3   24h High (USD)       2500 non-null   float64\n",
            " 4   24h Low (USD)        2500 non-null   float64\n",
            "dtypes: float64(4), object(1)\n",
            "memory usage: 117.2+ KB\n"
          ]
        }
      ]
    },
    {
      "cell_type": "code",
      "metadata": {
        "colab": {
          "base_uri": "https://localhost:8080/"
        },
        "id": "ESRbGcoI7htd",
        "outputId": "b7c2eb83-74fd-43f9-f0ca-4501402e4c90"
      },
      "source": [
        "# How many samples do we have?\n",
        "len(df)"
      ],
      "execution_count": 5,
      "outputs": [
        {
          "output_type": "execute_result",
          "data": {
            "text/plain": [
              "2500"
            ]
          },
          "metadata": {},
          "execution_count": 5
        }
      ]
    },
    {
      "cell_type": "markdown",
      "metadata": {
        "id": "wXBnIqq-8F6w"
      },
      "source": [
        "We've collected the historical prices of Bitcoin for the past ~7 years but thers's only 2500 samples.\n",
        "\n",
        "Typically deep learning models usually be like lots and lots of samples (from thousands to tens of thousands to millions).\n",
        "\n",
        "A smaller number of samples is something you'll often run into with time-series data problems.\n",
        "\n",
        "**Note:** The **seasonality** of a time series dataset is referred as the number of samples per year. So for our Bitcoin data, it has a seasonality of daily or value of 365 because we collect one sample per day meaning we'll get 365 samples per year."
      ]
    },
    {
      "cell_type": "markdown",
      "metadata": {
        "id": "JAz6B-9395it"
      },
      "source": [
        "## Time series patterns\n",
        "\n",
        "* **Trend:** Time series has a clear long-term increase or decrease (may or may not be linear)\n",
        "\n",
        "* **Seasonal:** Time series affected by seasonal factors such as time of year (e.g. increased sales towards the end of year) or day of week.\n",
        "\n",
        "* **Cyclic:** Time series shows rises and falls over an unfixed period, these tend to be longer/more variable than seasonal patterns.\n",
        "\n",
        "* **Univariate:** Only one variable (e.g. using the price of the Bitcoin to predict the price of Bitcoin).\n",
        "\n",
        "* **Multivariate:** More than one variable (e.g. using the price of Bitcoin as well as the block reward size to predict the price of Bitcoin)."
      ]
    },
    {
      "cell_type": "code",
      "metadata": {
        "colab": {
          "base_uri": "https://localhost:8080/",
          "height": 235
        },
        "id": "YoPT5Iik9wdG",
        "outputId": "6b6e5b3a-eb35-416f-c708-c443a245903c"
      },
      "source": [
        "## Visualize only Date and Closing Price (USD)\n",
        "bitcoin_prices = pd.DataFrame(df[\"Closing Price (USD)\"]).rename(columns={\"Closing Price (USD)\":\"Price\"})\n",
        "bitcoin_prices.head()"
      ],
      "execution_count": 9,
      "outputs": [
        {
          "output_type": "execute_result",
          "data": {
            "text/html": [
              "<div>\n",
              "<style scoped>\n",
              "    .dataframe tbody tr th:only-of-type {\n",
              "        vertical-align: middle;\n",
              "    }\n",
              "\n",
              "    .dataframe tbody tr th {\n",
              "        vertical-align: top;\n",
              "    }\n",
              "\n",
              "    .dataframe thead th {\n",
              "        text-align: right;\n",
              "    }\n",
              "</style>\n",
              "<table border=\"1\" class=\"dataframe\">\n",
              "  <thead>\n",
              "    <tr style=\"text-align: right;\">\n",
              "      <th></th>\n",
              "      <th>Price</th>\n",
              "    </tr>\n",
              "    <tr>\n",
              "      <th>Date</th>\n",
              "      <th></th>\n",
              "    </tr>\n",
              "  </thead>\n",
              "  <tbody>\n",
              "    <tr>\n",
              "      <th>2014-11-03</th>\n",
              "      <td>331.60083</td>\n",
              "    </tr>\n",
              "    <tr>\n",
              "      <th>2014-11-04</th>\n",
              "      <td>324.71833</td>\n",
              "    </tr>\n",
              "    <tr>\n",
              "      <th>2014-11-05</th>\n",
              "      <td>332.45666</td>\n",
              "    </tr>\n",
              "    <tr>\n",
              "      <th>2014-11-06</th>\n",
              "      <td>336.58500</td>\n",
              "    </tr>\n",
              "    <tr>\n",
              "      <th>2014-11-07</th>\n",
              "      <td>346.77500</td>\n",
              "    </tr>\n",
              "  </tbody>\n",
              "</table>\n",
              "</div>"
            ],
            "text/plain": [
              "                Price\n",
              "Date                 \n",
              "2014-11-03  331.60083\n",
              "2014-11-04  324.71833\n",
              "2014-11-05  332.45666\n",
              "2014-11-06  336.58500\n",
              "2014-11-07  346.77500"
            ]
          },
          "metadata": {},
          "execution_count": 9
        }
      ]
    },
    {
      "cell_type": "code",
      "metadata": {
        "colab": {
          "base_uri": "https://localhost:8080/",
          "height": 434
        },
        "id": "hHgeJZt0BHqF",
        "outputId": "da77186a-3d9a-4c1e-b934-23a5fea7344b"
      },
      "source": [
        "import matplotlib.pyplot as plt\n",
        "bitcoin_prices.plot(figsize=(10,7))\n",
        "plt.ylabel(\"BTC Price\",fontsize=14)\n",
        "plt.title(\"Price of Bitcoin from 3 Nov 2014 to 7 Sep 2021\",fontsize=16)\n",
        "plt.legend(fontsize=14);\n"
      ],
      "execution_count": 14,
      "outputs": [
        {
          "output_type": "display_data",
          "data": {
            "image/png": "[encoded data removed]",
            "text/plain": [
              "<Figure size 720x504 with 1 Axes>"
            ]
          },
          "metadata": {
            "needs_background": "light"
          }
        }
      ]
    },
    {
      "cell_type": "markdown",
      "metadata": {
        "id": "OanHiOiDBbJq"
      },
      "source": [
        "## Importing time series data with Python's CSV module"
      ]
    },
    {
      "cell_type": "code",
      "metadata": {
        "colab": {
          "base_uri": "https://localhost:8080/"
        },
        "id": "X86CuF9QHxBT",
        "outputId": "15d417a7-c8c0-4399-edce-9cf7676c3e3d"
      },
      "source": [
        "# Importing and formatting historical Bitcoin data with Python\n",
        "import csv\n",
        "import datetime as dt\n",
        "\n",
        "timesteps = []\n",
        "btc_price = []\n",
        "with open(\"drive/MyDrive/Bitcoin/BTC_data.csv\",\"r\") as f:\n",
        "  csv_reader = csv.reader(f, delimiter=\",\")\n",
        "  next(csv_reader) # skip first line (this gets rid of the column titles)\n",
        "  for line in csv_reader:\n",
        "    timesteps.append(dt.datetime.strptime(line[1], \"%Y-%m-%d\")) # get the dates as dates (not strings)\n",
        "    btc_price.append(float(line[2])) # get the closing price as float\n",
        "\n",
        "# View first 10 of each\n",
        "timesteps[:10],btc_price[:10]"
      ],
      "execution_count": 27,
      "outputs": [
        {
          "output_type": "execute_result",
          "data": {
            "text/plain": [
              "([datetime.datetime(2014, 11, 3, 0, 0),\n",
              "  datetime.datetime(2014, 11, 4, 0, 0),\n",
              "  datetime.datetime(2014, 11, 5, 0, 0),\n",
              "  datetime.datetime(2014, 11, 6, 0, 0),\n",
              "  datetime.datetime(2014, 11, 7, 0, 0),\n",
              "  datetime.datetime(2014, 11, 8, 0, 0),\n",
              "  datetime.datetime(2014, 11, 9, 0, 0),\n",
              "  datetime.datetime(2014, 11, 10, 0, 0),\n",
              "  datetime.datetime(2014, 11, 11, 0, 0),\n",
              "  datetime.datetime(2014, 11, 12, 0, 0)],\n",
              " [331.60083,\n",
              "  324.71833,\n",
              "  332.45666,\n",
              "  336.585,\n",
              "  346.775,\n",
              "  344.81166,\n",
              "  343.065,\n",
              "  358.50166,\n",
              "  368.07666,\n",
              "  376.99666])"
            ]
          },
          "metadata": {},
          "execution_count": 27
        }
      ]
    },
    {
      "cell_type": "code",
      "metadata": {
        "colab": {
          "base_uri": "https://localhost:8080/",
          "height": 460
        },
        "id": "e9Cc6-VZKmHw",
        "outputId": "0a8479c0-ff42-4e0e-b787-aec04cf7269f"
      },
      "source": [
        "# Plot from CSV\n",
        "plt.figure(figsize=(10,7))\n",
        "plt.plot(timesteps, btc_price)\n",
        "plt.ylabel(\"BTC Price\")\n",
        "plt.title(\"Price of Bitcoin from 3 Nov 2014 to 7 Sep 2021\",fontsize=16)\n",
        "plt.xlabel(\"Date\");"
      ],
      "execution_count": 16,
      "outputs": [
        {
          "output_type": "display_data",
          "data": {
            "image/png": "[encoded data removed]",
            "text/plain": [
              "<Figure size 720x504 with 1 Axes>"
            ]
          },
          "metadata": {
            "needs_background": "light"
          }
        }
      ]
    },
    {
      "cell_type": "markdown",
      "metadata": {
        "id": "22gyRFYYREze"
      },
      "source": [
        "## Format data part 1: Create train and test sets of our time series data"
      ]
    },
    {
      "cell_type": "markdown",
      "metadata": {
        "id": "bhT7fhdEQJJf"
      },
      "source": [
        "### Creating train and test sets with time series data (the wrong way)"
      ]
    },
    {
      "cell_type": "code",
      "metadata": {
        "colab": {
          "base_uri": "https://localhost:8080/",
          "height": 235
        },
        "id": "A3kF9eVKRqeY",
        "outputId": "4120957c-fe48-45f4-af7a-cc11bd927b80"
      },
      "source": [
        "bitcoin_prices[:5]"
      ],
      "execution_count": 29,
      "outputs": [
        {
          "output_type": "execute_result",
          "data": {
            "text/html": [
              "<div>\n",
              "<style scoped>\n",
              "    .dataframe tbody tr th:only-of-type {\n",
              "        vertical-align: middle;\n",
              "    }\n",
              "\n",
              "    .dataframe tbody tr th {\n",
              "        vertical-align: top;\n",
              "    }\n",
              "\n",
              "    .dataframe thead th {\n",
              "        text-align: right;\n",
              "    }\n",
              "</style>\n",
              "<table border=\"1\" class=\"dataframe\">\n",
              "  <thead>\n",
              "    <tr style=\"text-align: right;\">\n",
              "      <th></th>\n",
              "      <th>Price</th>\n",
              "    </tr>\n",
              "    <tr>\n",
              "      <th>Date</th>\n",
              "      <th></th>\n",
              "    </tr>\n",
              "  </thead>\n",
              "  <tbody>\n",
              "    <tr>\n",
              "      <th>2014-11-03</th>\n",
              "      <td>331.60083</td>\n",
              "    </tr>\n",
              "    <tr>\n",
              "      <th>2014-11-04</th>\n",
              "      <td>324.71833</td>\n",
              "    </tr>\n",
              "    <tr>\n",
              "      <th>2014-11-05</th>\n",
              "      <td>332.45666</td>\n",
              "    </tr>\n",
              "    <tr>\n",
              "      <th>2014-11-06</th>\n",
              "      <td>336.58500</td>\n",
              "    </tr>\n",
              "    <tr>\n",
              "      <th>2014-11-07</th>\n",
              "      <td>346.77500</td>\n",
              "    </tr>\n",
              "  </tbody>\n",
              "</table>\n",
              "</div>"
            ],
            "text/plain": [
              "                Price\n",
              "Date                 \n",
              "2014-11-03  331.60083\n",
              "2014-11-04  324.71833\n",
              "2014-11-05  332.45666\n",
              "2014-11-06  336.58500\n",
              "2014-11-07  346.77500"
            ]
          },
          "metadata": {},
          "execution_count": 29
        }
      ]
    },
    {
      "cell_type": "code",
      "metadata": {
        "colab": {
          "base_uri": "https://localhost:8080/"
        },
        "id": "lUtiZWSrRSNN",
        "outputId": "66402d92-08b9-4c8e-8393-29fe6e7f3d82"
      },
      "source": [
        "# Get bitcoin date array\n",
        "timesteps = bitcoin_prices.index.to_numpy()\n",
        "prices = bitcoin_prices.Price.to_numpy()\n",
        "\n",
        "timesteps[:10], prices[:10]"
      ],
      "execution_count": 33,
      "outputs": [
        {
          "output_type": "execute_result",
          "data": {
            "text/plain": [
              "(array(['2014-11-03T00:00:00.000000000', '2014-11-04T00:00:00.000000000',\n",
              "        '2014-11-05T00:00:00.000000000', '2014-11-06T00:00:00.000000000',\n",
              "        '2014-11-07T00:00:00.000000000', '2014-11-08T00:00:00.000000000',\n",
              "        '2014-11-09T00:00:00.000000000', '2014-11-10T00:00:00.000000000',\n",
              "        '2014-11-11T00:00:00.000000000', '2014-11-12T00:00:00.000000000'],\n",
              "       dtype='datetime64[ns]'),\n",
              " array([331.60083, 324.71833, 332.45666, 336.585  , 346.775  , 344.81166,\n",
              "        343.065  , 358.50166, 368.07666, 376.99666]))"
            ]
          },
          "metadata": {},
          "execution_count": 33
        }
      ]
    },
    {
      "cell_type": "code",
      "metadata": {
        "colab": {
          "base_uri": "https://localhost:8080/"
        },
        "id": "OKZlL4xHRaRx",
        "outputId": "9345ee16-811c-4dca-e9ad-ef6447353cf8"
      },
      "source": [
        "# Wrong way to make train/test sets for time series data\n",
        "from sklearn.model_selection import train_test_split\n",
        "\n",
        "X_train,X_test,y_train,y_test = train_test_split(timesteps,prices,test_size=0.2,random_state=42)\n",
        "X_train.shape,X_test.shape,y_train.shape,y_test.shape"
      ],
      "execution_count": 34,
      "outputs": [
        {
          "output_type": "execute_result",
          "data": {
            "text/plain": [
              "((2000,), (500,), (2000,), (500,))"
            ]
          },
          "metadata": {},
          "execution_count": 34
        }
      ]
    },
    {
      "cell_type": "code",
      "metadata": {
        "colab": {
          "base_uri": "https://localhost:8080/",
          "height": 442
        },
        "id": "5nqSEMDtSyS9",
        "outputId": "d36690c0-c9ae-454d-e334-50a20ec0a5a8"
      },
      "source": [
        "# Let's plot wrong train and test splits\n",
        "plt.figure(figsize=(10,7))\n",
        "plt.scatter(X_train,y_train,s=5,label=\"Train Data\")\n",
        "plt.scatter(X_test,y_test,s=5,label=\"Test Data\")\n",
        "plt.xlabel(\"Date\")\n",
        "plt.ylabel(\"BTC Price\")\n",
        "plt.legend(fontsize=14);"
      ],
      "execution_count": 35,
      "outputs": [
        {
          "output_type": "display_data",
          "data": {
            "image/png": "[encoded data removed]",
            "text/plain": [
              "<Figure size 720x504 with 1 Axes>"
            ]
          },
          "metadata": {
            "needs_background": "light"
          }
        }
      ]
    },
    {
      "cell_type": "markdown",
      "metadata": {
        "id": "upvmKqt1TW1k"
      },
      "source": [
        "## Create train & test sets for time series (the right way)"
      ]
    },
    {
      "cell_type": "code",
      "metadata": {
        "colab": {
          "base_uri": "https://localhost:8080/"
        },
        "id": "a5mIBOOBUxh7",
        "outputId": "65e32b04-6d74-4e74-f326-92b79dbd3e82"
      },
      "source": [
        "# Create train and test splits the right way for time series data\n",
        "split_size = int(0.8 * len(prices)) # 80% train, 20% test -we can change these values as needed\n",
        "\n",
        "# Create train data splits (everything before the split)\n",
        "X_train, y_train = timesteps[:split_size], prices[:split_size]\n",
        "\n",
        "# Create test data splits (everything after the split)\n",
        "X_test, y_test = timesteps[split_size:], prices[split_size:]\n",
        "\n",
        "X_train.shape,X_test.shape,y_train.shape,y_test.shape"
      ],
      "execution_count": 39,
      "outputs": [
        {
          "output_type": "execute_result",
          "data": {
            "text/plain": [
              "((2000,), (500,), (2000,), (500,))"
            ]
          },
          "metadata": {},
          "execution_count": 39
        }
      ]
    },
    {
      "cell_type": "code",
      "metadata": {
        "colab": {
          "base_uri": "https://localhost:8080/",
          "height": 442
        },
        "id": "qjnTcbPXc_Qk",
        "outputId": "2c186215-fc8d-4a7e-b75a-8d8ac90181bd"
      },
      "source": [
        "# Let's plot right train and test splits\n",
        "plt.figure(figsize=(10,7))\n",
        "plt.scatter(X_train,y_train,s=5,label=\"Train Data\")\n",
        "plt.scatter(X_test,y_test,s=5,label=\"Test Data\")\n",
        "plt.xlabel(\"Date\")\n",
        "plt.ylabel(\"BTC Price\")\n",
        "plt.legend(fontsize=14);"
      ],
      "execution_count": 40,
      "outputs": [
        {
          "output_type": "display_data",
          "data": {
            "image/png": "[encoded data removed]",
            "text/plain": [
              "<Figure size 720x504 with 1 Axes>"
            ]
          },
          "metadata": {
            "needs_background": "light"
          }
        }
      ]
    },
    {
      "cell_type": "markdown",
      "metadata": {
        "id": "bz3GQXnIdpv-"
      },
      "source": [
        "## Create a plotting function\n",
        "\n",
        "Typing plotting code is tedious, let's functionize it."
      ]
    },
    {
      "cell_type": "code",
      "metadata": {
        "id": "anSNuzlge56l"
      },
      "source": [
        "# Create a function to plot time series data\n",
        "def plot_time_series(timesteps, values, format=\".\", start=0, end=None, label=None):\n",
        "  \"\"\"\n",
        "  Plots timesteps (a series of points in time) against values (a series of values accross timesteps)\n",
        "\n",
        "  Parameters\n",
        "  ----------\n",
        "  timesteps: array of timestep values\n",
        "  values: array of values accross time\n",
        "  format: style of plot, default \".\"\n",
        "  start: where to start the plot (setting a value will index from start of timesteps & values)\n",
        "  end: where to end the plot (similar to staet but for the end)\n",
        "  label: label to show on plot about values, default None\n",
        "  \"\"\"\n",
        "\n",
        "  # Plot the series\n",
        "  plt.figure(gigsize=(10,7))\n",
        "  plt.plot(timesteps[start:end], values[start:end], format=format, label=label)\n",
        "  plt.xlabel(\"Time\")\n",
        "  plt.ylabel(\"BTC Price\")\n",
        "  if label:\n",
        "    plt.legend(fontsize=14) # make label bigger\n",
        "  plt.grid(True)\n"
      ],
      "execution_count": 41,
      "outputs": []
    },
    {
      "cell_type": "code",
      "metadata": {
        "id": "mMWKCNwEgt5v"
      },
      "source": [
        "# Test out plotting function\n",
        "plot_time_series(timesteps=X_train,\n",
        "                 values=y_train,\n",
        "                 label=\"Train data\")"
      ],
      "execution_count": null,
      "outputs": []
    }
  ]
}