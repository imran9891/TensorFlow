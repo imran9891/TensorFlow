{
  "nbformat": 4,
  "nbformat_minor": 0,
  "metadata": {
    "colab": {
      "name": "10_time_series_forecasing_with_tensorflow.ipynb",
      "provenance": [],
      "collapsed_sections": [],
      "mount_file_id": "1fWefpK76_cj79fgj3Xopi46p7KiYTf4s",
      "authorship_tag": "ABX9TyOLNxk14PJvVVdnWyKQ6iXg",
      "include_colab_link": true
    },
    "kernelspec": {
      "name": "python3",
      "display_name": "Python 3"
    },
    "language_info": {
      "name": "python"
    }
  },
  "cells": [
    {
      "cell_type": "markdown",
      "metadata": {
        "id": "view-in-github",
        "colab_type": "text"
      },
      "source": [
        "<a href=\"https://colab.research.google.com/github/imran9891/TensorFlow/blob/main/10_time_series_forecasing_with_tensorflow.ipynb\" target=\"_parent\"><img src=\"https://colab.research.google.com/assets/colab-badge.svg\" alt=\"Open In Colab\"/></a>"
      ]
    },
    {
      "cell_type": "markdown",
      "metadata": {
        "id": "w7pznPtz1MNS"
      },
      "source": [
        "# Time series forecasting with TensorFlow + Milestone Project 3: BitPredict\n",
        "\n",
        "Let's write some TensorFlow code to predict the price of Bitcoin based on the historical price of Bitcoin.\n",
        "\n",
        "**Note:** This is not a financial advice."
      ]
    },
    {
      "cell_type": "markdown",
      "metadata": {
        "id": "j66RWSQo4SoG"
      },
      "source": [
        "## Get data\n",
        "\n",
        "We're going to be using the historical price data of Bitcoin to try and predict the future price of Bitcoin, we downloaded the data from here: https://www.coindesk.com/price/bitcoin/\n",
        "\n",
        "### Importing time series data with pandas"
      ]
    },
    {
      "cell_type": "code",
      "metadata": {
        "colab": {
          "base_uri": "https://localhost:8080/",
          "height": 235
        },
        "id": "-ZeaoEmk5J7F",
        "outputId": "90ece4d2-55d1-4c33-8ff5-3aaa63ee76fb"
      },
      "source": [
        "# Import with pandas \n",
        "import pandas as pd\n",
        "# Let's read in our Bitcoin data and parse the dates\n",
        "df = pd.read_csv(\"drive/MyDrive/Bitcoin/BTC_data.csv\",parse_dates=[\"Date\"],index_col=[\"Date\"])\n",
        "df.head()"
      ],
      "execution_count": 1,
      "outputs": [
        {
          "output_type": "execute_result",
          "data": {
            "text/html": [
              "<div>\n",
              "<style scoped>\n",
              "    .dataframe tbody tr th:only-of-type {\n",
              "        vertical-align: middle;\n",
              "    }\n",
              "\n",
              "    .dataframe tbody tr th {\n",
              "        vertical-align: top;\n",
              "    }\n",
              "\n",
              "    .dataframe thead th {\n",
              "        text-align: right;\n",
              "    }\n",
              "</style>\n",
              "<table border=\"1\" class=\"dataframe\">\n",
              "  <thead>\n",
              "    <tr style=\"text-align: right;\">\n",
              "      <th></th>\n",
              "      <th>Currency</th>\n",
              "      <th>Closing Price (USD)</th>\n",
              "      <th>24h Open (USD)</th>\n",
              "      <th>24h High (USD)</th>\n",
              "      <th>24h Low (USD)</th>\n",
              "    </tr>\n",
              "    <tr>\n",
              "      <th>Date</th>\n",
              "      <th></th>\n",
              "      <th></th>\n",
              "      <th></th>\n",
              "      <th></th>\n",
              "      <th></th>\n",
              "    </tr>\n",
              "  </thead>\n",
              "  <tbody>\n",
              "    <tr>\n",
              "      <th>2014-11-03</th>\n",
              "      <td>BTC</td>\n",
              "      <td>331.60083</td>\n",
              "      <td>325.22633</td>\n",
              "      <td>333.75983</td>\n",
              "      <td>319.04350</td>\n",
              "    </tr>\n",
              "    <tr>\n",
              "      <th>2014-11-04</th>\n",
              "      <td>BTC</td>\n",
              "      <td>324.71833</td>\n",
              "      <td>331.60083</td>\n",
              "      <td>332.75133</td>\n",
              "      <td>323.06333</td>\n",
              "    </tr>\n",
              "    <tr>\n",
              "      <th>2014-11-05</th>\n",
              "      <td>BTC</td>\n",
              "      <td>332.45666</td>\n",
              "      <td>324.71833</td>\n",
              "      <td>335.81166</td>\n",
              "      <td>320.93333</td>\n",
              "    </tr>\n",
              "    <tr>\n",
              "      <th>2014-11-06</th>\n",
              "      <td>BTC</td>\n",
              "      <td>336.58500</td>\n",
              "      <td>332.45666</td>\n",
              "      <td>341.49000</td>\n",
              "      <td>328.56166</td>\n",
              "    </tr>\n",
              "    <tr>\n",
              "      <th>2014-11-07</th>\n",
              "      <td>BTC</td>\n",
              "      <td>346.77500</td>\n",
              "      <td>336.58500</td>\n",
              "      <td>351.57500</td>\n",
              "      <td>336.02833</td>\n",
              "    </tr>\n",
              "  </tbody>\n",
              "</table>\n",
              "</div>"
            ],
            "text/plain": [
              "           Currency  Closing Price (USD)  ...  24h High (USD)  24h Low (USD)\n",
              "Date                                      ...                               \n",
              "2014-11-03      BTC            331.60083  ...       333.75983      319.04350\n",
              "2014-11-04      BTC            324.71833  ...       332.75133      323.06333\n",
              "2014-11-05      BTC            332.45666  ...       335.81166      320.93333\n",
              "2014-11-06      BTC            336.58500  ...       341.49000      328.56166\n",
              "2014-11-07      BTC            346.77500  ...       351.57500      336.02833\n",
              "\n",
              "[5 rows x 5 columns]"
            ]
          },
          "metadata": {},
          "execution_count": 1
        }
      ]
    },
    {
      "cell_type": "code",
      "metadata": {
        "colab": {
          "base_uri": "https://localhost:8080/",
          "height": 235
        },
        "id": "BPiKTwyJ6WSM",
        "outputId": "9fe688f1-9108-4cb4-e793-69f9b3235514"
      },
      "source": [
        "df.tail()"
      ],
      "execution_count": 2,
      "outputs": [
        {
          "output_type": "execute_result",
          "data": {
            "text/html": [
              "<div>\n",
              "<style scoped>\n",
              "    .dataframe tbody tr th:only-of-type {\n",
              "        vertical-align: middle;\n",
              "    }\n",
              "\n",
              "    .dataframe tbody tr th {\n",
              "        vertical-align: top;\n",
              "    }\n",
              "\n",
              "    .dataframe thead th {\n",
              "        text-align: right;\n",
              "    }\n",
              "</style>\n",
              "<table border=\"1\" class=\"dataframe\">\n",
              "  <thead>\n",
              "    <tr style=\"text-align: right;\">\n",
              "      <th></th>\n",
              "      <th>Currency</th>\n",
              "      <th>Closing Price (USD)</th>\n",
              "      <th>24h Open (USD)</th>\n",
              "      <th>24h High (USD)</th>\n",
              "      <th>24h Low (USD)</th>\n",
              "    </tr>\n",
              "    <tr>\n",
              "      <th>Date</th>\n",
              "      <th></th>\n",
              "      <th></th>\n",
              "      <th></th>\n",
              "      <th></th>\n",
              "      <th></th>\n",
              "    </tr>\n",
              "  </thead>\n",
              "  <tbody>\n",
              "    <tr>\n",
              "      <th>2021-09-03</th>\n",
              "      <td>BTC</td>\n",
              "      <td>49725.532134</td>\n",
              "      <td>48834.363592</td>\n",
              "      <td>50344.664659</td>\n",
              "      <td>48619.469617</td>\n",
              "    </tr>\n",
              "    <tr>\n",
              "      <th>2021-09-04</th>\n",
              "      <td>BTC</td>\n",
              "      <td>49709.611994</td>\n",
              "      <td>49274.784115</td>\n",
              "      <td>51016.027011</td>\n",
              "      <td>48364.226963</td>\n",
              "    </tr>\n",
              "    <tr>\n",
              "      <th>2021-09-05</th>\n",
              "      <td>BTC</td>\n",
              "      <td>49999.555579</td>\n",
              "      <td>50012.441556</td>\n",
              "      <td>50558.733515</td>\n",
              "      <td>49429.569151</td>\n",
              "    </tr>\n",
              "    <tr>\n",
              "      <th>2021-09-06</th>\n",
              "      <td>BTC</td>\n",
              "      <td>51693.809398</td>\n",
              "      <td>49945.336568</td>\n",
              "      <td>51827.319488</td>\n",
              "      <td>49515.541880</td>\n",
              "    </tr>\n",
              "    <tr>\n",
              "      <th>2021-09-07</th>\n",
              "      <td>BTC</td>\n",
              "      <td>52506.685647</td>\n",
              "      <td>51764.155302</td>\n",
              "      <td>52647.551866</td>\n",
              "      <td>51026.821010</td>\n",
              "    </tr>\n",
              "  </tbody>\n",
              "</table>\n",
              "</div>"
            ],
            "text/plain": [
              "           Currency  Closing Price (USD)  ...  24h High (USD)  24h Low (USD)\n",
              "Date                                      ...                               \n",
              "2021-09-03      BTC         49725.532134  ...    50344.664659   48619.469617\n",
              "2021-09-04      BTC         49709.611994  ...    51016.027011   48364.226963\n",
              "2021-09-05      BTC         49999.555579  ...    50558.733515   49429.569151\n",
              "2021-09-06      BTC         51693.809398  ...    51827.319488   49515.541880\n",
              "2021-09-07      BTC         52506.685647  ...    52647.551866   51026.821010\n",
              "\n",
              "[5 rows x 5 columns]"
            ]
          },
          "metadata": {},
          "execution_count": 2
        }
      ]
    },
    {
      "cell_type": "code",
      "metadata": {
        "colab": {
          "base_uri": "https://localhost:8080/"
        },
        "id": "TJB2vGv86ojg",
        "outputId": "996772ac-83fd-4d01-f679-e575d151ccbc"
      },
      "source": [
        "df.info()"
      ],
      "execution_count": 3,
      "outputs": [
        {
          "output_type": "stream",
          "name": "stdout",
          "text": [
            "<class 'pandas.core.frame.DataFrame'>\n",
            "DatetimeIndex: 2500 entries, 2014-11-03 to 2021-09-07\n",
            "Data columns (total 5 columns):\n",
            " #   Column               Non-Null Count  Dtype  \n",
            "---  ------               --------------  -----  \n",
            " 0   Currency             2500 non-null   object \n",
            " 1   Closing Price (USD)  2500 non-null   float64\n",
            " 2   24h Open (USD)       2500 non-null   float64\n",
            " 3   24h High (USD)       2500 non-null   float64\n",
            " 4   24h Low (USD)        2500 non-null   float64\n",
            "dtypes: float64(4), object(1)\n",
            "memory usage: 117.2+ KB\n"
          ]
        }
      ]
    },
    {
      "cell_type": "code",
      "metadata": {
        "colab": {
          "base_uri": "https://localhost:8080/"
        },
        "id": "ESRbGcoI7htd",
        "outputId": "92f71ca6-7b9c-4665-96c3-b5ca3d2d851c"
      },
      "source": [
        "# How many samples do we have?\n",
        "len(df)"
      ],
      "execution_count": 4,
      "outputs": [
        {
          "output_type": "execute_result",
          "data": {
            "text/plain": [
              "2500"
            ]
          },
          "metadata": {},
          "execution_count": 4
        }
      ]
    },
    {
      "cell_type": "markdown",
      "metadata": {
        "id": "wXBnIqq-8F6w"
      },
      "source": [
        "We've collected the historical prices of Bitcoin for the past ~7 years but thers's only 2500 samples.\n",
        "\n",
        "Typically deep learning models usually be like lots and lots of samples (from thousands to tens of thousands to millions).\n",
        "\n",
        "A smaller number of samples is something you'll often run into with time-series data problems.\n",
        "\n",
        "**Note:** The **seasonality** of a time series dataset is referred as the number of samples per year. So for our Bitcoin data, it has a seasonality of daily or value of 365 because we collect one sample per day meaning we'll get 365 samples per year."
      ]
    },
    {
      "cell_type": "markdown",
      "metadata": {
        "id": "JAz6B-9395it"
      },
      "source": [
        "## Time series patterns\n",
        "\n",
        "* **Trend:** Time series has a clear long-term increase or decrease (may or may not be linear)\n",
        "\n",
        "* **Seasonal:** Time series affected by seasonal factors such as time of year (e.g. increased sales towards the end of year) or day of week.\n",
        "\n",
        "* **Cyclic:** Time series shows rises and falls over an unfixed period, these tend to be longer/more variable than seasonal patterns.\n",
        "\n",
        "* **Univariate:** Only one variable (e.g. using the price of the Bitcoin to predict the price of Bitcoin).\n",
        "\n",
        "* **Multivariate:** More than one variable (e.g. using the price of Bitcoin as well as the block reward size to predict the price of Bitcoin)."
      ]
    },
    {
      "cell_type": "code",
      "metadata": {
        "colab": {
          "base_uri": "https://localhost:8080/",
          "height": 235
        },
        "id": "YoPT5Iik9wdG",
        "outputId": "ef47b441-69df-486b-8068-bb6776130ac6"
      },
      "source": [
        "## Visualize only Date and Closing Price (USD)\n",
        "bitcoin_prices = pd.DataFrame(df[\"Closing Price (USD)\"]).rename(columns={\"Closing Price (USD)\":\"Price\"})\n",
        "bitcoin_prices.head()"
      ],
      "execution_count": 5,
      "outputs": [
        {
          "output_type": "execute_result",
          "data": {
            "text/html": [
              "<div>\n",
              "<style scoped>\n",
              "    .dataframe tbody tr th:only-of-type {\n",
              "        vertical-align: middle;\n",
              "    }\n",
              "\n",
              "    .dataframe tbody tr th {\n",
              "        vertical-align: top;\n",
              "    }\n",
              "\n",
              "    .dataframe thead th {\n",
              "        text-align: right;\n",
              "    }\n",
              "</style>\n",
              "<table border=\"1\" class=\"dataframe\">\n",
              "  <thead>\n",
              "    <tr style=\"text-align: right;\">\n",
              "      <th></th>\n",
              "      <th>Price</th>\n",
              "    </tr>\n",
              "    <tr>\n",
              "      <th>Date</th>\n",
              "      <th></th>\n",
              "    </tr>\n",
              "  </thead>\n",
              "  <tbody>\n",
              "    <tr>\n",
              "      <th>2014-11-03</th>\n",
              "      <td>331.60083</td>\n",
              "    </tr>\n",
              "    <tr>\n",
              "      <th>2014-11-04</th>\n",
              "      <td>324.71833</td>\n",
              "    </tr>\n",
              "    <tr>\n",
              "      <th>2014-11-05</th>\n",
              "      <td>332.45666</td>\n",
              "    </tr>\n",
              "    <tr>\n",
              "      <th>2014-11-06</th>\n",
              "      <td>336.58500</td>\n",
              "    </tr>\n",
              "    <tr>\n",
              "      <th>2014-11-07</th>\n",
              "      <td>346.77500</td>\n",
              "    </tr>\n",
              "  </tbody>\n",
              "</table>\n",
              "</div>"
            ],
            "text/plain": [
              "                Price\n",
              "Date                 \n",
              "2014-11-03  331.60083\n",
              "2014-11-04  324.71833\n",
              "2014-11-05  332.45666\n",
              "2014-11-06  336.58500\n",
              "2014-11-07  346.77500"
            ]
          },
          "metadata": {},
          "execution_count": 5
        }
      ]
    },
    {
      "cell_type": "code",
      "metadata": {
        "colab": {
          "base_uri": "https://localhost:8080/",
          "height": 434
        },
        "id": "hHgeJZt0BHqF",
        "outputId": "7a28534c-438a-4428-c20f-92b5b8dd06db"
      },
      "source": [
        "import matplotlib.pyplot as plt\n",
        "bitcoin_prices.plot(figsize=(10,7))\n",
        "plt.ylabel(\"BTC Price\",fontsize=14)\n",
        "plt.title(\"Price of Bitcoin from 3 Nov 2014 to 7 Sep 2021\",fontsize=16)\n",
        "plt.legend(fontsize=14);\n"
      ],
      "execution_count": 6,
      "outputs": [
        {
          "output_type": "display_data",
          "data": {
            "image/png": "[encoded data removed]",
            "text/plain": [
              "<Figure size 720x504 with 1 Axes>"
            ]
          },
          "metadata": {
            "needs_background": "light"
          }
        }
      ]
    },
    {
      "cell_type": "markdown",
      "metadata": {
        "id": "OanHiOiDBbJq"
      },
      "source": [
        "## Importing time series data with Python's CSV module"
      ]
    },
    {
      "cell_type": "code",
      "metadata": {
        "colab": {
          "base_uri": "https://localhost:8080/"
        },
        "id": "X86CuF9QHxBT",
        "outputId": "b4a27d60-c8d0-4e06-8a25-d2444464a912"
      },
      "source": [
        "# Importing and formatting historical Bitcoin data with Python\n",
        "import csv\n",
        "import datetime as dt\n",
        "\n",
        "timesteps = []\n",
        "btc_price = []\n",
        "with open(\"drive/MyDrive/Bitcoin/BTC_data.csv\",\"r\") as f:\n",
        "  csv_reader = csv.reader(f, delimiter=\",\")\n",
        "  next(csv_reader) # skip first line (this gets rid of the column titles, the header part)\n",
        "  for line in csv_reader:\n",
        "    timesteps.append(dt.datetime.strptime(line[1], \"%Y-%m-%d\")) # get the dates as dates (not strings)\n",
        "    btc_price.append(float(line[2])) # get the closing price as float\n",
        "\n",
        "# View first 10 of each\n",
        "timesteps[:10],btc_price[:10]"
      ],
      "execution_count": 7,
      "outputs": [
        {
          "output_type": "execute_result",
          "data": {
            "text/plain": [
              "([datetime.datetime(2014, 11, 3, 0, 0),\n",
              "  datetime.datetime(2014, 11, 4, 0, 0),\n",
              "  datetime.datetime(2014, 11, 5, 0, 0),\n",
              "  datetime.datetime(2014, 11, 6, 0, 0),\n",
              "  datetime.datetime(2014, 11, 7, 0, 0),\n",
              "  datetime.datetime(2014, 11, 8, 0, 0),\n",
              "  datetime.datetime(2014, 11, 9, 0, 0),\n",
              "  datetime.datetime(2014, 11, 10, 0, 0),\n",
              "  datetime.datetime(2014, 11, 11, 0, 0),\n",
              "  datetime.datetime(2014, 11, 12, 0, 0)],\n",
              " [331.60083,\n",
              "  324.71833,\n",
              "  332.45666,\n",
              "  336.585,\n",
              "  346.775,\n",
              "  344.81166,\n",
              "  343.065,\n",
              "  358.50166,\n",
              "  368.07666,\n",
              "  376.99666])"
            ]
          },
          "metadata": {},
          "execution_count": 7
        }
      ]
    },
    {
      "cell_type": "code",
      "metadata": {
        "colab": {
          "base_uri": "https://localhost:8080/",
          "height": 460
        },
        "id": "e9Cc6-VZKmHw",
        "outputId": "e05bdc6b-fd05-4766-be29-97674061d346"
      },
      "source": [
        "# Plot from CSV\n",
        "plt.figure(figsize=(10,7))\n",
        "plt.plot(timesteps, btc_price)\n",
        "plt.ylabel(\"BTC Price\")\n",
        "plt.title(\"Price of Bitcoin from 3 Nov 2014 to 7 Sep 2021\",fontsize=16)\n",
        "plt.xlabel(\"Date\");"
      ],
      "execution_count": 8,
      "outputs": [
        {
          "output_type": "display_data",
          "data": {
            "image/png": "[encoded data removed]",
            "text/plain": [
              "<Figure size 720x504 with 1 Axes>"
            ]
          },
          "metadata": {
            "needs_background": "light"
          }
        }
      ]
    },
    {
      "cell_type": "markdown",
      "metadata": {
        "id": "22gyRFYYREze"
      },
      "source": [
        "## Format data part 1: Create train and test sets of our time series data"
      ]
    },
    {
      "cell_type": "markdown",
      "metadata": {
        "id": "bhT7fhdEQJJf"
      },
      "source": [
        "### Creating train and test sets with time series data (the wrong way)"
      ]
    },
    {
      "cell_type": "code",
      "metadata": {
        "colab": {
          "base_uri": "https://localhost:8080/",
          "height": 235
        },
        "id": "A3kF9eVKRqeY",
        "outputId": "db30d4c6-14b0-4b76-8b75-85a40fa0ef13"
      },
      "source": [
        "bitcoin_prices[:5]"
      ],
      "execution_count": 9,
      "outputs": [
        {
          "output_type": "execute_result",
          "data": {
            "text/html": [
              "<div>\n",
              "<style scoped>\n",
              "    .dataframe tbody tr th:only-of-type {\n",
              "        vertical-align: middle;\n",
              "    }\n",
              "\n",
              "    .dataframe tbody tr th {\n",
              "        vertical-align: top;\n",
              "    }\n",
              "\n",
              "    .dataframe thead th {\n",
              "        text-align: right;\n",
              "    }\n",
              "</style>\n",
              "<table border=\"1\" class=\"dataframe\">\n",
              "  <thead>\n",
              "    <tr style=\"text-align: right;\">\n",
              "      <th></th>\n",
              "      <th>Price</th>\n",
              "    </tr>\n",
              "    <tr>\n",
              "      <th>Date</th>\n",
              "      <th></th>\n",
              "    </tr>\n",
              "  </thead>\n",
              "  <tbody>\n",
              "    <tr>\n",
              "      <th>2014-11-03</th>\n",
              "      <td>331.60083</td>\n",
              "    </tr>\n",
              "    <tr>\n",
              "      <th>2014-11-04</th>\n",
              "      <td>324.71833</td>\n",
              "    </tr>\n",
              "    <tr>\n",
              "      <th>2014-11-05</th>\n",
              "      <td>332.45666</td>\n",
              "    </tr>\n",
              "    <tr>\n",
              "      <th>2014-11-06</th>\n",
              "      <td>336.58500</td>\n",
              "    </tr>\n",
              "    <tr>\n",
              "      <th>2014-11-07</th>\n",
              "      <td>346.77500</td>\n",
              "    </tr>\n",
              "  </tbody>\n",
              "</table>\n",
              "</div>"
            ],
            "text/plain": [
              "                Price\n",
              "Date                 \n",
              "2014-11-03  331.60083\n",
              "2014-11-04  324.71833\n",
              "2014-11-05  332.45666\n",
              "2014-11-06  336.58500\n",
              "2014-11-07  346.77500"
            ]
          },
          "metadata": {},
          "execution_count": 9
        }
      ]
    },
    {
      "cell_type": "code",
      "metadata": {
        "colab": {
          "base_uri": "https://localhost:8080/"
        },
        "id": "lUtiZWSrRSNN",
        "outputId": "bf640f49-1b87-4521-e1db-dc4bc4dbda60"
      },
      "source": [
        "# Get bitcoin date array\n",
        "timesteps = bitcoin_prices.index.to_numpy()\n",
        "prices = bitcoin_prices.Price.to_numpy()\n",
        "\n",
        "timesteps[:10], prices[:10]"
      ],
      "execution_count": 10,
      "outputs": [
        {
          "output_type": "execute_result",
          "data": {
            "text/plain": [
              "(array(['2014-11-03T00:00:00.000000000', '2014-11-04T00:00:00.000000000',\n",
              "        '2014-11-05T00:00:00.000000000', '2014-11-06T00:00:00.000000000',\n",
              "        '2014-11-07T00:00:00.000000000', '2014-11-08T00:00:00.000000000',\n",
              "        '2014-11-09T00:00:00.000000000', '2014-11-10T00:00:00.000000000',\n",
              "        '2014-11-11T00:00:00.000000000', '2014-11-12T00:00:00.000000000'],\n",
              "       dtype='datetime64[ns]'),\n",
              " array([331.60083, 324.71833, 332.45666, 336.585  , 346.775  , 344.81166,\n",
              "        343.065  , 358.50166, 368.07666, 376.99666]))"
            ]
          },
          "metadata": {},
          "execution_count": 10
        }
      ]
    },
    {
      "cell_type": "code",
      "metadata": {
        "colab": {
          "base_uri": "https://localhost:8080/"
        },
        "id": "OKZlL4xHRaRx",
        "outputId": "67fcf775-52b9-42d3-8520-59ad1c7d06a8"
      },
      "source": [
        "# Wrong way to make train/test sets for time series data\n",
        "from sklearn.model_selection import train_test_split\n",
        "\n",
        "X_train,X_test,y_train,y_test = train_test_split(timesteps,prices,test_size=0.2,random_state=42)\n",
        "X_train.shape,X_test.shape,y_train.shape,y_test.shape"
      ],
      "execution_count": 11,
      "outputs": [
        {
          "output_type": "execute_result",
          "data": {
            "text/plain": [
              "((2000,), (500,), (2000,), (500,))"
            ]
          },
          "metadata": {},
          "execution_count": 11
        }
      ]
    },
    {
      "cell_type": "code",
      "metadata": {
        "colab": {
          "base_uri": "https://localhost:8080/",
          "height": 442
        },
        "id": "5nqSEMDtSyS9",
        "outputId": "ffa79a8e-5c5f-4024-b1d1-2a7309049833"
      },
      "source": [
        "# Let's plot wrong train and test splits\n",
        "plt.figure(figsize=(10,7))\n",
        "plt.scatter(X_train,y_train,s=5,label=\"Train Data\")\n",
        "plt.scatter(X_test,y_test,s=5,label=\"Test Data\")\n",
        "plt.xlabel(\"Date\")\n",
        "plt.ylabel(\"BTC Price\")\n",
        "plt.legend(fontsize=14);"
      ],
      "execution_count": 12,
      "outputs": [
        {
          "output_type": "display_data",
          "data": {
            "image/png": "[encoded data removed]",
            "text/plain": [
              "<Figure size 720x504 with 1 Axes>"
            ]
          },
          "metadata": {
            "needs_background": "light"
          }
        }
      ]
    },
    {
      "cell_type": "markdown",
      "metadata": {
        "id": "upvmKqt1TW1k"
      },
      "source": [
        "## Create train & test sets for time series (the right way)"
      ]
    },
    {
      "cell_type": "code",
      "metadata": {
        "colab": {
          "base_uri": "https://localhost:8080/"
        },
        "id": "a5mIBOOBUxh7",
        "outputId": "d7c6ebdc-7bd7-49fd-ab9d-5b4e6c05c2ae"
      },
      "source": [
        "# Create train and test splits the right way for time series data\n",
        "split_size = int(0.8 * len(prices)) # 80% train, 20% test -we can change these values as needed\n",
        "\n",
        "# Create train data splits (everything before the split)\n",
        "X_train, y_train = timesteps[:split_size], prices[:split_size]\n",
        "\n",
        "# Create test data splits (everything after the split)\n",
        "X_test, y_test = timesteps[split_size:], prices[split_size:]\n",
        "\n",
        "X_train.shape,X_test.shape,y_train.shape,y_test.shape"
      ],
      "execution_count": 13,
      "outputs": [
        {
          "output_type": "execute_result",
          "data": {
            "text/plain": [
              "((2000,), (500,), (2000,), (500,))"
            ]
          },
          "metadata": {},
          "execution_count": 13
        }
      ]
    },
    {
      "cell_type": "code",
      "metadata": {
        "colab": {
          "base_uri": "https://localhost:8080/",
          "height": 442
        },
        "id": "qjnTcbPXc_Qk",
        "outputId": "70b8f5cc-c73e-43d8-effb-8906558f28f6"
      },
      "source": [
        "# Let's plot right train and test splits\n",
        "plt.figure(figsize=(10,7))\n",
        "plt.scatter(X_train,y_train,s=5,label=\"Train Data\")\n",
        "plt.scatter(X_test,y_test,s=5,label=\"Test Data\")\n",
        "plt.xlabel(\"Date\")\n",
        "plt.ylabel(\"BTC Price\")\n",
        "plt.legend(fontsize=14);"
      ],
      "execution_count": 14,
      "outputs": [
        {
          "output_type": "display_data",
          "data": {
            "image/png": "[encoded data removed]",
            "text/plain": [
              "<Figure size 720x504 with 1 Axes>"
            ]
          },
          "metadata": {
            "needs_background": "light"
          }
        }
      ]
    },
    {
      "cell_type": "markdown",
      "metadata": {
        "id": "bz3GQXnIdpv-"
      },
      "source": [
        "## Create a plotting function\n",
        "\n",
        "Typing plotting code is tedious, let's functionize it."
      ]
    },
    {
      "cell_type": "code",
      "metadata": {
        "id": "anSNuzlge56l"
      },
      "source": [
        "# Create a function to plot time series data\n",
        "def plot_time_series(timesteps, values, format=\".\", start=0, end=None, label=None):\n",
        "  \"\"\"\n",
        "  Plots timesteps (a series of points in time) against values (a series of values accross timesteps)\n",
        "\n",
        "  Parameters\n",
        "  ----------\n",
        "  timesteps: array of timestep values\n",
        "  values: array of values accross time\n",
        "  format: style of plot, default \".\"\n",
        "  start: where to start the plot (setting a value will index from start of timesteps & values)\n",
        "  end: where to end the plot (similar to staet but for the end)\n",
        "  label: label to show on plot about values, default None\n",
        "  \"\"\"\n",
        "\n",
        "  # Plot the series\n",
        "  plt.plot(timesteps[start:end], values[start:end], format, label=label)\n",
        "  plt.xlabel(\"Time\")\n",
        "  plt.ylabel(\"BTC Price\")\n",
        "  if label:\n",
        "    plt.legend(fontsize=14) # make label bigger\n",
        "  plt.grid(True)"
      ],
      "execution_count": 15,
      "outputs": []
    },
    {
      "cell_type": "code",
      "metadata": {
        "colab": {
          "base_uri": "https://localhost:8080/",
          "height": 442
        },
        "id": "mMWKCNwEgt5v",
        "outputId": "27193f71-2532-4166-b588-01adc19fc04c"
      },
      "source": [
        "# Test out plotting function\n",
        "plt.figure(figsize=(10,7))\n",
        "plot_time_series(timesteps=X_train,values=y_train,label=\"Train data\",format=\"-\")\n",
        "plot_time_series(timesteps=X_test,values=y_test,label=\"Test data\",format=\"-\")"
      ],
      "execution_count": 16,
      "outputs": [
        {
          "output_type": "display_data",
          "data": {
            "image/png": "[encoded data removed]",
            "text/plain": [
              "<Figure size 720x504 with 1 Axes>"
            ]
          },
          "metadata": {
            "needs_background": "light"
          }
        }
      ]
    },
    {
      "cell_type": "markdown",
      "metadata": {
        "id": "YeuvbmYFjkrA"
      },
      "source": [
        "## Modelling Experiments\n",
        "\n",
        "We've got some Bitcoin historical data, to model it, let's run a series of modelling experiments and see which model performs best.\n",
        "\n",
        "Terms to be familiar with:\n",
        "* **Horizon:** number of timesteps into the future we're going to predict\n",
        "* **Window size:** number of timesteps we're going to use to predict horizon\n",
        "\n",
        "* Model 0: Naive model (baseline)\n",
        "* Model 1: Dense model, window = 7, horizon = 1\n",
        "* Model 2: Same as model 1, window = 30, horizon = 1\n",
        "* Model 3: Same as model 1, window = 30, horizon = 7\n",
        "* Model 4: Conv1D\n",
        "* Model 5: LSTM\n",
        "* Model 6: Same as model 1 (but with multivariate data)\n",
        "* Model 7: N-BEATS algorithm\n",
        "* Model 8: Ensemble (multiple models stacked together)\n",
        "* Model 9: Future prediction model\n",
        "* Model 10: Same as model 1 (but with turkey data introduced)"
      ]
    },
    {
      "cell_type": "markdown",
      "metadata": {
        "id": "OEE3R8U7h4ei"
      },
      "source": [
        "## Model 0: Naive forecast (baseline)\n",
        "\n",
        "The formula looks like this:\n",
        "\n",
        "$$\\hat{y}_{t} = y_{t-1}$$\n",
        "\n",
        "In English:\n",
        "\n",
        "> The prediction at timestep t (y-hat) is equal to the value at timestep t-1 (previous timestep) ~this is for a horizon of 1."
      ]
    },
    {
      "cell_type": "code",
      "metadata": {
        "colab": {
          "base_uri": "https://localhost:8080/"
        },
        "id": "8rqq7B0tKC_T",
        "outputId": "eefa2a47-7534-408e-aafe-0e545eb31d1e"
      },
      "source": [
        "y_test[:10], y_test[-10:]"
      ],
      "execution_count": 17,
      "outputs": [
        {
          "output_type": "execute_result",
          "data": {
            "text/plain": [
              "(array([7542.3034007 , 7624.85378592, 7776.50754257, 7761.75878408,\n",
              "        8773.10648796, 8767.67262337, 8853.77448401, 8963.0575578 ,\n",
              "        8904.71381654, 8887.50589259]),\n",
              " array([48768.19008652, 49184.2085095 , 47663.02250108, 46919.51155472,\n",
              "        48487.01118945, 49725.53213449, 49709.61199434, 49999.55557859,\n",
              "        51693.80939808, 52506.68564748]))"
            ]
          },
          "metadata": {},
          "execution_count": 17
        }
      ]
    },
    {
      "cell_type": "code",
      "metadata": {
        "colab": {
          "base_uri": "https://localhost:8080/"
        },
        "id": "Am8rum6lIevv",
        "outputId": "6c767f3a-9f62-4cc7-8f01-b516c772cd06"
      },
      "source": [
        "# Create a naive forecast\n",
        "naive_forecast = y_test[:-1]\n",
        "naive_forecast[:10], naive_forecast[-10:]"
      ],
      "execution_count": 18,
      "outputs": [
        {
          "output_type": "execute_result",
          "data": {
            "text/plain": [
              "(array([7542.3034007 , 7624.85378592, 7776.50754257, 7761.75878408,\n",
              "        8773.10648796, 8767.67262337, 8853.77448401, 8963.0575578 ,\n",
              "        8904.71381654, 8887.50589259]),\n",
              " array([49033.32539607, 48768.19008652, 49184.2085095 , 47663.02250108,\n",
              "        46919.51155472, 48487.01118945, 49725.53213449, 49709.61199434,\n",
              "        49999.55557859, 51693.80939808]))"
            ]
          },
          "metadata": {},
          "execution_count": 18
        }
      ]
    },
    {
      "cell_type": "code",
      "metadata": {
        "colab": {
          "base_uri": "https://localhost:8080/"
        },
        "id": "l5uigENrKvKx",
        "outputId": "a1e24897-8d94-4050-86ad-15b42c237aa2"
      },
      "source": [
        "len(y_test),len(naive_forecast)"
      ],
      "execution_count": 19,
      "outputs": [
        {
          "output_type": "execute_result",
          "data": {
            "text/plain": [
              "(500, 499)"
            ]
          },
          "metadata": {},
          "execution_count": 19
        }
      ]
    },
    {
      "cell_type": "code",
      "metadata": {
        "colab": {
          "base_uri": "https://localhost:8080/",
          "height": 442
        },
        "id": "TqFWToYLKRRT",
        "outputId": "0de56da2-368d-4334-c455-f9bb2fe7a858"
      },
      "source": [
        "# Plot naive forecast\n",
        "plt.figure(figsize=(10,7))\n",
        "# plot_time_series(timesteps=X_train,values=y_train,label=\"Training data\")\n",
        "plot_time_series(timesteps=X_test,values=y_test,label=\"Testing\")\n",
        "plot_time_series(timesteps=X_test[1:],values=naive_forecast,format=\"-\",label=\"Naive Forecast\")"
      ],
      "execution_count": 20,
      "outputs": [
        {
          "output_type": "display_data",
          "data": {
            "image/png": "[encoded data removed]",
            "text/plain": [
              "<Figure size 720x504 with 1 Axes>"
            ]
          },
          "metadata": {
            "needs_background": "light"
          }
        }
      ]
    },
    {
      "cell_type": "markdown",
      "metadata": {
        "id": "Nm8adqcsMpA0"
      },
      "source": [
        "## Evaluating a time series model \n",
        "\n",
        "Let's look into some evaluation metrics for time series forecasting.\n",
        "\n",
        "What are we doing?\n",
        "\n",
        "We're predicting a number, so that means we have a form of a regression problem.\n",
        "\n",
        "Because we're working on a regression problem, we'll need some regression like metrics.\n",
        "\n",
        "A few common regression metrics (which can also be used for time series forecasting):\n",
        "* MAE - Mean Absolute Error ~ as a great starter metric for any regression problem\n",
        "* MSE - Mean Squared Error ~ when larger errors are more significant than smaller errors\n",
        "* RMSE - Root Mean Squared Error ~ similar to MSE but as interpretable as MAE (RMSE is in same units as target)\n",
        "* MAPE - (Symmetric) Mean Absolute Percentage Error (MAPE/sMAPE) ~ Recommend not to use by Hyndman & Koehler\n",
        "* MASE - Mean Absolute Scaled Error ~ **A scaled error is > 1 if the forecast is worse than the naive and < 1 if the forecast is better than the naive.**\n",
        "\n",
        "For all the above metrics, **lower is better**, for example, an MAE of 0 is better than an MAE of 100.\n",
        "\n",
        "The main thing we're evaluating here is: **how do our model's forecasts (y_pred) compare against the actual values (y_true or ground truth values)?**"
      ]
    },
    {
      "cell_type": "code",
      "metadata": {
        "id": "F0349VD8j60g"
      },
      "source": [
        "import tensorflow as tf"
      ],
      "execution_count": 21,
      "outputs": []
    },
    {
      "cell_type": "code",
      "metadata": {
        "id": "i3Fgeiv_j80S"
      },
      "source": [
        "# MASE implementation\n",
        "def mean_absolute_scaled_error(y_true,y_pred):\n",
        "  \"\"\"\n",
        "  Implement MASE (assuming no seasonality of data).\n",
        "  \"\"\"\n",
        "  mae = tf.reduce_mean(tf.abs(y_pred-y_true))\n",
        "\n",
        "  # Find MAE of naive forecast (no seasonality)\n",
        "  mae_naive_no_season = tf.reduce_mean(tf.abs(y_true[1:] - y_true[:-1])) # our seasonality is 1 day (hence the shift of 1)\n",
        "\n",
        "  return mae/mae_naive_no_season"
      ],
      "execution_count": 22,
      "outputs": []
    },
    {
      "cell_type": "code",
      "metadata": {
        "colab": {
          "base_uri": "https://localhost:8080/"
        },
        "id": "aSUtsjVjoCvh",
        "outputId": "29eb25fc-d2c1-42d1-bd91-eaf67da5ab7e"
      },
      "source": [
        "mean_absolute_scaled_error(y_true=y_test[1:], y_pred=naive_forecast).numpy()"
      ],
      "execution_count": 23,
      "outputs": [
        {
          "output_type": "execute_result",
          "data": {
            "text/plain": [
              "0.9981955256551214"
            ]
          },
          "metadata": {},
          "execution_count": 23
        }
      ]
    },
    {
      "cell_type": "markdown",
      "metadata": {
        "id": "pwIZscy0sdL-"
      },
      "source": [
        "* Numpy uses generally float64 dtype"
      ]
    },
    {
      "cell_type": "code",
      "metadata": {
        "id": "NkQ5J7XSrGAj"
      },
      "source": [
        "# Create a function to take in model predictions and truth values and return evaluation metrics\n",
        "def evaluate_preds (y_true,y_pred):\n",
        "  # Make sure float32 datatype (for metric calculations)\n",
        "  y_true = tf.cast(y_true, dtype=tf.float32)\n",
        "  y_pred = tf.cast(y_pred, dtype=tf.float32)\n",
        "\n",
        "  # Calculate various evaluation metrics\n",
        "  mae = tf.keras.metrics.mean_absolute_error(y_true,y_pred)\n",
        "  mse = tf.keras.metrics.mean_squared_error(y_true,y_pred)\n",
        "  rmse = mse**0.5\n",
        "  mape = tf.keras.metrics.mean_absolute_percentage_error(y_true,y_pred)\n",
        "  mase = mean_absolute_scaled_error(y_true,y_pred)\n",
        "\n",
        "  return {\"mae\":mae.numpy(),\n",
        "          \"mse\":mse.numpy(),\n",
        "          \"rmse\":rmse.numpy(),\n",
        "          \"mape\":mape.numpy(),\n",
        "          \"mase\":mase.numpy()}"
      ],
      "execution_count": 24,
      "outputs": []
    },
    {
      "cell_type": "code",
      "metadata": {
        "colab": {
          "base_uri": "https://localhost:8080/"
        },
        "id": "WoUN2sSRuOk-",
        "outputId": "fb7c0fbe-7f9f-4cdd-f493-f5079cabad02"
      },
      "source": [
        "naive_results = evaluate_preds(y_true=y_test[1:],y_pred=naive_forecast)\n",
        "naive_results"
      ],
      "execution_count": 25,
      "outputs": [
        {
          "output_type": "execute_result",
          "data": {
            "text/plain": [
              "{'mae': 827.59515,\n",
              " 'mape': 2.602443,\n",
              " 'mase': 0.9981955,\n",
              " 'mse': 1765166.9,\n",
              " 'rmse': 1328.5958}"
            ]
          },
          "metadata": {},
          "execution_count": 25
        }
      ]
    },
    {
      "cell_type": "code",
      "metadata": {
        "colab": {
          "base_uri": "https://localhost:8080/"
        },
        "id": "Lsyxl5xouho9",
        "outputId": "33164f0c-ba51-4aec-8648-3848386db8af"
      },
      "source": [
        "tf.reduce_mean(y_test)"
      ],
      "execution_count": 26,
      "outputs": [
        {
          "output_type": "execute_result",
          "data": {
            "text/plain": [
              "<tf.Tensor: shape=(), dtype=float64, numpy=28468.213863463643>"
            ]
          },
          "metadata": {},
          "execution_count": 26
        }
      ]
    },
    {
      "cell_type": "code",
      "metadata": {
        "colab": {
          "base_uri": "https://localhost:8080/"
        },
        "id": "IBZfydD3vWJr",
        "outputId": "48998b00-c2a0-417b-f8c4-efa85fee1769"
      },
      "source": [
        "tf.reduce_min(y_test), tf.reduce_max(y_test)"
      ],
      "execution_count": 27,
      "outputs": [
        {
          "output_type": "execute_result",
          "data": {
            "text/plain": [
              "(<tf.Tensor: shape=(), dtype=float64, numpy=7542.303400703199>,\n",
              " <tf.Tensor: shape=(), dtype=float64, numpy=63346.7890351052>)"
            ]
          },
          "metadata": {},
          "execution_count": 27
        }
      ]
    },
    {
      "cell_type": "markdown",
      "metadata": {
        "id": "83vAljzlva-D"
      },
      "source": [
        "## Other models we can use for baselines and for actual forecasts\n",
        "\n",
        "In this notebook, we're focused on TensorFlow and deep learning models.\n",
        "\n",
        "However, there are plenty of other styles of time series forecasting models we may want to experiment with: https://dev.mrdbourke.com/tensorflow-deep-learning/10_time_series_forecasting_in_tensorflow/\n"
      ]
    },
    {
      "cell_type": "markdown",
      "metadata": {
        "id": "7IE0i9cQ9c4o"
      },
      "source": [
        "## Format Data Part 2: Windowing our dataset\n",
        "\n",
        "Why do we window?\n",
        "\n",
        "We window our time series dataset to turn our data into a supervised learning problem.\n",
        "\n",
        "```\n",
        "Windowing for one week\n",
        "[0,1,2,3,4,5,6] -> [7]\n",
        "[1,2,3,4,5,6,7] -> [8]\n",
        "[2,3,4,5,6,7,8] -> [9]\n",
        "```"
      ]
    },
    {
      "cell_type": "code",
      "metadata": {
        "colab": {
          "base_uri": "https://localhost:8080/"
        },
        "id": "YQRTLJLY_ZQP",
        "outputId": "74207871-e637-42b8-e2a6-ddf587f9b209"
      },
      "source": [
        "btc_price[:7], btc_price[7]"
      ],
      "execution_count": 28,
      "outputs": [
        {
          "output_type": "execute_result",
          "data": {
            "text/plain": [
              "([331.60083, 324.71833, 332.45666, 336.585, 346.775, 344.81166, 343.065],\n",
              " 358.50166)"
            ]
          },
          "metadata": {},
          "execution_count": 28
        }
      ]
    },
    {
      "cell_type": "code",
      "metadata": {
        "colab": {
          "base_uri": "https://localhost:8080/"
        },
        "id": "lVE5VECq_gBU",
        "outputId": "f1f23ff1-db6a-4990-f285-15a5760b0e25"
      },
      "source": [
        "# What we want to do with our bitcoin data\n",
        "print(f\"We want to use: {btc_price[:7]} to predict this: {btc_price[7]}\")"
      ],
      "execution_count": 29,
      "outputs": [
        {
          "output_type": "stream",
          "name": "stdout",
          "text": [
            "We want to use: [331.60083, 324.71833, 332.45666, 336.585, 346.775, 344.81166, 343.065] to predict this: 358.50166\n"
          ]
        }
      ]
    },
    {
      "cell_type": "code",
      "metadata": {
        "id": "0n803PhzAAea"
      },
      "source": [
        "# Let's setup global variables for window and horizon size\n",
        "HORIZON = 1 # predict next one day\n",
        "WINDOW_SIZE = 7 # use the past week of Bitcoin data to make the prediction"
      ],
      "execution_count": 30,
      "outputs": []
    },
    {
      "cell_type": "code",
      "metadata": {
        "id": "77UKKydfAY3f"
      },
      "source": [
        "# Create function to label windowed data\n",
        "def get_labelled_windows(x, horizon=HORIZON):\n",
        "  \"\"\"\n",
        "  Creates labels for windowed dataset.\n",
        "\n",
        "  E.g. if horizon = 1\n",
        "  Input: [0,1,2,3,4,5,6,7] -> Output: ([0,1,2,3,4,5,6],[7])\n",
        "  \"\"\"\n",
        "  return x[:, :-horizon], x[:, -horizon:]"
      ],
      "execution_count": 31,
      "outputs": []
    },
    {
      "cell_type": "code",
      "metadata": {
        "colab": {
          "base_uri": "https://localhost:8080/"
        },
        "id": "J4zB-8ZjDJTF",
        "outputId": "7d772660-d121-4f28-c729-71c9ec31fd31"
      },
      "source": [
        "# Test out the window labelling function\n",
        "test_window, test_label = get_labelled_windows(tf.expand_dims(tf.range(8),axis=0))\n",
        "print(f\"Window: {tf.squeeze(test_window).numpy()} -> Label: {tf.squeeze(test_label).numpy()}\")"
      ],
      "execution_count": 32,
      "outputs": [
        {
          "output_type": "stream",
          "name": "stdout",
          "text": [
            "Window: [0 1 2 3 4 5 6] -> Label: 7\n"
          ]
        }
      ]
    },
    {
      "cell_type": "markdown",
      "metadata": {
        "id": "KwL_YzuJOls0"
      },
      "source": [
        "We've got a way to label our windowed data.\n",
        "\n",
        "However, this only works on a small scale.\n",
        "\n",
        "We need a way to do the above accross our entire time series.\n",
        "\n",
        "We could do this with Python for loops, however, for large time series, that'd be quite slow.\n",
        "\n",
        "To speed things up, we'll leverage Numpy's array indexing.\n",
        "\n",
        "Our function will:\n",
        "1. Create a window step of specific window size (e.g. [0, 1, 2, 3, 4, 5, 6])\n",
        "2. Use Numpy indexing to create a 2D array of multiple window steps, for example:\n",
        "\n",
        "```\n",
        "[[0, 1, 2, 3, 4, 5, 6]\n",
        "[1, 2, 3, 4, 5, 6, 7]\n",
        "[2, 3, 4, 5, 6, 7, 8]\n",
        "---------------------]\n",
        "```\n",
        "3. Uses the 2D array of multiple window steps (from 2.) to index on a target series (e.g. the historical price of Bitcoin)\n",
        "4. Uses our `get_labelled_windows()` function we created above to turn the window steps into windows with a specified horizon.\n",
        "\n",
        "> **Resources:** The function we're about to create has been adapted from the following article:\n",
        "https://towardsdatascience.com/fast-and-robust-sliding-window-vectorization-with-numpy-3ad950ed62f5"
      ]
    },
    {
      "cell_type": "code",
      "metadata": {
        "id": "mmQdtC-5O8Fl"
      },
      "source": [
        "import numpy as np\n",
        "# Create function to view Numpy arrays as windows\n",
        "def make_windows(x, window_size=WINDOW_SIZE, horizon=HORIZON): \n",
        "  \"\"\"\n",
        "  Turns a 1D array into a 2D array of sequential labelled windows of window_size with horizon size labels.\n",
        "  \"\"\"\n",
        "  # 1. Create a window of specific window size (add the horizon on the end for labelling later)\n",
        "  window_step = np.expand_dims(np.arange(window_size+horizon),axis=0)\n",
        "  \n",
        "  # 2. Create a 2D array of multiple window steps (minus 1 to account for 0 indexing)\n",
        "  window_indexes = window_step + np.expand_dims(np.arange(len(x)-(window_size+horizon-1)),axis=0).T # create 2D array of windows of size window_size\n",
        "  \n",
        "  # 3. Index on the target array (a time series with 2D array of multiple timesteps)\n",
        "  windowed_array = x[window_indexes]\n",
        "  \n",
        "  # 4. Get the labelled windows \n",
        "  windows, labels = get_labelled_windows(x=windowed_array,horizon=horizon)\n",
        "  return windows,labels"
      ],
      "execution_count": 33,
      "outputs": []
    },
    {
      "cell_type": "code",
      "metadata": {
        "colab": {
          "base_uri": "https://localhost:8080/"
        },
        "id": "Ei3eqDDbTd6N",
        "outputId": "43c8f64b-e1a1-4186-bf55-172f2ae2177d"
      },
      "source": [
        "full_windows, full_labels = make_windows(prices)\n",
        "len(full_windows), len(full_labels)"
      ],
      "execution_count": 34,
      "outputs": [
        {
          "output_type": "execute_result",
          "data": {
            "text/plain": [
              "(2493, 2493)"
            ]
          },
          "metadata": {},
          "execution_count": 34
        }
      ]
    },
    {
      "cell_type": "code",
      "metadata": {
        "colab": {
          "base_uri": "https://localhost:8080/"
        },
        "id": "Yku51LLzcQHu",
        "outputId": "a206218e-63c2-4250-984c-b57e60a2f896"
      },
      "source": [
        "# View the first 3 windows and horizon\n",
        "for i in range(3):\n",
        "  print(f\"Window: {full_windows[i]} -> Horizon: {full_labels[i]}\")"
      ],
      "execution_count": 35,
      "outputs": [
        {
          "output_type": "stream",
          "name": "stdout",
          "text": [
            "Window: [331.60083 324.71833 332.45666 336.585   346.775   344.81166 343.065  ] -> Horizon: [358.50166]\n",
            "Window: [324.71833 332.45666 336.585   346.775   344.81166 343.065   358.50166] -> Horizon: [368.07666]\n",
            "Window: [332.45666 336.585   346.775   344.81166 343.065   358.50166 368.07666] -> Horizon: [376.99666]\n"
          ]
        }
      ]
    },
    {
      "cell_type": "code",
      "metadata": {
        "colab": {
          "base_uri": "https://localhost:8080/"
        },
        "id": "N2syfUfPcNgo",
        "outputId": "6e83965c-0490-499d-8860-23f05e0f6423"
      },
      "source": [
        "# View the last 3 windows and horizon\n",
        "for i in range(3):\n",
        "  print(f\"Window: {full_windows[i-3]} -> Horizon: {full_labels[i-3]}\")"
      ],
      "execution_count": 36,
      "outputs": [
        {
          "output_type": "stream",
          "name": "stdout",
          "text": [
            "Window: [48768.19008652 49184.2085095  47663.02250108 46919.51155472\n",
            " 48487.01118945 49725.53213449 49709.61199434] -> Horizon: [49999.55557859]\n",
            "Window: [49184.2085095  47663.02250108 46919.51155472 48487.01118945\n",
            " 49725.53213449 49709.61199434 49999.55557859] -> Horizon: [51693.80939808]\n",
            "Window: [47663.02250108 46919.51155472 48487.01118945 49725.53213449\n",
            " 49709.61199434 49999.55557859 51693.80939808] -> Horizon: [52506.68564748]\n"
          ]
        }
      ]
    },
    {
      "cell_type": "markdown",
      "metadata": {
        "id": "_vVLD23Yhxqc"
      },
      "source": [
        "## Turning windows into training and test sets"
      ]
    },
    {
      "cell_type": "code",
      "metadata": {
        "id": "6zj_NIXkjphn"
      },
      "source": [
        "# Make the train test splits\n",
        "def make_train_test_splits(windows,labels,test_split=0.2):\n",
        "  \"\"\"\n",
        "  Splits matching pairs of windows and labels into train and test splits\n",
        "  \"\"\"\n",
        "  split_size = int(len(windows) * (1-test_split)) # default to 80% train and 20% test\n",
        "  train_windows = windows[:split_size]\n",
        "  train_labels = labels[:split_size]\n",
        "  test_windows = windows[split_size:]\n",
        "  test_labels = labels[split_size:]\n",
        "  return train_windows, test_windows, train_labels, test_labels"
      ],
      "execution_count": 37,
      "outputs": []
    },
    {
      "cell_type": "code",
      "metadata": {
        "colab": {
          "base_uri": "https://localhost:8080/"
        },
        "id": "Rw0ZJkMIjsRK",
        "outputId": "684f4a9b-2c0e-40e0-912f-37c1a2b9b3fa"
      },
      "source": [
        "# Splitting the windows and labels\n",
        "train_windows, test_windows, train_labels, test_labels = make_train_test_splits(windows=full_windows, labels=full_labels, test_split=0.2)\n",
        "len(train_windows), len(test_windows), len(train_labels), len(test_labels)"
      ],
      "execution_count": 38,
      "outputs": [
        {
          "output_type": "execute_result",
          "data": {
            "text/plain": [
              "(1994, 499, 1994, 499)"
            ]
          },
          "metadata": {},
          "execution_count": 38
        }
      ]
    },
    {
      "cell_type": "code",
      "metadata": {
        "colab": {
          "base_uri": "https://localhost:8080/"
        },
        "id": "pu-NYhclmPA4",
        "outputId": "39b0e9b2-a028-44e1-d328-b8529eaae8f8"
      },
      "source": [
        "train_windows[:5], train_labels[:5]"
      ],
      "execution_count": 39,
      "outputs": [
        {
          "output_type": "execute_result",
          "data": {
            "text/plain": [
              "(array([[331.60083, 324.71833, 332.45666, 336.585  , 346.775  , 344.81166,\n",
              "         343.065  ],\n",
              "        [324.71833, 332.45666, 336.585  , 346.775  , 344.81166, 343.065  ,\n",
              "         358.50166],\n",
              "        [332.45666, 336.585  , 346.775  , 344.81166, 343.065  , 358.50166,\n",
              "         368.07666],\n",
              "        [336.585  , 346.775  , 344.81166, 343.065  , 358.50166, 368.07666,\n",
              "         376.99666],\n",
              "        [346.775  , 344.81166, 343.065  , 358.50166, 368.07666, 376.99666,\n",
              "         442.10666]]), array([[358.50166],\n",
              "        [368.07666],\n",
              "        [376.99666],\n",
              "        [442.10666],\n",
              "        [389.00333]]))"
            ]
          },
          "metadata": {},
          "execution_count": 39
        }
      ]
    },
    {
      "cell_type": "code",
      "metadata": {
        "colab": {
          "base_uri": "https://localhost:8080/"
        },
        "id": "RPM33plsmWMs",
        "outputId": "e43a05d7-8734-4cf9-9cfa-c87b0de01e81"
      },
      "source": [
        "# Check to see if train labels are the same (before and after window split)\n",
        "np.array_equal(np.squeeze(train_labels[:-HORIZON]),y_train[WINDOW_SIZE:])"
      ],
      "execution_count": 40,
      "outputs": [
        {
          "output_type": "execute_result",
          "data": {
            "text/plain": [
              "True"
            ]
          },
          "metadata": {},
          "execution_count": 40
        }
      ]
    },
    {
      "cell_type": "markdown",
      "metadata": {
        "id": "_QqZquA4ofmf"
      },
      "source": [
        "## Make a modelling checkpoint callback\n",
        "\n",
        "Because our model's performance will fluctuate from experiment to experiment, we're going to write a model checkpoint so we can compare apples to apples.\n",
        "\n",
        "More specifically, we want to compare each of our model's best performance against the other model's best performances.\n",
        "\n",
        "For example, if our model performs the best on epoch 55 (but we're training for 100 epochs), we want to load and evaluate the model saved on epoch 55.\n",
        "\n"
      ]
    },
    {
      "cell_type": "code",
      "metadata": {
        "id": "63UkgdMJpGmS"
      },
      "source": [
        "import os\n",
        "\n",
        "# Create a function to implement a ModelCheckpoint callback with a specific filename\n",
        "def create_model_checkpoint(model_name, save_path=\"model_experiments\"):\n",
        "  return tf.keras.callbacks.ModelCheckpoint(filepath=os.path.join(save_path,model_name),\n",
        "                                            save_best_only=True)"
      ],
      "execution_count": 41,
      "outputs": []
    },
    {
      "cell_type": "markdown",
      "metadata": {
        "id": "rsjWN0WcMzAs"
      },
      "source": [
        "## Model 1: Dense model (window=7, horizon=1)\n",
        "\n",
        "Our first deep model is going to be a simple dense model:\n",
        "* A single dense layer with 128 hidden units and ReLU\n",
        "* An output layer with linear activation (no activation)\n",
        "* Adam optimizer and MAE loss function\n",
        "* Batch size of 128 (previously we have used 32)\n",
        "* 100 epochs\n",
        "\n",
        "* **Hyperparameters:** values a machine learning practitioner can adjust themselves\n",
        "* **Parameters:** values a model learns on its own"
      ]
    },
    {
      "cell_type": "code",
      "metadata": {
        "colab": {
          "base_uri": "https://localhost:8080/"
        },
        "id": "YAYBVqU-Qv29",
        "outputId": "44db26b9-a62a-41ae-e296-ae02fc89c593"
      },
      "source": [
        "import tensorflow as tf\n",
        "from tensorflow.keras import layers\n",
        "from tensorflow.keras.optimizers import Adam\n",
        "from tensorflow.keras import Sequential\n",
        "\n",
        "# Set random seed for as reproducible results as possible\n",
        "tf.random.set_seed(42)\n",
        "\n",
        "# Construct the model\n",
        "model_1 = Sequential([\n",
        "  layers.Dense(128, activation=\"relu\"),\n",
        "  layers.Dense(HORIZON,activation=\"linear\")\n",
        "],name=\"model_1_dense\")\n",
        "\n",
        "# Compile the model\n",
        "model_1.compile(\n",
        "    loss = tf.keras.losses.MeanAbsoluteError(),\n",
        "    optimizer = Adam(),\n",
        "    metrics = [\"mae\",\"mse\"]\n",
        ")\n",
        "\n",
        "# Fit the model\n",
        "history_model_1 = model_1.fit(x=train_windows,y=train_labels,\n",
        "                              epochs=100,verbose=1,batch_size=128,\n",
        "                              validation_data=(test_windows,test_labels),\n",
        "                              callbacks=[create_model_checkpoint(model_name=model_1.name)])"
      ],
      "execution_count": 42,
      "outputs": [
        {
          "output_type": "stream",
          "name": "stdout",
          "text": [
            "Epoch 1/100\n",
            "16/16 [==============================] - 1s 15ms/step - loss: 1075.5380 - mae: 1075.5380 - mse: 3475300.5000 - val_loss: 3437.6372 - val_mae: 3437.6372 - val_mse: 22275854.0000\n",
            "INFO:tensorflow:Assets written to: model_experiments/model_1_dense/assets\n",
            "Epoch 2/100\n",
            "16/16 [==============================] - 0s 4ms/step - loss: 340.5405 - mae: 340.5405 - mse: 394173.4688 - val_loss: 1965.5205 - val_mae: 1965.5205 - val_mse: 7630076.5000\n",
            "INFO:tensorflow:Assets written to: model_experiments/model_1_dense/assets\n",
            "Epoch 3/100\n",
            "16/16 [==============================] - 0s 4ms/step - loss: 235.7424 - mae: 235.7424 - mse: 231472.2812 - val_loss: 1557.7600 - val_mae: 1557.7600 - val_mse: 5435897.0000\n",
            "INFO:tensorflow:Assets written to: model_experiments/model_1_dense/assets\n",
            "Epoch 4/100\n",
            "16/16 [==============================] - 0s 4ms/step - loss: 225.4089 - mae: 225.4089 - mse: 212815.9219 - val_loss: 1460.6967 - val_mae: 1460.6967 - val_mse: 4980615.0000\n",
            "INFO:tensorflow:Assets written to: model_experiments/model_1_dense/assets\n",
            "Epoch 5/100\n",
            "16/16 [==============================] - 0s 3ms/step - loss: 216.3324 - mae: 216.3324 - mse: 199023.2812 - val_loss: 1378.9265 - val_mae: 1378.9265 - val_mse: 4638703.0000\n",
            "INFO:tensorflow:Assets written to: model_experiments/model_1_dense/assets\n",
            "Epoch 6/100\n",
            "16/16 [==============================] - 0s 3ms/step - loss: 211.6907 - mae: 211.6907 - mse: 190973.1875 - val_loss: 1356.2898 - val_mae: 1356.2898 - val_mse: 4434485.0000\n",
            "INFO:tensorflow:Assets written to: model_experiments/model_1_dense/assets\n",
            "Epoch 7/100\n",
            "16/16 [==============================] - 0s 3ms/step - loss: 206.3254 - mae: 206.3254 - mse: 184331.1250 - val_loss: 1338.8209 - val_mae: 1338.8209 - val_mse: 4239889.0000\n",
            "INFO:tensorflow:Assets written to: model_experiments/model_1_dense/assets\n",
            "Epoch 8/100\n",
            "16/16 [==============================] - 0s 3ms/step - loss: 201.2187 - mae: 201.2187 - mse: 173817.0000 - val_loss: 1306.8107 - val_mae: 1306.8107 - val_mse: 3964656.0000\n",
            "INFO:tensorflow:Assets written to: model_experiments/model_1_dense/assets\n",
            "Epoch 9/100\n",
            "16/16 [==============================] - 0s 5ms/step - loss: 193.5151 - mae: 193.5151 - mse: 161401.6562 - val_loss: 1209.0176 - val_mae: 1209.0176 - val_mse: 3590406.7500\n",
            "INFO:tensorflow:Assets written to: model_experiments/model_1_dense/assets\n",
            "Epoch 10/100\n",
            "16/16 [==============================] - 0s 3ms/step - loss: 186.6008 - mae: 186.6008 - mse: 152372.5469 - val_loss: 1300.3784 - val_mae: 1300.3784 - val_mse: 3692381.7500\n",
            "Epoch 11/100\n",
            "16/16 [==============================] - 0s 3ms/step - loss: 183.8506 - mae: 183.8506 - mse: 144025.3750 - val_loss: 1177.9008 - val_mae: 1177.9008 - val_mse: 3464475.2500\n",
            "INFO:tensorflow:Assets written to: model_experiments/model_1_dense/assets\n",
            "Epoch 12/100\n",
            "16/16 [==============================] - 0s 4ms/step - loss: 177.2881 - mae: 177.2881 - mse: 138719.7500 - val_loss: 1147.0040 - val_mae: 1147.0040 - val_mse: 3029507.5000\n",
            "INFO:tensorflow:Assets written to: model_experiments/model_1_dense/assets\n",
            "Epoch 13/100\n",
            "16/16 [==============================] - 0s 4ms/step - loss: 172.3490 - mae: 172.3490 - mse: 132580.9688 - val_loss: 1152.4008 - val_mae: 1152.4008 - val_mse: 2967280.5000\n",
            "Epoch 14/100\n",
            "16/16 [==============================] - 0s 4ms/step - loss: 171.0696 - mae: 171.0696 - mse: 131196.3750 - val_loss: 1141.4454 - val_mae: 1141.4454 - val_mse: 2888120.7500\n",
            "INFO:tensorflow:Assets written to: model_experiments/model_1_dense/assets\n",
            "Epoch 15/100\n",
            "16/16 [==============================] - 0s 3ms/step - loss: 164.5090 - mae: 164.5090 - mse: 121563.6797 - val_loss: 1050.3549 - val_mae: 1050.3549 - val_mse: 2641359.5000\n",
            "INFO:tensorflow:Assets written to: model_experiments/model_1_dense/assets\n",
            "Epoch 16/100\n",
            "16/16 [==============================] - 0s 4ms/step - loss: 162.1857 - mae: 162.1857 - mse: 116912.8047 - val_loss: 1077.1665 - val_mae: 1077.1665 - val_mse: 2614986.2500\n",
            "Epoch 17/100\n",
            "16/16 [==============================] - 0s 5ms/step - loss: 160.8060 - mae: 160.8060 - mse: 116347.8984 - val_loss: 1024.9692 - val_mae: 1024.9692 - val_mse: 2459013.7500\n",
            "INFO:tensorflow:Assets written to: model_experiments/model_1_dense/assets\n",
            "Epoch 18/100\n",
            "16/16 [==============================] - 0s 3ms/step - loss: 158.8518 - mae: 158.8518 - mse: 115428.1562 - val_loss: 1047.4790 - val_mae: 1047.4790 - val_mse: 2473954.2500\n",
            "Epoch 19/100\n",
            "16/16 [==============================] - 0s 4ms/step - loss: 158.8535 - mae: 158.8535 - mse: 112511.7188 - val_loss: 1007.0408 - val_mae: 1007.0408 - val_mse: 2349728.5000\n",
            "INFO:tensorflow:Assets written to: model_experiments/model_1_dense/assets\n",
            "Epoch 20/100\n",
            "16/16 [==============================] - 0s 5ms/step - loss: 153.6309 - mae: 153.6309 - mse: 109159.5391 - val_loss: 1007.4773 - val_mae: 1007.4773 - val_mse: 2329938.0000\n",
            "Epoch 21/100\n",
            "16/16 [==============================] - 0s 3ms/step - loss: 153.1443 - mae: 153.1443 - mse: 106526.1328 - val_loss: 987.6705 - val_mae: 987.6705 - val_mse: 2268364.5000\n",
            "INFO:tensorflow:Assets written to: model_experiments/model_1_dense/assets\n",
            "Epoch 22/100\n",
            "16/16 [==============================] - 0s 3ms/step - loss: 149.9762 - mae: 149.9762 - mse: 104500.1406 - val_loss: 1052.4608 - val_mae: 1052.4608 - val_mse: 2442114.2500\n",
            "Epoch 23/100\n",
            "16/16 [==============================] - 0s 3ms/step - loss: 151.9166 - mae: 151.9166 - mse: 105220.5859 - val_loss: 1025.6963 - val_mae: 1025.6963 - val_mse: 2352047.0000\n",
            "Epoch 24/100\n",
            "16/16 [==============================] - 0s 4ms/step - loss: 157.3340 - mae: 157.3340 - mse: 106646.1250 - val_loss: 974.3030 - val_mae: 974.3030 - val_mse: 2202702.5000\n",
            "INFO:tensorflow:Assets written to: model_experiments/model_1_dense/assets\n",
            "Epoch 25/100\n",
            "16/16 [==============================] - 0s 3ms/step - loss: 151.3545 - mae: 151.3545 - mse: 101865.7891 - val_loss: 952.2648 - val_mae: 952.2648 - val_mse: 2146344.7500\n",
            "INFO:tensorflow:Assets written to: model_experiments/model_1_dense/assets\n",
            "Epoch 26/100\n",
            "16/16 [==============================] - 0s 4ms/step - loss: 148.7315 - mae: 148.7315 - mse: 102660.6016 - val_loss: 988.9203 - val_mae: 988.9203 - val_mse: 2231749.5000\n",
            "Epoch 27/100\n",
            "16/16 [==============================] - 0s 4ms/step - loss: 149.3685 - mae: 149.3685 - mse: 101688.9219 - val_loss: 990.0574 - val_mae: 990.0574 - val_mse: 2231938.2500\n",
            "Epoch 28/100\n",
            "16/16 [==============================] - 0s 4ms/step - loss: 146.9868 - mae: 146.9868 - mse: 99318.9375 - val_loss: 922.1734 - val_mae: 922.1734 - val_mse: 2069835.0000\n",
            "INFO:tensorflow:Assets written to: model_experiments/model_1_dense/assets\n",
            "Epoch 29/100\n",
            "16/16 [==============================] - 0s 4ms/step - loss: 145.6966 - mae: 145.6966 - mse: 100813.1484 - val_loss: 963.3752 - val_mae: 963.3752 - val_mse: 2266410.0000\n",
            "Epoch 30/100\n",
            "16/16 [==============================] - 0s 5ms/step - loss: 142.8171 - mae: 142.8171 - mse: 97125.1406 - val_loss: 915.7476 - val_mae: 915.7476 - val_mse: 2042927.6250\n",
            "INFO:tensorflow:Assets written to: model_experiments/model_1_dense/assets\n",
            "Epoch 31/100\n",
            "16/16 [==============================] - 0s 3ms/step - loss: 141.5993 - mae: 141.5993 - mse: 96531.4453 - val_loss: 910.9458 - val_mae: 910.9458 - val_mse: 2028742.3750\n",
            "INFO:tensorflow:Assets written to: model_experiments/model_1_dense/assets\n",
            "Epoch 32/100\n",
            "16/16 [==============================] - 0s 3ms/step - loss: 144.9192 - mae: 144.9192 - mse: 97797.6172 - val_loss: 929.4428 - val_mae: 929.4428 - val_mse: 2131452.2500\n",
            "Epoch 33/100\n",
            "16/16 [==============================] - 0s 3ms/step - loss: 143.1018 - mae: 143.1018 - mse: 97425.1406 - val_loss: 907.6654 - val_mae: 907.6654 - val_mse: 2010609.6250\n",
            "INFO:tensorflow:Assets written to: model_experiments/model_1_dense/assets\n",
            "Epoch 34/100\n",
            "16/16 [==============================] - 0s 4ms/step - loss: 145.2609 - mae: 145.2609 - mse: 96503.8672 - val_loss: 908.2295 - val_mae: 908.2295 - val_mse: 2050983.5000\n",
            "Epoch 35/100\n",
            "16/16 [==============================] - 0s 4ms/step - loss: 143.8937 - mae: 143.8937 - mse: 97425.6719 - val_loss: 953.8276 - val_mae: 953.8276 - val_mse: 2105548.0000\n",
            "Epoch 36/100\n",
            "16/16 [==============================] - 0s 4ms/step - loss: 140.4920 - mae: 140.4920 - mse: 95980.2109 - val_loss: 893.7420 - val_mae: 893.7420 - val_mse: 1979926.6250\n",
            "INFO:tensorflow:Assets written to: model_experiments/model_1_dense/assets\n",
            "Epoch 37/100\n",
            "16/16 [==============================] - 0s 3ms/step - loss: 139.2330 - mae: 139.2330 - mse: 94502.1875 - val_loss: 908.5672 - val_mae: 908.5672 - val_mse: 1994719.6250\n",
            "Epoch 38/100\n",
            "16/16 [==============================] - 0s 4ms/step - loss: 138.7294 - mae: 138.7294 - mse: 93885.3516 - val_loss: 912.2020 - val_mae: 912.2020 - val_mse: 1999603.3750\n",
            "Epoch 39/100\n",
            "16/16 [==============================] - 0s 3ms/step - loss: 139.5165 - mae: 139.5165 - mse: 94061.5234 - val_loss: 956.7286 - val_mae: 956.7286 - val_mse: 2106580.5000\n",
            "Epoch 40/100\n",
            "16/16 [==============================] - 0s 3ms/step - loss: 146.5147 - mae: 146.5147 - mse: 98351.3672 - val_loss: 880.5778 - val_mae: 880.5778 - val_mse: 1947965.8750\n",
            "INFO:tensorflow:Assets written to: model_experiments/model_1_dense/assets\n",
            "Epoch 41/100\n",
            "16/16 [==============================] - 0s 4ms/step - loss: 147.0055 - mae: 147.0055 - mse: 96432.6875 - val_loss: 930.4747 - val_mae: 930.4747 - val_mse: 2033831.0000\n",
            "Epoch 42/100\n",
            "16/16 [==============================] - 0s 4ms/step - loss: 147.2750 - mae: 147.2750 - mse: 97765.0391 - val_loss: 898.5078 - val_mae: 898.5078 - val_mse: 1959103.1250\n",
            "Epoch 43/100\n",
            "16/16 [==============================] - 0s 3ms/step - loss: 142.1126 - mae: 142.1126 - mse: 94685.2969 - val_loss: 894.5146 - val_mae: 894.5146 - val_mse: 1995744.8750\n",
            "Epoch 44/100\n",
            "16/16 [==============================] - 0s 4ms/step - loss: 145.9300 - mae: 145.9300 - mse: 95399.8750 - val_loss: 889.6111 - val_mae: 889.6111 - val_mse: 1979913.7500\n",
            "Epoch 45/100\n",
            "16/16 [==============================] - 0s 3ms/step - loss: 139.1211 - mae: 139.1211 - mse: 91517.2266 - val_loss: 896.5963 - val_mae: 896.5963 - val_mse: 1949702.6250\n",
            "Epoch 46/100\n",
            "16/16 [==============================] - 0s 3ms/step - loss: 140.1608 - mae: 140.1608 - mse: 94007.3750 - val_loss: 885.5280 - val_mae: 885.5280 - val_mse: 1926355.1250\n",
            "Epoch 47/100\n",
            "16/16 [==============================] - 0s 4ms/step - loss: 136.6521 - mae: 136.6521 - mse: 90077.7891 - val_loss: 872.9381 - val_mae: 872.9381 - val_mse: 1927684.2500\n",
            "INFO:tensorflow:Assets written to: model_experiments/model_1_dense/assets\n",
            "Epoch 48/100\n",
            "16/16 [==============================] - 0s 4ms/step - loss: 136.8800 - mae: 136.8800 - mse: 90892.6953 - val_loss: 903.3711 - val_mae: 903.3711 - val_mse: 1959570.7500\n",
            "Epoch 49/100\n",
            "16/16 [==============================] - 0s 3ms/step - loss: 135.8462 - mae: 135.8462 - mse: 91193.2656 - val_loss: 896.0238 - val_mae: 896.0238 - val_mse: 1941802.2500\n",
            "Epoch 50/100\n",
            "16/16 [==============================] - 0s 4ms/step - loss: 136.4782 - mae: 136.4782 - mse: 89943.8125 - val_loss: 884.2527 - val_mae: 884.2527 - val_mse: 1916415.1250\n",
            "Epoch 51/100\n",
            "16/16 [==============================] - 0s 4ms/step - loss: 138.2253 - mae: 138.2253 - mse: 91187.4453 - val_loss: 885.5499 - val_mae: 885.5499 - val_mse: 1917262.5000\n",
            "Epoch 52/100\n",
            "16/16 [==============================] - 0s 5ms/step - loss: 138.1771 - mae: 138.1771 - mse: 90007.0234 - val_loss: 884.2418 - val_mae: 884.2418 - val_mse: 1956077.5000\n",
            "Epoch 53/100\n",
            "16/16 [==============================] - 0s 3ms/step - loss: 136.5021 - mae: 136.5021 - mse: 90527.4297 - val_loss: 859.5220 - val_mae: 859.5220 - val_mse: 1884267.1250\n",
            "INFO:tensorflow:Assets written to: model_experiments/model_1_dense/assets\n",
            "Epoch 54/100\n",
            "16/16 [==============================] - 0s 5ms/step - loss: 137.3813 - mae: 137.3813 - mse: 90156.8672 - val_loss: 865.2886 - val_mae: 865.2886 - val_mse: 1903579.8750\n",
            "Epoch 55/100\n",
            "16/16 [==============================] - 0s 4ms/step - loss: 137.2612 - mae: 137.2612 - mse: 90679.2188 - val_loss: 915.0991 - val_mae: 915.0991 - val_mse: 2039905.8750\n",
            "Epoch 56/100\n",
            "16/16 [==============================] - 0s 3ms/step - loss: 135.0901 - mae: 135.0901 - mse: 88024.9766 - val_loss: 855.6866 - val_mae: 855.6866 - val_mse: 1866461.1250\n",
            "INFO:tensorflow:Assets written to: model_experiments/model_1_dense/assets\n",
            "Epoch 57/100\n",
            "16/16 [==============================] - 0s 4ms/step - loss: 136.0956 - mae: 136.0956 - mse: 88555.4297 - val_loss: 899.8036 - val_mae: 899.8036 - val_mse: 1942792.7500\n",
            "Epoch 58/100\n",
            "16/16 [==============================] - 0s 4ms/step - loss: 134.1327 - mae: 134.1327 - mse: 88454.9531 - val_loss: 856.2852 - val_mae: 856.2852 - val_mse: 1876848.6250\n",
            "Epoch 59/100\n",
            "16/16 [==============================] - 0s 4ms/step - loss: 133.8850 - mae: 133.8850 - mse: 88152.9141 - val_loss: 900.8132 - val_mae: 900.8132 - val_mse: 1944139.1250\n",
            "Epoch 60/100\n",
            "16/16 [==============================] - 0s 3ms/step - loss: 136.2157 - mae: 136.2157 - mse: 90237.1562 - val_loss: 879.6394 - val_mae: 879.6394 - val_mse: 1935242.2500\n",
            "Epoch 61/100\n",
            "16/16 [==============================] - 0s 4ms/step - loss: 135.0283 - mae: 135.0283 - mse: 89387.9609 - val_loss: 893.5257 - val_mae: 893.5257 - val_mse: 1925593.7500\n",
            "Epoch 62/100\n",
            "16/16 [==============================] - 0s 3ms/step - loss: 138.5948 - mae: 138.5948 - mse: 91225.8750 - val_loss: 857.2595 - val_mae: 857.2595 - val_mse: 1878339.5000\n",
            "Epoch 63/100\n",
            "16/16 [==============================] - 0s 3ms/step - loss: 140.1586 - mae: 140.1586 - mse: 91281.1953 - val_loss: 852.8536 - val_mae: 852.8536 - val_mse: 1866536.2500\n",
            "INFO:tensorflow:Assets written to: model_experiments/model_1_dense/assets\n",
            "Epoch 64/100\n",
            "16/16 [==============================] - 0s 3ms/step - loss: 133.0216 - mae: 133.0216 - mse: 87939.1250 - val_loss: 851.5010 - val_mae: 851.5010 - val_mse: 1843031.2500\n",
            "INFO:tensorflow:Assets written to: model_experiments/model_1_dense/assets\n",
            "Epoch 65/100\n",
            "16/16 [==============================] - 0s 4ms/step - loss: 135.1891 - mae: 135.1891 - mse: 89775.2266 - val_loss: 846.9747 - val_mae: 846.9747 - val_mse: 1846288.1250\n",
            "INFO:tensorflow:Assets written to: model_experiments/model_1_dense/assets\n",
            "Epoch 66/100\n",
            "16/16 [==============================] - 0s 3ms/step - loss: 136.1519 - mae: 136.1519 - mse: 88078.1797 - val_loss: 893.4500 - val_mae: 893.4500 - val_mse: 1967983.8750\n",
            "Epoch 67/100\n",
            "16/16 [==============================] - 0s 3ms/step - loss: 135.6817 - mae: 135.6817 - mse: 87799.0859 - val_loss: 880.7923 - val_mae: 880.7923 - val_mse: 1893305.2500\n",
            "Epoch 68/100\n",
            "16/16 [==============================] - 0s 3ms/step - loss: 138.2491 - mae: 138.2491 - mse: 90000.4609 - val_loss: 887.8328 - val_mae: 887.8328 - val_mse: 1951345.1250\n",
            "Epoch 69/100\n",
            "16/16 [==============================] - 0s 4ms/step - loss: 134.1468 - mae: 134.1468 - mse: 86986.5625 - val_loss: 882.1389 - val_mae: 882.1389 - val_mse: 1935337.0000\n",
            "Epoch 70/100\n",
            "16/16 [==============================] - 0s 4ms/step - loss: 134.7581 - mae: 134.7581 - mse: 87782.3828 - val_loss: 895.9905 - val_mae: 895.9905 - val_mse: 1972341.2500\n",
            "Epoch 71/100\n",
            "16/16 [==============================] - 0s 3ms/step - loss: 135.5580 - mae: 135.5580 - mse: 91082.8516 - val_loss: 947.1871 - val_mae: 947.1871 - val_mse: 2060843.6250\n",
            "Epoch 72/100\n",
            "16/16 [==============================] - 0s 4ms/step - loss: 136.6872 - mae: 136.6872 - mse: 88394.5312 - val_loss: 967.1486 - val_mae: 967.1486 - val_mse: 2116432.7500\n",
            "Epoch 73/100\n",
            "16/16 [==============================] - 0s 4ms/step - loss: 136.5734 - mae: 136.5734 - mse: 89097.7266 - val_loss: 852.7668 - val_mae: 852.7668 - val_mse: 1833513.0000\n",
            "Epoch 74/100\n",
            "16/16 [==============================] - 0s 3ms/step - loss: 133.6082 - mae: 133.6082 - mse: 87643.6328 - val_loss: 840.0981 - val_mae: 840.0981 - val_mse: 1822069.2500\n",
            "INFO:tensorflow:Assets written to: model_experiments/model_1_dense/assets\n",
            "Epoch 75/100\n",
            "16/16 [==============================] - 0s 3ms/step - loss: 132.7392 - mae: 132.7392 - mse: 86951.7344 - val_loss: 846.4261 - val_mae: 846.4261 - val_mse: 1822149.2500\n",
            "Epoch 76/100\n",
            "16/16 [==============================] - 0s 3ms/step - loss: 142.2733 - mae: 142.2733 - mse: 93665.4062 - val_loss: 974.2576 - val_mae: 974.2576 - val_mse: 2137260.5000\n",
            "Epoch 77/100\n",
            "16/16 [==============================] - 0s 5ms/step - loss: 135.8268 - mae: 135.8268 - mse: 88887.0859 - val_loss: 841.6423 - val_mae: 841.6423 - val_mse: 1815996.2500\n",
            "Epoch 78/100\n",
            "16/16 [==============================] - 0s 3ms/step - loss: 136.2042 - mae: 136.2042 - mse: 89597.2109 - val_loss: 880.1732 - val_mae: 880.1732 - val_mse: 1929219.3750\n",
            "Epoch 79/100\n",
            "16/16 [==============================] - 0s 4ms/step - loss: 134.4310 - mae: 134.4310 - mse: 87213.4453 - val_loss: 878.4764 - val_mae: 878.4764 - val_mse: 1883746.2500\n",
            "Epoch 80/100\n",
            "16/16 [==============================] - 0s 4ms/step - loss: 135.0442 - mae: 135.0442 - mse: 86794.7188 - val_loss: 876.0788 - val_mae: 876.0788 - val_mse: 1877921.6250\n",
            "Epoch 81/100\n",
            "16/16 [==============================] - 0s 4ms/step - loss: 133.1598 - mae: 133.1598 - mse: 86742.0859 - val_loss: 929.2235 - val_mae: 929.2235 - val_mse: 2012796.1250\n",
            "Epoch 82/100\n",
            "16/16 [==============================] - 0s 4ms/step - loss: 136.5203 - mae: 136.5203 - mse: 89486.3594 - val_loss: 1003.5341 - val_mae: 1003.5341 - val_mse: 2331716.0000\n",
            "Epoch 83/100\n",
            "16/16 [==============================] - 0s 3ms/step - loss: 140.6922 - mae: 140.6922 - mse: 90190.8516 - val_loss: 883.5443 - val_mae: 883.5443 - val_mse: 1937404.6250\n",
            "Epoch 84/100\n",
            "16/16 [==============================] - 0s 4ms/step - loss: 137.8439 - mae: 137.8439 - mse: 89359.6719 - val_loss: 836.5683 - val_mae: 836.5683 - val_mse: 1812476.8750\n",
            "INFO:tensorflow:Assets written to: model_experiments/model_1_dense/assets\n",
            "Epoch 85/100\n",
            "16/16 [==============================] - 0s 3ms/step - loss: 136.1848 - mae: 136.1848 - mse: 90476.5391 - val_loss: 931.3165 - val_mae: 931.3165 - val_mse: 2018030.0000\n",
            "Epoch 86/100\n",
            "16/16 [==============================] - 0s 4ms/step - loss: 133.4709 - mae: 133.4709 - mse: 86703.3281 - val_loss: 859.2621 - val_mae: 859.2621 - val_mse: 1875021.2500\n",
            "Epoch 87/100\n",
            "16/16 [==============================] - 0s 4ms/step - loss: 134.9820 - mae: 134.9820 - mse: 86884.1484 - val_loss: 848.1985 - val_mae: 848.1985 - val_mse: 1846733.5000\n",
            "Epoch 88/100\n",
            "16/16 [==============================] - 0s 3ms/step - loss: 132.9599 - mae: 132.9599 - mse: 86335.0312 - val_loss: 844.7390 - val_mae: 844.7390 - val_mse: 1835873.3750\n",
            "Epoch 89/100\n",
            "16/16 [==============================] - 0s 3ms/step - loss: 133.1128 - mae: 133.1128 - mse: 86865.1719 - val_loss: 834.4005 - val_mae: 834.4005 - val_mse: 1802183.5000\n",
            "INFO:tensorflow:Assets written to: model_experiments/model_1_dense/assets\n",
            "Epoch 90/100\n",
            "16/16 [==============================] - 0s 5ms/step - loss: 131.8441 - mae: 131.8441 - mse: 85418.7578 - val_loss: 837.1389 - val_mae: 837.1389 - val_mse: 1805226.8750\n",
            "Epoch 91/100\n",
            "16/16 [==============================] - 0s 3ms/step - loss: 145.3655 - mae: 145.3655 - mse: 93573.2500 - val_loss: 858.8721 - val_mae: 858.8721 - val_mse: 1840439.7500\n",
            "Epoch 92/100\n",
            "16/16 [==============================] - 0s 3ms/step - loss: 135.2733 - mae: 135.2733 - mse: 88015.0703 - val_loss: 1026.0665 - val_mae: 1026.0665 - val_mse: 2410225.0000\n",
            "Epoch 93/100\n",
            "16/16 [==============================] - 0s 3ms/step - loss: 142.9538 - mae: 142.9538 - mse: 90038.4766 - val_loss: 908.9114 - val_mae: 908.9114 - val_mse: 2007083.8750\n",
            "Epoch 94/100\n",
            "16/16 [==============================] - 0s 3ms/step - loss: 148.7562 - mae: 148.7562 - mse: 97098.1641 - val_loss: 1037.0994 - val_mae: 1037.0994 - val_mse: 2449157.5000\n",
            "Epoch 95/100\n",
            "16/16 [==============================] - 0s 3ms/step - loss: 139.5042 - mae: 139.5042 - mse: 90351.1172 - val_loss: 840.1355 - val_mae: 840.1355 - val_mse: 1807871.5000\n",
            "Epoch 96/100\n",
            "16/16 [==============================] - 0s 4ms/step - loss: 138.4448 - mae: 138.4448 - mse: 89284.4062 - val_loss: 857.8576 - val_mae: 857.8576 - val_mse: 1836146.1250\n",
            "Epoch 97/100\n",
            "16/16 [==============================] - 0s 3ms/step - loss: 132.0308 - mae: 132.0308 - mse: 85729.1562 - val_loss: 845.8348 - val_mae: 845.8348 - val_mse: 1814868.1250\n",
            "Epoch 98/100\n",
            "16/16 [==============================] - 0s 4ms/step - loss: 130.7182 - mae: 130.7182 - mse: 85156.7578 - val_loss: 850.9350 - val_mae: 850.9350 - val_mse: 1822119.2500\n",
            "Epoch 99/100\n",
            "16/16 [==============================] - 0s 3ms/step - loss: 131.2904 - mae: 131.2904 - mse: 85069.3672 - val_loss: 886.9465 - val_mae: 886.9465 - val_mse: 1905571.3750\n",
            "Epoch 100/100\n",
            "16/16 [==============================] - 0s 5ms/step - loss: 135.8625 - mae: 135.8625 - mse: 87961.3906 - val_loss: 841.5276 - val_mae: 841.5276 - val_mse: 1825305.5000\n"
          ]
        }
      ]
    },
    {
      "cell_type": "code",
      "metadata": {
        "colab": {
          "base_uri": "https://localhost:8080/"
        },
        "id": "UKFOwRwGSdZe",
        "outputId": "6e9114f5-460b-414d-8b76-bd41fc7eb73b"
      },
      "source": [
        "# Evaluate model on the test data\n",
        "model_1.evaluate(test_windows, test_labels)"
      ],
      "execution_count": 43,
      "outputs": [
        {
          "output_type": "stream",
          "name": "stdout",
          "text": [
            "16/16 [==============================] - 0s 1ms/step - loss: 841.5277 - mae: 841.5277 - mse: 1825305.5000\n"
          ]
        },
        {
          "output_type": "execute_result",
          "data": {
            "text/plain": [
              "[841.5277099609375, 841.5277099609375, 1825305.5]"
            ]
          },
          "metadata": {},
          "execution_count": 43
        }
      ]
    },
    {
      "cell_type": "code",
      "metadata": {
        "colab": {
          "base_uri": "https://localhost:8080/"
        },
        "id": "qlS0WtoEU9VR",
        "outputId": "5472a1a1-4b11-4644-9f5d-45680f876ff6"
      },
      "source": [
        "# Load in saved best performing model_1 and evaluate it on test data\n",
        "model_1 = tf.keras.models.load_model(\"model_experiments/model_1_dense/\")\n",
        "model_1.evaluate(test_windows,test_labels)"
      ],
      "execution_count": 44,
      "outputs": [
        {
          "output_type": "stream",
          "name": "stdout",
          "text": [
            "16/16 [==============================] - 0s 2ms/step - loss: 834.4005 - mae: 834.4005 - mse: 1802183.6250\n"
          ]
        },
        {
          "output_type": "execute_result",
          "data": {
            "text/plain": [
              "[834.4005126953125, 834.4005126953125, 1802183.625]"
            ]
          },
          "metadata": {},
          "execution_count": 44
        }
      ]
    },
    {
      "cell_type": "markdown",
      "metadata": {
        "id": "qN_2APxZV1p-"
      },
      "source": [
        "## Making forecasts with a model (on the test dataset)\n",
        "\n",
        "To make \"forecasts\" on the test dataset (note: these won't be actual forecasts, they're only psuedo forecasts because actual forecasts are into the future), let's write a function to:\n",
        "\n",
        "1. Take in a trained model\n",
        "2. Takes in some input data (same kind of data the model was trained on)\n",
        "3. Passes the input data to the model's `predict()` method\n",
        "4. Returns the predictions\n"
      ]
    },
    {
      "cell_type": "code",
      "metadata": {
        "id": "_fNxMImrcQW1"
      },
      "source": [
        "def make_preds(model, input_data):\n",
        "  \"\"\"\n",
        "  Uses model to make predictions on input data\n",
        "  \"\"\"\n",
        "  forecast = model.predict(input_data)\n",
        "  return tf.squeeze(forecast) # return 1D array of predictions"
      ],
      "execution_count": 45,
      "outputs": []
    },
    {
      "cell_type": "code",
      "metadata": {
        "colab": {
          "base_uri": "https://localhost:8080/"
        },
        "id": "KkUNcp5Cc-4D",
        "outputId": "cd80d6c0-1426-4d24-d0e4-9d8e15032f69"
      },
      "source": [
        "# Make predictions using model_1 on the test dataset\n",
        "model_1_preds = make_preds(model_1, test_windows)\n",
        "model_1_preds[:10], len(model_1_preds)"
      ],
      "execution_count": 50,
      "outputs": [
        {
          "output_type": "execute_result",
          "data": {
            "text/plain": [
              "(<tf.Tensor: shape=(10,), dtype=float32, numpy=\n",
              " array([7562.6055, 7631.9004, 7793.8687, 7789.7383, 8619.2295, 8836.048 ,\n",
              "        8910.404 , 8960.866 , 8989.898 , 8917.392 ], dtype=float32)>, 499)"
            ]
          },
          "metadata": {},
          "execution_count": 50
        }
      ]
    },
    {
      "cell_type": "code",
      "metadata": {
        "colab": {
          "base_uri": "https://localhost:8080/"
        },
        "id": "nzL_pl14eYv-",
        "outputId": "8af7e534-5353-4b34-9686-b5c2adb44813"
      },
      "source": [
        "# Evaluate preds\n",
        "model_1_results = evaluate_preds(y_true=tf.squeeze(test_labels),y_pred=model_1_preds)\n",
        "model_1_results"
      ],
      "execution_count": 54,
      "outputs": [
        {
          "output_type": "execute_result",
          "data": {
            "text/plain": [
              "{'mae': 834.4006,\n",
              " 'mape': 2.6265302,\n",
              " 'mase': 1.0064038,\n",
              " 'mse': 1802183.6,\n",
              " 'rmse': 1342.4543}"
            ]
          },
          "metadata": {},
          "execution_count": 54
        }
      ]
    },
    {
      "cell_type": "code",
      "metadata": {
        "colab": {
          "base_uri": "https://localhost:8080/"
        },
        "id": "Cj9F_LOLeb6B",
        "outputId": "e3eed2e0-e52d-452e-dc3d-d3b0d34d7c1a"
      },
      "source": [
        "naive_results"
      ],
      "execution_count": 58,
      "outputs": [
        {
          "output_type": "execute_result",
          "data": {
            "text/plain": [
              "{'mae': 827.59515,\n",
              " 'mape': 2.602443,\n",
              " 'mase': 0.9981955,\n",
              " 'mse': 1765166.9,\n",
              " 'rmse': 1328.5958}"
            ]
          },
          "metadata": {},
          "execution_count": 58
        }
      ]
    },
    {
      "cell_type": "code",
      "metadata": {
        "colab": {
          "base_uri": "https://localhost:8080/",
          "height": 444
        },
        "id": "tj9PN8Xmfy1g",
        "outputId": "0e2d67ae-484a-484d-e08b-0cfe27b0bb62"
      },
      "source": [
        "# Let's plot model_1 predictions\n",
        "offset=300\n",
        "plt.figure(figsize=(15,7))\n",
        "# Account for the test_window offset and index into test_labels to ensure correct plotting\n",
        "plot_time_series(timesteps=X_test[-len(test_windows):],\n",
        "                 values=test_labels[:,0],\n",
        "                 start=offset,\n",
        "                 format=\"-\",\n",
        "                 label=\"Test Data\")\n",
        "plot_time_series(timesteps=X_test[-len(test_windows):],\n",
        "                 values=model_1_preds,\n",
        "                 format=\"-\",\n",
        "                 start=offset,\n",
        "                 label=\"Predicted\")"
      ],
      "execution_count": 85,
      "outputs": [
        {
          "output_type": "display_data",
          "data": {
            "image/png": "[encoded data removed]",
            "text/plain": [
              "<Figure size 1080x504 with 1 Axes>"
            ]
          },
          "metadata": {
            "needs_background": "light"
          }
        }
      ]
    },
    {
      "cell_type": "markdown",
      "metadata": {
        "id": "hqy71PCJnJSV"
      },
      "source": [
        "## Model 2: Similar to Model 1 but with window size=30 & horizon=1"
      ]
    },
    {
      "cell_type": "code",
      "metadata": {
        "colab": {
          "base_uri": "https://localhost:8080/"
        },
        "id": "xJkTeMeco9gi",
        "outputId": "8bfd8e3e-ff08-4c51-c2f6-f3a467e85553"
      },
      "source": [
        "# What we want to do with our bitcoin data\n",
        "print(f\"We want to use: {btc_price[:30]} to predict this: {btc_price[30]}\")"
      ],
      "execution_count": 88,
      "outputs": [
        {
          "output_type": "stream",
          "name": "stdout",
          "text": [
            "We want to use: [331.60083, 324.71833, 332.45666, 336.585, 346.775, 344.81166, 343.065, 358.50166, 368.07666, 376.99666, 442.10666, 389.00333, 394.92666, 377.08, 400.47166, 384.93, 375.83333, 376.16, 348.565, 352.42, 356.8, 367.83, 381.20666, 375.498, 372.819, 368.983, 375.44, 376.851, 376.13218, 377.862] to predict this: 382.452\n"
          ]
        }
      ]
    },
    {
      "cell_type": "code",
      "metadata": {
        "colab": {
          "base_uri": "https://localhost:8080/"
        },
        "id": "4llvWROjlPDH",
        "outputId": "ab30863d-3be4-4c75-9945-f25efb909715"
      },
      "source": [
        "# Test out the window labelling function\n",
        "test_window, test_label = get_labelled_windows(tf.expand_dims(tf.range(31),axis=0))\n",
        "print(f\"Window: {tf.squeeze(test_window).numpy()} -> Label: {tf.squeeze(test_label).numpy()}\")"
      ],
      "execution_count": 87,
      "outputs": [
        {
          "output_type": "stream",
          "name": "stdout",
          "text": [
            "Window: [ 0  1  2  3  4  5  6  7  8  9 10 11 12 13 14 15 16 17 18 19 20 21 22 23\n",
            " 24 25 26 27 28 29] -> Label: 30\n"
          ]
        }
      ]
    },
    {
      "cell_type": "code",
      "metadata": {
        "colab": {
          "base_uri": "https://localhost:8080/"
        },
        "id": "UFXEUrxvpfGm",
        "outputId": "fb03ed17-3162-48ce-f633-3a40823caa6d"
      },
      "source": [
        "# Make windows data with horizon\n",
        "full_windows_30, full_labels_30 = make_windows(x=prices,window_size=30,horizon=1)\n",
        "full_windows_30[0], full_labels_30[0]"
      ],
      "execution_count": 94,
      "outputs": [
        {
          "output_type": "execute_result",
          "data": {
            "text/plain": [
              "(array([331.60083, 324.71833, 332.45666, 336.585  , 346.775  , 344.81166,\n",
              "        343.065  , 358.50166, 368.07666, 376.99666, 442.10666, 389.00333,\n",
              "        394.92666, 377.08   , 400.47166, 384.93   , 375.83333, 376.16   ,\n",
              "        348.565  , 352.42   , 356.8    , 367.83   , 381.20666, 375.498  ,\n",
              "        372.819  , 368.983  , 375.44   , 376.851  , 376.13218, 377.862  ]),\n",
              " array([382.452]))"
            ]
          },
          "metadata": {},
          "execution_count": 94
        }
      ]
    },
    {
      "cell_type": "code",
      "metadata": {
        "colab": {
          "base_uri": "https://localhost:8080/"
        },
        "id": "EAxM8cbGqwbM",
        "outputId": "15fccfb4-6457-478e-a911-c6d5326e5bf7"
      },
      "source": [
        "# Make train and test windows\n",
        "train_windows_30,test_windows_30,train_labels_30,test_labels_30 =  make_train_test_splits(windows=full_windows_30,\n",
        "                                                                                          labels=full_labels_30,\n",
        "                                                                                          test_split=0.2)\n",
        "len(train_windows_30),len(test_windows_30),len(train_labels_30),len(test_labels_30)"
      ],
      "execution_count": 95,
      "outputs": [
        {
          "output_type": "execute_result",
          "data": {
            "text/plain": [
              "(1976, 494, 1976, 494)"
            ]
          },
          "metadata": {},
          "execution_count": 95
        }
      ]
    },
    {
      "cell_type": "code",
      "metadata": {
        "colab": {
          "base_uri": "https://localhost:8080/"
        },
        "id": "iv3F9i_ss45e",
        "outputId": "d9465269-55a6-4dc2-e890-105536bd0dba"
      },
      "source": [
        "# Set random seed for as reproducible results as possible\n",
        "tf.random.set_seed(42)\n",
        "\n",
        "# Construct the model\n",
        "model_2 = Sequential([\n",
        "  layers.Dense(128, activation=\"relu\"),\n",
        "  layers.Dense(HORIZON,activation=\"linear\")\n",
        "],name=\"model_2_dense\")\n",
        "\n",
        "# Compile the model\n",
        "model_2.compile(\n",
        "    loss = tf.keras.losses.MeanAbsoluteError(),\n",
        "    optimizer = Adam(),\n",
        "    metrics = [\"mae\",\"mse\"]\n",
        ")\n",
        "\n",
        "# Fit the model\n",
        "history_model_2 = model_2.fit(x=train_windows_30,y=train_labels_30,\n",
        "                              epochs=100,verbose=1,batch_size=128,\n",
        "                              validation_data=(test_windows_30,test_labels_30),\n",
        "                              callbacks=[create_model_checkpoint(model_name=model_2.name)])"
      ],
      "execution_count": 103,
      "outputs": [
        {
          "output_type": "stream",
          "name": "stdout",
          "text": [
            "Epoch 1/100\n",
            "16/16 [==============================] - 1s 12ms/step - loss: 1294.1385 - mae: 1294.1385 - mse: 5387439.0000 - val_loss: 5611.2490 - val_mae: 5611.2490 - val_mse: 53130744.0000\n",
            "INFO:tensorflow:Assets written to: model_experiments/model_2_dense/assets\n",
            "Epoch 2/100\n",
            "16/16 [==============================] - 0s 4ms/step - loss: 526.2878 - mae: 526.2878 - mse: 1015225.9375 - val_loss: 2529.8547 - val_mae: 2529.8547 - val_mse: 15621108.0000\n",
            "INFO:tensorflow:Assets written to: model_experiments/model_2_dense/assets\n",
            "Epoch 3/100\n",
            "16/16 [==============================] - 0s 3ms/step - loss: 359.3816 - mae: 359.3816 - mse: 515709.4688 - val_loss: 1855.5088 - val_mae: 1855.5088 - val_mse: 8577762.0000\n",
            "INFO:tensorflow:Assets written to: model_experiments/model_2_dense/assets\n",
            "Epoch 4/100\n",
            "16/16 [==============================] - 0s 3ms/step - loss: 279.9393 - mae: 279.9393 - mse: 308480.7812 - val_loss: 1721.0599 - val_mae: 1721.0599 - val_mse: 7085594.0000\n",
            "INFO:tensorflow:Assets written to: model_experiments/model_2_dense/assets\n",
            "Epoch 5/100\n",
            "16/16 [==============================] - 0s 3ms/step - loss: 257.2823 - mae: 257.2823 - mse: 263460.4062 - val_loss: 1637.8099 - val_mae: 1637.8099 - val_mse: 6915568.5000\n",
            "INFO:tensorflow:Assets written to: model_experiments/model_2_dense/assets\n",
            "Epoch 6/100\n",
            "16/16 [==============================] - 0s 3ms/step - loss: 245.1839 - mae: 245.1839 - mse: 240659.3594 - val_loss: 1528.3363 - val_mae: 1528.3363 - val_mse: 5723237.5000\n",
            "INFO:tensorflow:Assets written to: model_experiments/model_2_dense/assets\n",
            "Epoch 7/100\n",
            "16/16 [==============================] - 0s 3ms/step - loss: 225.9313 - mae: 225.9313 - mse: 210530.0312 - val_loss: 1509.2125 - val_mae: 1509.2125 - val_mse: 5763691.5000\n",
            "INFO:tensorflow:Assets written to: model_experiments/model_2_dense/assets\n",
            "Epoch 8/100\n",
            "16/16 [==============================] - 0s 3ms/step - loss: 244.8927 - mae: 244.8927 - mse: 220123.0312 - val_loss: 1579.2092 - val_mae: 1579.2092 - val_mse: 5310931.0000\n",
            "Epoch 9/100\n",
            "16/16 [==============================] - 0s 4ms/step - loss: 264.5354 - mae: 264.5354 - mse: 235943.9219 - val_loss: 2068.9219 - val_mae: 2068.9219 - val_mse: 9710454.0000\n",
            "Epoch 10/100\n",
            "16/16 [==============================] - 0s 4ms/step - loss: 236.8951 - mae: 236.8951 - mse: 219603.2344 - val_loss: 1745.1218 - val_mae: 1745.1218 - val_mse: 6135089.5000\n",
            "Epoch 11/100\n",
            "16/16 [==============================] - 0s 3ms/step - loss: 222.4383 - mae: 222.4383 - mse: 181863.5469 - val_loss: 1361.3066 - val_mae: 1361.3066 - val_mse: 4427765.0000\n",
            "INFO:tensorflow:Assets written to: model_experiments/model_2_dense/assets\n",
            "Epoch 12/100\n",
            "16/16 [==============================] - 0s 3ms/step - loss: 203.9308 - mae: 203.9308 - mse: 170115.2344 - val_loss: 1416.2839 - val_mae: 1416.2839 - val_mse: 4889745.0000\n",
            "Epoch 13/100\n",
            "16/16 [==============================] - 0s 5ms/step - loss: 210.1895 - mae: 210.1895 - mse: 175484.3125 - val_loss: 1360.0446 - val_mae: 1360.0446 - val_mse: 4454255.0000\n",
            "INFO:tensorflow:Assets written to: model_experiments/model_2_dense/assets\n",
            "Epoch 14/100\n",
            "16/16 [==============================] - 0s 4ms/step - loss: 201.3831 - mae: 201.3831 - mse: 164656.6250 - val_loss: 1326.0581 - val_mae: 1326.0581 - val_mse: 3990547.7500\n",
            "INFO:tensorflow:Assets written to: model_experiments/model_2_dense/assets\n",
            "Epoch 15/100\n",
            "16/16 [==============================] - 0s 3ms/step - loss: 193.0611 - mae: 193.0611 - mse: 155376.2031 - val_loss: 1269.4835 - val_mae: 1269.4835 - val_mse: 3769395.7500\n",
            "INFO:tensorflow:Assets written to: model_experiments/model_2_dense/assets\n",
            "Epoch 16/100\n",
            "16/16 [==============================] - 0s 3ms/step - loss: 198.5460 - mae: 198.5460 - mse: 162674.5938 - val_loss: 1371.1964 - val_mae: 1371.1964 - val_mse: 4096907.5000\n",
            "Epoch 17/100\n",
            "16/16 [==============================] - 0s 3ms/step - loss: 196.6133 - mae: 196.6133 - mse: 151491.4375 - val_loss: 1466.3217 - val_mae: 1466.3217 - val_mse: 4542991.5000\n",
            "Epoch 18/100\n",
            "16/16 [==============================] - 0s 4ms/step - loss: 190.1405 - mae: 190.1405 - mse: 149794.9219 - val_loss: 1231.1881 - val_mae: 1231.1881 - val_mse: 3512254.2500\n",
            "INFO:tensorflow:Assets written to: model_experiments/model_2_dense/assets\n",
            "Epoch 19/100\n",
            "16/16 [==============================] - 0s 4ms/step - loss: 189.7540 - mae: 189.7540 - mse: 149520.5312 - val_loss: 1228.0698 - val_mae: 1228.0698 - val_mse: 3475684.2500\n",
            "INFO:tensorflow:Assets written to: model_experiments/model_2_dense/assets\n",
            "Epoch 20/100\n",
            "16/16 [==============================] - 0s 3ms/step - loss: 193.6663 - mae: 193.6663 - mse: 147546.6719 - val_loss: 1255.3783 - val_mae: 1255.3783 - val_mse: 3820416.7500\n",
            "Epoch 21/100\n",
            "16/16 [==============================] - 0s 4ms/step - loss: 190.8149 - mae: 190.8149 - mse: 146796.3281 - val_loss: 1324.0455 - val_mae: 1324.0455 - val_mse: 4254057.5000\n",
            "Epoch 22/100\n",
            "16/16 [==============================] - 0s 4ms/step - loss: 199.3708 - mae: 199.3708 - mse: 152082.3281 - val_loss: 1193.4498 - val_mae: 1193.4498 - val_mse: 3437358.7500\n",
            "INFO:tensorflow:Assets written to: model_experiments/model_2_dense/assets\n",
            "Epoch 23/100\n",
            "16/16 [==============================] - 0s 4ms/step - loss: 186.3356 - mae: 186.3356 - mse: 137027.5469 - val_loss: 1197.3589 - val_mae: 1197.3589 - val_mse: 3464350.5000\n",
            "Epoch 24/100\n",
            "16/16 [==============================] - 0s 3ms/step - loss: 180.8873 - mae: 180.8873 - mse: 137285.1250 - val_loss: 1272.4475 - val_mae: 1272.4475 - val_mse: 3920250.0000\n",
            "Epoch 25/100\n",
            "16/16 [==============================] - 0s 3ms/step - loss: 228.3149 - mae: 228.3149 - mse: 182155.7969 - val_loss: 1446.9932 - val_mae: 1446.9932 - val_mse: 4843315.0000\n",
            "Epoch 26/100\n",
            "16/16 [==============================] - 0s 3ms/step - loss: 205.3328 - mae: 205.3328 - mse: 153216.0469 - val_loss: 1168.2928 - val_mae: 1168.2928 - val_mse: 3123405.2500\n",
            "INFO:tensorflow:Assets written to: model_experiments/model_2_dense/assets\n",
            "Epoch 27/100\n",
            "16/16 [==============================] - 0s 3ms/step - loss: 202.2635 - mae: 202.2635 - mse: 156314.7031 - val_loss: 1130.5289 - val_mae: 1130.5289 - val_mse: 3074672.5000\n",
            "INFO:tensorflow:Assets written to: model_experiments/model_2_dense/assets\n",
            "Epoch 28/100\n",
            "16/16 [==============================] - 0s 4ms/step - loss: 215.5196 - mae: 215.5196 - mse: 169779.6250 - val_loss: 1431.7023 - val_mae: 1431.7023 - val_mse: 4272848.0000\n",
            "Epoch 29/100\n",
            "16/16 [==============================] - 0s 4ms/step - loss: 197.2818 - mae: 197.2818 - mse: 142692.7969 - val_loss: 1181.9521 - val_mae: 1181.9521 - val_mse: 3141390.7500\n",
            "Epoch 30/100\n",
            "16/16 [==============================] - 0s 4ms/step - loss: 174.8759 - mae: 174.8759 - mse: 127948.0391 - val_loss: 1096.2623 - val_mae: 1096.2623 - val_mse: 2853072.2500\n",
            "INFO:tensorflow:Assets written to: model_experiments/model_2_dense/assets\n",
            "Epoch 31/100\n",
            "16/16 [==============================] - 0s 3ms/step - loss: 172.2817 - mae: 172.2817 - mse: 127106.0781 - val_loss: 1114.9723 - val_mae: 1114.9723 - val_mse: 3009351.5000\n",
            "Epoch 32/100\n",
            "16/16 [==============================] - 0s 4ms/step - loss: 170.1318 - mae: 170.1318 - mse: 121164.2734 - val_loss: 1099.5199 - val_mae: 1099.5199 - val_mse: 2806650.7500\n",
            "Epoch 33/100\n",
            "16/16 [==============================] - 0s 4ms/step - loss: 175.7805 - mae: 175.7805 - mse: 126552.7969 - val_loss: 1120.1859 - val_mae: 1120.1859 - val_mse: 2889118.2500\n",
            "Epoch 34/100\n",
            "16/16 [==============================] - 0s 3ms/step - loss: 180.7824 - mae: 180.7824 - mse: 128001.4922 - val_loss: 1074.4167 - val_mae: 1074.4167 - val_mse: 2715226.5000\n",
            "INFO:tensorflow:Assets written to: model_experiments/model_2_dense/assets\n",
            "Epoch 35/100\n",
            "16/16 [==============================] - 0s 4ms/step - loss: 166.2006 - mae: 166.2006 - mse: 119374.9297 - val_loss: 1061.4863 - val_mae: 1061.4863 - val_mse: 2695704.7500\n",
            "INFO:tensorflow:Assets written to: model_experiments/model_2_dense/assets\n",
            "Epoch 36/100\n",
            "16/16 [==============================] - 0s 4ms/step - loss: 163.8662 - mae: 163.8662 - mse: 116724.8203 - val_loss: 1056.5155 - val_mae: 1056.5155 - val_mse: 2692656.2500\n",
            "INFO:tensorflow:Assets written to: model_experiments/model_2_dense/assets\n",
            "Epoch 37/100\n",
            "16/16 [==============================] - 0s 3ms/step - loss: 167.7135 - mae: 167.7135 - mse: 122729.8438 - val_loss: 1056.1147 - val_mae: 1056.1147 - val_mse: 2647228.2500\n",
            "INFO:tensorflow:Assets written to: model_experiments/model_2_dense/assets\n",
            "Epoch 38/100\n",
            "16/16 [==============================] - 0s 4ms/step - loss: 179.1147 - mae: 179.1147 - mse: 127477.5000 - val_loss: 1236.7561 - val_mae: 1236.7561 - val_mse: 3316708.5000\n",
            "Epoch 39/100\n",
            "16/16 [==============================] - 0s 4ms/step - loss: 178.2007 - mae: 178.2007 - mse: 128129.1250 - val_loss: 1041.2003 - val_mae: 1041.2003 - val_mse: 2623010.5000\n",
            "INFO:tensorflow:Assets written to: model_experiments/model_2_dense/assets\n",
            "Epoch 40/100\n",
            "16/16 [==============================] - 0s 4ms/step - loss: 161.0608 - mae: 161.0608 - mse: 114166.6797 - val_loss: 1065.2288 - val_mae: 1065.2288 - val_mse: 2644996.5000\n",
            "Epoch 41/100\n",
            "16/16 [==============================] - 0s 4ms/step - loss: 162.4886 - mae: 162.4886 - mse: 115146.5312 - val_loss: 1089.2227 - val_mae: 1089.2227 - val_mse: 2725594.7500\n",
            "Epoch 42/100\n",
            "16/16 [==============================] - 0s 3ms/step - loss: 171.9980 - mae: 171.9980 - mse: 122481.8047 - val_loss: 1082.1509 - val_mae: 1082.1509 - val_mse: 2847976.0000\n",
            "Epoch 43/100\n",
            "16/16 [==============================] - 0s 3ms/step - loss: 167.6194 - mae: 167.6194 - mse: 120736.0625 - val_loss: 1040.2728 - val_mae: 1040.2728 - val_mse: 2553698.2500\n",
            "INFO:tensorflow:Assets written to: model_experiments/model_2_dense/assets\n",
            "Epoch 44/100\n",
            "16/16 [==============================] - 0s 4ms/step - loss: 168.6186 - mae: 168.6186 - mse: 118743.2734 - val_loss: 1031.5822 - val_mae: 1031.5822 - val_mse: 2531052.5000\n",
            "INFO:tensorflow:Assets written to: model_experiments/model_2_dense/assets\n",
            "Epoch 45/100\n",
            "16/16 [==============================] - 0s 4ms/step - loss: 161.1313 - mae: 161.1313 - mse: 112636.6406 - val_loss: 1011.0517 - val_mae: 1011.0517 - val_mse: 2461294.5000\n",
            "INFO:tensorflow:Assets written to: model_experiments/model_2_dense/assets\n",
            "Epoch 46/100\n",
            "16/16 [==============================] - 0s 4ms/step - loss: 172.0345 - mae: 172.0345 - mse: 120330.4297 - val_loss: 1271.4696 - val_mae: 1271.4696 - val_mse: 3700278.5000\n",
            "Epoch 47/100\n",
            "16/16 [==============================] - 0s 4ms/step - loss: 180.8768 - mae: 180.8768 - mse: 133207.0781 - val_loss: 1010.4310 - val_mae: 1010.4310 - val_mse: 2493148.7500\n",
            "INFO:tensorflow:Assets written to: model_experiments/model_2_dense/assets\n",
            "Epoch 48/100\n",
            "16/16 [==============================] - 0s 3ms/step - loss: 155.2688 - mae: 155.2688 - mse: 107472.8828 - val_loss: 997.2914 - val_mae: 997.2914 - val_mse: 2396378.7500\n",
            "INFO:tensorflow:Assets written to: model_experiments/model_2_dense/assets\n",
            "Epoch 49/100\n",
            "16/16 [==============================] - 0s 4ms/step - loss: 162.1792 - mae: 162.1792 - mse: 112681.4922 - val_loss: 1004.4441 - val_mae: 1004.4441 - val_mse: 2466029.0000\n",
            "Epoch 50/100\n",
            "16/16 [==============================] - 0s 3ms/step - loss: 164.7506 - mae: 164.7506 - mse: 114087.7188 - val_loss: 1085.2660 - val_mae: 1085.2660 - val_mse: 2669428.2500\n",
            "Epoch 51/100\n",
            "16/16 [==============================] - 0s 4ms/step - loss: 169.3637 - mae: 169.3637 - mse: 116990.2422 - val_loss: 1436.0796 - val_mae: 1436.0796 - val_mse: 4495784.5000\n",
            "Epoch 52/100\n",
            "16/16 [==============================] - 0s 4ms/step - loss: 175.5079 - mae: 175.5079 - mse: 120450.2266 - val_loss: 1162.0115 - val_mae: 1162.0115 - val_mse: 3155710.0000\n",
            "Epoch 53/100\n",
            "16/16 [==============================] - 0s 3ms/step - loss: 160.5873 - mae: 160.5873 - mse: 110344.0625 - val_loss: 1078.0870 - val_mae: 1078.0870 - val_mse: 2789924.7500\n",
            "Epoch 54/100\n",
            "16/16 [==============================] - 0s 4ms/step - loss: 167.7028 - mae: 167.7028 - mse: 113425.9688 - val_loss: 1047.6516 - val_mae: 1047.6516 - val_mse: 2659437.2500\n",
            "Epoch 55/100\n",
            "16/16 [==============================] - 0s 3ms/step - loss: 157.7884 - mae: 157.7884 - mse: 107764.2500 - val_loss: 967.3541 - val_mae: 967.3541 - val_mse: 2284580.0000\n",
            "INFO:tensorflow:Assets written to: model_experiments/model_2_dense/assets\n",
            "Epoch 56/100\n",
            "16/16 [==============================] - 0s 4ms/step - loss: 208.6545 - mae: 208.6545 - mse: 153939.9844 - val_loss: 1366.9603 - val_mae: 1366.9603 - val_mse: 4102101.2500\n",
            "Epoch 57/100\n",
            "16/16 [==============================] - 0s 4ms/step - loss: 182.1966 - mae: 182.1966 - mse: 124449.7266 - val_loss: 1066.3922 - val_mae: 1066.3922 - val_mse: 2577014.7500\n",
            "Epoch 58/100\n",
            "16/16 [==============================] - 0s 4ms/step - loss: 161.4174 - mae: 161.4174 - mse: 108863.1250 - val_loss: 959.3444 - val_mae: 959.3444 - val_mse: 2263802.7500\n",
            "INFO:tensorflow:Assets written to: model_experiments/model_2_dense/assets\n",
            "Epoch 59/100\n",
            "16/16 [==============================] - 0s 3ms/step - loss: 161.5941 - mae: 161.5941 - mse: 106308.9922 - val_loss: 956.8929 - val_mae: 956.8929 - val_mse: 2224539.7500\n",
            "INFO:tensorflow:Assets written to: model_experiments/model_2_dense/assets\n",
            "Epoch 60/100\n",
            "16/16 [==============================] - 0s 3ms/step - loss: 154.3261 - mae: 154.3261 - mse: 102476.0391 - val_loss: 986.8368 - val_mae: 986.8368 - val_mse: 2309723.2500\n",
            "Epoch 61/100\n",
            "16/16 [==============================] - 0s 4ms/step - loss: 154.4630 - mae: 154.4630 - mse: 104549.8750 - val_loss: 997.2876 - val_mae: 997.2876 - val_mse: 2334786.2500\n",
            "Epoch 62/100\n",
            "16/16 [==============================] - 0s 4ms/step - loss: 165.4183 - mae: 165.4183 - mse: 112271.4922 - val_loss: 972.8229 - val_mae: 972.8229 - val_mse: 2254031.5000\n",
            "Epoch 63/100\n",
            "16/16 [==============================] - 0s 3ms/step - loss: 155.1538 - mae: 155.1538 - mse: 104147.0859 - val_loss: 1132.5616 - val_mae: 1132.5616 - val_mse: 2819675.7500\n",
            "Epoch 64/100\n",
            "16/16 [==============================] - 0s 4ms/step - loss: 166.3892 - mae: 166.3892 - mse: 111856.1016 - val_loss: 947.8153 - val_mae: 947.8153 - val_mse: 2210469.0000\n",
            "INFO:tensorflow:Assets written to: model_experiments/model_2_dense/assets\n",
            "Epoch 65/100\n",
            "16/16 [==============================] - 0s 3ms/step - loss: 154.8122 - mae: 154.8122 - mse: 103764.5703 - val_loss: 957.7053 - val_mae: 957.7053 - val_mse: 2203807.2500\n",
            "Epoch 66/100\n",
            "16/16 [==============================] - 0s 4ms/step - loss: 160.3944 - mae: 160.3944 - mse: 107056.2109 - val_loss: 1328.2791 - val_mae: 1328.2791 - val_mse: 3852001.0000\n",
            "Epoch 67/100\n",
            "16/16 [==============================] - 0s 4ms/step - loss: 170.2703 - mae: 170.2703 - mse: 114641.4922 - val_loss: 941.5803 - val_mae: 941.5803 - val_mse: 2166069.7500\n",
            "INFO:tensorflow:Assets written to: model_experiments/model_2_dense/assets\n",
            "Epoch 68/100\n",
            "16/16 [==============================] - 0s 3ms/step - loss: 165.0031 - mae: 165.0031 - mse: 108300.4062 - val_loss: 959.6633 - val_mae: 959.6633 - val_mse: 2202496.2500\n",
            "Epoch 69/100\n",
            "16/16 [==============================] - 0s 4ms/step - loss: 152.4203 - mae: 152.4203 - mse: 100545.6172 - val_loss: 947.8445 - val_mae: 947.8445 - val_mse: 2215211.5000\n",
            "Epoch 70/100\n",
            "16/16 [==============================] - 0s 3ms/step - loss: 159.3822 - mae: 159.3822 - mse: 106837.0547 - val_loss: 932.2924 - val_mae: 932.2924 - val_mse: 2142760.2500\n",
            "INFO:tensorflow:Assets written to: model_experiments/model_2_dense/assets\n",
            "Epoch 71/100\n",
            "16/16 [==============================] - 0s 3ms/step - loss: 148.9963 - mae: 148.9963 - mse: 98686.7656 - val_loss: 988.3201 - val_mae: 988.3201 - val_mse: 2278876.7500\n",
            "Epoch 72/100\n",
            "16/16 [==============================] - 0s 3ms/step - loss: 175.0368 - mae: 175.0368 - mse: 117486.4922 - val_loss: 1089.4452 - val_mae: 1089.4452 - val_mse: 2620804.2500\n",
            "Epoch 73/100\n",
            "16/16 [==============================] - 0s 3ms/step - loss: 157.3076 - mae: 157.3076 - mse: 104318.6172 - val_loss: 997.5475 - val_mae: 997.5475 - val_mse: 2302934.5000\n",
            "Epoch 74/100\n",
            "16/16 [==============================] - 0s 4ms/step - loss: 166.3427 - mae: 166.3427 - mse: 115791.0625 - val_loss: 1589.3556 - val_mae: 1589.3556 - val_mse: 5161147.5000\n",
            "Epoch 75/100\n",
            "16/16 [==============================] - 0s 4ms/step - loss: 222.6124 - mae: 222.6124 - mse: 160797.9062 - val_loss: 928.5764 - val_mae: 928.5764 - val_mse: 2111496.7500\n",
            "INFO:tensorflow:Assets written to: model_experiments/model_2_dense/assets\n",
            "Epoch 76/100\n",
            "16/16 [==============================] - 0s 3ms/step - loss: 169.4926 - mae: 169.4926 - mse: 109695.0625 - val_loss: 1102.0652 - val_mae: 1102.0652 - val_mse: 2817570.5000\n",
            "Epoch 77/100\n",
            "16/16 [==============================] - 0s 3ms/step - loss: 152.5789 - mae: 152.5789 - mse: 100227.0938 - val_loss: 919.8806 - val_mae: 919.8806 - val_mse: 2088789.7500\n",
            "INFO:tensorflow:Assets written to: model_experiments/model_2_dense/assets\n",
            "Epoch 78/100\n",
            "16/16 [==============================] - 0s 4ms/step - loss: 149.3982 - mae: 149.3982 - mse: 97770.2656 - val_loss: 931.9094 - val_mae: 931.9094 - val_mse: 2101681.5000\n",
            "Epoch 79/100\n",
            "16/16 [==============================] - 0s 4ms/step - loss: 177.9626 - mae: 177.9626 - mse: 118387.8672 - val_loss: 1228.1237 - val_mae: 1228.1237 - val_mse: 3198326.5000\n",
            "Epoch 80/100\n",
            "16/16 [==============================] - 0s 5ms/step - loss: 158.5134 - mae: 158.5134 - mse: 107534.8516 - val_loss: 941.5428 - val_mae: 941.5428 - val_mse: 2129235.0000\n",
            "Epoch 81/100\n",
            "16/16 [==============================] - 0s 3ms/step - loss: 147.3161 - mae: 147.3161 - mse: 97695.4922 - val_loss: 925.2101 - val_mae: 925.2101 - val_mse: 2117390.5000\n",
            "Epoch 82/100\n",
            "16/16 [==============================] - 0s 3ms/step - loss: 154.9953 - mae: 154.9953 - mse: 103011.7500 - val_loss: 1069.7657 - val_mae: 1069.7657 - val_mse: 2551501.0000\n",
            "Epoch 83/100\n",
            "16/16 [==============================] - 0s 4ms/step - loss: 149.7113 - mae: 149.7113 - mse: 99855.5234 - val_loss: 914.4675 - val_mae: 914.4675 - val_mse: 2072269.7500\n",
            "INFO:tensorflow:Assets written to: model_experiments/model_2_dense/assets\n",
            "Epoch 84/100\n",
            "16/16 [==============================] - 0s 5ms/step - loss: 146.8509 - mae: 146.8509 - mse: 98559.3828 - val_loss: 1060.7410 - val_mae: 1060.7410 - val_mse: 2515039.0000\n",
            "Epoch 85/100\n",
            "16/16 [==============================] - 0s 4ms/step - loss: 155.9317 - mae: 155.9317 - mse: 100063.1719 - val_loss: 973.7661 - val_mae: 973.7661 - val_mse: 2216545.7500\n",
            "Epoch 86/100\n",
            "16/16 [==============================] - 0s 4ms/step - loss: 159.7544 - mae: 159.7544 - mse: 104396.9375 - val_loss: 908.0479 - val_mae: 908.0479 - val_mse: 2045126.0000\n",
            "INFO:tensorflow:Assets written to: model_experiments/model_2_dense/assets\n",
            "Epoch 87/100\n",
            "16/16 [==============================] - 0s 4ms/step - loss: 147.2395 - mae: 147.2395 - mse: 95139.8125 - val_loss: 906.4094 - val_mae: 906.4094 - val_mse: 2046591.7500\n",
            "INFO:tensorflow:Assets written to: model_experiments/model_2_dense/assets\n",
            "Epoch 88/100\n",
            "16/16 [==============================] - 0s 4ms/step - loss: 149.7932 - mae: 149.7932 - mse: 96790.1016 - val_loss: 1105.3330 - val_mae: 1105.3330 - val_mse: 2796853.0000\n",
            "Epoch 89/100\n",
            "16/16 [==============================] - 0s 4ms/step - loss: 170.2562 - mae: 170.2562 - mse: 110031.4219 - val_loss: 986.2484 - val_mae: 986.2484 - val_mse: 2238570.2500\n",
            "Epoch 90/100\n",
            "16/16 [==============================] - 0s 3ms/step - loss: 148.5678 - mae: 148.5678 - mse: 97546.2969 - val_loss: 909.9531 - val_mae: 909.9531 - val_mse: 2025573.6250\n",
            "Epoch 91/100\n",
            "16/16 [==============================] - 0s 4ms/step - loss: 149.8475 - mae: 149.8475 - mse: 94058.5703 - val_loss: 987.0881 - val_mae: 987.0881 - val_mse: 2246979.2500\n",
            "Epoch 92/100\n",
            "16/16 [==============================] - 0s 4ms/step - loss: 153.6240 - mae: 153.6240 - mse: 99070.5000 - val_loss: 927.7206 - val_mae: 927.7206 - val_mse: 2070375.6250\n",
            "Epoch 93/100\n",
            "16/16 [==============================] - 0s 4ms/step - loss: 146.8449 - mae: 146.8449 - mse: 95818.3828 - val_loss: 927.7395 - val_mae: 927.7395 - val_mse: 2121805.7500\n",
            "Epoch 94/100\n",
            "16/16 [==============================] - 0s 4ms/step - loss: 155.9153 - mae: 155.9153 - mse: 100283.3828 - val_loss: 943.0776 - val_mae: 943.0776 - val_mse: 2172546.2500\n",
            "Epoch 95/100\n",
            "16/16 [==============================] - 0s 4ms/step - loss: 157.0691 - mae: 157.0691 - mse: 103990.4922 - val_loss: 894.8815 - val_mae: 894.8815 - val_mse: 2003243.3750\n",
            "INFO:tensorflow:Assets written to: model_experiments/model_2_dense/assets\n",
            "Epoch 96/100\n",
            "16/16 [==============================] - 0s 3ms/step - loss: 145.8817 - mae: 145.8817 - mse: 94699.5859 - val_loss: 932.7266 - val_mae: 932.7266 - val_mse: 2076662.3750\n",
            "Epoch 97/100\n",
            "16/16 [==============================] - 0s 4ms/step - loss: 152.8662 - mae: 152.8662 - mse: 96492.1797 - val_loss: 934.3603 - val_mae: 934.3603 - val_mse: 2085374.5000\n",
            "Epoch 98/100\n",
            "16/16 [==============================] - 0s 3ms/step - loss: 142.3990 - mae: 142.3990 - mse: 90276.0234 - val_loss: 912.0699 - val_mae: 912.0699 - val_mse: 2021386.5000\n",
            "Epoch 99/100\n",
            "16/16 [==============================] - 0s 4ms/step - loss: 155.9348 - mae: 155.9348 - mse: 104251.9844 - val_loss: 1046.2253 - val_mae: 1046.2253 - val_mse: 2538383.0000\n",
            "Epoch 100/100\n",
            "16/16 [==============================] - 0s 3ms/step - loss: 157.3452 - mae: 157.3452 - mse: 104570.2656 - val_loss: 1071.0720 - val_mae: 1071.0720 - val_mse: 2638387.0000\n"
          ]
        }
      ]
    },
    {
      "cell_type": "code",
      "metadata": {
        "colab": {
          "base_uri": "https://localhost:8080/"
        },
        "id": "JQj0JNy3tmrD",
        "outputId": "db0627f9-1335-4e99-df1c-03cdf7dea23b"
      },
      "source": [
        "# Load in the best saved model\n",
        "model_2 = tf.keras.models.load_model(\"model_experiments/model_2_dense/\")\n",
        "model_2.evaluate(test_windows_30, test_labels_30)"
      ],
      "execution_count": 105,
      "outputs": [
        {
          "output_type": "stream",
          "name": "stdout",
          "text": [
            "16/16 [==============================] - 0s 1ms/step - loss: 894.8816 - mae: 894.8816 - mse: 2003243.5000\n"
          ]
        },
        {
          "output_type": "execute_result",
          "data": {
            "text/plain": [
              "[894.881591796875, 894.881591796875, 2003243.5]"
            ]
          },
          "metadata": {},
          "execution_count": 105
        }
      ]
    },
    {
      "cell_type": "code",
      "metadata": {
        "colab": {
          "base_uri": "https://localhost:8080/"
        },
        "id": "Kmf7im_Ivb6M",
        "outputId": "314523df-7d6a-40b6-af30-e6182f7b29b9"
      },
      "source": [
        "model_2_preds = make_preds(model_2, input_data=test_windows_30)\n",
        "model_2_preds[:10]"
      ],
      "execution_count": 106,
      "outputs": [
        {
          "output_type": "execute_result",
          "data": {
            "text/plain": [
              "<tf.Tensor: shape=(10,), dtype=float32, numpy=\n",
              "array([ 8858.688,  8898.962,  9138.405,  8952.882,  9031.64 ,  9030.863,\n",
              "        9264.19 ,  9792.532, 10087.992,  9772.31 ], dtype=float32)>"
            ]
          },
          "metadata": {},
          "execution_count": 106
        }
      ]
    },
    {
      "cell_type": "code",
      "metadata": {
        "colab": {
          "base_uri": "https://localhost:8080/"
        },
        "id": "NuhpRdGHt0Ra",
        "outputId": "ba7b58a1-671f-444b-ddc3-1f7fbcc4fb2e"
      },
      "source": [
        "model_2_results = evaluate_preds(y_true=tf.squeeze(test_labels_30),y_pred=model_2_preds)\n",
        "model_2_results"
      ],
      "execution_count": 107,
      "outputs": [
        {
          "output_type": "execute_result",
          "data": {
            "text/plain": [
              "{'mae': 894.8816,\n",
              " 'mape': 2.805764,\n",
              " 'mase': 1.0718104,\n",
              " 'mse': 2003243.5,\n",
              " 'rmse': 1415.3599}"
            ]
          },
          "metadata": {},
          "execution_count": 107
        }
      ]
    },
    {
      "cell_type": "code",
      "metadata": {
        "colab": {
          "base_uri": "https://localhost:8080/",
          "height": 442
        },
        "id": "2fWZwlhSwEQd",
        "outputId": "c4736040-5404-4ac4-d83f-51851f26c822"
      },
      "source": [
        "# Plot model 2 predictions\n",
        "offset=350\n",
        "plt.figure(figsize=(15,7))\n",
        "plot_time_series(timesteps=X_test[-len(test_windows_30):],\n",
        "                 values=test_labels_30,\n",
        "                 format=\"-\",\n",
        "                 start=offset,\n",
        "                 label=\"Test data\")\n",
        "plot_time_series(timesteps=X_test[-len(test_windows_30):],\n",
        "                 values=model_2_preds,\n",
        "                 format=\"-\",\n",
        "                 start=offset,\n",
        "                 label=\"Predicted data\")\n"
      ],
      "execution_count": 110,
      "outputs": [
        {
          "output_type": "display_data",
          "data": {
            "image/png": "[encoded data removed]",
            "text/plain": [
              "<Figure size 1080x504 with 1 Axes>"
            ]
          },
          "metadata": {
            "needs_background": "light"
          }
        }
      ]
    },
    {
      "cell_type": "code",
      "metadata": {
        "id": "KGhhbjo6ww_b"
      },
      "source": [
        ""
      ],
      "execution_count": null,
      "outputs": []
    }
  ]
}