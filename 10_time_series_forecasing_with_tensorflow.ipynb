{
  "nbformat": 4,
  "nbformat_minor": 0,
  "metadata": {
    "colab": {
      "name": "10_time_series_forecasing_with_tensorflow.ipynb",
      "provenance": [],
      "collapsed_sections": [],
      "mount_file_id": "1fWefpK76_cj79fgj3Xopi46p7KiYTf4s",
      "authorship_tag": "ABX9TyPHpl6DpgFc7mnPW1hK8xvp",
      "include_colab_link": true
    },
    "kernelspec": {
      "name": "python3",
      "display_name": "Python 3"
    },
    "language_info": {
      "name": "python"
    }
  },
  "cells": [
    {
      "cell_type": "markdown",
      "metadata": {
        "id": "view-in-github",
        "colab_type": "text"
      },
      "source": [
        "<a href=\"https://colab.research.google.com/github/imran9891/TensorFlow/blob/main/10_time_series_forecasing_with_tensorflow.ipynb\" target=\"_parent\"><img src=\"https://colab.research.google.com/assets/colab-badge.svg\" alt=\"Open In Colab\"/></a>"
      ]
    },
    {
      "cell_type": "markdown",
      "metadata": {
        "id": "w7pznPtz1MNS"
      },
      "source": [
        "# Time series forecasting with TensorFlow + Milestone Project 3: BitPredict\n",
        "\n",
        "Let's write some TensorFlow code to predict the price of Bitcoin based on the historical price of Bitcoin.\n",
        "\n",
        "**Note:** This is not a financial advice."
      ]
    },
    {
      "cell_type": "markdown",
      "metadata": {
        "id": "j66RWSQo4SoG"
      },
      "source": [
        "## Get data\n",
        "\n",
        "We're going to be using the historical price data of Bitcoin to try and predict the future price of Bitcoin, we downloaded the data from here: https://www.coindesk.com/price/bitcoin/\n",
        "\n",
        "### Importing time series data with pandas"
      ]
    },
    {
      "cell_type": "code",
      "metadata": {
        "colab": {
          "base_uri": "https://localhost:8080/",
          "height": 235
        },
        "id": "-ZeaoEmk5J7F",
        "outputId": "38b92c16-8f61-4ef6-de84-87357e397fd2"
      },
      "source": [
        "# Import with pandas \n",
        "import pandas as pd\n",
        "# Let's read in our Bitcoin data and parse the dates\n",
        "df = pd.read_csv(\"drive/MyDrive/Bitcoin/BTC_data.csv\",parse_dates=[\"Date\"],index_col=[\"Date\"])\n",
        "df.head()"
      ],
      "execution_count": 1,
      "outputs": [
        {
          "output_type": "execute_result",
          "data": {
            "text/html": [
              "<div>\n",
              "<style scoped>\n",
              "    .dataframe tbody tr th:only-of-type {\n",
              "        vertical-align: middle;\n",
              "    }\n",
              "\n",
              "    .dataframe tbody tr th {\n",
              "        vertical-align: top;\n",
              "    }\n",
              "\n",
              "    .dataframe thead th {\n",
              "        text-align: right;\n",
              "    }\n",
              "</style>\n",
              "<table border=\"1\" class=\"dataframe\">\n",
              "  <thead>\n",
              "    <tr style=\"text-align: right;\">\n",
              "      <th></th>\n",
              "      <th>Currency</th>\n",
              "      <th>Closing Price (USD)</th>\n",
              "      <th>24h Open (USD)</th>\n",
              "      <th>24h High (USD)</th>\n",
              "      <th>24h Low (USD)</th>\n",
              "    </tr>\n",
              "    <tr>\n",
              "      <th>Date</th>\n",
              "      <th></th>\n",
              "      <th></th>\n",
              "      <th></th>\n",
              "      <th></th>\n",
              "      <th></th>\n",
              "    </tr>\n",
              "  </thead>\n",
              "  <tbody>\n",
              "    <tr>\n",
              "      <th>2014-11-03</th>\n",
              "      <td>BTC</td>\n",
              "      <td>331.60083</td>\n",
              "      <td>325.22633</td>\n",
              "      <td>333.75983</td>\n",
              "      <td>319.04350</td>\n",
              "    </tr>\n",
              "    <tr>\n",
              "      <th>2014-11-04</th>\n",
              "      <td>BTC</td>\n",
              "      <td>324.71833</td>\n",
              "      <td>331.60083</td>\n",
              "      <td>332.75133</td>\n",
              "      <td>323.06333</td>\n",
              "    </tr>\n",
              "    <tr>\n",
              "      <th>2014-11-05</th>\n",
              "      <td>BTC</td>\n",
              "      <td>332.45666</td>\n",
              "      <td>324.71833</td>\n",
              "      <td>335.81166</td>\n",
              "      <td>320.93333</td>\n",
              "    </tr>\n",
              "    <tr>\n",
              "      <th>2014-11-06</th>\n",
              "      <td>BTC</td>\n",
              "      <td>336.58500</td>\n",
              "      <td>332.45666</td>\n",
              "      <td>341.49000</td>\n",
              "      <td>328.56166</td>\n",
              "    </tr>\n",
              "    <tr>\n",
              "      <th>2014-11-07</th>\n",
              "      <td>BTC</td>\n",
              "      <td>346.77500</td>\n",
              "      <td>336.58500</td>\n",
              "      <td>351.57500</td>\n",
              "      <td>336.02833</td>\n",
              "    </tr>\n",
              "  </tbody>\n",
              "</table>\n",
              "</div>"
            ],
            "text/plain": [
              "           Currency  Closing Price (USD)  ...  24h High (USD)  24h Low (USD)\n",
              "Date                                      ...                               \n",
              "2014-11-03      BTC            331.60083  ...       333.75983      319.04350\n",
              "2014-11-04      BTC            324.71833  ...       332.75133      323.06333\n",
              "2014-11-05      BTC            332.45666  ...       335.81166      320.93333\n",
              "2014-11-06      BTC            336.58500  ...       341.49000      328.56166\n",
              "2014-11-07      BTC            346.77500  ...       351.57500      336.02833\n",
              "\n",
              "[5 rows x 5 columns]"
            ]
          },
          "metadata": {},
          "execution_count": 1
        }
      ]
    },
    {
      "cell_type": "code",
      "metadata": {
        "colab": {
          "base_uri": "https://localhost:8080/",
          "height": 235
        },
        "id": "BPiKTwyJ6WSM",
        "outputId": "e8c70e2c-acfd-4029-b13b-ac82b6c243b5"
      },
      "source": [
        "df.tail()"
      ],
      "execution_count": 2,
      "outputs": [
        {
          "output_type": "execute_result",
          "data": {
            "text/html": [
              "<div>\n",
              "<style scoped>\n",
              "    .dataframe tbody tr th:only-of-type {\n",
              "        vertical-align: middle;\n",
              "    }\n",
              "\n",
              "    .dataframe tbody tr th {\n",
              "        vertical-align: top;\n",
              "    }\n",
              "\n",
              "    .dataframe thead th {\n",
              "        text-align: right;\n",
              "    }\n",
              "</style>\n",
              "<table border=\"1\" class=\"dataframe\">\n",
              "  <thead>\n",
              "    <tr style=\"text-align: right;\">\n",
              "      <th></th>\n",
              "      <th>Currency</th>\n",
              "      <th>Closing Price (USD)</th>\n",
              "      <th>24h Open (USD)</th>\n",
              "      <th>24h High (USD)</th>\n",
              "      <th>24h Low (USD)</th>\n",
              "    </tr>\n",
              "    <tr>\n",
              "      <th>Date</th>\n",
              "      <th></th>\n",
              "      <th></th>\n",
              "      <th></th>\n",
              "      <th></th>\n",
              "      <th></th>\n",
              "    </tr>\n",
              "  </thead>\n",
              "  <tbody>\n",
              "    <tr>\n",
              "      <th>2021-09-03</th>\n",
              "      <td>BTC</td>\n",
              "      <td>49725.532134</td>\n",
              "      <td>48834.363592</td>\n",
              "      <td>50344.664659</td>\n",
              "      <td>48619.469617</td>\n",
              "    </tr>\n",
              "    <tr>\n",
              "      <th>2021-09-04</th>\n",
              "      <td>BTC</td>\n",
              "      <td>49709.611994</td>\n",
              "      <td>49274.784115</td>\n",
              "      <td>51016.027011</td>\n",
              "      <td>48364.226963</td>\n",
              "    </tr>\n",
              "    <tr>\n",
              "      <th>2021-09-05</th>\n",
              "      <td>BTC</td>\n",
              "      <td>49999.555579</td>\n",
              "      <td>50012.441556</td>\n",
              "      <td>50558.733515</td>\n",
              "      <td>49429.569151</td>\n",
              "    </tr>\n",
              "    <tr>\n",
              "      <th>2021-09-06</th>\n",
              "      <td>BTC</td>\n",
              "      <td>51693.809398</td>\n",
              "      <td>49945.336568</td>\n",
              "      <td>51827.319488</td>\n",
              "      <td>49515.541880</td>\n",
              "    </tr>\n",
              "    <tr>\n",
              "      <th>2021-09-07</th>\n",
              "      <td>BTC</td>\n",
              "      <td>52506.685647</td>\n",
              "      <td>51764.155302</td>\n",
              "      <td>52647.551866</td>\n",
              "      <td>51026.821010</td>\n",
              "    </tr>\n",
              "  </tbody>\n",
              "</table>\n",
              "</div>"
            ],
            "text/plain": [
              "           Currency  Closing Price (USD)  ...  24h High (USD)  24h Low (USD)\n",
              "Date                                      ...                               \n",
              "2021-09-03      BTC         49725.532134  ...    50344.664659   48619.469617\n",
              "2021-09-04      BTC         49709.611994  ...    51016.027011   48364.226963\n",
              "2021-09-05      BTC         49999.555579  ...    50558.733515   49429.569151\n",
              "2021-09-06      BTC         51693.809398  ...    51827.319488   49515.541880\n",
              "2021-09-07      BTC         52506.685647  ...    52647.551866   51026.821010\n",
              "\n",
              "[5 rows x 5 columns]"
            ]
          },
          "metadata": {},
          "execution_count": 2
        }
      ]
    },
    {
      "cell_type": "code",
      "metadata": {
        "colab": {
          "base_uri": "https://localhost:8080/"
        },
        "id": "TJB2vGv86ojg",
        "outputId": "4c89fac1-3186-4e29-d5e3-145577b2a2a5"
      },
      "source": [
        "df.info()"
      ],
      "execution_count": 3,
      "outputs": [
        {
          "output_type": "stream",
          "name": "stdout",
          "text": [
            "<class 'pandas.core.frame.DataFrame'>\n",
            "DatetimeIndex: 2500 entries, 2014-11-03 to 2021-09-07\n",
            "Data columns (total 5 columns):\n",
            " #   Column               Non-Null Count  Dtype  \n",
            "---  ------               --------------  -----  \n",
            " 0   Currency             2500 non-null   object \n",
            " 1   Closing Price (USD)  2500 non-null   float64\n",
            " 2   24h Open (USD)       2500 non-null   float64\n",
            " 3   24h High (USD)       2500 non-null   float64\n",
            " 4   24h Low (USD)        2500 non-null   float64\n",
            "dtypes: float64(4), object(1)\n",
            "memory usage: 117.2+ KB\n"
          ]
        }
      ]
    },
    {
      "cell_type": "code",
      "metadata": {
        "colab": {
          "base_uri": "https://localhost:8080/"
        },
        "id": "ESRbGcoI7htd",
        "outputId": "710ba1b7-76d6-4b7d-b606-e2533790d640"
      },
      "source": [
        "# How many samples do we have?\n",
        "len(df)"
      ],
      "execution_count": 4,
      "outputs": [
        {
          "output_type": "execute_result",
          "data": {
            "text/plain": [
              "2500"
            ]
          },
          "metadata": {},
          "execution_count": 4
        }
      ]
    },
    {
      "cell_type": "markdown",
      "metadata": {
        "id": "wXBnIqq-8F6w"
      },
      "source": [
        "We've collected the historical prices of Bitcoin for the past ~7 years but thers's only 2500 samples.\n",
        "\n",
        "Typically deep learning models usually be like lots and lots of samples (from thousands to tens of thousands to millions).\n",
        "\n",
        "A smaller number of samples is something you'll often run into with time-series data problems.\n",
        "\n",
        "**Note:** The **seasonality** of a time series dataset is referred as the number of samples per year. So for our Bitcoin data, it has a seasonality of daily or value of 365 because we collect one sample per day meaning we'll get 365 samples per year."
      ]
    },
    {
      "cell_type": "markdown",
      "metadata": {
        "id": "JAz6B-9395it"
      },
      "source": [
        "## Time series patterns\n",
        "\n",
        "* **Trend:** Time series has a clear long-term increase or decrease (may or may not be linear)\n",
        "\n",
        "* **Seasonal:** Time series affected by seasonal factors such as time of year (e.g. increased sales towards the end of year) or day of week.\n",
        "\n",
        "* **Cyclic:** Time series shows rises and falls over an unfixed period, these tend to be longer/more variable than seasonal patterns.\n",
        "\n",
        "* **Univariate:** Only one variable (e.g. using the price of the Bitcoin to predict the price of Bitcoin).\n",
        "\n",
        "* **Multivariate:** More than one variable (e.g. using the price of Bitcoin as well as the block reward size to predict the price of Bitcoin)."
      ]
    },
    {
      "cell_type": "code",
      "metadata": {
        "colab": {
          "base_uri": "https://localhost:8080/",
          "height": 235
        },
        "id": "YoPT5Iik9wdG",
        "outputId": "8a295026-60e7-47c4-c4bf-7334b79e8dd7"
      },
      "source": [
        "## Visualize only Date and Closing Price (USD)\n",
        "bitcoin_prices = pd.DataFrame(df[\"Closing Price (USD)\"]).rename(columns={\"Closing Price (USD)\":\"Price\"})\n",
        "bitcoin_prices.head()"
      ],
      "execution_count": 5,
      "outputs": [
        {
          "output_type": "execute_result",
          "data": {
            "text/html": [
              "<div>\n",
              "<style scoped>\n",
              "    .dataframe tbody tr th:only-of-type {\n",
              "        vertical-align: middle;\n",
              "    }\n",
              "\n",
              "    .dataframe tbody tr th {\n",
              "        vertical-align: top;\n",
              "    }\n",
              "\n",
              "    .dataframe thead th {\n",
              "        text-align: right;\n",
              "    }\n",
              "</style>\n",
              "<table border=\"1\" class=\"dataframe\">\n",
              "  <thead>\n",
              "    <tr style=\"text-align: right;\">\n",
              "      <th></th>\n",
              "      <th>Price</th>\n",
              "    </tr>\n",
              "    <tr>\n",
              "      <th>Date</th>\n",
              "      <th></th>\n",
              "    </tr>\n",
              "  </thead>\n",
              "  <tbody>\n",
              "    <tr>\n",
              "      <th>2014-11-03</th>\n",
              "      <td>331.60083</td>\n",
              "    </tr>\n",
              "    <tr>\n",
              "      <th>2014-11-04</th>\n",
              "      <td>324.71833</td>\n",
              "    </tr>\n",
              "    <tr>\n",
              "      <th>2014-11-05</th>\n",
              "      <td>332.45666</td>\n",
              "    </tr>\n",
              "    <tr>\n",
              "      <th>2014-11-06</th>\n",
              "      <td>336.58500</td>\n",
              "    </tr>\n",
              "    <tr>\n",
              "      <th>2014-11-07</th>\n",
              "      <td>346.77500</td>\n",
              "    </tr>\n",
              "  </tbody>\n",
              "</table>\n",
              "</div>"
            ],
            "text/plain": [
              "                Price\n",
              "Date                 \n",
              "2014-11-03  331.60083\n",
              "2014-11-04  324.71833\n",
              "2014-11-05  332.45666\n",
              "2014-11-06  336.58500\n",
              "2014-11-07  346.77500"
            ]
          },
          "metadata": {},
          "execution_count": 5
        }
      ]
    },
    {
      "cell_type": "code",
      "metadata": {
        "colab": {
          "base_uri": "https://localhost:8080/",
          "height": 434
        },
        "id": "hHgeJZt0BHqF",
        "outputId": "ee1296f8-927a-4ace-b4b2-0bdef5d3c7b2"
      },
      "source": [
        "import matplotlib.pyplot as plt\n",
        "bitcoin_prices.plot(figsize=(10,7))\n",
        "plt.ylabel(\"BTC Price\",fontsize=14)\n",
        "plt.title(\"Price of Bitcoin from 3 Nov 2014 to 7 Sep 2021\",fontsize=16)\n",
        "plt.legend(fontsize=14);"
      ],
      "execution_count": 6,
      "outputs": [
        {
          "output_type": "display_data",
          "data": {
            "image/png": "[encoded data removed]",
            "text/plain": [
              "<Figure size 720x504 with 1 Axes>"
            ]
          },
          "metadata": {
            "needs_background": "light"
          }
        }
      ]
    },
    {
      "cell_type": "markdown",
      "metadata": {
        "id": "OanHiOiDBbJq"
      },
      "source": [
        "## Importing time series data with Python's CSV module"
      ]
    },
    {
      "cell_type": "code",
      "metadata": {
        "colab": {
          "base_uri": "https://localhost:8080/"
        },
        "id": "X86CuF9QHxBT",
        "outputId": "be6eb610-3fca-4fde-c16a-da9749ff953a"
      },
      "source": [
        "# Importing and formatting historical Bitcoin data with Python\n",
        "import csv\n",
        "import datetime as dt\n",
        "\n",
        "timesteps = []\n",
        "btc_price = []\n",
        "with open(\"drive/MyDrive/Bitcoin/BTC_data.csv\",\"r\") as f:\n",
        "  csv_reader = csv.reader(f, delimiter=\",\")\n",
        "  next(csv_reader) # skip first line (this gets rid of the column titles, the header part)\n",
        "  for line in csv_reader:\n",
        "    timesteps.append(dt.datetime.strptime(line[1], \"%Y-%m-%d\")) # get the dates as dates (not strings)\n",
        "    btc_price.append(float(line[2])) # get the closing price as float\n",
        "\n",
        "# View first 10 of each\n",
        "timesteps[:10],btc_price[:10]"
      ],
      "execution_count": 7,
      "outputs": [
        {
          "output_type": "execute_result",
          "data": {
            "text/plain": [
              "([datetime.datetime(2014, 11, 3, 0, 0),\n",
              "  datetime.datetime(2014, 11, 4, 0, 0),\n",
              "  datetime.datetime(2014, 11, 5, 0, 0),\n",
              "  datetime.datetime(2014, 11, 6, 0, 0),\n",
              "  datetime.datetime(2014, 11, 7, 0, 0),\n",
              "  datetime.datetime(2014, 11, 8, 0, 0),\n",
              "  datetime.datetime(2014, 11, 9, 0, 0),\n",
              "  datetime.datetime(2014, 11, 10, 0, 0),\n",
              "  datetime.datetime(2014, 11, 11, 0, 0),\n",
              "  datetime.datetime(2014, 11, 12, 0, 0)],\n",
              " [331.60083,\n",
              "  324.71833,\n",
              "  332.45666,\n",
              "  336.585,\n",
              "  346.775,\n",
              "  344.81166,\n",
              "  343.065,\n",
              "  358.50166,\n",
              "  368.07666,\n",
              "  376.99666])"
            ]
          },
          "metadata": {},
          "execution_count": 7
        }
      ]
    },
    {
      "cell_type": "code",
      "metadata": {
        "colab": {
          "base_uri": "https://localhost:8080/",
          "height": 460
        },
        "id": "e9Cc6-VZKmHw",
        "outputId": "705d9974-06bf-4671-e43a-bb03c5f371f7"
      },
      "source": [
        "# Plot from CSV\n",
        "plt.figure(figsize=(10,7))\n",
        "plt.plot(timesteps, btc_price)\n",
        "plt.ylabel(\"BTC Price\")\n",
        "plt.title(\"Price of Bitcoin from 3 Nov 2014 to 7 Sep 2021\",fontsize=16)\n",
        "plt.xlabel(\"Date\");"
      ],
      "execution_count": 8,
      "outputs": [
        {
          "output_type": "display_data",
          "data": {
            "image/png": "[encoded data removed]",
            "text/plain": [
              "<Figure size 720x504 with 1 Axes>"
            ]
          },
          "metadata": {
            "needs_background": "light"
          }
        }
      ]
    },
    {
      "cell_type": "markdown",
      "metadata": {
        "id": "22gyRFYYREze"
      },
      "source": [
        "## Format data part 1: Create train and test sets of our time series data"
      ]
    },
    {
      "cell_type": "markdown",
      "metadata": {
        "id": "bhT7fhdEQJJf"
      },
      "source": [
        "### Creating train and test sets with time series data (the wrong way)"
      ]
    },
    {
      "cell_type": "code",
      "metadata": {
        "colab": {
          "base_uri": "https://localhost:8080/",
          "height": 235
        },
        "id": "A3kF9eVKRqeY",
        "outputId": "204b48ea-11b3-4486-a045-caa6ea4ffea5"
      },
      "source": [
        "bitcoin_prices[:5]"
      ],
      "execution_count": 9,
      "outputs": [
        {
          "output_type": "execute_result",
          "data": {
            "text/html": [
              "<div>\n",
              "<style scoped>\n",
              "    .dataframe tbody tr th:only-of-type {\n",
              "        vertical-align: middle;\n",
              "    }\n",
              "\n",
              "    .dataframe tbody tr th {\n",
              "        vertical-align: top;\n",
              "    }\n",
              "\n",
              "    .dataframe thead th {\n",
              "        text-align: right;\n",
              "    }\n",
              "</style>\n",
              "<table border=\"1\" class=\"dataframe\">\n",
              "  <thead>\n",
              "    <tr style=\"text-align: right;\">\n",
              "      <th></th>\n",
              "      <th>Price</th>\n",
              "    </tr>\n",
              "    <tr>\n",
              "      <th>Date</th>\n",
              "      <th></th>\n",
              "    </tr>\n",
              "  </thead>\n",
              "  <tbody>\n",
              "    <tr>\n",
              "      <th>2014-11-03</th>\n",
              "      <td>331.60083</td>\n",
              "    </tr>\n",
              "    <tr>\n",
              "      <th>2014-11-04</th>\n",
              "      <td>324.71833</td>\n",
              "    </tr>\n",
              "    <tr>\n",
              "      <th>2014-11-05</th>\n",
              "      <td>332.45666</td>\n",
              "    </tr>\n",
              "    <tr>\n",
              "      <th>2014-11-06</th>\n",
              "      <td>336.58500</td>\n",
              "    </tr>\n",
              "    <tr>\n",
              "      <th>2014-11-07</th>\n",
              "      <td>346.77500</td>\n",
              "    </tr>\n",
              "  </tbody>\n",
              "</table>\n",
              "</div>"
            ],
            "text/plain": [
              "                Price\n",
              "Date                 \n",
              "2014-11-03  331.60083\n",
              "2014-11-04  324.71833\n",
              "2014-11-05  332.45666\n",
              "2014-11-06  336.58500\n",
              "2014-11-07  346.77500"
            ]
          },
          "metadata": {},
          "execution_count": 9
        }
      ]
    },
    {
      "cell_type": "code",
      "metadata": {
        "colab": {
          "base_uri": "https://localhost:8080/"
        },
        "id": "lUtiZWSrRSNN",
        "outputId": "99117e68-c1f8-44ab-a2a1-d3b3a78e6624"
      },
      "source": [
        "# Get bitcoin date array\n",
        "timesteps = bitcoin_prices.index.to_numpy()\n",
        "prices = bitcoin_prices.Price.to_numpy()\n",
        "\n",
        "timesteps[:10], prices[:10]"
      ],
      "execution_count": 10,
      "outputs": [
        {
          "output_type": "execute_result",
          "data": {
            "text/plain": [
              "(array(['2014-11-03T00:00:00.000000000', '2014-11-04T00:00:00.000000000',\n",
              "        '2014-11-05T00:00:00.000000000', '2014-11-06T00:00:00.000000000',\n",
              "        '2014-11-07T00:00:00.000000000', '2014-11-08T00:00:00.000000000',\n",
              "        '2014-11-09T00:00:00.000000000', '2014-11-10T00:00:00.000000000',\n",
              "        '2014-11-11T00:00:00.000000000', '2014-11-12T00:00:00.000000000'],\n",
              "       dtype='datetime64[ns]'),\n",
              " array([331.60083, 324.71833, 332.45666, 336.585  , 346.775  , 344.81166,\n",
              "        343.065  , 358.50166, 368.07666, 376.99666]))"
            ]
          },
          "metadata": {},
          "execution_count": 10
        }
      ]
    },
    {
      "cell_type": "code",
      "metadata": {
        "colab": {
          "base_uri": "https://localhost:8080/"
        },
        "id": "OKZlL4xHRaRx",
        "outputId": "cfb954d9-f28f-427b-f6c8-7ed7def6cdf7"
      },
      "source": [
        "# Wrong way to make train/test sets for time series data\n",
        "from sklearn.model_selection import train_test_split\n",
        "\n",
        "X_train,X_test,y_train,y_test = train_test_split(timesteps,prices,test_size=0.2,random_state=42)\n",
        "X_train.shape,X_test.shape,y_train.shape,y_test.shape"
      ],
      "execution_count": 11,
      "outputs": [
        {
          "output_type": "execute_result",
          "data": {
            "text/plain": [
              "((2000,), (500,), (2000,), (500,))"
            ]
          },
          "metadata": {},
          "execution_count": 11
        }
      ]
    },
    {
      "cell_type": "code",
      "metadata": {
        "colab": {
          "base_uri": "https://localhost:8080/",
          "height": 442
        },
        "id": "5nqSEMDtSyS9",
        "outputId": "6e40f326-36d6-4608-f57a-a50fa49597fb"
      },
      "source": [
        "# Let's plot wrong train and test splits\n",
        "plt.figure(figsize=(10,7))\n",
        "plt.scatter(X_train,y_train,s=5,label=\"Train Data\")\n",
        "plt.scatter(X_test,y_test,s=5,label=\"Test Data\")\n",
        "plt.xlabel(\"Date\")\n",
        "plt.ylabel(\"BTC Price\")\n",
        "plt.legend(fontsize=14);"
      ],
      "execution_count": 12,
      "outputs": [
        {
          "output_type": "display_data",
          "data": {
            "image/png": "[encoded data removed]",
            "text/plain": [
              "<Figure size 720x504 with 1 Axes>"
            ]
          },
          "metadata": {
            "needs_background": "light"
          }
        }
      ]
    },
    {
      "cell_type": "markdown",
      "metadata": {
        "id": "upvmKqt1TW1k"
      },
      "source": [
        "## Create train & test sets for time series (the right way)"
      ]
    },
    {
      "cell_type": "code",
      "metadata": {
        "colab": {
          "base_uri": "https://localhost:8080/"
        },
        "id": "a5mIBOOBUxh7",
        "outputId": "0cf2f770-70ab-49cb-fefa-090cfd1d4c5b"
      },
      "source": [
        "# Create train and test splits the right way for time series data\n",
        "split_size = int(0.8 * len(prices)) # 80% train, 20% test -we can change these values as needed\n",
        "\n",
        "# Create train data splits (everything before the split)\n",
        "X_train, y_train = timesteps[:split_size], prices[:split_size]\n",
        "\n",
        "# Create test data splits (everything after the split)\n",
        "X_test, y_test = timesteps[split_size:], prices[split_size:]\n",
        "\n",
        "X_train.shape,X_test.shape,y_train.shape,y_test.shape"
      ],
      "execution_count": 13,
      "outputs": [
        {
          "output_type": "execute_result",
          "data": {
            "text/plain": [
              "((2000,), (500,), (2000,), (500,))"
            ]
          },
          "metadata": {},
          "execution_count": 13
        }
      ]
    },
    {
      "cell_type": "code",
      "metadata": {
        "colab": {
          "base_uri": "https://localhost:8080/",
          "height": 442
        },
        "id": "qjnTcbPXc_Qk",
        "outputId": "639220a9-688f-468a-b35e-349827f65ddb"
      },
      "source": [
        "# Let's plot right train and test splits\n",
        "plt.figure(figsize=(10,7))\n",
        "plt.scatter(X_train,y_train,s=5,label=\"Train Data\")\n",
        "plt.scatter(X_test,y_test,s=5,label=\"Test Data\")\n",
        "plt.xlabel(\"Date\")\n",
        "plt.ylabel(\"BTC Price\")\n",
        "plt.legend(fontsize=14);"
      ],
      "execution_count": 14,
      "outputs": [
        {
          "output_type": "display_data",
          "data": {
            "image/png": "[encoded data removed]",
            "text/plain": [
              "<Figure size 720x504 with 1 Axes>"
            ]
          },
          "metadata": {
            "needs_background": "light"
          }
        }
      ]
    },
    {
      "cell_type": "markdown",
      "metadata": {
        "id": "bz3GQXnIdpv-"
      },
      "source": [
        "## Create a plotting function\n",
        "\n",
        "Typing plotting code is tedious, let's functionize it."
      ]
    },
    {
      "cell_type": "code",
      "metadata": {
        "id": "anSNuzlge56l"
      },
      "source": [
        "# Create a function to plot time series data\n",
        "def plot_time_series(timesteps, values, format=\".\", start=0, end=None, label=None):\n",
        "  \"\"\"\n",
        "  Plots timesteps (a series of points in time) against values (a series of values accross timesteps)\n",
        "\n",
        "  Parameters\n",
        "  ----------\n",
        "  timesteps: array of timestep values\n",
        "  values: array of values accross time\n",
        "  format: style of plot, default \".\"\n",
        "  start: where to start the plot (setting a value will index from start of timesteps & values)\n",
        "  end: where to end the plot (similar to staet but for the end)\n",
        "  label: label to show on plot about values, default None\n",
        "  \"\"\"\n",
        "\n",
        "  # Plot the series\n",
        "  plt.plot(timesteps[start:end], values[start:end], format, label=label)\n",
        "  plt.xlabel(\"Time\")\n",
        "  plt.ylabel(\"BTC Price\")\n",
        "  if label:\n",
        "    plt.legend(fontsize=14) # make label bigger\n",
        "  plt.grid(True)"
      ],
      "execution_count": 15,
      "outputs": []
    },
    {
      "cell_type": "code",
      "metadata": {
        "colab": {
          "base_uri": "https://localhost:8080/",
          "height": 442
        },
        "id": "mMWKCNwEgt5v",
        "outputId": "0915f716-4927-48cc-d793-bf2a772a8ffd"
      },
      "source": [
        "# Test out plotting function\n",
        "plt.figure(figsize=(10,7))\n",
        "plot_time_series(timesteps=X_train,values=y_train,label=\"Train data\",format=\"-\")\n",
        "plot_time_series(timesteps=X_test,values=y_test,label=\"Test data\",format=\"-\")"
      ],
      "execution_count": 16,
      "outputs": [
        {
          "output_type": "display_data",
          "data": {
            "image/png": "[encoded data removed]",
            "text/plain": [
              "<Figure size 720x504 with 1 Axes>"
            ]
          },
          "metadata": {
            "needs_background": "light"
          }
        }
      ]
    },
    {
      "cell_type": "markdown",
      "metadata": {
        "id": "YeuvbmYFjkrA"
      },
      "source": [
        "## Modelling Experiments\n",
        "\n",
        "We've got some Bitcoin historical data, to model it, let's run a series of modelling experiments and see which model performs best.\n",
        "\n",
        "Terms to be familiar with:\n",
        "* **Horizon:** number of timesteps into the future we're going to predict\n",
        "* **Window size:** number of timesteps we're going to use to predict horizon\n",
        "\n",
        "* Model 0: Naive model (baseline)\n",
        "* Model 1: Dense model, window = 7, horizon = 1\n",
        "* Model 2: Same as model 1, window = 30, horizon = 1\n",
        "* Model 3: Same as model 1, window = 30, horizon = 7\n",
        "* Model 4: Conv1D\n",
        "* Model 5: LSTM\n",
        "* Model 6: Same as model 1 (but with multivariate data)\n",
        "* Model 7: N-BEATS algorithm\n",
        "* Model 8: Ensemble (multiple models stacked together)\n",
        "* Model 9: Future prediction model\n",
        "* Model 10: Same as model 1 (but with turkey data introduced)"
      ]
    },
    {
      "cell_type": "markdown",
      "metadata": {
        "id": "OEE3R8U7h4ei"
      },
      "source": [
        "## Model 0: Naive forecast (baseline)\n",
        "\n",
        "The formula looks like this:\n",
        "\n",
        "$$\\hat{y}_{t} = y_{t-1}$$\n",
        "\n",
        "In English:\n",
        "\n",
        "> The prediction at timestep t (y-hat) is equal to the value at timestep t-1 (previous timestep) ~this is for a horizon of 1."
      ]
    },
    {
      "cell_type": "code",
      "metadata": {
        "colab": {
          "base_uri": "https://localhost:8080/"
        },
        "id": "8rqq7B0tKC_T",
        "outputId": "58445035-ed68-4412-c613-2ebcfcdd06cf"
      },
      "source": [
        "y_test[:10], y_test[-10:]"
      ],
      "execution_count": 17,
      "outputs": [
        {
          "output_type": "execute_result",
          "data": {
            "text/plain": [
              "(array([7542.3034007 , 7624.85378592, 7776.50754257, 7761.75878408,\n",
              "        8773.10648796, 8767.67262337, 8853.77448401, 8963.0575578 ,\n",
              "        8904.71381654, 8887.50589259]),\n",
              " array([48768.19008652, 49184.2085095 , 47663.02250108, 46919.51155472,\n",
              "        48487.01118945, 49725.53213449, 49709.61199434, 49999.55557859,\n",
              "        51693.80939808, 52506.68564748]))"
            ]
          },
          "metadata": {},
          "execution_count": 17
        }
      ]
    },
    {
      "cell_type": "code",
      "metadata": {
        "colab": {
          "base_uri": "https://localhost:8080/"
        },
        "id": "Am8rum6lIevv",
        "outputId": "bc4614ff-ec7d-498e-a1d9-abd8b84811e7"
      },
      "source": [
        "# Create a naive forecast\n",
        "naive_forecast = y_test[:-1]\n",
        "naive_forecast[:10], naive_forecast[-10:]"
      ],
      "execution_count": 18,
      "outputs": [
        {
          "output_type": "execute_result",
          "data": {
            "text/plain": [
              "(array([7542.3034007 , 7624.85378592, 7776.50754257, 7761.75878408,\n",
              "        8773.10648796, 8767.67262337, 8853.77448401, 8963.0575578 ,\n",
              "        8904.71381654, 8887.50589259]),\n",
              " array([49033.32539607, 48768.19008652, 49184.2085095 , 47663.02250108,\n",
              "        46919.51155472, 48487.01118945, 49725.53213449, 49709.61199434,\n",
              "        49999.55557859, 51693.80939808]))"
            ]
          },
          "metadata": {},
          "execution_count": 18
        }
      ]
    },
    {
      "cell_type": "code",
      "metadata": {
        "colab": {
          "base_uri": "https://localhost:8080/",
          "height": 204
        },
        "id": "SmdXjmUWV5Cs",
        "outputId": "56dc510c-8173-4a42-ba60-944102b0ef9b"
      },
      "source": [
        "nf = pd.DataFrame({\"original\":y_test[1:],\"Preds\":y_test[:-1]})\n",
        "nf.head()"
      ],
      "execution_count": 20,
      "outputs": [
        {
          "output_type": "execute_result",
          "data": {
            "text/html": [
              "<div>\n",
              "<style scoped>\n",
              "    .dataframe tbody tr th:only-of-type {\n",
              "        vertical-align: middle;\n",
              "    }\n",
              "\n",
              "    .dataframe tbody tr th {\n",
              "        vertical-align: top;\n",
              "    }\n",
              "\n",
              "    .dataframe thead th {\n",
              "        text-align: right;\n",
              "    }\n",
              "</style>\n",
              "<table border=\"1\" class=\"dataframe\">\n",
              "  <thead>\n",
              "    <tr style=\"text-align: right;\">\n",
              "      <th></th>\n",
              "      <th>original</th>\n",
              "      <th>Preds</th>\n",
              "    </tr>\n",
              "  </thead>\n",
              "  <tbody>\n",
              "    <tr>\n",
              "      <th>0</th>\n",
              "      <td>7624.853786</td>\n",
              "      <td>7542.303401</td>\n",
              "    </tr>\n",
              "    <tr>\n",
              "      <th>1</th>\n",
              "      <td>7776.507543</td>\n",
              "      <td>7624.853786</td>\n",
              "    </tr>\n",
              "    <tr>\n",
              "      <th>2</th>\n",
              "      <td>7761.758784</td>\n",
              "      <td>7776.507543</td>\n",
              "    </tr>\n",
              "    <tr>\n",
              "      <th>3</th>\n",
              "      <td>8773.106488</td>\n",
              "      <td>7761.758784</td>\n",
              "    </tr>\n",
              "    <tr>\n",
              "      <th>4</th>\n",
              "      <td>8767.672623</td>\n",
              "      <td>8773.106488</td>\n",
              "    </tr>\n",
              "  </tbody>\n",
              "</table>\n",
              "</div>"
            ],
            "text/plain": [
              "      original        Preds\n",
              "0  7624.853786  7542.303401\n",
              "1  7776.507543  7624.853786\n",
              "2  7761.758784  7776.507543\n",
              "3  8773.106488  7761.758784\n",
              "4  8767.672623  8773.106488"
            ]
          },
          "metadata": {},
          "execution_count": 20
        }
      ]
    },
    {
      "cell_type": "code",
      "metadata": {
        "colab": {
          "base_uri": "https://localhost:8080/",
          "height": 204
        },
        "id": "4pDtvMlDWZ4T",
        "outputId": "6316789d-95bc-46f7-a75f-659165d6226a"
      },
      "source": [
        "nf.tail()"
      ],
      "execution_count": 21,
      "outputs": [
        {
          "output_type": "execute_result",
          "data": {
            "text/html": [
              "<div>\n",
              "<style scoped>\n",
              "    .dataframe tbody tr th:only-of-type {\n",
              "        vertical-align: middle;\n",
              "    }\n",
              "\n",
              "    .dataframe tbody tr th {\n",
              "        vertical-align: top;\n",
              "    }\n",
              "\n",
              "    .dataframe thead th {\n",
              "        text-align: right;\n",
              "    }\n",
              "</style>\n",
              "<table border=\"1\" class=\"dataframe\">\n",
              "  <thead>\n",
              "    <tr style=\"text-align: right;\">\n",
              "      <th></th>\n",
              "      <th>original</th>\n",
              "      <th>Preds</th>\n",
              "    </tr>\n",
              "  </thead>\n",
              "  <tbody>\n",
              "    <tr>\n",
              "      <th>494</th>\n",
              "      <td>49725.532134</td>\n",
              "      <td>48487.011189</td>\n",
              "    </tr>\n",
              "    <tr>\n",
              "      <th>495</th>\n",
              "      <td>49709.611994</td>\n",
              "      <td>49725.532134</td>\n",
              "    </tr>\n",
              "    <tr>\n",
              "      <th>496</th>\n",
              "      <td>49999.555579</td>\n",
              "      <td>49709.611994</td>\n",
              "    </tr>\n",
              "    <tr>\n",
              "      <th>497</th>\n",
              "      <td>51693.809398</td>\n",
              "      <td>49999.555579</td>\n",
              "    </tr>\n",
              "    <tr>\n",
              "      <th>498</th>\n",
              "      <td>52506.685647</td>\n",
              "      <td>51693.809398</td>\n",
              "    </tr>\n",
              "  </tbody>\n",
              "</table>\n",
              "</div>"
            ],
            "text/plain": [
              "         original         Preds\n",
              "494  49725.532134  48487.011189\n",
              "495  49709.611994  49725.532134\n",
              "496  49999.555579  49709.611994\n",
              "497  51693.809398  49999.555579\n",
              "498  52506.685647  51693.809398"
            ]
          },
          "metadata": {},
          "execution_count": 21
        }
      ]
    },
    {
      "cell_type": "code",
      "metadata": {
        "colab": {
          "base_uri": "https://localhost:8080/",
          "height": 442
        },
        "id": "TqFWToYLKRRT",
        "outputId": "7a37c6ce-3ce3-4623-a429-6a95b73c9d24"
      },
      "source": [
        "# Plot naive forecast\n",
        "plt.figure(figsize=(10,7))\n",
        "plot_time_series(timesteps=X_train,values=y_train,label=\"Training data\")\n",
        "plot_time_series(timesteps=X_test,values=y_test,label=\"Testing\")\n",
        "plot_time_series(timesteps=X_test[1:],values=naive_forecast,format=\"-\",label=\"Naive Forecast\")"
      ],
      "execution_count": 22,
      "outputs": [
        {
          "output_type": "display_data",
          "data": {
            "image/png": "[encoded data removed]",
            "text/plain": [
              "<Figure size 720x504 with 1 Axes>"
            ]
          },
          "metadata": {
            "needs_background": "light"
          }
        }
      ]
    },
    {
      "cell_type": "markdown",
      "metadata": {
        "id": "Nm8adqcsMpA0"
      },
      "source": [
        "## Evaluating a time series model \n",
        "\n",
        "Let's look into some evaluation metrics for time series forecasting.\n",
        "\n",
        "What are we doing?\n",
        "\n",
        "We're predicting a number, so that means we have a form of a regression problem.\n",
        "\n",
        "Because we're working on a regression problem, we'll need some regression like metrics.\n",
        "\n",
        "A few common regression metrics (which can also be used for time series forecasting):\n",
        "* MAE - Mean Absolute Error ~ as a great starter metric for any regression problem\n",
        "* MSE - Mean Squared Error ~ when larger errors are more significant than smaller errors\n",
        "* RMSE - Root Mean Squared Error ~ similar to MSE but as interpretable as MAE (RMSE is in same units as target)\n",
        "* MAPE - (Symmetric) Mean Absolute Percentage Error (MAPE/sMAPE) ~ Recommend not to use by Hyndman & Koehler\n",
        "* MASE - Mean Absolute Scaled Error ~ **A scaled error is > 1 if the forecast is worse than the naive and < 1 if the forecast is better than the naive.**\n",
        "\n",
        "For all the above metrics, **lower is better**, for example, an MAE of 0 is better than an MAE of 100.\n",
        "\n",
        "The main thing we're evaluating here is: **how do our model's forecasts (y_pred) compare against the actual values (y_true or ground truth values)?**"
      ]
    },
    {
      "cell_type": "code",
      "metadata": {
        "id": "F0349VD8j60g"
      },
      "source": [
        "import tensorflow as tf"
      ],
      "execution_count": 23,
      "outputs": []
    },
    {
      "cell_type": "code",
      "metadata": {
        "id": "i3Fgeiv_j80S"
      },
      "source": [
        "# MASE implementation\n",
        "def mean_absolute_scaled_error(y_true,y_pred):\n",
        "  \"\"\"\n",
        "  Implement MASE (assuming no seasonality of data).\n",
        "  \"\"\"\n",
        "  mae = tf.reduce_mean(tf.abs(y_pred-y_true))\n",
        "\n",
        "  # Find MAE of naive forecast (no seasonality)\n",
        "  mae_naive_no_season = tf.reduce_mean(tf.abs(y_true[1:] - y_true[:-1])) # our seasonality is 1 day (hence the shift of 1)\n",
        "\n",
        "  return mae/mae_naive_no_season"
      ],
      "execution_count": 24,
      "outputs": []
    },
    {
      "cell_type": "code",
      "metadata": {
        "colab": {
          "base_uri": "https://localhost:8080/"
        },
        "id": "aSUtsjVjoCvh",
        "outputId": "2e457bfb-3af9-405f-a2e5-5efdaa647421"
      },
      "source": [
        "mean_absolute_scaled_error(y_true=y_test[1:], y_pred=naive_forecast).numpy()"
      ],
      "execution_count": 25,
      "outputs": [
        {
          "output_type": "execute_result",
          "data": {
            "text/plain": [
              "0.9981955256551214"
            ]
          },
          "metadata": {},
          "execution_count": 25
        }
      ]
    },
    {
      "cell_type": "markdown",
      "metadata": {
        "id": "pwIZscy0sdL-"
      },
      "source": [
        "* Numpy uses generally float64 dtype"
      ]
    },
    {
      "cell_type": "code",
      "metadata": {
        "id": "NkQ5J7XSrGAj"
      },
      "source": [
        "# Create a function to take in model predictions and truth values and return evaluation metrics\n",
        "def evaluate_preds (y_true,y_pred):\n",
        "  # Make sure float32 datatype (for metric calculations)\n",
        "  y_true = tf.cast(y_true, dtype=tf.float32)\n",
        "  y_pred = tf.cast(y_pred, dtype=tf.float32)\n",
        "\n",
        "  # Calculate various evaluation metrics\n",
        "  mae = tf.keras.metrics.mean_absolute_error(y_true,y_pred)\n",
        "  mse = tf.keras.metrics.mean_squared_error(y_true,y_pred)\n",
        "  rmse = mse**0.5\n",
        "  mape = tf.keras.metrics.mean_absolute_percentage_error(y_true,y_pred)\n",
        "  mase = mean_absolute_scaled_error(y_true,y_pred)\n",
        "\n",
        "  return {\"mae\":mae.numpy(),\n",
        "          \"mse\":mse.numpy(),\n",
        "          \"rmse\":rmse.numpy(),\n",
        "          \"mape\":mape.numpy(),\n",
        "          \"mase\":mase.numpy()}"
      ],
      "execution_count": 26,
      "outputs": []
    },
    {
      "cell_type": "code",
      "metadata": {
        "colab": {
          "base_uri": "https://localhost:8080/"
        },
        "id": "WoUN2sSRuOk-",
        "outputId": "7f9328fb-f4e2-4a40-e7ab-14ab6100fb1f"
      },
      "source": [
        "naive_results = evaluate_preds(y_true=y_test[1:],y_pred=naive_forecast)\n",
        "naive_results"
      ],
      "execution_count": 27,
      "outputs": [
        {
          "output_type": "execute_result",
          "data": {
            "text/plain": [
              "{'mae': 827.59515,\n",
              " 'mape': 2.602443,\n",
              " 'mase': 0.9981955,\n",
              " 'mse': 1765166.9,\n",
              " 'rmse': 1328.5958}"
            ]
          },
          "metadata": {},
          "execution_count": 27
        }
      ]
    },
    {
      "cell_type": "code",
      "metadata": {
        "colab": {
          "base_uri": "https://localhost:8080/"
        },
        "id": "Lsyxl5xouho9",
        "outputId": "bccfbce8-baa5-48c8-faa2-fc9629f92056"
      },
      "source": [
        "tf.reduce_mean(y_test)"
      ],
      "execution_count": 28,
      "outputs": [
        {
          "output_type": "execute_result",
          "data": {
            "text/plain": [
              "<tf.Tensor: shape=(), dtype=float64, numpy=28468.213863463643>"
            ]
          },
          "metadata": {},
          "execution_count": 28
        }
      ]
    },
    {
      "cell_type": "code",
      "metadata": {
        "colab": {
          "base_uri": "https://localhost:8080/"
        },
        "id": "IBZfydD3vWJr",
        "outputId": "ef115d4b-9d55-45c9-f187-1ce12f2b582d"
      },
      "source": [
        "tf.reduce_min(y_test), tf.reduce_max(y_test)"
      ],
      "execution_count": 29,
      "outputs": [
        {
          "output_type": "execute_result",
          "data": {
            "text/plain": [
              "(<tf.Tensor: shape=(), dtype=float64, numpy=7542.303400703199>,\n",
              " <tf.Tensor: shape=(), dtype=float64, numpy=63346.7890351052>)"
            ]
          },
          "metadata": {},
          "execution_count": 29
        }
      ]
    },
    {
      "cell_type": "markdown",
      "metadata": {
        "id": "83vAljzlva-D"
      },
      "source": [
        "## Other models we can use for baselines and for actual forecasts\n",
        "\n",
        "In this notebook, we're focused on TensorFlow and deep learning models.\n",
        "\n",
        "However, there are plenty of other styles of time series forecasting models we may want to experiment with: https://dev.mrdbourke.com/tensorflow-deep-learning/10_time_series_forecasting_in_tensorflow/\n"
      ]
    },
    {
      "cell_type": "markdown",
      "metadata": {
        "id": "7IE0i9cQ9c4o"
      },
      "source": [
        "## Format Data Part 2: Windowing our dataset\n",
        "\n",
        "Why do we window?\n",
        "\n",
        "We window our time series dataset to turn our data into a supervised learning problem.\n",
        "\n",
        "```\n",
        "Windowing for one week\n",
        "[0,1,2,3,4,5,6] -> [7]\n",
        "[1,2,3,4,5,6,7] -> [8]\n",
        "[2,3,4,5,6,7,8] -> [9]\n",
        "```"
      ]
    },
    {
      "cell_type": "code",
      "metadata": {
        "colab": {
          "base_uri": "https://localhost:8080/"
        },
        "id": "YQRTLJLY_ZQP",
        "outputId": "576ace8d-4087-4944-efb9-7b7166f2a8f0"
      },
      "source": [
        "btc_price[:7], btc_price[7]"
      ],
      "execution_count": 30,
      "outputs": [
        {
          "output_type": "execute_result",
          "data": {
            "text/plain": [
              "([331.60083, 324.71833, 332.45666, 336.585, 346.775, 344.81166, 343.065],\n",
              " 358.50166)"
            ]
          },
          "metadata": {},
          "execution_count": 30
        }
      ]
    },
    {
      "cell_type": "code",
      "metadata": {
        "colab": {
          "base_uri": "https://localhost:8080/"
        },
        "id": "lVE5VECq_gBU",
        "outputId": "084fc3ab-d98a-4a6a-b539-12d64e508ba0"
      },
      "source": [
        "# What we want to do with our bitcoin data\n",
        "print(f\"We want to use: {btc_price[:7]} to predict this: {btc_price[7]}\")"
      ],
      "execution_count": 31,
      "outputs": [
        {
          "output_type": "stream",
          "name": "stdout",
          "text": [
            "We want to use: [331.60083, 324.71833, 332.45666, 336.585, 346.775, 344.81166, 343.065] to predict this: 358.50166\n"
          ]
        }
      ]
    },
    {
      "cell_type": "code",
      "metadata": {
        "id": "0n803PhzAAea"
      },
      "source": [
        "# Let's setup global variables for window and horizon size\n",
        "HORIZON = 1 # predict next one day\n",
        "WINDOW_SIZE = 7 # use the past week of Bitcoin data to make the prediction"
      ],
      "execution_count": 32,
      "outputs": []
    },
    {
      "cell_type": "code",
      "metadata": {
        "id": "77UKKydfAY3f"
      },
      "source": [
        "# Create function to label windowed data\n",
        "def get_labelled_windows(x, horizon=HORIZON):\n",
        "  \"\"\"\n",
        "  Creates labels for windowed dataset.\n",
        "\n",
        "  E.g. if horizon = 1\n",
        "  Input: [0,1,2,3,4,5,6,7] -> Output: ([0,1,2,3,4,5,6],[7])\n",
        "  \"\"\"\n",
        "  return x[:, :-horizon], x[:, -horizon:]"
      ],
      "execution_count": 33,
      "outputs": []
    },
    {
      "cell_type": "code",
      "metadata": {
        "colab": {
          "base_uri": "https://localhost:8080/"
        },
        "id": "J4zB-8ZjDJTF",
        "outputId": "5e9c2fc8-6a7b-4cff-f6c3-a0d7962c608e"
      },
      "source": [
        "# Test out the window labelling function\n",
        "test_window, test_label = get_labelled_windows(tf.expand_dims(tf.range(8),axis=0))\n",
        "print(f\"Window: {tf.squeeze(test_window).numpy()} -> Label: {tf.squeeze(test_label).numpy()}\")"
      ],
      "execution_count": 35,
      "outputs": [
        {
          "output_type": "stream",
          "name": "stdout",
          "text": [
            "Window: [0 1 2 3 4 5 6] -> Label: 7\n"
          ]
        }
      ]
    },
    {
      "cell_type": "markdown",
      "metadata": {
        "id": "KwL_YzuJOls0"
      },
      "source": [
        "We've got a way to label our windowed data.\n",
        "\n",
        "However, this only works on a small scale.\n",
        "\n",
        "We need a way to do the above accross our entire time series.\n",
        "\n",
        "We could do this with Python for loops, however, for large time series, that'd be quite slow.\n",
        "\n",
        "To speed things up, we'll leverage Numpy's array indexing.\n",
        "\n",
        "Our function will:\n",
        "1. Create a window step of specific window size (e.g. [0, 1, 2, 3, 4, 5, 6])\n",
        "2. Use Numpy indexing to create a 2D array of multiple window steps, for example:\n",
        "\n",
        "```\n",
        "[[0, 1, 2, 3, 4, 5, 6]\n",
        "[1, 2, 3, 4, 5, 6, 7]\n",
        "[2, 3, 4, 5, 6, 7, 8]\n",
        "---------------------]\n",
        "```\n",
        "3. Uses the 2D array of multiple window steps (from 2.) to index on a target series (e.g. the historical price of Bitcoin)\n",
        "4. Uses our `get_labelled_windows()` function we created above to turn the window steps into windows with a specified horizon.\n",
        "\n",
        "> **Resources:** The function we're about to create has been adapted from the following article:\n",
        "https://towardsdatascience.com/fast-and-robust-sliding-window-vectorization-with-numpy-3ad950ed62f5"
      ]
    },
    {
      "cell_type": "code",
      "metadata": {
        "id": "mmQdtC-5O8Fl"
      },
      "source": [
        "import numpy as np\n",
        "# Create function to view Numpy arrays as windows\n",
        "def make_windows(x, window_size=WINDOW_SIZE, horizon=HORIZON): \n",
        "  \"\"\"\n",
        "  Turns a 1D array into a 2D array of sequential labelled windows of window_size with horizon size labels.\n",
        "  \"\"\"\n",
        "  # 1. Create a window of specific window size (add the horizon on the end for labelling later)\n",
        "  window_step = np.expand_dims(np.arange(window_size+horizon),axis=0)\n",
        "  \n",
        "  # 2. Create a 2D array of multiple window steps (minus 1 to account for 0 indexing)\n",
        "  window_indexes = window_step + np.expand_dims(np.arange(len(x)-(window_size+horizon-1)),axis=0).T # create 2D array of windows of size window_size\n",
        "  \n",
        "  # 3. Index on the target array (a time series with 2D array of multiple timesteps)\n",
        "  windowed_array = x[window_indexes]\n",
        "  \n",
        "  # 4. Get the labelled windows \n",
        "  windows, labels = get_labelled_windows(x=windowed_array,horizon=horizon)\n",
        "  return windows,labels"
      ],
      "execution_count": 36,
      "outputs": []
    },
    {
      "cell_type": "code",
      "metadata": {
        "colab": {
          "base_uri": "https://localhost:8080/"
        },
        "id": "Ei3eqDDbTd6N",
        "outputId": "135809db-9646-4362-d2dd-899748d2e084"
      },
      "source": [
        "full_windows, full_labels = make_windows(prices)\n",
        "len(full_windows), len(full_labels)"
      ],
      "execution_count": 37,
      "outputs": [
        {
          "output_type": "execute_result",
          "data": {
            "text/plain": [
              "(2493, 2493)"
            ]
          },
          "metadata": {},
          "execution_count": 37
        }
      ]
    },
    {
      "cell_type": "code",
      "metadata": {
        "colab": {
          "base_uri": "https://localhost:8080/"
        },
        "id": "Yku51LLzcQHu",
        "outputId": "a479d1d5-dd28-4125-fe07-8a3a4fe9b2eb"
      },
      "source": [
        "# View the first 3 windows and horizon\n",
        "for i in range(3):\n",
        "  print(f\"Window: {full_windows[i]} -> Horizon: {full_labels[i]}\")"
      ],
      "execution_count": 38,
      "outputs": [
        {
          "output_type": "stream",
          "name": "stdout",
          "text": [
            "Window: [331.60083 324.71833 332.45666 336.585   346.775   344.81166 343.065  ] -> Horizon: [358.50166]\n",
            "Window: [324.71833 332.45666 336.585   346.775   344.81166 343.065   358.50166] -> Horizon: [368.07666]\n",
            "Window: [332.45666 336.585   346.775   344.81166 343.065   358.50166 368.07666] -> Horizon: [376.99666]\n"
          ]
        }
      ]
    },
    {
      "cell_type": "code",
      "metadata": {
        "colab": {
          "base_uri": "https://localhost:8080/"
        },
        "id": "N2syfUfPcNgo",
        "outputId": "3e461844-88e0-47a7-9778-c331789ecd82"
      },
      "source": [
        "# View the last 3 windows and horizon\n",
        "for i in range(3):\n",
        "  print(f\"Window: {full_windows[i-3]} -> Horizon: {full_labels[i-3]}\")"
      ],
      "execution_count": 39,
      "outputs": [
        {
          "output_type": "stream",
          "name": "stdout",
          "text": [
            "Window: [48768.19008652 49184.2085095  47663.02250108 46919.51155472\n",
            " 48487.01118945 49725.53213449 49709.61199434] -> Horizon: [49999.55557859]\n",
            "Window: [49184.2085095  47663.02250108 46919.51155472 48487.01118945\n",
            " 49725.53213449 49709.61199434 49999.55557859] -> Horizon: [51693.80939808]\n",
            "Window: [47663.02250108 46919.51155472 48487.01118945 49725.53213449\n",
            " 49709.61199434 49999.55557859 51693.80939808] -> Horizon: [52506.68564748]\n"
          ]
        }
      ]
    },
    {
      "cell_type": "markdown",
      "metadata": {
        "id": "_vVLD23Yhxqc"
      },
      "source": [
        "## Turning windows into training and test sets"
      ]
    },
    {
      "cell_type": "code",
      "metadata": {
        "id": "6zj_NIXkjphn"
      },
      "source": [
        "# Make the train test splits\n",
        "def make_train_test_splits(windows,labels,test_split=0.2):\n",
        "  \"\"\"\n",
        "  Splits matching pairs of windows and labels into train and test splits\n",
        "  \"\"\"\n",
        "  split_size = int(len(windows) * (1-test_split)) # default to 80% train and 20% test\n",
        "  train_windows = windows[:split_size]\n",
        "  train_labels = labels[:split_size]\n",
        "  test_windows = windows[split_size:]\n",
        "  test_labels = labels[split_size:]\n",
        "  return train_windows, test_windows, train_labels, test_labels"
      ],
      "execution_count": 40,
      "outputs": []
    },
    {
      "cell_type": "code",
      "metadata": {
        "colab": {
          "base_uri": "https://localhost:8080/"
        },
        "id": "Rw0ZJkMIjsRK",
        "outputId": "2b3d5c15-9b20-4386-a976-fa3ace3f4583"
      },
      "source": [
        "# Splitting the windows and labels\n",
        "train_windows, test_windows, train_labels, test_labels = make_train_test_splits(windows=full_windows, labels=full_labels, test_split=0.2)\n",
        "len(train_windows), len(test_windows), len(train_labels), len(test_labels)"
      ],
      "execution_count": 41,
      "outputs": [
        {
          "output_type": "execute_result",
          "data": {
            "text/plain": [
              "(1994, 499, 1994, 499)"
            ]
          },
          "metadata": {},
          "execution_count": 41
        }
      ]
    },
    {
      "cell_type": "code",
      "metadata": {
        "colab": {
          "base_uri": "https://localhost:8080/"
        },
        "id": "pu-NYhclmPA4",
        "outputId": "a45a7773-8ab2-4f5b-ff03-c3a6b9759b4c"
      },
      "source": [
        "train_windows[:5], train_labels[:5]"
      ],
      "execution_count": 42,
      "outputs": [
        {
          "output_type": "execute_result",
          "data": {
            "text/plain": [
              "(array([[331.60083, 324.71833, 332.45666, 336.585  , 346.775  , 344.81166,\n",
              "         343.065  ],\n",
              "        [324.71833, 332.45666, 336.585  , 346.775  , 344.81166, 343.065  ,\n",
              "         358.50166],\n",
              "        [332.45666, 336.585  , 346.775  , 344.81166, 343.065  , 358.50166,\n",
              "         368.07666],\n",
              "        [336.585  , 346.775  , 344.81166, 343.065  , 358.50166, 368.07666,\n",
              "         376.99666],\n",
              "        [346.775  , 344.81166, 343.065  , 358.50166, 368.07666, 376.99666,\n",
              "         442.10666]]), array([[358.50166],\n",
              "        [368.07666],\n",
              "        [376.99666],\n",
              "        [442.10666],\n",
              "        [389.00333]]))"
            ]
          },
          "metadata": {},
          "execution_count": 42
        }
      ]
    },
    {
      "cell_type": "code",
      "metadata": {
        "colab": {
          "base_uri": "https://localhost:8080/"
        },
        "id": "RPM33plsmWMs",
        "outputId": "84f54f6b-3a47-4a14-bc46-653b47a0e108"
      },
      "source": [
        "# Check to see if train labels are the same (before and after window split)\n",
        "np.array_equal(np.squeeze(train_labels[:-HORIZON]),y_train[WINDOW_SIZE:])"
      ],
      "execution_count": 43,
      "outputs": [
        {
          "output_type": "execute_result",
          "data": {
            "text/plain": [
              "True"
            ]
          },
          "metadata": {},
          "execution_count": 43
        }
      ]
    },
    {
      "cell_type": "markdown",
      "metadata": {
        "id": "_QqZquA4ofmf"
      },
      "source": [
        "## Make a modelling checkpoint callback\n",
        "\n",
        "Because our model's performance will fluctuate from experiment to experiment, we're going to write a model checkpoint so we can compare apples to apples.\n",
        "\n",
        "More specifically, we want to compare each of our model's best performance against the other model's best performances.\n",
        "\n",
        "For example, if our model performs the best on epoch 55 (but we're training for 100 epochs), we want to load and evaluate the model saved on epoch 55.\n",
        "\n"
      ]
    },
    {
      "cell_type": "code",
      "metadata": {
        "id": "63UkgdMJpGmS"
      },
      "source": [
        "import os\n",
        "\n",
        "# Create a function to implement a ModelCheckpoint callback with a specific filename\n",
        "def create_model_checkpoint(model_name, save_path=\"model_experiments\"):\n",
        "  return tf.keras.callbacks.ModelCheckpoint(filepath=os.path.join(save_path,model_name),\n",
        "                                            save_best_only=True)"
      ],
      "execution_count": 44,
      "outputs": []
    },
    {
      "cell_type": "markdown",
      "metadata": {
        "id": "rsjWN0WcMzAs"
      },
      "source": [
        "## Model 1: Dense model (window=7, horizon=1)\n",
        "\n",
        "Our first deep model is going to be a simple dense model:\n",
        "* A single dense layer with 128 hidden units and ReLU\n",
        "* An output layer with linear activation (no activation)\n",
        "* Adam optimizer and MAE loss function\n",
        "* Batch size of 128 (previously we have used 32)\n",
        "* 100 epochs\n",
        "\n",
        "* **Hyperparameters:** values a machine learning practitioner can adjust themselves\n",
        "* **Parameters:** values a model learns on its own"
      ]
    },
    {
      "cell_type": "code",
      "metadata": {
        "colab": {
          "base_uri": "https://localhost:8080/"
        },
        "id": "YAYBVqU-Qv29",
        "outputId": "a4c32e00-7a07-4d6a-a3a3-e9b0e8759468"
      },
      "source": [
        "import tensorflow as tf\n",
        "from tensorflow.keras import layers\n",
        "from tensorflow.keras.optimizers import Adam\n",
        "from tensorflow.keras import Sequential\n",
        "\n",
        "# Set random seed for as reproducible results as possible\n",
        "tf.random.set_seed(42)\n",
        "\n",
        "# Construct the model\n",
        "model_1 = Sequential([\n",
        "  layers.Dense(128, activation=\"relu\"),\n",
        "  layers.Dense(HORIZON,activation=\"linear\")\n",
        "],name=\"model_1_dense\")\n",
        "\n",
        "# Compile the model\n",
        "model_1.compile(\n",
        "    loss = tf.keras.losses.MeanAbsoluteError(),\n",
        "    optimizer = Adam(),\n",
        "    metrics = [\"mae\",\"mse\"]\n",
        ")\n",
        "\n",
        "# Fit the model\n",
        "history_model_1 = model_1.fit(x=train_windows,y=train_labels,\n",
        "                              epochs=100,verbose=1,batch_size=128,\n",
        "                              validation_data=(test_windows,test_labels),\n",
        "                              callbacks=[create_model_checkpoint(model_name=model_1.name)])"
      ],
      "execution_count": 45,
      "outputs": [
        {
          "output_type": "stream",
          "name": "stdout",
          "text": [
            "Epoch 1/100\n",
            "16/16 [==============================] - 1s 13ms/step - loss: 1075.5380 - mae: 1075.5380 - mse: 3475300.5000 - val_loss: 3437.6372 - val_mae: 3437.6372 - val_mse: 22275854.0000\n",
            "INFO:tensorflow:Assets written to: model_experiments/model_1_dense/assets\n",
            "Epoch 2/100\n",
            "16/16 [==============================] - 0s 3ms/step - loss: 340.5405 - mae: 340.5405 - mse: 394173.4688 - val_loss: 1965.5205 - val_mae: 1965.5205 - val_mse: 7630076.5000\n",
            "INFO:tensorflow:Assets written to: model_experiments/model_1_dense/assets\n",
            "Epoch 3/100\n",
            "16/16 [==============================] - 0s 3ms/step - loss: 235.7424 - mae: 235.7424 - mse: 231472.2812 - val_loss: 1557.7600 - val_mae: 1557.7600 - val_mse: 5435897.0000\n",
            "INFO:tensorflow:Assets written to: model_experiments/model_1_dense/assets\n",
            "Epoch 4/100\n",
            "16/16 [==============================] - 0s 3ms/step - loss: 225.4089 - mae: 225.4089 - mse: 212815.9219 - val_loss: 1460.6967 - val_mae: 1460.6967 - val_mse: 4980615.0000\n",
            "INFO:tensorflow:Assets written to: model_experiments/model_1_dense/assets\n",
            "Epoch 5/100\n",
            "16/16 [==============================] - 0s 3ms/step - loss: 216.3324 - mae: 216.3324 - mse: 199023.2812 - val_loss: 1378.9265 - val_mae: 1378.9265 - val_mse: 4638703.0000\n",
            "INFO:tensorflow:Assets written to: model_experiments/model_1_dense/assets\n",
            "Epoch 6/100\n",
            "16/16 [==============================] - 0s 4ms/step - loss: 211.6907 - mae: 211.6907 - mse: 190973.1875 - val_loss: 1356.2898 - val_mae: 1356.2898 - val_mse: 4434485.0000\n",
            "INFO:tensorflow:Assets written to: model_experiments/model_1_dense/assets\n",
            "Epoch 7/100\n",
            "16/16 [==============================] - 0s 3ms/step - loss: 206.3254 - mae: 206.3254 - mse: 184331.1250 - val_loss: 1338.8209 - val_mae: 1338.8209 - val_mse: 4239889.0000\n",
            "INFO:tensorflow:Assets written to: model_experiments/model_1_dense/assets\n",
            "Epoch 8/100\n",
            "16/16 [==============================] - 0s 3ms/step - loss: 201.2187 - mae: 201.2187 - mse: 173817.0000 - val_loss: 1306.8107 - val_mae: 1306.8107 - val_mse: 3964656.0000\n",
            "INFO:tensorflow:Assets written to: model_experiments/model_1_dense/assets\n",
            "Epoch 9/100\n",
            "16/16 [==============================] - 0s 3ms/step - loss: 193.5151 - mae: 193.5151 - mse: 161401.6562 - val_loss: 1209.0176 - val_mae: 1209.0176 - val_mse: 3590406.7500\n",
            "INFO:tensorflow:Assets written to: model_experiments/model_1_dense/assets\n",
            "Epoch 10/100\n",
            "16/16 [==============================] - 0s 3ms/step - loss: 186.6008 - mae: 186.6008 - mse: 152372.5469 - val_loss: 1300.3784 - val_mae: 1300.3784 - val_mse: 3692381.7500\n",
            "Epoch 11/100\n",
            "16/16 [==============================] - 0s 3ms/step - loss: 183.8506 - mae: 183.8506 - mse: 144025.3750 - val_loss: 1177.9008 - val_mae: 1177.9008 - val_mse: 3464475.2500\n",
            "INFO:tensorflow:Assets written to: model_experiments/model_1_dense/assets\n",
            "Epoch 12/100\n",
            "16/16 [==============================] - 0s 4ms/step - loss: 177.2881 - mae: 177.2881 - mse: 138719.7500 - val_loss: 1147.0040 - val_mae: 1147.0040 - val_mse: 3029507.5000\n",
            "INFO:tensorflow:Assets written to: model_experiments/model_1_dense/assets\n",
            "Epoch 13/100\n",
            "16/16 [==============================] - 0s 3ms/step - loss: 172.3490 - mae: 172.3490 - mse: 132580.9688 - val_loss: 1152.4008 - val_mae: 1152.4008 - val_mse: 2967280.5000\n",
            "Epoch 14/100\n",
            "16/16 [==============================] - 0s 2ms/step - loss: 171.0696 - mae: 171.0696 - mse: 131196.3750 - val_loss: 1141.4454 - val_mae: 1141.4454 - val_mse: 2888120.7500\n",
            "INFO:tensorflow:Assets written to: model_experiments/model_1_dense/assets\n",
            "Epoch 15/100\n",
            "16/16 [==============================] - 0s 3ms/step - loss: 164.5090 - mae: 164.5090 - mse: 121563.6797 - val_loss: 1050.3549 - val_mae: 1050.3549 - val_mse: 2641359.5000\n",
            "INFO:tensorflow:Assets written to: model_experiments/model_1_dense/assets\n",
            "Epoch 16/100\n",
            "16/16 [==============================] - 0s 3ms/step - loss: 162.1857 - mae: 162.1857 - mse: 116912.8047 - val_loss: 1077.1665 - val_mae: 1077.1665 - val_mse: 2614986.2500\n",
            "Epoch 17/100\n",
            "16/16 [==============================] - 0s 2ms/step - loss: 160.8060 - mae: 160.8060 - mse: 116347.8984 - val_loss: 1024.9692 - val_mae: 1024.9692 - val_mse: 2459013.7500\n",
            "INFO:tensorflow:Assets written to: model_experiments/model_1_dense/assets\n",
            "Epoch 18/100\n",
            "16/16 [==============================] - 0s 4ms/step - loss: 158.8518 - mae: 158.8518 - mse: 115428.1562 - val_loss: 1047.4790 - val_mae: 1047.4790 - val_mse: 2473954.2500\n",
            "Epoch 19/100\n",
            "16/16 [==============================] - 0s 3ms/step - loss: 158.8535 - mae: 158.8535 - mse: 112511.7188 - val_loss: 1007.0408 - val_mae: 1007.0408 - val_mse: 2349728.5000\n",
            "INFO:tensorflow:Assets written to: model_experiments/model_1_dense/assets\n",
            "Epoch 20/100\n",
            "16/16 [==============================] - 0s 3ms/step - loss: 153.6309 - mae: 153.6309 - mse: 109159.5391 - val_loss: 1007.4773 - val_mae: 1007.4773 - val_mse: 2329938.0000\n",
            "Epoch 21/100\n",
            "16/16 [==============================] - 0s 3ms/step - loss: 153.1443 - mae: 153.1443 - mse: 106526.1328 - val_loss: 987.6705 - val_mae: 987.6705 - val_mse: 2268364.5000\n",
            "INFO:tensorflow:Assets written to: model_experiments/model_1_dense/assets\n",
            "Epoch 22/100\n",
            "16/16 [==============================] - 0s 3ms/step - loss: 149.9762 - mae: 149.9762 - mse: 104500.1406 - val_loss: 1052.4608 - val_mae: 1052.4608 - val_mse: 2442114.2500\n",
            "Epoch 23/100\n",
            "16/16 [==============================] - 0s 3ms/step - loss: 151.9166 - mae: 151.9166 - mse: 105220.5859 - val_loss: 1025.6963 - val_mae: 1025.6963 - val_mse: 2352047.0000\n",
            "Epoch 24/100\n",
            "16/16 [==============================] - 0s 3ms/step - loss: 157.3340 - mae: 157.3340 - mse: 106646.1250 - val_loss: 974.3030 - val_mae: 974.3030 - val_mse: 2202702.5000\n",
            "INFO:tensorflow:Assets written to: model_experiments/model_1_dense/assets\n",
            "Epoch 25/100\n",
            "16/16 [==============================] - 0s 4ms/step - loss: 151.3545 - mae: 151.3545 - mse: 101865.7891 - val_loss: 952.2648 - val_mae: 952.2648 - val_mse: 2146344.7500\n",
            "INFO:tensorflow:Assets written to: model_experiments/model_1_dense/assets\n",
            "Epoch 26/100\n",
            "16/16 [==============================] - 0s 3ms/step - loss: 148.7315 - mae: 148.7315 - mse: 102660.6016 - val_loss: 988.9203 - val_mae: 988.9203 - val_mse: 2231749.5000\n",
            "Epoch 27/100\n",
            "16/16 [==============================] - 0s 3ms/step - loss: 149.3685 - mae: 149.3685 - mse: 101688.9219 - val_loss: 990.0574 - val_mae: 990.0574 - val_mse: 2231938.2500\n",
            "Epoch 28/100\n",
            "16/16 [==============================] - 0s 3ms/step - loss: 146.9868 - mae: 146.9868 - mse: 99318.9375 - val_loss: 922.1734 - val_mae: 922.1734 - val_mse: 2069835.0000\n",
            "INFO:tensorflow:Assets written to: model_experiments/model_1_dense/assets\n",
            "Epoch 29/100\n",
            "16/16 [==============================] - 0s 3ms/step - loss: 145.6966 - mae: 145.6966 - mse: 100813.1484 - val_loss: 963.3752 - val_mae: 963.3752 - val_mse: 2266410.0000\n",
            "Epoch 30/100\n",
            "16/16 [==============================] - 0s 3ms/step - loss: 142.8171 - mae: 142.8171 - mse: 97125.1406 - val_loss: 915.7476 - val_mae: 915.7476 - val_mse: 2042927.6250\n",
            "INFO:tensorflow:Assets written to: model_experiments/model_1_dense/assets\n",
            "Epoch 31/100\n",
            "16/16 [==============================] - 0s 3ms/step - loss: 141.5993 - mae: 141.5993 - mse: 96531.4453 - val_loss: 910.9458 - val_mae: 910.9458 - val_mse: 2028742.3750\n",
            "INFO:tensorflow:Assets written to: model_experiments/model_1_dense/assets\n",
            "Epoch 32/100\n",
            "16/16 [==============================] - 0s 4ms/step - loss: 144.9192 - mae: 144.9192 - mse: 97797.6172 - val_loss: 929.4428 - val_mae: 929.4428 - val_mse: 2131452.2500\n",
            "Epoch 33/100\n",
            "16/16 [==============================] - 0s 3ms/step - loss: 143.1018 - mae: 143.1018 - mse: 97425.1406 - val_loss: 907.6654 - val_mae: 907.6654 - val_mse: 2010609.6250\n",
            "INFO:tensorflow:Assets written to: model_experiments/model_1_dense/assets\n",
            "Epoch 34/100\n",
            "16/16 [==============================] - 0s 3ms/step - loss: 145.2609 - mae: 145.2609 - mse: 96503.8672 - val_loss: 908.2295 - val_mae: 908.2295 - val_mse: 2050983.5000\n",
            "Epoch 35/100\n",
            "16/16 [==============================] - 0s 3ms/step - loss: 143.8937 - mae: 143.8937 - mse: 97425.6719 - val_loss: 953.8276 - val_mae: 953.8276 - val_mse: 2105548.0000\n",
            "Epoch 36/100\n",
            "16/16 [==============================] - 0s 3ms/step - loss: 140.4920 - mae: 140.4920 - mse: 95980.2109 - val_loss: 893.7420 - val_mae: 893.7420 - val_mse: 1979926.6250\n",
            "INFO:tensorflow:Assets written to: model_experiments/model_1_dense/assets\n",
            "Epoch 37/100\n",
            "16/16 [==============================] - 0s 3ms/step - loss: 139.2330 - mae: 139.2330 - mse: 94502.1875 - val_loss: 908.5672 - val_mae: 908.5672 - val_mse: 1994719.6250\n",
            "Epoch 38/100\n",
            "16/16 [==============================] - 0s 3ms/step - loss: 138.7294 - mae: 138.7294 - mse: 93885.3516 - val_loss: 912.2020 - val_mae: 912.2020 - val_mse: 1999603.3750\n",
            "Epoch 39/100\n",
            "16/16 [==============================] - 0s 3ms/step - loss: 139.5165 - mae: 139.5165 - mse: 94061.5234 - val_loss: 956.7286 - val_mae: 956.7286 - val_mse: 2106580.5000\n",
            "Epoch 40/100\n",
            "16/16 [==============================] - 0s 3ms/step - loss: 146.5147 - mae: 146.5147 - mse: 98351.3672 - val_loss: 880.5778 - val_mae: 880.5778 - val_mse: 1947965.8750\n",
            "INFO:tensorflow:Assets written to: model_experiments/model_1_dense/assets\n",
            "Epoch 41/100\n",
            "16/16 [==============================] - 0s 3ms/step - loss: 147.0055 - mae: 147.0055 - mse: 96432.6875 - val_loss: 930.4747 - val_mae: 930.4747 - val_mse: 2033831.0000\n",
            "Epoch 42/100\n",
            "16/16 [==============================] - 0s 3ms/step - loss: 147.2750 - mae: 147.2750 - mse: 97765.0391 - val_loss: 898.5078 - val_mae: 898.5078 - val_mse: 1959103.1250\n",
            "Epoch 43/100\n",
            "16/16 [==============================] - 0s 3ms/step - loss: 142.1126 - mae: 142.1126 - mse: 94685.2969 - val_loss: 894.5146 - val_mae: 894.5146 - val_mse: 1995744.8750\n",
            "Epoch 44/100\n",
            "16/16 [==============================] - 0s 3ms/step - loss: 145.9300 - mae: 145.9300 - mse: 95399.8750 - val_loss: 889.6111 - val_mae: 889.6111 - val_mse: 1979913.7500\n",
            "Epoch 45/100\n",
            "16/16 [==============================] - 0s 4ms/step - loss: 139.1211 - mae: 139.1211 - mse: 91517.2266 - val_loss: 896.5963 - val_mae: 896.5963 - val_mse: 1949702.6250\n",
            "Epoch 46/100\n",
            "16/16 [==============================] - 0s 3ms/step - loss: 140.1608 - mae: 140.1608 - mse: 94007.3750 - val_loss: 885.5280 - val_mae: 885.5280 - val_mse: 1926355.1250\n",
            "Epoch 47/100\n",
            "16/16 [==============================] - 0s 3ms/step - loss: 136.6521 - mae: 136.6521 - mse: 90077.7891 - val_loss: 872.9381 - val_mae: 872.9381 - val_mse: 1927684.2500\n",
            "INFO:tensorflow:Assets written to: model_experiments/model_1_dense/assets\n",
            "Epoch 48/100\n",
            "16/16 [==============================] - 0s 3ms/step - loss: 136.8800 - mae: 136.8800 - mse: 90892.6953 - val_loss: 903.3711 - val_mae: 903.3711 - val_mse: 1959570.7500\n",
            "Epoch 49/100\n",
            "16/16 [==============================] - 0s 3ms/step - loss: 135.8462 - mae: 135.8462 - mse: 91193.2656 - val_loss: 896.0238 - val_mae: 896.0238 - val_mse: 1941802.2500\n",
            "Epoch 50/100\n",
            "16/16 [==============================] - 0s 3ms/step - loss: 136.4782 - mae: 136.4782 - mse: 89943.8125 - val_loss: 884.2527 - val_mae: 884.2527 - val_mse: 1916415.1250\n",
            "Epoch 51/100\n",
            "16/16 [==============================] - 0s 3ms/step - loss: 138.2253 - mae: 138.2253 - mse: 91187.4453 - val_loss: 885.5499 - val_mae: 885.5499 - val_mse: 1917262.5000\n",
            "Epoch 52/100\n",
            "16/16 [==============================] - 0s 3ms/step - loss: 138.1771 - mae: 138.1771 - mse: 90007.0234 - val_loss: 884.2418 - val_mae: 884.2418 - val_mse: 1956077.5000\n",
            "Epoch 53/100\n",
            "16/16 [==============================] - 0s 3ms/step - loss: 136.5021 - mae: 136.5021 - mse: 90527.4297 - val_loss: 859.5220 - val_mae: 859.5220 - val_mse: 1884267.1250\n",
            "INFO:tensorflow:Assets written to: model_experiments/model_1_dense/assets\n",
            "Epoch 54/100\n",
            "16/16 [==============================] - 0s 3ms/step - loss: 137.3813 - mae: 137.3813 - mse: 90156.8672 - val_loss: 865.2886 - val_mae: 865.2886 - val_mse: 1903579.8750\n",
            "Epoch 55/100\n",
            "16/16 [==============================] - 0s 3ms/step - loss: 137.2612 - mae: 137.2612 - mse: 90679.2188 - val_loss: 915.0991 - val_mae: 915.0991 - val_mse: 2039905.8750\n",
            "Epoch 56/100\n",
            "16/16 [==============================] - 0s 3ms/step - loss: 135.0901 - mae: 135.0901 - mse: 88024.9766 - val_loss: 855.6866 - val_mae: 855.6866 - val_mse: 1866461.1250\n",
            "INFO:tensorflow:Assets written to: model_experiments/model_1_dense/assets\n",
            "Epoch 57/100\n",
            "16/16 [==============================] - 0s 3ms/step - loss: 136.0956 - mae: 136.0956 - mse: 88555.4297 - val_loss: 899.8036 - val_mae: 899.8036 - val_mse: 1942792.7500\n",
            "Epoch 58/100\n",
            "16/16 [==============================] - 0s 3ms/step - loss: 134.1327 - mae: 134.1327 - mse: 88454.9531 - val_loss: 856.2852 - val_mae: 856.2852 - val_mse: 1876848.6250\n",
            "Epoch 59/100\n",
            "16/16 [==============================] - 0s 3ms/step - loss: 133.8850 - mae: 133.8850 - mse: 88152.9141 - val_loss: 900.8132 - val_mae: 900.8132 - val_mse: 1944139.1250\n",
            "Epoch 60/100\n",
            "16/16 [==============================] - 0s 3ms/step - loss: 136.2157 - mae: 136.2157 - mse: 90237.1562 - val_loss: 879.6394 - val_mae: 879.6394 - val_mse: 1935242.2500\n",
            "Epoch 61/100\n",
            "16/16 [==============================] - 0s 3ms/step - loss: 135.0283 - mae: 135.0283 - mse: 89387.9609 - val_loss: 893.5257 - val_mae: 893.5257 - val_mse: 1925593.7500\n",
            "Epoch 62/100\n",
            "16/16 [==============================] - 0s 3ms/step - loss: 138.5948 - mae: 138.5948 - mse: 91225.8750 - val_loss: 857.2595 - val_mae: 857.2595 - val_mse: 1878339.5000\n",
            "Epoch 63/100\n",
            "16/16 [==============================] - 0s 4ms/step - loss: 140.1586 - mae: 140.1586 - mse: 91281.1953 - val_loss: 852.8536 - val_mae: 852.8536 - val_mse: 1866536.2500\n",
            "INFO:tensorflow:Assets written to: model_experiments/model_1_dense/assets\n",
            "Epoch 64/100\n",
            "16/16 [==============================] - 0s 3ms/step - loss: 133.0216 - mae: 133.0216 - mse: 87939.1250 - val_loss: 851.5010 - val_mae: 851.5010 - val_mse: 1843031.2500\n",
            "INFO:tensorflow:Assets written to: model_experiments/model_1_dense/assets\n",
            "Epoch 65/100\n",
            "16/16 [==============================] - 0s 3ms/step - loss: 135.1891 - mae: 135.1891 - mse: 89775.2266 - val_loss: 846.9747 - val_mae: 846.9747 - val_mse: 1846288.1250\n",
            "INFO:tensorflow:Assets written to: model_experiments/model_1_dense/assets\n",
            "Epoch 66/100\n",
            "16/16 [==============================] - 0s 3ms/step - loss: 136.1519 - mae: 136.1519 - mse: 88078.1797 - val_loss: 893.4500 - val_mae: 893.4500 - val_mse: 1967983.8750\n",
            "Epoch 67/100\n",
            "16/16 [==============================] - 0s 4ms/step - loss: 135.6817 - mae: 135.6817 - mse: 87799.0859 - val_loss: 880.7923 - val_mae: 880.7923 - val_mse: 1893305.2500\n",
            "Epoch 68/100\n",
            "16/16 [==============================] - 0s 3ms/step - loss: 138.2491 - mae: 138.2491 - mse: 90000.4609 - val_loss: 887.8328 - val_mae: 887.8328 - val_mse: 1951345.1250\n",
            "Epoch 69/100\n",
            "16/16 [==============================] - 0s 4ms/step - loss: 134.1468 - mae: 134.1468 - mse: 86986.5625 - val_loss: 882.1389 - val_mae: 882.1389 - val_mse: 1935337.0000\n",
            "Epoch 70/100\n",
            "16/16 [==============================] - 0s 3ms/step - loss: 134.7581 - mae: 134.7581 - mse: 87782.3828 - val_loss: 895.9905 - val_mae: 895.9905 - val_mse: 1972341.2500\n",
            "Epoch 71/100\n",
            "16/16 [==============================] - 0s 3ms/step - loss: 135.5580 - mae: 135.5580 - mse: 91082.8516 - val_loss: 947.1871 - val_mae: 947.1871 - val_mse: 2060843.6250\n",
            "Epoch 72/100\n",
            "16/16 [==============================] - 0s 3ms/step - loss: 136.6872 - mae: 136.6872 - mse: 88394.5312 - val_loss: 967.1486 - val_mae: 967.1486 - val_mse: 2116432.7500\n",
            "Epoch 73/100\n",
            "16/16 [==============================] - 0s 3ms/step - loss: 136.5734 - mae: 136.5734 - mse: 89097.7266 - val_loss: 852.7668 - val_mae: 852.7668 - val_mse: 1833513.0000\n",
            "Epoch 74/100\n",
            "16/16 [==============================] - 0s 3ms/step - loss: 133.6082 - mae: 133.6082 - mse: 87643.6328 - val_loss: 840.0981 - val_mae: 840.0981 - val_mse: 1822069.2500\n",
            "INFO:tensorflow:Assets written to: model_experiments/model_1_dense/assets\n",
            "Epoch 75/100\n",
            "16/16 [==============================] - 0s 3ms/step - loss: 132.7392 - mae: 132.7392 - mse: 86951.7344 - val_loss: 846.4261 - val_mae: 846.4261 - val_mse: 1822149.2500\n",
            "Epoch 76/100\n",
            "16/16 [==============================] - 0s 3ms/step - loss: 142.2733 - mae: 142.2733 - mse: 93665.4062 - val_loss: 974.2576 - val_mae: 974.2576 - val_mse: 2137260.5000\n",
            "Epoch 77/100\n",
            "16/16 [==============================] - 0s 3ms/step - loss: 135.8268 - mae: 135.8268 - mse: 88887.0859 - val_loss: 841.6423 - val_mae: 841.6423 - val_mse: 1815996.2500\n",
            "Epoch 78/100\n",
            "16/16 [==============================] - 0s 3ms/step - loss: 136.2042 - mae: 136.2042 - mse: 89597.2109 - val_loss: 880.1732 - val_mae: 880.1732 - val_mse: 1929219.3750\n",
            "Epoch 79/100\n",
            "16/16 [==============================] - 0s 3ms/step - loss: 134.4310 - mae: 134.4310 - mse: 87213.4453 - val_loss: 878.4764 - val_mae: 878.4764 - val_mse: 1883746.2500\n",
            "Epoch 80/100\n",
            "16/16 [==============================] - 0s 3ms/step - loss: 135.0442 - mae: 135.0442 - mse: 86794.7188 - val_loss: 876.0788 - val_mae: 876.0788 - val_mse: 1877921.6250\n",
            "Epoch 81/100\n",
            "16/16 [==============================] - 0s 3ms/step - loss: 133.1598 - mae: 133.1598 - mse: 86742.0859 - val_loss: 929.2235 - val_mae: 929.2235 - val_mse: 2012796.1250\n",
            "Epoch 82/100\n",
            "16/16 [==============================] - 0s 3ms/step - loss: 136.5203 - mae: 136.5203 - mse: 89486.3594 - val_loss: 1003.5341 - val_mae: 1003.5341 - val_mse: 2331716.0000\n",
            "Epoch 83/100\n",
            "16/16 [==============================] - 0s 3ms/step - loss: 140.6922 - mae: 140.6922 - mse: 90190.8516 - val_loss: 883.5443 - val_mae: 883.5443 - val_mse: 1937404.6250\n",
            "Epoch 84/100\n",
            "16/16 [==============================] - 0s 3ms/step - loss: 137.8439 - mae: 137.8439 - mse: 89359.6719 - val_loss: 836.5683 - val_mae: 836.5683 - val_mse: 1812476.8750\n",
            "INFO:tensorflow:Assets written to: model_experiments/model_1_dense/assets\n",
            "Epoch 85/100\n",
            "16/16 [==============================] - 0s 3ms/step - loss: 136.1848 - mae: 136.1848 - mse: 90476.5391 - val_loss: 931.3165 - val_mae: 931.3165 - val_mse: 2018030.0000\n",
            "Epoch 86/100\n",
            "16/16 [==============================] - 0s 4ms/step - loss: 133.4709 - mae: 133.4709 - mse: 86703.3281 - val_loss: 859.2621 - val_mae: 859.2621 - val_mse: 1875021.2500\n",
            "Epoch 87/100\n",
            "16/16 [==============================] - 0s 3ms/step - loss: 134.9820 - mae: 134.9820 - mse: 86884.1484 - val_loss: 848.1985 - val_mae: 848.1985 - val_mse: 1846733.5000\n",
            "Epoch 88/100\n",
            "16/16 [==============================] - 0s 3ms/step - loss: 132.9599 - mae: 132.9599 - mse: 86335.0312 - val_loss: 844.7390 - val_mae: 844.7390 - val_mse: 1835873.3750\n",
            "Epoch 89/100\n",
            "16/16 [==============================] - 0s 3ms/step - loss: 133.1128 - mae: 133.1128 - mse: 86865.1719 - val_loss: 834.4005 - val_mae: 834.4005 - val_mse: 1802183.5000\n",
            "INFO:tensorflow:Assets written to: model_experiments/model_1_dense/assets\n",
            "Epoch 90/100\n",
            "16/16 [==============================] - 0s 3ms/step - loss: 131.8441 - mae: 131.8441 - mse: 85418.7578 - val_loss: 837.1389 - val_mae: 837.1389 - val_mse: 1805226.8750\n",
            "Epoch 91/100\n",
            "16/16 [==============================] - 0s 3ms/step - loss: 145.3655 - mae: 145.3655 - mse: 93573.2500 - val_loss: 858.8721 - val_mae: 858.8721 - val_mse: 1840439.7500\n",
            "Epoch 92/100\n",
            "16/16 [==============================] - 0s 4ms/step - loss: 135.2733 - mae: 135.2733 - mse: 88015.0703 - val_loss: 1026.0665 - val_mae: 1026.0665 - val_mse: 2410225.0000\n",
            "Epoch 93/100\n",
            "16/16 [==============================] - 0s 4ms/step - loss: 142.9538 - mae: 142.9538 - mse: 90038.4766 - val_loss: 908.9114 - val_mae: 908.9114 - val_mse: 2007083.8750\n",
            "Epoch 94/100\n",
            "16/16 [==============================] - 0s 3ms/step - loss: 148.7562 - mae: 148.7562 - mse: 97098.1641 - val_loss: 1037.0994 - val_mae: 1037.0994 - val_mse: 2449157.5000\n",
            "Epoch 95/100\n",
            "16/16 [==============================] - 0s 3ms/step - loss: 139.5042 - mae: 139.5042 - mse: 90351.1172 - val_loss: 840.1355 - val_mae: 840.1355 - val_mse: 1807871.5000\n",
            "Epoch 96/100\n",
            "16/16 [==============================] - 0s 3ms/step - loss: 138.4448 - mae: 138.4448 - mse: 89284.4062 - val_loss: 857.8576 - val_mae: 857.8576 - val_mse: 1836146.1250\n",
            "Epoch 97/100\n",
            "16/16 [==============================] - 0s 3ms/step - loss: 132.0308 - mae: 132.0308 - mse: 85729.1562 - val_loss: 845.8348 - val_mae: 845.8348 - val_mse: 1814868.1250\n",
            "Epoch 98/100\n",
            "16/16 [==============================] - 0s 3ms/step - loss: 130.7182 - mae: 130.7182 - mse: 85156.7578 - val_loss: 850.9350 - val_mae: 850.9350 - val_mse: 1822119.2500\n",
            "Epoch 99/100\n",
            "16/16 [==============================] - 0s 3ms/step - loss: 131.2904 - mae: 131.2904 - mse: 85069.3672 - val_loss: 886.9465 - val_mae: 886.9465 - val_mse: 1905571.3750\n",
            "Epoch 100/100\n",
            "16/16 [==============================] - 0s 4ms/step - loss: 135.8625 - mae: 135.8625 - mse: 87961.3906 - val_loss: 841.5276 - val_mae: 841.5276 - val_mse: 1825305.5000\n"
          ]
        }
      ]
    },
    {
      "cell_type": "code",
      "metadata": {
        "colab": {
          "base_uri": "https://localhost:8080/"
        },
        "id": "UKFOwRwGSdZe",
        "outputId": "774a1261-504f-411e-92c0-e07e214d8f28"
      },
      "source": [
        "# Evaluate model on the test data\n",
        "model_1.evaluate(test_windows, test_labels)"
      ],
      "execution_count": 46,
      "outputs": [
        {
          "output_type": "stream",
          "name": "stdout",
          "text": [
            "16/16 [==============================] - 0s 1ms/step - loss: 841.5277 - mae: 841.5277 - mse: 1825305.5000\n"
          ]
        },
        {
          "output_type": "execute_result",
          "data": {
            "text/plain": [
              "[841.5277099609375, 841.5277099609375, 1825305.5]"
            ]
          },
          "metadata": {},
          "execution_count": 46
        }
      ]
    },
    {
      "cell_type": "code",
      "metadata": {
        "colab": {
          "base_uri": "https://localhost:8080/"
        },
        "id": "qlS0WtoEU9VR",
        "outputId": "b4a4b575-d0d5-43c1-aa99-94818c233c3a"
      },
      "source": [
        "# Load in saved best performing model_1 and evaluate it on test data\n",
        "model_1 = tf.keras.models.load_model(\"model_experiments/model_1_dense/\")\n",
        "model_1.evaluate(test_windows,test_labels)"
      ],
      "execution_count": 47,
      "outputs": [
        {
          "output_type": "stream",
          "name": "stdout",
          "text": [
            "16/16 [==============================] - 0s 1ms/step - loss: 834.4005 - mae: 834.4005 - mse: 1802183.6250\n"
          ]
        },
        {
          "output_type": "execute_result",
          "data": {
            "text/plain": [
              "[834.4005126953125, 834.4005126953125, 1802183.625]"
            ]
          },
          "metadata": {},
          "execution_count": 47
        }
      ]
    },
    {
      "cell_type": "markdown",
      "metadata": {
        "id": "qN_2APxZV1p-"
      },
      "source": [
        "## Making forecasts with a model (on the test dataset)\n",
        "\n",
        "To make \"forecasts\" on the test dataset (note: these won't be actual forecasts, they're only psuedo forecasts because actual forecasts are into the future), let's write a function to:\n",
        "\n",
        "1. Take in a trained model\n",
        "2. Takes in some input data (same kind of data the model was trained on)\n",
        "3. Passes the input data to the model's `predict()` method\n",
        "4. Returns the predictions\n"
      ]
    },
    {
      "cell_type": "code",
      "metadata": {
        "id": "_fNxMImrcQW1"
      },
      "source": [
        "def make_preds(model, input_data):\n",
        "  \"\"\"\n",
        "  Uses model to make predictions on input data\n",
        "  \"\"\"\n",
        "  forecast = model.predict(input_data)\n",
        "  return tf.squeeze(forecast) # return 1D array of predictions"
      ],
      "execution_count": 48,
      "outputs": []
    },
    {
      "cell_type": "code",
      "metadata": {
        "colab": {
          "base_uri": "https://localhost:8080/"
        },
        "id": "KkUNcp5Cc-4D",
        "outputId": "6d9aebbb-f934-411b-9f00-61f70451136c"
      },
      "source": [
        "# Make predictions using model_1 on the test dataset\n",
        "model_1_preds = make_preds(model_1, test_windows)\n",
        "model_1_preds[:10], len(model_1_preds)"
      ],
      "execution_count": 49,
      "outputs": [
        {
          "output_type": "execute_result",
          "data": {
            "text/plain": [
              "(<tf.Tensor: shape=(10,), dtype=float32, numpy=\n",
              " array([7562.6055, 7631.9004, 7793.8687, 7789.7383, 8619.2295, 8836.048 ,\n",
              "        8910.404 , 8960.866 , 8989.898 , 8917.392 ], dtype=float32)>, 499)"
            ]
          },
          "metadata": {},
          "execution_count": 49
        }
      ]
    },
    {
      "cell_type": "code",
      "metadata": {
        "colab": {
          "base_uri": "https://localhost:8080/"
        },
        "id": "nzL_pl14eYv-",
        "outputId": "5525e53c-2355-46b6-8f03-1e4358a574d7"
      },
      "source": [
        "# Evaluate preds\n",
        "model_1_results = evaluate_preds(y_true=tf.squeeze(test_labels),y_pred=model_1_preds)\n",
        "model_1_results"
      ],
      "execution_count": 50,
      "outputs": [
        {
          "output_type": "execute_result",
          "data": {
            "text/plain": [
              "{'mae': 834.4006,\n",
              " 'mape': 2.6265302,\n",
              " 'mase': 1.0064038,\n",
              " 'mse': 1802183.6,\n",
              " 'rmse': 1342.4543}"
            ]
          },
          "metadata": {},
          "execution_count": 50
        }
      ]
    },
    {
      "cell_type": "code",
      "metadata": {
        "colab": {
          "base_uri": "https://localhost:8080/"
        },
        "id": "Cj9F_LOLeb6B",
        "outputId": "3ffe6a5c-d848-457b-9e29-580346851786"
      },
      "source": [
        "naive_results"
      ],
      "execution_count": 51,
      "outputs": [
        {
          "output_type": "execute_result",
          "data": {
            "text/plain": [
              "{'mae': 827.59515,\n",
              " 'mape': 2.602443,\n",
              " 'mase': 0.9981955,\n",
              " 'mse': 1765166.9,\n",
              " 'rmse': 1328.5958}"
            ]
          },
          "metadata": {},
          "execution_count": 51
        }
      ]
    },
    {
      "cell_type": "code",
      "metadata": {
        "colab": {
          "base_uri": "https://localhost:8080/",
          "height": 444
        },
        "id": "tj9PN8Xmfy1g",
        "outputId": "7f2733d1-7a4a-430d-8b45-70aad0e627a3"
      },
      "source": [
        "# Let's plot model_1 predictions\n",
        "offset=300\n",
        "plt.figure(figsize=(15,7))\n",
        "# Account for the test_window offset and index into test_labels to ensure correct plotting\n",
        "plot_time_series(timesteps=X_test[-len(test_windows):],\n",
        "                 values=test_labels[:,0],\n",
        "                 start=offset,\n",
        "                 format=\".\",\n",
        "                 label=\"Test Data\")\n",
        "plot_time_series(timesteps=X_test[-len(test_windows):],\n",
        "                 values=model_1_preds,\n",
        "                 format=\"-\",\n",
        "                 start=offset,\n",
        "                 label=\"Predicted\")"
      ],
      "execution_count": 53,
      "outputs": [
        {
          "output_type": "display_data",
          "data": {
            "image/png": "[encoded data removed]",
            "text/plain": [
              "<Figure size 1080x504 with 1 Axes>"
            ]
          },
          "metadata": {
            "needs_background": "light"
          }
        }
      ]
    },
    {
      "cell_type": "markdown",
      "metadata": {
        "id": "hqy71PCJnJSV"
      },
      "source": [
        "## Model 2: Similar to Model 1 (window size=30 & horizon=1)"
      ]
    },
    {
      "cell_type": "code",
      "metadata": {
        "colab": {
          "base_uri": "https://localhost:8080/"
        },
        "id": "xJkTeMeco9gi",
        "outputId": "89166ce7-b5f1-46ea-e8e5-7da1ceb2c7ee"
      },
      "source": [
        "# What we want to do with our bitcoin data\n",
        "print(f\"We want to use: {btc_price[:30]} to predict this: {btc_price[30]}\")"
      ],
      "execution_count": 54,
      "outputs": [
        {
          "output_type": "stream",
          "name": "stdout",
          "text": [
            "We want to use: [331.60083, 324.71833, 332.45666, 336.585, 346.775, 344.81166, 343.065, 358.50166, 368.07666, 376.99666, 442.10666, 389.00333, 394.92666, 377.08, 400.47166, 384.93, 375.83333, 376.16, 348.565, 352.42, 356.8, 367.83, 381.20666, 375.498, 372.819, 368.983, 375.44, 376.851, 376.13218, 377.862] to predict this: 382.452\n"
          ]
        }
      ]
    },
    {
      "cell_type": "code",
      "metadata": {
        "colab": {
          "base_uri": "https://localhost:8080/"
        },
        "id": "4llvWROjlPDH",
        "outputId": "cd069b84-884b-4678-8888-4b7367d44ac8"
      },
      "source": [
        "# Test out the window labelling function\n",
        "test_window, test_label = get_labelled_windows(tf.expand_dims(tf.range(31),axis=0))\n",
        "print(f\"Window: {tf.squeeze(test_window).numpy()} -> Label: {tf.squeeze(test_label).numpy()}\")"
      ],
      "execution_count": 55,
      "outputs": [
        {
          "output_type": "stream",
          "name": "stdout",
          "text": [
            "Window: [ 0  1  2  3  4  5  6  7  8  9 10 11 12 13 14 15 16 17 18 19 20 21 22 23\n",
            " 24 25 26 27 28 29] -> Label: 30\n"
          ]
        }
      ]
    },
    {
      "cell_type": "code",
      "metadata": {
        "colab": {
          "base_uri": "https://localhost:8080/"
        },
        "id": "UFXEUrxvpfGm",
        "outputId": "086ad1b7-f01f-4301-abe4-846aa0e152ca"
      },
      "source": [
        "# Make windows data with horizon\n",
        "full_windows_30, full_labels_30 = make_windows(x=prices,window_size=30,horizon=1)\n",
        "full_windows_30[0], full_labels_30[0]"
      ],
      "execution_count": 56,
      "outputs": [
        {
          "output_type": "execute_result",
          "data": {
            "text/plain": [
              "(array([331.60083, 324.71833, 332.45666, 336.585  , 346.775  , 344.81166,\n",
              "        343.065  , 358.50166, 368.07666, 376.99666, 442.10666, 389.00333,\n",
              "        394.92666, 377.08   , 400.47166, 384.93   , 375.83333, 376.16   ,\n",
              "        348.565  , 352.42   , 356.8    , 367.83   , 381.20666, 375.498  ,\n",
              "        372.819  , 368.983  , 375.44   , 376.851  , 376.13218, 377.862  ]),\n",
              " array([382.452]))"
            ]
          },
          "metadata": {},
          "execution_count": 56
        }
      ]
    },
    {
      "cell_type": "code",
      "metadata": {
        "colab": {
          "base_uri": "https://localhost:8080/"
        },
        "id": "EAxM8cbGqwbM",
        "outputId": "c75d9a40-f76c-45c6-808a-05eb4f2a06cc"
      },
      "source": [
        "# Splitting into train and test windows\n",
        "train_windows_30,test_windows_30,train_labels_30,test_labels_30 =  make_train_test_splits(windows=full_windows_30,\n",
        "                                                                                          labels=full_labels_30,\n",
        "                                                                                          test_split=0.2)\n",
        "len(train_windows_30),len(test_windows_30),len(train_labels_30),len(test_labels_30)"
      ],
      "execution_count": 57,
      "outputs": [
        {
          "output_type": "execute_result",
          "data": {
            "text/plain": [
              "(1976, 494, 1976, 494)"
            ]
          },
          "metadata": {},
          "execution_count": 57
        }
      ]
    },
    {
      "cell_type": "code",
      "metadata": {
        "colab": {
          "base_uri": "https://localhost:8080/"
        },
        "id": "iv3F9i_ss45e",
        "outputId": "f69d27b2-fdfd-4389-d172-2c74e2174d2d"
      },
      "source": [
        "# Set random seed for as reproducible results as possible\n",
        "tf.random.set_seed(42)\n",
        "\n",
        "# Construct the model\n",
        "model_2 = Sequential([\n",
        "  layers.Dense(128, activation=\"relu\"),\n",
        "  layers.Dense(HORIZON,activation=\"linear\")\n",
        "],name=\"model_2_dense\")\n",
        "\n",
        "# Compile the model\n",
        "model_2.compile(\n",
        "    loss = tf.keras.losses.MeanAbsoluteError(),\n",
        "    optimizer = Adam(),\n",
        "    metrics = [\"mae\",\"mse\"]\n",
        ")\n",
        "\n",
        "# Fit the model\n",
        "history_model_2 = model_2.fit(x=train_windows_30,y=train_labels_30,\n",
        "                              epochs=100,verbose=1,batch_size=128,\n",
        "                              validation_data=(test_windows_30,test_labels_30),\n",
        "                              callbacks=[create_model_checkpoint(model_name=model_2.name)])"
      ],
      "execution_count": 58,
      "outputs": [
        {
          "output_type": "stream",
          "name": "stdout",
          "text": [
            "Epoch 1/100\n",
            "16/16 [==============================] - 1s 10ms/step - loss: 1294.1385 - mae: 1294.1385 - mse: 5387439.0000 - val_loss: 5611.2490 - val_mae: 5611.2490 - val_mse: 53130744.0000\n",
            "INFO:tensorflow:Assets written to: model_experiments/model_2_dense/assets\n",
            "Epoch 2/100\n",
            "16/16 [==============================] - 0s 3ms/step - loss: 526.2878 - mae: 526.2878 - mse: 1015225.9375 - val_loss: 2529.8547 - val_mae: 2529.8547 - val_mse: 15621108.0000\n",
            "INFO:tensorflow:Assets written to: model_experiments/model_2_dense/assets\n",
            "Epoch 3/100\n",
            "16/16 [==============================] - 0s 3ms/step - loss: 359.3816 - mae: 359.3816 - mse: 515709.4688 - val_loss: 1855.5088 - val_mae: 1855.5088 - val_mse: 8577762.0000\n",
            "INFO:tensorflow:Assets written to: model_experiments/model_2_dense/assets\n",
            "Epoch 4/100\n",
            "16/16 [==============================] - 0s 3ms/step - loss: 279.9393 - mae: 279.9393 - mse: 308480.7812 - val_loss: 1721.0599 - val_mae: 1721.0599 - val_mse: 7085594.0000\n",
            "INFO:tensorflow:Assets written to: model_experiments/model_2_dense/assets\n",
            "Epoch 5/100\n",
            "16/16 [==============================] - 0s 3ms/step - loss: 257.2823 - mae: 257.2823 - mse: 263460.4062 - val_loss: 1637.8099 - val_mae: 1637.8099 - val_mse: 6915568.5000\n",
            "INFO:tensorflow:Assets written to: model_experiments/model_2_dense/assets\n",
            "Epoch 6/100\n",
            "16/16 [==============================] - 0s 3ms/step - loss: 245.1839 - mae: 245.1839 - mse: 240659.3594 - val_loss: 1528.3363 - val_mae: 1528.3363 - val_mse: 5723237.5000\n",
            "INFO:tensorflow:Assets written to: model_experiments/model_2_dense/assets\n",
            "Epoch 7/100\n",
            "16/16 [==============================] - 0s 3ms/step - loss: 225.9313 - mae: 225.9313 - mse: 210530.0312 - val_loss: 1509.2125 - val_mae: 1509.2125 - val_mse: 5763691.5000\n",
            "INFO:tensorflow:Assets written to: model_experiments/model_2_dense/assets\n",
            "Epoch 8/100\n",
            "16/16 [==============================] - 0s 3ms/step - loss: 244.8927 - mae: 244.8927 - mse: 220123.0312 - val_loss: 1579.2092 - val_mae: 1579.2092 - val_mse: 5310931.0000\n",
            "Epoch 9/100\n",
            "16/16 [==============================] - 0s 3ms/step - loss: 264.5354 - mae: 264.5354 - mse: 235943.9219 - val_loss: 2068.9219 - val_mae: 2068.9219 - val_mse: 9710454.0000\n",
            "Epoch 10/100\n",
            "16/16 [==============================] - 0s 3ms/step - loss: 236.8951 - mae: 236.8951 - mse: 219603.2344 - val_loss: 1745.1218 - val_mae: 1745.1218 - val_mse: 6135089.5000\n",
            "Epoch 11/100\n",
            "16/16 [==============================] - 0s 4ms/step - loss: 222.4383 - mae: 222.4383 - mse: 181863.5469 - val_loss: 1361.3066 - val_mae: 1361.3066 - val_mse: 4427765.0000\n",
            "INFO:tensorflow:Assets written to: model_experiments/model_2_dense/assets\n",
            "Epoch 12/100\n",
            "16/16 [==============================] - 0s 3ms/step - loss: 203.9308 - mae: 203.9308 - mse: 170115.2344 - val_loss: 1416.2839 - val_mae: 1416.2839 - val_mse: 4889745.0000\n",
            "Epoch 13/100\n",
            "16/16 [==============================] - 0s 3ms/step - loss: 210.1895 - mae: 210.1895 - mse: 175484.3125 - val_loss: 1360.0446 - val_mae: 1360.0446 - val_mse: 4454255.0000\n",
            "INFO:tensorflow:Assets written to: model_experiments/model_2_dense/assets\n",
            "Epoch 14/100\n",
            "16/16 [==============================] - 0s 3ms/step - loss: 201.3831 - mae: 201.3831 - mse: 164656.6250 - val_loss: 1326.0581 - val_mae: 1326.0581 - val_mse: 3990547.7500\n",
            "INFO:tensorflow:Assets written to: model_experiments/model_2_dense/assets\n",
            "Epoch 15/100\n",
            "16/16 [==============================] - 0s 3ms/step - loss: 193.0611 - mae: 193.0611 - mse: 155376.2031 - val_loss: 1269.4835 - val_mae: 1269.4835 - val_mse: 3769395.7500\n",
            "INFO:tensorflow:Assets written to: model_experiments/model_2_dense/assets\n",
            "Epoch 16/100\n",
            "16/16 [==============================] - 0s 3ms/step - loss: 198.5460 - mae: 198.5460 - mse: 162674.5938 - val_loss: 1371.1964 - val_mae: 1371.1964 - val_mse: 4096907.5000\n",
            "Epoch 17/100\n",
            "16/16 [==============================] - 0s 3ms/step - loss: 196.6133 - mae: 196.6133 - mse: 151491.4375 - val_loss: 1466.3217 - val_mae: 1466.3217 - val_mse: 4542991.5000\n",
            "Epoch 18/100\n",
            "16/16 [==============================] - 0s 3ms/step - loss: 190.1405 - mae: 190.1405 - mse: 149794.9219 - val_loss: 1231.1881 - val_mae: 1231.1881 - val_mse: 3512254.2500\n",
            "INFO:tensorflow:Assets written to: model_experiments/model_2_dense/assets\n",
            "Epoch 19/100\n",
            "16/16 [==============================] - 0s 3ms/step - loss: 189.7540 - mae: 189.7540 - mse: 149520.5312 - val_loss: 1228.0698 - val_mae: 1228.0698 - val_mse: 3475684.2500\n",
            "INFO:tensorflow:Assets written to: model_experiments/model_2_dense/assets\n",
            "Epoch 20/100\n",
            "16/16 [==============================] - 0s 3ms/step - loss: 193.6663 - mae: 193.6663 - mse: 147546.6719 - val_loss: 1255.3783 - val_mae: 1255.3783 - val_mse: 3820416.7500\n",
            "Epoch 21/100\n",
            "16/16 [==============================] - 0s 4ms/step - loss: 190.8149 - mae: 190.8149 - mse: 146796.3281 - val_loss: 1324.0455 - val_mae: 1324.0455 - val_mse: 4254057.5000\n",
            "Epoch 22/100\n",
            "16/16 [==============================] - 0s 3ms/step - loss: 199.3708 - mae: 199.3708 - mse: 152082.3281 - val_loss: 1193.4498 - val_mae: 1193.4498 - val_mse: 3437358.7500\n",
            "INFO:tensorflow:Assets written to: model_experiments/model_2_dense/assets\n",
            "Epoch 23/100\n",
            "16/16 [==============================] - 0s 4ms/step - loss: 186.3356 - mae: 186.3356 - mse: 137027.5469 - val_loss: 1197.3589 - val_mae: 1197.3589 - val_mse: 3464350.5000\n",
            "Epoch 24/100\n",
            "16/16 [==============================] - 0s 3ms/step - loss: 180.8873 - mae: 180.8873 - mse: 137285.1250 - val_loss: 1272.4475 - val_mae: 1272.4475 - val_mse: 3920250.0000\n",
            "Epoch 25/100\n",
            "16/16 [==============================] - 0s 3ms/step - loss: 228.3149 - mae: 228.3149 - mse: 182155.7969 - val_loss: 1446.9932 - val_mae: 1446.9932 - val_mse: 4843315.0000\n",
            "Epoch 26/100\n",
            "16/16 [==============================] - 0s 3ms/step - loss: 205.3328 - mae: 205.3328 - mse: 153216.0469 - val_loss: 1168.2928 - val_mae: 1168.2928 - val_mse: 3123405.2500\n",
            "INFO:tensorflow:Assets written to: model_experiments/model_2_dense/assets\n",
            "Epoch 27/100\n",
            "16/16 [==============================] - 0s 3ms/step - loss: 202.2635 - mae: 202.2635 - mse: 156314.7031 - val_loss: 1130.5289 - val_mae: 1130.5289 - val_mse: 3074672.5000\n",
            "INFO:tensorflow:Assets written to: model_experiments/model_2_dense/assets\n",
            "Epoch 28/100\n",
            "16/16 [==============================] - 0s 3ms/step - loss: 215.5196 - mae: 215.5196 - mse: 169779.6250 - val_loss: 1431.7023 - val_mae: 1431.7023 - val_mse: 4272848.0000\n",
            "Epoch 29/100\n",
            "16/16 [==============================] - 0s 3ms/step - loss: 197.2818 - mae: 197.2818 - mse: 142692.7969 - val_loss: 1181.9521 - val_mae: 1181.9521 - val_mse: 3141390.7500\n",
            "Epoch 30/100\n",
            "16/16 [==============================] - 0s 3ms/step - loss: 174.8759 - mae: 174.8759 - mse: 127948.0391 - val_loss: 1096.2623 - val_mae: 1096.2623 - val_mse: 2853072.2500\n",
            "INFO:tensorflow:Assets written to: model_experiments/model_2_dense/assets\n",
            "Epoch 31/100\n",
            "16/16 [==============================] - 0s 3ms/step - loss: 172.2817 - mae: 172.2817 - mse: 127106.0781 - val_loss: 1114.9723 - val_mae: 1114.9723 - val_mse: 3009351.5000\n",
            "Epoch 32/100\n",
            "16/16 [==============================] - 0s 3ms/step - loss: 170.1318 - mae: 170.1318 - mse: 121164.2734 - val_loss: 1099.5199 - val_mae: 1099.5199 - val_mse: 2806650.7500\n",
            "Epoch 33/100\n",
            "16/16 [==============================] - 0s 3ms/step - loss: 175.7805 - mae: 175.7805 - mse: 126552.7969 - val_loss: 1120.1859 - val_mae: 1120.1859 - val_mse: 2889118.2500\n",
            "Epoch 34/100\n",
            "16/16 [==============================] - 0s 3ms/step - loss: 180.7824 - mae: 180.7824 - mse: 128001.4922 - val_loss: 1074.4167 - val_mae: 1074.4167 - val_mse: 2715226.5000\n",
            "INFO:tensorflow:Assets written to: model_experiments/model_2_dense/assets\n",
            "Epoch 35/100\n",
            "16/16 [==============================] - 0s 3ms/step - loss: 166.2006 - mae: 166.2006 - mse: 119374.9297 - val_loss: 1061.4863 - val_mae: 1061.4863 - val_mse: 2695704.7500\n",
            "INFO:tensorflow:Assets written to: model_experiments/model_2_dense/assets\n",
            "Epoch 36/100\n",
            "16/16 [==============================] - 0s 3ms/step - loss: 163.8662 - mae: 163.8662 - mse: 116724.8203 - val_loss: 1056.5155 - val_mae: 1056.5155 - val_mse: 2692656.2500\n",
            "INFO:tensorflow:Assets written to: model_experiments/model_2_dense/assets\n",
            "Epoch 37/100\n",
            "16/16 [==============================] - 0s 3ms/step - loss: 167.7135 - mae: 167.7135 - mse: 122729.8438 - val_loss: 1056.1147 - val_mae: 1056.1147 - val_mse: 2647228.2500\n",
            "INFO:tensorflow:Assets written to: model_experiments/model_2_dense/assets\n",
            "Epoch 38/100\n",
            "16/16 [==============================] - 0s 4ms/step - loss: 179.1147 - mae: 179.1147 - mse: 127477.5000 - val_loss: 1236.7561 - val_mae: 1236.7561 - val_mse: 3316708.5000\n",
            "Epoch 39/100\n",
            "16/16 [==============================] - 0s 3ms/step - loss: 178.2007 - mae: 178.2007 - mse: 128129.1250 - val_loss: 1041.2003 - val_mae: 1041.2003 - val_mse: 2623010.5000\n",
            "INFO:tensorflow:Assets written to: model_experiments/model_2_dense/assets\n",
            "Epoch 40/100\n",
            "16/16 [==============================] - 0s 3ms/step - loss: 161.0608 - mae: 161.0608 - mse: 114166.6797 - val_loss: 1065.2288 - val_mae: 1065.2288 - val_mse: 2644996.5000\n",
            "Epoch 41/100\n",
            "16/16 [==============================] - 0s 3ms/step - loss: 162.4886 - mae: 162.4886 - mse: 115146.5312 - val_loss: 1089.2227 - val_mae: 1089.2227 - val_mse: 2725594.7500\n",
            "Epoch 42/100\n",
            "16/16 [==============================] - 0s 3ms/step - loss: 171.9980 - mae: 171.9980 - mse: 122481.8047 - val_loss: 1082.1509 - val_mae: 1082.1509 - val_mse: 2847976.0000\n",
            "Epoch 43/100\n",
            "16/16 [==============================] - 0s 3ms/step - loss: 167.6194 - mae: 167.6194 - mse: 120736.0625 - val_loss: 1040.2728 - val_mae: 1040.2728 - val_mse: 2553698.2500\n",
            "INFO:tensorflow:Assets written to: model_experiments/model_2_dense/assets\n",
            "Epoch 44/100\n",
            "16/16 [==============================] - 0s 3ms/step - loss: 168.6186 - mae: 168.6186 - mse: 118743.2734 - val_loss: 1031.5822 - val_mae: 1031.5822 - val_mse: 2531052.5000\n",
            "INFO:tensorflow:Assets written to: model_experiments/model_2_dense/assets\n",
            "Epoch 45/100\n",
            "16/16 [==============================] - 0s 3ms/step - loss: 161.1313 - mae: 161.1313 - mse: 112636.6406 - val_loss: 1011.0517 - val_mae: 1011.0517 - val_mse: 2461294.5000\n",
            "INFO:tensorflow:Assets written to: model_experiments/model_2_dense/assets\n",
            "Epoch 46/100\n",
            "16/16 [==============================] - 0s 3ms/step - loss: 172.0345 - mae: 172.0345 - mse: 120330.4297 - val_loss: 1271.4696 - val_mae: 1271.4696 - val_mse: 3700278.5000\n",
            "Epoch 47/100\n",
            "16/16 [==============================] - 0s 3ms/step - loss: 180.8768 - mae: 180.8768 - mse: 133207.0781 - val_loss: 1010.4310 - val_mae: 1010.4310 - val_mse: 2493148.7500\n",
            "INFO:tensorflow:Assets written to: model_experiments/model_2_dense/assets\n",
            "Epoch 48/100\n",
            "16/16 [==============================] - 0s 3ms/step - loss: 155.2688 - mae: 155.2688 - mse: 107472.8828 - val_loss: 997.2914 - val_mae: 997.2914 - val_mse: 2396378.7500\n",
            "INFO:tensorflow:Assets written to: model_experiments/model_2_dense/assets\n",
            "Epoch 49/100\n",
            "16/16 [==============================] - 0s 4ms/step - loss: 162.1792 - mae: 162.1792 - mse: 112681.4922 - val_loss: 1004.4441 - val_mae: 1004.4441 - val_mse: 2466029.0000\n",
            "Epoch 50/100\n",
            "16/16 [==============================] - 0s 3ms/step - loss: 164.7506 - mae: 164.7506 - mse: 114087.7188 - val_loss: 1085.2660 - val_mae: 1085.2660 - val_mse: 2669428.2500\n",
            "Epoch 51/100\n",
            "16/16 [==============================] - 0s 4ms/step - loss: 169.3637 - mae: 169.3637 - mse: 116990.2422 - val_loss: 1436.0796 - val_mae: 1436.0796 - val_mse: 4495784.5000\n",
            "Epoch 52/100\n",
            "16/16 [==============================] - 0s 3ms/step - loss: 175.5079 - mae: 175.5079 - mse: 120450.2266 - val_loss: 1162.0115 - val_mae: 1162.0115 - val_mse: 3155710.0000\n",
            "Epoch 53/100\n",
            "16/16 [==============================] - 0s 3ms/step - loss: 160.5873 - mae: 160.5873 - mse: 110344.0625 - val_loss: 1078.0870 - val_mae: 1078.0870 - val_mse: 2789924.7500\n",
            "Epoch 54/100\n",
            "16/16 [==============================] - 0s 3ms/step - loss: 167.7028 - mae: 167.7028 - mse: 113425.9688 - val_loss: 1047.6516 - val_mae: 1047.6516 - val_mse: 2659437.2500\n",
            "Epoch 55/100\n",
            "16/16 [==============================] - 0s 3ms/step - loss: 157.7884 - mae: 157.7884 - mse: 107764.2500 - val_loss: 967.3541 - val_mae: 967.3541 - val_mse: 2284580.0000\n",
            "INFO:tensorflow:Assets written to: model_experiments/model_2_dense/assets\n",
            "Epoch 56/100\n",
            "16/16 [==============================] - 0s 3ms/step - loss: 208.6545 - mae: 208.6545 - mse: 153939.9844 - val_loss: 1366.9603 - val_mae: 1366.9603 - val_mse: 4102101.2500\n",
            "Epoch 57/100\n",
            "16/16 [==============================] - 0s 3ms/step - loss: 182.1966 - mae: 182.1966 - mse: 124449.7266 - val_loss: 1066.3922 - val_mae: 1066.3922 - val_mse: 2577014.7500\n",
            "Epoch 58/100\n",
            "16/16 [==============================] - 0s 3ms/step - loss: 161.4174 - mae: 161.4174 - mse: 108863.1250 - val_loss: 959.3444 - val_mae: 959.3444 - val_mse: 2263802.7500\n",
            "INFO:tensorflow:Assets written to: model_experiments/model_2_dense/assets\n",
            "Epoch 59/100\n",
            "16/16 [==============================] - 0s 3ms/step - loss: 161.5941 - mae: 161.5941 - mse: 106308.9922 - val_loss: 956.8929 - val_mae: 956.8929 - val_mse: 2224539.7500\n",
            "INFO:tensorflow:Assets written to: model_experiments/model_2_dense/assets\n",
            "Epoch 60/100\n",
            "16/16 [==============================] - 0s 3ms/step - loss: 154.3261 - mae: 154.3261 - mse: 102476.0391 - val_loss: 986.8368 - val_mae: 986.8368 - val_mse: 2309723.2500\n",
            "Epoch 61/100\n",
            "16/16 [==============================] - 0s 3ms/step - loss: 154.4630 - mae: 154.4630 - mse: 104549.8750 - val_loss: 997.2876 - val_mae: 997.2876 - val_mse: 2334786.2500\n",
            "Epoch 62/100\n",
            "16/16 [==============================] - 0s 4ms/step - loss: 165.4183 - mae: 165.4183 - mse: 112271.4922 - val_loss: 972.8229 - val_mae: 972.8229 - val_mse: 2254031.5000\n",
            "Epoch 63/100\n",
            "16/16 [==============================] - 0s 3ms/step - loss: 155.1538 - mae: 155.1538 - mse: 104147.0859 - val_loss: 1132.5616 - val_mae: 1132.5616 - val_mse: 2819675.7500\n",
            "Epoch 64/100\n",
            "16/16 [==============================] - 0s 3ms/step - loss: 166.3892 - mae: 166.3892 - mse: 111856.1016 - val_loss: 947.8153 - val_mae: 947.8153 - val_mse: 2210469.0000\n",
            "INFO:tensorflow:Assets written to: model_experiments/model_2_dense/assets\n",
            "Epoch 65/100\n",
            "16/16 [==============================] - 0s 3ms/step - loss: 154.8122 - mae: 154.8122 - mse: 103764.5703 - val_loss: 957.7053 - val_mae: 957.7053 - val_mse: 2203807.2500\n",
            "Epoch 66/100\n",
            "16/16 [==============================] - 0s 3ms/step - loss: 160.3944 - mae: 160.3944 - mse: 107056.2109 - val_loss: 1328.2791 - val_mae: 1328.2791 - val_mse: 3852001.0000\n",
            "Epoch 67/100\n",
            "16/16 [==============================] - 0s 3ms/step - loss: 170.2703 - mae: 170.2703 - mse: 114641.4922 - val_loss: 941.5803 - val_mae: 941.5803 - val_mse: 2166069.7500\n",
            "INFO:tensorflow:Assets written to: model_experiments/model_2_dense/assets\n",
            "Epoch 68/100\n",
            "16/16 [==============================] - 0s 3ms/step - loss: 165.0031 - mae: 165.0031 - mse: 108300.4062 - val_loss: 959.6633 - val_mae: 959.6633 - val_mse: 2202496.2500\n",
            "Epoch 69/100\n",
            "16/16 [==============================] - 0s 3ms/step - loss: 152.4203 - mae: 152.4203 - mse: 100545.6172 - val_loss: 947.8445 - val_mae: 947.8445 - val_mse: 2215211.5000\n",
            "Epoch 70/100\n",
            "16/16 [==============================] - 0s 3ms/step - loss: 159.3822 - mae: 159.3822 - mse: 106837.0547 - val_loss: 932.2924 - val_mae: 932.2924 - val_mse: 2142760.2500\n",
            "INFO:tensorflow:Assets written to: model_experiments/model_2_dense/assets\n",
            "Epoch 71/100\n",
            "16/16 [==============================] - 0s 3ms/step - loss: 148.9963 - mae: 148.9963 - mse: 98686.7656 - val_loss: 988.3201 - val_mae: 988.3201 - val_mse: 2278876.7500\n",
            "Epoch 72/100\n",
            "16/16 [==============================] - 0s 3ms/step - loss: 175.0368 - mae: 175.0368 - mse: 117486.4922 - val_loss: 1089.4452 - val_mae: 1089.4452 - val_mse: 2620804.2500\n",
            "Epoch 73/100\n",
            "16/16 [==============================] - 0s 3ms/step - loss: 157.3076 - mae: 157.3076 - mse: 104318.6172 - val_loss: 997.5475 - val_mae: 997.5475 - val_mse: 2302934.5000\n",
            "Epoch 74/100\n",
            "16/16 [==============================] - 0s 3ms/step - loss: 166.3427 - mae: 166.3427 - mse: 115791.0625 - val_loss: 1589.3556 - val_mae: 1589.3556 - val_mse: 5161147.5000\n",
            "Epoch 75/100\n",
            "16/16 [==============================] - 0s 3ms/step - loss: 222.6124 - mae: 222.6124 - mse: 160797.9062 - val_loss: 928.5764 - val_mae: 928.5764 - val_mse: 2111496.7500\n",
            "INFO:tensorflow:Assets written to: model_experiments/model_2_dense/assets\n",
            "Epoch 76/100\n",
            "16/16 [==============================] - 0s 3ms/step - loss: 169.4926 - mae: 169.4926 - mse: 109695.0625 - val_loss: 1102.0652 - val_mae: 1102.0652 - val_mse: 2817570.5000\n",
            "Epoch 77/100\n",
            "16/16 [==============================] - 0s 3ms/step - loss: 152.5789 - mae: 152.5789 - mse: 100227.0938 - val_loss: 919.8806 - val_mae: 919.8806 - val_mse: 2088789.7500\n",
            "INFO:tensorflow:Assets written to: model_experiments/model_2_dense/assets\n",
            "Epoch 78/100\n",
            "16/16 [==============================] - 0s 3ms/step - loss: 149.3982 - mae: 149.3982 - mse: 97770.2656 - val_loss: 931.9094 - val_mae: 931.9094 - val_mse: 2101681.5000\n",
            "Epoch 79/100\n",
            "16/16 [==============================] - 0s 3ms/step - loss: 177.9626 - mae: 177.9626 - mse: 118387.8672 - val_loss: 1228.1237 - val_mae: 1228.1237 - val_mse: 3198326.5000\n",
            "Epoch 80/100\n",
            "16/16 [==============================] - 0s 3ms/step - loss: 158.5134 - mae: 158.5134 - mse: 107534.8516 - val_loss: 941.5428 - val_mae: 941.5428 - val_mse: 2129235.0000\n",
            "Epoch 81/100\n",
            "16/16 [==============================] - 0s 3ms/step - loss: 147.3161 - mae: 147.3161 - mse: 97695.4922 - val_loss: 925.2101 - val_mae: 925.2101 - val_mse: 2117390.5000\n",
            "Epoch 82/100\n",
            "16/16 [==============================] - 0s 3ms/step - loss: 154.9953 - mae: 154.9953 - mse: 103011.7500 - val_loss: 1069.7657 - val_mae: 1069.7657 - val_mse: 2551501.0000\n",
            "Epoch 83/100\n",
            "16/16 [==============================] - 0s 3ms/step - loss: 149.7113 - mae: 149.7113 - mse: 99855.5234 - val_loss: 914.4675 - val_mae: 914.4675 - val_mse: 2072269.7500\n",
            "INFO:tensorflow:Assets written to: model_experiments/model_2_dense/assets\n",
            "Epoch 84/100\n",
            "16/16 [==============================] - 0s 3ms/step - loss: 146.8509 - mae: 146.8509 - mse: 98559.3828 - val_loss: 1060.7410 - val_mae: 1060.7410 - val_mse: 2515039.0000\n",
            "Epoch 85/100\n",
            "16/16 [==============================] - 0s 3ms/step - loss: 155.9317 - mae: 155.9317 - mse: 100063.1719 - val_loss: 973.7661 - val_mae: 973.7661 - val_mse: 2216545.7500\n",
            "Epoch 86/100\n",
            "16/16 [==============================] - 0s 3ms/step - loss: 159.7544 - mae: 159.7544 - mse: 104396.9375 - val_loss: 908.0479 - val_mae: 908.0479 - val_mse: 2045126.0000\n",
            "INFO:tensorflow:Assets written to: model_experiments/model_2_dense/assets\n",
            "Epoch 87/100\n",
            "16/16 [==============================] - 0s 3ms/step - loss: 147.2395 - mae: 147.2395 - mse: 95139.8125 - val_loss: 906.4094 - val_mae: 906.4094 - val_mse: 2046591.7500\n",
            "INFO:tensorflow:Assets written to: model_experiments/model_2_dense/assets\n",
            "Epoch 88/100\n",
            "16/16 [==============================] - 0s 3ms/step - loss: 149.7932 - mae: 149.7932 - mse: 96790.1016 - val_loss: 1105.3330 - val_mae: 1105.3330 - val_mse: 2796853.0000\n",
            "Epoch 89/100\n",
            "16/16 [==============================] - 0s 3ms/step - loss: 170.2562 - mae: 170.2562 - mse: 110031.4219 - val_loss: 986.2484 - val_mae: 986.2484 - val_mse: 2238570.2500\n",
            "Epoch 90/100\n",
            "16/16 [==============================] - 0s 3ms/step - loss: 148.5678 - mae: 148.5678 - mse: 97546.2969 - val_loss: 909.9531 - val_mae: 909.9531 - val_mse: 2025573.6250\n",
            "Epoch 91/100\n",
            "16/16 [==============================] - 0s 3ms/step - loss: 149.8475 - mae: 149.8475 - mse: 94058.5703 - val_loss: 987.0881 - val_mae: 987.0881 - val_mse: 2246979.2500\n",
            "Epoch 92/100\n",
            "16/16 [==============================] - 0s 3ms/step - loss: 153.6240 - mae: 153.6240 - mse: 99070.5000 - val_loss: 927.7206 - val_mae: 927.7206 - val_mse: 2070375.6250\n",
            "Epoch 93/100\n",
            "16/16 [==============================] - 0s 3ms/step - loss: 146.8449 - mae: 146.8449 - mse: 95818.3828 - val_loss: 927.7395 - val_mae: 927.7395 - val_mse: 2121805.7500\n",
            "Epoch 94/100\n",
            "16/16 [==============================] - 0s 3ms/step - loss: 155.9153 - mae: 155.9153 - mse: 100283.3828 - val_loss: 943.0776 - val_mae: 943.0776 - val_mse: 2172546.2500\n",
            "Epoch 95/100\n",
            "16/16 [==============================] - 0s 3ms/step - loss: 157.0691 - mae: 157.0691 - mse: 103990.4922 - val_loss: 894.8815 - val_mae: 894.8815 - val_mse: 2003243.3750\n",
            "INFO:tensorflow:Assets written to: model_experiments/model_2_dense/assets\n",
            "Epoch 96/100\n",
            "16/16 [==============================] - 0s 3ms/step - loss: 145.8817 - mae: 145.8817 - mse: 94699.5859 - val_loss: 932.7266 - val_mae: 932.7266 - val_mse: 2076662.3750\n",
            "Epoch 97/100\n",
            "16/16 [==============================] - 0s 3ms/step - loss: 152.8662 - mae: 152.8662 - mse: 96492.1797 - val_loss: 934.3603 - val_mae: 934.3603 - val_mse: 2085374.5000\n",
            "Epoch 98/100\n",
            "16/16 [==============================] - 0s 3ms/step - loss: 142.3990 - mae: 142.3990 - mse: 90276.0234 - val_loss: 912.0699 - val_mae: 912.0699 - val_mse: 2021386.5000\n",
            "Epoch 99/100\n",
            "16/16 [==============================] - 0s 4ms/step - loss: 155.9348 - mae: 155.9348 - mse: 104251.9844 - val_loss: 1046.2253 - val_mae: 1046.2253 - val_mse: 2538383.0000\n",
            "Epoch 100/100\n",
            "16/16 [==============================] - 0s 3ms/step - loss: 157.3452 - mae: 157.3452 - mse: 104570.2656 - val_loss: 1071.0720 - val_mae: 1071.0720 - val_mse: 2638387.0000\n"
          ]
        }
      ]
    },
    {
      "cell_type": "code",
      "metadata": {
        "colab": {
          "base_uri": "https://localhost:8080/"
        },
        "id": "JQj0JNy3tmrD",
        "outputId": "65c4be33-5265-4ed4-b7d3-00970c185372"
      },
      "source": [
        "# Load in the best saved model\n",
        "model_2 = tf.keras.models.load_model(\"model_experiments/model_2_dense/\")\n",
        "model_2.evaluate(test_windows_30, test_labels_30)"
      ],
      "execution_count": 59,
      "outputs": [
        {
          "output_type": "stream",
          "name": "stdout",
          "text": [
            "16/16 [==============================] - 0s 1ms/step - loss: 894.8816 - mae: 894.8816 - mse: 2003243.5000\n"
          ]
        },
        {
          "output_type": "execute_result",
          "data": {
            "text/plain": [
              "[894.881591796875, 894.881591796875, 2003243.5]"
            ]
          },
          "metadata": {},
          "execution_count": 59
        }
      ]
    },
    {
      "cell_type": "code",
      "metadata": {
        "colab": {
          "base_uri": "https://localhost:8080/"
        },
        "id": "Kmf7im_Ivb6M",
        "outputId": "02e1cb7c-7f4e-4bd7-e638-57e02704e537"
      },
      "source": [
        "model_2_preds = make_preds(model_2, input_data=test_windows_30)\n",
        "model_2_preds[:10]"
      ],
      "execution_count": 60,
      "outputs": [
        {
          "output_type": "execute_result",
          "data": {
            "text/plain": [
              "<tf.Tensor: shape=(10,), dtype=float32, numpy=\n",
              "array([ 8858.688,  8898.962,  9138.405,  8952.882,  9031.64 ,  9030.863,\n",
              "        9264.19 ,  9792.532, 10087.992,  9772.31 ], dtype=float32)>"
            ]
          },
          "metadata": {},
          "execution_count": 60
        }
      ]
    },
    {
      "cell_type": "code",
      "metadata": {
        "colab": {
          "base_uri": "https://localhost:8080/"
        },
        "id": "NuhpRdGHt0Ra",
        "outputId": "a167929c-aee4-4a37-c492-b5819afffc46"
      },
      "source": [
        "model_2_results = evaluate_preds(y_true=tf.squeeze(test_labels_30),y_pred=model_2_preds)\n",
        "model_2_results"
      ],
      "execution_count": 61,
      "outputs": [
        {
          "output_type": "execute_result",
          "data": {
            "text/plain": [
              "{'mae': 894.8816,\n",
              " 'mape': 2.805764,\n",
              " 'mase': 1.0718104,\n",
              " 'mse': 2003243.5,\n",
              " 'rmse': 1415.3599}"
            ]
          },
          "metadata": {},
          "execution_count": 61
        }
      ]
    },
    {
      "cell_type": "code",
      "metadata": {
        "colab": {
          "base_uri": "https://localhost:8080/",
          "height": 442
        },
        "id": "2fWZwlhSwEQd",
        "outputId": "2830bf8a-f20b-410e-d746-ead7f94ccbdb"
      },
      "source": [
        "# Plot model 2 predictions\n",
        "offset=350\n",
        "plt.figure(figsize=(15,7))\n",
        "plot_time_series(timesteps=X_test[-len(test_windows_30):],\n",
        "                 values=test_labels_30,\n",
        "                 format=\".\",\n",
        "                 start=offset,\n",
        "                 label=\"Test data\")\n",
        "plot_time_series(timesteps=X_test[-len(test_windows_30):],\n",
        "                 values=model_2_preds,\n",
        "                 format=\"-\",\n",
        "                 start=offset,\n",
        "                 label=\"Predicted data\")\n"
      ],
      "execution_count": 63,
      "outputs": [
        {
          "output_type": "display_data",
          "data": {
            "image/png": "[encoded data removed]",
            "text/plain": [
              "<Figure size 1080x504 with 1 Axes>"
            ]
          },
          "metadata": {
            "needs_background": "light"
          }
        }
      ]
    },
    {
      "cell_type": "markdown",
      "metadata": {
        "id": "KGhhbjo6ww_b"
      },
      "source": [
        "## Model 3: Dense (window=30, horizon=7)"
      ]
    },
    {
      "cell_type": "code",
      "metadata": {
        "id": "aMYivPSJp5Gn"
      },
      "source": [
        "# Setup window and horizon size\n",
        "HORIZON = 7\n",
        "WINDOW_SIZE = 30"
      ],
      "execution_count": 64,
      "outputs": []
    },
    {
      "cell_type": "code",
      "metadata": {
        "colab": {
          "base_uri": "https://localhost:8080/"
        },
        "id": "VA-TCA0zbtNh",
        "outputId": "5bf4e9ca-795e-45ed-9ad3-e337ce6f4bf9"
      },
      "source": [
        "print(f\"We want windows as:{btc_price[:30]}\\nHorizon:{btc_price[30]}\")"
      ],
      "execution_count": 67,
      "outputs": [
        {
          "output_type": "stream",
          "name": "stdout",
          "text": [
            "We want windows as:[331.60083, 324.71833, 332.45666, 336.585, 346.775, 344.81166, 343.065, 358.50166, 368.07666, 376.99666, 442.10666, 389.00333, 394.92666, 377.08, 400.47166, 384.93, 375.83333, 376.16, 348.565, 352.42, 356.8, 367.83, 381.20666, 375.498, 372.819, 368.983, 375.44, 376.851, 376.13218, 377.862] ->\n",
            "Horizon:382.452\n"
          ]
        }
      ]
    },
    {
      "cell_type": "code",
      "metadata": {
        "colab": {
          "base_uri": "https://localhost:8080/"
        },
        "id": "bwU1l_ECbsL4",
        "outputId": "40672fa4-61dd-4768-cece-e534a38bb304"
      },
      "source": [
        "# Making windows and horizons of required shape\n",
        "full_windows, full_labels = make_windows(x=prices, window_size=WINDOW_SIZE, horizon=HORIZON)\n",
        "len(full_windows), len(full_labels)"
      ],
      "execution_count": 68,
      "outputs": [
        {
          "output_type": "execute_result",
          "data": {
            "text/plain": [
              "(2464, 2464)"
            ]
          },
          "metadata": {},
          "execution_count": 68
        }
      ]
    },
    {
      "cell_type": "code",
      "metadata": {
        "colab": {
          "base_uri": "https://localhost:8080/"
        },
        "id": "5R3yIoiyq7ix",
        "outputId": "15c20275-dd78-46bc-996d-2cb6bdb89886"
      },
      "source": [
        "# Splitting into training and testing datasets\n",
        "train_windows, test_windows, train_labels, test_labels = make_train_test_splits(windows=full_windows, \n",
        "                                                                                labels=full_labels,\n",
        "                                                                                test_split=0.2)\n",
        "len(train_windows), len(test_windows), len(train_labels), len(test_labels)"
      ],
      "execution_count": 69,
      "outputs": [
        {
          "output_type": "execute_result",
          "data": {
            "text/plain": [
              "(1971, 493, 1971, 493)"
            ]
          },
          "metadata": {},
          "execution_count": 69
        }
      ]
    },
    {
      "cell_type": "code",
      "metadata": {
        "colab": {
          "base_uri": "https://localhost:8080/"
        },
        "id": "GnYkFmjbrd3x",
        "outputId": "6ef144bb-c859-480c-f6a0-870f90913e2f"
      },
      "source": [
        "# Set the random seed\n",
        "tf.random.set_seed(42)\n",
        "\n",
        "# Create a model\n",
        "model_3 = Sequential([\n",
        "  layers.Dense(128,activation=\"relu\"),\n",
        "  layers.Dense(7,activation=\"linear\")\n",
        "],name=\"model_3_dense\")\n",
        "\n",
        "# Compile the model\n",
        "model_3.compile(\n",
        "    loss=tf.keras.losses.MeanAbsoluteError(),\n",
        "    optimizer=Adam(),\n",
        "    metrics=[\"mae\"]\n",
        ")\n",
        "\n",
        "# Fit the model\n",
        "history_model_3 = model_3.fit(x=train_windows,y=train_labels,\n",
        "                              epochs=100,verbose=1,batch_size=128,\n",
        "                              validation_data=(test_windows,test_labels),\n",
        "                              callbacks=[create_model_checkpoint(model_name=model_3.name)])"
      ],
      "execution_count": 70,
      "outputs": [
        {
          "output_type": "stream",
          "name": "stdout",
          "text": [
            "Epoch 1/100\n",
            "16/16 [==============================] - 0s 10ms/step - loss: 2009.7512 - mae: 2009.7512 - val_loss: 4582.4648 - val_mae: 4582.4648\n",
            "INFO:tensorflow:Assets written to: model_experiments/model_3_dense/assets\n",
            "Epoch 2/100\n",
            "16/16 [==============================] - 0s 4ms/step - loss: 724.6649 - mae: 724.6649 - val_loss: 4180.4048 - val_mae: 4180.4048\n",
            "INFO:tensorflow:Assets written to: model_experiments/model_3_dense/assets\n",
            "Epoch 3/100\n",
            "16/16 [==============================] - 0s 3ms/step - loss: 583.3334 - mae: 583.3334 - val_loss: 3467.4897 - val_mae: 3467.4897\n",
            "INFO:tensorflow:Assets written to: model_experiments/model_3_dense/assets\n",
            "Epoch 4/100\n",
            "16/16 [==============================] - 0s 3ms/step - loss: 516.8537 - mae: 516.8537 - val_loss: 3102.6926 - val_mae: 3102.6926\n",
            "INFO:tensorflow:Assets written to: model_experiments/model_3_dense/assets\n",
            "Epoch 5/100\n",
            "16/16 [==============================] - 0s 3ms/step - loss: 483.7886 - mae: 483.7886 - val_loss: 3091.4138 - val_mae: 3091.4138\n",
            "INFO:tensorflow:Assets written to: model_experiments/model_3_dense/assets\n",
            "Epoch 6/100\n",
            "16/16 [==============================] - 0s 3ms/step - loss: 456.3835 - mae: 456.3835 - val_loss: 2728.8320 - val_mae: 2728.8320\n",
            "INFO:tensorflow:Assets written to: model_experiments/model_3_dense/assets\n",
            "Epoch 7/100\n",
            "16/16 [==============================] - 0s 3ms/step - loss: 430.7773 - mae: 430.7773 - val_loss: 2578.7063 - val_mae: 2578.7063\n",
            "INFO:tensorflow:Assets written to: model_experiments/model_3_dense/assets\n",
            "Epoch 8/100\n",
            "16/16 [==============================] - 0s 4ms/step - loss: 407.9522 - mae: 407.9522 - val_loss: 2476.8352 - val_mae: 2476.8352\n",
            "INFO:tensorflow:Assets written to: model_experiments/model_3_dense/assets\n",
            "Epoch 9/100\n",
            "16/16 [==============================] - 0s 3ms/step - loss: 388.1463 - mae: 388.1463 - val_loss: 2354.7783 - val_mae: 2354.7783\n",
            "INFO:tensorflow:Assets written to: model_experiments/model_3_dense/assets\n",
            "Epoch 10/100\n",
            "16/16 [==============================] - 0s 3ms/step - loss: 379.8911 - mae: 379.8911 - val_loss: 2353.2725 - val_mae: 2353.2725\n",
            "INFO:tensorflow:Assets written to: model_experiments/model_3_dense/assets\n",
            "Epoch 11/100\n",
            "16/16 [==============================] - 0s 3ms/step - loss: 367.0042 - mae: 367.0042 - val_loss: 2296.1836 - val_mae: 2296.1836\n",
            "INFO:tensorflow:Assets written to: model_experiments/model_3_dense/assets\n",
            "Epoch 12/100\n",
            "16/16 [==============================] - 0s 3ms/step - loss: 358.9416 - mae: 358.9416 - val_loss: 2237.6462 - val_mae: 2237.6462\n",
            "INFO:tensorflow:Assets written to: model_experiments/model_3_dense/assets\n",
            "Epoch 13/100\n",
            "16/16 [==============================] - 0s 3ms/step - loss: 350.8254 - mae: 350.8254 - val_loss: 2186.8230 - val_mae: 2186.8230\n",
            "INFO:tensorflow:Assets written to: model_experiments/model_3_dense/assets\n",
            "Epoch 14/100\n",
            "16/16 [==============================] - 0s 3ms/step - loss: 351.2840 - mae: 351.2840 - val_loss: 2307.3103 - val_mae: 2307.3103\n",
            "Epoch 15/100\n",
            "16/16 [==============================] - 0s 3ms/step - loss: 349.8454 - mae: 349.8454 - val_loss: 2205.4597 - val_mae: 2205.4597\n",
            "Epoch 16/100\n",
            "16/16 [==============================] - 0s 3ms/step - loss: 343.8460 - mae: 343.8460 - val_loss: 2173.2656 - val_mae: 2173.2656\n",
            "INFO:tensorflow:Assets written to: model_experiments/model_3_dense/assets\n",
            "Epoch 17/100\n",
            "16/16 [==============================] - 0s 3ms/step - loss: 336.5969 - mae: 336.5969 - val_loss: 2121.7122 - val_mae: 2121.7122\n",
            "INFO:tensorflow:Assets written to: model_experiments/model_3_dense/assets\n",
            "Epoch 18/100\n",
            "16/16 [==============================] - 0s 3ms/step - loss: 335.8025 - mae: 335.8025 - val_loss: 2102.8154 - val_mae: 2102.8154\n",
            "INFO:tensorflow:Assets written to: model_experiments/model_3_dense/assets\n",
            "Epoch 19/100\n",
            "16/16 [==============================] - 0s 3ms/step - loss: 332.5114 - mae: 332.5114 - val_loss: 2157.2231 - val_mae: 2157.2231\n",
            "Epoch 20/100\n",
            "16/16 [==============================] - 0s 3ms/step - loss: 333.7783 - mae: 333.7783 - val_loss: 2283.4368 - val_mae: 2283.4368\n",
            "Epoch 21/100\n",
            "16/16 [==============================] - 0s 3ms/step - loss: 324.4745 - mae: 324.4745 - val_loss: 2124.7278 - val_mae: 2124.7278\n",
            "Epoch 22/100\n",
            "16/16 [==============================] - 0s 3ms/step - loss: 322.3573 - mae: 322.3573 - val_loss: 2076.7100 - val_mae: 2076.7100\n",
            "INFO:tensorflow:Assets written to: model_experiments/model_3_dense/assets\n",
            "Epoch 23/100\n",
            "16/16 [==============================] - 0s 3ms/step - loss: 319.7914 - mae: 319.7914 - val_loss: 2148.3992 - val_mae: 2148.3992\n",
            "Epoch 24/100\n",
            "16/16 [==============================] - 0s 3ms/step - loss: 322.6167 - mae: 322.6167 - val_loss: 2102.2568 - val_mae: 2102.2568\n",
            "Epoch 25/100\n",
            "16/16 [==============================] - 0s 3ms/step - loss: 317.5201 - mae: 317.5201 - val_loss: 2155.8962 - val_mae: 2155.8962\n",
            "Epoch 26/100\n",
            "16/16 [==============================] - 0s 3ms/step - loss: 316.0280 - mae: 316.0280 - val_loss: 2063.1956 - val_mae: 2063.1956\n",
            "INFO:tensorflow:Assets written to: model_experiments/model_3_dense/assets\n",
            "Epoch 27/100\n",
            "16/16 [==============================] - 0s 3ms/step - loss: 318.9695 - mae: 318.9695 - val_loss: 2048.8076 - val_mae: 2048.8076\n",
            "INFO:tensorflow:Assets written to: model_experiments/model_3_dense/assets\n",
            "Epoch 28/100\n",
            "16/16 [==============================] - 0s 4ms/step - loss: 312.8146 - mae: 312.8146 - val_loss: 2077.5383 - val_mae: 2077.5383\n",
            "Epoch 29/100\n",
            "16/16 [==============================] - 0s 3ms/step - loss: 315.9451 - mae: 315.9451 - val_loss: 2113.8621 - val_mae: 2113.8621\n",
            "Epoch 30/100\n",
            "16/16 [==============================] - 0s 3ms/step - loss: 312.9261 - mae: 312.9261 - val_loss: 2057.2759 - val_mae: 2057.2759\n",
            "Epoch 31/100\n",
            "16/16 [==============================] - 0s 3ms/step - loss: 320.0780 - mae: 320.0780 - val_loss: 2232.9250 - val_mae: 2232.9250\n",
            "Epoch 32/100\n",
            "16/16 [==============================] - 0s 4ms/step - loss: 321.0761 - mae: 321.0761 - val_loss: 2157.2378 - val_mae: 2157.2378\n",
            "Epoch 33/100\n",
            "16/16 [==============================] - 0s 3ms/step - loss: 316.2846 - mae: 316.2846 - val_loss: 1988.9019 - val_mae: 1988.9019\n",
            "INFO:tensorflow:Assets written to: model_experiments/model_3_dense/assets\n",
            "Epoch 34/100\n",
            "16/16 [==============================] - 0s 3ms/step - loss: 306.4348 - mae: 306.4348 - val_loss: 1996.0857 - val_mae: 1996.0857\n",
            "Epoch 35/100\n",
            "16/16 [==============================] - 0s 3ms/step - loss: 312.7160 - mae: 312.7160 - val_loss: 2015.5900 - val_mae: 2015.5900\n",
            "Epoch 36/100\n",
            "16/16 [==============================] - 0s 3ms/step - loss: 311.1476 - mae: 311.1476 - val_loss: 2044.7690 - val_mae: 2044.7690\n",
            "Epoch 37/100\n",
            "16/16 [==============================] - 0s 4ms/step - loss: 307.8473 - mae: 307.8473 - val_loss: 1960.8058 - val_mae: 1960.8058\n",
            "INFO:tensorflow:Assets written to: model_experiments/model_3_dense/assets\n",
            "Epoch 38/100\n",
            "16/16 [==============================] - 0s 3ms/step - loss: 302.0722 - mae: 302.0722 - val_loss: 1970.6405 - val_mae: 1970.6405\n",
            "Epoch 39/100\n",
            "16/16 [==============================] - 0s 3ms/step - loss: 301.6693 - mae: 301.6693 - val_loss: 2032.9036 - val_mae: 2032.9036\n",
            "Epoch 40/100\n",
            "16/16 [==============================] - 0s 3ms/step - loss: 306.2655 - mae: 306.2655 - val_loss: 1988.1572 - val_mae: 1988.1572\n",
            "Epoch 41/100\n",
            "16/16 [==============================] - 0s 3ms/step - loss: 298.8350 - mae: 298.8350 - val_loss: 2011.1617 - val_mae: 2011.1617\n",
            "Epoch 42/100\n",
            "16/16 [==============================] - 0s 3ms/step - loss: 300.7599 - mae: 300.7599 - val_loss: 2010.3347 - val_mae: 2010.3347\n",
            "Epoch 43/100\n",
            "16/16 [==============================] - 0s 3ms/step - loss: 300.0623 - mae: 300.0623 - val_loss: 2022.8334 - val_mae: 2022.8334\n",
            "Epoch 44/100\n",
            "16/16 [==============================] - 0s 3ms/step - loss: 304.3277 - mae: 304.3277 - val_loss: 1992.5375 - val_mae: 1992.5375\n",
            "Epoch 45/100\n",
            "16/16 [==============================] - 0s 3ms/step - loss: 301.5599 - mae: 301.5599 - val_loss: 1933.3765 - val_mae: 1933.3765\n",
            "INFO:tensorflow:Assets written to: model_experiments/model_3_dense/assets\n",
            "Epoch 46/100\n",
            "16/16 [==============================] - 0s 3ms/step - loss: 295.0535 - mae: 295.0535 - val_loss: 1958.6219 - val_mae: 1958.6219\n",
            "Epoch 47/100\n",
            "16/16 [==============================] - 0s 3ms/step - loss: 296.5941 - mae: 296.5941 - val_loss: 1947.5950 - val_mae: 1947.5950\n",
            "Epoch 48/100\n",
            "16/16 [==============================] - 0s 3ms/step - loss: 302.1281 - mae: 302.1281 - val_loss: 1990.8164 - val_mae: 1990.8164\n",
            "Epoch 49/100\n",
            "16/16 [==============================] - 0s 3ms/step - loss: 297.8407 - mae: 297.8407 - val_loss: 1937.3973 - val_mae: 1937.3973\n",
            "Epoch 50/100\n",
            "16/16 [==============================] - 0s 3ms/step - loss: 298.4727 - mae: 298.4727 - val_loss: 1999.2277 - val_mae: 1999.2277\n",
            "Epoch 51/100\n",
            "16/16 [==============================] - 0s 3ms/step - loss: 302.6945 - mae: 302.6945 - val_loss: 1927.8484 - val_mae: 1927.8484\n",
            "INFO:tensorflow:Assets written to: model_experiments/model_3_dense/assets\n",
            "Epoch 52/100\n",
            "16/16 [==============================] - 0s 3ms/step - loss: 295.1214 - mae: 295.1214 - val_loss: 2032.6377 - val_mae: 2032.6377\n",
            "Epoch 53/100\n",
            "16/16 [==============================] - 0s 3ms/step - loss: 302.7461 - mae: 302.7461 - val_loss: 1943.7644 - val_mae: 1943.7644\n",
            "Epoch 54/100\n",
            "16/16 [==============================] - 0s 3ms/step - loss: 296.2086 - mae: 296.2086 - val_loss: 1898.8439 - val_mae: 1898.8439\n",
            "INFO:tensorflow:Assets written to: model_experiments/model_3_dense/assets\n",
            "Epoch 55/100\n",
            "16/16 [==============================] - 0s 3ms/step - loss: 291.9867 - mae: 291.9867 - val_loss: 2043.1982 - val_mae: 2043.1982\n",
            "Epoch 56/100\n",
            "16/16 [==============================] - 0s 3ms/step - loss: 294.7918 - mae: 294.7918 - val_loss: 1933.3907 - val_mae: 1933.3907\n",
            "Epoch 57/100\n",
            "16/16 [==============================] - 0s 3ms/step - loss: 295.4597 - mae: 295.4597 - val_loss: 2009.9670 - val_mae: 2009.9670\n",
            "Epoch 58/100\n",
            "16/16 [==============================] - 0s 3ms/step - loss: 302.0442 - mae: 302.0442 - val_loss: 1924.9440 - val_mae: 1924.9440\n",
            "Epoch 59/100\n",
            "16/16 [==============================] - 0s 3ms/step - loss: 297.7333 - mae: 297.7333 - val_loss: 1898.1711 - val_mae: 1898.1711\n",
            "INFO:tensorflow:Assets written to: model_experiments/model_3_dense/assets\n",
            "Epoch 60/100\n",
            "16/16 [==============================] - 0s 4ms/step - loss: 294.8949 - mae: 294.8949 - val_loss: 1950.3782 - val_mae: 1950.3782\n",
            "Epoch 61/100\n",
            "16/16 [==============================] - 0s 3ms/step - loss: 297.4928 - mae: 297.4928 - val_loss: 1899.0645 - val_mae: 1899.0645\n",
            "Epoch 62/100\n",
            "16/16 [==============================] - 0s 4ms/step - loss: 299.8395 - mae: 299.8395 - val_loss: 2146.7329 - val_mae: 2146.7329\n",
            "Epoch 63/100\n",
            "16/16 [==============================] - 0s 4ms/step - loss: 297.8630 - mae: 297.8630 - val_loss: 1905.5355 - val_mae: 1905.5355\n",
            "Epoch 64/100\n",
            "16/16 [==============================] - 0s 3ms/step - loss: 290.9833 - mae: 290.9833 - val_loss: 1872.4323 - val_mae: 1872.4323\n",
            "INFO:tensorflow:Assets written to: model_experiments/model_3_dense/assets\n",
            "Epoch 65/100\n",
            "16/16 [==============================] - 0s 3ms/step - loss: 287.1967 - mae: 287.1967 - val_loss: 1875.4089 - val_mae: 1875.4089\n",
            "Epoch 66/100\n",
            "16/16 [==============================] - 0s 3ms/step - loss: 285.7893 - mae: 285.7893 - val_loss: 1919.9037 - val_mae: 1919.9037\n",
            "Epoch 67/100\n",
            "16/16 [==============================] - 0s 3ms/step - loss: 285.8632 - mae: 285.8632 - val_loss: 1885.2523 - val_mae: 1885.2523\n",
            "Epoch 68/100\n",
            "16/16 [==============================] - 0s 3ms/step - loss: 287.9617 - mae: 287.9617 - val_loss: 1869.4659 - val_mae: 1869.4659\n",
            "INFO:tensorflow:Assets written to: model_experiments/model_3_dense/assets\n",
            "Epoch 69/100\n",
            "16/16 [==============================] - 0s 3ms/step - loss: 291.9789 - mae: 291.9789 - val_loss: 1967.3484 - val_mae: 1967.3484\n",
            "Epoch 70/100\n",
            "16/16 [==============================] - 0s 4ms/step - loss: 285.1809 - mae: 285.1809 - val_loss: 1867.5043 - val_mae: 1867.5043\n",
            "INFO:tensorflow:Assets written to: model_experiments/model_3_dense/assets\n",
            "Epoch 71/100\n",
            "16/16 [==============================] - 0s 3ms/step - loss: 290.0490 - mae: 290.0490 - val_loss: 2032.8943 - val_mae: 2032.8943\n",
            "Epoch 72/100\n",
            "16/16 [==============================] - 0s 3ms/step - loss: 290.8929 - mae: 290.8929 - val_loss: 1946.8132 - val_mae: 1946.8132\n",
            "Epoch 73/100\n",
            "16/16 [==============================] - 0s 3ms/step - loss: 290.5961 - mae: 290.5961 - val_loss: 1924.2891 - val_mae: 1924.2891\n",
            "Epoch 74/100\n",
            "16/16 [==============================] - 0s 3ms/step - loss: 283.5700 - mae: 283.5700 - val_loss: 1887.0289 - val_mae: 1887.0289\n",
            "Epoch 75/100\n",
            "16/16 [==============================] - 0s 3ms/step - loss: 285.4883 - mae: 285.4883 - val_loss: 1883.1636 - val_mae: 1883.1636\n",
            "Epoch 76/100\n",
            "16/16 [==============================] - 0s 3ms/step - loss: 283.5219 - mae: 283.5219 - val_loss: 1898.9724 - val_mae: 1898.9724\n",
            "Epoch 77/100\n",
            "16/16 [==============================] - 0s 3ms/step - loss: 283.2758 - mae: 283.2758 - val_loss: 1853.0690 - val_mae: 1853.0690\n",
            "INFO:tensorflow:Assets written to: model_experiments/model_3_dense/assets\n",
            "Epoch 78/100\n",
            "16/16 [==============================] - 0s 3ms/step - loss: 285.8620 - mae: 285.8620 - val_loss: 1861.6368 - val_mae: 1861.6368\n",
            "Epoch 79/100\n",
            "16/16 [==============================] - 0s 3ms/step - loss: 290.8654 - mae: 290.8654 - val_loss: 1876.8239 - val_mae: 1876.8239\n",
            "Epoch 80/100\n",
            "16/16 [==============================] - 0s 3ms/step - loss: 286.6828 - mae: 286.6828 - val_loss: 1860.6603 - val_mae: 1860.6603\n",
            "Epoch 81/100\n",
            "16/16 [==============================] - 0s 3ms/step - loss: 281.9046 - mae: 281.9046 - val_loss: 1840.5361 - val_mae: 1840.5361\n",
            "INFO:tensorflow:Assets written to: model_experiments/model_3_dense/assets\n",
            "Epoch 82/100\n",
            "16/16 [==============================] - 0s 3ms/step - loss: 283.0014 - mae: 283.0014 - val_loss: 1863.0631 - val_mae: 1863.0631\n",
            "Epoch 83/100\n",
            "16/16 [==============================] - 0s 3ms/step - loss: 287.5324 - mae: 287.5324 - val_loss: 2118.7395 - val_mae: 2118.7395\n",
            "Epoch 84/100\n",
            "16/16 [==============================] - 0s 3ms/step - loss: 288.0143 - mae: 288.0143 - val_loss: 1861.0276 - val_mae: 1861.0276\n",
            "Epoch 85/100\n",
            "16/16 [==============================] - 0s 3ms/step - loss: 288.7103 - mae: 288.7103 - val_loss: 2207.4814 - val_mae: 2207.4814\n",
            "Epoch 86/100\n",
            "16/16 [==============================] - 0s 3ms/step - loss: 296.4471 - mae: 296.4471 - val_loss: 1845.0596 - val_mae: 1845.0596\n",
            "Epoch 87/100\n",
            "16/16 [==============================] - 0s 3ms/step - loss: 285.5485 - mae: 285.5485 - val_loss: 1864.7166 - val_mae: 1864.7166\n",
            "Epoch 88/100\n",
            "16/16 [==============================] - 0s 3ms/step - loss: 280.4612 - mae: 280.4612 - val_loss: 1832.5562 - val_mae: 1832.5562\n",
            "INFO:tensorflow:Assets written to: model_experiments/model_3_dense/assets\n",
            "Epoch 89/100\n",
            "16/16 [==============================] - 0s 3ms/step - loss: 278.6358 - mae: 278.6358 - val_loss: 1874.4449 - val_mae: 1874.4449\n",
            "Epoch 90/100\n",
            "16/16 [==============================] - 0s 3ms/step - loss: 279.1858 - mae: 279.1858 - val_loss: 1892.4867 - val_mae: 1892.4867\n",
            "Epoch 91/100\n",
            "16/16 [==============================] - 0s 3ms/step - loss: 283.1675 - mae: 283.1675 - val_loss: 1969.4856 - val_mae: 1969.4856\n",
            "Epoch 92/100\n",
            "16/16 [==============================] - 0s 4ms/step - loss: 283.9365 - mae: 283.9365 - val_loss: 1848.1680 - val_mae: 1848.1680\n",
            "Epoch 93/100\n",
            "16/16 [==============================] - 0s 3ms/step - loss: 290.9091 - mae: 290.9091 - val_loss: 1896.6744 - val_mae: 1896.6744\n",
            "Epoch 94/100\n",
            "16/16 [==============================] - 0s 3ms/step - loss: 283.1651 - mae: 283.1651 - val_loss: 2044.0585 - val_mae: 2044.0585\n",
            "Epoch 95/100\n",
            "16/16 [==============================] - 0s 3ms/step - loss: 288.5194 - mae: 288.5194 - val_loss: 1878.9216 - val_mae: 1878.9216\n",
            "Epoch 96/100\n",
            "16/16 [==============================] - 0s 3ms/step - loss: 279.7530 - mae: 279.7530 - val_loss: 1864.4092 - val_mae: 1864.4092\n",
            "Epoch 97/100\n",
            "16/16 [==============================] - 0s 3ms/step - loss: 277.9621 - mae: 277.9621 - val_loss: 1823.0620 - val_mae: 1823.0620\n",
            "INFO:tensorflow:Assets written to: model_experiments/model_3_dense/assets\n",
            "Epoch 98/100\n",
            "16/16 [==============================] - 0s 3ms/step - loss: 276.1623 - mae: 276.1623 - val_loss: 1871.3123 - val_mae: 1871.3124\n",
            "Epoch 99/100\n",
            "16/16 [==============================] - 0s 3ms/step - loss: 281.0722 - mae: 281.0722 - val_loss: 1834.5243 - val_mae: 1834.5243\n",
            "Epoch 100/100\n",
            "16/16 [==============================] - 0s 3ms/step - loss: 278.2821 - mae: 278.2821 - val_loss: 1817.1309 - val_mae: 1817.1309\n",
            "INFO:tensorflow:Assets written to: model_experiments/model_3_dense/assets\n"
          ]
        }
      ]
    },
    {
      "cell_type": "code",
      "metadata": {
        "colab": {
          "base_uri": "https://localhost:8080/"
        },
        "id": "N2D_XGw-spsr",
        "outputId": "247e5f71-01cd-47ad-bf4b-2f6008d040e7"
      },
      "source": [
        "# Load in the best saved model\n",
        "model_3 = tf.keras.models.load_model(\"model_experiments/model_3_dense/\")\n",
        "model_3.evaluate(test_windows, test_labels)"
      ],
      "execution_count": 71,
      "outputs": [
        {
          "output_type": "stream",
          "name": "stdout",
          "text": [
            "16/16 [==============================] - 0s 1ms/step - loss: 1817.1307 - mae: 1817.1307\n"
          ]
        },
        {
          "output_type": "execute_result",
          "data": {
            "text/plain": [
              "[1817.1307373046875, 1817.1307373046875]"
            ]
          },
          "metadata": {},
          "execution_count": 71
        }
      ]
    },
    {
      "cell_type": "code",
      "metadata": {
        "colab": {
          "base_uri": "https://localhost:8080/"
        },
        "id": "_P49zWyFtfqY",
        "outputId": "0a3e7b02-38b6-41e3-b089-b93a9f2919de"
      },
      "source": [
        "# Make preds\n",
        "model_3_preds = make_preds(model=model_3, input_data=test_windows)\n",
        "model_3_preds[:5],model_3_preds.ndim"
      ],
      "execution_count": 76,
      "outputs": [
        {
          "output_type": "execute_result",
          "data": {
            "text/plain": [
              "(<tf.Tensor: shape=(5, 7), dtype=float32, numpy=\n",
              " array([[7571.9995, 7459.327 , 7571.0347, 7400.805 , 7509.6587, 7466.567 ,\n",
              "         7387.042 ],\n",
              "        [7688.5776, 7643.0254, 7725.498 , 7674.7764, 7620.1323, 7602.736 ,\n",
              "         7584.54  ],\n",
              "        [7774.175 , 7691.295 , 7716.9185, 7766.4497, 7888.3247, 7658.84  ,\n",
              "         7731.871 ],\n",
              "        [7796.642 , 7698.3486, 7750.1875, 7802.169 , 7762.184 , 7793.1226,\n",
              "         7705.975 ],\n",
              "        [8540.402 , 8338.788 , 8460.016 , 8425.771 , 8518.093 , 8520.993 ,\n",
              "         8205.711 ]], dtype=float32)>, 2)"
            ]
          },
          "metadata": {},
          "execution_count": 76
        }
      ]
    },
    {
      "cell_type": "code",
      "metadata": {
        "id": "zE77Ekr3vz33"
      },
      "source": [
        "# Restructuring the function to take in model predictions and truth values and return evaluation metrics\n",
        "def evaluate_preds (y_true,y_pred):\n",
        "  # Make sure float32 datatype (for metric calculations)\n",
        "  y_true = tf.cast(y_true, dtype=tf.float32)\n",
        "  y_pred = tf.cast(y_pred, dtype=tf.float32)\n",
        "\n",
        "  # Calculate various evaluation metrics\n",
        "  mae = tf.keras.metrics.mean_absolute_error(y_true,y_pred)\n",
        "  mse = tf.keras.metrics.mean_squared_error(y_true,y_pred)\n",
        "  rmse = mse**0.5\n",
        "  mape = tf.keras.metrics.mean_absolute_percentage_error(y_true,y_pred)\n",
        "  mase = mean_absolute_scaled_error(y_true,y_pred)\n",
        "\n",
        "  # Account for different sized metrics (for longer horizons, we want to reduce metrics to a single value)\n",
        "  if mae.ndim > 0:\n",
        "    mae = tf.reduce_mean(mae)\n",
        "    mse = tf.reduce_mean(mse)\n",
        "    rmse = tf.reduce_mean(rmse)\n",
        "    mape = tf.reduce_mean(mape)\n",
        "    mase = tf.reduce_mean(mase)\n",
        "\n",
        "  return {\"mae\":mae.numpy(),\n",
        "          \"mse\":mse.numpy(),\n",
        "          \"rmse\":rmse.numpy(),\n",
        "          \"mape\":mape.numpy(),\n",
        "          \"mase\":mase.numpy()}"
      ],
      "execution_count": 73,
      "outputs": []
    },
    {
      "cell_type": "code",
      "metadata": {
        "colab": {
          "base_uri": "https://localhost:8080/"
        },
        "id": "H4kZtVY3vaSP",
        "outputId": "82f1b959-2536-443e-df13-ce902b74e6e5"
      },
      "source": [
        "model_3_results = evaluate_preds(y_true=test_labels,y_pred=model_3_preds)\n",
        "model_3_results"
      ],
      "execution_count": 78,
      "outputs": [
        {
          "output_type": "execute_result",
          "data": {
            "text/plain": [
              "{'mae': 1817.1309,\n",
              " 'mape': 5.6172037,\n",
              " 'mase': 2.1833835,\n",
              " 'mse': 8777573.0,\n",
              " 'rmse': 2074.0474}"
            ]
          },
          "metadata": {},
          "execution_count": 78
        }
      ]
    },
    {
      "cell_type": "code",
      "metadata": {
        "colab": {
          "base_uri": "https://localhost:8080/",
          "height": 442
        },
        "id": "cawvFyhPty0w",
        "outputId": "fa8321f9-b256-44e9-d4f1-477ae7a36625"
      },
      "source": [
        "# Plot the model \n",
        "plt.figure(figsize=(12,7))\n",
        "plot_time_series(timesteps=X_test[-len(test_windows):],\n",
        "                 values=test_labels[:,0],\n",
        "                 format=\".\",\n",
        "                 label=\"Testing data\")\n",
        "plot_time_series(timesteps=X_test[-len(test_windows):],\n",
        "                 values=tf.reduce_mean(model_3_preds,axis=1),\n",
        "                 format=\"-\",\n",
        "                 label=\"Predicted\")"
      ],
      "execution_count": 79,
      "outputs": [
        {
          "output_type": "display_data",
          "data": {
            "image/png": "[encoded data removed]",
            "text/plain": [
              "<Figure size 864x504 with 1 Axes>"
            ]
          },
          "metadata": {
            "needs_background": "light"
          }
        }
      ]
    },
    {
      "cell_type": "markdown",
      "metadata": {
        "id": "EQ7-ibct2-hb"
      },
      "source": [
        "## Which of our models is performing the best so far?\n",
        "\n",
        "So we've trained a few models, now let's compare them and see how they've gone..."
      ]
    },
    {
      "cell_type": "code",
      "metadata": {
        "colab": {
          "base_uri": "https://localhost:8080/",
          "height": 440
        },
        "id": "-FPlxJXgeRSQ",
        "outputId": "01d8e932-dce0-4df2-9e4c-36c28aa57802"
      },
      "source": [
        "pd.DataFrame({\"naive\":naive_results[\"mae\"],\n",
        "              \"window_7_horizon_1\":model_1_results[\"mae\"],\n",
        "              \"window_30_horizon_1\":model_2_results[\"mae\"],\n",
        "              \"window_30_horizon_7\":model_3_results[\"mae\"]},index=[\"mae\"]).plot(kind=\"bar\",figsize=(10,7));"
      ],
      "execution_count": 81,
      "outputs": [
        {
          "output_type": "display_data",
          "data": {
            "image/png": "[encoded data removed]",
            "text/plain": [
              "<Figure size 720x504 with 1 Axes>"
            ]
          },
          "metadata": {
            "needs_background": "light"
          }
        }
      ]
    },
    {
      "cell_type": "markdown",
      "metadata": {
        "id": "msCGGRezgJZ3"
      },
      "source": [
        "Our naive model is performing best (it's very hard to beat a naive model in open systems) but the dense model with a horizon of 1 and a window size of 7 looks to be performing closest. \n",
        "\n",
        "Because of this, let's use `HORIZON=1` and `WINDOW_SIZE=7` for our next series of modelling experiments (in other words, we'll use the previous week of Bitcoin prices to try and predict the next day).\n",
        "\n",
        "> **Note:** Why are the naive results so good? One of the reasons could be due to the presence of autocorrelation in the data. If a time series has autocorrelation, it means the value at `t+1` (the next timestep) is typically close to the value at `t` (the current timestep). In other words, today's value is probably pretty close to yesterday's value. Ofcourse, this isn't always the case but when it is, a naive model will often get fairly good results.\n",
        "\n",
        "**Resource:** For more on how autocorrelation influence a model's predictions, see the article [How (not) to use Machine Learning for time series forecasting: Avoiding the pitfalls](https://towardsdatascience.com/how-not-to-use-machine-learning-for-time-series-forecasting-avoiding-the-pitfalls-19f9d7adf424) by Vegard Flovik"
      ]
    },
    {
      "cell_type": "markdown",
      "metadata": {
        "id": "DTGantMxlemf"
      },
      "source": [
        "## Model 4: Conv1D"
      ]
    },
    {
      "cell_type": "code",
      "metadata": {
        "id": "KAdHRUwQovWt"
      },
      "source": [
        "HORIZON = 1 # predict next day of Bitcoin prices\n",
        "WINDOW_SIZE = 7 # use previous week worth data"
      ],
      "execution_count": 102,
      "outputs": []
    },
    {
      "cell_type": "code",
      "metadata": {
        "colab": {
          "base_uri": "https://localhost:8080/"
        },
        "id": "wPZc8Yygo9Iz",
        "outputId": "c7eb0d5f-7ed0-4bbb-afcc-9d27d627ff46"
      },
      "source": [
        "# Create window dataset\n",
        "full_windows, full_labels = make_windows(x=prices,window_size=WINDOW_SIZE, horizon=HORIZON)\n",
        "len(full_windows), len(full_labels)"
      ],
      "execution_count": 103,
      "outputs": [
        {
          "output_type": "execute_result",
          "data": {
            "text/plain": [
              "(2493, 2493)"
            ]
          },
          "metadata": {},
          "execution_count": 103
        }
      ]
    },
    {
      "cell_type": "code",
      "metadata": {
        "colab": {
          "base_uri": "https://localhost:8080/"
        },
        "id": "Mt6TkKlfpSpG",
        "outputId": "04a386b0-081a-4e63-fcf6-676729d5a753"
      },
      "source": [
        "# Create splitting\n",
        "train_windows, test_windows, train_labels, test_labels = make_train_test_splits(windows=full_windows,\n",
        "                                                                                labels=full_labels,\n",
        "                                                                                test_split=0.2)\n",
        "len(train_windows), len(test_windows), len(train_labels), len(test_labels)"
      ],
      "execution_count": 106,
      "outputs": [
        {
          "output_type": "execute_result",
          "data": {
            "text/plain": [
              "(1994, 499, 1994, 499)"
            ]
          },
          "metadata": {},
          "execution_count": 106
        }
      ]
    },
    {
      "cell_type": "markdown",
      "metadata": {
        "id": "NAlprbfrrS50"
      },
      "source": [
        "To use the Conv1D layer, we need an input shape of: `(batch_size,timesteps,input_dim)`...\n",
        "However our data isn't in that shape yet.."
      ]
    },
    {
      "cell_type": "code",
      "metadata": {
        "colab": {
          "base_uri": "https://localhost:8080/"
        },
        "id": "MqzyLdCermOO",
        "outputId": "d8bb735a-2bf9-4ac0-a659-01c2eeb4c67c"
      },
      "source": [
        "# Check data input shape\n",
        "train_windows[0].shape"
      ],
      "execution_count": 108,
      "outputs": [
        {
          "output_type": "execute_result",
          "data": {
            "text/plain": [
              "(7,)"
            ]
          },
          "metadata": {},
          "execution_count": 108
        }
      ]
    },
    {
      "cell_type": "code",
      "metadata": {
        "colab": {
          "base_uri": "https://localhost:8080/"
        },
        "id": "Qo-_RrP9sTQG",
        "outputId": "95ec0d5d-d602-4c48-ade1-8e9deeb671cb"
      },
      "source": [
        "# Before we pass our data to the Conv1D layer, we have to reshape it in order to make sure it works\n",
        "x = tf.constant(train_windows[0])\n",
        "x"
      ],
      "execution_count": 109,
      "outputs": [
        {
          "output_type": "execute_result",
          "data": {
            "text/plain": [
              "<tf.Tensor: shape=(7,), dtype=float64, numpy=\n",
              "array([331.60083, 324.71833, 332.45666, 336.585  , 346.775  , 344.81166,\n",
              "       343.065  ])>"
            ]
          },
          "metadata": {},
          "execution_count": 109
        }
      ]
    },
    {
      "cell_type": "code",
      "metadata": {
        "id": "4NUY2tZvuDXk"
      },
      "source": [
        "expand_dims_layer = layers.Lambda(lambda x: tf.expand_dims(x,axis=1))"
      ],
      "execution_count": 110,
      "outputs": []
    },
    {
      "cell_type": "code",
      "metadata": {
        "colab": {
          "base_uri": "https://localhost:8080/"
        },
        "id": "9wCbKL75uU2l",
        "outputId": "f751fed4-a85e-4c5e-e875-a0418b8042e7"
      },
      "source": [
        "# Test out our lambda layer\n",
        "print(f\"Original shape: {x.shape}\") # (WINDOW_SIZE)\n",
        "print(f\"Expanded shape: {expand_dims_layer(x).shape}\")\n",
        "print(f\"Original values with expanded shape:\\n {expand_dims_layer(x)}\")"
      ],
      "execution_count": 112,
      "outputs": [
        {
          "output_type": "stream",
          "name": "stdout",
          "text": [
            "Original shape: (7,)\n",
            "Expanded shape: (7, 1)\n",
            "Original values with expanded shape:\n",
            " [[331.60083]\n",
            " [324.71832]\n",
            " [332.45667]\n",
            " [336.585  ]\n",
            " [346.775  ]\n",
            " [344.81165]\n",
            " [343.065  ]]\n"
          ]
        }
      ]
    },
    {
      "cell_type": "code",
      "metadata": {
        "colab": {
          "base_uri": "https://localhost:8080/"
        },
        "id": "cJIYsT7dpzEX",
        "outputId": "c774e96b-c40c-4f22-bae8-faff4cd6c12c"
      },
      "source": [
        " # Setup random seed\n",
        " tf.random.set_seed(42)\n",
        "\n",
        " # Create model\n",
        " model_4 = Sequential([\n",
        "  layers.Lambda(lambda x:tf.expand_dims(x,axis=1)), # converts the shape\n",
        "  layers.Conv1D(128,5,1,'causal',activation='relu'),\n",
        "  layers.Dense(1,activation=\"linear\")\n",
        " ],name=\"model_4_Conv1D\")\n",
        " \n",
        " # Compile the model\n",
        " model_4.compile(\n",
        "     loss=\"mae\",\n",
        "     optimizer=Adam(),\n",
        "     metrics=[\"mae\"]\n",
        " )\n",
        " # Fit the model\n",
        " history_model_4 = model_4.fit(train_windows, train_labels,\n",
        "                               epochs=100,batch_size=128,verbose=1,\n",
        "                               validation_data=(test_windows,test_labels),\n",
        "                               callbacks=[create_model_checkpoint(model_name=model_4.name)])"
      ],
      "execution_count": 113,
      "outputs": [
        {
          "output_type": "stream",
          "name": "stdout",
          "text": [
            "Epoch 1/100\n",
            "16/16 [==============================] - 1s 13ms/step - loss: 1762.3950 - mae: 1762.3950 - val_loss: 1790.5188 - val_mae: 1790.5188\n",
            "INFO:tensorflow:Assets written to: model_experiments/model_4_Conv1D/assets\n",
            "Epoch 2/100\n",
            "16/16 [==============================] - 0s 3ms/step - loss: 417.0080 - mae: 417.0080 - val_loss: 2369.6980 - val_mae: 2369.6980\n",
            "Epoch 3/100\n",
            "16/16 [==============================] - 0s 3ms/step - loss: 272.2477 - mae: 272.2477 - val_loss: 1433.1584 - val_mae: 1433.1586\n",
            "INFO:tensorflow:Assets written to: model_experiments/model_4_Conv1D/assets\n",
            "Epoch 4/100\n",
            "16/16 [==============================] - 0s 3ms/step - loss: 224.4579 - mae: 224.4579 - val_loss: 1402.4436 - val_mae: 1402.4436\n",
            "INFO:tensorflow:Assets written to: model_experiments/model_4_Conv1D/assets\n",
            "Epoch 5/100\n",
            "16/16 [==============================] - 0s 3ms/step - loss: 221.2460 - mae: 221.2460 - val_loss: 1385.9487 - val_mae: 1385.9487\n",
            "INFO:tensorflow:Assets written to: model_experiments/model_4_Conv1D/assets\n",
            "Epoch 6/100\n",
            "16/16 [==============================] - 0s 3ms/step - loss: 218.6382 - mae: 218.6382 - val_loss: 1380.8333 - val_mae: 1380.8333\n",
            "INFO:tensorflow:Assets written to: model_experiments/model_4_Conv1D/assets\n",
            "Epoch 7/100\n",
            "16/16 [==============================] - 0s 3ms/step - loss: 213.7435 - mae: 213.7435 - val_loss: 1401.8607 - val_mae: 1401.8607\n",
            "Epoch 8/100\n",
            "16/16 [==============================] - 0s 3ms/step - loss: 211.4577 - mae: 211.4577 - val_loss: 1414.8043 - val_mae: 1414.8043\n",
            "Epoch 9/100\n",
            "16/16 [==============================] - 0s 3ms/step - loss: 209.0965 - mae: 209.0965 - val_loss: 1310.5990 - val_mae: 1310.5990\n",
            "INFO:tensorflow:Assets written to: model_experiments/model_4_Conv1D/assets\n",
            "Epoch 10/100\n",
            "16/16 [==============================] - 0s 3ms/step - loss: 204.3750 - mae: 204.3750 - val_loss: 1295.1797 - val_mae: 1295.1797\n",
            "INFO:tensorflow:Assets written to: model_experiments/model_4_Conv1D/assets\n",
            "Epoch 11/100\n",
            "16/16 [==============================] - 0s 3ms/step - loss: 200.2806 - mae: 200.2806 - val_loss: 1273.0831 - val_mae: 1273.0831\n",
            "INFO:tensorflow:Assets written to: model_experiments/model_4_Conv1D/assets\n",
            "Epoch 12/100\n",
            "16/16 [==============================] - 0s 3ms/step - loss: 197.1459 - mae: 197.1459 - val_loss: 1298.4768 - val_mae: 1298.4768\n",
            "Epoch 13/100\n",
            "16/16 [==============================] - 0s 3ms/step - loss: 193.9412 - mae: 193.9412 - val_loss: 1250.3495 - val_mae: 1250.3495\n",
            "INFO:tensorflow:Assets written to: model_experiments/model_4_Conv1D/assets\n",
            "Epoch 14/100\n",
            "16/16 [==============================] - 0s 3ms/step - loss: 189.0644 - mae: 189.0644 - val_loss: 1267.9304 - val_mae: 1267.9304\n",
            "Epoch 15/100\n",
            "16/16 [==============================] - 0s 3ms/step - loss: 185.9681 - mae: 185.9681 - val_loss: 1180.3607 - val_mae: 1180.3607\n",
            "INFO:tensorflow:Assets written to: model_experiments/model_4_Conv1D/assets\n",
            "Epoch 16/100\n",
            "16/16 [==============================] - 0s 3ms/step - loss: 182.2309 - mae: 182.2309 - val_loss: 1209.0496 - val_mae: 1209.0496\n",
            "Epoch 17/100\n",
            "16/16 [==============================] - 0s 3ms/step - loss: 183.3672 - mae: 183.3672 - val_loss: 1148.5436 - val_mae: 1148.5436\n",
            "INFO:tensorflow:Assets written to: model_experiments/model_4_Conv1D/assets\n",
            "Epoch 18/100\n",
            "16/16 [==============================] - 0s 3ms/step - loss: 176.6850 - mae: 176.6850 - val_loss: 1147.0018 - val_mae: 1147.0018\n",
            "INFO:tensorflow:Assets written to: model_experiments/model_4_Conv1D/assets\n",
            "Epoch 19/100\n",
            "16/16 [==============================] - 0s 3ms/step - loss: 175.1265 - mae: 175.1265 - val_loss: 1097.6652 - val_mae: 1097.6652\n",
            "INFO:tensorflow:Assets written to: model_experiments/model_4_Conv1D/assets\n",
            "Epoch 20/100\n",
            "16/16 [==============================] - 0s 3ms/step - loss: 169.4495 - mae: 169.4495 - val_loss: 1087.7982 - val_mae: 1087.7982\n",
            "INFO:tensorflow:Assets written to: model_experiments/model_4_Conv1D/assets\n",
            "Epoch 21/100\n",
            "16/16 [==============================] - 0s 3ms/step - loss: 167.2677 - mae: 167.2677 - val_loss: 1086.9731 - val_mae: 1086.9731\n",
            "INFO:tensorflow:Assets written to: model_experiments/model_4_Conv1D/assets\n",
            "Epoch 22/100\n",
            "16/16 [==============================] - 0s 3ms/step - loss: 164.1671 - mae: 164.1671 - val_loss: 1111.7031 - val_mae: 1111.7031\n",
            "Epoch 23/100\n",
            "16/16 [==============================] - 0s 3ms/step - loss: 163.8902 - mae: 163.8902 - val_loss: 1037.6250 - val_mae: 1037.6250\n",
            "INFO:tensorflow:Assets written to: model_experiments/model_4_Conv1D/assets\n",
            "Epoch 24/100\n",
            "16/16 [==============================] - 0s 3ms/step - loss: 162.5799 - mae: 162.5799 - val_loss: 1043.3804 - val_mae: 1043.3804\n",
            "Epoch 25/100\n",
            "16/16 [==============================] - 0s 3ms/step - loss: 158.2485 - mae: 158.2485 - val_loss: 1018.5100 - val_mae: 1018.5100\n",
            "INFO:tensorflow:Assets written to: model_experiments/model_4_Conv1D/assets\n",
            "Epoch 26/100\n",
            "16/16 [==============================] - 0s 3ms/step - loss: 157.6567 - mae: 157.6567 - val_loss: 1102.7991 - val_mae: 1102.7991\n",
            "Epoch 27/100\n",
            "16/16 [==============================] - 0s 3ms/step - loss: 159.5453 - mae: 159.5453 - val_loss: 1080.3983 - val_mae: 1080.3983\n",
            "Epoch 28/100\n",
            "16/16 [==============================] - 0s 5ms/step - loss: 153.7852 - mae: 153.7852 - val_loss: 1040.0817 - val_mae: 1040.0817\n",
            "Epoch 29/100\n",
            "16/16 [==============================] - 0s 3ms/step - loss: 150.8795 - mae: 150.8795 - val_loss: 989.2996 - val_mae: 989.2996\n",
            "INFO:tensorflow:Assets written to: model_experiments/model_4_Conv1D/assets\n",
            "Epoch 30/100\n",
            "16/16 [==============================] - 0s 3ms/step - loss: 152.5044 - mae: 152.5044 - val_loss: 1028.8593 - val_mae: 1028.8593\n",
            "Epoch 31/100\n",
            "16/16 [==============================] - 0s 3ms/step - loss: 149.3800 - mae: 149.3800 - val_loss: 961.6696 - val_mae: 961.6696\n",
            "INFO:tensorflow:Assets written to: model_experiments/model_4_Conv1D/assets\n",
            "Epoch 32/100\n",
            "16/16 [==============================] - 0s 3ms/step - loss: 151.9432 - mae: 151.9432 - val_loss: 977.9711 - val_mae: 977.9711\n",
            "Epoch 33/100\n",
            "16/16 [==============================] - 0s 3ms/step - loss: 150.7880 - mae: 150.7880 - val_loss: 935.5011 - val_mae: 935.5011\n",
            "INFO:tensorflow:Assets written to: model_experiments/model_4_Conv1D/assets\n",
            "Epoch 34/100\n",
            "16/16 [==============================] - 0s 3ms/step - loss: 151.1471 - mae: 151.1471 - val_loss: 936.4636 - val_mae: 936.4636\n",
            "Epoch 35/100\n",
            "16/16 [==============================] - 0s 4ms/step - loss: 150.5846 - mae: 150.5846 - val_loss: 992.7371 - val_mae: 992.7371\n",
            "Epoch 36/100\n",
            "16/16 [==============================] - 0s 3ms/step - loss: 145.9701 - mae: 145.9701 - val_loss: 941.5331 - val_mae: 941.5331\n",
            "Epoch 37/100\n",
            "16/16 [==============================] - 0s 3ms/step - loss: 142.8705 - mae: 142.8705 - val_loss: 930.5798 - val_mae: 930.5798\n",
            "INFO:tensorflow:Assets written to: model_experiments/model_4_Conv1D/assets\n",
            "Epoch 38/100\n",
            "16/16 [==============================] - 0s 3ms/step - loss: 143.3177 - mae: 143.3177 - val_loss: 958.4493 - val_mae: 958.4493\n",
            "Epoch 39/100\n",
            "16/16 [==============================] - 0s 3ms/step - loss: 144.1246 - mae: 144.1246 - val_loss: 988.2712 - val_mae: 988.2712\n",
            "Epoch 40/100\n",
            "16/16 [==============================] - 0s 3ms/step - loss: 150.6351 - mae: 150.6351 - val_loss: 901.0288 - val_mae: 901.0288\n",
            "INFO:tensorflow:Assets written to: model_experiments/model_4_Conv1D/assets\n",
            "Epoch 41/100\n",
            "16/16 [==============================] - 0s 3ms/step - loss: 148.8249 - mae: 148.8249 - val_loss: 926.6837 - val_mae: 926.6837\n",
            "Epoch 42/100\n",
            "16/16 [==============================] - 0s 4ms/step - loss: 144.5206 - mae: 144.5206 - val_loss: 894.2092 - val_mae: 894.2092\n",
            "INFO:tensorflow:Assets written to: model_experiments/model_4_Conv1D/assets\n",
            "Epoch 43/100\n",
            "16/16 [==============================] - 0s 4ms/step - loss: 140.1847 - mae: 140.1847 - val_loss: 892.1653 - val_mae: 892.1653\n",
            "INFO:tensorflow:Assets written to: model_experiments/model_4_Conv1D/assets\n",
            "Epoch 44/100\n",
            "16/16 [==============================] - 0s 3ms/step - loss: 143.7050 - mae: 143.7050 - val_loss: 888.7815 - val_mae: 888.7815\n",
            "INFO:tensorflow:Assets written to: model_experiments/model_4_Conv1D/assets\n",
            "Epoch 45/100\n",
            "16/16 [==============================] - 0s 3ms/step - loss: 139.4814 - mae: 139.4814 - val_loss: 929.4542 - val_mae: 929.4542\n",
            "Epoch 46/100\n",
            "16/16 [==============================] - 0s 3ms/step - loss: 140.1054 - mae: 140.1054 - val_loss: 886.2781 - val_mae: 886.2781\n",
            "INFO:tensorflow:Assets written to: model_experiments/model_4_Conv1D/assets\n",
            "Epoch 47/100\n",
            "16/16 [==============================] - 0s 3ms/step - loss: 142.5264 - mae: 142.5264 - val_loss: 1048.5604 - val_mae: 1048.5604\n",
            "Epoch 48/100\n",
            "16/16 [==============================] - 0s 3ms/step - loss: 144.1129 - mae: 144.1129 - val_loss: 899.5377 - val_mae: 899.5377\n",
            "Epoch 49/100\n",
            "16/16 [==============================] - 0s 3ms/step - loss: 140.5721 - mae: 140.5721 - val_loss: 969.9793 - val_mae: 969.9793\n",
            "Epoch 50/100\n",
            "16/16 [==============================] - 0s 3ms/step - loss: 140.3360 - mae: 140.3360 - val_loss: 895.5348 - val_mae: 895.5348\n",
            "Epoch 51/100\n",
            "16/16 [==============================] - 0s 4ms/step - loss: 139.1623 - mae: 139.1623 - val_loss: 903.8200 - val_mae: 903.8200\n",
            "Epoch 52/100\n",
            "16/16 [==============================] - 0s 3ms/step - loss: 139.8061 - mae: 139.8061 - val_loss: 903.0126 - val_mae: 903.0126\n",
            "Epoch 53/100\n",
            "16/16 [==============================] - 0s 3ms/step - loss: 138.8530 - mae: 138.8530 - val_loss: 873.3885 - val_mae: 873.3885\n",
            "INFO:tensorflow:Assets written to: model_experiments/model_4_Conv1D/assets\n",
            "Epoch 54/100\n",
            "16/16 [==============================] - 0s 4ms/step - loss: 139.4339 - mae: 139.4339 - val_loss: 869.5638 - val_mae: 869.5638\n",
            "INFO:tensorflow:Assets written to: model_experiments/model_4_Conv1D/assets\n",
            "Epoch 55/100\n",
            "16/16 [==============================] - 0s 3ms/step - loss: 138.0739 - mae: 138.0739 - val_loss: 961.9393 - val_mae: 961.9393\n",
            "Epoch 56/100\n",
            "16/16 [==============================] - 0s 3ms/step - loss: 138.2651 - mae: 138.2651 - val_loss: 873.1928 - val_mae: 873.1928\n",
            "Epoch 57/100\n",
            "16/16 [==============================] - 0s 3ms/step - loss: 139.0695 - mae: 139.0695 - val_loss: 889.3538 - val_mae: 889.3538\n",
            "Epoch 58/100\n",
            "16/16 [==============================] - 0s 3ms/step - loss: 136.3482 - mae: 136.3482 - val_loss: 886.3126 - val_mae: 886.3126\n",
            "Epoch 59/100\n",
            "16/16 [==============================] - 0s 3ms/step - loss: 137.0099 - mae: 137.0099 - val_loss: 944.8047 - val_mae: 944.8047\n",
            "Epoch 60/100\n",
            "16/16 [==============================] - 0s 3ms/step - loss: 139.3009 - mae: 139.3009 - val_loss: 872.9930 - val_mae: 872.9930\n",
            "Epoch 61/100\n",
            "16/16 [==============================] - 0s 3ms/step - loss: 136.8415 - mae: 136.8415 - val_loss: 883.0641 - val_mae: 883.0641\n",
            "Epoch 62/100\n",
            "16/16 [==============================] - 0s 3ms/step - loss: 138.6380 - mae: 138.6380 - val_loss: 855.8463 - val_mae: 855.8463\n",
            "INFO:tensorflow:Assets written to: model_experiments/model_4_Conv1D/assets\n",
            "Epoch 63/100\n",
            "16/16 [==============================] - 0s 3ms/step - loss: 139.0509 - mae: 139.0509 - val_loss: 854.7079 - val_mae: 854.7079\n",
            "INFO:tensorflow:Assets written to: model_experiments/model_4_Conv1D/assets\n",
            "Epoch 64/100\n",
            "16/16 [==============================] - 0s 3ms/step - loss: 134.2496 - mae: 134.2496 - val_loss: 858.1433 - val_mae: 858.1433\n",
            "Epoch 65/100\n",
            "16/16 [==============================] - 0s 3ms/step - loss: 136.2531 - mae: 136.2531 - val_loss: 857.6487 - val_mae: 857.6487\n",
            "Epoch 66/100\n",
            "16/16 [==============================] - 0s 3ms/step - loss: 138.5467 - mae: 138.5467 - val_loss: 916.3354 - val_mae: 916.3354\n",
            "Epoch 67/100\n",
            "16/16 [==============================] - 0s 3ms/step - loss: 138.2588 - mae: 138.2588 - val_loss: 887.1723 - val_mae: 887.1723\n",
            "Epoch 68/100\n",
            "16/16 [==============================] - 0s 4ms/step - loss: 137.8808 - mae: 137.8808 - val_loss: 891.8625 - val_mae: 891.8625\n",
            "Epoch 69/100\n",
            "16/16 [==============================] - 0s 3ms/step - loss: 135.3381 - mae: 135.3381 - val_loss: 874.5135 - val_mae: 874.5135\n",
            "Epoch 70/100\n",
            "16/16 [==============================] - 0s 3ms/step - loss: 135.4318 - mae: 135.4318 - val_loss: 900.5667 - val_mae: 900.5667\n",
            "Epoch 71/100\n",
            "16/16 [==============================] - 0s 3ms/step - loss: 137.7804 - mae: 137.7804 - val_loss: 972.0120 - val_mae: 972.0120\n",
            "Epoch 72/100\n",
            "16/16 [==============================] - 0s 3ms/step - loss: 138.6437 - mae: 138.6437 - val_loss: 980.7978 - val_mae: 980.7978\n",
            "Epoch 73/100\n",
            "16/16 [==============================] - 0s 3ms/step - loss: 137.7879 - mae: 137.7879 - val_loss: 850.5490 - val_mae: 850.5490\n",
            "INFO:tensorflow:Assets written to: model_experiments/model_4_Conv1D/assets\n",
            "Epoch 74/100\n",
            "16/16 [==============================] - 0s 3ms/step - loss: 133.9326 - mae: 133.9326 - val_loss: 845.1474 - val_mae: 845.1474\n",
            "INFO:tensorflow:Assets written to: model_experiments/model_4_Conv1D/assets\n",
            "Epoch 75/100\n",
            "16/16 [==============================] - 0s 3ms/step - loss: 134.7041 - mae: 134.7041 - val_loss: 860.2382 - val_mae: 860.2382\n",
            "Epoch 76/100\n",
            "16/16 [==============================] - 0s 3ms/step - loss: 144.6970 - mae: 144.6970 - val_loss: 954.4277 - val_mae: 954.4277\n",
            "Epoch 77/100\n",
            "16/16 [==============================] - 0s 3ms/step - loss: 137.6896 - mae: 137.6896 - val_loss: 842.5972 - val_mae: 842.5972\n",
            "INFO:tensorflow:Assets written to: model_experiments/model_4_Conv1D/assets\n",
            "Epoch 78/100\n",
            "16/16 [==============================] - 0s 3ms/step - loss: 137.9053 - mae: 137.9053 - val_loss: 905.7782 - val_mae: 905.7782\n",
            "Epoch 79/100\n",
            "16/16 [==============================] - 0s 4ms/step - loss: 136.2453 - mae: 136.2453 - val_loss: 852.7957 - val_mae: 852.7957\n",
            "Epoch 80/100\n",
            "16/16 [==============================] - 0s 3ms/step - loss: 134.6768 - mae: 134.6768 - val_loss: 845.0593 - val_mae: 845.0593\n",
            "Epoch 81/100\n",
            "16/16 [==============================] - 0s 3ms/step - loss: 134.0938 - mae: 134.0938 - val_loss: 944.7687 - val_mae: 944.7687\n",
            "Epoch 82/100\n",
            "16/16 [==============================] - 0s 3ms/step - loss: 138.3297 - mae: 138.3297 - val_loss: 994.9189 - val_mae: 994.9189\n",
            "Epoch 83/100\n",
            "16/16 [==============================] - 0s 3ms/step - loss: 139.4329 - mae: 139.4329 - val_loss: 849.3465 - val_mae: 849.3465\n",
            "Epoch 84/100\n",
            "16/16 [==============================] - 0s 3ms/step - loss: 134.6086 - mae: 134.6086 - val_loss: 851.6523 - val_mae: 851.6523\n",
            "Epoch 85/100\n",
            "16/16 [==============================] - 0s 4ms/step - loss: 132.6425 - mae: 132.6425 - val_loss: 841.5581 - val_mae: 841.5581\n",
            "INFO:tensorflow:Assets written to: model_experiments/model_4_Conv1D/assets\n",
            "Epoch 86/100\n",
            "16/16 [==============================] - 0s 3ms/step - loss: 132.6531 - mae: 132.6531 - val_loss: 880.8965 - val_mae: 880.8965\n",
            "Epoch 87/100\n",
            "16/16 [==============================] - 0s 3ms/step - loss: 133.7148 - mae: 133.7148 - val_loss: 850.8314 - val_mae: 850.8314\n",
            "Epoch 88/100\n",
            "16/16 [==============================] - 0s 3ms/step - loss: 133.4250 - mae: 133.4250 - val_loss: 836.8736 - val_mae: 836.8736\n",
            "INFO:tensorflow:Assets written to: model_experiments/model_4_Conv1D/assets\n",
            "Epoch 89/100\n",
            "16/16 [==============================] - 0s 3ms/step - loss: 133.0534 - mae: 133.0534 - val_loss: 841.0650 - val_mae: 841.0650\n",
            "Epoch 90/100\n",
            "16/16 [==============================] - 0s 3ms/step - loss: 132.1424 - mae: 132.1424 - val_loss: 845.6693 - val_mae: 845.6693\n",
            "Epoch 91/100\n",
            "16/16 [==============================] - 0s 3ms/step - loss: 145.3970 - mae: 145.3970 - val_loss: 859.3611 - val_mae: 859.3611\n",
            "Epoch 92/100\n",
            "16/16 [==============================] - 0s 3ms/step - loss: 137.2683 - mae: 137.2683 - val_loss: 1079.8691 - val_mae: 1079.8691\n",
            "Epoch 93/100\n",
            "16/16 [==============================] - 0s 3ms/step - loss: 146.3614 - mae: 146.3614 - val_loss: 872.5347 - val_mae: 872.5347\n",
            "Epoch 94/100\n",
            "16/16 [==============================] - 0s 3ms/step - loss: 137.8071 - mae: 137.8071 - val_loss: 872.7770 - val_mae: 872.7770\n",
            "Epoch 95/100\n",
            "16/16 [==============================] - 0s 3ms/step - loss: 140.6374 - mae: 140.6374 - val_loss: 874.6752 - val_mae: 874.6752\n",
            "Epoch 96/100\n",
            "16/16 [==============================] - 0s 3ms/step - loss: 137.3689 - mae: 137.3689 - val_loss: 873.5654 - val_mae: 873.5654\n",
            "Epoch 97/100\n",
            "16/16 [==============================] - 0s 3ms/step - loss: 137.4064 - mae: 137.4064 - val_loss: 841.1549 - val_mae: 841.1549\n",
            "Epoch 98/100\n",
            "16/16 [==============================] - 0s 3ms/step - loss: 131.9088 - mae: 131.9088 - val_loss: 849.7831 - val_mae: 849.7831\n",
            "Epoch 99/100\n",
            "16/16 [==============================] - 0s 4ms/step - loss: 131.9322 - mae: 131.9322 - val_loss: 865.3318 - val_mae: 865.3318\n",
            "Epoch 100/100\n",
            "16/16 [==============================] - 0s 3ms/step - loss: 134.5113 - mae: 134.5113 - val_loss: 837.3658 - val_mae: 837.3658\n"
          ]
        }
      ]
    },
    {
      "cell_type": "code",
      "metadata": {
        "colab": {
          "base_uri": "https://localhost:8080/"
        },
        "id": "CedpG1MZxmiF",
        "outputId": "aa33262e-2b15-4441-c984-67168cf00735"
      },
      "source": [
        "model_4.summary()"
      ],
      "execution_count": 114,
      "outputs": [
        {
          "output_type": "stream",
          "name": "stdout",
          "text": [
            "Model: \"model_4_Conv1D\"\n",
            "_________________________________________________________________\n",
            "Layer (type)                 Output Shape              Param #   \n",
            "=================================================================\n",
            "lambda_1 (Lambda)            (None, 1, 7)              0         \n",
            "_________________________________________________________________\n",
            "conv1d (Conv1D)              (None, 1, 128)            4608      \n",
            "_________________________________________________________________\n",
            "dense_6 (Dense)              (None, 1, 1)              129       \n",
            "=================================================================\n",
            "Total params: 4,737\n",
            "Trainable params: 4,737\n",
            "Non-trainable params: 0\n",
            "_________________________________________________________________\n"
          ]
        }
      ]
    },
    {
      "cell_type": "code",
      "metadata": {
        "colab": {
          "base_uri": "https://localhost:8080/"
        },
        "id": "1_wPTMofxyiU",
        "outputId": "e46f9f89-c244-4d38-826a-66a17f7dd797"
      },
      "source": [
        "# Evaluate model\n",
        "model_4.evaluate(test_windows, test_labels)"
      ],
      "execution_count": 115,
      "outputs": [
        {
          "output_type": "stream",
          "name": "stdout",
          "text": [
            "16/16 [==============================] - 0s 1ms/step - loss: 837.3658 - mae: 837.3658\n"
          ]
        },
        {
          "output_type": "execute_result",
          "data": {
            "text/plain": [
              "[837.3658447265625, 837.3658447265625]"
            ]
          },
          "metadata": {},
          "execution_count": 115
        }
      ]
    },
    {
      "cell_type": "code",
      "metadata": {
        "colab": {
          "base_uri": "https://localhost:8080/"
        },
        "id": "XQg8Tl9xyURT",
        "outputId": "b683e604-f6fa-48e6-bd39-ef7d956712cf"
      },
      "source": [
        "# Load back in best performing Conv1D and re-evaluate\n",
        "model_4 = tf.keras.models.load_model(\"model_experiments/model_4_Conv1D/\")\n",
        "model_4.evaluate(test_windows, test_labels)"
      ],
      "execution_count": 118,
      "outputs": [
        {
          "output_type": "stream",
          "name": "stdout",
          "text": [
            "16/16 [==============================] - 0s 1ms/step - loss: 836.8736 - mae: 836.8736\n"
          ]
        },
        {
          "output_type": "execute_result",
          "data": {
            "text/plain": [
              "[836.8735961914062, 836.8735961914062]"
            ]
          },
          "metadata": {},
          "execution_count": 118
        }
      ]
    },
    {
      "cell_type": "code",
      "metadata": {
        "colab": {
          "base_uri": "https://localhost:8080/"
        },
        "id": "MTEPzDgty7hn",
        "outputId": "f528953b-e57f-4756-be95-bf0fd8e67b8a"
      },
      "source": [
        "# Make predictions \n",
        "model_4_preds = make_preds(model=model_4,input_data=test_windows)\n",
        "model_4_preds[:10]"
      ],
      "execution_count": 123,
      "outputs": [
        {
          "output_type": "execute_result",
          "data": {
            "text/plain": [
              "<tf.Tensor: shape=(10,), dtype=float32, numpy=\n",
              "array([7578.8857, 7651.944 , 7791.4136, 7813.0796, 8602.43  , 8854.566 ,\n",
              "       8922.33  , 9007.299 , 8980.044 , 8949.289 ], dtype=float32)>"
            ]
          },
          "metadata": {},
          "execution_count": 123
        }
      ]
    },
    {
      "cell_type": "code",
      "metadata": {
        "colab": {
          "base_uri": "https://localhost:8080/"
        },
        "id": "OZZ73UAvydyk",
        "outputId": "5c154479-cd04-442e-edd5-8010bbf41630"
      },
      "source": [
        "# Evaluate predictions \n",
        "model_4_results = evaluate_preds(y_true=tf.squeeze(test_labels), y_pred=model_4_preds)\n",
        "model_4_results"
      ],
      "execution_count": 124,
      "outputs": [
        {
          "output_type": "execute_result",
          "data": {
            "text/plain": [
              "{'mae': 836.8736,\n",
              " 'mape': 2.6400146,\n",
              " 'mase': 1.0093867,\n",
              " 'mse': 1810614.2,\n",
              " 'rmse': 1345.5907}"
            ]
          },
          "metadata": {},
          "execution_count": 124
        }
      ]
    },
    {
      "cell_type": "code",
      "metadata": {
        "colab": {
          "base_uri": "https://localhost:8080/"
        },
        "id": "NYcRvv-I0A5z",
        "outputId": "b215844c-aaac-46f3-afa0-dd662119ff0e"
      },
      "source": [
        "len(test_windows), len(test_labels)"
      ],
      "execution_count": 127,
      "outputs": [
        {
          "output_type": "execute_result",
          "data": {
            "text/plain": [
              "(499, 499)"
            ]
          },
          "metadata": {},
          "execution_count": 127
        }
      ]
    },
    {
      "cell_type": "code",
      "metadata": {
        "colab": {
          "base_uri": "https://localhost:8080/",
          "height": 442
        },
        "id": "6l2tYJ9szZgA",
        "outputId": "b18b7062-61f1-4c8c-af3f-8d21d562eac4"
      },
      "source": [
        "# Plotting model 4 predictions\n",
        "plt.figure(figsize=(12,7))\n",
        "plot_time_series(timesteps=X_test[1:],\n",
        "                 values=test_labels[:,0],\n",
        "                 format='.',\n",
        "                 label=\"Test data\")\n",
        "plot_time_series(timesteps=X_test[1:],\n",
        "                 values=model_4_preds,\n",
        "                 format=\"-\",\n",
        "                 label=\"Predicted\")"
      ],
      "execution_count": 147,
      "outputs": [
        {
          "output_type": "display_data",
          "data": {
            "image/png": "[encoded data removed]",
            "text/plain": [
              "<Figure size 864x504 with 1 Axes>"
            ]
          },
          "metadata": {
            "needs_background": "light"
          }
        }
      ]
    }
  ]
}