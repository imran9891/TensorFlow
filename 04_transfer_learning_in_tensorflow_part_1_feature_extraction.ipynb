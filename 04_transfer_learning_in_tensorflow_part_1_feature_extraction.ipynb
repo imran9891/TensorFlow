{
  "nbformat": 4,
  "nbformat_minor": 0,
  "metadata": {
    "colab": {
      "name": "04-transfer-learning-in-tensorflow-part-1-feature-extraction.ipynb",
      "provenance": [],
      "authorship_tag": "ABX9TyNi6UiBYz4hjMcBJ5701oF4",
      "include_colab_link": true
    },
    "kernelspec": {
      "name": "python3",
      "display_name": "Python 3"
    },
    "language_info": {
      "name": "python"
    },
    "accelerator": "GPU"
  },
  "cells": [
    {
      "cell_type": "markdown",
      "metadata": {
        "id": "view-in-github",
        "colab_type": "text"
      },
      "source": [
        "<a href=\"https://colab.research.google.com/github/imran9891/TensorFlow/blob/main/04_transfer_learning_in_tensorflow_part_1_feature_extraction.ipynb\" target=\"_parent\"><img src=\"https://colab.research.google.com/assets/colab-badge.svg\" alt=\"Open In Colab\"/></a>"
      ]
    },
    {
      "cell_type": "markdown",
      "metadata": {
        "id": "duhJqW5SU-GP"
      },
      "source": [
        "# Transfer Learning with TensorFlow Part 1: Feature Extraction\n",
        "\n",
        "Transfer Learning is leveraging a working model's existing architecture and learned patterns for our own problem.\n",
        "\n",
        "There are two main benefits:\n",
        "\n",
        "1. Can leverage an existing neural network architecture proven to work on problems similar to our own.\n",
        "2. Can leverage a working neural network architecture which has already learnt patterns on similar data to our own, then we can adapt those patterns to our own data."
      ]
    },
    {
      "cell_type": "code",
      "metadata": {
        "colab": {
          "base_uri": "https://localhost:8080/"
        },
        "id": "iKmJGnOUWnAZ",
        "outputId": "d00d93f7-5e50-4c72-97ba-ce82ab36e329"
      },
      "source": [
        "# Are we using a GPU?\n",
        "!nvidia-smi"
      ],
      "execution_count": 1,
      "outputs": [
        {
          "output_type": "stream",
          "text": [
            "Sat Jul 24 21:29:54 2021       \n",
            "+-----------------------------------------------------------------------------+\n",
            "| NVIDIA-SMI 470.42.01    Driver Version: 460.32.03    CUDA Version: 11.2     |\n",
            "|-------------------------------+----------------------+----------------------+\n",
            "| GPU  Name        Persistence-M| Bus-Id        Disp.A | Volatile Uncorr. ECC |\n",
            "| Fan  Temp  Perf  Pwr:Usage/Cap|         Memory-Usage | GPU-Util  Compute M. |\n",
            "|                               |                      |               MIG M. |\n",
            "|===============================+======================+======================|\n",
            "|   0  Tesla T4            Off  | 00000000:00:04.0 Off |                    0 |\n",
            "| N/A   38C    P8     9W /  70W |      0MiB / 15109MiB |      0%      Default |\n",
            "|                               |                      |                  N/A |\n",
            "+-------------------------------+----------------------+----------------------+\n",
            "                                                                               \n",
            "+-----------------------------------------------------------------------------+\n",
            "| Processes:                                                                  |\n",
            "|  GPU   GI   CI        PID   Type   Process name                  GPU Memory |\n",
            "|        ID   ID                                                   Usage      |\n",
            "|=============================================================================|\n",
            "|  No running processes found                                                 |\n",
            "+-----------------------------------------------------------------------------+\n"
          ],
          "name": "stdout"
        }
      ]
    },
    {
      "cell_type": "markdown",
      "metadata": {
        "id": "LAJycxhaXWhC"
      },
      "source": [
        "## Downloading and become one with the data"
      ]
    },
    {
      "cell_type": "code",
      "metadata": {
        "colab": {
          "base_uri": "https://localhost:8080/"
        },
        "id": "qpwlAjVbW-D9",
        "outputId": "571d7ee3-19f0-4316-ae5b-b33fdadd76c6"
      },
      "source": [
        "# Get data (10 % of 10 Food classes from Food101)\n",
        "import zipfile\n",
        "\n",
        "# Download the data\n",
        "!wget \"https://storage.googleapis.com/ztm_tf_course/food_vision/10_food_classes_10_percent.zip\"\n",
        "\n",
        "# Unzip the downloaded file\n",
        "zip_ref = zipfile.ZipFile(\"10_food_classes_10_percent.zip\")\n",
        "zip_ref.extractall()\n",
        "zip_ref.close()"
      ],
      "execution_count": 2,
      "outputs": [
        {
          "output_type": "stream",
          "text": [
            "--2021-07-24 21:30:10--  https://storage.googleapis.com/ztm_tf_course/food_vision/10_food_classes_10_percent.zip\n",
            "Resolving storage.googleapis.com (storage.googleapis.com)... 142.250.188.48, 142.251.45.16, 142.250.81.208, ...\n",
            "Connecting to storage.googleapis.com (storage.googleapis.com)|142.250.188.48|:443... connected.\n",
            "HTTP request sent, awaiting response... 200 OK\n",
            "Length: 168546183 (161M) [application/zip]\n",
            "Saving to: ‘10_food_classes_10_percent.zip’\n",
            "\n",
            "10_food_classes_10_ 100%[===================>] 160.74M   215MB/s    in 0.7s    \n",
            "\n",
            "2021-07-24 21:30:11 (215 MB/s) - ‘10_food_classes_10_percent.zip’ saved [168546183/168546183]\n",
            "\n"
          ],
          "name": "stdout"
        }
      ]
    },
    {
      "cell_type": "code",
      "metadata": {
        "colab": {
          "base_uri": "https://localhost:8080/"
        },
        "id": "wBpXMwkXXtUq",
        "outputId": "3cd69d1f-85a5-40fd-d4a3-b3a54de68fe1"
      },
      "source": [
        "# How many images in each folder?\n",
        "import os\n",
        "\n",
        "# Walk through 10 percent data directory and list number of files\n",
        "for dirpath, dirnames, filenames in os.walk(\"10_food_classes_10_percent\"):\n",
        "  print(f\"There are {len(dirnames)} folders and {len(filenames)} images in {dirpath}. \")"
      ],
      "execution_count": 3,
      "outputs": [
        {
          "output_type": "stream",
          "text": [
            "There are 2 folders and 0 images in 10_food_classes_10_percent. \n",
            "There are 10 folders and 0 images in 10_food_classes_10_percent/test. \n",
            "There are 0 folders and 250 images in 10_food_classes_10_percent/test/pizza. \n",
            "There are 0 folders and 250 images in 10_food_classes_10_percent/test/fried_rice. \n",
            "There are 0 folders and 250 images in 10_food_classes_10_percent/test/steak. \n",
            "There are 0 folders and 250 images in 10_food_classes_10_percent/test/hamburger. \n",
            "There are 0 folders and 250 images in 10_food_classes_10_percent/test/chicken_wings. \n",
            "There are 0 folders and 250 images in 10_food_classes_10_percent/test/sushi. \n",
            "There are 0 folders and 250 images in 10_food_classes_10_percent/test/chicken_curry. \n",
            "There are 0 folders and 250 images in 10_food_classes_10_percent/test/grilled_salmon. \n",
            "There are 0 folders and 250 images in 10_food_classes_10_percent/test/ice_cream. \n",
            "There are 0 folders and 250 images in 10_food_classes_10_percent/test/ramen. \n",
            "There are 10 folders and 0 images in 10_food_classes_10_percent/train. \n",
            "There are 0 folders and 75 images in 10_food_classes_10_percent/train/pizza. \n",
            "There are 0 folders and 75 images in 10_food_classes_10_percent/train/fried_rice. \n",
            "There are 0 folders and 75 images in 10_food_classes_10_percent/train/steak. \n",
            "There are 0 folders and 75 images in 10_food_classes_10_percent/train/hamburger. \n",
            "There are 0 folders and 75 images in 10_food_classes_10_percent/train/chicken_wings. \n",
            "There are 0 folders and 75 images in 10_food_classes_10_percent/train/sushi. \n",
            "There are 0 folders and 75 images in 10_food_classes_10_percent/train/chicken_curry. \n",
            "There are 0 folders and 75 images in 10_food_classes_10_percent/train/grilled_salmon. \n",
            "There are 0 folders and 75 images in 10_food_classes_10_percent/train/ice_cream. \n",
            "There are 0 folders and 75 images in 10_food_classes_10_percent/train/ramen. \n"
          ],
          "name": "stdout"
        }
      ]
    },
    {
      "cell_type": "markdown",
      "metadata": {
        "id": "3hRUX4O6Y1pu"
      },
      "source": [
        "## Creating data loaders (preparing the data)\n",
        "\n",
        "We'll use the `ImageDataGenerator` class to load in our images in batches."
      ]
    },
    {
      "cell_type": "code",
      "metadata": {
        "colab": {
          "base_uri": "https://localhost:8080/"
        },
        "id": "oX90TMcdZjte",
        "outputId": "3571a65b-8795-46ad-c133-9c7b428fdc16"
      },
      "source": [
        "# Set up data inputs\n",
        "from tensorflow.keras.preprocessing.image import ImageDataGenerator\n",
        "\n",
        "IMAGE_SHAPE = (224,224)\n",
        "BATCH_SIZE = 32\n",
        "\n",
        "# Setup the directories\n",
        "train_dir = \"10_food_classes_10_percent/train/\"\n",
        "test_dir = \"10_food_classes_10_percent/test/\"\n",
        "\n",
        "train_datagen = ImageDataGenerator(rescale = 1/255.)\n",
        "test_datagen = ImageDataGenerator(rescale = 1/255.)\n",
        "\n",
        "print(\"Training images:\")\n",
        "train_data_10_percent = train_datagen.flow_from_directory(directory = train_dir,\n",
        "                                                          target_size = IMAGE_SHAPE,\n",
        "                                                          class_mode=\"categorical\",\n",
        "                                                          batch_size = BATCH_SIZE)\n",
        "print(\"Testing images:\")\n",
        "test_data = test_datagen.flow_from_directory(directory = test_dir,\n",
        "                                             target_size = IMAGE_SHAPE,\n",
        "                                             class_mode = \"categorical\",\n",
        "                                             batch_size = BATCH_SIZE)"
      ],
      "execution_count": 4,
      "outputs": [
        {
          "output_type": "stream",
          "text": [
            "Training images:\n",
            "Found 750 images belonging to 10 classes.\n",
            "Testing images:\n",
            "Found 2500 images belonging to 10 classes.\n"
          ],
          "name": "stdout"
        }
      ]
    },
    {
      "cell_type": "markdown",
      "metadata": {
        "id": "yxwZMHYKasFt"
      },
      "source": [
        "## Setting up callbacks (things to run whilst our model trains)\n",
        "\n",
        "Callbacks are extra functionality we can add to our models to be performed during or after training. Some of the most popular callbacks:\n",
        "\n",
        "* Tracking experiments with the TensorBoard callback - log the performance of multiple models and then view and compare these models in a visual way on TensorBoard (a dashboard for inspecting nueral network paramenters). Helpful to compare the results of different models on your data.\n",
        "* Model checkpoint with the ModelCheckpointing callback - save your model as it trains so you can stop training if needed and come back to continue off where you left. Helpful if training takes a long time and can't be done on one sitting.\n",
        "* Stopping a model from training (before it trains too long and overfits) with the EarlyStopping callback - Leave your model training for an arbitrary amount of time and have it stop automatically when it ceases to improve. Helpful when you've got a large dataset and don't know how long training will take."
      ]
    },
    {
      "cell_type": "code",
      "metadata": {
        "id": "5FksrlpDb3VG"
      },
      "source": [
        "# Create TensorBoard Callback (functionized because we need to create a new one for each model)\n",
        "import datetime\n",
        "\n",
        "def create_tensorboard_callback(dir_name, exp_name):\n",
        "  log_dir = dir_name + \"/\" + exp_name + \"/\" + datetime.datetime.now().strftime(\"%Y%m%d-%H%M%S\")\n",
        "  tensorboard_callback = tf.keras.callbacks.TensorBoard(log_dir = log_dir)\n",
        "  print(f\"Saving tensorboard log file to: {log_dir}\")\n",
        "  return tensorboard_callback"
      ],
      "execution_count": 5,
      "outputs": []
    },
    {
      "cell_type": "markdown",
      "metadata": {
        "id": "YgtI7TCZipeu"
      },
      "source": [
        "**Note:** You can customize the directory where your TensorBoard logs (model training metrics) get saved to whatever you like. The `log_dir` parameter we've created above is only one option."
      ]
    },
    {
      "cell_type": "markdown",
      "metadata": {
        "id": "Thog9FxplL8B"
      },
      "source": [
        "## Creating models using TensorFlow Hub\n",
        "\n",
        "In the past, we've used TensorFlow to create our own models layer by layer from scratch.\n",
        "\n",
        "Now we're going to do a similar process, except the majority of our model's layers are going to come from TensorFlow Hub. \n",
        "\n",
        "We can access pretrained models on: https://tfhub.dev/\n",
        "\n",
        "Browsing the TensorFlow Hub page and sorting for image classification, we found the following feature vector model link: https://tfhub.dev/tensorflow/efficientnet/b0/feature-vector/1"
      ]
    },
    {
      "cell_type": "code",
      "metadata": {
        "id": "Pf7qcI5HlUTZ"
      },
      "source": [
        "# Let's compare the following two models\n",
        "resnet_url = \"https://tfhub.dev/google/imagenet/resnet_v2_50/feature_vector/5\"\n",
        "efficientnet_url = \"https://tfhub.dev/tensorflow/efficientnet/b0/feature-vector/1\""
      ],
      "execution_count": 6,
      "outputs": []
    },
    {
      "cell_type": "code",
      "metadata": {
        "id": "JZ-R0HFF1VUj"
      },
      "source": [
        "# Import dependencies\n",
        "import tensorflow as tf\n",
        "import tensorflow_hub as hub\n",
        "from tensorflow.keras import layers"
      ],
      "execution_count": 7,
      "outputs": []
    },
    {
      "cell_type": "code",
      "metadata": {
        "colab": {
          "base_uri": "https://localhost:8080/"
        },
        "id": "fi8YL45P41ry",
        "outputId": "c77bbdb3-32be-4a10-bd0d-61cbe5a7369f"
      },
      "source": [
        "IMAGE_SHAPE+(3,)"
      ],
      "execution_count": 8,
      "outputs": [
        {
          "output_type": "execute_result",
          "data": {
            "text/plain": [
              "(224, 224, 3)"
            ]
          },
          "metadata": {
            "tags": []
          },
          "execution_count": 8
        }
      ]
    },
    {
      "cell_type": "code",
      "metadata": {
        "id": "mEMKHJdC2Kp5"
      },
      "source": [
        "# Let's make a create_model function to create a model from a URL\n",
        "def create_model(model_url,num_classes=10):\n",
        "  \"\"\"\n",
        "  Takes a TensorFlow Hub URL and creates a Keras Sequential model with it.\n",
        "\n",
        "  Args:\n",
        "  model_url (str): A TensorFlow Hub feature extraction URL.\n",
        "  num_classes (int): Number of output neurons in the output layer,\n",
        "    should be equal to number of target classes, default 10.\n",
        "\n",
        "  Returns:\n",
        "  An uncompiled Keras Sequential model with model_url as feature extractor\n",
        "  layer and Dense output layer with num_classes output neurons.\n",
        "  \"\"\"\n",
        "  # Download the pretrained model and save it as a Keras layer\n",
        "  feature_extractor_layer = hub.KerasLayer(model_url,\n",
        "                                           trainable=False, # freeze the already learned patterns\n",
        "                                           name=\"feature_extraction_layer\",\n",
        "                                           input_shape = IMAGE_SHAPE+(3,))\n",
        "  \n",
        "  # Create our own model\n",
        "  model = tf.keras.Sequential([\n",
        "    feature_extractor_layer,\n",
        "    layers.Dense(num_classes,activation=\"softmax\",name=\"output_layer\")\n",
        "  ])\n",
        "\n",
        "  return model\n"
      ],
      "execution_count": 9,
      "outputs": []
    },
    {
      "cell_type": "markdown",
      "metadata": {
        "id": "lVdgc0qY6kdo"
      },
      "source": [
        "### Creating and testing ResNet TensorFlow Hub Feature Extraction model"
      ]
    },
    {
      "cell_type": "code",
      "metadata": {
        "id": "Jyj5uQdL6dVH"
      },
      "source": [
        "# Create ResNet model\n",
        "resnet_model = create_model(resnet_url,\n",
        "             num_classes=train_data_10_percent.num_classes)"
      ],
      "execution_count": 10,
      "outputs": []
    },
    {
      "cell_type": "code",
      "metadata": {
        "colab": {
          "base_uri": "https://localhost:8080/"
        },
        "id": "-cA1kPsX7lfK",
        "outputId": "0e33e3fc-c926-4d49-b91d-10b008c6ae76"
      },
      "source": [
        "resnet_model.summary()"
      ],
      "execution_count": 11,
      "outputs": [
        {
          "output_type": "stream",
          "text": [
            "Model: \"sequential\"\n",
            "_________________________________________________________________\n",
            "Layer (type)                 Output Shape              Param #   \n",
            "=================================================================\n",
            "feature_extraction_layer (Ke (None, 2048)              23564800  \n",
            "_________________________________________________________________\n",
            "output_layer (Dense)         (None, 10)                20490     \n",
            "=================================================================\n",
            "Total params: 23,585,290\n",
            "Trainable params: 20,490\n",
            "Non-trainable params: 23,564,800\n",
            "_________________________________________________________________\n"
          ],
          "name": "stdout"
        }
      ]
    },
    {
      "cell_type": "code",
      "metadata": {
        "id": "XKIrGHp28u93"
      },
      "source": [
        "# Compile our resnet model\n",
        "resnet_model.compile(\n",
        "    loss = tf.keras.losses.CategoricalCrossentropy(),\n",
        "    optimizer = tf.keras.optimizers.Adam(),\n",
        "    metrics = [\"accuracy\"]\n",
        ")"
      ],
      "execution_count": 12,
      "outputs": []
    },
    {
      "cell_type": "code",
      "metadata": {
        "colab": {
          "base_uri": "https://localhost:8080/"
        },
        "id": "VCY4_tak9r3S",
        "outputId": "46fe27e4-4da9-410e-e15f-5c0c9f9ef2ab"
      },
      "source": [
        "# Fit the model (ResNet Model with 10 percent of 10 classes)\n",
        "resnet_history = resnet_model.fit(train_data_10_percent,\n",
        "                                  epochs=5,\n",
        "                                  steps_per_epoch = len(train_data_10_percent),\n",
        "                                  validation_data = test_data,\n",
        "                                  validation_steps = len(test_data),\n",
        "                                  callbacks = [create_tensorboard_callback(dir_name=\"Tensorboard\",\n",
        "                                                                          exp_name=\"resnet_model\")])"
      ],
      "execution_count": 13,
      "outputs": [
        {
          "output_type": "stream",
          "text": [
            "Saving tensorboard log file to: Tensorboard/resnet_model/20210724-213142\n",
            "Epoch 1/5\n",
            "24/24 [==============================] - 51s 763ms/step - loss: 1.9641 - accuracy: 0.3613 - val_loss: 1.2534 - val_accuracy: 0.5872\n",
            "Epoch 2/5\n",
            "24/24 [==============================] - 24s 1s/step - loss: 0.8772 - accuracy: 0.7467 - val_loss: 0.8558 - val_accuracy: 0.7296\n",
            "Epoch 3/5\n",
            "24/24 [==============================] - 15s 657ms/step - loss: 0.6087 - accuracy: 0.8293 - val_loss: 0.7649 - val_accuracy: 0.7504\n",
            "Epoch 4/5\n",
            "24/24 [==============================] - 15s 653ms/step - loss: 0.4641 - accuracy: 0.8827 - val_loss: 0.7006 - val_accuracy: 0.7784\n",
            "Epoch 5/5\n",
            "24/24 [==============================] - 15s 661ms/step - loss: 0.3723 - accuracy: 0.9133 - val_loss: 0.6710 - val_accuracy: 0.7820\n"
          ],
          "name": "stdout"
        }
      ]
    },
    {
      "cell_type": "markdown",
      "metadata": {
        "id": "mXErvg3D-mvz"
      },
      "source": [
        "Wow!\n",
        "\n",
        "That is incredible. Our transfer learning feature extractor model out performed ALL of the previous models we built by hand...(substantially) and in a quicker training time and with only 10% of the training examples."
      ]
    },
    {
      "cell_type": "code",
      "metadata": {
        "id": "2-tbyWrtCnSX"
      },
      "source": [
        "# Let's create a function to plot our loss curves\n",
        "import matplotlib.pyplot as plt\n",
        "def plot_loss_curve(model_history):\n",
        "  \"\"\"\n",
        "  Plots the Training and Validation Loss Curves\n",
        "  Also plots the Training and Validation Accuracy curves\n",
        "\n",
        "  Parameters:\n",
        "  model_history: history of the model compiled and fitted\n",
        "  on the training data\n",
        "  \"\"\"\n",
        "  epochs = range(len(model_history.history[\"loss\"]))\n",
        "\n",
        "  training_loss = model_history.history[\"loss\"]\n",
        "  validation_loss = model_history.history[\"val_loss\"]\n",
        "\n",
        "  training_acc = model_history.history[\"accuracy\"]\n",
        "  validation_acc = model_history.history[\"val_accuracy\"]\n",
        "\n",
        "  plt.plot(epochs, training_loss, label=\"Training Loss\")\n",
        "  plt.plot(epochs, validation_loss, label=\"Validation Loss\")\n",
        "  plt.title(\"Training Loss curves\")\n",
        "  plt.xlabel(\"Epochs\")\n",
        "  plt.legend()\n",
        "\n",
        "  plt.figure()\n",
        "  plt.plot(epochs, training_acc, label=\"Training Accuracy\")\n",
        "  plt.plot(epochs, validation_acc, label=\"Validation Accuracy\")\n",
        "  plt.title(\"Training Accuracy curves\")\n",
        "  plt.xlabel(\"Epochs\")\n",
        "  plt.legend()"
      ],
      "execution_count": 14,
      "outputs": []
    },
    {
      "cell_type": "code",
      "metadata": {
        "colab": {
          "base_uri": "https://localhost:8080/",
          "height": 573
        },
        "id": "j2SPQrvuEvX7",
        "outputId": "276033e5-ece7-42c0-d4f3-108b299631c2"
      },
      "source": [
        "plot_loss_curve(resnet_history)"
      ],
      "execution_count": 15,
      "outputs": [
        {
          "output_type": "display_data",
          "data": {
            "image/png": "[encoded data removed]",
            "text/plain": [
              "<Figure size 432x288 with 1 Axes>"
            ]
          },
          "metadata": {
            "tags": [],
            "needs_background": "light"
          }
        },
        {
          "output_type": "display_data",
          "data": {
            "image/png": "[encoded data removed]",
            "text/plain": [
              "<Figure size 432x288 with 1 Axes>"
            ]
          },
          "metadata": {
            "tags": [],
            "needs_background": "light"
          }
        }
      ]
    },
    {
      "cell_type": "markdown",
      "metadata": {
        "id": "22n4CGMYJ3u3"
      },
      "source": [
        "### Creating and testing EfficientNetB0 TensorFlow Hub Feature Extraction model"
      ]
    },
    {
      "cell_type": "code",
      "metadata": {
        "id": "AzeYZfJ9E7hO"
      },
      "source": [
        "# Create EfficientNetB0 feature extracor model\n",
        "efficient_model = create_model(efficientnet_url,\n",
        "                               num_classes=train_data_10_percent.num_classes)"
      ],
      "execution_count": 16,
      "outputs": []
    },
    {
      "cell_type": "code",
      "metadata": {
        "id": "CtSTOvgNMWbR"
      },
      "source": [
        "# Compile the model\n",
        "efficient_model.compile(\n",
        "    loss = tf.keras.losses.CategoricalCrossentropy(),\n",
        "    optimizer = tf.keras.optimizers.Adam(),\n",
        "    metrics=[\"accuracy\"]\n",
        ")"
      ],
      "execution_count": 17,
      "outputs": []
    },
    {
      "cell_type": "code",
      "metadata": {
        "colab": {
          "base_uri": "https://localhost:8080/"
        },
        "id": "Jd7nfBXHMnUS",
        "outputId": "9c486e0c-39ea-4d19-f9fe-21f64fafdef4"
      },
      "source": [
        "# Fit the model\n",
        "efficient_history = efficient_model.fit(train_data_10_percent,\n",
        "                                        epochs=5,\n",
        "                                        steps_per_epoch=len(train_data_10_percent),\n",
        "                                        validation_data=test_data,\n",
        "                                        validation_steps=len(test_data),\n",
        "                                        callbacks=[create_tensorboard_callback(dir_name=\"Tensorboard\",exp_name=\"effnetB050\")])"
      ],
      "execution_count": 18,
      "outputs": [
        {
          "output_type": "stream",
          "text": [
            "Saving tensorboard log file to: Tensorboard/effnetB050/20210724-213418\n",
            "Epoch 1/5\n",
            "24/24 [==============================] - 25s 774ms/step - loss: 1.8368 - accuracy: 0.4293 - val_loss: 1.2837 - val_accuracy: 0.7436\n",
            "Epoch 2/5\n",
            "24/24 [==============================] - 16s 666ms/step - loss: 1.0482 - accuracy: 0.7733 - val_loss: 0.8458 - val_accuracy: 0.8308\n",
            "Epoch 3/5\n",
            "24/24 [==============================] - 16s 673ms/step - loss: 0.7379 - accuracy: 0.8440 - val_loss: 0.6808 - val_accuracy: 0.8532\n",
            "Epoch 4/5\n",
            "24/24 [==============================] - 15s 652ms/step - loss: 0.5928 - accuracy: 0.8787 - val_loss: 0.5959 - val_accuracy: 0.8620\n",
            "Epoch 5/5\n",
            "24/24 [==============================] - 15s 664ms/step - loss: 0.5005 - accuracy: 0.8973 - val_loss: 0.5448 - val_accuracy: 0.8652\n"
          ],
          "name": "stdout"
        }
      ]
    },
    {
      "cell_type": "code",
      "metadata": {
        "colab": {
          "base_uri": "https://localhost:8080/",
          "height": 573
        },
        "id": "YmajPoLoNWUl",
        "outputId": "283609f9-61d4-4c79-a1b2-016fef24e4fc"
      },
      "source": [
        "plot_loss_curve(efficient_history)"
      ],
      "execution_count": 19,
      "outputs": [
        {
          "output_type": "display_data",
          "data": {
            "image/png": "[encoded data removed]",
            "text/plain": [
              "<Figure size 432x288 with 1 Axes>"
            ]
          },
          "metadata": {
            "tags": [],
            "needs_background": "light"
          }
        },
        {
          "output_type": "display_data",
          "data": {
            "image/png": "[encoded data removed]",
            "text/plain": [
              "<Figure size 432x288 with 1 Axes>"
            ]
          },
          "metadata": {
            "tags": [],
            "needs_background": "light"
          }
        }
      ]
    },
    {
      "cell_type": "code",
      "metadata": {
        "colab": {
          "base_uri": "https://localhost:8080/"
        },
        "id": "AuxKqibVO2kr",
        "outputId": "3a5fe1c6-61bf-4b0e-95e0-7d655caa81d7"
      },
      "source": [
        "efficient_model.summary()"
      ],
      "execution_count": 20,
      "outputs": [
        {
          "output_type": "stream",
          "text": [
            "Model: \"sequential_1\"\n",
            "_________________________________________________________________\n",
            "Layer (type)                 Output Shape              Param #   \n",
            "=================================================================\n",
            "feature_extraction_layer (Ke (None, 1280)              4049564   \n",
            "_________________________________________________________________\n",
            "output_layer (Dense)         (None, 10)                12810     \n",
            "=================================================================\n",
            "Total params: 4,062,374\n",
            "Trainable params: 12,810\n",
            "Non-trainable params: 4,049,564\n",
            "_________________________________________________________________\n"
          ],
          "name": "stdout"
        }
      ]
    },
    {
      "cell_type": "code",
      "metadata": {
        "colab": {
          "base_uri": "https://localhost:8080/"
        },
        "id": "l174Cas1Nu7S",
        "outputId": "d8b13703-467e-424d-b445-dc33c65d4615"
      },
      "source": [
        "resnet_model.summary()"
      ],
      "execution_count": 21,
      "outputs": [
        {
          "output_type": "stream",
          "text": [
            "Model: \"sequential\"\n",
            "_________________________________________________________________\n",
            "Layer (type)                 Output Shape              Param #   \n",
            "=================================================================\n",
            "feature_extraction_layer (Ke (None, 2048)              23564800  \n",
            "_________________________________________________________________\n",
            "output_layer (Dense)         (None, 10)                20490     \n",
            "=================================================================\n",
            "Total params: 23,585,290\n",
            "Trainable params: 20,490\n",
            "Non-trainable params: 23,564,800\n",
            "_________________________________________________________________\n"
          ],
          "name": "stdout"
        }
      ]
    },
    {
      "cell_type": "markdown",
      "metadata": {
        "id": "ciV1yOc2PUyE"
      },
      "source": [
        "## Different types of transfer learning\n",
        "\n",
        "* **\"As is\" transfer learning** - using an existing model with no change whatsoever (e.g. using ImageNet model on 1000 ImageNet classes, none of your own)\n",
        "* **Feature Extraction\" transfer learning** - use the pre-learned patterns of an existing model (e.g. EfficientNetB0 trained on ImageNet) and adjust the output layer for your own problem (e.g. 1000 classes of ImageNet -> 10 classes of Food)\n",
        "* **\"Fine-tuning\" transfer learning** - use the pre-learned patterns of an existing model and \"fine-tune\" many or all of the under-lying layers (including new output layers)"
      ]
    },
    {
      "cell_type": "code",
      "metadata": {
        "colab": {
          "base_uri": "https://localhost:8080/"
        },
        "id": "ICOoSpITQ__I",
        "outputId": "6b47df6c-5195-4a6f-d3aa-2c117615b554"
      },
      "source": [
        "# How many layers does our efficientnetB0 feature extractor have?\n",
        "len(efficient_model.layers[0].weights)"
      ],
      "execution_count": 22,
      "outputs": [
        {
          "output_type": "execute_result",
          "data": {
            "text/plain": [
              "309"
            ]
          },
          "metadata": {
            "tags": []
          },
          "execution_count": 22
        }
      ]
    },
    {
      "cell_type": "markdown",
      "metadata": {
        "id": "M4oAOLBHRqyt"
      },
      "source": [
        "## Comparing our models results using TensorBoard\n",
        "\n",
        "> **Note:** When you upload things to TensorBoard.dev, your experiments are public. So, if you're running private experiments (things you don't want others to see) do not upload them to TensorBoard.dev"
      ]
    },
    {
      "cell_type": "code",
      "metadata": {
        "id": "r0PsgQrdTNBC"
      },
      "source": [
        "# Upload TensorBoard dev records\n",
        "!tensorboard dev upload --logdir ./Tensorboard/ \\\n",
        "  --name \"EfficientNetB0 vs. ResNet50V2\" \\\n",
        "  --description \"Comparing two different TF Hub  feature extraction model architectures using 10% of the training data\" \\\n",
        "  --one_shot"
      ],
      "execution_count": null,
      "outputs": []
    },
    {
      "cell_type": "markdown",
      "metadata": {
        "id": "94tT1ECQVwCa"
      },
      "source": [
        "Our tensorboard experiments are uploaded publically here: https://tensorboard.dev/experiment/gqBgqdLbQlmuXiwyGRdkkA/"
      ]
    },
    {
      "cell_type": "code",
      "metadata": {
        "colab": {
          "base_uri": "https://localhost:8080/"
        },
        "id": "jTTT-Q18WE2C",
        "outputId": "274db1bc-1aa9-4baf-e873-c208ec2b02aa"
      },
      "source": [
        "# Check out what TensorBoard experiments you have\n",
        "!tensorboard dev list"
      ],
      "execution_count": 30,
      "outputs": [
        {
          "output_type": "stream",
          "text": [
            "2021-07-24 21:13:51.713860: I tensorflow/stream_executor/platform/default/dso_loader.cc:53] Successfully opened dynamic library libcudart.so.11.0\n",
            "Data for the \"text\" plugin is now uploaded to TensorBoard.dev! Note that uploaded data is public. If you do not want to upload data for this plugin, use the \"--plugins\" command line argument.\n",
            "https://tensorboard.dev/experiment/gqBgqdLbQlmuXiwyGRdkkA/\n",
            "\tName                 EfficientNetB0 vs. ResNet50V2\n",
            "\tDescription          Comparing two different TF Hub  feature extraction model architectures using 10% of the training data\n",
            "\tId                   gqBgqdLbQlmuXiwyGRdkkA\n",
            "\tCreated              2021-07-24 21:06:52 (7 minutes ago)\n",
            "\tUpdated              2021-07-24 21:06:55 (7 minutes ago)\n",
            "\tRuns                 4\n",
            "\tTags                 5\n",
            "\tScalars              60\n",
            "\tTensor bytes         0\n",
            "\tBinary object bytes  5963064\n",
            "Total: 1 experiment(s)\n"
          ],
          "name": "stdout"
        }
      ]
    },
    {
      "cell_type": "code",
      "metadata": {
        "id": "g1yd2NQ_XfwE"
      },
      "source": [
        "# Delete an experiment\n",
        "# !tensorboard dev delete --experiment_id xxxxxxxxxxxx"
      ],
      "execution_count": null,
      "outputs": []
    }
  ]
}